{
  "cells": [
    {
      "cell_type": "markdown",
      "metadata": {
        "id": "FJpHthE60TBJ"
      },
      "source": [
        "# 가상 스크리닝\n",
        "\n",
        "- ERK2 단백질을 억제하는 분자를 예측하는 모델을 만든다\n",
        " - extracellular signal-regulated kinase (다수의 생화학적 신호에 관여하고 세포의 증식 분화 전사조절에 관여한다)\n",
        " - 비소세포성 폐암 non-small cell lung cancer과 흑색종(피부암)에 대해 임상시험중\n",
        "\n",
        "- 그래프 합성곱 모델 사용\n",
        "- DUD-E 데이터베이스에서 활성 및 비활성 분자 데이터 사용\n",
        "- 특성값 추가하기"
      ]
    },
    {
      "cell_type": "markdown",
      "source": [
        "# import"
      ],
      "metadata": {
        "id": "2OpzBVDCDT3t"
      }
    },
    {
      "cell_type": "code",
      "execution_count": 1,
      "metadata": {
        "colab": {
          "base_uri": "https://localhost:8080/"
        },
        "id": "bd95Jgdy2As-",
        "outputId": "2b3d0a2f-ffd7-4473-891d-19b427813f69"
      },
      "outputs": [
        {
          "output_type": "stream",
          "name": "stdout",
          "text": [
            "Looking in indexes: https://pypi.org/simple, https://us-python.pkg.dev/colab-wheels/public/simple/\n",
            "Collecting DeepChem\n",
            "  Downloading deepchem-2.6.1-py3-none-any.whl (608 kB)\n",
            "\u001b[K     |████████████████████████████████| 608 kB 4.7 MB/s \n",
            "\u001b[?25hRequirement already satisfied: scipy in /usr/local/lib/python3.7/dist-packages (from DeepChem) (1.7.3)\n",
            "Requirement already satisfied: joblib in /usr/local/lib/python3.7/dist-packages (from DeepChem) (1.2.0)\n",
            "Requirement already satisfied: numpy>=1.21 in /usr/local/lib/python3.7/dist-packages (from DeepChem) (1.21.6)\n",
            "Collecting rdkit-pypi\n",
            "  Downloading rdkit_pypi-2022.9.1-cp37-cp37m-manylinux_2_17_x86_64.manylinux2014_x86_64.whl (29.5 MB)\n",
            "\u001b[K     |████████████████████████████████| 29.5 MB 1.5 MB/s \n",
            "\u001b[?25hRequirement already satisfied: scikit-learn in /usr/local/lib/python3.7/dist-packages (from DeepChem) (1.0.2)\n",
            "Requirement already satisfied: pandas in /usr/local/lib/python3.7/dist-packages (from DeepChem) (1.3.5)\n",
            "Requirement already satisfied: python-dateutil>=2.7.3 in /usr/local/lib/python3.7/dist-packages (from pandas->DeepChem) (2.8.2)\n",
            "Requirement already satisfied: pytz>=2017.3 in /usr/local/lib/python3.7/dist-packages (from pandas->DeepChem) (2022.6)\n",
            "Requirement already satisfied: six>=1.5 in /usr/local/lib/python3.7/dist-packages (from python-dateutil>=2.7.3->pandas->DeepChem) (1.15.0)\n",
            "Requirement already satisfied: Pillow in /usr/local/lib/python3.7/dist-packages (from rdkit-pypi->DeepChem) (7.1.2)\n",
            "Requirement already satisfied: threadpoolctl>=2.0.0 in /usr/local/lib/python3.7/dist-packages (from scikit-learn->DeepChem) (3.1.0)\n",
            "Installing collected packages: rdkit-pypi, DeepChem\n",
            "Successfully installed DeepChem-2.6.1 rdkit-pypi-2022.9.1\n"
          ]
        }
      ],
      "source": [
        "!pip install DeepChem"
      ]
    },
    {
      "cell_type": "code",
      "execution_count": 2,
      "metadata": {
        "id": "UGcjm8HGz4yT"
      },
      "outputs": [],
      "source": [
        "import deepchem as dc\n",
        "from rdkit import Chem\n",
        "from rdkit.Chem import AllChem\n",
        "from rdkit.Chem import Draw\n",
        "from rdkit.Chem.Draw import IPythonConsole\n",
        "from rdkit.Chem import PandasTools\n",
        "from rdkit.Chem import Descriptors\n",
        "from rdkit.Chem import rdmolops\n",
        "from rdkit import DataStructs\n",
        "from rdkit.ML.Cluster import Butina\n",
        "from rdkit.Chem import rdMolDescriptors as rdmd\n",
        "from deepchem.models import GraphConvModel\n"
      ]
    },
    {
      "cell_type": "code",
      "source": [
        "import numpy as np\n",
        "import pandas as pd\n",
        "import sys\n",
        "import seaborn as sns\n",
        "%config InlineBackend.figure_format = 'retina'\n",
        "from tqdm.auto import tqdm"
      ],
      "metadata": {
        "id": "WtF6y49KFIN4"
      },
      "execution_count": 3,
      "outputs": []
    },
    {
      "cell_type": "code",
      "execution_count": 4,
      "metadata": {
        "id": "j8gfrBZaOG6V"
      },
      "outputs": [],
      "source": [
        "import warnings\n",
        "warnings.filterwarnings(\"ignore\")"
      ]
    },
    {
      "cell_type": "markdown",
      "source": [
        "# 데이터\n",
        "\n",
        "- 분자 데이터는 SMILES 형식이다. 이를 데이터프레임에 불러온다\n",
        "- AddMoleculeColumnToFrame()를 사용해 SMILES에 해당하는 Mol 객체를 데이터프레임이 추가한다"
      ],
      "metadata": {
        "id": "PzA-0qesDcZS"
      }
    },
    {
      "cell_type": "code",
      "execution_count": 5,
      "metadata": {
        "id": "CPqIv1_8z4yU",
        "colab": {
          "base_uri": "https://localhost:8080/",
          "height": 161
        },
        "outputId": "8ba9c6bd-776a-46f8-c708-455b78a99e7a"
      },
      "outputs": [
        {
          "output_type": "stream",
          "name": "stdout",
          "text": [
            "(79, 3)\n"
          ]
        },
        {
          "output_type": "execute_result",
          "data": {
            "text/plain": [
              "                                                   0       1             2\n",
              "0  Cn1ccnc1Sc2ccc(cc2Cl)Nc3c4cc(c(cc4ncc3C#N)OCCC...  168691  CHEMBL318804\n",
              "1  C[C@@]12[C@@H]([C@@H](CC(O1)n3c4ccccc4c5c3c6n2...   86358     CHEMBL162\n",
              "2  Cc1cnc(nc1c2cc([nH]c2)C(=O)N[C@H](CO)c3cccc(c3...  575087  CHEMBL576683"
            ],
            "text/html": [
              "\n",
              "  <div id=\"df-84351b6b-6bd9-4933-9beb-c57fdad98927\">\n",
              "    <div class=\"colab-df-container\">\n",
              "      <div>\n",
              "<style scoped>\n",
              "    .dataframe tbody tr th:only-of-type {\n",
              "        vertical-align: middle;\n",
              "    }\n",
              "\n",
              "    .dataframe tbody tr th {\n",
              "        vertical-align: top;\n",
              "    }\n",
              "\n",
              "    .dataframe thead th {\n",
              "        text-align: right;\n",
              "    }\n",
              "</style>\n",
              "<table border=\"1\" class=\"dataframe\">\n",
              "  <thead>\n",
              "    <tr style=\"text-align: right;\">\n",
              "      <th></th>\n",
              "      <th>0</th>\n",
              "      <th>1</th>\n",
              "      <th>2</th>\n",
              "    </tr>\n",
              "  </thead>\n",
              "  <tbody>\n",
              "    <tr>\n",
              "      <th>0</th>\n",
              "      <td>Cn1ccnc1Sc2ccc(cc2Cl)Nc3c4cc(c(cc4ncc3C#N)OCCC...</td>\n",
              "      <td>168691</td>\n",
              "      <td>CHEMBL318804</td>\n",
              "    </tr>\n",
              "    <tr>\n",
              "      <th>1</th>\n",
              "      <td>C[C@@]12[C@@H]([C@@H](CC(O1)n3c4ccccc4c5c3c6n2...</td>\n",
              "      <td>86358</td>\n",
              "      <td>CHEMBL162</td>\n",
              "    </tr>\n",
              "    <tr>\n",
              "      <th>2</th>\n",
              "      <td>Cc1cnc(nc1c2cc([nH]c2)C(=O)N[C@H](CO)c3cccc(c3...</td>\n",
              "      <td>575087</td>\n",
              "      <td>CHEMBL576683</td>\n",
              "    </tr>\n",
              "  </tbody>\n",
              "</table>\n",
              "</div>\n",
              "      <button class=\"colab-df-convert\" onclick=\"convertToInteractive('df-84351b6b-6bd9-4933-9beb-c57fdad98927')\"\n",
              "              title=\"Convert this dataframe to an interactive table.\"\n",
              "              style=\"display:none;\">\n",
              "        \n",
              "  <svg xmlns=\"http://www.w3.org/2000/svg\" height=\"24px\"viewBox=\"0 0 24 24\"\n",
              "       width=\"24px\">\n",
              "    <path d=\"M0 0h24v24H0V0z\" fill=\"none\"/>\n",
              "    <path d=\"M18.56 5.44l.94 2.06.94-2.06 2.06-.94-2.06-.94-.94-2.06-.94 2.06-2.06.94zm-11 1L8.5 8.5l.94-2.06 2.06-.94-2.06-.94L8.5 2.5l-.94 2.06-2.06.94zm10 10l.94 2.06.94-2.06 2.06-.94-2.06-.94-.94-2.06-.94 2.06-2.06.94z\"/><path d=\"M17.41 7.96l-1.37-1.37c-.4-.4-.92-.59-1.43-.59-.52 0-1.04.2-1.43.59L10.3 9.45l-7.72 7.72c-.78.78-.78 2.05 0 2.83L4 21.41c.39.39.9.59 1.41.59.51 0 1.02-.2 1.41-.59l7.78-7.78 2.81-2.81c.8-.78.8-2.07 0-2.86zM5.41 20L4 18.59l7.72-7.72 1.47 1.35L5.41 20z\"/>\n",
              "  </svg>\n",
              "      </button>\n",
              "      \n",
              "  <style>\n",
              "    .colab-df-container {\n",
              "      display:flex;\n",
              "      flex-wrap:wrap;\n",
              "      gap: 12px;\n",
              "    }\n",
              "\n",
              "    .colab-df-convert {\n",
              "      background-color: #E8F0FE;\n",
              "      border: none;\n",
              "      border-radius: 50%;\n",
              "      cursor: pointer;\n",
              "      display: none;\n",
              "      fill: #1967D2;\n",
              "      height: 32px;\n",
              "      padding: 0 0 0 0;\n",
              "      width: 32px;\n",
              "    }\n",
              "\n",
              "    .colab-df-convert:hover {\n",
              "      background-color: #E2EBFA;\n",
              "      box-shadow: 0px 1px 2px rgba(60, 64, 67, 0.3), 0px 1px 3px 1px rgba(60, 64, 67, 0.15);\n",
              "      fill: #174EA6;\n",
              "    }\n",
              "\n",
              "    [theme=dark] .colab-df-convert {\n",
              "      background-color: #3B4455;\n",
              "      fill: #D2E3FC;\n",
              "    }\n",
              "\n",
              "    [theme=dark] .colab-df-convert:hover {\n",
              "      background-color: #434B5C;\n",
              "      box-shadow: 0px 1px 3px 1px rgba(0, 0, 0, 0.15);\n",
              "      filter: drop-shadow(0px 1px 2px rgba(0, 0, 0, 0.3));\n",
              "      fill: #FFFFFF;\n",
              "    }\n",
              "  </style>\n",
              "\n",
              "      <script>\n",
              "        const buttonEl =\n",
              "          document.querySelector('#df-84351b6b-6bd9-4933-9beb-c57fdad98927 button.colab-df-convert');\n",
              "        buttonEl.style.display =\n",
              "          google.colab.kernel.accessAllowed ? 'block' : 'none';\n",
              "\n",
              "        async function convertToInteractive(key) {\n",
              "          const element = document.querySelector('#df-84351b6b-6bd9-4933-9beb-c57fdad98927');\n",
              "          const dataTable =\n",
              "            await google.colab.kernel.invokeFunction('convertToInteractive',\n",
              "                                                     [key], {});\n",
              "          if (!dataTable) return;\n",
              "\n",
              "          const docLinkHtml = 'Like what you see? Visit the ' +\n",
              "            '<a target=\"_blank\" href=https://colab.research.google.com/notebooks/data_table.ipynb>data table notebook</a>'\n",
              "            + ' to learn more about interactive tables.';\n",
              "          element.innerHTML = '';\n",
              "          dataTable['output_type'] = 'display_data';\n",
              "          await google.colab.output.renderOutput(dataTable, element);\n",
              "          const docLink = document.createElement('div');\n",
              "          docLink.innerHTML = docLinkHtml;\n",
              "          element.appendChild(docLink);\n",
              "        }\n",
              "      </script>\n",
              "    </div>\n",
              "  </div>\n",
              "  "
            ]
          },
          "metadata": {},
          "execution_count": 5
        }
      ],
      "source": [
        "active_df = pd.read_csv(\"https://raw.githubusercontent.com/deepchem/DeepLearningLifeSciences/master/Chapter11/mk01/actives_final.ism\",\n",
        "                        header=None,sep=\" \")\n",
        "print(active_df.shape)\n",
        "active_df[:3]"
      ]
    },
    {
      "cell_type": "code",
      "source": [
        "active_rows, active_cols = active_df.shape\n",
        "active_df.columns = [\"SMILES\",\"ID\",\"ChEMBL_ID\"]\n",
        "active_df[\"label\"] = [\"Active\"]*active_rows\n",
        "PandasTools.AddMoleculeColumnToFrame(active_df,\"SMILES\",\"Mol\")\n"
      ],
      "metadata": {
        "id": "H_-k5gyHsoeM"
      },
      "execution_count": 6,
      "outputs": []
    },
    {
      "cell_type": "code",
      "source": [
        "active_df[:3]"
      ],
      "metadata": {
        "colab": {
          "base_uri": "https://localhost:8080/",
          "height": 143
        },
        "id": "Q_1JyOPgs8A-",
        "outputId": "ce0332cc-7feb-4867-eabb-4571a8c1a221"
      },
      "execution_count": 7,
      "outputs": [
        {
          "output_type": "execute_result",
          "data": {
            "text/plain": [
              "                                              SMILES      ID     ChEMBL_ID  \\\n",
              "0  Cn1ccnc1Sc2ccc(cc2Cl)Nc3c4cc(c(cc4ncc3C#N)OCCC...  168691  CHEMBL318804   \n",
              "1  C[C@@]12[C@@H]([C@@H](CC(O1)n3c4ccccc4c5c3c6n2...   86358     CHEMBL162   \n",
              "2  Cc1cnc(nc1c2cc([nH]c2)C(=O)N[C@H](CO)c3cccc(c3...  575087  CHEMBL576683   \n",
              "\n",
              "    label                                               Mol  \n",
              "0  Active  <rdkit.Chem.rdchem.Mol object at 0x7fe2a2451940>  \n",
              "1  Active  <rdkit.Chem.rdchem.Mol object at 0x7fe2a2453b20>  \n",
              "2  Active  <rdkit.Chem.rdchem.Mol object at 0x7fe2a2453a30>  "
            ],
            "text/html": [
              "\n",
              "  <div id=\"df-6f5950c7-e9e3-4fa1-aa2d-f7e89f44b65c\">\n",
              "    <div class=\"colab-df-container\">\n",
              "      <div>\n",
              "<style scoped>\n",
              "    .dataframe tbody tr th:only-of-type {\n",
              "        vertical-align: middle;\n",
              "    }\n",
              "\n",
              "    .dataframe tbody tr th {\n",
              "        vertical-align: top;\n",
              "    }\n",
              "\n",
              "    .dataframe thead th {\n",
              "        text-align: right;\n",
              "    }\n",
              "</style>\n",
              "<table border=\"1\" class=\"dataframe\">\n",
              "  <thead>\n",
              "    <tr style=\"text-align: right;\">\n",
              "      <th></th>\n",
              "      <th>SMILES</th>\n",
              "      <th>ID</th>\n",
              "      <th>ChEMBL_ID</th>\n",
              "      <th>label</th>\n",
              "      <th>Mol</th>\n",
              "    </tr>\n",
              "  </thead>\n",
              "  <tbody>\n",
              "    <tr>\n",
              "      <th>0</th>\n",
              "      <td>Cn1ccnc1Sc2ccc(cc2Cl)Nc3c4cc(c(cc4ncc3C#N)OCCC...</td>\n",
              "      <td>168691</td>\n",
              "      <td>CHEMBL318804</td>\n",
              "      <td>Active</td>\n",
              "      <td>&lt;rdkit.Chem.rdchem.Mol object at 0x7fe2a2451940&gt;</td>\n",
              "    </tr>\n",
              "    <tr>\n",
              "      <th>1</th>\n",
              "      <td>C[C@@]12[C@@H]([C@@H](CC(O1)n3c4ccccc4c5c3c6n2...</td>\n",
              "      <td>86358</td>\n",
              "      <td>CHEMBL162</td>\n",
              "      <td>Active</td>\n",
              "      <td>&lt;rdkit.Chem.rdchem.Mol object at 0x7fe2a2453b20&gt;</td>\n",
              "    </tr>\n",
              "    <tr>\n",
              "      <th>2</th>\n",
              "      <td>Cc1cnc(nc1c2cc([nH]c2)C(=O)N[C@H](CO)c3cccc(c3...</td>\n",
              "      <td>575087</td>\n",
              "      <td>CHEMBL576683</td>\n",
              "      <td>Active</td>\n",
              "      <td>&lt;rdkit.Chem.rdchem.Mol object at 0x7fe2a2453a30&gt;</td>\n",
              "    </tr>\n",
              "  </tbody>\n",
              "</table>\n",
              "</div>\n",
              "      <button class=\"colab-df-convert\" onclick=\"convertToInteractive('df-6f5950c7-e9e3-4fa1-aa2d-f7e89f44b65c')\"\n",
              "              title=\"Convert this dataframe to an interactive table.\"\n",
              "              style=\"display:none;\">\n",
              "        \n",
              "  <svg xmlns=\"http://www.w3.org/2000/svg\" height=\"24px\"viewBox=\"0 0 24 24\"\n",
              "       width=\"24px\">\n",
              "    <path d=\"M0 0h24v24H0V0z\" fill=\"none\"/>\n",
              "    <path d=\"M18.56 5.44l.94 2.06.94-2.06 2.06-.94-2.06-.94-.94-2.06-.94 2.06-2.06.94zm-11 1L8.5 8.5l.94-2.06 2.06-.94-2.06-.94L8.5 2.5l-.94 2.06-2.06.94zm10 10l.94 2.06.94-2.06 2.06-.94-2.06-.94-.94-2.06-.94 2.06-2.06.94z\"/><path d=\"M17.41 7.96l-1.37-1.37c-.4-.4-.92-.59-1.43-.59-.52 0-1.04.2-1.43.59L10.3 9.45l-7.72 7.72c-.78.78-.78 2.05 0 2.83L4 21.41c.39.39.9.59 1.41.59.51 0 1.02-.2 1.41-.59l7.78-7.78 2.81-2.81c.8-.78.8-2.07 0-2.86zM5.41 20L4 18.59l7.72-7.72 1.47 1.35L5.41 20z\"/>\n",
              "  </svg>\n",
              "      </button>\n",
              "      \n",
              "  <style>\n",
              "    .colab-df-container {\n",
              "      display:flex;\n",
              "      flex-wrap:wrap;\n",
              "      gap: 12px;\n",
              "    }\n",
              "\n",
              "    .colab-df-convert {\n",
              "      background-color: #E8F0FE;\n",
              "      border: none;\n",
              "      border-radius: 50%;\n",
              "      cursor: pointer;\n",
              "      display: none;\n",
              "      fill: #1967D2;\n",
              "      height: 32px;\n",
              "      padding: 0 0 0 0;\n",
              "      width: 32px;\n",
              "    }\n",
              "\n",
              "    .colab-df-convert:hover {\n",
              "      background-color: #E2EBFA;\n",
              "      box-shadow: 0px 1px 2px rgba(60, 64, 67, 0.3), 0px 1px 3px 1px rgba(60, 64, 67, 0.15);\n",
              "      fill: #174EA6;\n",
              "    }\n",
              "\n",
              "    [theme=dark] .colab-df-convert {\n",
              "      background-color: #3B4455;\n",
              "      fill: #D2E3FC;\n",
              "    }\n",
              "\n",
              "    [theme=dark] .colab-df-convert:hover {\n",
              "      background-color: #434B5C;\n",
              "      box-shadow: 0px 1px 3px 1px rgba(0, 0, 0, 0.15);\n",
              "      filter: drop-shadow(0px 1px 2px rgba(0, 0, 0, 0.3));\n",
              "      fill: #FFFFFF;\n",
              "    }\n",
              "  </style>\n",
              "\n",
              "      <script>\n",
              "        const buttonEl =\n",
              "          document.querySelector('#df-6f5950c7-e9e3-4fa1-aa2d-f7e89f44b65c button.colab-df-convert');\n",
              "        buttonEl.style.display =\n",
              "          google.colab.kernel.accessAllowed ? 'block' : 'none';\n",
              "\n",
              "        async function convertToInteractive(key) {\n",
              "          const element = document.querySelector('#df-6f5950c7-e9e3-4fa1-aa2d-f7e89f44b65c');\n",
              "          const dataTable =\n",
              "            await google.colab.kernel.invokeFunction('convertToInteractive',\n",
              "                                                     [key], {});\n",
              "          if (!dataTable) return;\n",
              "\n",
              "          const docLinkHtml = 'Like what you see? Visit the ' +\n",
              "            '<a target=\"_blank\" href=https://colab.research.google.com/notebooks/data_table.ipynb>data table notebook</a>'\n",
              "            + ' to learn more about interactive tables.';\n",
              "          element.innerHTML = '';\n",
              "          dataTable['output_type'] = 'display_data';\n",
              "          await google.colab.output.renderOutput(dataTable, element);\n",
              "          const docLink = document.createElement('div');\n",
              "          docLink.innerHTML = docLinkHtml;\n",
              "          element.appendChild(docLink);\n",
              "        }\n",
              "      </script>\n",
              "    </div>\n",
              "  </div>\n",
              "  "
            ]
          },
          "metadata": {},
          "execution_count": 7
        }
      ]
    },
    {
      "cell_type": "markdown",
      "metadata": {
        "id": "m5xtBXHRz4yU"
      },
      "source": [
        "## 데이터프레임에 계산된 특성값을 추가\n",
        "- 분자량 molecular weight, \n",
        "- 분배 계수 partition coefficeint(LogP) - 유성물질(옥탄올)에서 물로 분리되는 능력\n",
        "- 전하 charge (양인지 음인지)"
      ]
    },
    {
      "cell_type": "code",
      "execution_count": 8,
      "metadata": {
        "id": "IqjKaT8Ez4yU"
      },
      "outputs": [],
      "source": [
        "def add_property_columns_to_df(df_in):\n",
        "    df_in[\"mw\"] = [Descriptors.MolWt(mol) for mol in df_in.Mol]\n",
        "    df_in[\"logP\"] = [Descriptors.MolLogP(mol) for mol in df_in.Mol]\n",
        "    df_in[\"charge\"] = [rdmolops.GetFormalCharge(mol) for mol in df_in.Mol]"
      ]
    },
    {
      "cell_type": "code",
      "execution_count": 9,
      "metadata": {
        "id": "hS4OpyOiz4yV",
        "colab": {
          "base_uri": "https://localhost:8080/",
          "height": 337
        },
        "outputId": "d3ef387a-2232-49ad-edfd-99b3efe91f92"
      },
      "outputs": [
        {
          "output_type": "execute_result",
          "data": {
            "text/plain": [
              "                                              SMILES      ID     ChEMBL_ID  \\\n",
              "0  Cn1ccnc1Sc2ccc(cc2Cl)Nc3c4cc(c(cc4ncc3C#N)OCCC...  168691  CHEMBL318804   \n",
              "1  C[C@@]12[C@@H]([C@@H](CC(O1)n3c4ccccc4c5c3c6n2...   86358     CHEMBL162   \n",
              "2  Cc1cnc(nc1c2cc([nH]c2)C(=O)N[C@H](CO)c3cccc(c3...  575087  CHEMBL576683   \n",
              "3  Cc1cnc(nc1c2cc([nH]c2)C(=O)N[C@H](CO)c3cccc(c3...  575065  CHEMBL571484   \n",
              "4  Cc1cnc(nc1c2cc([nH]c2)C(=O)N[C@H](CO)c3cccc(c3...  575047  CHEMBL568937   \n",
              "\n",
              "    label                                               Mol       mw     logP  \\\n",
              "0  Active  <rdkit.Chem.rdchem.Mol object at 0x7fe2a2451940>  565.099  5.49788   \n",
              "1  Active  <rdkit.Chem.rdchem.Mol object at 0x7fe2a2453b20>  466.541  4.35400   \n",
              "2  Active  <rdkit.Chem.rdchem.Mol object at 0x7fe2a2453a30>  527.915  4.96202   \n",
              "3  Active  <rdkit.Chem.rdchem.Mol object at 0x7fe2a24539e0>  491.935  4.36922   \n",
              "4  Active  <rdkit.Chem.rdchem.Mol object at 0x7fe2a2453a80>  487.991  5.12922   \n",
              "\n",
              "   charge  \n",
              "0       0  \n",
              "1       0  \n",
              "2       0  \n",
              "3       0  \n",
              "4       0  "
            ],
            "text/html": [
              "\n",
              "  <div id=\"df-2faedfba-c608-4780-9d40-9df8c7f9e2f5\">\n",
              "    <div class=\"colab-df-container\">\n",
              "      <div>\n",
              "<style scoped>\n",
              "    .dataframe tbody tr th:only-of-type {\n",
              "        vertical-align: middle;\n",
              "    }\n",
              "\n",
              "    .dataframe tbody tr th {\n",
              "        vertical-align: top;\n",
              "    }\n",
              "\n",
              "    .dataframe thead th {\n",
              "        text-align: right;\n",
              "    }\n",
              "</style>\n",
              "<table border=\"1\" class=\"dataframe\">\n",
              "  <thead>\n",
              "    <tr style=\"text-align: right;\">\n",
              "      <th></th>\n",
              "      <th>SMILES</th>\n",
              "      <th>ID</th>\n",
              "      <th>ChEMBL_ID</th>\n",
              "      <th>label</th>\n",
              "      <th>Mol</th>\n",
              "      <th>mw</th>\n",
              "      <th>logP</th>\n",
              "      <th>charge</th>\n",
              "    </tr>\n",
              "  </thead>\n",
              "  <tbody>\n",
              "    <tr>\n",
              "      <th>0</th>\n",
              "      <td>Cn1ccnc1Sc2ccc(cc2Cl)Nc3c4cc(c(cc4ncc3C#N)OCCC...</td>\n",
              "      <td>168691</td>\n",
              "      <td>CHEMBL318804</td>\n",
              "      <td>Active</td>\n",
              "      <td>&lt;rdkit.Chem.rdchem.Mol object at 0x7fe2a2451940&gt;</td>\n",
              "      <td>565.099</td>\n",
              "      <td>5.49788</td>\n",
              "      <td>0</td>\n",
              "    </tr>\n",
              "    <tr>\n",
              "      <th>1</th>\n",
              "      <td>C[C@@]12[C@@H]([C@@H](CC(O1)n3c4ccccc4c5c3c6n2...</td>\n",
              "      <td>86358</td>\n",
              "      <td>CHEMBL162</td>\n",
              "      <td>Active</td>\n",
              "      <td>&lt;rdkit.Chem.rdchem.Mol object at 0x7fe2a2453b20&gt;</td>\n",
              "      <td>466.541</td>\n",
              "      <td>4.35400</td>\n",
              "      <td>0</td>\n",
              "    </tr>\n",
              "    <tr>\n",
              "      <th>2</th>\n",
              "      <td>Cc1cnc(nc1c2cc([nH]c2)C(=O)N[C@H](CO)c3cccc(c3...</td>\n",
              "      <td>575087</td>\n",
              "      <td>CHEMBL576683</td>\n",
              "      <td>Active</td>\n",
              "      <td>&lt;rdkit.Chem.rdchem.Mol object at 0x7fe2a2453a30&gt;</td>\n",
              "      <td>527.915</td>\n",
              "      <td>4.96202</td>\n",
              "      <td>0</td>\n",
              "    </tr>\n",
              "    <tr>\n",
              "      <th>3</th>\n",
              "      <td>Cc1cnc(nc1c2cc([nH]c2)C(=O)N[C@H](CO)c3cccc(c3...</td>\n",
              "      <td>575065</td>\n",
              "      <td>CHEMBL571484</td>\n",
              "      <td>Active</td>\n",
              "      <td>&lt;rdkit.Chem.rdchem.Mol object at 0x7fe2a24539e0&gt;</td>\n",
              "      <td>491.935</td>\n",
              "      <td>4.36922</td>\n",
              "      <td>0</td>\n",
              "    </tr>\n",
              "    <tr>\n",
              "      <th>4</th>\n",
              "      <td>Cc1cnc(nc1c2cc([nH]c2)C(=O)N[C@H](CO)c3cccc(c3...</td>\n",
              "      <td>575047</td>\n",
              "      <td>CHEMBL568937</td>\n",
              "      <td>Active</td>\n",
              "      <td>&lt;rdkit.Chem.rdchem.Mol object at 0x7fe2a2453a80&gt;</td>\n",
              "      <td>487.991</td>\n",
              "      <td>5.12922</td>\n",
              "      <td>0</td>\n",
              "    </tr>\n",
              "  </tbody>\n",
              "</table>\n",
              "</div>\n",
              "      <button class=\"colab-df-convert\" onclick=\"convertToInteractive('df-2faedfba-c608-4780-9d40-9df8c7f9e2f5')\"\n",
              "              title=\"Convert this dataframe to an interactive table.\"\n",
              "              style=\"display:none;\">\n",
              "        \n",
              "  <svg xmlns=\"http://www.w3.org/2000/svg\" height=\"24px\"viewBox=\"0 0 24 24\"\n",
              "       width=\"24px\">\n",
              "    <path d=\"M0 0h24v24H0V0z\" fill=\"none\"/>\n",
              "    <path d=\"M18.56 5.44l.94 2.06.94-2.06 2.06-.94-2.06-.94-.94-2.06-.94 2.06-2.06.94zm-11 1L8.5 8.5l.94-2.06 2.06-.94-2.06-.94L8.5 2.5l-.94 2.06-2.06.94zm10 10l.94 2.06.94-2.06 2.06-.94-2.06-.94-.94-2.06-.94 2.06-2.06.94z\"/><path d=\"M17.41 7.96l-1.37-1.37c-.4-.4-.92-.59-1.43-.59-.52 0-1.04.2-1.43.59L10.3 9.45l-7.72 7.72c-.78.78-.78 2.05 0 2.83L4 21.41c.39.39.9.59 1.41.59.51 0 1.02-.2 1.41-.59l7.78-7.78 2.81-2.81c.8-.78.8-2.07 0-2.86zM5.41 20L4 18.59l7.72-7.72 1.47 1.35L5.41 20z\"/>\n",
              "  </svg>\n",
              "      </button>\n",
              "      \n",
              "  <style>\n",
              "    .colab-df-container {\n",
              "      display:flex;\n",
              "      flex-wrap:wrap;\n",
              "      gap: 12px;\n",
              "    }\n",
              "\n",
              "    .colab-df-convert {\n",
              "      background-color: #E8F0FE;\n",
              "      border: none;\n",
              "      border-radius: 50%;\n",
              "      cursor: pointer;\n",
              "      display: none;\n",
              "      fill: #1967D2;\n",
              "      height: 32px;\n",
              "      padding: 0 0 0 0;\n",
              "      width: 32px;\n",
              "    }\n",
              "\n",
              "    .colab-df-convert:hover {\n",
              "      background-color: #E2EBFA;\n",
              "      box-shadow: 0px 1px 2px rgba(60, 64, 67, 0.3), 0px 1px 3px 1px rgba(60, 64, 67, 0.15);\n",
              "      fill: #174EA6;\n",
              "    }\n",
              "\n",
              "    [theme=dark] .colab-df-convert {\n",
              "      background-color: #3B4455;\n",
              "      fill: #D2E3FC;\n",
              "    }\n",
              "\n",
              "    [theme=dark] .colab-df-convert:hover {\n",
              "      background-color: #434B5C;\n",
              "      box-shadow: 0px 1px 3px 1px rgba(0, 0, 0, 0.15);\n",
              "      filter: drop-shadow(0px 1px 2px rgba(0, 0, 0, 0.3));\n",
              "      fill: #FFFFFF;\n",
              "    }\n",
              "  </style>\n",
              "\n",
              "      <script>\n",
              "        const buttonEl =\n",
              "          document.querySelector('#df-2faedfba-c608-4780-9d40-9df8c7f9e2f5 button.colab-df-convert');\n",
              "        buttonEl.style.display =\n",
              "          google.colab.kernel.accessAllowed ? 'block' : 'none';\n",
              "\n",
              "        async function convertToInteractive(key) {\n",
              "          const element = document.querySelector('#df-2faedfba-c608-4780-9d40-9df8c7f9e2f5');\n",
              "          const dataTable =\n",
              "            await google.colab.kernel.invokeFunction('convertToInteractive',\n",
              "                                                     [key], {});\n",
              "          if (!dataTable) return;\n",
              "\n",
              "          const docLinkHtml = 'Like what you see? Visit the ' +\n",
              "            '<a target=\"_blank\" href=https://colab.research.google.com/notebooks/data_table.ipynb>data table notebook</a>'\n",
              "            + ' to learn more about interactive tables.';\n",
              "          element.innerHTML = '';\n",
              "          dataTable['output_type'] = 'display_data';\n",
              "          await google.colab.output.renderOutput(dataTable, element);\n",
              "          const docLink = document.createElement('div');\n",
              "          docLink.innerHTML = docLinkHtml;\n",
              "          element.appendChild(docLink);\n",
              "        }\n",
              "      </script>\n",
              "    </div>\n",
              "  </div>\n",
              "  "
            ]
          },
          "metadata": {},
          "execution_count": 9
        }
      ],
      "source": [
        "add_property_columns_to_df(active_df)\n",
        "active_df.head()"
      ]
    },
    {
      "cell_type": "markdown",
      "metadata": {
        "id": "zjnUULUtz4yW"
      },
      "source": [
        "## 같은 작업을 decoy molecules에 대해서도 수행"
      ]
    },
    {
      "cell_type": "code",
      "execution_count": 10,
      "metadata": {
        "id": "YI5vDzKfz4yX"
      },
      "outputs": [],
      "source": [
        "decoy_df = pd.read_csv(\"https://raw.githubusercontent.com/deepchem/DeepLearningLifeSciences/master/Chapter11/mk01/decoys_final.ism\",\n",
        "                       header=None,sep=\" \")\n",
        "decoy_df.columns = [\"SMILES\",\"ID\"]\n",
        "decoy_rows, decoy_cols = decoy_df.shape\n",
        "decoy_df[\"label\"] = [\"Decoy\"]*decoy_rows\n",
        "PandasTools.AddMoleculeColumnToFrame(decoy_df,\"SMILES\",\"Mol\")\n",
        "add_property_columns_to_df(decoy_df)"
      ]
    },
    {
      "cell_type": "markdown",
      "source": [
        "- 데이터를 합친다"
      ],
      "metadata": {
        "id": "3r8nfyuPEfAX"
      }
    },
    {
      "cell_type": "code",
      "execution_count": 11,
      "metadata": {
        "id": "0OrArJbcz4yX"
      },
      "outputs": [],
      "source": [
        "tmp_df = active_df.append(decoy_df)"
      ]
    },
    {
      "cell_type": "code",
      "source": [
        "tmp_df.shape"
      ],
      "metadata": {
        "colab": {
          "base_uri": "https://localhost:8080/"
        },
        "id": "ZPNRAEq4uaXo",
        "outputId": "69fce7c8-5f7e-42cc-90a0-ce4363b0116c"
      },
      "execution_count": 22,
      "outputs": [
        {
          "output_type": "execute_result",
          "data": {
            "text/plain": [
              "(4629, 8)"
            ]
          },
          "metadata": {},
          "execution_count": 22
        }
      ]
    },
    {
      "cell_type": "markdown",
      "metadata": {
        "id": "KxfG36Osz4yX"
      },
      "source": [
        "- violin plot"
      ]
    },
    {
      "cell_type": "code",
      "execution_count": 12,
      "metadata": {
        "colab": {
          "base_uri": "https://localhost:8080/",
          "height": 278
        },
        "id": "B0NyoEDmz4yX",
        "outputId": "502c9101-62c4-4eab-9a68-fa6a64f719ff"
      },
      "outputs": [
        {
          "output_type": "display_data",
          "data": {
            "text/plain": [
              "<Figure size 432x288 with 1 Axes>"
            ],
            "image/png": "[encoded data removed]"
          },
          "metadata": {
            "image/png": {
              "width": 388,
              "height": 261
            },
            "needs_background": "light"
          }
        }
      ],
      "source": [
        "sns.violinplot(x=tmp_df[\"label\"],y=tmp_df[\"mw\"]);"
      ]
    },
    {
      "cell_type": "markdown",
      "metadata": {
        "id": "FzLVdAN5z4yX"
      },
      "source": [
        "- 위 그래프를 보면 분자량 분포는 비슷하다\n",
        "- 400mw 이하의 분자들이 비활성 분자 데이터셋에 좀 더 많이 들어 있다"
      ]
    },
    {
      "cell_type": "code",
      "execution_count": 13,
      "metadata": {
        "colab": {
          "base_uri": "https://localhost:8080/",
          "height": 278
        },
        "id": "MCGBGDW8z4yY",
        "outputId": "ed2dd534-5443-4dd8-dc67-97e7ce18e6d9"
      },
      "outputs": [
        {
          "output_type": "display_data",
          "data": {
            "text/plain": [
              "<Figure size 432x288 with 1 Axes>"
            ],
            "image/png": "[encoded data removed]"
          },
          "metadata": {
            "image/png": {
              "width": 384,
              "height": 261
            },
            "needs_background": "light"
          }
        }
      ],
      "source": [
        "sns.violinplot(x=tmp_df[\"label\"],y=tmp_df[\"logP\"]);"
      ]
    },
    {
      "cell_type": "code",
      "execution_count": 14,
      "metadata": {
        "colab": {
          "base_uri": "https://localhost:8080/",
          "height": 278
        },
        "id": "M2cvDR9mz4yY",
        "outputId": "93e9eedd-de8e-44bf-e566-404c4358c589"
      },
      "outputs": [
        {
          "output_type": "display_data",
          "data": {
            "text/plain": [
              "<Figure size 432x288 with 1 Axes>"
            ],
            "image/png": "[encoded data removed]"
          },
          "metadata": {
            "image/png": {
              "width": 394,
              "height": 261
            },
            "needs_background": "light"
          }
        }
      ],
      "source": [
        "sns.violinplot(x=tmp_df[\"label\"],y=tmp_df[\"charge\"]);"
      ]
    },
    {
      "cell_type": "markdown",
      "metadata": {
        "id": "EnY2ge1Ez4yY"
      },
      "source": [
        "- 활성 분자는 모두 중성이다\n",
        "- 비활성 분자는 일부 +1과 -1이 있다"
      ]
    },
    {
      "cell_type": "code",
      "execution_count": 15,
      "metadata": {
        "id": "nsxlupqbz4yY"
      },
      "outputs": [],
      "source": [
        "charged = decoy_df[decoy_df[\"charge\"] != 0]"
      ]
    },
    {
      "cell_type": "code",
      "execution_count": 16,
      "metadata": {
        "colab": {
          "base_uri": "https://localhost:8080/"
        },
        "id": "m4ae1YHqz4yZ",
        "outputId": "a330cf82-de50-49db-bf69-806b11ab26ce"
      },
      "outputs": [
        {
          "output_type": "execute_result",
          "data": {
            "text/plain": [
              "0.16175824175824177"
            ]
          },
          "metadata": {},
          "execution_count": 16
        }
      ],
      "source": [
        "charged.shape[0]/decoy_df.shape[0]"
      ]
    },
    {
      "cell_type": "markdown",
      "metadata": {
        "id": "fNEBUWSuz4yZ"
      },
      "source": [
        "- 비활성 분자의 16%가 전하를 띠고 있다\n",
        "- 전하 차이에 의해 머신러닝 모델이 바이어스가 생기게 되므로, 비활성 분자의 화학 구조를 수정하여 전하를 제거하겠다\n",
        "- 아래는 이를 위한 함수 정의이다"
      ]
    },
    {
      "cell_type": "code",
      "execution_count": 17,
      "metadata": {
        "id": "YebLfFHFDkdk"
      },
      "outputs": [],
      "source": [
        "def _InitialiseNeutralisationReactions():\n",
        "    patts= (\n",
        "        # Imidazoles\n",
        "        ('[n+;H]','n'),\n",
        "        # Amines\n",
        "        ('[N+;!H0]','N'),\n",
        "        # Carboxylic acids and alcohols\n",
        "        ('[$([O-]);!$([O-][#7])]','O'),\n",
        "        # Thiols\n",
        "        ('[S-;X1]','S'),\n",
        "        # Sulfonamides\n",
        "        ('[$([N-;X2]S(=O)=O)]','N'),\n",
        "        # Enamines\n",
        "        ('[$([N-;X2][C,N]=C)]','N'),\n",
        "        # Tetrazoles\n",
        "        ('[n-]','[nH]'),\n",
        "        # Sulfoxides\n",
        "        ('[$([S-]=O)]','S'),\n",
        "        # Amides\n",
        "        ('[$([N-]C=O)]','N'),\n",
        "        )\n",
        "    return [(Chem.MolFromSmarts(x),Chem.MolFromSmiles(y,False)) for x,y in patts]\n",
        "\n",
        "_reactions=None\n",
        "\n",
        "def NeutraliseCharges(smiles, reactions=None):\n",
        "    global _reactions\n",
        "    if reactions is None:\n",
        "        if _reactions is None:\n",
        "            _reactions=_InitialiseNeutralisationReactions()\n",
        "        reactions=_reactions\n",
        "    mol = Chem.MolFromSmiles(smiles)\n",
        "    replaced = False\n",
        "    for i,(reactant, product) in enumerate(reactions):\n",
        "        while mol.HasSubstructMatch(reactant):\n",
        "            replaced = True\n",
        "            rms = AllChem.ReplaceSubstructs(mol, reactant, product)\n",
        "            mol = rms[0]\n",
        "    if replaced:\n",
        "        return (Chem.MolToSmiles(mol,True), True)\n",
        "    else:\n",
        "        return (smiles, False)"
      ]
    },
    {
      "cell_type": "code",
      "execution_count": 18,
      "metadata": {
        "id": "v9zT1W4lz4yZ"
      },
      "outputs": [],
      "source": [
        "revised_decoy_df = decoy_df[[\"SMILES\",\"ID\",\"label\"]].copy()"
      ]
    },
    {
      "cell_type": "markdown",
      "metadata": {
        "id": "HjqjW_sSz4yZ"
      },
      "source": [
        "- 중성화된 SMILES만 사용하면 되므로 첫 번째 컬럼만 사용한다 (두번째 컬럼에는 전하여부를 나타내는 불리언 변수가 들어 있다)"
      ]
    },
    {
      "cell_type": "code",
      "execution_count": 19,
      "metadata": {
        "id": "kmCa_bK0z4yZ"
      },
      "outputs": [],
      "source": [
        "revised_decoy_df[\"SMILES\"] = [NeutraliseCharges(x)[0] for x in revised_decoy_df[\"SMILES\"]]\n"
      ]
    },
    {
      "cell_type": "code",
      "source": [
        "revised_decoy_df.shape"
      ],
      "metadata": {
        "colab": {
          "base_uri": "https://localhost:8080/"
        },
        "id": "biGul6sTuVXT",
        "outputId": "2d5a9077-130b-4b8a-dfde-c595dc96b935"
      },
      "execution_count": 21,
      "outputs": [
        {
          "output_type": "execute_result",
          "data": {
            "text/plain": [
              "(4550, 7)"
            ]
          },
          "metadata": {},
          "execution_count": 21
        }
      ]
    },
    {
      "cell_type": "markdown",
      "metadata": {
        "id": "RJAuMomNz4yZ"
      },
      "source": [
        "- 특성을 다시 계산한다\n",
        "- 전하를 띤 샘플의 수가 감소했다"
      ]
    },
    {
      "cell_type": "code",
      "execution_count": 23,
      "metadata": {
        "id": "HO9X1SmLz4yZ"
      },
      "outputs": [],
      "source": [
        "PandasTools.AddMoleculeColumnToFrame(revised_decoy_df,\"SMILES\",\"Mol\")\n",
        "add_property_columns_to_df(revised_decoy_df)"
      ]
    },
    {
      "cell_type": "code",
      "execution_count": 24,
      "metadata": {
        "id": "7pcGOamBz4yZ"
      },
      "outputs": [],
      "source": [
        "new_tmp_df = active_df.append(revised_decoy_df)"
      ]
    },
    {
      "cell_type": "code",
      "execution_count": 25,
      "metadata": {
        "colab": {
          "base_uri": "https://localhost:8080/",
          "height": 296
        },
        "id": "i1HO5iHNz4yZ",
        "outputId": "41c99bdb-21d1-4446-8881-b93d630976a7"
      },
      "outputs": [
        {
          "output_type": "execute_result",
          "data": {
            "text/plain": [
              "<matplotlib.axes._subplots.AxesSubplot at 0x7fe2a1b4e3d0>"
            ]
          },
          "metadata": {},
          "execution_count": 25
        },
        {
          "output_type": "display_data",
          "data": {
            "text/plain": [
              "<Figure size 432x288 with 1 Axes>"
            ],
            "image/png": "[encoded data removed]"
          },
          "metadata": {
            "image/png": {
              "width": 400,
              "height": 261
            },
            "needs_background": "light"
          }
        }
      ],
      "source": [
        "sns.violinplot(x=new_tmp_df[\"label\"],y=new_tmp_df[\"charge\"])"
      ]
    },
    {
      "cell_type": "code",
      "execution_count": 26,
      "metadata": {
        "colab": {
          "base_uri": "https://localhost:8080/"
        },
        "id": "2F5f08LRz4yZ",
        "outputId": "774db6c5-ab7b-468e-e017-0f5e4e79dc58"
      },
      "outputs": [
        {
          "output_type": "execute_result",
          "data": {
            "text/plain": [
              "0.0026373626373626374"
            ]
          },
          "metadata": {},
          "execution_count": 26
        }
      ],
      "source": [
        "charged = revised_decoy_df[revised_decoy_df[\"charge\"] != 0]\n",
        "charged.shape[0]/revised_decoy_df.shape[0]"
      ]
    },
    {
      "cell_type": "markdown",
      "metadata": {
        "id": "kmoGr0jtz4ya"
      },
      "source": [
        "- 활성을 1로 비활성을 0으로 인코딩한다"
      ]
    },
    {
      "cell_type": "code",
      "execution_count": 27,
      "metadata": {
        "colab": {
          "base_uri": "https://localhost:8080/",
          "height": 206
        },
        "id": "VVc_Gm_Uz4ya",
        "outputId": "98395e0a-5f79-49e9-eccb-65be1137c857"
      },
      "outputs": [
        {
          "output_type": "execute_result",
          "data": {
            "text/plain": [
              "                                              SMILES      ID  is_active\n",
              "0  Cn1ccnc1Sc2ccc(cc2Cl)Nc3c4cc(c(cc4ncc3C#N)OCCC...  168691          1\n",
              "1  C[C@@]12[C@@H]([C@@H](CC(O1)n3c4ccccc4c5c3c6n2...   86358          1\n",
              "2  Cc1cnc(nc1c2cc([nH]c2)C(=O)N[C@H](CO)c3cccc(c3...  575087          1\n",
              "3  Cc1cnc(nc1c2cc([nH]c2)C(=O)N[C@H](CO)c3cccc(c3...  575065          1\n",
              "4  Cc1cnc(nc1c2cc([nH]c2)C(=O)N[C@H](CO)c3cccc(c3...  575047          1"
            ],
            "text/html": [
              "\n",
              "  <div id=\"df-ae43062e-97df-4ce1-8867-2c15fb5bd644\">\n",
              "    <div class=\"colab-df-container\">\n",
              "      <div>\n",
              "<style scoped>\n",
              "    .dataframe tbody tr th:only-of-type {\n",
              "        vertical-align: middle;\n",
              "    }\n",
              "\n",
              "    .dataframe tbody tr th {\n",
              "        vertical-align: top;\n",
              "    }\n",
              "\n",
              "    .dataframe thead th {\n",
              "        text-align: right;\n",
              "    }\n",
              "</style>\n",
              "<table border=\"1\" class=\"dataframe\">\n",
              "  <thead>\n",
              "    <tr style=\"text-align: right;\">\n",
              "      <th></th>\n",
              "      <th>SMILES</th>\n",
              "      <th>ID</th>\n",
              "      <th>is_active</th>\n",
              "    </tr>\n",
              "  </thead>\n",
              "  <tbody>\n",
              "    <tr>\n",
              "      <th>0</th>\n",
              "      <td>Cn1ccnc1Sc2ccc(cc2Cl)Nc3c4cc(c(cc4ncc3C#N)OCCC...</td>\n",
              "      <td>168691</td>\n",
              "      <td>1</td>\n",
              "    </tr>\n",
              "    <tr>\n",
              "      <th>1</th>\n",
              "      <td>C[C@@]12[C@@H]([C@@H](CC(O1)n3c4ccccc4c5c3c6n2...</td>\n",
              "      <td>86358</td>\n",
              "      <td>1</td>\n",
              "    </tr>\n",
              "    <tr>\n",
              "      <th>2</th>\n",
              "      <td>Cc1cnc(nc1c2cc([nH]c2)C(=O)N[C@H](CO)c3cccc(c3...</td>\n",
              "      <td>575087</td>\n",
              "      <td>1</td>\n",
              "    </tr>\n",
              "    <tr>\n",
              "      <th>3</th>\n",
              "      <td>Cc1cnc(nc1c2cc([nH]c2)C(=O)N[C@H](CO)c3cccc(c3...</td>\n",
              "      <td>575065</td>\n",
              "      <td>1</td>\n",
              "    </tr>\n",
              "    <tr>\n",
              "      <th>4</th>\n",
              "      <td>Cc1cnc(nc1c2cc([nH]c2)C(=O)N[C@H](CO)c3cccc(c3...</td>\n",
              "      <td>575047</td>\n",
              "      <td>1</td>\n",
              "    </tr>\n",
              "  </tbody>\n",
              "</table>\n",
              "</div>\n",
              "      <button class=\"colab-df-convert\" onclick=\"convertToInteractive('df-ae43062e-97df-4ce1-8867-2c15fb5bd644')\"\n",
              "              title=\"Convert this dataframe to an interactive table.\"\n",
              "              style=\"display:none;\">\n",
              "        \n",
              "  <svg xmlns=\"http://www.w3.org/2000/svg\" height=\"24px\"viewBox=\"0 0 24 24\"\n",
              "       width=\"24px\">\n",
              "    <path d=\"M0 0h24v24H0V0z\" fill=\"none\"/>\n",
              "    <path d=\"M18.56 5.44l.94 2.06.94-2.06 2.06-.94-2.06-.94-.94-2.06-.94 2.06-2.06.94zm-11 1L8.5 8.5l.94-2.06 2.06-.94-2.06-.94L8.5 2.5l-.94 2.06-2.06.94zm10 10l.94 2.06.94-2.06 2.06-.94-2.06-.94-.94-2.06-.94 2.06-2.06.94z\"/><path d=\"M17.41 7.96l-1.37-1.37c-.4-.4-.92-.59-1.43-.59-.52 0-1.04.2-1.43.59L10.3 9.45l-7.72 7.72c-.78.78-.78 2.05 0 2.83L4 21.41c.39.39.9.59 1.41.59.51 0 1.02-.2 1.41-.59l7.78-7.78 2.81-2.81c.8-.78.8-2.07 0-2.86zM5.41 20L4 18.59l7.72-7.72 1.47 1.35L5.41 20z\"/>\n",
              "  </svg>\n",
              "      </button>\n",
              "      \n",
              "  <style>\n",
              "    .colab-df-container {\n",
              "      display:flex;\n",
              "      flex-wrap:wrap;\n",
              "      gap: 12px;\n",
              "    }\n",
              "\n",
              "    .colab-df-convert {\n",
              "      background-color: #E8F0FE;\n",
              "      border: none;\n",
              "      border-radius: 50%;\n",
              "      cursor: pointer;\n",
              "      display: none;\n",
              "      fill: #1967D2;\n",
              "      height: 32px;\n",
              "      padding: 0 0 0 0;\n",
              "      width: 32px;\n",
              "    }\n",
              "\n",
              "    .colab-df-convert:hover {\n",
              "      background-color: #E2EBFA;\n",
              "      box-shadow: 0px 1px 2px rgba(60, 64, 67, 0.3), 0px 1px 3px 1px rgba(60, 64, 67, 0.15);\n",
              "      fill: #174EA6;\n",
              "    }\n",
              "\n",
              "    [theme=dark] .colab-df-convert {\n",
              "      background-color: #3B4455;\n",
              "      fill: #D2E3FC;\n",
              "    }\n",
              "\n",
              "    [theme=dark] .colab-df-convert:hover {\n",
              "      background-color: #434B5C;\n",
              "      box-shadow: 0px 1px 3px 1px rgba(0, 0, 0, 0.15);\n",
              "      filter: drop-shadow(0px 1px 2px rgba(0, 0, 0, 0.3));\n",
              "      fill: #FFFFFF;\n",
              "    }\n",
              "  </style>\n",
              "\n",
              "      <script>\n",
              "        const buttonEl =\n",
              "          document.querySelector('#df-ae43062e-97df-4ce1-8867-2c15fb5bd644 button.colab-df-convert');\n",
              "        buttonEl.style.display =\n",
              "          google.colab.kernel.accessAllowed ? 'block' : 'none';\n",
              "\n",
              "        async function convertToInteractive(key) {\n",
              "          const element = document.querySelector('#df-ae43062e-97df-4ce1-8867-2c15fb5bd644');\n",
              "          const dataTable =\n",
              "            await google.colab.kernel.invokeFunction('convertToInteractive',\n",
              "                                                     [key], {});\n",
              "          if (!dataTable) return;\n",
              "\n",
              "          const docLinkHtml = 'Like what you see? Visit the ' +\n",
              "            '<a target=\"_blank\" href=https://colab.research.google.com/notebooks/data_table.ipynb>data table notebook</a>'\n",
              "            + ' to learn more about interactive tables.';\n",
              "          element.innerHTML = '';\n",
              "          dataTable['output_type'] = 'display_data';\n",
              "          await google.colab.output.renderOutput(dataTable, element);\n",
              "          const docLink = document.createElement('div');\n",
              "          docLink.innerHTML = docLinkHtml;\n",
              "          element.appendChild(docLink);\n",
              "        }\n",
              "      </script>\n",
              "    </div>\n",
              "  </div>\n",
              "  "
            ]
          },
          "metadata": {},
          "execution_count": 27
        }
      ],
      "source": [
        "active_df[\"is_active\"] = [1] * active_df.shape[0]\n",
        "revised_decoy_df[\"is_active\"] = [0] * revised_decoy_df.shape[0]\n",
        "combined_df = active_df.append(revised_decoy_df)[[\"SMILES\",\"ID\",\"is_active\"]]\n",
        "combined_df.head()"
      ]
    },
    {
      "cell_type": "code",
      "execution_count": 28,
      "metadata": {
        "id": "1NDR_A5oz4ya"
      },
      "outputs": [],
      "source": [
        "# 파일로 저장해둔다\n",
        "combined_df.to_csv(\"dude_erk1_mk01.csv\")"
      ]
    },
    {
      "cell_type": "markdown",
      "metadata": {
        "id": "1V7obXblHUP6"
      },
      "source": [
        "# 이진 분류 모델\n",
        "\n",
        "- GCN 모델을 사용"
      ]
    },
    {
      "cell_type": "markdown",
      "metadata": {
        "id": "ee8fkz1pIStN"
      },
      "source": [
        "- 그래프 합성곱 모델을 만드는 함수"
      ]
    },
    {
      "cell_type": "code",
      "execution_count": 29,
      "metadata": {
        "id": "_ZB9-hFQHhph"
      },
      "outputs": [],
      "source": [
        "def generate_graph_conv_model():\n",
        "    batch_size = 128\n",
        "    model = GraphConvModel(1, batch_size=batch_size, \n",
        "             mode='classification', model_dir=\"./model_dir\")\n",
        "    return model"
      ]
    },
    {
      "cell_type": "code",
      "execution_count": 30,
      "metadata": {
        "id": "cxvt5XBkHsiK"
      },
      "outputs": [],
      "source": [
        "dataset_file = \"dude_erk1_mk01.csv\"\n",
        "tasks = [\"is_active\"]\n",
        "featurizer = dc.feat.ConvMolFeaturizer()\n",
        "loader = dc.data.CSVLoader(tasks=tasks, feature_field=\"SMILES\", featurizer=featurizer)\n",
        "dataset = loader.create_dataset(dataset_file, shard_size=8192)"
      ]
    },
    {
      "cell_type": "markdown",
      "metadata": {
        "id": "jC8aDynkIz89"
      },
      "source": [
        "- RandomSplitter() 사용\n",
        "- 화학 구조를 기반으로 데이터셋을 나누는 ScaffoleSplit(), 데이터를 군집화 한 후에 데이터셋을 분리하는 ButinaSplitter()도 있다\n",
        "- 불균형 데이터에 대한 성능 평가시에는 매튜 상관계수 Matthews Correlarions Coefficients(MCC)를 사용한다\n",
        " - +1이면 완벽한 예측, 0이면 랜덤 예측, -1이면 완전히 반대되는 예측을 의미한다"
      ]
    },
    {
      "cell_type": "code",
      "execution_count": 31,
      "metadata": {
        "id": "bIgIxmECICLd"
      },
      "outputs": [],
      "source": [
        "splitter = dc.splits.RandomSplitter()\n",
        "metrics = [dc.metrics.Metric(dc.metrics.matthews_corrcoef, np.mean)]"
      ]
    },
    {
      "cell_type": "code",
      "execution_count": 32,
      "metadata": {
        "colab": {
          "base_uri": "https://localhost:8080/",
          "height": 85,
          "referenced_widgets": [
            "041ef203516b433ea861e848de91be08",
            "811b5643255445b1be199f3c5f9092c8",
            "90f5c5cddad44359a2b7107c7306c805",
            "8bc8d7a5cc8f42d6b06ae2fa8d909fb0",
            "cdceea50a10243efa41bcf94dce6cf62",
            "f184cdf54623473bb44719380f1cba67",
            "b8daae9173164eb48cfd059080a01c02",
            "2827bfc9d66544ffb6e50fcd66cde1a8",
            "505f01fc7da743609fea71e2f21f7878",
            "f011965d58344b7382dfa0f1f8c6f5cf",
            "232d6d4c746148268fc97a71ede5a31e"
          ]
        },
        "collapsed": true,
        "id": "TfsZNqMbKlGv",
        "outputId": "19c9601a-b512-44d5-c37c-3cb2f4f93326"
      },
      "outputs": [
        {
          "output_type": "display_data",
          "data": {
            "text/plain": [
              "  0%|          | 0/5 [00:00<?, ?it/s]"
            ],
            "application/vnd.jupyter.widget-view+json": {
              "version_major": 2,
              "version_minor": 0,
              "model_id": "041ef203516b433ea861e848de91be08"
            }
          },
          "metadata": {}
        },
        {
          "output_type": "stream",
          "name": "stdout",
          "text": [
            "[0.8049192658916846, 0.1239318217180713, 0.4664678014830212, 0.7773072114396102, 0.663484468704159]\n",
            "[0.9118738006098865, 0.3304347275743111, 0.3131324768399919, 0.8934523381859952, 0.6090352313647203]\n"
          ]
        }
      ],
      "source": [
        "training_score_list = []\n",
        "validation_score_list = []\n",
        "transformers = []\n",
        "cv_folds = 5\n",
        "for i in tqdm(range(0,cv_folds)):\n",
        "    model = generate_graph_conv_model()\n",
        "    train_dataset, valid_dataset, test_dataset = splitter.train_valid_test_split(dataset)\n",
        "    model.fit(train_dataset)\n",
        "    train_scores = model.evaluate(train_dataset, metrics, transformers)\n",
        "    training_score_list.append(train_scores[\"mean-matthews_corrcoef\"])\n",
        "    validation_scores = model.evaluate(valid_dataset, metrics, transformers)\n",
        "    validation_score_list.append(validation_scores[\"mean-matthews_corrcoef\"])\n",
        "print(training_score_list)\n",
        "print(validation_score_list)"
      ]
    },
    {
      "cell_type": "code",
      "execution_count": 33,
      "metadata": {
        "colab": {
          "base_uri": "https://localhost:8080/"
        },
        "id": "x8WbOOLY3Njt",
        "outputId": "f0eb095a-0a8a-478d-f22a-a344ba87acd0"
      },
      "outputs": [
        {
          "output_type": "execute_result",
          "data": {
            "text/plain": [
              "(0.5672221138473093, 0.611585714914981)"
            ]
          },
          "metadata": {},
          "execution_count": 33
        }
      ],
      "source": [
        "np.array(training_score_list).mean(), np.array(validation_score_list).mean()"
      ]
    },
    {
      "cell_type": "code",
      "execution_count": 34,
      "metadata": {
        "colab": {
          "base_uri": "https://localhost:8080/",
          "height": 265
        },
        "id": "q-Y7amrZNMzi",
        "outputId": "ea6879e4-06be-4eee-9dcb-eda890cf0b32"
      },
      "outputs": [
        {
          "output_type": "display_data",
          "data": {
            "text/plain": [
              "<Figure size 432x288 with 1 Axes>"
            ],
            "image/png": "[encoded data removed]"
          },
          "metadata": {
            "image/png": {
              "width": 372,
              "height": 248
            },
            "needs_background": "light"
          }
        }
      ],
      "source": [
        "sns.boxplot(x=[\"training\"]*cv_folds+[\"validation\"]*cv_folds,y=training_score_list+validation_score_list);"
      ]
    },
    {
      "cell_type": "markdown",
      "metadata": {
        "id": "TIH_hSwPN-jt"
      },
      "source": [
        "## 검증 데이터 예측값 시각화"
      ]
    },
    {
      "cell_type": "code",
      "execution_count": 35,
      "metadata": {
        "id": "n6h8HG-fNSCZ"
      },
      "outputs": [],
      "source": [
        "pred = [x.flatten() for x in model.predict(valid_dataset)]"
      ]
    },
    {
      "cell_type": "code",
      "execution_count": 36,
      "metadata": {
        "colab": {
          "base_uri": "https://localhost:8080/",
          "height": 206
        },
        "id": "sfNkHHqfNkSe",
        "outputId": "a385afa7-2895-4323-9203-ff77e67a6f2d"
      },
      "outputs": [
        {
          "output_type": "execute_result",
          "data": {
            "text/plain": [
              "        neg       pos  active  \\\n",
              "0  0.966446  0.033554       0   \n",
              "1  0.996103  0.003897       0   \n",
              "2  0.999030  0.000970       0   \n",
              "3  0.993300  0.006700       0   \n",
              "4  0.992124  0.007876       0   \n",
              "\n",
              "                                              SMILES  \n",
              "0                 c1cc2c(cc1[C@H](c3ccsc3)O)CC(=O)N2  \n",
              "1  c1ccc(cc1)CSc2[nH]c(=O)c3c(n2)NC4=C([C@H]3c5cc...  \n",
              "2  c1ccc(c(c1)c2ccc(o2)C(=O)NC(=S)Nc3ccc(cc3)S(=O...  \n",
              "3  Cc1c\\2c(oc1C(=O)Nc3cc(cc(c3)C(=O)OC)C(=O)OC)CC...  \n",
              "4    CNC(=O)c1c2c(sc1NC(=O)[C@@H]3COc4ccccc4O3)CCCC2  "
            ],
            "text/html": [
              "\n",
              "  <div id=\"df-6e063fa5-5cbf-49ab-bef5-3cebffda78d2\">\n",
              "    <div class=\"colab-df-container\">\n",
              "      <div>\n",
              "<style scoped>\n",
              "    .dataframe tbody tr th:only-of-type {\n",
              "        vertical-align: middle;\n",
              "    }\n",
              "\n",
              "    .dataframe tbody tr th {\n",
              "        vertical-align: top;\n",
              "    }\n",
              "\n",
              "    .dataframe thead th {\n",
              "        text-align: right;\n",
              "    }\n",
              "</style>\n",
              "<table border=\"1\" class=\"dataframe\">\n",
              "  <thead>\n",
              "    <tr style=\"text-align: right;\">\n",
              "      <th></th>\n",
              "      <th>neg</th>\n",
              "      <th>pos</th>\n",
              "      <th>active</th>\n",
              "      <th>SMILES</th>\n",
              "    </tr>\n",
              "  </thead>\n",
              "  <tbody>\n",
              "    <tr>\n",
              "      <th>0</th>\n",
              "      <td>0.966446</td>\n",
              "      <td>0.033554</td>\n",
              "      <td>0</td>\n",
              "      <td>c1cc2c(cc1[C@H](c3ccsc3)O)CC(=O)N2</td>\n",
              "    </tr>\n",
              "    <tr>\n",
              "      <th>1</th>\n",
              "      <td>0.996103</td>\n",
              "      <td>0.003897</td>\n",
              "      <td>0</td>\n",
              "      <td>c1ccc(cc1)CSc2[nH]c(=O)c3c(n2)NC4=C([C@H]3c5cc...</td>\n",
              "    </tr>\n",
              "    <tr>\n",
              "      <th>2</th>\n",
              "      <td>0.999030</td>\n",
              "      <td>0.000970</td>\n",
              "      <td>0</td>\n",
              "      <td>c1ccc(c(c1)c2ccc(o2)C(=O)NC(=S)Nc3ccc(cc3)S(=O...</td>\n",
              "    </tr>\n",
              "    <tr>\n",
              "      <th>3</th>\n",
              "      <td>0.993300</td>\n",
              "      <td>0.006700</td>\n",
              "      <td>0</td>\n",
              "      <td>Cc1c\\2c(oc1C(=O)Nc3cc(cc(c3)C(=O)OC)C(=O)OC)CC...</td>\n",
              "    </tr>\n",
              "    <tr>\n",
              "      <th>4</th>\n",
              "      <td>0.992124</td>\n",
              "      <td>0.007876</td>\n",
              "      <td>0</td>\n",
              "      <td>CNC(=O)c1c2c(sc1NC(=O)[C@@H]3COc4ccccc4O3)CCCC2</td>\n",
              "    </tr>\n",
              "  </tbody>\n",
              "</table>\n",
              "</div>\n",
              "      <button class=\"colab-df-convert\" onclick=\"convertToInteractive('df-6e063fa5-5cbf-49ab-bef5-3cebffda78d2')\"\n",
              "              title=\"Convert this dataframe to an interactive table.\"\n",
              "              style=\"display:none;\">\n",
              "        \n",
              "  <svg xmlns=\"http://www.w3.org/2000/svg\" height=\"24px\"viewBox=\"0 0 24 24\"\n",
              "       width=\"24px\">\n",
              "    <path d=\"M0 0h24v24H0V0z\" fill=\"none\"/>\n",
              "    <path d=\"M18.56 5.44l.94 2.06.94-2.06 2.06-.94-2.06-.94-.94-2.06-.94 2.06-2.06.94zm-11 1L8.5 8.5l.94-2.06 2.06-.94-2.06-.94L8.5 2.5l-.94 2.06-2.06.94zm10 10l.94 2.06.94-2.06 2.06-.94-2.06-.94-.94-2.06-.94 2.06-2.06.94z\"/><path d=\"M17.41 7.96l-1.37-1.37c-.4-.4-.92-.59-1.43-.59-.52 0-1.04.2-1.43.59L10.3 9.45l-7.72 7.72c-.78.78-.78 2.05 0 2.83L4 21.41c.39.39.9.59 1.41.59.51 0 1.02-.2 1.41-.59l7.78-7.78 2.81-2.81c.8-.78.8-2.07 0-2.86zM5.41 20L4 18.59l7.72-7.72 1.47 1.35L5.41 20z\"/>\n",
              "  </svg>\n",
              "      </button>\n",
              "      \n",
              "  <style>\n",
              "    .colab-df-container {\n",
              "      display:flex;\n",
              "      flex-wrap:wrap;\n",
              "      gap: 12px;\n",
              "    }\n",
              "\n",
              "    .colab-df-convert {\n",
              "      background-color: #E8F0FE;\n",
              "      border: none;\n",
              "      border-radius: 50%;\n",
              "      cursor: pointer;\n",
              "      display: none;\n",
              "      fill: #1967D2;\n",
              "      height: 32px;\n",
              "      padding: 0 0 0 0;\n",
              "      width: 32px;\n",
              "    }\n",
              "\n",
              "    .colab-df-convert:hover {\n",
              "      background-color: #E2EBFA;\n",
              "      box-shadow: 0px 1px 2px rgba(60, 64, 67, 0.3), 0px 1px 3px 1px rgba(60, 64, 67, 0.15);\n",
              "      fill: #174EA6;\n",
              "    }\n",
              "\n",
              "    [theme=dark] .colab-df-convert {\n",
              "      background-color: #3B4455;\n",
              "      fill: #D2E3FC;\n",
              "    }\n",
              "\n",
              "    [theme=dark] .colab-df-convert:hover {\n",
              "      background-color: #434B5C;\n",
              "      box-shadow: 0px 1px 3px 1px rgba(0, 0, 0, 0.15);\n",
              "      filter: drop-shadow(0px 1px 2px rgba(0, 0, 0, 0.3));\n",
              "      fill: #FFFFFF;\n",
              "    }\n",
              "  </style>\n",
              "\n",
              "      <script>\n",
              "        const buttonEl =\n",
              "          document.querySelector('#df-6e063fa5-5cbf-49ab-bef5-3cebffda78d2 button.colab-df-convert');\n",
              "        buttonEl.style.display =\n",
              "          google.colab.kernel.accessAllowed ? 'block' : 'none';\n",
              "\n",
              "        async function convertToInteractive(key) {\n",
              "          const element = document.querySelector('#df-6e063fa5-5cbf-49ab-bef5-3cebffda78d2');\n",
              "          const dataTable =\n",
              "            await google.colab.kernel.invokeFunction('convertToInteractive',\n",
              "                                                     [key], {});\n",
              "          if (!dataTable) return;\n",
              "\n",
              "          const docLinkHtml = 'Like what you see? Visit the ' +\n",
              "            '<a target=\"_blank\" href=https://colab.research.google.com/notebooks/data_table.ipynb>data table notebook</a>'\n",
              "            + ' to learn more about interactive tables.';\n",
              "          element.innerHTML = '';\n",
              "          dataTable['output_type'] = 'display_data';\n",
              "          await google.colab.output.renderOutput(dataTable, element);\n",
              "          const docLink = document.createElement('div');\n",
              "          docLink.innerHTML = docLinkHtml;\n",
              "          element.appendChild(docLink);\n",
              "        }\n",
              "      </script>\n",
              "    </div>\n",
              "  </div>\n",
              "  "
            ]
          },
          "metadata": {},
          "execution_count": 36
        }
      ],
      "source": [
        "pred_df = pd.DataFrame(pred,columns=[\"neg\",\"pos\"])\n",
        "pred_df[\"active\"] = [int(x) for x in valid_dataset.y]\n",
        "pred_df[\"SMILES\"] = valid_dataset.ids\n",
        "pred_df.head()"
      ]
    },
    {
      "cell_type": "code",
      "execution_count": 37,
      "metadata": {
        "colab": {
          "base_uri": "https://localhost:8080/",
          "height": 833
        },
        "id": "TQO35DukNoVP",
        "outputId": "f5106289-ab7f-4df8-e097-74618877f3c5"
      },
      "outputs": [
        {
          "output_type": "execute_result",
          "data": {
            "text/plain": [
              "          neg       pos  active  \\\n",
              "65   0.142523  0.857477       1   \n",
              "366  0.405632  0.594368       1   \n",
              "130  0.443882  0.556118       1   \n",
              "229  0.557287  0.442713       1   \n",
              "300  0.764093  0.235907       1   \n",
              "461  0.859654  0.140346       0   \n",
              "44   0.917804  0.082196       1   \n",
              "201  0.935269  0.064731       0   \n",
              "118  0.944279  0.055721       0   \n",
              "48   0.947268  0.052732       0   \n",
              "182  0.949914  0.050086       1   \n",
              "232  0.956875  0.043125       0   \n",
              "0    0.966446  0.033554       0   \n",
              "155  0.971811  0.028189       0   \n",
              "279  0.971851  0.028149       0   \n",
              "117  0.975006  0.024994       0   \n",
              "11   0.975719  0.024281       0   \n",
              "428  0.975832  0.024168       0   \n",
              "252  0.976384  0.023616       0   \n",
              "433  0.977462  0.022538       0   \n",
              "281  0.977672  0.022328       0   \n",
              "285  0.980896  0.019104       0   \n",
              "391  0.981362  0.018638       0   \n",
              "135  0.982507  0.017493       0   \n",
              "59   0.982995  0.017005       0   \n",
              "\n",
              "                                                SMILES  \n",
              "65   c1cc(cc(c1)Cl)c2cn[nH]c2c3cc([nH]c3)C(=O)NC(CO...  \n",
              "366  Cc1cnc(nc1c2cc([nH]c2)C(=O)N[C@H](CO)c3ccccc3)...  \n",
              "130  Cc1ccccc1Nc2ncc(c(n2)c3cc([nH]c3)C(=O)N[C@H](C...  \n",
              "229  Cc1cnc(nc1c2cc([nH]c2)C(=O)N[C@H](CO)c3ccccc3)...  \n",
              "300  CN(Cc1ccccc1)C(=O)c2cc(c[nH]2)c3c(cn[nH]3)c4cc...  \n",
              "461                 Cc1ccc2nc(cn2c1)CSc3nncn3c4ccccc4C  \n",
              "44   CNC(=O)Nc1ccc(cn1)CNc2c(scn2)C(=O)Nc3ccc4c(c3)...  \n",
              "201        CCn1cc(c(=O)c2c1cccc2)c3nc(no3)c4ccc(cc4)Cl  \n",
              "118  c1ccc(cc1)n2ccc(cc2=O)CN/C=C\\3/c4cc(ccc4C(=O)N...  \n",
              "48   C[C@H](C(=O)Nc1ccc(cc1)C(F)(F)F)Nc2cccc(c2)N3C...  \n",
              "182                        c1c2c([nH]c1Br)C(=O)NCCC2=O  \n",
              "232               C[C@@H](Nc1ccc(N)c2nonc12)c1nnn[nH]1  \n",
              "0                   c1cc2c(cc1[C@H](c3ccsc3)O)CC(=O)N2  \n",
              "155        COc1ccc2c(c1)sc(n2)Nc3c(c(ncn3)NCCc4cccs4)N  \n",
              "279  CNS(=O)(=O)c1ccc(cc1)N/C=C\\2/C(=O)NC(=O)N(C2=O...  \n",
              "117          c1cc(sc1)[C@@H]2C(C(=NC(=C2C(=O)N)S)N)C#N  \n",
              "11   CC1CCN(Cc2c(C(=O)N/N=C/c3cccc(C(F)(F)F)c3)nnn2...  \n",
              "428                   Cc1ccc(cc1C)CSc2nnc(n2N)c3ccccn3  \n",
              "252  CC(C)c1ccc(cc1)NC(=O)c2ccccc2NS(=O)(=O)c3ccc4c...  \n",
              "433     O=[N+]([O-])c1cccc(/C=C2\\CCCC(C3=NCCN3)=C2O)c1  \n",
              "281  c1cc(sc1)[C@H](CC(=O)Nc2ccc3c(c2)sc(n3)C4CC4)N...  \n",
              "285  CC1(CC2=C([C@@H](N(c3ccccc3N2)CC(=O)NC)c4cccs4...  \n",
              "391     Cc1ccccc1CS[C@H]2N=C3C(=CN=N3)C(=O)N2c4ccccc4C  \n",
              "135  CCOc1cc(cc(c1OCC)OCC)C(=O)Nc2cc(nn2c3nc4c(cc(c...  \n",
              "59   COc1cc(ccc1OCc2cccc3c2cccc3)/C=N/NC(=O)c4ccc(c...  "
            ],
            "text/html": [
              "\n",
              "  <div id=\"df-4f35fe4c-1878-4ac3-bee7-efdf14bec04c\">\n",
              "    <div class=\"colab-df-container\">\n",
              "      <div>\n",
              "<style scoped>\n",
              "    .dataframe tbody tr th:only-of-type {\n",
              "        vertical-align: middle;\n",
              "    }\n",
              "\n",
              "    .dataframe tbody tr th {\n",
              "        vertical-align: top;\n",
              "    }\n",
              "\n",
              "    .dataframe thead th {\n",
              "        text-align: right;\n",
              "    }\n",
              "</style>\n",
              "<table border=\"1\" class=\"dataframe\">\n",
              "  <thead>\n",
              "    <tr style=\"text-align: right;\">\n",
              "      <th></th>\n",
              "      <th>neg</th>\n",
              "      <th>pos</th>\n",
              "      <th>active</th>\n",
              "      <th>SMILES</th>\n",
              "    </tr>\n",
              "  </thead>\n",
              "  <tbody>\n",
              "    <tr>\n",
              "      <th>65</th>\n",
              "      <td>0.142523</td>\n",
              "      <td>0.857477</td>\n",
              "      <td>1</td>\n",
              "      <td>c1cc(cc(c1)Cl)c2cn[nH]c2c3cc([nH]c3)C(=O)NC(CO...</td>\n",
              "    </tr>\n",
              "    <tr>\n",
              "      <th>366</th>\n",
              "      <td>0.405632</td>\n",
              "      <td>0.594368</td>\n",
              "      <td>1</td>\n",
              "      <td>Cc1cnc(nc1c2cc([nH]c2)C(=O)N[C@H](CO)c3ccccc3)...</td>\n",
              "    </tr>\n",
              "    <tr>\n",
              "      <th>130</th>\n",
              "      <td>0.443882</td>\n",
              "      <td>0.556118</td>\n",
              "      <td>1</td>\n",
              "      <td>Cc1ccccc1Nc2ncc(c(n2)c3cc([nH]c3)C(=O)N[C@H](C...</td>\n",
              "    </tr>\n",
              "    <tr>\n",
              "      <th>229</th>\n",
              "      <td>0.557287</td>\n",
              "      <td>0.442713</td>\n",
              "      <td>1</td>\n",
              "      <td>Cc1cnc(nc1c2cc([nH]c2)C(=O)N[C@H](CO)c3ccccc3)...</td>\n",
              "    </tr>\n",
              "    <tr>\n",
              "      <th>300</th>\n",
              "      <td>0.764093</td>\n",
              "      <td>0.235907</td>\n",
              "      <td>1</td>\n",
              "      <td>CN(Cc1ccccc1)C(=O)c2cc(c[nH]2)c3c(cn[nH]3)c4cc...</td>\n",
              "    </tr>\n",
              "    <tr>\n",
              "      <th>461</th>\n",
              "      <td>0.859654</td>\n",
              "      <td>0.140346</td>\n",
              "      <td>0</td>\n",
              "      <td>Cc1ccc2nc(cn2c1)CSc3nncn3c4ccccc4C</td>\n",
              "    </tr>\n",
              "    <tr>\n",
              "      <th>44</th>\n",
              "      <td>0.917804</td>\n",
              "      <td>0.082196</td>\n",
              "      <td>1</td>\n",
              "      <td>CNC(=O)Nc1ccc(cn1)CNc2c(scn2)C(=O)Nc3ccc4c(c3)...</td>\n",
              "    </tr>\n",
              "    <tr>\n",
              "      <th>201</th>\n",
              "      <td>0.935269</td>\n",
              "      <td>0.064731</td>\n",
              "      <td>0</td>\n",
              "      <td>CCn1cc(c(=O)c2c1cccc2)c3nc(no3)c4ccc(cc4)Cl</td>\n",
              "    </tr>\n",
              "    <tr>\n",
              "      <th>118</th>\n",
              "      <td>0.944279</td>\n",
              "      <td>0.055721</td>\n",
              "      <td>0</td>\n",
              "      <td>c1ccc(cc1)n2ccc(cc2=O)CN/C=C\\3/c4cc(ccc4C(=O)N...</td>\n",
              "    </tr>\n",
              "    <tr>\n",
              "      <th>48</th>\n",
              "      <td>0.947268</td>\n",
              "      <td>0.052732</td>\n",
              "      <td>0</td>\n",
              "      <td>C[C@H](C(=O)Nc1ccc(cc1)C(F)(F)F)Nc2cccc(c2)N3C...</td>\n",
              "    </tr>\n",
              "    <tr>\n",
              "      <th>182</th>\n",
              "      <td>0.949914</td>\n",
              "      <td>0.050086</td>\n",
              "      <td>1</td>\n",
              "      <td>c1c2c([nH]c1Br)C(=O)NCCC2=O</td>\n",
              "    </tr>\n",
              "    <tr>\n",
              "      <th>232</th>\n",
              "      <td>0.956875</td>\n",
              "      <td>0.043125</td>\n",
              "      <td>0</td>\n",
              "      <td>C[C@@H](Nc1ccc(N)c2nonc12)c1nnn[nH]1</td>\n",
              "    </tr>\n",
              "    <tr>\n",
              "      <th>0</th>\n",
              "      <td>0.966446</td>\n",
              "      <td>0.033554</td>\n",
              "      <td>0</td>\n",
              "      <td>c1cc2c(cc1[C@H](c3ccsc3)O)CC(=O)N2</td>\n",
              "    </tr>\n",
              "    <tr>\n",
              "      <th>155</th>\n",
              "      <td>0.971811</td>\n",
              "      <td>0.028189</td>\n",
              "      <td>0</td>\n",
              "      <td>COc1ccc2c(c1)sc(n2)Nc3c(c(ncn3)NCCc4cccs4)N</td>\n",
              "    </tr>\n",
              "    <tr>\n",
              "      <th>279</th>\n",
              "      <td>0.971851</td>\n",
              "      <td>0.028149</td>\n",
              "      <td>0</td>\n",
              "      <td>CNS(=O)(=O)c1ccc(cc1)N/C=C\\2/C(=O)NC(=O)N(C2=O...</td>\n",
              "    </tr>\n",
              "    <tr>\n",
              "      <th>117</th>\n",
              "      <td>0.975006</td>\n",
              "      <td>0.024994</td>\n",
              "      <td>0</td>\n",
              "      <td>c1cc(sc1)[C@@H]2C(C(=NC(=C2C(=O)N)S)N)C#N</td>\n",
              "    </tr>\n",
              "    <tr>\n",
              "      <th>11</th>\n",
              "      <td>0.975719</td>\n",
              "      <td>0.024281</td>\n",
              "      <td>0</td>\n",
              "      <td>CC1CCN(Cc2c(C(=O)N/N=C/c3cccc(C(F)(F)F)c3)nnn2...</td>\n",
              "    </tr>\n",
              "    <tr>\n",
              "      <th>428</th>\n",
              "      <td>0.975832</td>\n",
              "      <td>0.024168</td>\n",
              "      <td>0</td>\n",
              "      <td>Cc1ccc(cc1C)CSc2nnc(n2N)c3ccccn3</td>\n",
              "    </tr>\n",
              "    <tr>\n",
              "      <th>252</th>\n",
              "      <td>0.976384</td>\n",
              "      <td>0.023616</td>\n",
              "      <td>0</td>\n",
              "      <td>CC(C)c1ccc(cc1)NC(=O)c2ccccc2NS(=O)(=O)c3ccc4c...</td>\n",
              "    </tr>\n",
              "    <tr>\n",
              "      <th>433</th>\n",
              "      <td>0.977462</td>\n",
              "      <td>0.022538</td>\n",
              "      <td>0</td>\n",
              "      <td>O=[N+]([O-])c1cccc(/C=C2\\CCCC(C3=NCCN3)=C2O)c1</td>\n",
              "    </tr>\n",
              "    <tr>\n",
              "      <th>281</th>\n",
              "      <td>0.977672</td>\n",
              "      <td>0.022328</td>\n",
              "      <td>0</td>\n",
              "      <td>c1cc(sc1)[C@H](CC(=O)Nc2ccc3c(c2)sc(n3)C4CC4)N...</td>\n",
              "    </tr>\n",
              "    <tr>\n",
              "      <th>285</th>\n",
              "      <td>0.980896</td>\n",
              "      <td>0.019104</td>\n",
              "      <td>0</td>\n",
              "      <td>CC1(CC2=C([C@@H](N(c3ccccc3N2)CC(=O)NC)c4cccs4...</td>\n",
              "    </tr>\n",
              "    <tr>\n",
              "      <th>391</th>\n",
              "      <td>0.981362</td>\n",
              "      <td>0.018638</td>\n",
              "      <td>0</td>\n",
              "      <td>Cc1ccccc1CS[C@H]2N=C3C(=CN=N3)C(=O)N2c4ccccc4C</td>\n",
              "    </tr>\n",
              "    <tr>\n",
              "      <th>135</th>\n",
              "      <td>0.982507</td>\n",
              "      <td>0.017493</td>\n",
              "      <td>0</td>\n",
              "      <td>CCOc1cc(cc(c1OCC)OCC)C(=O)Nc2cc(nn2c3nc4c(cc(c...</td>\n",
              "    </tr>\n",
              "    <tr>\n",
              "      <th>59</th>\n",
              "      <td>0.982995</td>\n",
              "      <td>0.017005</td>\n",
              "      <td>0</td>\n",
              "      <td>COc1cc(ccc1OCc2cccc3c2cccc3)/C=N/NC(=O)c4ccc(c...</td>\n",
              "    </tr>\n",
              "  </tbody>\n",
              "</table>\n",
              "</div>\n",
              "      <button class=\"colab-df-convert\" onclick=\"convertToInteractive('df-4f35fe4c-1878-4ac3-bee7-efdf14bec04c')\"\n",
              "              title=\"Convert this dataframe to an interactive table.\"\n",
              "              style=\"display:none;\">\n",
              "        \n",
              "  <svg xmlns=\"http://www.w3.org/2000/svg\" height=\"24px\"viewBox=\"0 0 24 24\"\n",
              "       width=\"24px\">\n",
              "    <path d=\"M0 0h24v24H0V0z\" fill=\"none\"/>\n",
              "    <path d=\"M18.56 5.44l.94 2.06.94-2.06 2.06-.94-2.06-.94-.94-2.06-.94 2.06-2.06.94zm-11 1L8.5 8.5l.94-2.06 2.06-.94-2.06-.94L8.5 2.5l-.94 2.06-2.06.94zm10 10l.94 2.06.94-2.06 2.06-.94-2.06-.94-.94-2.06-.94 2.06-2.06.94z\"/><path d=\"M17.41 7.96l-1.37-1.37c-.4-.4-.92-.59-1.43-.59-.52 0-1.04.2-1.43.59L10.3 9.45l-7.72 7.72c-.78.78-.78 2.05 0 2.83L4 21.41c.39.39.9.59 1.41.59.51 0 1.02-.2 1.41-.59l7.78-7.78 2.81-2.81c.8-.78.8-2.07 0-2.86zM5.41 20L4 18.59l7.72-7.72 1.47 1.35L5.41 20z\"/>\n",
              "  </svg>\n",
              "      </button>\n",
              "      \n",
              "  <style>\n",
              "    .colab-df-container {\n",
              "      display:flex;\n",
              "      flex-wrap:wrap;\n",
              "      gap: 12px;\n",
              "    }\n",
              "\n",
              "    .colab-df-convert {\n",
              "      background-color: #E8F0FE;\n",
              "      border: none;\n",
              "      border-radius: 50%;\n",
              "      cursor: pointer;\n",
              "      display: none;\n",
              "      fill: #1967D2;\n",
              "      height: 32px;\n",
              "      padding: 0 0 0 0;\n",
              "      width: 32px;\n",
              "    }\n",
              "\n",
              "    .colab-df-convert:hover {\n",
              "      background-color: #E2EBFA;\n",
              "      box-shadow: 0px 1px 2px rgba(60, 64, 67, 0.3), 0px 1px 3px 1px rgba(60, 64, 67, 0.15);\n",
              "      fill: #174EA6;\n",
              "    }\n",
              "\n",
              "    [theme=dark] .colab-df-convert {\n",
              "      background-color: #3B4455;\n",
              "      fill: #D2E3FC;\n",
              "    }\n",
              "\n",
              "    [theme=dark] .colab-df-convert:hover {\n",
              "      background-color: #434B5C;\n",
              "      box-shadow: 0px 1px 3px 1px rgba(0, 0, 0, 0.15);\n",
              "      filter: drop-shadow(0px 1px 2px rgba(0, 0, 0, 0.3));\n",
              "      fill: #FFFFFF;\n",
              "    }\n",
              "  </style>\n",
              "\n",
              "      <script>\n",
              "        const buttonEl =\n",
              "          document.querySelector('#df-4f35fe4c-1878-4ac3-bee7-efdf14bec04c button.colab-df-convert');\n",
              "        buttonEl.style.display =\n",
              "          google.colab.kernel.accessAllowed ? 'block' : 'none';\n",
              "\n",
              "        async function convertToInteractive(key) {\n",
              "          const element = document.querySelector('#df-4f35fe4c-1878-4ac3-bee7-efdf14bec04c');\n",
              "          const dataTable =\n",
              "            await google.colab.kernel.invokeFunction('convertToInteractive',\n",
              "                                                     [key], {});\n",
              "          if (!dataTable) return;\n",
              "\n",
              "          const docLinkHtml = 'Like what you see? Visit the ' +\n",
              "            '<a target=\"_blank\" href=https://colab.research.google.com/notebooks/data_table.ipynb>data table notebook</a>'\n",
              "            + ' to learn more about interactive tables.';\n",
              "          element.innerHTML = '';\n",
              "          dataTable['output_type'] = 'display_data';\n",
              "          await google.colab.output.renderOutput(dataTable, element);\n",
              "          const docLink = document.createElement('div');\n",
              "          docLink.innerHTML = docLinkHtml;\n",
              "          element.appendChild(docLink);\n",
              "        }\n",
              "      </script>\n",
              "    </div>\n",
              "  </div>\n",
              "  "
            ]
          },
          "metadata": {},
          "execution_count": 37
        }
      ],
      "source": [
        "pred_df.sort_values(\"pos\",ascending=False).head(25)"
      ]
    },
    {
      "cell_type": "code",
      "execution_count": 38,
      "metadata": {
        "colab": {
          "base_uri": "https://localhost:8080/",
          "height": 296
        },
        "id": "PKH1XjfD1X3c",
        "outputId": "75705251-d3fd-4aef-a329-c18c04236dc3"
      },
      "outputs": [
        {
          "output_type": "execute_result",
          "data": {
            "text/plain": [
              "<matplotlib.axes._subplots.AxesSubplot at 0x7fe2333c0d50>"
            ]
          },
          "metadata": {},
          "execution_count": 38
        },
        {
          "output_type": "display_data",
          "data": {
            "text/plain": [
              "<Figure size 432x288 with 1 Axes>"
            ],
            "image/png": "[encoded data removed]"
          },
          "metadata": {
            "image/png": {
              "width": 385,
              "height": 261
            },
            "needs_background": "light"
          }
        }
      ],
      "source": [
        "sns.boxplot(x=pred_df.active,y=pred_df.pos)"
      ]
    },
    {
      "cell_type": "markdown",
      "metadata": {
        "id": "-XhDRA1o2q0E"
      },
      "source": [
        "- 위 그래프를 보면 활성 분자와 비활성 분자를 잘 구분하고 있는 것을 알 수 있다\n",
        "- False Negative 샘플 찾기"
      ]
    },
    {
      "cell_type": "code",
      "execution_count": 39,
      "metadata": {
        "id": "ac4wexF92kbu"
      },
      "outputs": [],
      "source": [
        "false_negative_df = pred_df.query(\"active == 1 & pos < 0.5\").copy()"
      ]
    },
    {
      "cell_type": "code",
      "execution_count": 40,
      "metadata": {
        "colab": {
          "base_uri": "https://localhost:8080/",
          "height": 1000
        },
        "id": "CG6W5TXT4Gwq",
        "outputId": "1f1c9211-1310-4e1e-c7c7-7ec09211b1af"
      },
      "outputs": [
        {
          "output_type": "execute_result",
          "data": {
            "text/plain": [
              "          neg       pos  active  \\\n",
              "34   0.999821  0.000179       1   \n",
              "44   0.917804  0.082196       1   \n",
              "182  0.949914  0.050086       1   \n",
              "229  0.557287  0.442713       1   \n",
              "300  0.764093  0.235907       1   \n",
              "\n",
              "                                                SMILES  \\\n",
              "34   CCCCNC(=O)N1Cc2c(n[nH]c2NC(=O)Cc3ccc(cc3)N4CCC...   \n",
              "44   CNC(=O)Nc1ccc(cn1)CNc2c(scn2)C(=O)Nc3ccc4c(c3)...   \n",
              "182                        c1c2c([nH]c1Br)C(=O)NCCC2=O   \n",
              "229  Cc1cnc(nc1c2cc([nH]c2)C(=O)N[C@H](CO)c3ccccc3)...   \n",
              "300  CN(Cc1ccccc1)C(=O)c2cc(c[nH]2)c3c(cn[nH]3)c4cc...   \n",
              "\n",
              "                                                  Mol  \n",
              "34   <rdkit.Chem.rdchem.Mol object at 0x7fe29f85fee0>  \n",
              "44   <rdkit.Chem.rdchem.Mol object at 0x7fe23335e940>  \n",
              "182  <rdkit.Chem.rdchem.Mol object at 0x7fe29fa38cb0>  \n",
              "229  <rdkit.Chem.rdchem.Mol object at 0x7fe2910e43f0>  \n",
              "300  <rdkit.Chem.rdchem.Mol object at 0x7fe2a018d300>  "
            ],
            "text/html": [
              "\n",
              "  <div id=\"df-452a376b-95c6-4174-949c-ecc62450b51e\">\n",
              "    <div class=\"colab-df-container\">\n",
              "      <div>\n",
              "<style scoped>\n",
              "    .dataframe tbody tr th:only-of-type {\n",
              "        vertical-align: middle;\n",
              "    }\n",
              "\n",
              "    .dataframe tbody tr th {\n",
              "        vertical-align: top;\n",
              "    }\n",
              "\n",
              "    .dataframe thead th {\n",
              "        text-align: right;\n",
              "    }\n",
              "</style>\n",
              "<table border=\"1\" class=\"dataframe\">\n",
              "  <thead>\n",
              "    <tr style=\"text-align: right;\">\n",
              "      <th></th>\n",
              "      <th>neg</th>\n",
              "      <th>pos</th>\n",
              "      <th>active</th>\n",
              "      <th>SMILES</th>\n",
              "      <th>Mol</th>\n",
              "    </tr>\n",
              "  </thead>\n",
              "  <tbody>\n",
              "    <tr>\n",
              "      <th>34</th>\n",
              "      <td>0.999821</td>\n",
              "      <td>0.000179</td>\n",
              "      <td>1</td>\n",
              "      <td>CCCCNC(=O)N1Cc2c(n[nH]c2NC(=O)Cc3ccc(cc3)N4CCC...</td>\n",
              "      <td style=\"text-align: center;\"><div style=\"width: 200px; height: 200px\" data-content=\"rdkit/molecule\"><img src=\"data:image/png;base64,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\" alt=\"Mol\"/></div></td>\n",
              "    </tr>\n",
              "    <tr>\n",
              "      <th>44</th>\n",
              "      <td>0.917804</td>\n",
              "      <td>0.082196</td>\n",
              "      <td>1</td>\n",
              "      <td>CNC(=O)Nc1ccc(cn1)CNc2c(scn2)C(=O)Nc3ccc4c(c3)...</td>\n",
              "      <td style=\"text-align: center;\"><div style=\"width: 200px; height: 200px\" data-content=\"rdkit/molecule\"><img src=\"data:image/png;base64,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\" alt=\"Mol\"/></div></td>\n",
              "    </tr>\n",
              "    <tr>\n",
              "      <th>182</th>\n",
              "      <td>0.949914</td>\n",
              "      <td>0.050086</td>\n",
              "      <td>1</td>\n",
              "      <td>c1c2c([nH]c1Br)C(=O)NCCC2=O</td>\n",
              "      <td style=\"text-align: center;\"><div style=\"width: 200px; height: 200px\" data-content=\"rdkit/molecule\"><img src=\"data:image/png;base64,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\" alt=\"Mol\"/></div></td>\n",
              "    </tr>\n",
              "    <tr>\n",
              "      <th>229</th>\n",
              "      <td>0.557287</td>\n",
              "      <td>0.442713</td>\n",
              "      <td>1</td>\n",
              "      <td>Cc1cnc(nc1c2cc([nH]c2)C(=O)N[C@H](CO)c3ccccc3)...</td>\n",
              "      <td style=\"text-align: center;\"><div style=\"width: 200px; height: 200px\" data-content=\"rdkit/molecule\"><img src=\"data:image/png;base64,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\" alt=\"Mol\"/></div></td>\n",
              "    </tr>\n",
              "    <tr>\n",
              "      <th>300</th>\n",
              "      <td>0.764093</td>\n",
              "      <td>0.235907</td>\n",
              "      <td>1</td>\n",
              "      <td>CN(Cc1ccccc1)C(=O)c2cc(c[nH]2)c3c(cn[nH]3)c4cc...</td>\n",
              "      <td style=\"text-align: center;\"><div style=\"width: 200px; height: 200px\" data-content=\"rdkit/molecule\"><img src=\"data:image/png;base64,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\" alt=\"Mol\"/></div></td>\n",
              "    </tr>\n",
              "  </tbody>\n",
              "</table>\n",
              "</div>\n",
              "      <button class=\"colab-df-convert\" onclick=\"convertToInteractive('df-452a376b-95c6-4174-949c-ecc62450b51e')\"\n",
              "              title=\"Convert this dataframe to an interactive table.\"\n",
              "              style=\"display:none;\">\n",
              "        \n",
              "  <svg xmlns=\"http://www.w3.org/2000/svg\" height=\"24px\"viewBox=\"0 0 24 24\"\n",
              "       width=\"24px\">\n",
              "    <path d=\"M0 0h24v24H0V0z\" fill=\"none\"/>\n",
              "    <path d=\"M18.56 5.44l.94 2.06.94-2.06 2.06-.94-2.06-.94-.94-2.06-.94 2.06-2.06.94zm-11 1L8.5 8.5l.94-2.06 2.06-.94-2.06-.94L8.5 2.5l-.94 2.06-2.06.94zm10 10l.94 2.06.94-2.06 2.06-.94-2.06-.94-.94-2.06-.94 2.06-2.06.94z\"/><path d=\"M17.41 7.96l-1.37-1.37c-.4-.4-.92-.59-1.43-.59-.52 0-1.04.2-1.43.59L10.3 9.45l-7.72 7.72c-.78.78-.78 2.05 0 2.83L4 21.41c.39.39.9.59 1.41.59.51 0 1.02-.2 1.41-.59l7.78-7.78 2.81-2.81c.8-.78.8-2.07 0-2.86zM5.41 20L4 18.59l7.72-7.72 1.47 1.35L5.41 20z\"/>\n",
              "  </svg>\n",
              "      </button>\n",
              "      \n",
              "  <style>\n",
              "    .colab-df-container {\n",
              "      display:flex;\n",
              "      flex-wrap:wrap;\n",
              "      gap: 12px;\n",
              "    }\n",
              "\n",
              "    .colab-df-convert {\n",
              "      background-color: #E8F0FE;\n",
              "      border: none;\n",
              "      border-radius: 50%;\n",
              "      cursor: pointer;\n",
              "      display: none;\n",
              "      fill: #1967D2;\n",
              "      height: 32px;\n",
              "      padding: 0 0 0 0;\n",
              "      width: 32px;\n",
              "    }\n",
              "\n",
              "    .colab-df-convert:hover {\n",
              "      background-color: #E2EBFA;\n",
              "      box-shadow: 0px 1px 2px rgba(60, 64, 67, 0.3), 0px 1px 3px 1px rgba(60, 64, 67, 0.15);\n",
              "      fill: #174EA6;\n",
              "    }\n",
              "\n",
              "    [theme=dark] .colab-df-convert {\n",
              "      background-color: #3B4455;\n",
              "      fill: #D2E3FC;\n",
              "    }\n",
              "\n",
              "    [theme=dark] .colab-df-convert:hover {\n",
              "      background-color: #434B5C;\n",
              "      box-shadow: 0px 1px 3px 1px rgba(0, 0, 0, 0.15);\n",
              "      filter: drop-shadow(0px 1px 2px rgba(0, 0, 0, 0.3));\n",
              "      fill: #FFFFFF;\n",
              "    }\n",
              "  </style>\n",
              "\n",
              "      <script>\n",
              "        const buttonEl =\n",
              "          document.querySelector('#df-452a376b-95c6-4174-949c-ecc62450b51e button.colab-df-convert');\n",
              "        buttonEl.style.display =\n",
              "          google.colab.kernel.accessAllowed ? 'block' : 'none';\n",
              "\n",
              "        async function convertToInteractive(key) {\n",
              "          const element = document.querySelector('#df-452a376b-95c6-4174-949c-ecc62450b51e');\n",
              "          const dataTable =\n",
              "            await google.colab.kernel.invokeFunction('convertToInteractive',\n",
              "                                                     [key], {});\n",
              "          if (!dataTable) return;\n",
              "\n",
              "          const docLinkHtml = 'Like what you see? Visit the ' +\n",
              "            '<a target=\"_blank\" href=https://colab.research.google.com/notebooks/data_table.ipynb>data table notebook</a>'\n",
              "            + ' to learn more about interactive tables.';\n",
              "          element.innerHTML = '';\n",
              "          dataTable['output_type'] = 'display_data';\n",
              "          await google.colab.output.renderOutput(dataTable, element);\n",
              "          const docLink = document.createElement('div');\n",
              "          docLink.innerHTML = docLinkHtml;\n",
              "          element.appendChild(docLink);\n",
              "        }\n",
              "      </script>\n",
              "    </div>\n",
              "  </div>\n",
              "  "
            ]
          },
          "metadata": {},
          "execution_count": 40
        }
      ],
      "source": [
        "PandasTools.AddMoleculeColumnToFrame(false_negative_df,\"SMILES\",\"Mol\")\n",
        "false_negative_df"
      ]
    },
    {
      "cell_type": "markdown",
      "metadata": {
        "id": "MoBBTdBA7dfL"
      },
      "source": [
        "- False Positive 샘플 찾기"
      ]
    },
    {
      "cell_type": "code",
      "execution_count": 41,
      "metadata": {
        "colab": {
          "base_uri": "https://localhost:8080/",
          "height": 49
        },
        "id": "hqgI9dbe4N51",
        "outputId": "48279515-0916-4cbd-8484-c9b5270ad8c6"
      },
      "outputs": [
        {
          "output_type": "execute_result",
          "data": {
            "text/plain": [
              "Empty DataFrame\n",
              "Columns: [neg, pos, active, SMILES, Mol]\n",
              "Index: []"
            ],
            "text/html": [
              "\n",
              "  <div id=\"df-041e23d1-92d2-43f1-b6d7-61f48240804c\">\n",
              "    <div class=\"colab-df-container\">\n",
              "      <div>\n",
              "<style scoped>\n",
              "    .dataframe tbody tr th:only-of-type {\n",
              "        vertical-align: middle;\n",
              "    }\n",
              "\n",
              "    .dataframe tbody tr th {\n",
              "        vertical-align: top;\n",
              "    }\n",
              "\n",
              "    .dataframe thead th {\n",
              "        text-align: right;\n",
              "    }\n",
              "</style>\n",
              "<table border=\"1\" class=\"dataframe\">\n",
              "  <thead>\n",
              "    <tr style=\"text-align: right;\">\n",
              "      <th></th>\n",
              "      <th>neg</th>\n",
              "      <th>pos</th>\n",
              "      <th>active</th>\n",
              "      <th>SMILES</th>\n",
              "      <th>Mol</th>\n",
              "    </tr>\n",
              "  </thead>\n",
              "  <tbody>\n",
              "  </tbody>\n",
              "</table>\n",
              "</div>\n",
              "      <button class=\"colab-df-convert\" onclick=\"convertToInteractive('df-041e23d1-92d2-43f1-b6d7-61f48240804c')\"\n",
              "              title=\"Convert this dataframe to an interactive table.\"\n",
              "              style=\"display:none;\">\n",
              "        \n",
              "  <svg xmlns=\"http://www.w3.org/2000/svg\" height=\"24px\"viewBox=\"0 0 24 24\"\n",
              "       width=\"24px\">\n",
              "    <path d=\"M0 0h24v24H0V0z\" fill=\"none\"/>\n",
              "    <path d=\"M18.56 5.44l.94 2.06.94-2.06 2.06-.94-2.06-.94-.94-2.06-.94 2.06-2.06.94zm-11 1L8.5 8.5l.94-2.06 2.06-.94-2.06-.94L8.5 2.5l-.94 2.06-2.06.94zm10 10l.94 2.06.94-2.06 2.06-.94-2.06-.94-.94-2.06-.94 2.06-2.06.94z\"/><path d=\"M17.41 7.96l-1.37-1.37c-.4-.4-.92-.59-1.43-.59-.52 0-1.04.2-1.43.59L10.3 9.45l-7.72 7.72c-.78.78-.78 2.05 0 2.83L4 21.41c.39.39.9.59 1.41.59.51 0 1.02-.2 1.41-.59l7.78-7.78 2.81-2.81c.8-.78.8-2.07 0-2.86zM5.41 20L4 18.59l7.72-7.72 1.47 1.35L5.41 20z\"/>\n",
              "  </svg>\n",
              "      </button>\n",
              "      \n",
              "  <style>\n",
              "    .colab-df-container {\n",
              "      display:flex;\n",
              "      flex-wrap:wrap;\n",
              "      gap: 12px;\n",
              "    }\n",
              "\n",
              "    .colab-df-convert {\n",
              "      background-color: #E8F0FE;\n",
              "      border: none;\n",
              "      border-radius: 50%;\n",
              "      cursor: pointer;\n",
              "      display: none;\n",
              "      fill: #1967D2;\n",
              "      height: 32px;\n",
              "      padding: 0 0 0 0;\n",
              "      width: 32px;\n",
              "    }\n",
              "\n",
              "    .colab-df-convert:hover {\n",
              "      background-color: #E2EBFA;\n",
              "      box-shadow: 0px 1px 2px rgba(60, 64, 67, 0.3), 0px 1px 3px 1px rgba(60, 64, 67, 0.15);\n",
              "      fill: #174EA6;\n",
              "    }\n",
              "\n",
              "    [theme=dark] .colab-df-convert {\n",
              "      background-color: #3B4455;\n",
              "      fill: #D2E3FC;\n",
              "    }\n",
              "\n",
              "    [theme=dark] .colab-df-convert:hover {\n",
              "      background-color: #434B5C;\n",
              "      box-shadow: 0px 1px 3px 1px rgba(0, 0, 0, 0.15);\n",
              "      filter: drop-shadow(0px 1px 2px rgba(0, 0, 0, 0.3));\n",
              "      fill: #FFFFFF;\n",
              "    }\n",
              "  </style>\n",
              "\n",
              "      <script>\n",
              "        const buttonEl =\n",
              "          document.querySelector('#df-041e23d1-92d2-43f1-b6d7-61f48240804c button.colab-df-convert');\n",
              "        buttonEl.style.display =\n",
              "          google.colab.kernel.accessAllowed ? 'block' : 'none';\n",
              "\n",
              "        async function convertToInteractive(key) {\n",
              "          const element = document.querySelector('#df-041e23d1-92d2-43f1-b6d7-61f48240804c');\n",
              "          const dataTable =\n",
              "            await google.colab.kernel.invokeFunction('convertToInteractive',\n",
              "                                                     [key], {});\n",
              "          if (!dataTable) return;\n",
              "\n",
              "          const docLinkHtml = 'Like what you see? Visit the ' +\n",
              "            '<a target=\"_blank\" href=https://colab.research.google.com/notebooks/data_table.ipynb>data table notebook</a>'\n",
              "            + ' to learn more about interactive tables.';\n",
              "          element.innerHTML = '';\n",
              "          dataTable['output_type'] = 'display_data';\n",
              "          await google.colab.output.renderOutput(dataTable, element);\n",
              "          const docLink = document.createElement('div');\n",
              "          docLink.innerHTML = docLinkHtml;\n",
              "          element.appendChild(docLink);\n",
              "        }\n",
              "      </script>\n",
              "    </div>\n",
              "  </div>\n",
              "  "
            ]
          },
          "metadata": {},
          "execution_count": 41
        }
      ],
      "source": [
        "false_positive_df = pred_df.query(\"active == 0 & pos > 0.5\").copy()\n",
        "PandasTools.AddMoleculeColumnToFrame(false_positive_df,\"SMILES\",\"Mol\")\n",
        "false_positive_df"
      ]
    },
    {
      "cell_type": "markdown",
      "metadata": {
        "id": "A0LlQnRs7yyb"
      },
      "source": [
        "## 모든 데이터로 학습을 시킨다\n",
        "- 모델의 성능을 향상시키기 위해서"
      ]
    },
    {
      "cell_type": "code",
      "execution_count": 68,
      "metadata": {
        "colab": {
          "base_uri": "https://localhost:8080/"
        },
        "id": "HNwLHqXI4Zqc",
        "outputId": "c3644113-7085-49bb-f582-840bd2cf81be"
      },
      "outputs": [
        {
          "output_type": "execute_result",
          "data": {
            "text/plain": [
              "3.676393134810496e-07"
            ]
          },
          "metadata": {},
          "execution_count": 68
        }
      ],
      "source": [
        "model.fit(dataset)"
      ]
    },
    {
      "cell_type": "markdown",
      "metadata": {
        "id": "RyY-78pg9Tki"
      },
      "source": [
        "- 일반적으로는 기존의데이터셋으로 모델을 만들고 새로운 분자의 활성을 예측하게 된다.\n",
        "- 앞에서 ERK2 단백질의 활성을 억제하는 분자를 예측하는 모델을 만들었다. 여기에 새로운 데이터셋을 사용하여 분자의 활성을 예측해보겠다\n",
        " - ZINC 데이터베이스의 일부를 사용하겠다\n",
        " - 생물학적 분석이 어려운 분자들을 제거하기 위해서 ChEMBL 데이터베이스를 사용하겠다\n",
        " - 잠재적인 문제가 있는 분자를 걸러내는 rd_filters.py를 사용하겠다"
      ]
    },
    {
      "cell_type": "markdown",
      "metadata": {
        "id": "1Erm6SkqLhtF"
      },
      "source": [
        "## 실행 방법"
      ]
    },
    {
      "cell_type": "code",
      "execution_count": 43,
      "metadata": {
        "colab": {
          "base_uri": "https://localhost:8080/"
        },
        "id": "-oko11boJcvz",
        "outputId": "498dceb3-4419-4412-cae1-b2c8b63dab63"
      },
      "outputs": [
        {
          "output_type": "stream",
          "name": "stdout",
          "text": [
            "/content\n"
          ]
        }
      ],
      "source": [
        "%cd /content"
      ]
    },
    {
      "cell_type": "code",
      "execution_count": 45,
      "metadata": {
        "colab": {
          "base_uri": "https://localhost:8080/"
        },
        "id": "AmEvCrJ6KyOn",
        "outputId": "005f3b51-5317-4e9a-d05c-4ff3fd43c18c"
      },
      "outputs": [
        {
          "output_type": "stream",
          "name": "stdout",
          "text": [
            "Looking in indexes: https://pypi.org/simple, https://us-python.pkg.dev/colab-wheels/public/simple/\n",
            "Collecting git+https://github.com/PatWalters/rd_filters.git\n",
            "  Cloning https://github.com/PatWalters/rd_filters.git to /tmp/pip-req-build-9zxyc95m\n",
            "  Running command git clone -q https://github.com/PatWalters/rd_filters.git /tmp/pip-req-build-9zxyc95m\n",
            "Requirement already satisfied: pandas in /usr/local/lib/python3.7/dist-packages (from rd-filters==0.1) (1.3.5)\n",
            "Collecting docopt\n",
            "  Downloading docopt-0.6.2.tar.gz (25 kB)\n",
            "Requirement already satisfied: numpy>=1.17.3 in /usr/local/lib/python3.7/dist-packages (from pandas->rd-filters==0.1) (1.21.6)\n",
            "Requirement already satisfied: python-dateutil>=2.7.3 in /usr/local/lib/python3.7/dist-packages (from pandas->rd-filters==0.1) (2.8.2)\n",
            "Requirement already satisfied: pytz>=2017.3 in /usr/local/lib/python3.7/dist-packages (from pandas->rd-filters==0.1) (2022.6)\n",
            "Requirement already satisfied: six>=1.5 in /usr/local/lib/python3.7/dist-packages (from python-dateutil>=2.7.3->pandas->rd-filters==0.1) (1.15.0)\n",
            "Building wheels for collected packages: rd-filters, docopt\n",
            "  Building wheel for rd-filters (setup.py) ... \u001b[?25l\u001b[?25hdone\n",
            "  Created wheel for rd-filters: filename=rd_filters-0.1-py3-none-any.whl size=33802 sha256=71bb08bdabd7a80dc3303f30568c651c72d6b4db7b77318a50c75096938d1f2d\n",
            "  Stored in directory: /tmp/pip-ephem-wheel-cache-s7w5zga2/wheels/18/23/0c/f8d3c66d34f5ee86ae3992e1fdd45c94223ee21fcde6f01192\n",
            "  Building wheel for docopt (setup.py) ... \u001b[?25l\u001b[?25hdone\n",
            "  Created wheel for docopt: filename=docopt-0.6.2-py2.py3-none-any.whl size=13724 sha256=0f86ca3f0637237d624355255a0b7061ab26c7a2e3a946997da6bb4a7ceb5050\n",
            "  Stored in directory: /root/.cache/pip/wheels/72/b0/3f/1d95f96ff986c7dfffe46ce2be4062f38ebd04b506c77c81b9\n",
            "Successfully built rd-filters docopt\n",
            "Installing collected packages: docopt, rd-filters\n",
            "Successfully installed docopt-0.6.2 rd-filters-0.1\n"
          ]
        }
      ],
      "source": [
        "!pip install git+https://github.com/PatWalters/rd_filters.git\n"
      ]
    },
    {
      "cell_type": "code",
      "execution_count": 46,
      "metadata": {
        "colab": {
          "base_uri": "https://localhost:8080/"
        },
        "id": "dmDMMg-QLMnq",
        "outputId": "1149663c-dc33-41a4-89aa-7d46e16e5250"
      },
      "outputs": [
        {
          "output_type": "stream",
          "name": "stdout",
          "text": [
            "Usage:\n",
            "rd_filters filter --in INPUT_FILE --prefix PREFIX [--rules RULES_FILE_NAME] [--alerts ALERT_FILE_NAME][--np NUM_CORES]\n",
            "rd_filters template --out TEMPLATE_FILE [--rules RULES_FILE_NAME]\n",
            "\n",
            "Options:\n",
            "--in INPUT_FILE input file name\n",
            "--prefix PREFIX prefix for output file names\n",
            "--rules RULES_FILE_NAME name of the rules JSON file\n",
            "--alerts ALERTS_FILE_NAME name of the structural alerts file\n",
            "--np NUM_CORES the number of cpu cores to use (default is all)\n",
            "--out TEMPLATE_FILE parameter template file name\n"
          ]
        }
      ],
      "source": [
        "# 사용법 안내\n",
        "!rd_filters -h\n"
      ]
    },
    {
      "cell_type": "code",
      "execution_count": 47,
      "metadata": {
        "colab": {
          "base_uri": "https://localhost:8080/"
        },
        "id": "5tyWlKSfLq3T",
        "outputId": "14588739-15b7-459c-f4fa-d928dc8dbfc4"
      },
      "outputs": [
        {
          "output_type": "stream",
          "name": "stdout",
          "text": [
            "  % Total    % Received % Xferd  Average Speed   Time    Time     Time  Current\n",
            "                                 Dload  Upload   Total   Spent    Left  Speed\n",
            "100 6159k  100 6159k    0     0  12.2M      0 --:--:-- --:--:-- --:--:-- 12.2M\n"
          ]
        }
      ],
      "source": [
        "!curl -o zinc_100k.smi https://raw.githubusercontent.com/deepchem/DeepLearningLifeSciences/master/Chapter11/zinc_100k.smi"
      ]
    },
    {
      "cell_type": "markdown",
      "source": [
        "- 아래는 필터 모드로 작동하며 68.4%가 통과하였다\n",
        "- Inpharmatica 규칙을 사용했으며 이는 생물학적 분석이 어려운 화합물을 제거하기 위해 사용한다\n",
        "- SMILE 문자열 필터를 통과한 데이터는 zinc.smi 파일에 저장되며, 특정 구조를 형성한 화합물에 대한 정보는 zinc.csv에 저장된다"
      ],
      "metadata": {
        "id": "BxFDHLnp2XVe"
      }
    },
    {
      "cell_type": "code",
      "execution_count": 48,
      "metadata": {
        "colab": {
          "base_uri": "https://localhost:8080/"
        },
        "id": "uLWjkw-SLRRe",
        "outputId": "3a59e634-683b-441c-eccb-0f375ae4f82e"
      },
      "outputs": [
        {
          "output_type": "stream",
          "name": "stdout",
          "text": [
            "using 2 cores\n",
            "Using alerts from Inpharmatica\n",
            "Wrote SMILES for molecules passing filters to zinc.smi\n",
            "Wrote detailed data to zinc.csv\n",
            "68410 of 100000 passed filters 68.4%\n",
            "Elapsed time 71.45 seconds\n"
          ]
        }
      ],
      "source": [
        "!rd_filters filter --in zinc_100k.smi --prefix zinc"
      ]
    },
    {
      "cell_type": "markdown",
      "metadata": {
        "id": "9vXJTqI11XR7"
      },
      "source": [
        "## zinc.csv의 내용\n",
        "- SMILES 문자역, \n",
        "- 분자의 이름(NAME), \n",
        "- 필터를 통과하지 못한 이유(FILTER), \n",
        "- 분자량(MW, 500보다 크면 통과하지 못한다), \n",
        "- 옥탄올/물 분배계수(LogP, 5보다 크면 통과하지 못한다)\n",
        "- 수소결합의 공여체수 (HBD)"
      ]
    },
    {
      "cell_type": "code",
      "execution_count": 49,
      "metadata": {
        "colab": {
          "base_uri": "https://localhost:8080/",
          "height": 206
        },
        "id": "5rXNaXVzLoet",
        "outputId": "ac934451-931f-47bd-b596-d02051d0b7a2"
      },
      "outputs": [
        {
          "output_type": "execute_result",
          "data": {
            "text/plain": [
              "                                              SMILES              NAME  \\\n",
              "0        CN(CCO)C[C@@H](O)Cn1cnc2c1c(=O)n(C)c(=O)n2C  ZINC000000000843   \n",
              "1  O=c1[nH]c(=O)n([C@@H]2C[C@@H](O)[C@H](CO)O2)cc1Br  ZINC000000001063   \n",
              "2            Cn1c2ncn(CC(=O)N3CCOCC3)c2c(=O)n(C)c1=O  ZINC000000003942   \n",
              "3        CN1C(=O)C[C@H](N2CCN(C(=O)CN3CCCC3)CC2)C1=O  ZINC000000036436   \n",
              "4  CC(=O)NC[C@H](O)[C@H]1O[C@H]2OC(C)(C)O[C@H]2[C...  ZINC000000041101   \n",
              "\n",
              "                    FILTER       MW    LogP  HBD  HBA    TPSA  Rot  \n",
              "0  Filter82_pyridinium > 0  311.342 -2.2813    2    9  105.52    6  \n",
              "1        Filter9_metal > 0  307.100 -1.0602    3    6  104.55    2  \n",
              "2  Filter82_pyridinium > 0  307.310 -1.7075    0    8   91.36    2  \n",
              "3                       OK  308.382 -1.0163    0    5   64.17    3  \n",
              "4                       OK  302.327 -1.1355    3    6  106.12    4  "
            ],
            "text/html": [
              "\n",
              "  <div id=\"df-9942d43e-aae1-4144-8270-4128df426b75\">\n",
              "    <div class=\"colab-df-container\">\n",
              "      <div>\n",
              "<style scoped>\n",
              "    .dataframe tbody tr th:only-of-type {\n",
              "        vertical-align: middle;\n",
              "    }\n",
              "\n",
              "    .dataframe tbody tr th {\n",
              "        vertical-align: top;\n",
              "    }\n",
              "\n",
              "    .dataframe thead th {\n",
              "        text-align: right;\n",
              "    }\n",
              "</style>\n",
              "<table border=\"1\" class=\"dataframe\">\n",
              "  <thead>\n",
              "    <tr style=\"text-align: right;\">\n",
              "      <th></th>\n",
              "      <th>SMILES</th>\n",
              "      <th>NAME</th>\n",
              "      <th>FILTER</th>\n",
              "      <th>MW</th>\n",
              "      <th>LogP</th>\n",
              "      <th>HBD</th>\n",
              "      <th>HBA</th>\n",
              "      <th>TPSA</th>\n",
              "      <th>Rot</th>\n",
              "    </tr>\n",
              "  </thead>\n",
              "  <tbody>\n",
              "    <tr>\n",
              "      <th>0</th>\n",
              "      <td>CN(CCO)C[C@@H](O)Cn1cnc2c1c(=O)n(C)c(=O)n2C</td>\n",
              "      <td>ZINC000000000843</td>\n",
              "      <td>Filter82_pyridinium &gt; 0</td>\n",
              "      <td>311.342</td>\n",
              "      <td>-2.2813</td>\n",
              "      <td>2</td>\n",
              "      <td>9</td>\n",
              "      <td>105.52</td>\n",
              "      <td>6</td>\n",
              "    </tr>\n",
              "    <tr>\n",
              "      <th>1</th>\n",
              "      <td>O=c1[nH]c(=O)n([C@@H]2C[C@@H](O)[C@H](CO)O2)cc1Br</td>\n",
              "      <td>ZINC000000001063</td>\n",
              "      <td>Filter9_metal &gt; 0</td>\n",
              "      <td>307.100</td>\n",
              "      <td>-1.0602</td>\n",
              "      <td>3</td>\n",
              "      <td>6</td>\n",
              "      <td>104.55</td>\n",
              "      <td>2</td>\n",
              "    </tr>\n",
              "    <tr>\n",
              "      <th>2</th>\n",
              "      <td>Cn1c2ncn(CC(=O)N3CCOCC3)c2c(=O)n(C)c1=O</td>\n",
              "      <td>ZINC000000003942</td>\n",
              "      <td>Filter82_pyridinium &gt; 0</td>\n",
              "      <td>307.310</td>\n",
              "      <td>-1.7075</td>\n",
              "      <td>0</td>\n",
              "      <td>8</td>\n",
              "      <td>91.36</td>\n",
              "      <td>2</td>\n",
              "    </tr>\n",
              "    <tr>\n",
              "      <th>3</th>\n",
              "      <td>CN1C(=O)C[C@H](N2CCN(C(=O)CN3CCCC3)CC2)C1=O</td>\n",
              "      <td>ZINC000000036436</td>\n",
              "      <td>OK</td>\n",
              "      <td>308.382</td>\n",
              "      <td>-1.0163</td>\n",
              "      <td>0</td>\n",
              "      <td>5</td>\n",
              "      <td>64.17</td>\n",
              "      <td>3</td>\n",
              "    </tr>\n",
              "    <tr>\n",
              "      <th>4</th>\n",
              "      <td>CC(=O)NC[C@H](O)[C@H]1O[C@H]2OC(C)(C)O[C@H]2[C...</td>\n",
              "      <td>ZINC000000041101</td>\n",
              "      <td>OK</td>\n",
              "      <td>302.327</td>\n",
              "      <td>-1.1355</td>\n",
              "      <td>3</td>\n",
              "      <td>6</td>\n",
              "      <td>106.12</td>\n",
              "      <td>4</td>\n",
              "    </tr>\n",
              "  </tbody>\n",
              "</table>\n",
              "</div>\n",
              "      <button class=\"colab-df-convert\" onclick=\"convertToInteractive('df-9942d43e-aae1-4144-8270-4128df426b75')\"\n",
              "              title=\"Convert this dataframe to an interactive table.\"\n",
              "              style=\"display:none;\">\n",
              "        \n",
              "  <svg xmlns=\"http://www.w3.org/2000/svg\" height=\"24px\"viewBox=\"0 0 24 24\"\n",
              "       width=\"24px\">\n",
              "    <path d=\"M0 0h24v24H0V0z\" fill=\"none\"/>\n",
              "    <path d=\"M18.56 5.44l.94 2.06.94-2.06 2.06-.94-2.06-.94-.94-2.06-.94 2.06-2.06.94zm-11 1L8.5 8.5l.94-2.06 2.06-.94-2.06-.94L8.5 2.5l-.94 2.06-2.06.94zm10 10l.94 2.06.94-2.06 2.06-.94-2.06-.94-.94-2.06-.94 2.06-2.06.94z\"/><path d=\"M17.41 7.96l-1.37-1.37c-.4-.4-.92-.59-1.43-.59-.52 0-1.04.2-1.43.59L10.3 9.45l-7.72 7.72c-.78.78-.78 2.05 0 2.83L4 21.41c.39.39.9.59 1.41.59.51 0 1.02-.2 1.41-.59l7.78-7.78 2.81-2.81c.8-.78.8-2.07 0-2.86zM5.41 20L4 18.59l7.72-7.72 1.47 1.35L5.41 20z\"/>\n",
              "  </svg>\n",
              "      </button>\n",
              "      \n",
              "  <style>\n",
              "    .colab-df-container {\n",
              "      display:flex;\n",
              "      flex-wrap:wrap;\n",
              "      gap: 12px;\n",
              "    }\n",
              "\n",
              "    .colab-df-convert {\n",
              "      background-color: #E8F0FE;\n",
              "      border: none;\n",
              "      border-radius: 50%;\n",
              "      cursor: pointer;\n",
              "      display: none;\n",
              "      fill: #1967D2;\n",
              "      height: 32px;\n",
              "      padding: 0 0 0 0;\n",
              "      width: 32px;\n",
              "    }\n",
              "\n",
              "    .colab-df-convert:hover {\n",
              "      background-color: #E2EBFA;\n",
              "      box-shadow: 0px 1px 2px rgba(60, 64, 67, 0.3), 0px 1px 3px 1px rgba(60, 64, 67, 0.15);\n",
              "      fill: #174EA6;\n",
              "    }\n",
              "\n",
              "    [theme=dark] .colab-df-convert {\n",
              "      background-color: #3B4455;\n",
              "      fill: #D2E3FC;\n",
              "    }\n",
              "\n",
              "    [theme=dark] .colab-df-convert:hover {\n",
              "      background-color: #434B5C;\n",
              "      box-shadow: 0px 1px 3px 1px rgba(0, 0, 0, 0.15);\n",
              "      filter: drop-shadow(0px 1px 2px rgba(0, 0, 0, 0.3));\n",
              "      fill: #FFFFFF;\n",
              "    }\n",
              "  </style>\n",
              "\n",
              "      <script>\n",
              "        const buttonEl =\n",
              "          document.querySelector('#df-9942d43e-aae1-4144-8270-4128df426b75 button.colab-df-convert');\n",
              "        buttonEl.style.display =\n",
              "          google.colab.kernel.accessAllowed ? 'block' : 'none';\n",
              "\n",
              "        async function convertToInteractive(key) {\n",
              "          const element = document.querySelector('#df-9942d43e-aae1-4144-8270-4128df426b75');\n",
              "          const dataTable =\n",
              "            await google.colab.kernel.invokeFunction('convertToInteractive',\n",
              "                                                     [key], {});\n",
              "          if (!dataTable) return;\n",
              "\n",
              "          const docLinkHtml = 'Like what you see? Visit the ' +\n",
              "            '<a target=\"_blank\" href=https://colab.research.google.com/notebooks/data_table.ipynb>data table notebook</a>'\n",
              "            + ' to learn more about interactive tables.';\n",
              "          element.innerHTML = '';\n",
              "          dataTable['output_type'] = 'display_data';\n",
              "          await google.colab.output.renderOutput(dataTable, element);\n",
              "          const docLink = document.createElement('div');\n",
              "          docLink.innerHTML = docLinkHtml;\n",
              "          element.appendChild(docLink);\n",
              "        }\n",
              "      </script>\n",
              "    </div>\n",
              "  </div>\n",
              "  "
            ]
          },
          "metadata": {},
          "execution_count": 49
        }
      ],
      "source": [
        "df = pd.read_csv(\"zinc.csv\")\n",
        "df.head()"
      ]
    },
    {
      "cell_type": "markdown",
      "metadata": {
        "id": "qQEK-Wo22kv7"
      },
      "source": [
        "- 어떤 필터에 의해서 가장 많이 걸러졌는지를 파악하기 위해서 collection의 Counter를 사용한다\n",
        " - 통과한 수(OK)는 69148이다\n",
        " - 1,2 디카르보닐 구조를 포하여 통과하지 못한 경우는 19330이다 (이는 아미노산 셀린 또는 시스테인과 공유결합을 형성하는 것으로 알려져 있다)\n",
        " - filter_collection.CSV 파일을 보면 1,2디카르보닐 구조를 의미하는 SMARTS 문자열'*C(=O)C(=O)*'를 확인할 수 있다."
      ]
    },
    {
      "cell_type": "code",
      "execution_count": 50,
      "metadata": {
        "colab": {
          "base_uri": "https://localhost:8080/",
          "height": 206
        },
        "id": "uw1dquNdMBTB",
        "outputId": "e4e44d33-b17c-4748-8926-0d0cd458049f"
      },
      "outputs": [
        {
          "output_type": "execute_result",
          "data": {
            "text/plain": [
              "                           Rule  Count\n",
              "2                            OK  69148\n",
              "7    Filter41_12_dicarbonyl > 0  19330\n",
              "0       Filter82_pyridinium > 0   7713\n",
              "11     Filter93_acetyl_urea > 0   1541\n",
              "12  Filter78_bicyclic_Imide > 0    825"
            ],
            "text/html": [
              "\n",
              "  <div id=\"df-64d9523c-69d9-4693-81ae-6e08bae48536\">\n",
              "    <div class=\"colab-df-container\">\n",
              "      <div>\n",
              "<style scoped>\n",
              "    .dataframe tbody tr th:only-of-type {\n",
              "        vertical-align: middle;\n",
              "    }\n",
              "\n",
              "    .dataframe tbody tr th {\n",
              "        vertical-align: top;\n",
              "    }\n",
              "\n",
              "    .dataframe thead th {\n",
              "        text-align: right;\n",
              "    }\n",
              "</style>\n",
              "<table border=\"1\" class=\"dataframe\">\n",
              "  <thead>\n",
              "    <tr style=\"text-align: right;\">\n",
              "      <th></th>\n",
              "      <th>Rule</th>\n",
              "      <th>Count</th>\n",
              "    </tr>\n",
              "  </thead>\n",
              "  <tbody>\n",
              "    <tr>\n",
              "      <th>2</th>\n",
              "      <td>OK</td>\n",
              "      <td>69148</td>\n",
              "    </tr>\n",
              "    <tr>\n",
              "      <th>7</th>\n",
              "      <td>Filter41_12_dicarbonyl &gt; 0</td>\n",
              "      <td>19330</td>\n",
              "    </tr>\n",
              "    <tr>\n",
              "      <th>0</th>\n",
              "      <td>Filter82_pyridinium &gt; 0</td>\n",
              "      <td>7713</td>\n",
              "    </tr>\n",
              "    <tr>\n",
              "      <th>11</th>\n",
              "      <td>Filter93_acetyl_urea &gt; 0</td>\n",
              "      <td>1541</td>\n",
              "    </tr>\n",
              "    <tr>\n",
              "      <th>12</th>\n",
              "      <td>Filter78_bicyclic_Imide &gt; 0</td>\n",
              "      <td>825</td>\n",
              "    </tr>\n",
              "  </tbody>\n",
              "</table>\n",
              "</div>\n",
              "      <button class=\"colab-df-convert\" onclick=\"convertToInteractive('df-64d9523c-69d9-4693-81ae-6e08bae48536')\"\n",
              "              title=\"Convert this dataframe to an interactive table.\"\n",
              "              style=\"display:none;\">\n",
              "        \n",
              "  <svg xmlns=\"http://www.w3.org/2000/svg\" height=\"24px\"viewBox=\"0 0 24 24\"\n",
              "       width=\"24px\">\n",
              "    <path d=\"M0 0h24v24H0V0z\" fill=\"none\"/>\n",
              "    <path d=\"M18.56 5.44l.94 2.06.94-2.06 2.06-.94-2.06-.94-.94-2.06-.94 2.06-2.06.94zm-11 1L8.5 8.5l.94-2.06 2.06-.94-2.06-.94L8.5 2.5l-.94 2.06-2.06.94zm10 10l.94 2.06.94-2.06 2.06-.94-2.06-.94-.94-2.06-.94 2.06-2.06.94z\"/><path d=\"M17.41 7.96l-1.37-1.37c-.4-.4-.92-.59-1.43-.59-.52 0-1.04.2-1.43.59L10.3 9.45l-7.72 7.72c-.78.78-.78 2.05 0 2.83L4 21.41c.39.39.9.59 1.41.59.51 0 1.02-.2 1.41-.59l7.78-7.78 2.81-2.81c.8-.78.8-2.07 0-2.86zM5.41 20L4 18.59l7.72-7.72 1.47 1.35L5.41 20z\"/>\n",
              "  </svg>\n",
              "      </button>\n",
              "      \n",
              "  <style>\n",
              "    .colab-df-container {\n",
              "      display:flex;\n",
              "      flex-wrap:wrap;\n",
              "      gap: 12px;\n",
              "    }\n",
              "\n",
              "    .colab-df-convert {\n",
              "      background-color: #E8F0FE;\n",
              "      border: none;\n",
              "      border-radius: 50%;\n",
              "      cursor: pointer;\n",
              "      display: none;\n",
              "      fill: #1967D2;\n",
              "      height: 32px;\n",
              "      padding: 0 0 0 0;\n",
              "      width: 32px;\n",
              "    }\n",
              "\n",
              "    .colab-df-convert:hover {\n",
              "      background-color: #E2EBFA;\n",
              "      box-shadow: 0px 1px 2px rgba(60, 64, 67, 0.3), 0px 1px 3px 1px rgba(60, 64, 67, 0.15);\n",
              "      fill: #174EA6;\n",
              "    }\n",
              "\n",
              "    [theme=dark] .colab-df-convert {\n",
              "      background-color: #3B4455;\n",
              "      fill: #D2E3FC;\n",
              "    }\n",
              "\n",
              "    [theme=dark] .colab-df-convert:hover {\n",
              "      background-color: #434B5C;\n",
              "      box-shadow: 0px 1px 3px 1px rgba(0, 0, 0, 0.15);\n",
              "      filter: drop-shadow(0px 1px 2px rgba(0, 0, 0, 0.3));\n",
              "      fill: #FFFFFF;\n",
              "    }\n",
              "  </style>\n",
              "\n",
              "      <script>\n",
              "        const buttonEl =\n",
              "          document.querySelector('#df-64d9523c-69d9-4693-81ae-6e08bae48536 button.colab-df-convert');\n",
              "        buttonEl.style.display =\n",
              "          google.colab.kernel.accessAllowed ? 'block' : 'none';\n",
              "\n",
              "        async function convertToInteractive(key) {\n",
              "          const element = document.querySelector('#df-64d9523c-69d9-4693-81ae-6e08bae48536');\n",
              "          const dataTable =\n",
              "            await google.colab.kernel.invokeFunction('convertToInteractive',\n",
              "                                                     [key], {});\n",
              "          if (!dataTable) return;\n",
              "\n",
              "          const docLinkHtml = 'Like what you see? Visit the ' +\n",
              "            '<a target=\"_blank\" href=https://colab.research.google.com/notebooks/data_table.ipynb>data table notebook</a>'\n",
              "            + ' to learn more about interactive tables.';\n",
              "          element.innerHTML = '';\n",
              "          dataTable['output_type'] = 'display_data';\n",
              "          await google.colab.output.renderOutput(dataTable, element);\n",
              "          const docLink = document.createElement('div');\n",
              "          docLink.innerHTML = docLinkHtml;\n",
              "          element.appendChild(docLink);\n",
              "        }\n",
              "      </script>\n",
              "    </div>\n",
              "  </div>\n",
              "  "
            ]
          },
          "metadata": {},
          "execution_count": 50
        }
      ],
      "source": [
        "from collections import Counter\n",
        "count_list = list(Counter(df.FILTER).items())\n",
        "count_df = pd.DataFrame(count_list,columns=[\"Rule\",\"Count\"])\n",
        "count_df.sort_values(\"Count\",inplace=True,ascending=False)\n",
        "count_df.head()"
      ]
    },
    {
      "cell_type": "code",
      "execution_count": 51,
      "metadata": {
        "id": "q9RZPmtnMFGw"
      },
      "outputs": [],
      "source": [
        "smiles_list = df[df.FILTER == \"Filter41_12_dicarbonyl > 0\"].SMILES[:10]"
      ]
    },
    {
      "cell_type": "code",
      "execution_count": 52,
      "metadata": {
        "colab": {
          "base_uri": "https://localhost:8080/",
          "height": 417
        },
        "id": "HLqVhkPIMIs_",
        "outputId": "f4432b88-f38a-491e-9d6a-98e649a50e30"
      },
      "outputs": [
        {
          "output_type": "execute_result",
          "data": {
            "image/png": "[encoded data removed]",
            "text/plain": [
              "<IPython.core.display.Image object>"
            ]
          },
          "metadata": {},
          "execution_count": 52
        }
      ],
      "source": [
        "mol_list = [Chem.MolFromSmiles(x) for x in smiles_list]\n",
        "dicarbonyl = Chem.MolFromSmarts('*C(=O)C(=O)*')\n",
        "match_list = [mol.GetSubstructMatch(dicarbonyl) for mol in mol_list]\n",
        "Draw.MolsToGridImage(mol_list,highlightAtomLists=match_list,molsPerRow=5)"
      ]
    },
    {
      "cell_type": "markdown",
      "metadata": {
        "id": "AIp-NTayFEqJ"
      },
      "source": [
        "# 모델 사용하기\n",
        "- GCN 모델을 불러오고, 피처화기를 만든후, 분자 데이터를 피처화 한다\n",
        "- 예측값을 확인하고 가장 높은 점수를 얻은 화학구조를 확인한다\n",
        "- 분자 데이터를 CSV로 저장한다"
      ]
    },
    {
      "cell_type": "code",
      "execution_count": 70,
      "metadata": {
        "id": "JaVT22MaFhTM"
      },
      "outputs": [],
      "source": [
        "model = dc.models.GraphConvModel(1, batch_size=128, \n",
        "          mode='classification',model_dir=\"model_dir\")\n",
        "model.restore()"
      ]
    },
    {
      "cell_type": "code",
      "execution_count": 71,
      "metadata": {
        "colab": {
          "base_uri": "https://localhost:8080/",
          "height": 206
        },
        "id": "iSsUjS2_Ft45",
        "outputId": "ae9b681e-18dc-42d7-b7fa-83fefb299e57"
      },
      "outputs": [
        {
          "output_type": "execute_result",
          "data": {
            "text/plain": [
              "                                              SMILES              Name  Val\n",
              "0        CN(CCO)C[C@@H](O)Cn1cnc2c1c(=O)n(C)c(=O)n2C  ZINC000000000843    0\n",
              "1  O=c1[nH]c(=O)n([C@@H]2C[C@@H](O)[C@H](CO)O2)cc1Br  ZINC000000001063    0\n",
              "2            Cn1c2ncn(CC(=O)N3CCOCC3)c2c(=O)n(C)c1=O  ZINC000000003942    0\n",
              "3        CN1C(=O)C[C@H](N2CCN(C(=O)CN3CCCC3)CC2)C1=O  ZINC000000036436    0\n",
              "4  CC(=O)NC[C@H](O)[C@H]1O[C@H]2OC(C)(C)O[C@H]2[C...  ZINC000000041101    0"
            ],
            "text/html": [
              "\n",
              "  <div id=\"df-8358cf7f-8f25-4981-856f-61a8b8bb69f8\">\n",
              "    <div class=\"colab-df-container\">\n",
              "      <div>\n",
              "<style scoped>\n",
              "    .dataframe tbody tr th:only-of-type {\n",
              "        vertical-align: middle;\n",
              "    }\n",
              "\n",
              "    .dataframe tbody tr th {\n",
              "        vertical-align: top;\n",
              "    }\n",
              "\n",
              "    .dataframe thead th {\n",
              "        text-align: right;\n",
              "    }\n",
              "</style>\n",
              "<table border=\"1\" class=\"dataframe\">\n",
              "  <thead>\n",
              "    <tr style=\"text-align: right;\">\n",
              "      <th></th>\n",
              "      <th>SMILES</th>\n",
              "      <th>Name</th>\n",
              "      <th>Val</th>\n",
              "    </tr>\n",
              "  </thead>\n",
              "  <tbody>\n",
              "    <tr>\n",
              "      <th>0</th>\n",
              "      <td>CN(CCO)C[C@@H](O)Cn1cnc2c1c(=O)n(C)c(=O)n2C</td>\n",
              "      <td>ZINC000000000843</td>\n",
              "      <td>0</td>\n",
              "    </tr>\n",
              "    <tr>\n",
              "      <th>1</th>\n",
              "      <td>O=c1[nH]c(=O)n([C@@H]2C[C@@H](O)[C@H](CO)O2)cc1Br</td>\n",
              "      <td>ZINC000000001063</td>\n",
              "      <td>0</td>\n",
              "    </tr>\n",
              "    <tr>\n",
              "      <th>2</th>\n",
              "      <td>Cn1c2ncn(CC(=O)N3CCOCC3)c2c(=O)n(C)c1=O</td>\n",
              "      <td>ZINC000000003942</td>\n",
              "      <td>0</td>\n",
              "    </tr>\n",
              "    <tr>\n",
              "      <th>3</th>\n",
              "      <td>CN1C(=O)C[C@H](N2CCN(C(=O)CN3CCCC3)CC2)C1=O</td>\n",
              "      <td>ZINC000000036436</td>\n",
              "      <td>0</td>\n",
              "    </tr>\n",
              "    <tr>\n",
              "      <th>4</th>\n",
              "      <td>CC(=O)NC[C@H](O)[C@H]1O[C@H]2OC(C)(C)O[C@H]2[C...</td>\n",
              "      <td>ZINC000000041101</td>\n",
              "      <td>0</td>\n",
              "    </tr>\n",
              "  </tbody>\n",
              "</table>\n",
              "</div>\n",
              "      <button class=\"colab-df-convert\" onclick=\"convertToInteractive('df-8358cf7f-8f25-4981-856f-61a8b8bb69f8')\"\n",
              "              title=\"Convert this dataframe to an interactive table.\"\n",
              "              style=\"display:none;\">\n",
              "        \n",
              "  <svg xmlns=\"http://www.w3.org/2000/svg\" height=\"24px\"viewBox=\"0 0 24 24\"\n",
              "       width=\"24px\">\n",
              "    <path d=\"M0 0h24v24H0V0z\" fill=\"none\"/>\n",
              "    <path d=\"M18.56 5.44l.94 2.06.94-2.06 2.06-.94-2.06-.94-.94-2.06-.94 2.06-2.06.94zm-11 1L8.5 8.5l.94-2.06 2.06-.94-2.06-.94L8.5 2.5l-.94 2.06-2.06.94zm10 10l.94 2.06.94-2.06 2.06-.94-2.06-.94-.94-2.06-.94 2.06-2.06.94z\"/><path d=\"M17.41 7.96l-1.37-1.37c-.4-.4-.92-.59-1.43-.59-.52 0-1.04.2-1.43.59L10.3 9.45l-7.72 7.72c-.78.78-.78 2.05 0 2.83L4 21.41c.39.39.9.59 1.41.59.51 0 1.02-.2 1.41-.59l7.78-7.78 2.81-2.81c.8-.78.8-2.07 0-2.86zM5.41 20L4 18.59l7.72-7.72 1.47 1.35L5.41 20z\"/>\n",
              "  </svg>\n",
              "      </button>\n",
              "      \n",
              "  <style>\n",
              "    .colab-df-container {\n",
              "      display:flex;\n",
              "      flex-wrap:wrap;\n",
              "      gap: 12px;\n",
              "    }\n",
              "\n",
              "    .colab-df-convert {\n",
              "      background-color: #E8F0FE;\n",
              "      border: none;\n",
              "      border-radius: 50%;\n",
              "      cursor: pointer;\n",
              "      display: none;\n",
              "      fill: #1967D2;\n",
              "      height: 32px;\n",
              "      padding: 0 0 0 0;\n",
              "      width: 32px;\n",
              "    }\n",
              "\n",
              "    .colab-df-convert:hover {\n",
              "      background-color: #E2EBFA;\n",
              "      box-shadow: 0px 1px 2px rgba(60, 64, 67, 0.3), 0px 1px 3px 1px rgba(60, 64, 67, 0.15);\n",
              "      fill: #174EA6;\n",
              "    }\n",
              "\n",
              "    [theme=dark] .colab-df-convert {\n",
              "      background-color: #3B4455;\n",
              "      fill: #D2E3FC;\n",
              "    }\n",
              "\n",
              "    [theme=dark] .colab-df-convert:hover {\n",
              "      background-color: #434B5C;\n",
              "      box-shadow: 0px 1px 3px 1px rgba(0, 0, 0, 0.15);\n",
              "      filter: drop-shadow(0px 1px 2px rgba(0, 0, 0, 0.3));\n",
              "      fill: #FFFFFF;\n",
              "    }\n",
              "  </style>\n",
              "\n",
              "      <script>\n",
              "        const buttonEl =\n",
              "          document.querySelector('#df-8358cf7f-8f25-4981-856f-61a8b8bb69f8 button.colab-df-convert');\n",
              "        buttonEl.style.display =\n",
              "          google.colab.kernel.accessAllowed ? 'block' : 'none';\n",
              "\n",
              "        async function convertToInteractive(key) {\n",
              "          const element = document.querySelector('#df-8358cf7f-8f25-4981-856f-61a8b8bb69f8');\n",
              "          const dataTable =\n",
              "            await google.colab.kernel.invokeFunction('convertToInteractive',\n",
              "                                                     [key], {});\n",
              "          if (!dataTable) return;\n",
              "\n",
              "          const docLinkHtml = 'Like what you see? Visit the ' +\n",
              "            '<a target=\"_blank\" href=https://colab.research.google.com/notebooks/data_table.ipynb>data table notebook</a>'\n",
              "            + ' to learn more about interactive tables.';\n",
              "          element.innerHTML = '';\n",
              "          dataTable['output_type'] = 'display_data';\n",
              "          await google.colab.output.renderOutput(dataTable, element);\n",
              "          const docLink = document.createElement('div');\n",
              "          docLink.innerHTML = docLinkHtml;\n",
              "          element.appendChild(docLink);\n",
              "        }\n",
              "      </script>\n",
              "    </div>\n",
              "  </div>\n",
              "  "
            ]
          },
          "metadata": {},
          "execution_count": 71
        }
      ],
      "source": [
        "df = pd.read_csv(\"zinc_100k.smi\",sep=\" \",header=None)\n",
        "df.columns=[\"SMILES\",\"Name\"]\n",
        "rows,cols = df.shape\n",
        "df[\"Val\"] = [0] * rows # 피처화를 위한 빈 자리\n",
        "df.head()"
      ]
    },
    {
      "cell_type": "code",
      "execution_count": 55,
      "metadata": {
        "id": "J_VKtsqoF3ax"
      },
      "outputs": [],
      "source": [
        "infile_name = \"zinc_filtered.csv\"\n",
        "df.to_csv(infile_name,index=False)"
      ]
    },
    {
      "cell_type": "markdown",
      "metadata": {
        "id": "oDXtw2sBHohF"
      },
      "source": [
        "- CSV 파일을 읽어온다\n",
        "- 모델을 사용하기 위해서 피처화된 데이터를 사용한다"
      ]
    },
    {
      "cell_type": "code",
      "execution_count": 56,
      "metadata": {
        "id": "i32zwV_DF9Sy"
      },
      "outputs": [],
      "source": [
        "loader = dc.data.CSVLoader(tasks=['Val'], feature_field=\"SMILES\", featurizer=featurizer)\n",
        "dataset = loader.create_dataset(infile_name, shard_size=8192)\n",
        "pred = model.predict(dataset)"
      ]
    },
    {
      "cell_type": "markdown",
      "metadata": {
        "id": "HGGxDSX6H6J9"
      },
      "source": [
        "- 활성화와 비활성화를 구분하기 위해서 점수를 시각화 한다\n",
        "- SMILES와 예측값이 있는 데이터프레임을 합친다\n",
        "- 예측값이 높은 분자를 살펴본다\n",
        " - 아래 그림에서 0.3 이상을 선택하겠다"
      ]
    },
    {
      "cell_type": "code",
      "execution_count": 58,
      "metadata": {
        "colab": {
          "base_uri": "https://localhost:8080/",
          "height": 386
        },
        "id": "lMnBaFNPGEFH",
        "outputId": "ad633c2f-3f70-469a-8c5a-0d33488ba99c"
      },
      "outputs": [
        {
          "output_type": "execute_result",
          "data": {
            "text/plain": [
              "<seaborn.axisgrid.FacetGrid at 0x7fe2a01e5d50>"
            ]
          },
          "metadata": {},
          "execution_count": 58
        },
        {
          "output_type": "display_data",
          "data": {
            "text/plain": [
              "<Figure size 360x360 with 1 Axes>"
            ],
            "image/png": "[encoded data removed]"
          },
          "metadata": {
            "image/png": {
              "width": 352,
              "height": 351
            },
            "needs_background": "light"
          }
        }
      ],
      "source": [
        "pred_df = pd.DataFrame([x.flatten() for x in pred],columns=[\"Neg\",\"Pos\"])\n",
        "sns.displot(x=pred_df.Pos,kind=\"kde\",rug=True)\n"
      ]
    },
    {
      "cell_type": "code",
      "execution_count": 59,
      "metadata": {
        "id": "aRE_GxpTGJxf"
      },
      "outputs": [],
      "source": [
        "combo_df = df.join(pred_df,how=\"outer\")\n",
        "combo_df.sort_values(\"Pos\",inplace=True,ascending=False)\n"
      ]
    },
    {
      "cell_type": "code",
      "execution_count": 60,
      "metadata": {
        "collapsed": true,
        "id": "33dg10-TGO_l"
      },
      "outputs": [],
      "source": [
        "PandasTools.AddMoleculeColumnToFrame(combo_df,\"SMILES\",\"Mol\")\n",
        "# combo_df.head()\n"
      ]
    },
    {
      "cell_type": "code",
      "execution_count": 61,
      "metadata": {
        "colab": {
          "base_uri": "https://localhost:8080/",
          "height": 293
        },
        "id": "Y9ebJS80Kz_1",
        "outputId": "abef807e-1e17-453a-c9d5-080c8624ea9a"
      },
      "outputs": [
        {
          "output_type": "execute_result",
          "data": {
            "text/plain": [
              "<IPython.core.display.HTML object>"
            ],
            "text/html": [
              "<table border=\"1\" class=\"dataframe\">\n",
              "  <thead>\n",
              "    <tr style=\"text-align: right;\">\n",
              "      <th></th>\n",
              "      <th>SMILES</th>\n",
              "      <th>Name</th>\n",
              "      <th>Val</th>\n",
              "      <th>Neg</th>\n",
              "      <th>Pos</th>\n",
              "      <th>Mol</th>\n",
              "    </tr>\n",
              "  </thead>\n",
              "  <tbody>\n",
              "    <tr>\n",
              "      <th>85173</th>\n",
              "      <td>O=C(NCCN1C(=O)CNC1=O)c1ccc(-n2cnnn2)cn1</td>\n",
              "      <td>ZINC000654786642</td>\n",
              "      <td>0</td>\n",
              "      <td>0.056088</td>\n",
              "      <td>0.943912</td>\n",
              "      <td>&lt;rdkit.Chem.rdchem.Mol object at 0x7fe1f6941940&gt;</td>\n",
              "    </tr>\n",
              "    <tr>\n",
              "      <th>95576</th>\n",
              "      <td>O=C(NCCN1C(=O)CNC1=O)c1ccc(-c2nn[nH]n2)cn1</td>\n",
              "      <td>ZINC000738074265</td>\n",
              "      <td>0</td>\n",
              "      <td>0.085365</td>\n",
              "      <td>0.914635</td>\n",
              "      <td>&lt;rdkit.Chem.rdchem.Mol object at 0x7fe1f67e4f30&gt;</td>\n",
              "    </tr>\n",
              "    <tr>\n",
              "      <th>2030</th>\n",
              "      <td>N=C(NN)c1cn([C@H]2O[C@@H](CO)[C@@H](O)[C@H]2O)c2ncnc(N)c12</td>\n",
              "      <td>ZINC000004823208</td>\n",
              "      <td>0</td>\n",
              "      <td>0.096726</td>\n",
              "      <td>0.903274</td>\n",
              "      <td>&lt;rdkit.Chem.rdchem.Mol object at 0x7fe1f67e4f80&gt;</td>\n",
              "    </tr>\n",
              "    <tr>\n",
              "      <th>2031</th>\n",
              "      <td>N=C(NN)c1cn([C@@H]2O[C@@H](CO)[C@@H](O)[C@H]2O)c2ncnc(N)c12</td>\n",
              "      <td>ZINC000004823209</td>\n",
              "      <td>0</td>\n",
              "      <td>0.096726</td>\n",
              "      <td>0.903274</td>\n",
              "      <td>&lt;rdkit.Chem.rdchem.Mol object at 0x7fe1f67e4df0&gt;</td>\n",
              "    </tr>\n",
              "    <tr>\n",
              "      <th>2038</th>\n",
              "      <td>CNC(=O)c1cn([C@H]2O[C@@H](CO)[C@@H](O)[C@@H]2O)c2ncnc(N)c12</td>\n",
              "      <td>ZINC000004824757</td>\n",
              "      <td>0</td>\n",
              "      <td>0.114137</td>\n",
              "      <td>0.885863</td>\n",
              "      <td>&lt;rdkit.Chem.rdchem.Mol object at 0x7fe1f67e4da0&gt;</td>\n",
              "    </tr>\n",
              "  </tbody>\n",
              "</table>"
            ]
          },
          "metadata": {},
          "execution_count": 61
        }
      ],
      "source": [
        "from IPython.display import HTML\n",
        "HTML(combo_df.head().to_html())"
      ]
    },
    {
      "cell_type": "code",
      "execution_count": 62,
      "metadata": {
        "colab": {
          "base_uri": "https://localhost:8080/",
          "height": 417
        },
        "id": "KdPlhNsjGS16",
        "outputId": "4960d9b9-b3ec-4c15-f5af-85de6fc18944"
      },
      "outputs": [
        {
          "output_type": "execute_result",
          "data": {
            "image/png": "[encoded data removed]",
            "text/plain": [
              "<IPython.core.display.Image object>"
            ]
          },
          "metadata": {},
          "execution_count": 62
        }
      ],
      "source": [
        "Draw.MolsToGridImage(combo_df.Mol[:10],molsPerRow=5,legends=[\"%.2f\" % x for x in combo_df.Pos[:10]])\n"
      ]
    },
    {
      "cell_type": "markdown",
      "metadata": {
        "id": "yAZVrUJGITTy"
      },
      "source": [
        "- 예측값이 높는 분자들의 모양이 비슷한 것을 알 수 있다\n",
        "- 중복되는 것을 피하기 위해서 군집화를 수행한다\n",
        " - 화학적 유사성을 사용하는 Butina 군집화를 사용하겠다\n",
        " - 군집화를 하려면 기준값을 주어야 한다 (아래에서 Tanimoto 유사도 > 0.35)"
      ]
    },
    {
      "cell_type": "code",
      "execution_count": 63,
      "metadata": {
        "id": "ORtV-sBeGZ6A"
      },
      "outputs": [],
      "source": [
        "def butina_cluster(mol_list,cutoff=0.35):\n",
        "    fp_list = [rdmd.GetMorganFingerprintAsBitVect(m, 3, nBits=2048) for m in mol_list]\n",
        "    dists = []\n",
        "    nfps = len(fp_list)\n",
        "    for i in range(1,nfps):\n",
        "        sims = DataStructs.BulkTanimotoSimilarity(fp_list[i],fp_list[:i])\n",
        "        dists.extend([1-x for x in sims])\n",
        "    mol_clusters = Butina.ClusterData(dists,nfps,cutoff,isDistData=True)\n",
        "    cluster_id_list = [0]*nfps\n",
        "    for idx,cluster in enumerate(mol_clusters,1):\n",
        "        for member in cluster:\n",
        "            cluster_id_list[member] = idx\n",
        "    return cluster_id_list"
      ]
    },
    {
      "cell_type": "code",
      "execution_count": 64,
      "metadata": {
        "colab": {
          "base_uri": "https://localhost:8080/",
          "height": 293
        },
        "id": "fHc2FoN-GchK",
        "outputId": "17314bdf-6e6d-4788-b03e-69e7184136ef"
      },
      "outputs": [
        {
          "output_type": "execute_result",
          "data": {
            "text/plain": [
              "<IPython.core.display.HTML object>"
            ],
            "text/html": [
              "<table border=\"1\" class=\"dataframe\">\n",
              "  <thead>\n",
              "    <tr style=\"text-align: right;\">\n",
              "      <th></th>\n",
              "      <th>SMILES</th>\n",
              "      <th>Name</th>\n",
              "      <th>Val</th>\n",
              "      <th>Neg</th>\n",
              "      <th>Pos</th>\n",
              "      <th>Mol</th>\n",
              "      <th>Cluster</th>\n",
              "    </tr>\n",
              "  </thead>\n",
              "  <tbody>\n",
              "    <tr>\n",
              "      <th>85173</th>\n",
              "      <td>O=C(NCCN1C(=O)CNC1=O)c1ccc(-n2cnnn2)cn1</td>\n",
              "      <td>ZINC000654786642</td>\n",
              "      <td>0</td>\n",
              "      <td>0.056088</td>\n",
              "      <td>0.943912</td>\n",
              "      <td>&lt;rdkit.Chem.rdchem.Mol object at 0x7fe1f6941940&gt;</td>\n",
              "      <td>18</td>\n",
              "    </tr>\n",
              "    <tr>\n",
              "      <th>95576</th>\n",
              "      <td>O=C(NCCN1C(=O)CNC1=O)c1ccc(-c2nn[nH]n2)cn1</td>\n",
              "      <td>ZINC000738074265</td>\n",
              "      <td>0</td>\n",
              "      <td>0.085365</td>\n",
              "      <td>0.914635</td>\n",
              "      <td>&lt;rdkit.Chem.rdchem.Mol object at 0x7fe1f67e4f30&gt;</td>\n",
              "      <td>62</td>\n",
              "    </tr>\n",
              "    <tr>\n",
              "      <th>2030</th>\n",
              "      <td>N=C(NN)c1cn([C@H]2O[C@@H](CO)[C@@H](O)[C@H]2O)c2ncnc(N)c12</td>\n",
              "      <td>ZINC000004823208</td>\n",
              "      <td>0</td>\n",
              "      <td>0.096726</td>\n",
              "      <td>0.903274</td>\n",
              "      <td>&lt;rdkit.Chem.rdchem.Mol object at 0x7fe1f67e4f80&gt;</td>\n",
              "      <td>1</td>\n",
              "    </tr>\n",
              "    <tr>\n",
              "      <th>2031</th>\n",
              "      <td>N=C(NN)c1cn([C@@H]2O[C@@H](CO)[C@@H](O)[C@H]2O)c2ncnc(N)c12</td>\n",
              "      <td>ZINC000004823209</td>\n",
              "      <td>0</td>\n",
              "      <td>0.096726</td>\n",
              "      <td>0.903274</td>\n",
              "      <td>&lt;rdkit.Chem.rdchem.Mol object at 0x7fe1f67e4df0&gt;</td>\n",
              "      <td>1</td>\n",
              "    </tr>\n",
              "    <tr>\n",
              "      <th>2038</th>\n",
              "      <td>CNC(=O)c1cn([C@H]2O[C@@H](CO)[C@@H](O)[C@@H]2O)c2ncnc(N)c12</td>\n",
              "      <td>ZINC000004824757</td>\n",
              "      <td>0</td>\n",
              "      <td>0.114137</td>\n",
              "      <td>0.885863</td>\n",
              "      <td>&lt;rdkit.Chem.rdchem.Mol object at 0x7fe1f67e4da0&gt;</td>\n",
              "      <td>1</td>\n",
              "    </tr>\n",
              "  </tbody>\n",
              "</table>"
            ]
          },
          "metadata": {},
          "execution_count": 64
        }
      ],
      "source": [
        "best_100_df = combo_df.head(100).copy()\n",
        "best_100_df[\"Cluster\"] = butina_cluster(best_100_df.Mol)\n",
        "# best_100_df.head()\n",
        "HTML(best_100_df.head().to_html())\n"
      ]
    },
    {
      "cell_type": "code",
      "execution_count": 65,
      "metadata": {
        "colab": {
          "base_uri": "https://localhost:8080/"
        },
        "id": "M-fIqQtgGh9E",
        "outputId": "3eb7e816-111e-4f20-9109-615ba2666645"
      },
      "outputs": [
        {
          "output_type": "execute_result",
          "data": {
            "text/plain": [
              "(62, 7)"
            ]
          },
          "metadata": {},
          "execution_count": 65
        }
      ],
      "source": [
        "len(best_100_df.Cluster.unique())\n",
        "best_cluster_rep_df = best_100_df.drop_duplicates(\"Cluster\")\n",
        "best_cluster_rep_df.shape"
      ]
    },
    {
      "cell_type": "code",
      "execution_count": 66,
      "metadata": {
        "id": "EWzpTHO2GnzB"
      },
      "outputs": [],
      "source": [
        "# 파일로 저장하기\n",
        "best_cluster_rep_df.to_csv(\"best_cluster_represenatives.csv\")\n"
      ]
    },
    {
      "cell_type": "code",
      "execution_count": null,
      "metadata": {
        "id": "QrK0r5xzImRm"
      },
      "outputs": [],
      "source": []
    }
  ],
  "metadata": {
    "accelerator": "GPU",
    "colab": {
      "collapsed_sections": [],
      "provenance": []
    },
    "kernelspec": {
      "display_name": "Python 3",
      "language": "python",
      "name": "python3"
    },
    "language_info": {
      "codemirror_mode": {
        "name": "ipython",
        "version": 3
      },
      "file_extension": ".py",
      "mimetype": "text/x-python",
      "name": "python",
      "nbconvert_exporter": "python",
      "pygments_lexer": "ipython3",
      "version": "3.8.8"
    },
    "toc": {
      "base_numbering": 1,
      "nav_menu": {},
      "number_sections": false,
      "sideBar": true,
      "skip_h1_title": false,
      "title_cell": "Table of Contents",
      "title_sidebar": "Contents",
      "toc_cell": false,
      "toc_position": {},
      "toc_section_display": true,
      "toc_window_display": false
    },
    "widgets": {
      "application/vnd.jupyter.widget-state+json": {
        "041ef203516b433ea861e848de91be08": {
          "model_module": "@jupyter-widgets/controls",
          "model_name": "HBoxModel",
          "model_module_version": "1.5.0",
          "state": {
            "_dom_classes": [],
            "_model_module": "@jupyter-widgets/controls",
            "_model_module_version": "1.5.0",
            "_model_name": "HBoxModel",
            "_view_count": null,
            "_view_module": "@jupyter-widgets/controls",
            "_view_module_version": "1.5.0",
            "_view_name": "HBoxView",
            "box_style": "",
            "children": [
              "IPY_MODEL_811b5643255445b1be199f3c5f9092c8",
              "IPY_MODEL_90f5c5cddad44359a2b7107c7306c805",
              "IPY_MODEL_8bc8d7a5cc8f42d6b06ae2fa8d909fb0"
            ],
            "layout": "IPY_MODEL_cdceea50a10243efa41bcf94dce6cf62"
          }
        },
        "811b5643255445b1be199f3c5f9092c8": {
          "model_module": "@jupyter-widgets/controls",
          "model_name": "HTMLModel",
          "model_module_version": "1.5.0",
          "state": {
            "_dom_classes": [],
            "_model_module": "@jupyter-widgets/controls",
            "_model_module_version": "1.5.0",
            "_model_name": "HTMLModel",
            "_view_count": null,
            "_view_module": "@jupyter-widgets/controls",
            "_view_module_version": "1.5.0",
            "_view_name": "HTMLView",
            "description": "",
            "description_tooltip": null,
            "layout": "IPY_MODEL_f184cdf54623473bb44719380f1cba67",
            "placeholder": "​",
            "style": "IPY_MODEL_b8daae9173164eb48cfd059080a01c02",
            "value": "100%"
          }
        },
        "90f5c5cddad44359a2b7107c7306c805": {
          "model_module": "@jupyter-widgets/controls",
          "model_name": "FloatProgressModel",
          "model_module_version": "1.5.0",
          "state": {
            "_dom_classes": [],
            "_model_module": "@jupyter-widgets/controls",
            "_model_module_version": "1.5.0",
            "_model_name": "FloatProgressModel",
            "_view_count": null,
            "_view_module": "@jupyter-widgets/controls",
            "_view_module_version": "1.5.0",
            "_view_name": "ProgressView",
            "bar_style": "success",
            "description": "",
            "description_tooltip": null,
            "layout": "IPY_MODEL_2827bfc9d66544ffb6e50fcd66cde1a8",
            "max": 5,
            "min": 0,
            "orientation": "horizontal",
            "style": "IPY_MODEL_505f01fc7da743609fea71e2f21f7878",
            "value": 5
          }
        },
        "8bc8d7a5cc8f42d6b06ae2fa8d909fb0": {
          "model_module": "@jupyter-widgets/controls",
          "model_name": "HTMLModel",
          "model_module_version": "1.5.0",
          "state": {
            "_dom_classes": [],
            "_model_module": "@jupyter-widgets/controls",
            "_model_module_version": "1.5.0",
            "_model_name": "HTMLModel",
            "_view_count": null,
            "_view_module": "@jupyter-widgets/controls",
            "_view_module_version": "1.5.0",
            "_view_name": "HTMLView",
            "description": "",
            "description_tooltip": null,
            "layout": "IPY_MODEL_f011965d58344b7382dfa0f1f8c6f5cf",
            "placeholder": "​",
            "style": "IPY_MODEL_232d6d4c746148268fc97a71ede5a31e",
            "value": " 5/5 [01:27&lt;00:00, 17.00s/it]"
          }
        },
        "cdceea50a10243efa41bcf94dce6cf62": {
          "model_module": "@jupyter-widgets/base",
          "model_name": "LayoutModel",
          "model_module_version": "1.2.0",
          "state": {
            "_model_module": "@jupyter-widgets/base",
            "_model_module_version": "1.2.0",
            "_model_name": "LayoutModel",
            "_view_count": null,
            "_view_module": "@jupyter-widgets/base",
            "_view_module_version": "1.2.0",
            "_view_name": "LayoutView",
            "align_content": null,
            "align_items": null,
            "align_self": null,
            "border": null,
            "bottom": null,
            "display": null,
            "flex": null,
            "flex_flow": null,
            "grid_area": null,
            "grid_auto_columns": null,
            "grid_auto_flow": null,
            "grid_auto_rows": null,
            "grid_column": null,
            "grid_gap": null,
            "grid_row": null,
            "grid_template_areas": null,
            "grid_template_columns": null,
            "grid_template_rows": null,
            "height": null,
            "justify_content": null,
            "justify_items": null,
            "left": null,
            "margin": null,
            "max_height": null,
            "max_width": null,
            "min_height": null,
            "min_width": null,
            "object_fit": null,
            "object_position": null,
            "order": null,
            "overflow": null,
            "overflow_x": null,
            "overflow_y": null,
            "padding": null,
            "right": null,
            "top": null,
            "visibility": null,
            "width": null
          }
        },
        "f184cdf54623473bb44719380f1cba67": {
          "model_module": "@jupyter-widgets/base",
          "model_name": "LayoutModel",
          "model_module_version": "1.2.0",
          "state": {
            "_model_module": "@jupyter-widgets/base",
            "_model_module_version": "1.2.0",
            "_model_name": "LayoutModel",
            "_view_count": null,
            "_view_module": "@jupyter-widgets/base",
            "_view_module_version": "1.2.0",
            "_view_name": "LayoutView",
            "align_content": null,
            "align_items": null,
            "align_self": null,
            "border": null,
            "bottom": null,
            "display": null,
            "flex": null,
            "flex_flow": null,
            "grid_area": null,
            "grid_auto_columns": null,
            "grid_auto_flow": null,
            "grid_auto_rows": null,
            "grid_column": null,
            "grid_gap": null,
            "grid_row": null,
            "grid_template_areas": null,
            "grid_template_columns": null,
            "grid_template_rows": null,
            "height": null,
            "justify_content": null,
            "justify_items": null,
            "left": null,
            "margin": null,
            "max_height": null,
            "max_width": null,
            "min_height": null,
            "min_width": null,
            "object_fit": null,
            "object_position": null,
            "order": null,
            "overflow": null,
            "overflow_x": null,
            "overflow_y": null,
            "padding": null,
            "right": null,
            "top": null,
            "visibility": null,
            "width": null
          }
        },
        "b8daae9173164eb48cfd059080a01c02": {
          "model_module": "@jupyter-widgets/controls",
          "model_name": "DescriptionStyleModel",
          "model_module_version": "1.5.0",
          "state": {
            "_model_module": "@jupyter-widgets/controls",
            "_model_module_version": "1.5.0",
            "_model_name": "DescriptionStyleModel",
            "_view_count": null,
            "_view_module": "@jupyter-widgets/base",
            "_view_module_version": "1.2.0",
            "_view_name": "StyleView",
            "description_width": ""
          }
        },
        "2827bfc9d66544ffb6e50fcd66cde1a8": {
          "model_module": "@jupyter-widgets/base",
          "model_name": "LayoutModel",
          "model_module_version": "1.2.0",
          "state": {
            "_model_module": "@jupyter-widgets/base",
            "_model_module_version": "1.2.0",
            "_model_name": "LayoutModel",
            "_view_count": null,
            "_view_module": "@jupyter-widgets/base",
            "_view_module_version": "1.2.0",
            "_view_name": "LayoutView",
            "align_content": null,
            "align_items": null,
            "align_self": null,
            "border": null,
            "bottom": null,
            "display": null,
            "flex": null,
            "flex_flow": null,
            "grid_area": null,
            "grid_auto_columns": null,
            "grid_auto_flow": null,
            "grid_auto_rows": null,
            "grid_column": null,
            "grid_gap": null,
            "grid_row": null,
            "grid_template_areas": null,
            "grid_template_columns": null,
            "grid_template_rows": null,
            "height": null,
            "justify_content": null,
            "justify_items": null,
            "left": null,
            "margin": null,
            "max_height": null,
            "max_width": null,
            "min_height": null,
            "min_width": null,
            "object_fit": null,
            "object_position": null,
            "order": null,
            "overflow": null,
            "overflow_x": null,
            "overflow_y": null,
            "padding": null,
            "right": null,
            "top": null,
            "visibility": null,
            "width": null
          }
        },
        "505f01fc7da743609fea71e2f21f7878": {
          "model_module": "@jupyter-widgets/controls",
          "model_name": "ProgressStyleModel",
          "model_module_version": "1.5.0",
          "state": {
            "_model_module": "@jupyter-widgets/controls",
            "_model_module_version": "1.5.0",
            "_model_name": "ProgressStyleModel",
            "_view_count": null,
            "_view_module": "@jupyter-widgets/base",
            "_view_module_version": "1.2.0",
            "_view_name": "StyleView",
            "bar_color": null,
            "description_width": ""
          }
        },
        "f011965d58344b7382dfa0f1f8c6f5cf": {
          "model_module": "@jupyter-widgets/base",
          "model_name": "LayoutModel",
          "model_module_version": "1.2.0",
          "state": {
            "_model_module": "@jupyter-widgets/base",
            "_model_module_version": "1.2.0",
            "_model_name": "LayoutModel",
            "_view_count": null,
            "_view_module": "@jupyter-widgets/base",
            "_view_module_version": "1.2.0",
            "_view_name": "LayoutView",
            "align_content": null,
            "align_items": null,
            "align_self": null,
            "border": null,
            "bottom": null,
            "display": null,
            "flex": null,
            "flex_flow": null,
            "grid_area": null,
            "grid_auto_columns": null,
            "grid_auto_flow": null,
            "grid_auto_rows": null,
            "grid_column": null,
            "grid_gap": null,
            "grid_row": null,
            "grid_template_areas": null,
            "grid_template_columns": null,
            "grid_template_rows": null,
            "height": null,
            "justify_content": null,
            "justify_items": null,
            "left": null,
            "margin": null,
            "max_height": null,
            "max_width": null,
            "min_height": null,
            "min_width": null,
            "object_fit": null,
            "object_position": null,
            "order": null,
            "overflow": null,
            "overflow_x": null,
            "overflow_y": null,
            "padding": null,
            "right": null,
            "top": null,
            "visibility": null,
            "width": null
          }
        },
        "232d6d4c746148268fc97a71ede5a31e": {
          "model_module": "@jupyter-widgets/controls",
          "model_name": "DescriptionStyleModel",
          "model_module_version": "1.5.0",
          "state": {
            "_model_module": "@jupyter-widgets/controls",
            "_model_module_version": "1.5.0",
            "_model_name": "DescriptionStyleModel",
            "_view_count": null,
            "_view_module": "@jupyter-widgets/base",
            "_view_module_version": "1.2.0",
            "_view_name": "StyleView",
            "description_width": ""
          }
        }
      }
    }
  },
  "nbformat": 4,
  "nbformat_minor": 0
}