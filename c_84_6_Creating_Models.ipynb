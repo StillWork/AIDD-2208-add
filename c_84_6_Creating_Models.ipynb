{
  "cells": [
    {
      "cell_type": "markdown",
      "metadata": {
        "id": "UyDvil_3p0NA"
      },
      "source": [
        "# 머신러닝 모델 구성\n",
        "\n",
        "- 케라스와 토치 모델 만드는 방법을 배운다"
      ]
    },
    {
      "cell_type": "markdown",
      "source": [
        "# import"
      ],
      "metadata": {
        "id": "S4e1iEd6h1Jl"
      }
    },
    {
      "cell_type": "code",
      "execution_count": null,
      "metadata": {
        "colab": {
          "base_uri": "https://localhost:8080/"
        },
        "id": "6KbbaYENp0NE",
        "outputId": "34edd605-4416-441a-fd20-6a84feb94370"
      },
      "outputs": [
        {
          "output_type": "stream",
          "name": "stdout",
          "text": [
            "Looking in indexes: https://pypi.org/simple, https://us-python.pkg.dev/colab-wheels/public/simple/\n",
            "Collecting deepchem\n",
            "  Downloading deepchem-2.6.1-py3-none-any.whl (608 kB)\n",
            "\u001b[K     |████████████████████████████████| 608 kB 7.2 MB/s \n",
            "\u001b[?25hRequirement already satisfied: joblib in /usr/local/lib/python3.7/dist-packages (from deepchem) (1.1.0)\n",
            "Requirement already satisfied: pandas in /usr/local/lib/python3.7/dist-packages (from deepchem) (1.3.5)\n",
            "Requirement already satisfied: numpy>=1.21 in /usr/local/lib/python3.7/dist-packages (from deepchem) (1.21.6)\n",
            "Requirement already satisfied: scipy in /usr/local/lib/python3.7/dist-packages (from deepchem) (1.7.3)\n",
            "Requirement already satisfied: scikit-learn in /usr/local/lib/python3.7/dist-packages (from deepchem) (1.0.2)\n",
            "Collecting rdkit-pypi\n",
            "  Downloading rdkit_pypi-2022.3.5-cp37-cp37m-manylinux_2_17_x86_64.manylinux2014_x86_64.whl (36.8 MB)\n",
            "\u001b[K     |████████████████████████████████| 36.8 MB 35 kB/s \n",
            "\u001b[?25hRequirement already satisfied: pytz>=2017.3 in /usr/local/lib/python3.7/dist-packages (from pandas->deepchem) (2022.2.1)\n",
            "Requirement already satisfied: python-dateutil>=2.7.3 in /usr/local/lib/python3.7/dist-packages (from pandas->deepchem) (2.8.2)\n",
            "Requirement already satisfied: six>=1.5 in /usr/local/lib/python3.7/dist-packages (from python-dateutil>=2.7.3->pandas->deepchem) (1.15.0)\n",
            "Requirement already satisfied: Pillow in /usr/local/lib/python3.7/dist-packages (from rdkit-pypi->deepchem) (7.1.2)\n",
            "Requirement already satisfied: threadpoolctl>=2.0.0 in /usr/local/lib/python3.7/dist-packages (from scikit-learn->deepchem) (3.1.0)\n",
            "Installing collected packages: rdkit-pypi, deepchem\n",
            "Successfully installed deepchem-2.6.1 rdkit-pypi-2022.3.5\n"
          ]
        }
      ],
      "source": [
        "!pip install deepchem"
      ]
    },
    {
      "cell_type": "code",
      "source": [
        "import deepchem as dc\n",
        "import tensorflow as tf\n",
        "import torch"
      ],
      "metadata": {
        "id": "MfRGR55Ph7Jt"
      },
      "execution_count": null,
      "outputs": []
    },
    {
      "cell_type": "markdown",
      "metadata": {
        "id": "IUG4mG9rp0NH"
      },
      "source": [
        "# 모델 구성 방법 (회귀)\n",
        "- DeepChem's `Dataset`이 다른 프레임워크와 연결하는 방법을 제공한다\n",
        " - `make_tf_dataset()` 은 데이터를 가져오기 위한 `tensorflow.data.Dataset`를 얻는다\n",
        " - `make_pytorch_dataset()`은 `torch.utils.data.IterableDataset`을 얻는데 사용한다\n",
        " - 이러한 함수들을 사용하면 DeepChem의 datasets, loaders, featurizers, transformers, splitters 등을 사용할 수 있다\n",
        "\n"
      ]
    },
    {
      "cell_type": "markdown",
      "source": [
        "## KerasModel\n",
        "\n",
        "- dc.models 모듈이 제공하는 KerasModel을 사용하면 케라스 모델을 만들 수 있다.\n",
        "- 아래는 히든 계층이 하나 있는 MLP 모델 정의이다\n",
        "- 손실함수로 L2Loss를 지정했다"
      ],
      "metadata": {
        "id": "HX12wPbroPNf"
      }
    },
    {
      "cell_type": "code",
      "execution_count": null,
      "metadata": {
        "id": "N4slcJjQp0NI"
      },
      "outputs": [],
      "source": [
        "keras_model = tf.keras.Sequential([\n",
        "    tf.keras.layers.Dense(1000, activation='relu'),\n",
        "    tf.keras.layers.Dropout(0.5),\n",
        "    tf.keras.layers.Dense(1)\n",
        "])\n",
        "model = dc.models.KerasModel(keras_model, dc.models.losses.L2Loss())"
      ]
    },
    {
      "cell_type": "markdown",
      "source": [
        "# 모델 학습과 성능 평가"
      ],
      "metadata": {
        "id": "H5cTMtmw9v7Y"
      }
    },
    {
      "cell_type": "code",
      "execution_count": null,
      "metadata": {
        "colab": {
          "base_uri": "https://localhost:8080/"
        },
        "id": "dlCT4pk4p0NL",
        "outputId": "68bf098e-3745-445e-ca21-346e39fd98cd"
      },
      "outputs": [
        {
          "output_type": "stream",
          "name": "stdout",
          "text": [
            "training set score: {'r2_score': 0.9776049089758412}\n",
            "test set score: {'r2_score': 0.7377961323439772}\n"
          ]
        }
      ],
      "source": [
        "tasks, datasets, transformers = dc.molnet.load_delaney(featurizer='ECFP', splitter='random')\n",
        "train_dataset, valid_dataset, test_dataset = datasets\n",
        "model.fit(train_dataset, nb_epoch=50)\n",
        "metric = dc.metrics.Metric(dc.metrics.r2_score)\n",
        "print('training set score:', model.evaluate(train_dataset, [metric]))\n",
        "print('test set score:', model.evaluate(test_dataset, [metric]))"
      ]
    },
    {
      "cell_type": "markdown",
      "metadata": {
        "id": "z0-wyR0Rp0NM"
      },
      "source": [
        "## TorchModel\n",
        "\n",
        "- 앞과 같은 구조를 갖는 모델을 torch로 만들어보겠다\n",
        "- `TorchModel` 은 `KerasModel`와 같은 기능을 하며 `torch.nn.Module`을 내부에 사용한다"
      ]
    },
    {
      "cell_type": "code",
      "execution_count": null,
      "metadata": {
        "colab": {
          "base_uri": "https://localhost:8080/"
        },
        "id": "14aM8LLwp0NN",
        "outputId": "655bc334-a00f-4ec4-ffc1-855a9c7e36bb"
      },
      "outputs": [
        {
          "output_type": "stream",
          "name": "stdout",
          "text": [
            "training set score: {'r2_score': 0.977441602580224}\n",
            "test set score: {'r2_score': 0.7288244030115891}\n"
          ]
        }
      ],
      "source": [
        "pytorch_model = torch.nn.Sequential(\n",
        "    torch.nn.Linear(1024, 1000),\n",
        "    torch.nn.ReLU(),\n",
        "    torch.nn.Dropout(0.5),\n",
        "    torch.nn.Linear(1000, 1)\n",
        ")\n",
        "model = dc.models.TorchModel(pytorch_model, dc.models.losses.L2Loss())\n",
        "\n",
        "model.fit(train_dataset, nb_epoch=50)\n",
        "print('training set score:', model.evaluate(train_dataset, [metric]))\n",
        "print('test set score:', model.evaluate(test_dataset, [metric]))"
      ]
    },
    {
      "cell_type": "markdown",
      "metadata": {
        "id": "rIuncKuIp0NP"
      },
      "source": [
        "# 모델 클래스 정의 방법 (분류)\n",
        "\n",
        "- 모델을 클래스로 작성하는 방법을 소개\n",
        "- 선형 결과 값에 시그모이드를 수행하는 이진 분류 모델을 만드는 클래스를 정의한다\n"
      ]
    },
    {
      "cell_type": "markdown",
      "source": [
        "## 케라스 모델을 사용하는 경우"
      ],
      "metadata": {
        "id": "drRZhD9PvvWm"
      }
    },
    {
      "cell_type": "code",
      "execution_count": null,
      "metadata": {
        "id": "-2g9yxs3p0NR"
      },
      "outputs": [],
      "source": [
        "class MyModel(tf.keras.Model):\n",
        "    \n",
        "    def __init__(self):\n",
        "        super(MyModel, self).__init__()\n",
        "        self.dense1 = tf.keras.layers.Dense(1000, activation='relu')\n",
        "        self.dense2 = tf.keras.layers.Dense(1)\n",
        "\n",
        "    def call(self, inputs, training=False):\n",
        "        y = self.dense1(inputs)\n",
        "        if training:\n",
        "            y = tf.nn.dropout(y, 0.5)\n",
        "        logits = self.dense2(y)\n",
        "        output = tf.nn.sigmoid(logits)\n",
        "        return output, logits\n",
        "\n",
        "keras_model = MyModel()\n",
        "output_types = ['prediction', 'loss']\n",
        "model = dc.models.KerasModel(keras_model, \n",
        "      dc.models.losses.SigmoidCrossEntropy(), output_types=output_types)"
      ]
    },
    {
      "cell_type": "markdown",
      "metadata": {
        "id": "-SD72U4Zp0NS"
      },
      "source": [
        "- 테스트를 위해서 BACE dataset에 적용해보았다\n",
        " - 분자가 BACE-1 효소를 저해하는지를 예측하는 이진 분류 데이터"
      ]
    },
    {
      "cell_type": "code",
      "execution_count": null,
      "metadata": {
        "colab": {
          "base_uri": "https://localhost:8080/"
        },
        "id": "VwxiVh4cp0NT",
        "outputId": "1465e15c-0b99-4fbf-fc17-46a06c5d0d0f"
      },
      "outputs": [
        {
          "output_type": "stream",
          "name": "stdout",
          "text": [
            "training set score: {'roc_auc_score': 0.9995641545016414, 'accuracy_score': 0.9867768595041322}\n",
            "test set score: {'roc_auc_score': 0.7814764492753623, 'accuracy_score': 0.6842105263157895}\n"
          ]
        }
      ],
      "source": [
        "tasks, datasets, transformers = dc.molnet.load_bace_classification(feturizer='ECFP', splitter='scaffold')\n",
        "train_dataset, valid_dataset, test_dataset = datasets\n",
        "model.fit(train_dataset, nb_epoch=50)\n",
        "metric1 = dc.metrics.Metric(dc.metrics.roc_auc_score)\n",
        "metric2 = dc.metrics.Metric(dc.metrics.accuracy_score)\n",
        "print('training set score:', model.evaluate(train_dataset, [metric1, metric2]))\n",
        "print('test set score:', model.evaluate(test_dataset, [metric1, metric2]))"
      ]
    },
    {
      "cell_type": "markdown",
      "metadata": {
        "id": "sf4tIfaPs1Iw"
      },
      "source": [
        "## 토치 모델을 사용하는 경우"
      ]
    },
    {
      "cell_type": "code",
      "execution_count": null,
      "metadata": {
        "id": "jMOOa20Yszz2"
      },
      "outputs": [],
      "source": [
        "class MyTorchModel(torch.nn.Module):\n",
        "    \n",
        "    def __init__(self):\n",
        "        super(MyTorchModel, self).__init__()\n",
        "        self.dense1 = torch.nn.Linear(1024, 1000)\n",
        "        self.dense2 = torch.nn.Linear(1000, 1)\n",
        "\n",
        "    def forward(self, inputs):\n",
        "        y = torch.nn.functional.relu( self.dense1(inputs) )\n",
        "        y = torch.nn.functional.dropout(y, p=0.5, training=self.training)\n",
        "        logits = self.dense2(y)\n",
        "        output = torch.sigmoid(logits)\n",
        "        return output, logits\n",
        "\n",
        "torch_model = MyTorchModel()\n",
        "output_types = ['prediction', 'loss']\n",
        "model = dc.models.TorchModel(torch_model, dc.models.losses.SigmoidCrossEntropy(), output_types=output_types)"
      ]
    },
    {
      "cell_type": "code",
      "execution_count": null,
      "metadata": {
        "colab": {
          "base_uri": "https://localhost:8080/"
        },
        "id": "N49-Xsic-9iY",
        "outputId": "d5eda04f-f806-465a-e00f-247aa084599d"
      },
      "outputs": [
        {
          "output_type": "stream",
          "name": "stdout",
          "text": [
            "training set score: {'roc_auc_score': 0.9995948871970385, 'accuracy_score': 0.9867768595041322}\n",
            "test set score: {'roc_auc_score': 0.7715579710144929, 'accuracy_score': 0.6776315789473685}\n"
          ]
        }
      ],
      "source": [
        "tasks, datasets, transformers = dc.molnet.load_bace_classification(feturizer='ECFP', splitter='scaffold')\n",
        "train_dataset, valid_dataset, test_dataset = datasets\n",
        "model.fit(train_dataset, nb_epoch=50)\n",
        "metric1 = dc.metrics.Metric(dc.metrics.roc_auc_score)\n",
        "metric2 = dc.metrics.Metric(dc.metrics.accuracy_score)\n",
        "print('training set score:', model.evaluate(train_dataset, [metric1, metric2]))\n",
        "print('test set score:', model.evaluate(test_dataset, [metric1, metric2]))"
      ]
    },
    {
      "cell_type": "markdown",
      "source": [
        "# Splitters\n",
        "\n",
        "- 훈련, 검증, 테스트 데이터 나누기\n",
        "\n",
        "## 종류\n",
        "- RandomSplitter\n",
        " - 랜덤하게 데이터를 나누는 방법\n",
        "\n",
        "- RandomStratifiedSplitter\n",
        " - 랜덤하게 나누되 레이블 분포의 비율에 맞게 나누는 방법\n",
        "\n",
        "- ScaffoldSplitter\n",
        " - 주어진 데이터중에 구조적으로 매우 비슷한 샘플들이 많은 경우 훈련 데이터와 검증데이터에 유사한  데이터가 나뉘어 들어가면 성능이 좋아지는 문제가 있다.\n",
        " - 이러한 문제를 피하기 위해서 분자 구조가 유사한 스카폴드들을 묶어서 훈련과 검증 데이터에 섞이지 않도록 하는 방법\n",
        " \n",
        "- ButinaSplitter\n",
        " - 유사 샘플이 많은 문제를 피하기 위한 방법으로 비슷한 Fingerprint를 가진 분자들을 같은 클러스터링으로 묶는 방법(계산 시간이 필요하다)\n",
        "\n",
        "- SpecifiedSplitter\n",
        " - 최적의 분할 구성을 미리 알고 지정할 때, 또는 시계열 데이터 분할\n"
      ],
      "metadata": {
        "id": "Ka3JHAWywhsz"
      }
    },
    {
      "cell_type": "code",
      "execution_count": null,
      "metadata": {
        "id": "KNAp_wD0Vv3W",
        "colab": {
          "base_uri": "https://localhost:8080/"
        },
        "outputId": "b1d91370-c917-4d1c-c647-4082bc4d8313"
      },
      "outputs": [
        {
          "output_type": "stream",
          "name": "stdout",
          "text": [
            "splitter: random\n",
            "training set score: {'roc_auc_score': 0.9732972349448863}\n",
            "test set score: {'roc_auc_score': 0.7735860163829839}\n",
            "\n",
            "splitter: scaffold\n",
            "training set score: {'roc_auc_score': 0.9756677196925813}\n",
            "test set score: {'roc_auc_score': 0.6758625674350305}\n",
            "\n",
            "splitter: butina\n",
            "training set score: {'roc_auc_score': 0.9757419325575071}\n",
            "test set score: {'roc_auc_score': 0.6010516860209848}\n",
            "\n"
          ]
        }
      ],
      "source": [
        "splitters = ['random', 'scaffold', 'butina']\n",
        "metric = dc.metrics.Metric(dc.metrics.roc_auc_score)\n",
        "for splitter in splitters:\n",
        "    tasks, datasets, transformers = dc.molnet.load_tox21(featurizer='ECFP', splitter=splitter)\n",
        "    train_dataset, valid_dataset, test_dataset = datasets\n",
        "    model = dc.models.MultitaskClassifier(n_tasks=len(tasks), n_features=1024, layer_sizes=[1000])\n",
        "    model.fit(train_dataset, nb_epoch=20)\n",
        "    print('splitter:', splitter)\n",
        "    print('training set score:', model.evaluate(train_dataset, [metric], transformers))\n",
        "    print('test set score:', model.evaluate(test_dataset, [metric], transformers))\n",
        "    print()"
      ]
    },
    {
      "cell_type": "markdown",
      "source": [
        "- (주의) 위결과만 모고 랜덤 분할이 가장 좋다고 단정할 수 없다"
      ],
      "metadata": {
        "id": "jHNJsKs3z1pM"
      }
    },
    {
      "cell_type": "markdown",
      "source": [
        "# 멀티태스크 모델\n",
        "\n",
        "- 딥러닝 모델은 멀티태스크 (다중 레이블링) 구현이 용이하다\n",
        "-  데이터 수가 적거나, 비대칭성일 때 멀티태스킹 작업이 성능을 개선시킬 수 있다\n",
        "\n",
        "## MUV 데이터 이용 예\n",
        "- MUV dataset에는 17개의 타겟에 대해서 소수의 액티브 샘플만 보유하고 있다\n",
        "- 총 93,087 개의 화합물이 있는데 태스크별로 30개 이하의 액티브 샘플만 존재한다\n",
        "- 멀티태스크 모델을 사용하여 이러한 문제를 일부 개선할 수 있다. 한가지 태스크 예측에 도움이 되는 특성은 다른 태스크에도 도움이 될 것임"
      ],
      "metadata": {
        "id": "07F0CfsN-p9V"
      }
    },
    {
      "cell_type": "code",
      "source": [
        "tasks, datasets, transformers = dc.molnet.load_muv(splitter='stratified')\n",
        "train_dataset, valid_dataset, test_dataset = datasets"
      ],
      "metadata": {
        "id": "XW4zau2FAPDs"
      },
      "execution_count": null,
      "outputs": []
    },
    {
      "cell_type": "code",
      "source": [
        "n_tasks = len(tasks)\n",
        "n_features = train_dataset.get_data_shape()[0]\n",
        "model = dc.models.MultitaskClassifier(n_tasks, n_features)\n",
        "model.fit(train_dataset)"
      ],
      "metadata": {
        "colab": {
          "base_uri": "https://localhost:8080/"
        },
        "id": "9tip4FHDAO-v",
        "outputId": "65c995cb-d60d-4404-95d3-805365ffbcaf"
      },
      "execution_count": null,
      "outputs": [
        {
          "output_type": "execute_result",
          "data": {
            "text/plain": [
              "0.45682652791341144"
            ]
          },
          "metadata": {},
          "execution_count": 13
        }
      ]
    },
    {
      "cell_type": "code",
      "source": [
        "y_true = test_dataset.y\n",
        "y_pred = model.predict(test_dataset)\n",
        "metric = dc.metrics.roc_auc_score\n",
        "for i in range(n_tasks):\n",
        "    score = metric(dc.metrics.to_one_hot(y_true[:,i]), y_pred[:,i])\n",
        "    print(tasks[i], score)"
      ],
      "metadata": {
        "colab": {
          "base_uri": "https://localhost:8080/"
        },
        "id": "nVIgsmyyAXU3",
        "outputId": "5e8475bc-182f-410a-b8ce-dfffccc4df85"
      },
      "execution_count": null,
      "outputs": [
        {
          "output_type": "stream",
          "name": "stdout",
          "text": [
            "MUV-466 0.722478953967401\n",
            "MUV-548 0.8680368977252373\n",
            "MUV-600 0.6440533763209744\n",
            "MUV-644 0.9724879097259538\n",
            "MUV-652 0.8235088662009673\n",
            "MUV-689 0.761114096363962\n",
            "MUV-692 0.3533046749059645\n",
            "MUV-712 0.7318287658964714\n",
            "MUV-713 0.48229446534121445\n",
            "MUV-733 0.5551226938921726\n",
            "MUV-737 0.3838169442951818\n",
            "MUV-810 0.41215296435608095\n",
            "MUV-832 0.9171234103528569\n",
            "MUV-846 0.9993283181085438\n",
            "MUV-852 0.869801182160129\n",
            "MUV-858 0.5088930682428803\n",
            "MUV-859 0.7095556630131099\n"
          ]
        }
      ]
    },
    {
      "cell_type": "markdown",
      "source": [
        "# 모델 최적화\n",
        "\n",
        "- `dc.hyper` 패키지가 제공하는 하이퍼파라미터 최적화기 `GridHyperparamOpt`에 하이퍼파라미터 리스트를 입력하면 모든 경우의 수를 시도해본다\n",
        "- HIV dataset 사용\n",
        " - 40,000 이상 분자 데이터로 inhibit HIV replication 예측하는 모델"
      ],
      "metadata": {
        "id": "GvIZN4-Tsupo"
      }
    },
    {
      "cell_type": "code",
      "source": [
        "tasks, datasets, transformers = dc.molnet.load_hiv(featurizer='ECFP', splitter='scaffold')\n",
        "train_dataset, valid_dataset, test_dataset = datasets"
      ],
      "metadata": {
        "id": "kmB4J6C_0XS8"
      },
      "execution_count": null,
      "outputs": []
    },
    {
      "cell_type": "code",
      "source": [
        "tasks"
      ],
      "metadata": {
        "colab": {
          "base_uri": "https://localhost:8080/"
        },
        "id": "qsNpk2fd7wc5",
        "outputId": "1b8a8b7c-1985-426b-86ac-e2af9462b72e"
      },
      "execution_count": null,
      "outputs": [
        {
          "output_type": "execute_result",
          "data": {
            "text/plain": [
              "['HIV_active']"
            ]
          },
          "metadata": {},
          "execution_count": 52
        }
      ]
    },
    {
      "cell_type": "code",
      "source": [
        "params_dict = {\n",
        "    'n_tasks': [len(tasks)],\n",
        "    'n_features': [1024],\n",
        "    'layer_sizes': [[500], [1000], [1000, 1000]],\n",
        "    'dropouts': [0.2, 0.5],\n",
        "    'learning_rate': [0.001, 0.0001]\n",
        "}\n",
        "optimizer = dc.hyper.GridHyperparamOpt(dc.models.MultitaskClassifier)\n",
        "metric = dc.metrics.Metric(dc.metrics.roc_auc_score)\n",
        "best_model, best_hyperparams, all_results = optimizer.hyperparam_search(\n",
        "        params_dict, train_dataset, valid_dataset, metric, transformers)"
      ],
      "metadata": {
        "id": "qebQ8lP2tpRn"
      },
      "execution_count": null,
      "outputs": []
    },
    {
      "cell_type": "markdown",
      "source": [
        "- `hyperparam_search()`는 다음의 세가지를 리턴한다\n",
        " - 찾아낸 best model\n",
        " - 해당 모델의 하이퍼파라이터\n",
        " - 모든 모델의 검증 점수 전체 리스트"
      ],
      "metadata": {
        "id": "tPofXzSut1el"
      }
    },
    {
      "cell_type": "code",
      "source": [
        "best_model"
      ],
      "metadata": {
        "colab": {
          "base_uri": "https://localhost:8080/"
        },
        "id": "plVosegjvqKD",
        "outputId": "29f2f02f-088f-460d-b6ee-de3fc6d62b9f"
      },
      "execution_count": null,
      "outputs": [
        {
          "output_type": "execute_result",
          "data": {
            "text/plain": [
              "<deepchem.models.fcnet.MultitaskClassifier at 0x7f780bbc3d50>"
            ]
          },
          "metadata": {},
          "execution_count": 15
        }
      ]
    },
    {
      "cell_type": "code",
      "source": [
        "best_hyperparams"
      ],
      "metadata": {
        "colab": {
          "base_uri": "https://localhost:8080/"
        },
        "id": "dvNqrkGLw5fg",
        "outputId": "dfb07277-0983-4ed2-8e31-01189b89a02d"
      },
      "execution_count": null,
      "outputs": [
        {
          "output_type": "execute_result",
          "data": {
            "text/plain": [
              "{'n_tasks': 1,\n",
              " 'n_features': 1024,\n",
              " 'layer_sizes': [500],\n",
              " 'dropouts': 0.2,\n",
              " 'learning_rate': 0.001}"
            ]
          },
          "metadata": {},
          "execution_count": 17
        }
      ]
    },
    {
      "cell_type": "code",
      "source": [
        "all_results"
      ],
      "metadata": {
        "colab": {
          "base_uri": "https://localhost:8080/"
        },
        "id": "vdMY_6JJuNPF",
        "outputId": "5860c01e-6ddb-4e33-fa6a-a7a85a133c6c"
      },
      "execution_count": null,
      "outputs": [
        {
          "output_type": "execute_result",
          "data": {
            "text/plain": [
              "{'_dropouts_0.200000_layer_sizes[500]_learning_rate_0.001000_n_features_1024_n_tasks_1': 0.7899803118263766,\n",
              " '_dropouts_0.200000_layer_sizes[500]_learning_rate_0.000100_n_features_1024_n_tasks_1': 0.7745949074074074,\n",
              " '_dropouts_0.500000_layer_sizes[500]_learning_rate_0.001000_n_features_1024_n_tasks_1': 0.7707001396237507,\n",
              " '_dropouts_0.500000_layer_sizes[500]_learning_rate_0.000100_n_features_1024_n_tasks_1': 0.7573103444052518,\n",
              " '_dropouts_0.200000_layer_sizes[1000]_learning_rate_0.001000_n_features_1024_n_tasks_1': 0.7848339824612973,\n",
              " '_dropouts_0.200000_layer_sizes[1000]_learning_rate_0.000100_n_features_1024_n_tasks_1': 0.7682046712718009,\n",
              " '_dropouts_0.500000_layer_sizes[1000]_learning_rate_0.001000_n_features_1024_n_tasks_1': 0.7798828507740545,\n",
              " '_dropouts_0.500000_layer_sizes[1000]_learning_rate_0.000100_n_features_1024_n_tasks_1': 0.7624421296296298,\n",
              " '_dropouts_0.200000_layer_sizes[1000, 1000]_learning_rate_0.001000_n_features_1024_n_tasks_1': 0.7508236576523613,\n",
              " '_dropouts_0.200000_layer_sizes[1000, 1000]_learning_rate_0.000100_n_features_1024_n_tasks_1': 0.76677781452087,\n",
              " '_dropouts_0.500000_layer_sizes[1000, 1000]_learning_rate_0.001000_n_features_1024_n_tasks_1': 0.7274274936311974,\n",
              " '_dropouts_0.500000_layer_sizes[1000, 1000]_learning_rate_0.000100_n_features_1024_n_tasks_1': 0.7558528684107388}"
            ]
          },
          "metadata": {},
          "execution_count": 18
        }
      ]
    },
    {
      "cell_type": "markdown",
      "source": [
        "# Early Stopping\n",
        "\n",
        "- `ValidationCallback`를 사용하여 성능을 기록해준다(예: 1000 step 마다). `save_dir` 인자를 사용하면 최적의 하이퍼파라미터를 디스크에 저장한다"
      ],
      "metadata": {
        "id": "LQkuSCthugXA"
      }
    },
    {
      "cell_type": "code",
      "source": [
        "len(train_dataset)"
      ],
      "metadata": {
        "colab": {
          "base_uri": "https://localhost:8080/"
        },
        "id": "q37rWKnu1kYp",
        "outputId": "6ba736a3-b4e2-4a27-c792-ddbe69927c4f"
      },
      "execution_count": null,
      "outputs": [
        {
          "output_type": "execute_result",
          "data": {
            "text/plain": [
              "32901"
            ]
          },
          "metadata": {},
          "execution_count": 25
        }
      ]
    },
    {
      "cell_type": "code",
      "source": [
        "model = dc.models.MultitaskClassifier(n_tasks=len(tasks),\n",
        "                                      n_features=1024,\n",
        "                                      layer_sizes=[500],\n",
        "                                      dropouts=0.2,\n",
        "                                      learning_rate=0.001)\n",
        "metric = dc.metrics.Metric(dc.metrics.roc_auc_score)\n",
        "callback = dc.models.ValidationCallback(valid_dataset, 1000, metrics=metric)\n",
        "model.fit(train_dataset, nb_epoch=50, callbacks=callback)"
      ],
      "metadata": {
        "colab": {
          "base_uri": "https://localhost:8080/"
        },
        "id": "mNmezpOSvYzZ",
        "outputId": "a6b1c17e-32e3-4285-dff3-129cd9210c6d"
      },
      "execution_count": null,
      "outputs": [
        {
          "output_type": "stream",
          "name": "stdout",
          "text": [
            "Step 1000 validation: roc_auc_score=0.718167\n",
            "Step 2000 validation: roc_auc_score=0.774653\n",
            "Step 3000 validation: roc_auc_score=0.760219\n",
            "Step 4000 validation: roc_auc_score=0.766241\n",
            "Step 5000 validation: roc_auc_score=0.769059\n",
            "Step 6000 validation: roc_auc_score=0.770381\n",
            "Step 7000 validation: roc_auc_score=0.762457\n",
            "Step 8000 validation: roc_auc_score=0.772279\n",
            "Step 9000 validation: roc_auc_score=0.772578\n",
            "Step 10000 validation: roc_auc_score=0.746568\n",
            "Step 11000 validation: roc_auc_score=0.754964\n",
            "Step 12000 validation: roc_auc_score=0.7482\n",
            "Step 13000 validation: roc_auc_score=0.728815\n",
            "Step 14000 validation: roc_auc_score=0.733774\n",
            "Step 15000 validation: roc_auc_score=0.72005\n",
            "Step 16000 validation: roc_auc_score=0.718444\n"
          ]
        },
        {
          "output_type": "execute_result",
          "data": {
            "text/plain": [
              "0.028371157646179198"
            ]
          },
          "metadata": {},
          "execution_count": 56
        }
      ]
    },
    {
      "cell_type": "markdown",
      "source": [
        "# 학습률 스케쥴\n",
        "\n",
        "- 학습이 진행되면서 학습률을 줄여나간다\n",
        "- `ExponentialDecay` 객체를 사용하면 된다 \n",
        " - 예를 들면 0.0002에서 출발하여 1000 스텝마다 0.9배로 줄여나간다"
      ],
      "metadata": {
        "id": "-bUsH3C_v2XS"
      }
    },
    {
      "cell_type": "code",
      "source": [
        "learning_rate = dc.models.optimizers.ExponentialDecay(0.0002, 0.9, 1000)\n",
        "model = dc.models.MultitaskClassifier(n_tasks=len(tasks),\n",
        "                                      n_features=1024,\n",
        "                                      layer_sizes=[1000],\n",
        "                                      dropouts=0.2,\n",
        "                                      learning_rate=learning_rate)\n",
        "model.fit(train_dataset, nb_epoch=50, callbacks=callback)"
      ],
      "metadata": {
        "id": "Rr-raYGOv5BU"
      },
      "execution_count": null,
      "outputs": []
    },
    {
      "cell_type": "code",
      "source": [
        "model.evaluate(valid_dataset, [metric])"
      ],
      "metadata": {
        "colab": {
          "base_uri": "https://localhost:8080/"
        },
        "id": "t_99zDQj0wJZ",
        "outputId": "eb9821d8-8e1f-4017-8f5d-8bbaabde318e"
      },
      "execution_count": null,
      "outputs": [
        {
          "output_type": "execute_result",
          "data": {
            "text/plain": [
              "{'roc_auc_score': 0.680811226239467}"
            ]
          },
          "metadata": {},
          "execution_count": 22
        }
      ]
    },
    {
      "cell_type": "code",
      "source": [],
      "metadata": {
        "id": "NsrGXJUM0wdq"
      },
      "execution_count": null,
      "outputs": []
    }
  ],
  "metadata": {
    "accelerator": "GPU",
    "colab": {
      "collapsed_sections": [],
      "provenance": [],
      "toc_visible": true
    },
    "gpuClass": "standard",
    "kernelspec": {
      "display_name": "Python 3",
      "language": "python",
      "name": "python3"
    },
    "language_info": {
      "codemirror_mode": {
        "name": "ipython",
        "version": 3
      },
      "file_extension": ".py",
      "mimetype": "text/x-python",
      "name": "python",
      "nbconvert_exporter": "python",
      "pygments_lexer": "ipython3",
      "version": "3.8.8"
    },
    "toc": {
      "base_numbering": 1,
      "nav_menu": {},
      "number_sections": false,
      "sideBar": true,
      "skip_h1_title": false,
      "title_cell": "Table of Contents",
      "title_sidebar": "Contents",
      "toc_cell": false,
      "toc_position": {},
      "toc_section_display": true,
      "toc_window_display": false
    }
  },
  "nbformat": 4,
  "nbformat_minor": 0
}