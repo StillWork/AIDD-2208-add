{
 "cells": [
  {
   "cell_type": "markdown",
   "metadata": {},
   "source": [
    "# MLP를 이용한 MNIST 인식\n",
    "- Universal Approximatiom Theorem\n",
    " - MLP로 임의의 함수를 모델링할 수 있다는 이론\n",
    " - 학습 데이터가 충분하다는 가정이 필요함\n",
    "- [MNIST 데이터 보기](https://www.researchgate.net/figure/Example-images-from-the-MNIST-dataset_fig1_306056875)\n",
    "- Dropout, ReLU 활성화 함수 사용\n",
    "- 배치 정규화\n",
    " - 계층마다 입력의 분포가 달라짐으로써 학습속도가 느려지는 현상(Internal Covariance Shift)를 줄이는 방법\n",
    " - 계층의 입력 분포를 정규화 하여 학습속도를 개선한다\n",
    " - ReLU 활성화 함수가 제대로, 의미있게 동작하려면 입력의 분포를 정규화 해야 한다\n",
    " - He 정규화를 사용하겠다"
   ]
  },
  {
   "cell_type": "markdown",
   "metadata": {
    "id": "Dz_QNQIKUACG"
   },
   "source": [
    "# import"
   ]
  },
  {
   "cell_type": "code",
   "execution_count": 1,
   "metadata": {
    "id": "BRIvPQ44Tx3X"
   },
   "outputs": [],
   "source": [
    "import numpy as np\n",
    "import matplotlib.pyplot as plt\n",
    "\n",
    "import torch\n",
    "import torch.nn as nn\n",
    "import torch.nn.functional as F  # 자주 이용되는 함수 모듈\n",
    "# 컴퓨터 비전에서 자주사용되는 모듈\n",
    "from torchvision import transforms, datasets"
   ]
  },
  {
   "cell_type": "code",
   "execution_count": 2,
   "metadata": {
    "colab": {
     "base_uri": "https://localhost:8080/"
    },
    "id": "BRHX633YTx3a",
    "outputId": "61391160-17ca-4e49-8b07-dc4b00d7eb56"
   },
   "outputs": [
    {
     "name": "stdout",
     "output_type": "stream",
     "text": [
      "Using PyTorch version: 1.9.0  Device: cpu\n"
     ]
    }
   ],
   "source": [
    "# 사용장비가 cpu인지 gpu인지 확인 (런타임 - 런타임 유형변경에서 확인)\n",
    "if torch.cuda.is_available():\n",
    "    DEVICE = torch.device('cuda')\n",
    "else:\n",
    "    DEVICE = torch.device('cpu')\n",
    "\n",
    "print('Using PyTorch version:', torch.__version__, ' Device:', DEVICE)"
   ]
  },
  {
   "cell_type": "code",
   "execution_count": 3,
   "metadata": {
    "id": "5Eht4aUHTx3c"
   },
   "outputs": [],
   "source": [
    "BATCH_SIZE = 32\n",
    "EPOCHS = 5"
   ]
  },
  {
   "cell_type": "markdown",
   "metadata": {
    "id": "1JFNSI22U3ED"
   },
   "source": [
    "# 데이터 다운로드 (훈련/검증 데이터)\n",
    "\n",
    "- DataLoader 함수를 사용하여 미니배치 크기로 데이터를 준비한다\n"
   ]
  },
  {
   "cell_type": "code",
   "execution_count": 4,
   "metadata": {
    "colab": {
     "base_uri": "https://localhost:8080/",
     "height": 442,
     "referenced_widgets": [
      "580335ec26684eef90fd68bbbe3e79d9",
      "5d78787753b14c48b72ef9e71fd09610",
      "8eee703f959f4861b53ee0b1bda34464",
      "0fab4c47b4364e3cb7200dc60d8544f0",
      "dd35a32469bc4489aa78f3b944dc4fdc",
      "f6cf3bc6d31d48709addccbcec39f382",
      "f33c89160cc445ff993f1ff0c07720a2",
      "7210e11b1da44cc3bfcd8c25a378eb45",
      "b713b6dc1a4e4f909b715cebb1b9039b",
      "d76d9233295f4648b307b15de401f61d",
      "d8d140d23e894ec7a1d44ee4cc2a0b81",
      "10e2f7ded4cc4fd686a59857f02930e8",
      "5d8f55507501438eb9025ac6d148509c",
      "285903b635c043e8aa8aa368a57c4d09",
      "386100b427c24434b01089ba61e6db40",
      "f858c9fea4174184924861ff4167e3ba",
      "21c21a747c214fa6bcab977d3d329308",
      "f087d81f7c4f49b191357be81fef34ab",
      "28130295317f4358a822462d3f841fc7",
      "f1fa132177ac45899751c12283024398",
      "ee86e1e1e17e4f6b86b4c7c750a2c14a",
      "4dd09262df9e4c4eba7e7af2ef5220e0",
      "0e46119ae75f48cd87795ebf1b23c508",
      "3adf8e04e475451994655e415bcecd40",
      "fd027aecb19e4deea165853601f6a3e1",
      "76cecd12f5ee451a8fd3818a32ee3fbb",
      "ed24514a324b43f78d685ac4e664dd03",
      "befd5b38daf444a0a4ac6dc38f190467",
      "0e1b4fbc761c41308c074e078122e3a7",
      "921f88b74dcf4b3fa3ae4c1f93f37c4f",
      "15be53c669584852a98146c5d3f7fbad",
      "ebd9244c58674edf8d375d4fc9f6a89d",
      "be4eea6142c844199b6320eb86647752",
      "6308d529098341709d693d3afc4c7b07",
      "34a3a5ca36bd4f459a34ec1510df5ee1",
      "cfe377fc06b6440ca43d91689b5b63d7",
      "478449bdb25f46819b3b19c4f4a0cdea",
      "787158c482ee4ff08a9ea4ae2e2b090c",
      "817b481c87b24fa3b6ca6f4dd6898b22",
      "275f61c544de4683a0dbd4f64279085d",
      "6e77c41cda534f92afd7fe97829efe42",
      "928a6797cea841c5a0b9ee0941cec554",
      "1109db6ecb3c43fa8ab4cbb126ec52ec",
      "42dd6a4a09f24ea991236f5b577d143f"
     ]
    },
    "id": "XMLOkxErTx3c",
    "outputId": "0d83b666-7835-48d7-e0ed-8f050aa28704"
   },
   "outputs": [
    {
     "name": "stdout",
     "output_type": "stream",
     "text": [
      "Downloading http://yann.lecun.com/exdb/mnist/train-images-idx3-ubyte.gz\n",
      "Downloading http://yann.lecun.com/exdb/mnist/train-images-idx3-ubyte.gz to ../data/MNIST/MNIST/raw/train-images-idx3-ubyte.gz\n"
     ]
    },
    {
     "data": {
      "application/vnd.jupyter.widget-view+json": {
       "model_id": "5ff5cac95ca84704ac811e0d3f9d2ff4",
       "version_major": 2,
       "version_minor": 0
      },
      "text/plain": [
       "  0%|          | 0/9912422 [00:00<?, ?it/s]"
      ]
     },
     "metadata": {},
     "output_type": "display_data"
    },
    {
     "name": "stdout",
     "output_type": "stream",
     "text": [
      "Extracting ../data/MNIST/MNIST/raw/train-images-idx3-ubyte.gz to ../data/MNIST/MNIST/raw\n",
      "\n",
      "Downloading http://yann.lecun.com/exdb/mnist/train-labels-idx1-ubyte.gz\n",
      "Downloading http://yann.lecun.com/exdb/mnist/train-labels-idx1-ubyte.gz to ../data/MNIST/MNIST/raw/train-labels-idx1-ubyte.gz\n"
     ]
    },
    {
     "data": {
      "application/vnd.jupyter.widget-view+json": {
       "model_id": "5f268955743f4ce39fb0ce3b9f283cc7",
       "version_major": 2,
       "version_minor": 0
      },
      "text/plain": [
       "  0%|          | 0/28881 [00:00<?, ?it/s]"
      ]
     },
     "metadata": {},
     "output_type": "display_data"
    },
    {
     "name": "stdout",
     "output_type": "stream",
     "text": [
      "Extracting ../data/MNIST/MNIST/raw/train-labels-idx1-ubyte.gz to ../data/MNIST/MNIST/raw\n",
      "\n",
      "Downloading http://yann.lecun.com/exdb/mnist/t10k-images-idx3-ubyte.gz\n",
      "Downloading http://yann.lecun.com/exdb/mnist/t10k-images-idx3-ubyte.gz to ../data/MNIST/MNIST/raw/t10k-images-idx3-ubyte.gz\n"
     ]
    },
    {
     "data": {
      "application/vnd.jupyter.widget-view+json": {
       "model_id": "528941ac71e34331900f2c82c8b925d6",
       "version_major": 2,
       "version_minor": 0
      },
      "text/plain": [
       "  0%|          | 0/1648877 [00:00<?, ?it/s]"
      ]
     },
     "metadata": {},
     "output_type": "display_data"
    },
    {
     "name": "stdout",
     "output_type": "stream",
     "text": [
      "Extracting ../data/MNIST/MNIST/raw/t10k-images-idx3-ubyte.gz to ../data/MNIST/MNIST/raw\n",
      "\n",
      "Downloading http://yann.lecun.com/exdb/mnist/t10k-labels-idx1-ubyte.gz\n",
      "Downloading http://yann.lecun.com/exdb/mnist/t10k-labels-idx1-ubyte.gz to ../data/MNIST/MNIST/raw/t10k-labels-idx1-ubyte.gz\n"
     ]
    },
    {
     "data": {
      "application/vnd.jupyter.widget-view+json": {
       "model_id": "f7130e8fa9344f18b1e9aa38859585c6",
       "version_major": 2,
       "version_minor": 0
      },
      "text/plain": [
       "  0%|          | 0/4542 [00:00<?, ?it/s]"
      ]
     },
     "metadata": {},
     "output_type": "display_data"
    },
    {
     "name": "stdout",
     "output_type": "stream",
     "text": [
      "Extracting ../data/MNIST/MNIST/raw/t10k-labels-idx1-ubyte.gz to ../data/MNIST/MNIST/raw\n",
      "\n"
     ]
    },
    {
     "name": "stderr",
     "output_type": "stream",
     "text": [
      "/opt/anaconda3/lib/python3.8/site-packages/torchvision/datasets/mnist.py:498: UserWarning: The given NumPy array is not writeable, and PyTorch does not support non-writeable tensors. This means you can write to the underlying (supposedly non-writeable) NumPy array using the tensor. You may want to copy the array to protect its data or make it writeable before converting it to a tensor. This type of warning will be suppressed for the rest of this program. (Triggered internally at  ../torch/csrc/utils/tensor_numpy.cpp:180.)\n",
      "  return torch.from_numpy(parsed.astype(m[2], copy=False)).view(*s)\n"
     ]
    }
   ],
   "source": [
    "train_dataset = datasets.MNIST(root = \"../data/MNIST\",  # 데이터 저장 폴더 지정\n",
    "                               train = True,            # 학습용 데이터인지를 구분 (검증용이면 False)\n",
    "                               download = True,         # 데이터 다운로드를 수행\n",
    "                               transform = transforms.ToTensor()) # 이미지 데이터를 전처리하여 (0~1) 범위의 텐서로 변경\n",
    "\n",
    "test_dataset = datasets.MNIST(root = \"../data/MNIST\",\n",
    "                              train = False,            # 학습에 사용하지 않는 것을 표시\n",
    "                              transform = transforms.ToTensor())\n",
    "# 미니 배치 크기로 묶어서 저장한다\n",
    "train_loader = torch.utils.data.DataLoader(dataset = train_dataset,\n",
    "                                           batch_size = BATCH_SIZE, \n",
    "                                           shuffle = True)\n",
    "\n",
    "test_loader = torch.utils.data.DataLoader(dataset = test_dataset,\n",
    "                                          batch_size = BATCH_SIZE,\n",
    "                                          shuffle = False)"
   ]
  },
  {
   "cell_type": "markdown",
   "metadata": {
    "id": "wECmNSjnV780"
   },
   "source": [
    "## 데이터 확인하기\n",
    "- 데이터 구조 보기\n",
    "- (batch, feature, shape)"
   ]
  },
  {
   "cell_type": "code",
   "execution_count": 17,
   "metadata": {
    "colab": {
     "base_uri": "https://localhost:8080/"
    },
    "id": "HD6lxlyrTx3d",
    "outputId": "e722a728-3b00-419f-81e2-95a0aca2d933"
   },
   "outputs": [
    {
     "name": "stdout",
     "output_type": "stream",
     "text": [
      "X_train: torch.Size([32, 1, 28, 28]) type: torch.FloatTensor\n",
      "y_train: torch.Size([32]) type: torch.LongTensor\n"
     ]
    }
   ],
   "source": [
    "for (X_train, y_train) in train_loader:\n",
    "    print('X_train:', X_train.size(), 'type:', X_train.type())\n",
    "    print('y_train:', y_train.size(), 'type:', y_train.type())\n",
    "    break"
   ]
  },
  {
   "cell_type": "code",
   "execution_count": 11,
   "metadata": {
    "colab": {
     "base_uri": "https://localhost:8080/",
     "height": 94
    },
    "id": "SY7Pg20ETx3e",
    "outputId": "2be32ea3-6f96-407b-8470-339a85c619aa"
   },
   "outputs": [
    {
     "data": {
      "image/png": "[encoded data removed]",
      "text/plain": [
       "<Figure size 720x72 with 10 Axes>"
      ]
     },
     "metadata": {
      "needs_background": "light"
     },
     "output_type": "display_data"
    }
   ],
   "source": [
    "pltsize = 1\n",
    "plt.figure(figsize=(10 * pltsize, pltsize))\n",
    "for i in range(10):\n",
    "    plt.subplot(1, 10, i + 1)\n",
    "    plt.axis('off')\n",
    "    plt.imshow(X_train[i, :, :, :].numpy().reshape(28, 28), cmap = \"gray_r\")\n",
    "    plt.title('Class: ' + str(y_train[i].item()))"
   ]
  },
  {
   "cell_type": "markdown",
   "metadata": {
    "id": "R6ddOg4Any21"
   },
   "source": [
    "# MLP 모델 구성\n",
    "\n",
    "- nn.Module을 상속하는 클래스 Net을 정의한다\n",
    "- __init__ 함수는 객체 생성시의 동작을 지정한다 (생성자 호출시 수행하는 내용)"
   ]
  },
  {
   "cell_type": "code",
   "execution_count": 18,
   "metadata": {
    "id": "Fg4_DeH_Tx3f"
   },
   "outputs": [],
   "source": [
    "class Net(nn.Module):\n",
    "    def __init__(self):\n",
    "        super(Net, self).__init__()         # \"조상인\" nn.Module에 정의된 기본 메소드를 상속받아 수행한다\n",
    "        self.fc1 = nn.Linear(28 * 28, 512)  # 입력단 전결합망을 만드고 입력과 출력의 크기를 정해준다\n",
    "        self.fc2 = nn.Linear(512, 256)      # 두번째 전결합망 정의\n",
    "        self.fc3 = nn.Linear(256, 10)       # 출력단 정의\n",
    "        self.dropout_prob = 0.5             # 드롭아웃 비율을 50%로 설정\n",
    "        self.batch_norm1 = nn.BatchNorm1d(512) # 첫번째 배치 정규화 정의\n",
    "        self.batch_norm2 = nn.BatchNorm1d(256) # 두번째 배치 정규화 정의\n",
    "\n",
    "    def forward(self, x):                   # 순방향 작업을 정의\n",
    "        x = x.view(-1, 28 * 28)             # 1차원 어레이, 즉 벡터로 변환하는 작업 (Faltted 작업)\n",
    "        x = self.fc1(x)                     # init()에 정의도 fc1을 통과시킨다\n",
    "        x = self.batch_norm1(x)             # 배치 정규화\n",
    "        x = F.relu(x)                       # 활성화 함수 적용\n",
    "                                            # 드롭아웃은 학습과정에서만 수행한다\n",
    "        x = F.dropout(x, training = self.training, p = self.dropout_prob)\n",
    "        x = self.fc2(x)\n",
    "        x = self.batch_norm2(x)\n",
    "        x = F.relu(x)\n",
    "        x = F.dropout(x, training = self.training, p = self.dropout_prob)\n",
    "        x = self.fc3(x)\n",
    "        x = F.log_softmax(x, dim = 1)        # 로그 소프트맥스를 수행\n",
    "        return x                             # 함수 수행 결과 값"
   ]
  },
  {
   "cell_type": "markdown",
   "metadata": {},
   "source": [
    "## 모델 환경 설정\n",
    "- 가중치 호기화\n",
    "- 최적화기 선택 (Adam)\n",
    "- 손실함수 정의 (크로스엔트로피)"
   ]
  },
  {
   "cell_type": "code",
   "execution_count": 19,
   "metadata": {
    "colab": {
     "base_uri": "https://localhost:8080/"
    },
    "id": "1aYgb2f0Tx3g",
    "outputId": "96e6d4cb-0d0f-4da0-b2f4-81df498fd4a7"
   },
   "outputs": [
    {
     "name": "stdout",
     "output_type": "stream",
     "text": [
      "Net(\n",
      "  (fc1): Linear(in_features=784, out_features=512, bias=True)\n",
      "  (fc2): Linear(in_features=512, out_features=256, bias=True)\n",
      "  (fc3): Linear(in_features=256, out_features=10, bias=True)\n",
      "  (batch_norm1): BatchNorm1d(512, eps=1e-05, momentum=0.1, affine=True, track_running_stats=True)\n",
      "  (batch_norm2): BatchNorm1d(256, eps=1e-05, momentum=0.1, affine=True, track_running_stats=True)\n",
      ")\n"
     ]
    }
   ],
   "source": [
    "# 모델 환경 설정\n",
    "import torch.nn.init as init  # 초기값 설정용 모듈\n",
    "def weight_init(m):           # 가중치 초기화 함수 정의   \n",
    "    if isinstance(m, nn.Linear): # nn.Linear에 해당하는 경우만 처리\n",
    "        init.kaiming_uniform_(m.weight.data) # He 초기화 적용\n",
    "\n",
    "model = Net().to(DEVICE)      # 모델을 특정 디바이스에 할당\n",
    "model.apply(weight_init)      # 모델에 위에서 정의한 가중치 초기화 함수를 적용\n",
    "optimizer = torch.optim.Adam(model.parameters(), lr = 0.01)\n",
    "criterion = nn.CrossEntropyLoss()  # 분류의 손실함수로 크로스엔트로피를 사용\n",
    "\n",
    "print(model)"
   ]
  },
  {
   "cell_type": "markdown",
   "metadata": {},
   "source": [
    "## 학습\n",
    "- train_loader에는 배치 단위로 이미지와 레이블이 들어 있다"
   ]
  },
  {
   "cell_type": "code",
   "execution_count": 20,
   "metadata": {
    "id": "TBOdJutwTx3g"
   },
   "outputs": [],
   "source": [
    "# MLP 모델 학습 및 성능 확인 함수 정의\n",
    "def train(model, train_loader, optimizer, log_interval):\n",
    "    model.train()                # 모델을 학습 상태로 지정\n",
    "    for batch_idx, (image, label) in enumerate(train_loader): # 미니 배치 단위로 처리\n",
    "        image = image.to(DEVICE) # 이미지를 디바이스에 할당\n",
    "        label = label.to(DEVICE) # 레이블을 디바이스에 할당\n",
    "        optimizer.zero_grad()    # 미니 배치 단위로 그라디언트를 초기화\n",
    "        output = model(image)    # 이미지를 모델에 입력\n",
    "        loss = criterion(output, label) # 손실 함수 (크로스엔트로피) 계산\n",
    "        loss.backward()          # 손실함수를 바탕으로 역전파를 통해 그라디언트를 전파\n",
    "        optimizer.step()         # 파라미터 값을 업데이트\n",
    "\n",
    "        if batch_idx % log_interval == 0:\n",
    "            print(\"Train Epoch: {} [{}/{} ({:.0f}%)]\\tTrain Loss: {:.6f}\".format(\n",
    "                epoch, batch_idx * len(image), \n",
    "                len(train_loader.dataset), 100. * batch_idx / len(train_loader), \n",
    "                loss.item()))"
   ]
  },
  {
   "cell_type": "markdown",
   "metadata": {},
   "source": [
    "## 성능 평가"
   ]
  },
  {
   "cell_type": "code",
   "execution_count": 21,
   "metadata": {
    "id": "dueuYDWJTx3h"
   },
   "outputs": [],
   "source": [
    "# 검증 데이터에 대한 모델 성능확인 함수 정의\n",
    "def evaluate(model, test_loader):\n",
    "    model.eval()          # 학습이 완료된 모델을 학습상태가 아닌 평가 상태로 설정\n",
    "    test_loss = 0         # test_loader 내의 데이터로 새로운 손실값을 구하기 위해 초기화\n",
    "    correct = 0           # 맞춘 분류의 수를 세기 위해서 초기화\n",
    "\n",
    "    with torch.no_grad(): # 모델 평가시에는 학습을 중지해야 하므로 그라디언트의 흐름을 막는다\n",
    "        for image, label in test_loader:\n",
    "            image = image.to(DEVICE)\n",
    "            label = label.to(DEVICE)\n",
    "            output = model(image)\n",
    "            test_loss += criterion(output, label).item()  # 크로스 엔트로피, 손실함수 계산\n",
    "            prediction = output.max(1, keepdim = True)[1] # 확률이 최대치인 위치 찾기\n",
    "            correct += prediction.eq(label.view_as(prediction)).sum().item()\n",
    "                                                          # 예측이 레이블과 같으면 correct 증가\n",
    "    test_loss /= (len(test_loader.dataset) / BATCH_SIZE)  # 손실함수의 평균값 계산\n",
    "    test_accuracy = 100. * correct / len(test_loader.dataset) # 정확도 계산\n",
    "    return test_loss, test_accuracy"
   ]
  },
  {
   "cell_type": "markdown",
   "metadata": {},
   "source": [
    "# 훈련 및 검증"
   ]
  },
  {
   "cell_type": "code",
   "execution_count": 22,
   "metadata": {
    "colab": {
     "base_uri": "https://localhost:8080/"
    },
    "id": "ASepKwNbTx3i",
    "outputId": "14471790-e7c8-4309-92b1-906613b38913"
   },
   "outputs": [
    {
     "name": "stdout",
     "output_type": "stream",
     "text": [
      "Train Epoch: 1 [0/60000 (0%)]\tTrain Loss: 3.221599\n",
      "Train Epoch: 1 [6400/60000 (11%)]\tTrain Loss: 0.538131\n",
      "Train Epoch: 1 [12800/60000 (21%)]\tTrain Loss: 0.098416\n",
      "Train Epoch: 1 [19200/60000 (32%)]\tTrain Loss: 0.404739\n",
      "Train Epoch: 1 [25600/60000 (43%)]\tTrain Loss: 0.449803\n",
      "Train Epoch: 1 [32000/60000 (53%)]\tTrain Loss: 0.270219\n",
      "Train Epoch: 1 [38400/60000 (64%)]\tTrain Loss: 0.150892\n",
      "Train Epoch: 1 [44800/60000 (75%)]\tTrain Loss: 0.271450\n",
      "Train Epoch: 1 [51200/60000 (85%)]\tTrain Loss: 0.547904\n",
      "Train Epoch: 1 [57600/60000 (96%)]\tTrain Loss: 0.303052\n",
      "\n",
      "[EPOCH: 1], \tTest Loss: 0.1245, \tTest Accuracy: 96.07 % \n",
      "\n",
      "Train Epoch: 2 [0/60000 (0%)]\tTrain Loss: 0.208395\n",
      "Train Epoch: 2 [6400/60000 (11%)]\tTrain Loss: 0.338001\n",
      "Train Epoch: 2 [12800/60000 (21%)]\tTrain Loss: 0.273461\n",
      "Train Epoch: 2 [19200/60000 (32%)]\tTrain Loss: 0.128576\n",
      "Train Epoch: 2 [25600/60000 (43%)]\tTrain Loss: 0.544601\n",
      "Train Epoch: 2 [32000/60000 (53%)]\tTrain Loss: 0.474151\n",
      "Train Epoch: 2 [38400/60000 (64%)]\tTrain Loss: 0.149927\n",
      "Train Epoch: 2 [44800/60000 (75%)]\tTrain Loss: 0.170861\n",
      "Train Epoch: 2 [51200/60000 (85%)]\tTrain Loss: 0.432724\n",
      "Train Epoch: 2 [57600/60000 (96%)]\tTrain Loss: 0.130202\n",
      "\n",
      "[EPOCH: 2], \tTest Loss: 0.1277, \tTest Accuracy: 96.06 % \n",
      "\n",
      "Train Epoch: 3 [0/60000 (0%)]\tTrain Loss: 0.238305\n",
      "Train Epoch: 3 [6400/60000 (11%)]\tTrain Loss: 0.096515\n",
      "Train Epoch: 3 [12800/60000 (21%)]\tTrain Loss: 0.501634\n",
      "Train Epoch: 3 [19200/60000 (32%)]\tTrain Loss: 0.237784\n",
      "Train Epoch: 3 [25600/60000 (43%)]\tTrain Loss: 0.120328\n",
      "Train Epoch: 3 [32000/60000 (53%)]\tTrain Loss: 0.335922\n",
      "Train Epoch: 3 [38400/60000 (64%)]\tTrain Loss: 0.140300\n",
      "Train Epoch: 3 [44800/60000 (75%)]\tTrain Loss: 0.390892\n",
      "Train Epoch: 3 [51200/60000 (85%)]\tTrain Loss: 0.521214\n",
      "Train Epoch: 3 [57600/60000 (96%)]\tTrain Loss: 0.147629\n",
      "\n",
      "[EPOCH: 3], \tTest Loss: 0.0943, \tTest Accuracy: 97.04 % \n",
      "\n",
      "Train Epoch: 4 [0/60000 (0%)]\tTrain Loss: 0.097329\n",
      "Train Epoch: 4 [6400/60000 (11%)]\tTrain Loss: 0.199315\n",
      "Train Epoch: 4 [12800/60000 (21%)]\tTrain Loss: 0.054388\n",
      "Train Epoch: 4 [19200/60000 (32%)]\tTrain Loss: 0.260809\n",
      "Train Epoch: 4 [25600/60000 (43%)]\tTrain Loss: 0.173827\n",
      "Train Epoch: 4 [32000/60000 (53%)]\tTrain Loss: 0.110398\n",
      "Train Epoch: 4 [38400/60000 (64%)]\tTrain Loss: 0.123124\n",
      "Train Epoch: 4 [44800/60000 (75%)]\tTrain Loss: 0.582386\n",
      "Train Epoch: 4 [51200/60000 (85%)]\tTrain Loss: 0.146781\n",
      "Train Epoch: 4 [57600/60000 (96%)]\tTrain Loss: 0.560189\n",
      "\n",
      "[EPOCH: 4], \tTest Loss: 0.0847, \tTest Accuracy: 97.35 % \n",
      "\n",
      "Train Epoch: 5 [0/60000 (0%)]\tTrain Loss: 0.022597\n",
      "Train Epoch: 5 [6400/60000 (11%)]\tTrain Loss: 0.041504\n",
      "Train Epoch: 5 [12800/60000 (21%)]\tTrain Loss: 0.381854\n",
      "Train Epoch: 5 [19200/60000 (32%)]\tTrain Loss: 0.231542\n",
      "Train Epoch: 5 [25600/60000 (43%)]\tTrain Loss: 0.335758\n",
      "Train Epoch: 5 [32000/60000 (53%)]\tTrain Loss: 0.031397\n",
      "Train Epoch: 5 [38400/60000 (64%)]\tTrain Loss: 0.297159\n",
      "Train Epoch: 5 [44800/60000 (75%)]\tTrain Loss: 0.458411\n",
      "Train Epoch: 5 [51200/60000 (85%)]\tTrain Loss: 0.770642\n",
      "Train Epoch: 5 [57600/60000 (96%)]\tTrain Loss: 0.202663\n",
      "\n",
      "[EPOCH: 5], \tTest Loss: 0.0821, \tTest Accuracy: 97.49 % \n",
      "\n",
      "Train Epoch: 6 [0/60000 (0%)]\tTrain Loss: 0.211930\n",
      "Train Epoch: 6 [6400/60000 (11%)]\tTrain Loss: 0.076012\n",
      "Train Epoch: 6 [12800/60000 (21%)]\tTrain Loss: 0.095478\n",
      "Train Epoch: 6 [19200/60000 (32%)]\tTrain Loss: 0.160619\n",
      "Train Epoch: 6 [25600/60000 (43%)]\tTrain Loss: 0.060240\n",
      "Train Epoch: 6 [32000/60000 (53%)]\tTrain Loss: 0.098760\n",
      "Train Epoch: 6 [38400/60000 (64%)]\tTrain Loss: 0.096835\n",
      "Train Epoch: 6 [44800/60000 (75%)]\tTrain Loss: 0.099773\n",
      "Train Epoch: 6 [51200/60000 (85%)]\tTrain Loss: 0.825196\n",
      "Train Epoch: 6 [57600/60000 (96%)]\tTrain Loss: 0.621201\n",
      "\n",
      "[EPOCH: 6], \tTest Loss: 0.0812, \tTest Accuracy: 97.43 % \n",
      "\n",
      "Train Epoch: 7 [0/60000 (0%)]\tTrain Loss: 0.260653\n",
      "Train Epoch: 7 [6400/60000 (11%)]\tTrain Loss: 0.379117\n",
      "Train Epoch: 7 [12800/60000 (21%)]\tTrain Loss: 0.392057\n",
      "Train Epoch: 7 [19200/60000 (32%)]\tTrain Loss: 0.073099\n",
      "Train Epoch: 7 [25600/60000 (43%)]\tTrain Loss: 0.163581\n",
      "Train Epoch: 7 [32000/60000 (53%)]\tTrain Loss: 0.082652\n",
      "Train Epoch: 7 [38400/60000 (64%)]\tTrain Loss: 0.098201\n",
      "Train Epoch: 7 [44800/60000 (75%)]\tTrain Loss: 0.038511\n",
      "Train Epoch: 7 [51200/60000 (85%)]\tTrain Loss: 0.025889\n",
      "Train Epoch: 7 [57600/60000 (96%)]\tTrain Loss: 0.088562\n",
      "\n",
      "[EPOCH: 7], \tTest Loss: 0.0757, \tTest Accuracy: 97.78 % \n",
      "\n",
      "Train Epoch: 8 [0/60000 (0%)]\tTrain Loss: 0.118737\n",
      "Train Epoch: 8 [6400/60000 (11%)]\tTrain Loss: 0.030958\n",
      "Train Epoch: 8 [12800/60000 (21%)]\tTrain Loss: 0.260539\n",
      "Train Epoch: 8 [19200/60000 (32%)]\tTrain Loss: 0.058938\n",
      "Train Epoch: 8 [25600/60000 (43%)]\tTrain Loss: 0.527801\n",
      "Train Epoch: 8 [32000/60000 (53%)]\tTrain Loss: 0.139383\n",
      "Train Epoch: 8 [38400/60000 (64%)]\tTrain Loss: 0.226101\n",
      "Train Epoch: 8 [44800/60000 (75%)]\tTrain Loss: 0.197424\n",
      "Train Epoch: 8 [51200/60000 (85%)]\tTrain Loss: 0.139805\n",
      "Train Epoch: 8 [57600/60000 (96%)]\tTrain Loss: 0.112705\n",
      "\n",
      "[EPOCH: 8], \tTest Loss: 0.0742, \tTest Accuracy: 97.68 % \n",
      "\n",
      "Train Epoch: 9 [0/60000 (0%)]\tTrain Loss: 0.255042\n",
      "Train Epoch: 9 [6400/60000 (11%)]\tTrain Loss: 0.166659\n",
      "Train Epoch: 9 [12800/60000 (21%)]\tTrain Loss: 0.042045\n",
      "Train Epoch: 9 [19200/60000 (32%)]\tTrain Loss: 0.055422\n",
      "Train Epoch: 9 [25600/60000 (43%)]\tTrain Loss: 0.358891\n",
      "Train Epoch: 9 [32000/60000 (53%)]\tTrain Loss: 0.556298\n",
      "Train Epoch: 9 [38400/60000 (64%)]\tTrain Loss: 0.028667\n",
      "Train Epoch: 9 [44800/60000 (75%)]\tTrain Loss: 0.093681\n",
      "Train Epoch: 9 [51200/60000 (85%)]\tTrain Loss: 0.158317\n",
      "Train Epoch: 9 [57600/60000 (96%)]\tTrain Loss: 0.111037\n",
      "\n",
      "[EPOCH: 9], \tTest Loss: 0.0671, \tTest Accuracy: 98.00 % \n",
      "\n",
      "Train Epoch: 10 [0/60000 (0%)]\tTrain Loss: 0.091391\n",
      "Train Epoch: 10 [6400/60000 (11%)]\tTrain Loss: 0.152517\n",
      "Train Epoch: 10 [12800/60000 (21%)]\tTrain Loss: 0.014864\n",
      "Train Epoch: 10 [19200/60000 (32%)]\tTrain Loss: 0.132808\n",
      "Train Epoch: 10 [25600/60000 (43%)]\tTrain Loss: 0.181551\n",
      "Train Epoch: 10 [32000/60000 (53%)]\tTrain Loss: 0.097929\n",
      "Train Epoch: 10 [38400/60000 (64%)]\tTrain Loss: 0.455511\n",
      "Train Epoch: 10 [44800/60000 (75%)]\tTrain Loss: 0.138464\n",
      "Train Epoch: 10 [51200/60000 (85%)]\tTrain Loss: 0.122883\n",
      "Train Epoch: 10 [57600/60000 (96%)]\tTrain Loss: 0.137893\n",
      "\n",
      "[EPOCH: 10], \tTest Loss: 0.0780, \tTest Accuracy: 97.67 % \n",
      "\n"
     ]
    }
   ],
   "source": [
    "# 훈련 및 검증\n",
    "for epoch in range(1, EPOCHS + 1):\n",
    "    train(model, train_loader, optimizer, log_interval = 200)\n",
    "    test_loss, test_accuracy = evaluate(model, test_loader)\n",
    "    print(\"\\n[EPOCH: {}], \\tTest Loss: {:.4f}, \\tTest Accuracy: {:.2f} % \\n\".format(\n",
    "        epoch, test_loss, test_accuracy))"
   ]
  },
  {
   "cell_type": "code",
   "execution_count": null,
   "metadata": {
    "id": "1zvfAwtXv6mr"
   },
   "outputs": [],
   "source": []
  }
 ],
 "metadata": {
  "accelerator": "GPU",
  "colab": {
   "collapsed_sections": [],
   "name": "d_90_MNIST_MLP_Pytorch.ipynb",
   "provenance": []
  },
  "kernelspec": {
   "display_name": "Python 3",
   "language": "python",
   "name": "python3"
  },
  "language_info": {
   "codemirror_mode": {
    "name": "ipython",
    "version": 3
   },
   "file_extension": ".py",
   "mimetype": "text/x-python",
   "name": "python",
   "nbconvert_exporter": "python",
   "pygments_lexer": "ipython3",
   "version": "3.8.8"
  },
  "toc": {
   "base_numbering": 1,
   "nav_menu": {},
   "number_sections": false,
   "sideBar": true,
   "skip_h1_title": false,
   "title_cell": "Table of Contents",
   "title_sidebar": "Contents",
   "toc_cell": false,
   "toc_position": {},
   "toc_section_display": true,
   "toc_window_display": true
  },
  "widgets": {
   "application/vnd.jupyter.widget-state+json": {
    "0e1b4fbc761c41308c074e078122e3a7": {
     "model_module": "@jupyter-widgets/base",
     "model_module_version": "1.2.0",
     "model_name": "LayoutModel",
     "state": {
      "_model_module": "@jupyter-widgets/base",
      "_model_module_version": "1.2.0",
      "_model_name": "LayoutModel",
      "_view_count": null,
      "_view_module": "@jupyter-widgets/base",
      "_view_module_version": "1.2.0",
      "_view_name": "LayoutView",
      "align_content": null,
      "align_items": null,
      "align_self": null,
      "border": null,
      "bottom": null,
      "display": null,
      "flex": null,
      "flex_flow": null,
      "grid_area": null,
      "grid_auto_columns": null,
      "grid_auto_flow": null,
      "grid_auto_rows": null,
      "grid_column": null,
      "grid_gap": null,
      "grid_row": null,
      "grid_template_areas": null,
      "grid_template_columns": null,
      "grid_template_rows": null,
      "height": null,
      "justify_content": null,
      "justify_items": null,
      "left": null,
      "margin": null,
      "max_height": null,
      "max_width": null,
      "min_height": null,
      "min_width": null,
      "object_fit": null,
      "object_position": null,
      "order": null,
      "overflow": null,
      "overflow_x": null,
      "overflow_y": null,
      "padding": null,
      "right": null,
      "top": null,
      "visibility": null,
      "width": null
     }
    },
    "0e46119ae75f48cd87795ebf1b23c508": {
     "model_module": "@jupyter-widgets/controls",
     "model_module_version": "1.5.0",
     "model_name": "HBoxModel",
     "state": {
      "_dom_classes": [],
      "_model_module": "@jupyter-widgets/controls",
      "_model_module_version": "1.5.0",
      "_model_name": "HBoxModel",
      "_view_count": null,
      "_view_module": "@jupyter-widgets/controls",
      "_view_module_version": "1.5.0",
      "_view_name": "HBoxView",
      "box_style": "",
      "children": [
       "IPY_MODEL_fd027aecb19e4deea165853601f6a3e1",
       "IPY_MODEL_76cecd12f5ee451a8fd3818a32ee3fbb",
       "IPY_MODEL_ed24514a324b43f78d685ac4e664dd03"
      ],
      "layout": "IPY_MODEL_3adf8e04e475451994655e415bcecd40"
     }
    },
    "0fab4c47b4364e3cb7200dc60d8544f0": {
     "model_module": "@jupyter-widgets/controls",
     "model_module_version": "1.5.0",
     "model_name": "FloatProgressModel",
     "state": {
      "_dom_classes": [],
      "_model_module": "@jupyter-widgets/controls",
      "_model_module_version": "1.5.0",
      "_model_name": "FloatProgressModel",
      "_view_count": null,
      "_view_module": "@jupyter-widgets/controls",
      "_view_module_version": "1.5.0",
      "_view_name": "ProgressView",
      "bar_style": "success",
      "description": "",
      "description_tooltip": null,
      "layout": "IPY_MODEL_b713b6dc1a4e4f909b715cebb1b9039b",
      "max": 9912422,
      "min": 0,
      "orientation": "horizontal",
      "style": "IPY_MODEL_7210e11b1da44cc3bfcd8c25a378eb45",
      "value": 9912422
     }
    },
    "10e2f7ded4cc4fd686a59857f02930e8": {
     "model_module": "@jupyter-widgets/controls",
     "model_module_version": "1.5.0",
     "model_name": "HBoxModel",
     "state": {
      "_dom_classes": [],
      "_model_module": "@jupyter-widgets/controls",
      "_model_module_version": "1.5.0",
      "_model_name": "HBoxModel",
      "_view_count": null,
      "_view_module": "@jupyter-widgets/controls",
      "_view_module_version": "1.5.0",
      "_view_name": "HBoxView",
      "box_style": "",
      "children": [
       "IPY_MODEL_285903b635c043e8aa8aa368a57c4d09",
       "IPY_MODEL_386100b427c24434b01089ba61e6db40",
       "IPY_MODEL_f858c9fea4174184924861ff4167e3ba"
      ],
      "layout": "IPY_MODEL_5d8f55507501438eb9025ac6d148509c"
     }
    },
    "1109db6ecb3c43fa8ab4cbb126ec52ec": {
     "model_module": "@jupyter-widgets/controls",
     "model_module_version": "1.5.0",
     "model_name": "DescriptionStyleModel",
     "state": {
      "_model_module": "@jupyter-widgets/controls",
      "_model_module_version": "1.5.0",
      "_model_name": "DescriptionStyleModel",
      "_view_count": null,
      "_view_module": "@jupyter-widgets/base",
      "_view_module_version": "1.2.0",
      "_view_name": "StyleView",
      "description_width": ""
     }
    },
    "15be53c669584852a98146c5d3f7fbad": {
     "model_module": "@jupyter-widgets/base",
     "model_module_version": "1.2.0",
     "model_name": "LayoutModel",
     "state": {
      "_model_module": "@jupyter-widgets/base",
      "_model_module_version": "1.2.0",
      "_model_name": "LayoutModel",
      "_view_count": null,
      "_view_module": "@jupyter-widgets/base",
      "_view_module_version": "1.2.0",
      "_view_name": "LayoutView",
      "align_content": null,
      "align_items": null,
      "align_self": null,
      "border": null,
      "bottom": null,
      "display": null,
      "flex": null,
      "flex_flow": null,
      "grid_area": null,
      "grid_auto_columns": null,
      "grid_auto_flow": null,
      "grid_auto_rows": null,
      "grid_column": null,
      "grid_gap": null,
      "grid_row": null,
      "grid_template_areas": null,
      "grid_template_columns": null,
      "grid_template_rows": null,
      "height": null,
      "justify_content": null,
      "justify_items": null,
      "left": null,
      "margin": null,
      "max_height": null,
      "max_width": null,
      "min_height": null,
      "min_width": null,
      "object_fit": null,
      "object_position": null,
      "order": null,
      "overflow": null,
      "overflow_x": null,
      "overflow_y": null,
      "padding": null,
      "right": null,
      "top": null,
      "visibility": null,
      "width": null
     }
    },
    "21c21a747c214fa6bcab977d3d329308": {
     "model_module": "@jupyter-widgets/controls",
     "model_module_version": "1.5.0",
     "model_name": "DescriptionStyleModel",
     "state": {
      "_model_module": "@jupyter-widgets/controls",
      "_model_module_version": "1.5.0",
      "_model_name": "DescriptionStyleModel",
      "_view_count": null,
      "_view_module": "@jupyter-widgets/base",
      "_view_module_version": "1.2.0",
      "_view_name": "StyleView",
      "description_width": ""
     }
    },
    "275f61c544de4683a0dbd4f64279085d": {
     "model_module": "@jupyter-widgets/base",
     "model_module_version": "1.2.0",
     "model_name": "LayoutModel",
     "state": {
      "_model_module": "@jupyter-widgets/base",
      "_model_module_version": "1.2.0",
      "_model_name": "LayoutModel",
      "_view_count": null,
      "_view_module": "@jupyter-widgets/base",
      "_view_module_version": "1.2.0",
      "_view_name": "LayoutView",
      "align_content": null,
      "align_items": null,
      "align_self": null,
      "border": null,
      "bottom": null,
      "display": null,
      "flex": null,
      "flex_flow": null,
      "grid_area": null,
      "grid_auto_columns": null,
      "grid_auto_flow": null,
      "grid_auto_rows": null,
      "grid_column": null,
      "grid_gap": null,
      "grid_row": null,
      "grid_template_areas": null,
      "grid_template_columns": null,
      "grid_template_rows": null,
      "height": null,
      "justify_content": null,
      "justify_items": null,
      "left": null,
      "margin": null,
      "max_height": null,
      "max_width": null,
      "min_height": null,
      "min_width": null,
      "object_fit": null,
      "object_position": null,
      "order": null,
      "overflow": null,
      "overflow_x": null,
      "overflow_y": null,
      "padding": null,
      "right": null,
      "top": null,
      "visibility": null,
      "width": null
     }
    },
    "28130295317f4358a822462d3f841fc7": {
     "model_module": "@jupyter-widgets/controls",
     "model_module_version": "1.5.0",
     "model_name": "ProgressStyleModel",
     "state": {
      "_model_module": "@jupyter-widgets/controls",
      "_model_module_version": "1.5.0",
      "_model_name": "ProgressStyleModel",
      "_view_count": null,
      "_view_module": "@jupyter-widgets/base",
      "_view_module_version": "1.2.0",
      "_view_name": "StyleView",
      "bar_color": null,
      "description_width": ""
     }
    },
    "285903b635c043e8aa8aa368a57c4d09": {
     "model_module": "@jupyter-widgets/controls",
     "model_module_version": "1.5.0",
     "model_name": "HTMLModel",
     "state": {
      "_dom_classes": [],
      "_model_module": "@jupyter-widgets/controls",
      "_model_module_version": "1.5.0",
      "_model_name": "HTMLModel",
      "_view_count": null,
      "_view_module": "@jupyter-widgets/controls",
      "_view_module_version": "1.5.0",
      "_view_name": "HTMLView",
      "description": "",
      "description_tooltip": null,
      "layout": "IPY_MODEL_f087d81f7c4f49b191357be81fef34ab",
      "placeholder": "​",
      "style": "IPY_MODEL_21c21a747c214fa6bcab977d3d329308",
      "value": ""
     }
    },
    "34a3a5ca36bd4f459a34ec1510df5ee1": {
     "model_module": "@jupyter-widgets/base",
     "model_module_version": "1.2.0",
     "model_name": "LayoutModel",
     "state": {
      "_model_module": "@jupyter-widgets/base",
      "_model_module_version": "1.2.0",
      "_model_name": "LayoutModel",
      "_view_count": null,
      "_view_module": "@jupyter-widgets/base",
      "_view_module_version": "1.2.0",
      "_view_name": "LayoutView",
      "align_content": null,
      "align_items": null,
      "align_self": null,
      "border": null,
      "bottom": null,
      "display": null,
      "flex": null,
      "flex_flow": null,
      "grid_area": null,
      "grid_auto_columns": null,
      "grid_auto_flow": null,
      "grid_auto_rows": null,
      "grid_column": null,
      "grid_gap": null,
      "grid_row": null,
      "grid_template_areas": null,
      "grid_template_columns": null,
      "grid_template_rows": null,
      "height": null,
      "justify_content": null,
      "justify_items": null,
      "left": null,
      "margin": null,
      "max_height": null,
      "max_width": null,
      "min_height": null,
      "min_width": null,
      "object_fit": null,
      "object_position": null,
      "order": null,
      "overflow": null,
      "overflow_x": null,
      "overflow_y": null,
      "padding": null,
      "right": null,
      "top": null,
      "visibility": null,
      "width": null
     }
    },
    "386100b427c24434b01089ba61e6db40": {
     "model_module": "@jupyter-widgets/controls",
     "model_module_version": "1.5.0",
     "model_name": "FloatProgressModel",
     "state": {
      "_dom_classes": [],
      "_model_module": "@jupyter-widgets/controls",
      "_model_module_version": "1.5.0",
      "_model_name": "FloatProgressModel",
      "_view_count": null,
      "_view_module": "@jupyter-widgets/controls",
      "_view_module_version": "1.5.0",
      "_view_name": "ProgressView",
      "bar_style": "success",
      "description": "",
      "description_tooltip": null,
      "layout": "IPY_MODEL_f1fa132177ac45899751c12283024398",
      "max": 28881,
      "min": 0,
      "orientation": "horizontal",
      "style": "IPY_MODEL_28130295317f4358a822462d3f841fc7",
      "value": 28881
     }
    },
    "3adf8e04e475451994655e415bcecd40": {
     "model_module": "@jupyter-widgets/base",
     "model_module_version": "1.2.0",
     "model_name": "LayoutModel",
     "state": {
      "_model_module": "@jupyter-widgets/base",
      "_model_module_version": "1.2.0",
      "_model_name": "LayoutModel",
      "_view_count": null,
      "_view_module": "@jupyter-widgets/base",
      "_view_module_version": "1.2.0",
      "_view_name": "LayoutView",
      "align_content": null,
      "align_items": null,
      "align_self": null,
      "border": null,
      "bottom": null,
      "display": null,
      "flex": null,
      "flex_flow": null,
      "grid_area": null,
      "grid_auto_columns": null,
      "grid_auto_flow": null,
      "grid_auto_rows": null,
      "grid_column": null,
      "grid_gap": null,
      "grid_row": null,
      "grid_template_areas": null,
      "grid_template_columns": null,
      "grid_template_rows": null,
      "height": null,
      "justify_content": null,
      "justify_items": null,
      "left": null,
      "margin": null,
      "max_height": null,
      "max_width": null,
      "min_height": null,
      "min_width": null,
      "object_fit": null,
      "object_position": null,
      "order": null,
      "overflow": null,
      "overflow_x": null,
      "overflow_y": null,
      "padding": null,
      "right": null,
      "top": null,
      "visibility": null,
      "width": null
     }
    },
    "42dd6a4a09f24ea991236f5b577d143f": {
     "model_module": "@jupyter-widgets/base",
     "model_module_version": "1.2.0",
     "model_name": "LayoutModel",
     "state": {
      "_model_module": "@jupyter-widgets/base",
      "_model_module_version": "1.2.0",
      "_model_name": "LayoutModel",
      "_view_count": null,
      "_view_module": "@jupyter-widgets/base",
      "_view_module_version": "1.2.0",
      "_view_name": "LayoutView",
      "align_content": null,
      "align_items": null,
      "align_self": null,
      "border": null,
      "bottom": null,
      "display": null,
      "flex": null,
      "flex_flow": null,
      "grid_area": null,
      "grid_auto_columns": null,
      "grid_auto_flow": null,
      "grid_auto_rows": null,
      "grid_column": null,
      "grid_gap": null,
      "grid_row": null,
      "grid_template_areas": null,
      "grid_template_columns": null,
      "grid_template_rows": null,
      "height": null,
      "justify_content": null,
      "justify_items": null,
      "left": null,
      "margin": null,
      "max_height": null,
      "max_width": null,
      "min_height": null,
      "min_width": null,
      "object_fit": null,
      "object_position": null,
      "order": null,
      "overflow": null,
      "overflow_x": null,
      "overflow_y": null,
      "padding": null,
      "right": null,
      "top": null,
      "visibility": null,
      "width": null
     }
    },
    "478449bdb25f46819b3b19c4f4a0cdea": {
     "model_module": "@jupyter-widgets/controls",
     "model_module_version": "1.5.0",
     "model_name": "FloatProgressModel",
     "state": {
      "_dom_classes": [],
      "_model_module": "@jupyter-widgets/controls",
      "_model_module_version": "1.5.0",
      "_model_name": "FloatProgressModel",
      "_view_count": null,
      "_view_module": "@jupyter-widgets/controls",
      "_view_module_version": "1.5.0",
      "_view_name": "ProgressView",
      "bar_style": "success",
      "description": "",
      "description_tooltip": null,
      "layout": "IPY_MODEL_928a6797cea841c5a0b9ee0941cec554",
      "max": 4542,
      "min": 0,
      "orientation": "horizontal",
      "style": "IPY_MODEL_6e77c41cda534f92afd7fe97829efe42",
      "value": 4542
     }
    },
    "4dd09262df9e4c4eba7e7af2ef5220e0": {
     "model_module": "@jupyter-widgets/base",
     "model_module_version": "1.2.0",
     "model_name": "LayoutModel",
     "state": {
      "_model_module": "@jupyter-widgets/base",
      "_model_module_version": "1.2.0",
      "_model_name": "LayoutModel",
      "_view_count": null,
      "_view_module": "@jupyter-widgets/base",
      "_view_module_version": "1.2.0",
      "_view_name": "LayoutView",
      "align_content": null,
      "align_items": null,
      "align_self": null,
      "border": null,
      "bottom": null,
      "display": null,
      "flex": null,
      "flex_flow": null,
      "grid_area": null,
      "grid_auto_columns": null,
      "grid_auto_flow": null,
      "grid_auto_rows": null,
      "grid_column": null,
      "grid_gap": null,
      "grid_row": null,
      "grid_template_areas": null,
      "grid_template_columns": null,
      "grid_template_rows": null,
      "height": null,
      "justify_content": null,
      "justify_items": null,
      "left": null,
      "margin": null,
      "max_height": null,
      "max_width": null,
      "min_height": null,
      "min_width": null,
      "object_fit": null,
      "object_position": null,
      "order": null,
      "overflow": null,
      "overflow_x": null,
      "overflow_y": null,
      "padding": null,
      "right": null,
      "top": null,
      "visibility": null,
      "width": null
     }
    },
    "580335ec26684eef90fd68bbbe3e79d9": {
     "model_module": "@jupyter-widgets/controls",
     "model_module_version": "1.5.0",
     "model_name": "HBoxModel",
     "state": {
      "_dom_classes": [],
      "_model_module": "@jupyter-widgets/controls",
      "_model_module_version": "1.5.0",
      "_model_name": "HBoxModel",
      "_view_count": null,
      "_view_module": "@jupyter-widgets/controls",
      "_view_module_version": "1.5.0",
      "_view_name": "HBoxView",
      "box_style": "",
      "children": [
       "IPY_MODEL_8eee703f959f4861b53ee0b1bda34464",
       "IPY_MODEL_0fab4c47b4364e3cb7200dc60d8544f0",
       "IPY_MODEL_dd35a32469bc4489aa78f3b944dc4fdc"
      ],
      "layout": "IPY_MODEL_5d78787753b14c48b72ef9e71fd09610"
     }
    },
    "5d78787753b14c48b72ef9e71fd09610": {
     "model_module": "@jupyter-widgets/base",
     "model_module_version": "1.2.0",
     "model_name": "LayoutModel",
     "state": {
      "_model_module": "@jupyter-widgets/base",
      "_model_module_version": "1.2.0",
      "_model_name": "LayoutModel",
      "_view_count": null,
      "_view_module": "@jupyter-widgets/base",
      "_view_module_version": "1.2.0",
      "_view_name": "LayoutView",
      "align_content": null,
      "align_items": null,
      "align_self": null,
      "border": null,
      "bottom": null,
      "display": null,
      "flex": null,
      "flex_flow": null,
      "grid_area": null,
      "grid_auto_columns": null,
      "grid_auto_flow": null,
      "grid_auto_rows": null,
      "grid_column": null,
      "grid_gap": null,
      "grid_row": null,
      "grid_template_areas": null,
      "grid_template_columns": null,
      "grid_template_rows": null,
      "height": null,
      "justify_content": null,
      "justify_items": null,
      "left": null,
      "margin": null,
      "max_height": null,
      "max_width": null,
      "min_height": null,
      "min_width": null,
      "object_fit": null,
      "object_position": null,
      "order": null,
      "overflow": null,
      "overflow_x": null,
      "overflow_y": null,
      "padding": null,
      "right": null,
      "top": null,
      "visibility": null,
      "width": null
     }
    },
    "5d8f55507501438eb9025ac6d148509c": {
     "model_module": "@jupyter-widgets/base",
     "model_module_version": "1.2.0",
     "model_name": "LayoutModel",
     "state": {
      "_model_module": "@jupyter-widgets/base",
      "_model_module_version": "1.2.0",
      "_model_name": "LayoutModel",
      "_view_count": null,
      "_view_module": "@jupyter-widgets/base",
      "_view_module_version": "1.2.0",
      "_view_name": "LayoutView",
      "align_content": null,
      "align_items": null,
      "align_self": null,
      "border": null,
      "bottom": null,
      "display": null,
      "flex": null,
      "flex_flow": null,
      "grid_area": null,
      "grid_auto_columns": null,
      "grid_auto_flow": null,
      "grid_auto_rows": null,
      "grid_column": null,
      "grid_gap": null,
      "grid_row": null,
      "grid_template_areas": null,
      "grid_template_columns": null,
      "grid_template_rows": null,
      "height": null,
      "justify_content": null,
      "justify_items": null,
      "left": null,
      "margin": null,
      "max_height": null,
      "max_width": null,
      "min_height": null,
      "min_width": null,
      "object_fit": null,
      "object_position": null,
      "order": null,
      "overflow": null,
      "overflow_x": null,
      "overflow_y": null,
      "padding": null,
      "right": null,
      "top": null,
      "visibility": null,
      "width": null
     }
    },
    "6308d529098341709d693d3afc4c7b07": {
     "model_module": "@jupyter-widgets/controls",
     "model_module_version": "1.5.0",
     "model_name": "HBoxModel",
     "state": {
      "_dom_classes": [],
      "_model_module": "@jupyter-widgets/controls",
      "_model_module_version": "1.5.0",
      "_model_name": "HBoxModel",
      "_view_count": null,
      "_view_module": "@jupyter-widgets/controls",
      "_view_module_version": "1.5.0",
      "_view_name": "HBoxView",
      "box_style": "",
      "children": [
       "IPY_MODEL_cfe377fc06b6440ca43d91689b5b63d7",
       "IPY_MODEL_478449bdb25f46819b3b19c4f4a0cdea",
       "IPY_MODEL_787158c482ee4ff08a9ea4ae2e2b090c"
      ],
      "layout": "IPY_MODEL_34a3a5ca36bd4f459a34ec1510df5ee1"
     }
    },
    "6e77c41cda534f92afd7fe97829efe42": {
     "model_module": "@jupyter-widgets/controls",
     "model_module_version": "1.5.0",
     "model_name": "ProgressStyleModel",
     "state": {
      "_model_module": "@jupyter-widgets/controls",
      "_model_module_version": "1.5.0",
      "_model_name": "ProgressStyleModel",
      "_view_count": null,
      "_view_module": "@jupyter-widgets/base",
      "_view_module_version": "1.2.0",
      "_view_name": "StyleView",
      "bar_color": null,
      "description_width": ""
     }
    },
    "7210e11b1da44cc3bfcd8c25a378eb45": {
     "model_module": "@jupyter-widgets/controls",
     "model_module_version": "1.5.0",
     "model_name": "ProgressStyleModel",
     "state": {
      "_model_module": "@jupyter-widgets/controls",
      "_model_module_version": "1.5.0",
      "_model_name": "ProgressStyleModel",
      "_view_count": null,
      "_view_module": "@jupyter-widgets/base",
      "_view_module_version": "1.2.0",
      "_view_name": "StyleView",
      "bar_color": null,
      "description_width": ""
     }
    },
    "76cecd12f5ee451a8fd3818a32ee3fbb": {
     "model_module": "@jupyter-widgets/controls",
     "model_module_version": "1.5.0",
     "model_name": "FloatProgressModel",
     "state": {
      "_dom_classes": [],
      "_model_module": "@jupyter-widgets/controls",
      "_model_module_version": "1.5.0",
      "_model_name": "FloatProgressModel",
      "_view_count": null,
      "_view_module": "@jupyter-widgets/controls",
      "_view_module_version": "1.5.0",
      "_view_name": "ProgressView",
      "bar_style": "success",
      "description": "",
      "description_tooltip": null,
      "layout": "IPY_MODEL_15be53c669584852a98146c5d3f7fbad",
      "max": 1648877,
      "min": 0,
      "orientation": "horizontal",
      "style": "IPY_MODEL_921f88b74dcf4b3fa3ae4c1f93f37c4f",
      "value": 1648877
     }
    },
    "787158c482ee4ff08a9ea4ae2e2b090c": {
     "model_module": "@jupyter-widgets/controls",
     "model_module_version": "1.5.0",
     "model_name": "HTMLModel",
     "state": {
      "_dom_classes": [],
      "_model_module": "@jupyter-widgets/controls",
      "_model_module_version": "1.5.0",
      "_model_name": "HTMLModel",
      "_view_count": null,
      "_view_module": "@jupyter-widgets/controls",
      "_view_module_version": "1.5.0",
      "_view_name": "HTMLView",
      "description": "",
      "description_tooltip": null,
      "layout": "IPY_MODEL_42dd6a4a09f24ea991236f5b577d143f",
      "placeholder": "​",
      "style": "IPY_MODEL_1109db6ecb3c43fa8ab4cbb126ec52ec",
      "value": " 5120/? [00:00&lt;00:00, 133350.12it/s]"
     }
    },
    "817b481c87b24fa3b6ca6f4dd6898b22": {
     "model_module": "@jupyter-widgets/controls",
     "model_module_version": "1.5.0",
     "model_name": "DescriptionStyleModel",
     "state": {
      "_model_module": "@jupyter-widgets/controls",
      "_model_module_version": "1.5.0",
      "_model_name": "DescriptionStyleModel",
      "_view_count": null,
      "_view_module": "@jupyter-widgets/base",
      "_view_module_version": "1.2.0",
      "_view_name": "StyleView",
      "description_width": ""
     }
    },
    "8eee703f959f4861b53ee0b1bda34464": {
     "model_module": "@jupyter-widgets/controls",
     "model_module_version": "1.5.0",
     "model_name": "HTMLModel",
     "state": {
      "_dom_classes": [],
      "_model_module": "@jupyter-widgets/controls",
      "_model_module_version": "1.5.0",
      "_model_name": "HTMLModel",
      "_view_count": null,
      "_view_module": "@jupyter-widgets/controls",
      "_view_module_version": "1.5.0",
      "_view_name": "HTMLView",
      "description": "",
      "description_tooltip": null,
      "layout": "IPY_MODEL_f33c89160cc445ff993f1ff0c07720a2",
      "placeholder": "​",
      "style": "IPY_MODEL_f6cf3bc6d31d48709addccbcec39f382",
      "value": ""
     }
    },
    "921f88b74dcf4b3fa3ae4c1f93f37c4f": {
     "model_module": "@jupyter-widgets/controls",
     "model_module_version": "1.5.0",
     "model_name": "ProgressStyleModel",
     "state": {
      "_model_module": "@jupyter-widgets/controls",
      "_model_module_version": "1.5.0",
      "_model_name": "ProgressStyleModel",
      "_view_count": null,
      "_view_module": "@jupyter-widgets/base",
      "_view_module_version": "1.2.0",
      "_view_name": "StyleView",
      "bar_color": null,
      "description_width": ""
     }
    },
    "928a6797cea841c5a0b9ee0941cec554": {
     "model_module": "@jupyter-widgets/base",
     "model_module_version": "1.2.0",
     "model_name": "LayoutModel",
     "state": {
      "_model_module": "@jupyter-widgets/base",
      "_model_module_version": "1.2.0",
      "_model_name": "LayoutModel",
      "_view_count": null,
      "_view_module": "@jupyter-widgets/base",
      "_view_module_version": "1.2.0",
      "_view_name": "LayoutView",
      "align_content": null,
      "align_items": null,
      "align_self": null,
      "border": null,
      "bottom": null,
      "display": null,
      "flex": null,
      "flex_flow": null,
      "grid_area": null,
      "grid_auto_columns": null,
      "grid_auto_flow": null,
      "grid_auto_rows": null,
      "grid_column": null,
      "grid_gap": null,
      "grid_row": null,
      "grid_template_areas": null,
      "grid_template_columns": null,
      "grid_template_rows": null,
      "height": null,
      "justify_content": null,
      "justify_items": null,
      "left": null,
      "margin": null,
      "max_height": null,
      "max_width": null,
      "min_height": null,
      "min_width": null,
      "object_fit": null,
      "object_position": null,
      "order": null,
      "overflow": null,
      "overflow_x": null,
      "overflow_y": null,
      "padding": null,
      "right": null,
      "top": null,
      "visibility": null,
      "width": null
     }
    },
    "b713b6dc1a4e4f909b715cebb1b9039b": {
     "model_module": "@jupyter-widgets/base",
     "model_module_version": "1.2.0",
     "model_name": "LayoutModel",
     "state": {
      "_model_module": "@jupyter-widgets/base",
      "_model_module_version": "1.2.0",
      "_model_name": "LayoutModel",
      "_view_count": null,
      "_view_module": "@jupyter-widgets/base",
      "_view_module_version": "1.2.0",
      "_view_name": "LayoutView",
      "align_content": null,
      "align_items": null,
      "align_self": null,
      "border": null,
      "bottom": null,
      "display": null,
      "flex": null,
      "flex_flow": null,
      "grid_area": null,
      "grid_auto_columns": null,
      "grid_auto_flow": null,
      "grid_auto_rows": null,
      "grid_column": null,
      "grid_gap": null,
      "grid_row": null,
      "grid_template_areas": null,
      "grid_template_columns": null,
      "grid_template_rows": null,
      "height": null,
      "justify_content": null,
      "justify_items": null,
      "left": null,
      "margin": null,
      "max_height": null,
      "max_width": null,
      "min_height": null,
      "min_width": null,
      "object_fit": null,
      "object_position": null,
      "order": null,
      "overflow": null,
      "overflow_x": null,
      "overflow_y": null,
      "padding": null,
      "right": null,
      "top": null,
      "visibility": null,
      "width": null
     }
    },
    "be4eea6142c844199b6320eb86647752": {
     "model_module": "@jupyter-widgets/base",
     "model_module_version": "1.2.0",
     "model_name": "LayoutModel",
     "state": {
      "_model_module": "@jupyter-widgets/base",
      "_model_module_version": "1.2.0",
      "_model_name": "LayoutModel",
      "_view_count": null,
      "_view_module": "@jupyter-widgets/base",
      "_view_module_version": "1.2.0",
      "_view_name": "LayoutView",
      "align_content": null,
      "align_items": null,
      "align_self": null,
      "border": null,
      "bottom": null,
      "display": null,
      "flex": null,
      "flex_flow": null,
      "grid_area": null,
      "grid_auto_columns": null,
      "grid_auto_flow": null,
      "grid_auto_rows": null,
      "grid_column": null,
      "grid_gap": null,
      "grid_row": null,
      "grid_template_areas": null,
      "grid_template_columns": null,
      "grid_template_rows": null,
      "height": null,
      "justify_content": null,
      "justify_items": null,
      "left": null,
      "margin": null,
      "max_height": null,
      "max_width": null,
      "min_height": null,
      "min_width": null,
      "object_fit": null,
      "object_position": null,
      "order": null,
      "overflow": null,
      "overflow_x": null,
      "overflow_y": null,
      "padding": null,
      "right": null,
      "top": null,
      "visibility": null,
      "width": null
     }
    },
    "befd5b38daf444a0a4ac6dc38f190467": {
     "model_module": "@jupyter-widgets/controls",
     "model_module_version": "1.5.0",
     "model_name": "DescriptionStyleModel",
     "state": {
      "_model_module": "@jupyter-widgets/controls",
      "_model_module_version": "1.5.0",
      "_model_name": "DescriptionStyleModel",
      "_view_count": null,
      "_view_module": "@jupyter-widgets/base",
      "_view_module_version": "1.2.0",
      "_view_name": "StyleView",
      "description_width": ""
     }
    },
    "cfe377fc06b6440ca43d91689b5b63d7": {
     "model_module": "@jupyter-widgets/controls",
     "model_module_version": "1.5.0",
     "model_name": "HTMLModel",
     "state": {
      "_dom_classes": [],
      "_model_module": "@jupyter-widgets/controls",
      "_model_module_version": "1.5.0",
      "_model_name": "HTMLModel",
      "_view_count": null,
      "_view_module": "@jupyter-widgets/controls",
      "_view_module_version": "1.5.0",
      "_view_name": "HTMLView",
      "description": "",
      "description_tooltip": null,
      "layout": "IPY_MODEL_275f61c544de4683a0dbd4f64279085d",
      "placeholder": "​",
      "style": "IPY_MODEL_817b481c87b24fa3b6ca6f4dd6898b22",
      "value": ""
     }
    },
    "d76d9233295f4648b307b15de401f61d": {
     "model_module": "@jupyter-widgets/controls",
     "model_module_version": "1.5.0",
     "model_name": "DescriptionStyleModel",
     "state": {
      "_model_module": "@jupyter-widgets/controls",
      "_model_module_version": "1.5.0",
      "_model_name": "DescriptionStyleModel",
      "_view_count": null,
      "_view_module": "@jupyter-widgets/base",
      "_view_module_version": "1.2.0",
      "_view_name": "StyleView",
      "description_width": ""
     }
    },
    "d8d140d23e894ec7a1d44ee4cc2a0b81": {
     "model_module": "@jupyter-widgets/base",
     "model_module_version": "1.2.0",
     "model_name": "LayoutModel",
     "state": {
      "_model_module": "@jupyter-widgets/base",
      "_model_module_version": "1.2.0",
      "_model_name": "LayoutModel",
      "_view_count": null,
      "_view_module": "@jupyter-widgets/base",
      "_view_module_version": "1.2.0",
      "_view_name": "LayoutView",
      "align_content": null,
      "align_items": null,
      "align_self": null,
      "border": null,
      "bottom": null,
      "display": null,
      "flex": null,
      "flex_flow": null,
      "grid_area": null,
      "grid_auto_columns": null,
      "grid_auto_flow": null,
      "grid_auto_rows": null,
      "grid_column": null,
      "grid_gap": null,
      "grid_row": null,
      "grid_template_areas": null,
      "grid_template_columns": null,
      "grid_template_rows": null,
      "height": null,
      "justify_content": null,
      "justify_items": null,
      "left": null,
      "margin": null,
      "max_height": null,
      "max_width": null,
      "min_height": null,
      "min_width": null,
      "object_fit": null,
      "object_position": null,
      "order": null,
      "overflow": null,
      "overflow_x": null,
      "overflow_y": null,
      "padding": null,
      "right": null,
      "top": null,
      "visibility": null,
      "width": null
     }
    },
    "dd35a32469bc4489aa78f3b944dc4fdc": {
     "model_module": "@jupyter-widgets/controls",
     "model_module_version": "1.5.0",
     "model_name": "HTMLModel",
     "state": {
      "_dom_classes": [],
      "_model_module": "@jupyter-widgets/controls",
      "_model_module_version": "1.5.0",
      "_model_name": "HTMLModel",
      "_view_count": null,
      "_view_module": "@jupyter-widgets/controls",
      "_view_module_version": "1.5.0",
      "_view_name": "HTMLView",
      "description": "",
      "description_tooltip": null,
      "layout": "IPY_MODEL_d8d140d23e894ec7a1d44ee4cc2a0b81",
      "placeholder": "​",
      "style": "IPY_MODEL_d76d9233295f4648b307b15de401f61d",
      "value": " 9913344/? [00:00&lt;00:00, 53945970.18it/s]"
     }
    },
    "ebd9244c58674edf8d375d4fc9f6a89d": {
     "model_module": "@jupyter-widgets/controls",
     "model_module_version": "1.5.0",
     "model_name": "DescriptionStyleModel",
     "state": {
      "_model_module": "@jupyter-widgets/controls",
      "_model_module_version": "1.5.0",
      "_model_name": "DescriptionStyleModel",
      "_view_count": null,
      "_view_module": "@jupyter-widgets/base",
      "_view_module_version": "1.2.0",
      "_view_name": "StyleView",
      "description_width": ""
     }
    },
    "ed24514a324b43f78d685ac4e664dd03": {
     "model_module": "@jupyter-widgets/controls",
     "model_module_version": "1.5.0",
     "model_name": "HTMLModel",
     "state": {
      "_dom_classes": [],
      "_model_module": "@jupyter-widgets/controls",
      "_model_module_version": "1.5.0",
      "_model_name": "HTMLModel",
      "_view_count": null,
      "_view_module": "@jupyter-widgets/controls",
      "_view_module_version": "1.5.0",
      "_view_name": "HTMLView",
      "description": "",
      "description_tooltip": null,
      "layout": "IPY_MODEL_be4eea6142c844199b6320eb86647752",
      "placeholder": "​",
      "style": "IPY_MODEL_ebd9244c58674edf8d375d4fc9f6a89d",
      "value": " 1649664/? [00:00&lt;00:00, 5273890.10it/s]"
     }
    },
    "ee86e1e1e17e4f6b86b4c7c750a2c14a": {
     "model_module": "@jupyter-widgets/controls",
     "model_module_version": "1.5.0",
     "model_name": "DescriptionStyleModel",
     "state": {
      "_model_module": "@jupyter-widgets/controls",
      "_model_module_version": "1.5.0",
      "_model_name": "DescriptionStyleModel",
      "_view_count": null,
      "_view_module": "@jupyter-widgets/base",
      "_view_module_version": "1.2.0",
      "_view_name": "StyleView",
      "description_width": ""
     }
    },
    "f087d81f7c4f49b191357be81fef34ab": {
     "model_module": "@jupyter-widgets/base",
     "model_module_version": "1.2.0",
     "model_name": "LayoutModel",
     "state": {
      "_model_module": "@jupyter-widgets/base",
      "_model_module_version": "1.2.0",
      "_model_name": "LayoutModel",
      "_view_count": null,
      "_view_module": "@jupyter-widgets/base",
      "_view_module_version": "1.2.0",
      "_view_name": "LayoutView",
      "align_content": null,
      "align_items": null,
      "align_self": null,
      "border": null,
      "bottom": null,
      "display": null,
      "flex": null,
      "flex_flow": null,
      "grid_area": null,
      "grid_auto_columns": null,
      "grid_auto_flow": null,
      "grid_auto_rows": null,
      "grid_column": null,
      "grid_gap": null,
      "grid_row": null,
      "grid_template_areas": null,
      "grid_template_columns": null,
      "grid_template_rows": null,
      "height": null,
      "justify_content": null,
      "justify_items": null,
      "left": null,
      "margin": null,
      "max_height": null,
      "max_width": null,
      "min_height": null,
      "min_width": null,
      "object_fit": null,
      "object_position": null,
      "order": null,
      "overflow": null,
      "overflow_x": null,
      "overflow_y": null,
      "padding": null,
      "right": null,
      "top": null,
      "visibility": null,
      "width": null
     }
    },
    "f1fa132177ac45899751c12283024398": {
     "model_module": "@jupyter-widgets/base",
     "model_module_version": "1.2.0",
     "model_name": "LayoutModel",
     "state": {
      "_model_module": "@jupyter-widgets/base",
      "_model_module_version": "1.2.0",
      "_model_name": "LayoutModel",
      "_view_count": null,
      "_view_module": "@jupyter-widgets/base",
      "_view_module_version": "1.2.0",
      "_view_name": "LayoutView",
      "align_content": null,
      "align_items": null,
      "align_self": null,
      "border": null,
      "bottom": null,
      "display": null,
      "flex": null,
      "flex_flow": null,
      "grid_area": null,
      "grid_auto_columns": null,
      "grid_auto_flow": null,
      "grid_auto_rows": null,
      "grid_column": null,
      "grid_gap": null,
      "grid_row": null,
      "grid_template_areas": null,
      "grid_template_columns": null,
      "grid_template_rows": null,
      "height": null,
      "justify_content": null,
      "justify_items": null,
      "left": null,
      "margin": null,
      "max_height": null,
      "max_width": null,
      "min_height": null,
      "min_width": null,
      "object_fit": null,
      "object_position": null,
      "order": null,
      "overflow": null,
      "overflow_x": null,
      "overflow_y": null,
      "padding": null,
      "right": null,
      "top": null,
      "visibility": null,
      "width": null
     }
    },
    "f33c89160cc445ff993f1ff0c07720a2": {
     "model_module": "@jupyter-widgets/base",
     "model_module_version": "1.2.0",
     "model_name": "LayoutModel",
     "state": {
      "_model_module": "@jupyter-widgets/base",
      "_model_module_version": "1.2.0",
      "_model_name": "LayoutModel",
      "_view_count": null,
      "_view_module": "@jupyter-widgets/base",
      "_view_module_version": "1.2.0",
      "_view_name": "LayoutView",
      "align_content": null,
      "align_items": null,
      "align_self": null,
      "border": null,
      "bottom": null,
      "display": null,
      "flex": null,
      "flex_flow": null,
      "grid_area": null,
      "grid_auto_columns": null,
      "grid_auto_flow": null,
      "grid_auto_rows": null,
      "grid_column": null,
      "grid_gap": null,
      "grid_row": null,
      "grid_template_areas": null,
      "grid_template_columns": null,
      "grid_template_rows": null,
      "height": null,
      "justify_content": null,
      "justify_items": null,
      "left": null,
      "margin": null,
      "max_height": null,
      "max_width": null,
      "min_height": null,
      "min_width": null,
      "object_fit": null,
      "object_position": null,
      "order": null,
      "overflow": null,
      "overflow_x": null,
      "overflow_y": null,
      "padding": null,
      "right": null,
      "top": null,
      "visibility": null,
      "width": null
     }
    },
    "f6cf3bc6d31d48709addccbcec39f382": {
     "model_module": "@jupyter-widgets/controls",
     "model_module_version": "1.5.0",
     "model_name": "DescriptionStyleModel",
     "state": {
      "_model_module": "@jupyter-widgets/controls",
      "_model_module_version": "1.5.0",
      "_model_name": "DescriptionStyleModel",
      "_view_count": null,
      "_view_module": "@jupyter-widgets/base",
      "_view_module_version": "1.2.0",
      "_view_name": "StyleView",
      "description_width": ""
     }
    },
    "f858c9fea4174184924861ff4167e3ba": {
     "model_module": "@jupyter-widgets/controls",
     "model_module_version": "1.5.0",
     "model_name": "HTMLModel",
     "state": {
      "_dom_classes": [],
      "_model_module": "@jupyter-widgets/controls",
      "_model_module_version": "1.5.0",
      "_model_name": "HTMLModel",
      "_view_count": null,
      "_view_module": "@jupyter-widgets/controls",
      "_view_module_version": "1.5.0",
      "_view_name": "HTMLView",
      "description": "",
      "description_tooltip": null,
      "layout": "IPY_MODEL_4dd09262df9e4c4eba7e7af2ef5220e0",
      "placeholder": "​",
      "style": "IPY_MODEL_ee86e1e1e17e4f6b86b4c7c750a2c14a",
      "value": " 29696/? [00:00&lt;00:00, 6558.56it/s]"
     }
    },
    "fd027aecb19e4deea165853601f6a3e1": {
     "model_module": "@jupyter-widgets/controls",
     "model_module_version": "1.5.0",
     "model_name": "HTMLModel",
     "state": {
      "_dom_classes": [],
      "_model_module": "@jupyter-widgets/controls",
      "_model_module_version": "1.5.0",
      "_model_name": "HTMLModel",
      "_view_count": null,
      "_view_module": "@jupyter-widgets/controls",
      "_view_module_version": "1.5.0",
      "_view_name": "HTMLView",
      "description": "",
      "description_tooltip": null,
      "layout": "IPY_MODEL_0e1b4fbc761c41308c074e078122e3a7",
      "placeholder": "​",
      "style": "IPY_MODEL_befd5b38daf444a0a4ac6dc38f190467",
      "value": ""
     }
    }
   }
  }
 },
 "nbformat": 4,
 "nbformat_minor": 1
}
