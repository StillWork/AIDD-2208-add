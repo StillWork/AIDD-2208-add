{
 "cells": [
  {
   "cell_type": "markdown",
   "id": "5d986507",
   "metadata": {},
   "source": [
    "#  가정\n",
    "- 다음의 내용은 알고 있다고 가정\n",
    "- 파이썬 기초문법: for, if, else, def\n",
    "- 데이터 다루기: list, dictionary, matplotlib, range, reshape, \n",
    "- 데이터프레임과 ndarray 차이 이해\n",
    "- 머신러닝 모델의 개념 - 회귀예측, 분류예측\n",
    "- 손실함수: MSE, 크로스엔트로피 \n",
    "- 성능평가: R-sqaured, 컨퓨전 매트릭스, 정확도, 정밀도, 리콜, Precision-Recall Curve, ROC-AUC\n",
    "- 과대적합과 과소적합\n",
    "\n",
    "# DeepChem의 예제를 중심으로 설명\n",
    "- [DeepChem Tutorial](https://github.com/deepchem/deepchem/tree/master/examples/tutorials)\n",
    "- colab에서 실습"
   ]
  },
  {
   "cell_type": "code",
   "execution_count": null,
   "id": "c3974ad6",
   "metadata": {},
   "outputs": [],
   "source": []
  }
 ],
 "metadata": {
  "kernelspec": {
   "display_name": "Python 3",
   "language": "python",
   "name": "python3"
  },
  "language_info": {
   "codemirror_mode": {
    "name": "ipython",
    "version": 3
   },
   "file_extension": ".py",
   "mimetype": "text/x-python",
   "name": "python",
   "nbconvert_exporter": "python",
   "pygments_lexer": "ipython3",
   "version": "3.8.8"
  },
  "toc": {
   "base_numbering": 1,
   "nav_menu": {},
   "number_sections": false,
   "sideBar": true,
   "skip_h1_title": false,
   "title_cell": "Table of Contents",
   "title_sidebar": "Contents",
   "toc_cell": false,
   "toc_position": {},
   "toc_section_display": true,
   "toc_window_display": true
  }
 },
 "nbformat": 4,
 "nbformat_minor": 5
}
