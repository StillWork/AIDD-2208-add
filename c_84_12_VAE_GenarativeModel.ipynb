{
  "cells": [
    {
      "cell_type": "markdown",
      "metadata": {
        "id": "fgnMjNUfE5wR"
      },
      "source": [
        "# VAE를 이용한 생성 모델\n",
        "- 새로운 분자의 SMILES를 출력\n",
        "- MolrculeNet이 제공하는 SMILES 데이터셋 MUV 사용 (약 90000개 제공)\n",
        " - Maximum Unbiased Validation(MUV) - 17개의 태스크 포함"
      ]
    },
    {
      "cell_type": "code",
      "execution_count": null,
      "metadata": {
        "colab": {
          "base_uri": "https://localhost:8080/"
        },
        "id": "bsFrs0ChE2Na",
        "outputId": "f86b3e0c-9c9d-4715-94ab-c1369d623167"
      },
      "outputs": [
        {
          "name": "stdout",
          "output_type": "stream",
          "text": [
            "Looking in indexes: https://pypi.org/simple, https://us-python.pkg.dev/colab-wheels/public/simple/\n",
            "Collecting DeepChem\n",
            "  Downloading deepchem-2.6.1-py3-none-any.whl (608 kB)\n",
            "\u001b[K     |████████████████████████████████| 608 kB 30.4 MB/s \n",
            "\u001b[?25hRequirement already satisfied: scikit-learn in /usr/local/lib/python3.7/dist-packages (from DeepChem) (1.0.2)\n",
            "Requirement already satisfied: scipy in /usr/local/lib/python3.7/dist-packages (from DeepChem) (1.7.3)\n",
            "Requirement already satisfied: joblib in /usr/local/lib/python3.7/dist-packages (from DeepChem) (1.2.0)\n",
            "Requirement already satisfied: numpy>=1.21 in /usr/local/lib/python3.7/dist-packages (from DeepChem) (1.21.6)\n",
            "Collecting rdkit-pypi\n",
            "  Downloading rdkit_pypi-2022.9.1-cp37-cp37m-manylinux_2_17_x86_64.manylinux2014_x86_64.whl (29.5 MB)\n",
            "\u001b[K     |████████████████████████████████| 29.5 MB 1.3 MB/s \n",
            "\u001b[?25hRequirement already satisfied: pandas in /usr/local/lib/python3.7/dist-packages (from DeepChem) (1.3.5)\n",
            "Requirement already satisfied: pytz>=2017.3 in /usr/local/lib/python3.7/dist-packages (from pandas->DeepChem) (2022.5)\n",
            "Requirement already satisfied: python-dateutil>=2.7.3 in /usr/local/lib/python3.7/dist-packages (from pandas->DeepChem) (2.8.2)\n",
            "Requirement already satisfied: six>=1.5 in /usr/local/lib/python3.7/dist-packages (from python-dateutil>=2.7.3->pandas->DeepChem) (1.15.0)\n",
            "Requirement already satisfied: Pillow in /usr/local/lib/python3.7/dist-packages (from rdkit-pypi->DeepChem) (7.1.2)\n",
            "Requirement already satisfied: threadpoolctl>=2.0.0 in /usr/local/lib/python3.7/dist-packages (from scikit-learn->DeepChem) (3.1.0)\n",
            "Installing collected packages: rdkit-pypi, DeepChem\n",
            "Successfully installed DeepChem-2.6.1 rdkit-pypi-2022.9.1\n"
          ]
        }
      ],
      "source": [
        "!pip install DeepChem"
      ]
    },
    {
      "cell_type": "code",
      "execution_count": null,
      "metadata": {
        "id": "CLQPMCKMFUnC"
      },
      "outputs": [],
      "source": [
        "import deepchem as dc\n",
        "import tensorflow as tf\n",
        "import tensorflow.keras.layers as layers\n",
        "\n",
        "import pandas as pd\n",
        "import numpy as np\n",
        "%config InlineBackend.figure_format = 'retina'"
      ]
    },
    {
      "cell_type": "code",
      "execution_count": null,
      "metadata": {
        "colab": {
          "background_save": true
        },
        "collapsed": true,
        "id": "0KPRezLLFvRk"
      },
      "outputs": [],
      "source": [
        "tasks, datasets, transformers = dc.molnet.load_muv()\n",
        "train_dataset, valid_dataset, test_dataset = datasets\n",
        "train_smiles = train_dataset.ids\n",
        "\n",
        "# SMILES 문자열의 규칙을 파악: 문자(토큰)의 목록, 문자열의 최대길이 등\n",
        "\n",
        "tokens = set()\n",
        "for s in train_smiles:\n",
        "  tokens = tokens.union(set(s))\n",
        "tokens = sorted(list(tokens))\n",
        "max_length = max(len(s) for s in train_smiles)\n",
        "\n",
        "# 모델 만들기\n",
        "# AspuruGuzikAutoEncoder: 인코더는 합성곱신경망을, 디코더는 순환신경망을 사용\n",
        "# 학습속도를 조절하기 위해서 ExponentialDecay를 사용한다\n",
        "# 0.001에서 시작하고 이포크마다 0.95배로 감소시킨다\n",
        "\n",
        "from deepchem.models.optimizers import ExponentialDecay\n",
        "from deepchem.models.seqtoseq import AspuruGuzikAutoEncoder\n",
        "batch_size = 100\n",
        "batches_per_epoch = len(train_smiles)/batch_size\n",
        "learning_rate = ExponentialDecay(0.001, 0.95, batches_per_epoch)\n",
        "model = AspuruGuzikAutoEncoder(tokens, max_length, model_dir='vae', batch_size=batch_size, learning_rate=learning_rate)\n",
        "\n",
        "# 시퀀스 생성 함수 정의\n",
        "\n",
        "def generate_sequences(epochs):\n",
        "  for i in range(epochs):\n",
        "    for s in train_smiles:\n",
        "      yield (s, s)\n",
        "\n",
        "# AspuruGuzikAutoEncoder이 제공하는 자체 학습 함수 (이포크수 지정)\n",
        "\n",
        "model.fit_sequences(generate_sequences(50)) # 50 이포크 수\n"
      ]
    },
    {
      "cell_type": "code",
      "execution_count": null,
      "metadata": {
        "colab": {
          "background_save": true
        },
        "id": "ME5beb7Bp9Ir",
        "outputId": "0566660e-2384-40ab-c7f5-07e1d6191996"
      },
      "outputs": [
        {
          "name": "stdout",
          "output_type": "stream",
          "text": [
            "\n",
            "Generated molecules:\n",
            "CC1Cn2c(CCCCCCCCCCCCCC)c(C#CCO)c2c1\n",
            "CC1CC1NCCCCCCCCCCCCCCCCCCCCCCCCCCCCCCCCCCCCCCCCCCCCCCCCCCCCCCCCCCCCCCCCCCCCCCCCCC\n",
            "c1ccc(CN2CCCCCCCCCCC3)c(=C)cc3cccc21\n",
            "CC1c(NCC(=O)CC)cc(C)ccnccccccc2ccccccc21\n",
            "Cc1ncccc(CCCCCCCCCCCCCC)cc(CO)cc1\n"
          ]
        }
      ],
      "source": [
        "# 학습된 모델을 이용하여 새로운 분자를 만든다\n",
        "# 모델에 들어가는 벡터의 크기를 지정한다 (예: 196)\n",
        "# 벡터를 1000개 생성하겠다\n",
        "# 생성된 분자들중 유효한 SMILES를 걸러내기 위해서 RDKit의 MolFromSmiles를 사용한다\n",
        "\n",
        "from rdkit import Chem\n",
        "predictions = model.predict_from_embeddings(np.random.normal(size=(1000,196)))\n",
        "molecules = []\n",
        "for p in predictions:\n",
        "  smiles = ''.join(p)\n",
        "  if Chem.MolFromSmiles(smiles) is not None:\n",
        "    molecules.append(smiles)\n",
        "print()\n",
        "print('Generated molecules:')\n",
        "for m in molecules:\n",
        "  print(m)"
      ]
    },
    {
      "cell_type": "code",
      "execution_count": 10,
      "metadata": {
        "colab": {
          "base_uri": "https://localhost:8080/"
        },
        "collapsed": true,
        "id": "x1gPAv-zHvvl",
        "outputId": "67a12a72-a30e-41cc-f7c7-bbc502fc4708"
      },
      "outputs": [
        {
          "output_type": "execute_result",
          "data": {
            "text/plain": [
              "['CC1Cn2c(CCCCCCCCCCCCCC)c(C#CCO)c2c1',\n",
              " 'CC1CC1NCCCCCCCCCCCCCCCCCCCCCCCCCCCCCCCCCCCCCCCCCCCCCCCCCCCCCCCCCCCCCCCCCCCCCCCCCC',\n",
              " 'c1ccc(CN2CCCCCCCCCCC3)c(=C)cc3cccc21',\n",
              " 'CC1c(NCC(=O)CC)cc(C)ccnccccccc2ccccccc21',\n",
              " 'Cc1ncccc(CCCCCCCCCCCCCC)cc(CO)cc1']"
            ]
          },
          "metadata": {},
          "execution_count": 10
        }
      ],
      "source": [
        "molecules"
      ]
    },
    {
      "cell_type": "markdown",
      "metadata": {
        "id": "B_dj3l2CH6aH"
      },
      "source": [
        "## 생성된 SMILES 들에 대해서 유효하지 않거나 약물로서 가치가 없는 분자를 걸러내야 한다\n",
        "- 제거하고 싶은 분자가 있는지 찾는다\n",
        "- MolFromSmiles()을 사용해 SMILES 문자열들을 분자 객체로 변환한다\n",
        "- 분자의 크기를 확인한다 (10보다 작으면 상호작용에 필요한 에너지가 불충분하고, 50 이상이면 분자의 용해도가 너무 낮아 문제가 된다)\n",
        "- 수소를 제외한 분자의 크기를 GetNumAtoms()로 얻는다\n",
        "- 약물과 얼마나 유사한지를 판단하기 위해서 QED(Quantitave Estimate of Drugness)를 많이 사용한다\n",
        " - QED: 계산된 속성 집합과 판매된 약물의 동일한 특성 분포를 정량화 한 것 (Richard Bickerton 이 제안)\n",
        " - 1에 가까울수록 기존의 약물과 유사하다고 본다\n",
        " - QED > 0.5 인 분자만 고른 후 결과를 시각화 한다"
      ]
    },
    {
      "cell_type": "code",
      "execution_count": 11,
      "metadata": {
        "colab": {
          "base_uri": "https://localhost:8080/"
        },
        "id": "hTAeK7QgRl9u",
        "outputId": "8ac3cbb9-e335-4b69-d184-b09df2620f2b"
      },
      "outputs": [
        {
          "output_type": "stream",
          "name": "stdout",
          "text": [
            "[25, 26, 27, 29, 79]\n"
          ]
        }
      ],
      "source": [
        "from rdkit import Chem\n",
        "molecules_new = [Chem.MolFromSmiles(x) for x in molecules]\n",
        "# moleculs_new = [Chem.MolFromSmiles(x) for x in smlies_list]\n",
        "print(sorted(x.GetNumAtoms() for x in molecules_new))"
      ]
    },
    {
      "cell_type": "code",
      "execution_count": 12,
      "metadata": {
        "colab": {
          "base_uri": "https://localhost:8080/"
        },
        "id": "RKoLzkWGSPZR",
        "outputId": "b59c80ae-adb7-439d-a0c8-97211c3ee36e"
      },
      "outputs": [
        {
          "output_type": "stream",
          "name": "stdout",
          "text": [
            "4\n"
          ]
        }
      ],
      "source": [
        "good_mol_list = [x for x in molecules_new if x.GetNumAtoms() > 10 and x.GetNumAtoms() < 50]\n",
        "print(len(good_mol_list))"
      ]
    },
    {
      "cell_type": "code",
      "execution_count": 14,
      "metadata": {
        "id": "F_6tBZWESl4B"
      },
      "outputs": [],
      "source": [
        "from rdkit.Chem import QED\n",
        "qed_list = [QED.qed(x) for x in good_mol_list]"
      ]
    },
    {
      "cell_type": "code",
      "execution_count": 15,
      "metadata": {
        "colab": {
          "base_uri": "https://localhost:8080/"
        },
        "id": "5sLZAgLLVO0j",
        "outputId": "6ad15df7-656d-4bcc-bd58-cea443ceedf3"
      },
      "outputs": [
        {
          "output_type": "execute_result",
          "data": {
            "text/plain": [
              "[0.31427961330252857,\n",
              " 0.4796533123360689,\n",
              " 0.6721386351907204,\n",
              " 0.34927910983033633]"
            ]
          },
          "metadata": {},
          "execution_count": 15
        }
      ],
      "source": [
        "qed_list"
      ]
    },
    {
      "cell_type": "code",
      "execution_count": 16,
      "metadata": {
        "colab": {
          "base_uri": "https://localhost:8080/"
        },
        "collapsed": true,
        "id": "bP0R11czVNCf",
        "outputId": "04e76bd0-af20-4a2c-b08c-d7a5cdc4e159"
      },
      "outputs": [
        {
          "output_type": "execute_result",
          "data": {
            "text/plain": [
              "[(<rdkit.Chem.rdchem.Mol at 0x7fac575196c0>, 0.31427961330252857),\n",
              " (<rdkit.Chem.rdchem.Mol at 0x7fab50189030>, 0.4796533123360689),\n",
              " (<rdkit.Chem.rdchem.Mol at 0x7fab50189df0>, 0.6721386351907204),\n",
              " (<rdkit.Chem.rdchem.Mol at 0x7fab50189850>, 0.34927910983033633)]"
            ]
          },
          "metadata": {},
          "execution_count": 16
        }
      ],
      "source": [
        "final_mol_list = [(a,b) for a,b in zip(good_mol_list, qed_list) if b > 0.3] # 0.5를 낮춤\n",
        "final_mol_list"
      ]
    },
    {
      "cell_type": "code",
      "execution_count": 17,
      "metadata": {
        "colab": {
          "base_uri": "https://localhost:8080/",
          "height": 244
        },
        "id": "_ytxQb4VVf9u",
        "outputId": "aac412fd-e8a4-4419-c172-80fe9f193ee4"
      },
      "outputs": [
        {
          "output_type": "execute_result",
          "data": {
            "text/plain": [
              "\"<?xml version='1.0' encoding='iso-8859-1'?>\\n<svg version='1.1' baseProfile='full'\\n              xmlns='http://www.w3.org/2000/svg'\\n                      xmlns:rdkit='http://www.rdkit.org/xml'\\n                      xmlns:xlink='http://www.w3.org/1999/xlink'\\n                  xml:space='preserve'\\nwidth='750px' height='500px' viewBox='0 0 750 500'>\\n<!-- END OF HEADER -->\\n<rect style='opacity:1.0;fill:#FFFFFF;stroke:none' width='750.0' height='500.0' x='0.0' y='0.0'> </rect>\\n<path class='bond-0 atom-0 atom-1' d='M 35.5,163.6 L 39.4,149.9' style='fill:none;fill-rule:evenodd;stroke:#000000;stroke-width:2.0px;stroke-linecap:butt;stroke-linejoin:miter;stroke-opacity:1' />\\n<path class='bond-1 atom-1 atom-2' d='M 39.4,149.9 L 52.7,144.9' style='fill:none;fill-rule:evenodd;stroke:#000000;stroke-width:2.0px;stroke-linecap:butt;stroke-linejoin:miter;stroke-opacity:1' />\\n<path class='bond-2 atom-2 atom-3' d='M 52.7,144.9 L 52.5,139.1' style='fill:none;fill-rule:evenodd;stroke:#000000;stroke-width:2.0px;stroke-linecap:butt;stroke-linejoin:miter;stroke-opacity:1' />\\n<path class='bond-2 atom-2 atom-3' d='M 52.5,139.1 L 52.2,133.2' style='fill:none;fill-rule:evenodd;stroke:#0000FF;stroke-width:2.0px;stroke-linecap:butt;stroke-linejoin:miter;stroke-opacity:1' />\\n<path class='bond-3 atom-3 atom-4' d='M 52.8,128.0 L 54.4,122.5' style='fill:none;fill-rule:evenodd;stroke:#0000FF;stroke-width:2.0px;stroke-linecap:butt;stroke-linejoin:miter;stroke-opacity:1' />\\n<path class='bond-3 atom-3 atom-4' d='M 54.4,122.5 L 55.9,116.9' style='fill:none;fill-rule:evenodd;stroke:#000000;stroke-width:2.0px;stroke-linecap:butt;stroke-linejoin:miter;stroke-opacity:1' />\\n<path class='bond-4 atom-4 atom-5' d='M 55.9,116.9 L 68.4,109.9' style='fill:none;fill-rule:evenodd;stroke:#000000;stroke-width:2.0px;stroke-linecap:butt;stroke-linejoin:miter;stroke-opacity:1' />\\n<path class='bond-5 atom-5 atom-6' d='M 68.4,109.9 L 80.6,117.1' style='fill:none;fill-rule:evenodd;stroke:#000000;stroke-width:2.0px;stroke-linecap:butt;stroke-linejoin:miter;stroke-opacity:1' />\\n<path class='bond-6 atom-6 atom-7' d='M 80.6,117.1 L 93.1,110.1' style='fill:none;fill-rule:evenodd;stroke:#000000;stroke-width:2.0px;stroke-linecap:butt;stroke-linejoin:miter;stroke-opacity:1' />\\n<path class='bond-7 atom-7 atom-8' d='M 93.1,110.1 L 105.3,117.4' style='fill:none;fill-rule:evenodd;stroke:#000000;stroke-width:2.0px;stroke-linecap:butt;stroke-linejoin:miter;stroke-opacity:1' />\\n<path class='bond-8 atom-8 atom-9' d='M 105.3,117.4 L 117.8,110.3' style='fill:none;fill-rule:evenodd;stroke:#000000;stroke-width:2.0px;stroke-linecap:butt;stroke-linejoin:miter;stroke-opacity:1' />\\n<path class='bond-9 atom-9 atom-10' d='M 117.8,110.3 L 130.0,117.6' style='fill:none;fill-rule:evenodd;stroke:#000000;stroke-width:2.0px;stroke-linecap:butt;stroke-linejoin:miter;stroke-opacity:1' />\\n<path class='bond-10 atom-10 atom-11' d='M 130.0,117.6 L 142.5,110.6' style='fill:none;fill-rule:evenodd;stroke:#000000;stroke-width:2.0px;stroke-linecap:butt;stroke-linejoin:miter;stroke-opacity:1' />\\n<path class='bond-11 atom-11 atom-12' d='M 142.5,110.6 L 154.7,117.8' style='fill:none;fill-rule:evenodd;stroke:#000000;stroke-width:2.0px;stroke-linecap:butt;stroke-linejoin:miter;stroke-opacity:1' />\\n<path class='bond-12 atom-12 atom-13' d='M 154.7,117.8 L 167.2,110.8' style='fill:none;fill-rule:evenodd;stroke:#000000;stroke-width:2.0px;stroke-linecap:butt;stroke-linejoin:miter;stroke-opacity:1' />\\n<path class='bond-13 atom-13 atom-14' d='M 167.2,110.8 L 179.5,118.0' style='fill:none;fill-rule:evenodd;stroke:#000000;stroke-width:2.0px;stroke-linecap:butt;stroke-linejoin:miter;stroke-opacity:1' />\\n<path class='bond-14 atom-14 atom-15' d='M 179.5,118.0 L 191.9,111.0' style='fill:none;fill-rule:evenodd;stroke:#000000;stroke-width:2.0px;stroke-linecap:butt;stroke-linejoin:miter;stroke-opacity:1' />\\n<path class='bond-15 atom-15 atom-16' d='M 191.9,111.0 L 204.2,118.3' style='fill:none;fill-rule:evenodd;stroke:#000000;stroke-width:2.0px;stroke-linecap:butt;stroke-linejoin:miter;stroke-opacity:1' />\\n<path class='bond-16 atom-16 atom-17' d='M 204.2,118.3 L 216.6,111.3' style='fill:none;fill-rule:evenodd;stroke:#000000;stroke-width:2.0px;stroke-linecap:butt;stroke-linejoin:miter;stroke-opacity:1' />\\n<path class='bond-17 atom-17 atom-18' d='M 216.6,111.3 L 228.9,118.5' style='fill:none;fill-rule:evenodd;stroke:#000000;stroke-width:2.0px;stroke-linecap:butt;stroke-linejoin:miter;stroke-opacity:1' />\\n<path class='bond-18 atom-4 atom-19' d='M 55.9,116.9 L 42.2,113.1' style='fill:none;fill-rule:evenodd;stroke:#000000;stroke-width:2.0px;stroke-linecap:butt;stroke-linejoin:miter;stroke-opacity:1' />\\n<path class='bond-18 atom-4 atom-19' d='M 53.3,118.4 L 43.7,115.7' style='fill:none;fill-rule:evenodd;stroke:#000000;stroke-width:2.0px;stroke-linecap:butt;stroke-linejoin:miter;stroke-opacity:1' />\\n<path class='bond-19 atom-19 atom-20' d='M 42.2,113.1 L 35.2,100.7' style='fill:none;fill-rule:evenodd;stroke:#000000;stroke-width:2.0px;stroke-linecap:butt;stroke-linejoin:miter;stroke-opacity:1' />\\n<path class='bond-20 atom-20 atom-21' d='M 35.2,100.7 L 28.2,88.2' style='fill:none;fill-rule:evenodd;stroke:#000000;stroke-width:2.0px;stroke-linecap:butt;stroke-linejoin:miter;stroke-opacity:1' />\\n<path class='bond-20 atom-20 atom-21' d='M 33.3,101.7 L 26.3,89.3' style='fill:none;fill-rule:evenodd;stroke:#000000;stroke-width:2.0px;stroke-linecap:butt;stroke-linejoin:miter;stroke-opacity:1' />\\n<path class='bond-20 atom-20 atom-21' d='M 37.0,99.6 L 30.0,87.2' style='fill:none;fill-rule:evenodd;stroke:#000000;stroke-width:2.0px;stroke-linecap:butt;stroke-linejoin:miter;stroke-opacity:1' />\\n<path class='bond-21 atom-21 atom-22' d='M 28.2,88.2 L 21.1,75.8' style='fill:none;fill-rule:evenodd;stroke:#000000;stroke-width:2.0px;stroke-linecap:butt;stroke-linejoin:miter;stroke-opacity:1' />\\n<path class='bond-22 atom-22 atom-23' d='M 21.1,75.8 L 24.0,71.0' style='fill:none;fill-rule:evenodd;stroke:#000000;stroke-width:2.0px;stroke-linecap:butt;stroke-linejoin:miter;stroke-opacity:1' />\\n<path class='bond-22 atom-22 atom-23' d='M 24.0,71.0 L 26.8,66.2' style='fill:none;fill-rule:evenodd;stroke:#FF0000;stroke-width:2.0px;stroke-linecap:butt;stroke-linejoin:miter;stroke-opacity:1' />\\n<path class='bond-23 atom-19 atom-24' d='M 42.2,113.1 L 38.4,126.8' style='fill:none;fill-rule:evenodd;stroke:#000000;stroke-width:2.0px;stroke-linecap:butt;stroke-linejoin:miter;stroke-opacity:1' />\\n<path class='bond-24 atom-24 atom-25' d='M 38.4,126.8 L 30.5,138.7' style='fill:none;fill-rule:evenodd;stroke:#000000;stroke-width:2.0px;stroke-linecap:butt;stroke-linejoin:miter;stroke-opacity:1' />\\n<path class='bond-24 atom-24 atom-25' d='M 39.3,129.3 L 33.1,138.6' style='fill:none;fill-rule:evenodd;stroke:#000000;stroke-width:2.0px;stroke-linecap:butt;stroke-linejoin:miter;stroke-opacity:1' />\\n<path class='bond-25 atom-25 atom-1' d='M 30.5,138.7 L 39.4,149.9' style='fill:none;fill-rule:evenodd;stroke:#000000;stroke-width:2.0px;stroke-linecap:butt;stroke-linejoin:miter;stroke-opacity:1' />\\n<path class='bond-26 atom-24 atom-3' d='M 38.4,126.8 L 44.2,128.4' style='fill:none;fill-rule:evenodd;stroke:#000000;stroke-width:2.0px;stroke-linecap:butt;stroke-linejoin:miter;stroke-opacity:1' />\\n<path class='bond-26 atom-24 atom-3' d='M 44.2,128.4 L 50.0,130.1' style='fill:none;fill-rule:evenodd;stroke:#0000FF;stroke-width:2.0px;stroke-linecap:butt;stroke-linejoin:miter;stroke-opacity:1' />\\n<path d='M 52.1,145.1 L 52.7,144.9 L 52.7,144.6' style='fill:none;stroke:#000000;stroke-width:2.0px;stroke-linecap:butt;stroke-linejoin:miter;stroke-opacity:1;' />\\n<path d='M 67.7,110.2 L 68.4,109.9 L 69.0,110.2' style='fill:none;stroke:#000000;stroke-width:2.0px;stroke-linecap:butt;stroke-linejoin:miter;stroke-opacity:1;' />\\n<path d='M 80.0,116.8 L 80.6,117.1 L 81.3,116.8' style='fill:none;stroke:#000000;stroke-width:2.0px;stroke-linecap:butt;stroke-linejoin:miter;stroke-opacity:1;' />\\n<path d='M 92.4,110.5 L 93.1,110.1 L 93.7,110.5' style='fill:none;stroke:#000000;stroke-width:2.0px;stroke-linecap:butt;stroke-linejoin:miter;stroke-opacity:1;' />\\n<path d='M 104.7,117.0 L 105.3,117.4 L 106.0,117.0' style='fill:none;stroke:#000000;stroke-width:2.0px;stroke-linecap:butt;stroke-linejoin:miter;stroke-opacity:1;' />\\n<path d='M 117.1,110.7 L 117.8,110.3 L 118.4,110.7' style='fill:none;stroke:#000000;stroke-width:2.0px;stroke-linecap:butt;stroke-linejoin:miter;stroke-opacity:1;' />\\n<path d='M 129.4,117.2 L 130.0,117.6 L 130.7,117.2' style='fill:none;stroke:#000000;stroke-width:2.0px;stroke-linecap:butt;stroke-linejoin:miter;stroke-opacity:1;' />\\n<path d='M 141.8,110.9 L 142.5,110.6 L 143.1,110.9' style='fill:none;stroke:#000000;stroke-width:2.0px;stroke-linecap:butt;stroke-linejoin:miter;stroke-opacity:1;' />\\n<path d='M 154.1,117.5 L 154.7,117.8 L 155.4,117.5' style='fill:none;stroke:#000000;stroke-width:2.0px;stroke-linecap:butt;stroke-linejoin:miter;stroke-opacity:1;' />\\n<path d='M 166.5,111.1 L 167.2,110.8 L 167.8,111.2' style='fill:none;stroke:#000000;stroke-width:2.0px;stroke-linecap:butt;stroke-linejoin:miter;stroke-opacity:1;' />\\n<path d='M 178.8,117.7 L 179.5,118.0 L 180.1,117.7' style='fill:none;stroke:#000000;stroke-width:2.0px;stroke-linecap:butt;stroke-linejoin:miter;stroke-opacity:1;' />\\n<path d='M 191.2,111.4 L 191.9,111.0 L 192.5,111.4' style='fill:none;stroke:#000000;stroke-width:2.0px;stroke-linecap:butt;stroke-linejoin:miter;stroke-opacity:1;' />\\n<path d='M 203.5,117.9 L 204.2,118.3 L 204.8,117.9' style='fill:none;stroke:#000000;stroke-width:2.0px;stroke-linecap:butt;stroke-linejoin:miter;stroke-opacity:1;' />\\n<path d='M 216.0,111.6 L 216.6,111.3 L 217.2,111.6' style='fill:none;stroke:#000000;stroke-width:2.0px;stroke-linecap:butt;stroke-linejoin:miter;stroke-opacity:1;' />\\n<path d='M 35.5,101.3 L 35.2,100.7 L 34.8,100.0' style='fill:none;stroke:#000000;stroke-width:2.0px;stroke-linecap:butt;stroke-linejoin:miter;stroke-opacity:1;' />\\n<path d='M 28.5,88.9 L 28.2,88.2 L 27.8,87.6' style='fill:none;stroke:#000000;stroke-width:2.0px;stroke-linecap:butt;stroke-linejoin:miter;stroke-opacity:1;' />\\n<path d='M 21.5,76.4 L 21.1,75.8 L 21.3,75.6' style='fill:none;stroke:#000000;stroke-width:2.0px;stroke-linecap:butt;stroke-linejoin:miter;stroke-opacity:1;' />\\n<path d='M 30.9,138.1 L 30.5,138.7 L 30.9,139.3' style='fill:none;stroke:#000000;stroke-width:2.0px;stroke-linecap:butt;stroke-linejoin:miter;stroke-opacity:1;' />\\n<path class='atom-3' d='M 51.2 128.5\\nL 52.6 130.8\\nQ 52.7 131.0, 52.9 131.4\\nQ 53.1 131.8, 53.2 131.8\\nL 53.2 128.5\\nL 53.7 128.5\\nL 53.7 132.8\\nL 53.1 132.8\\nL 51.6 130.3\\nQ 51.5 130.0, 51.3 129.7\\nQ 51.1 129.4, 51.1 129.2\\nL 51.1 132.8\\nL 50.5 132.8\\nL 50.5 128.5\\nL 51.2 128.5\\n' fill='#0000FF'/>\\n<path class='atom-23' d='M 26.4 63.5\\nQ 26.4 62.5, 26.9 62.0\\nQ 27.4 61.4, 28.4 61.4\\nQ 29.3 61.4, 29.8 62.0\\nQ 30.3 62.5, 30.3 63.5\\nQ 30.3 64.6, 29.8 65.2\\nQ 29.3 65.7, 28.4 65.7\\nQ 27.5 65.7, 26.9 65.2\\nQ 26.4 64.6, 26.4 63.5\\nM 28.4 65.3\\nQ 29.0 65.3, 29.4 64.8\\nQ 29.7 64.4, 29.7 63.5\\nQ 29.7 62.7, 29.4 62.3\\nQ 29.0 61.9, 28.4 61.9\\nQ 27.7 61.9, 27.4 62.3\\nQ 27.0 62.7, 27.0 63.5\\nQ 27.0 64.4, 27.4 64.8\\nQ 27.7 65.3, 28.4 65.3\\n' fill='#FF0000'/>\\n<path class='atom-23' d='M 31.0 61.4\\nL 31.6 61.4\\nL 31.6 63.2\\nL 33.7 63.2\\nL 33.7 61.4\\nL 34.3 61.4\\nL 34.3 65.7\\nL 33.7 65.7\\nL 33.7 63.7\\nL 31.6 63.7\\nL 31.6 65.7\\nL 31.0 65.7\\nL 31.0 61.4\\n' fill='#FF0000'/>\\n<path class='legend' d='M 114.6 243.7\\nQ 112.5 243.7, 111.4 242.2\\nQ 110.4 240.6, 110.4 237.9\\nQ 110.4 235.2, 111.4 233.7\\nQ 112.5 232.1, 114.6 232.1\\nQ 116.6 232.1, 117.7 233.7\\nQ 118.7 235.2, 118.7 237.9\\nQ 118.7 240.6, 117.7 242.2\\nQ 116.6 243.7, 114.6 243.7\\nM 114.6 242.4\\nQ 115.8 242.4, 116.4 241.3\\nQ 117.1 240.2, 117.1 237.9\\nQ 117.1 235.7, 116.4 234.6\\nQ 115.8 233.4, 114.6 233.4\\nQ 113.3 233.4, 112.7 234.6\\nQ 112.0 235.7, 112.0 237.9\\nQ 112.0 240.2, 112.7 241.3\\nQ 113.3 242.4, 114.6 242.4\\n' fill='#000000'/>\\n<path class='legend' d='M 120.3 242.0\\nL 121.9 242.0\\nL 121.9 243.6\\nL 120.3 243.6\\nL 120.3 242.0\\n' fill='#000000'/>\\n<path class='legend' d='M 129.0 237.6\\nQ 130.1 237.9, 130.7 238.7\\nQ 131.2 239.4, 131.2 240.5\\nQ 131.2 241.4, 130.7 242.2\\nQ 130.2 242.9, 129.4 243.4\\nQ 128.5 243.8, 127.3 243.8\\nQ 126.1 243.8, 125.2 243.3\\nQ 124.3 242.9, 123.6 242.0\\nL 124.5 241.1\\nQ 125.2 241.9, 125.8 242.2\\nQ 126.4 242.5, 127.3 242.5\\nQ 128.4 242.5, 129.0 241.9\\nQ 129.6 241.4, 129.6 240.5\\nQ 129.6 239.3, 129.0 238.8\\nQ 128.3 238.3, 126.9 238.3\\nL 126.1 238.3\\nL 126.1 237.1\\nL 126.8 237.1\\nQ 128.1 237.1, 128.7 236.6\\nQ 129.4 236.0, 129.4 235.0\\nQ 129.4 234.3, 128.8 233.9\\nQ 128.3 233.4, 127.4 233.4\\nQ 126.4 233.4, 125.8 233.8\\nQ 125.2 234.1, 124.8 234.9\\nL 123.7 234.3\\nQ 124.1 233.4, 125.0 232.8\\nQ 126.0 232.1, 127.4 232.1\\nQ 129.0 232.1, 130.0 232.9\\nQ 131.0 233.7, 131.0 235.0\\nQ 131.0 235.9, 130.5 236.6\\nQ 130.0 237.3, 129.0 237.6\\n' fill='#000000'/>\\n<path class='legend' d='M 133.4 242.3\\nL 135.9 242.3\\nL 135.9 233.8\\nL 133.1 234.7\\nL 132.8 233.8\\nL 136.2 232.2\\nL 137.4 232.4\\nL 137.4 242.3\\nL 139.6 242.3\\nL 139.6 243.6\\nL 133.4 243.6\\nL 133.4 242.3\\n' fill='#000000'/>\\n<path class='bond-0 atom-0 atom-1' d='M 341.3,129.5 L 327.3,126.6' style='fill:none;fill-rule:evenodd;stroke:#000000;stroke-width:2.0px;stroke-linecap:butt;stroke-linejoin:miter;stroke-opacity:1' />\\n<path class='bond-0 atom-0 atom-1' d='M 340.7,126.9 L 328.9,124.5' style='fill:none;fill-rule:evenodd;stroke:#000000;stroke-width:2.0px;stroke-linecap:butt;stroke-linejoin:miter;stroke-opacity:1' />\\n<path class='bond-1 atom-1 atom-2' d='M 327.3,126.6 L 320.9,113.8' style='fill:none;fill-rule:evenodd;stroke:#000000;stroke-width:2.0px;stroke-linecap:butt;stroke-linejoin:miter;stroke-opacity:1' />\\n<path class='bond-2 atom-2 atom-3' d='M 320.9,113.8 L 326.9,100.9' style='fill:none;fill-rule:evenodd;stroke:#000000;stroke-width:2.0px;stroke-linecap:butt;stroke-linejoin:miter;stroke-opacity:1' />\\n<path class='bond-2 atom-2 atom-3' d='M 323.5,113.8 L 328.5,102.9' style='fill:none;fill-rule:evenodd;stroke:#000000;stroke-width:2.0px;stroke-linecap:butt;stroke-linejoin:miter;stroke-opacity:1' />\\n<path class='bond-3 atom-3 atom-4' d='M 326.9,100.9 L 340.7,97.5' style='fill:none;fill-rule:evenodd;stroke:#000000;stroke-width:2.0px;stroke-linecap:butt;stroke-linejoin:miter;stroke-opacity:1' />\\n<path class='bond-4 atom-4 atom-5' d='M 340.7,97.5 L 345.3,101.0' style='fill:none;fill-rule:evenodd;stroke:#000000;stroke-width:2.0px;stroke-linecap:butt;stroke-linejoin:miter;stroke-opacity:1' />\\n<path class='bond-4 atom-4 atom-5' d='M 345.3,101.0 L 349.9,104.5' style='fill:none;fill-rule:evenodd;stroke:#0000FF;stroke-width:2.0px;stroke-linecap:butt;stroke-linejoin:miter;stroke-opacity:1' />\\n<path class='bond-5 atom-5 atom-6' d='M 353.0,103.5 L 355.0,98.1' style='fill:none;fill-rule:evenodd;stroke:#0000FF;stroke-width:2.0px;stroke-linecap:butt;stroke-linejoin:miter;stroke-opacity:1' />\\n<path class='bond-5 atom-5 atom-6' d='M 355.0,98.1 L 356.9,92.7' style='fill:none;fill-rule:evenodd;stroke:#000000;stroke-width:2.0px;stroke-linecap:butt;stroke-linejoin:miter;stroke-opacity:1' />\\n<path class='bond-6 atom-6 atom-7' d='M 356.9,92.7 L 366.3,82.0' style='fill:none;fill-rule:evenodd;stroke:#000000;stroke-width:2.0px;stroke-linecap:butt;stroke-linejoin:miter;stroke-opacity:1' />\\n<path class='bond-7 atom-7 atom-8' d='M 366.3,82.0 L 379.0,75.4' style='fill:none;fill-rule:evenodd;stroke:#000000;stroke-width:2.0px;stroke-linecap:butt;stroke-linejoin:miter;stroke-opacity:1' />\\n<path class='bond-8 atom-8 atom-9' d='M 379.0,75.4 L 393.2,73.9' style='fill:none;fill-rule:evenodd;stroke:#000000;stroke-width:2.0px;stroke-linecap:butt;stroke-linejoin:miter;stroke-opacity:1' />\\n<path class='bond-9 atom-9 atom-10' d='M 393.2,73.9 L 406.9,77.5' style='fill:none;fill-rule:evenodd;stroke:#000000;stroke-width:2.0px;stroke-linecap:butt;stroke-linejoin:miter;stroke-opacity:1' />\\n<path class='bond-10 atom-10 atom-11' d='M 406.9,77.5 L 418.5,85.9' style='fill:none;fill-rule:evenodd;stroke:#000000;stroke-width:2.0px;stroke-linecap:butt;stroke-linejoin:miter;stroke-opacity:1' />\\n<path class='bond-11 atom-11 atom-12' d='M 418.5,85.9 L 426.2,97.9' style='fill:none;fill-rule:evenodd;stroke:#000000;stroke-width:2.0px;stroke-linecap:butt;stroke-linejoin:miter;stroke-opacity:1' />\\n<path class='bond-12 atom-12 atom-13' d='M 426.2,97.9 L 429.1,111.9' style='fill:none;fill-rule:evenodd;stroke:#000000;stroke-width:2.0px;stroke-linecap:butt;stroke-linejoin:miter;stroke-opacity:1' />\\n<path class='bond-13 atom-13 atom-14' d='M 429.1,111.9 L 426.7,125.9' style='fill:none;fill-rule:evenodd;stroke:#000000;stroke-width:2.0px;stroke-linecap:butt;stroke-linejoin:miter;stroke-opacity:1' />\\n<path class='bond-14 atom-14 atom-15' d='M 426.7,125.9 L 419.4,138.2' style='fill:none;fill-rule:evenodd;stroke:#000000;stroke-width:2.0px;stroke-linecap:butt;stroke-linejoin:miter;stroke-opacity:1' />\\n<path class='bond-15 atom-15 atom-16' d='M 419.4,138.2 L 408.2,147.0' style='fill:none;fill-rule:evenodd;stroke:#000000;stroke-width:2.0px;stroke-linecap:butt;stroke-linejoin:miter;stroke-opacity:1' />\\n<path class='bond-16 atom-3 atom-17' d='M 326.9,100.9 L 375.5,130.6' style='fill:none;fill-rule:evenodd;stroke:#000000;stroke-width:2.0px;stroke-linecap:butt;stroke-linejoin:miter;stroke-opacity:1' />\\n<path class='bond-17 atom-17 atom-18' d='M 376.5,131.3 L 382.8,118.3' style='fill:none;fill-rule:evenodd;stroke:#000000;stroke-width:2.0px;stroke-linecap:butt;stroke-linejoin:miter;stroke-opacity:1' />\\n<path class='bond-17 atom-17 atom-18' d='M 374.5,130.0 L 380.7,117.2' style='fill:none;fill-rule:evenodd;stroke:#000000;stroke-width:2.0px;stroke-linecap:butt;stroke-linejoin:miter;stroke-opacity:1' />\\n<path class='bond-18 atom-17 atom-19' d='M 375.5,130.6 L 387.0,139.1' style='fill:none;fill-rule:evenodd;stroke:#000000;stroke-width:2.0px;stroke-linecap:butt;stroke-linejoin:miter;stroke-opacity:1' />\\n<path class='bond-19 atom-19 atom-20' d='M 387.0,139.1 L 394.6,151.1' style='fill:none;fill-rule:evenodd;stroke:#000000;stroke-width:2.0px;stroke-linecap:butt;stroke-linejoin:miter;stroke-opacity:1' />\\n<path class='bond-19 atom-19 atom-20' d='M 385.2,140.7 L 390.1,148.4' style='fill:none;fill-rule:evenodd;stroke:#000000;stroke-width:2.0px;stroke-linecap:butt;stroke-linejoin:miter;stroke-opacity:1' />\\n<path class='bond-20 atom-20 atom-21' d='M 394.6,151.1 L 380.4,150.1' style='fill:none;fill-rule:evenodd;stroke:#000000;stroke-width:2.0px;stroke-linecap:butt;stroke-linejoin:miter;stroke-opacity:1' />\\n<path class='bond-21 atom-21 atom-22' d='M 380.4,150.1 L 367.5,144.0' style='fill:none;fill-rule:evenodd;stroke:#000000;stroke-width:2.0px;stroke-linecap:butt;stroke-linejoin:miter;stroke-opacity:1' />\\n<path class='bond-21 atom-21 atom-22' d='M 381.0,147.7 L 368.5,141.8' style='fill:none;fill-rule:evenodd;stroke:#000000;stroke-width:2.0px;stroke-linecap:butt;stroke-linejoin:miter;stroke-opacity:1' />\\n<path class='bond-22 atom-22 atom-23' d='M 367.5,144.0 L 357.7,133.6' style='fill:none;fill-rule:evenodd;stroke:#000000;stroke-width:2.0px;stroke-linecap:butt;stroke-linejoin:miter;stroke-opacity:1' />\\n<path class='bond-23 atom-23 atom-24' d='M 357.7,133.6 L 352.3,120.4' style='fill:none;fill-rule:evenodd;stroke:#000000;stroke-width:2.0px;stroke-linecap:butt;stroke-linejoin:miter;stroke-opacity:1' />\\n<path class='bond-23 atom-23 atom-24' d='M 359.7,132.3 L 354.6,119.9' style='fill:none;fill-rule:evenodd;stroke:#000000;stroke-width:2.0px;stroke-linecap:butt;stroke-linejoin:miter;stroke-opacity:1' />\\n<path class='bond-24 atom-24 atom-0' d='M 352.3,120.4 L 341.3,129.5' style='fill:none;fill-rule:evenodd;stroke:#000000;stroke-width:2.0px;stroke-linecap:butt;stroke-linejoin:miter;stroke-opacity:1' />\\n<path class='bond-25 atom-24 atom-5' d='M 352.3,120.4 L 352.2,114.6' style='fill:none;fill-rule:evenodd;stroke:#000000;stroke-width:2.0px;stroke-linecap:butt;stroke-linejoin:miter;stroke-opacity:1' />\\n<path class='bond-25 atom-24 atom-5' d='M 352.2,114.6 L 352.1,108.8' style='fill:none;fill-rule:evenodd;stroke:#0000FF;stroke-width:2.0px;stroke-linecap:butt;stroke-linejoin:miter;stroke-opacity:1' />\\n<path class='bond-26 atom-20 atom-16' d='M 394.6,151.1 L 408.2,147.0' style='fill:none;fill-rule:evenodd;stroke:#000000;stroke-width:2.0px;stroke-linecap:butt;stroke-linejoin:miter;stroke-opacity:1' />\\n<path d='M 340.6,129.3 L 341.3,129.5 L 341.8,129.0' style='fill:none;stroke:#000000;stroke-width:2.0px;stroke-linecap:butt;stroke-linejoin:miter;stroke-opacity:1;' />\\n<path d='M 328.0,126.7 L 327.3,126.6 L 327.0,125.9' style='fill:none;stroke:#000000;stroke-width:2.0px;stroke-linecap:butt;stroke-linejoin:miter;stroke-opacity:1;' />\\n<path d='M 321.2,114.5 L 320.9,113.8 L 321.2,113.2' style='fill:none;stroke:#000000;stroke-width:2.0px;stroke-linecap:butt;stroke-linejoin:miter;stroke-opacity:1;' />\\n<path d='M 340.0,97.6 L 340.7,97.5 L 340.9,97.6' style='fill:none;stroke:#000000;stroke-width:2.0px;stroke-linecap:butt;stroke-linejoin:miter;stroke-opacity:1;' />\\n<path d='M 356.8,93.0 L 356.9,92.7 L 357.4,92.2' style='fill:none;stroke:#000000;stroke-width:2.0px;stroke-linecap:butt;stroke-linejoin:miter;stroke-opacity:1;' />\\n<path d='M 365.9,82.6 L 366.3,82.0 L 367.0,81.7' style='fill:none;stroke:#000000;stroke-width:2.0px;stroke-linecap:butt;stroke-linejoin:miter;stroke-opacity:1;' />\\n<path d='M 378.4,75.8 L 379.0,75.4 L 379.7,75.4' style='fill:none;stroke:#000000;stroke-width:2.0px;stroke-linecap:butt;stroke-linejoin:miter;stroke-opacity:1;' />\\n<path d='M 392.5,73.9 L 393.2,73.9 L 393.8,74.0' style='fill:none;stroke:#000000;stroke-width:2.0px;stroke-linecap:butt;stroke-linejoin:miter;stroke-opacity:1;' />\\n<path d='M 406.3,77.3 L 406.9,77.5 L 407.5,77.9' style='fill:none;stroke:#000000;stroke-width:2.0px;stroke-linecap:butt;stroke-linejoin:miter;stroke-opacity:1;' />\\n<path d='M 417.9,85.5 L 418.5,85.9 L 418.9,86.5' style='fill:none;stroke:#000000;stroke-width:2.0px;stroke-linecap:butt;stroke-linejoin:miter;stroke-opacity:1;' />\\n<path d='M 425.8,97.3 L 426.2,97.9 L 426.4,98.6' style='fill:none;stroke:#000000;stroke-width:2.0px;stroke-linecap:butt;stroke-linejoin:miter;stroke-opacity:1;' />\\n<path d='M 429.0,111.2 L 429.1,111.9 L 429.0,112.6' style='fill:none;stroke:#000000;stroke-width:2.0px;stroke-linecap:butt;stroke-linejoin:miter;stroke-opacity:1;' />\\n<path d='M 426.9,125.2 L 426.7,125.9 L 426.4,126.5' style='fill:none;stroke:#000000;stroke-width:2.0px;stroke-linecap:butt;stroke-linejoin:miter;stroke-opacity:1;' />\\n<path d='M 419.8,137.6 L 419.4,138.2 L 418.9,138.6' style='fill:none;stroke:#000000;stroke-width:2.0px;stroke-linecap:butt;stroke-linejoin:miter;stroke-opacity:1;' />\\n<path d='M 408.8,146.5 L 408.2,147.0 L 407.5,147.2' style='fill:none;stroke:#000000;stroke-width:2.0px;stroke-linecap:butt;stroke-linejoin:miter;stroke-opacity:1;' />\\n<path d='M 373.1,129.1 L 375.5,130.6 L 376.1,131.0' style='fill:none;stroke:#000000;stroke-width:2.0px;stroke-linecap:butt;stroke-linejoin:miter;stroke-opacity:1;' />\\n<path d='M 386.4,138.7 L 387.0,139.1 L 387.4,139.7' style='fill:none;stroke:#000000;stroke-width:2.0px;stroke-linecap:butt;stroke-linejoin:miter;stroke-opacity:1;' />\\n<path d='M 381.1,150.1 L 380.4,150.1 L 379.7,149.8' style='fill:none;stroke:#000000;stroke-width:2.0px;stroke-linecap:butt;stroke-linejoin:miter;stroke-opacity:1;' />\\n<path d='M 368.1,144.3 L 367.5,144.0 L 367.0,143.4' style='fill:none;stroke:#000000;stroke-width:2.0px;stroke-linecap:butt;stroke-linejoin:miter;stroke-opacity:1;' />\\n<path d='M 358.2,134.1 L 357.7,133.6 L 357.4,132.9' style='fill:none;stroke:#000000;stroke-width:2.0px;stroke-linecap:butt;stroke-linejoin:miter;stroke-opacity:1;' />\\n<path class='atom-5' d='M 351.1 104.0\\nL 352.5 106.3\\nQ 352.6 106.5, 352.8 106.9\\nQ 353.0 107.3, 353.1 107.3\\nL 353.1 104.0\\nL 353.6 104.0\\nL 353.6 108.3\\nL 353.0 108.3\\nL 351.5 105.8\\nQ 351.4 105.5, 351.2 105.2\\nQ 351.0 104.9, 351.0 104.8\\nL 351.0 108.3\\nL 350.4 108.3\\nL 350.4 104.0\\nL 351.1 104.0\\n' fill='#0000FF'/>\\n<path class='legend' d='M 363.4 243.7\\nQ 361.3 243.7, 360.3 242.2\\nQ 359.3 240.6, 359.3 237.9\\nQ 359.3 235.2, 360.3 233.7\\nQ 361.3 232.1, 363.4 232.1\\nQ 365.5 232.1, 366.5 233.7\\nQ 367.6 235.2, 367.6 237.9\\nQ 367.6 240.6, 366.5 242.2\\nQ 365.5 243.7, 363.4 243.7\\nM 363.4 242.4\\nQ 364.6 242.4, 365.3 241.3\\nQ 366.0 240.2, 366.0 237.9\\nQ 366.0 235.7, 365.3 234.6\\nQ 364.6 233.4, 363.4 233.4\\nQ 362.2 233.4, 361.5 234.6\\nQ 360.9 235.7, 360.9 237.9\\nQ 360.9 240.2, 361.5 241.3\\nQ 362.2 242.4, 363.4 242.4\\n' fill='#000000'/>\\n<path class='legend' d='M 369.3 242.0\\nL 370.9 242.0\\nL 370.9 243.6\\nL 369.3 243.6\\nL 369.3 242.0\\n' fill='#000000'/>\\n<path class='legend' d='M 379.9 239.7\\nL 381.3 239.7\\nL 381.3 241.0\\nL 379.9 241.0\\nL 379.9 243.6\\nL 378.4 243.6\\nL 378.4 241.0\\nL 372.6 241.0\\nL 372.6 240.0\\nL 377.5 232.3\\nL 379.9 232.3\\nL 379.9 239.7\\nM 374.4 239.7\\nL 378.4 239.7\\nL 378.4 233.3\\nL 374.4 239.7\\n' fill='#000000'/>\\n<path class='legend' d='M 388.5 237.6\\nQ 389.5 238.0, 390.1 238.7\\nQ 390.7 239.4, 390.7 240.5\\nQ 390.7 241.4, 390.2 242.2\\nQ 389.7 242.9, 388.8 243.4\\nQ 388.0 243.8, 386.8 243.8\\nQ 384.9 243.8, 383.8 242.9\\nQ 382.7 242.0, 382.7 240.5\\nQ 382.7 239.6, 383.2 238.9\\nQ 383.7 238.2, 384.7 237.6\\nQ 383.9 237.2, 383.5 236.6\\nQ 383.1 236.0, 383.1 235.0\\nQ 383.1 233.7, 384.1 232.9\\nQ 385.1 232.1, 386.7 232.1\\nQ 388.4 232.1, 389.3 232.9\\nQ 390.3 233.7, 390.3 235.0\\nQ 390.3 235.9, 389.9 236.5\\nQ 389.4 237.1, 388.5 237.6\\nM 386.7 233.3\\nQ 385.8 233.3, 385.3 233.8\\nQ 384.7 234.2, 384.7 235.0\\nQ 384.7 235.6, 385.1 236.0\\nQ 385.5 236.4, 385.9 236.6\\nQ 386.5 236.9, 387.4 237.2\\nQ 388.1 236.7, 388.4 236.2\\nQ 388.7 235.7, 388.7 235.0\\nQ 388.7 234.2, 388.2 233.8\\nQ 387.7 233.3, 386.7 233.3\\nM 386.8 242.6\\nQ 387.9 242.6, 388.5 242.0\\nQ 389.1 241.4, 389.1 240.5\\nQ 389.1 239.9, 388.8 239.5\\nQ 388.5 239.1, 387.9 238.9\\nQ 387.5 238.6, 386.6 238.4\\nL 385.8 238.1\\nQ 385.0 238.6, 384.7 239.2\\nQ 384.3 239.7, 384.3 240.5\\nQ 384.3 241.4, 385.0 242.0\\nQ 385.7 242.6, 386.8 242.6\\n' fill='#000000'/>\\n<path class='bond-0 atom-0 atom-1' d='M 619.2,96.0 L 629.8,105.6' style='fill:none;fill-rule:evenodd;stroke:#000000;stroke-width:2.0px;stroke-linecap:butt;stroke-linejoin:miter;stroke-opacity:1' />\\n<path class='bond-1 atom-1 atom-2' d='M 629.8,105.6 L 622.6,118.0' style='fill:none;fill-rule:evenodd;stroke:#000000;stroke-width:2.0px;stroke-linecap:butt;stroke-linejoin:miter;stroke-opacity:1' />\\n<path class='bond-2 atom-2 atom-3' d='M 622.6,118.0 L 616.9,116.1' style='fill:none;fill-rule:evenodd;stroke:#000000;stroke-width:2.0px;stroke-linecap:butt;stroke-linejoin:miter;stroke-opacity:1' />\\n<path class='bond-2 atom-2 atom-3' d='M 616.9,116.1 L 611.1,114.2' style='fill:none;fill-rule:evenodd;stroke:#0000FF;stroke-width:2.0px;stroke-linecap:butt;stroke-linejoin:miter;stroke-opacity:1' />\\n<path class='bond-3 atom-3 atom-4' d='M 607.0,115.4 L 602.7,119.2' style='fill:none;fill-rule:evenodd;stroke:#0000FF;stroke-width:2.0px;stroke-linecap:butt;stroke-linejoin:miter;stroke-opacity:1' />\\n<path class='bond-3 atom-3 atom-4' d='M 602.7,119.2 L 598.4,123.0' style='fill:none;fill-rule:evenodd;stroke:#000000;stroke-width:2.0px;stroke-linecap:butt;stroke-linejoin:miter;stroke-opacity:1' />\\n<path class='bond-4 atom-4 atom-5' d='M 598.4,123.0 L 584.9,118.6' style='fill:none;fill-rule:evenodd;stroke:#000000;stroke-width:2.0px;stroke-linecap:butt;stroke-linejoin:miter;stroke-opacity:1' />\\n<path class='bond-5 atom-5 atom-6' d='M 586.1,118.9 L 584.8,113.0' style='fill:none;fill-rule:evenodd;stroke:#000000;stroke-width:2.0px;stroke-linecap:butt;stroke-linejoin:miter;stroke-opacity:1' />\\n<path class='bond-5 atom-5 atom-6' d='M 584.8,113.0 L 583.6,107.1' style='fill:none;fill-rule:evenodd;stroke:#FF0000;stroke-width:2.0px;stroke-linecap:butt;stroke-linejoin:miter;stroke-opacity:1' />\\n<path class='bond-5 atom-5 atom-6' d='M 584.0,119.4 L 582.7,113.4' style='fill:none;fill-rule:evenodd;stroke:#000000;stroke-width:2.0px;stroke-linecap:butt;stroke-linejoin:miter;stroke-opacity:1' />\\n<path class='bond-5 atom-5 atom-6' d='M 582.7,113.4 L 581.5,107.5' style='fill:none;fill-rule:evenodd;stroke:#FF0000;stroke-width:2.0px;stroke-linecap:butt;stroke-linejoin:miter;stroke-opacity:1' />\\n<path class='bond-6 atom-5 atom-7' d='M 584.9,118.6 L 574.2,128.1' style='fill:none;fill-rule:evenodd;stroke:#000000;stroke-width:2.0px;stroke-linecap:butt;stroke-linejoin:miter;stroke-opacity:1' />\\n<path class='bond-7 atom-7 atom-8' d='M 574.2,128.1 L 560.7,123.6' style='fill:none;fill-rule:evenodd;stroke:#000000;stroke-width:2.0px;stroke-linecap:butt;stroke-linejoin:miter;stroke-opacity:1' />\\n<path class='bond-8 atom-2 atom-9' d='M 622.6,118.0 L 621.1,132.1' style='fill:none;fill-rule:evenodd;stroke:#000000;stroke-width:2.0px;stroke-linecap:butt;stroke-linejoin:miter;stroke-opacity:1' />\\n<path class='bond-8 atom-2 atom-9' d='M 620.3,119.4 L 623.3,131.9' style='fill:none;fill-rule:evenodd;stroke:#000000;stroke-width:2.0px;stroke-linecap:butt;stroke-linejoin:miter;stroke-opacity:1' />\\n<path class='bond-9 atom-9 atom-10' d='M 621.1,132.1 L 625.4,145.7' style='fill:none;fill-rule:evenodd;stroke:#000000;stroke-width:2.0px;stroke-linecap:butt;stroke-linejoin:miter;stroke-opacity:1' />\\n<path class='bond-10 atom-10 atom-11' d='M 625.4,145.7 L 613.1,152.8' style='fill:none;fill-rule:evenodd;stroke:#000000;stroke-width:2.0px;stroke-linecap:butt;stroke-linejoin:miter;stroke-opacity:1' />\\n<path class='bond-11 atom-10 atom-12' d='M 625.4,145.7 L 635.0,156.3' style='fill:none;fill-rule:evenodd;stroke:#000000;stroke-width:2.0px;stroke-linecap:butt;stroke-linejoin:miter;stroke-opacity:1' />\\n<path class='bond-11 atom-10 atom-12' d='M 625.0,148.4 L 636.2,154.6' style='fill:none;fill-rule:evenodd;stroke:#000000;stroke-width:2.0px;stroke-linecap:butt;stroke-linejoin:miter;stroke-opacity:1' />\\n<path class='bond-12 atom-12 atom-13' d='M 635.0,156.3 L 648.0,162.2' style='fill:none;fill-rule:evenodd;stroke:#000000;stroke-width:2.0px;stroke-linecap:butt;stroke-linejoin:miter;stroke-opacity:1' />\\n<path class='bond-13 atom-13 atom-14' d='M 648.0,162.2 L 654.1,162.2' style='fill:none;fill-rule:evenodd;stroke:#000000;stroke-width:2.0px;stroke-linecap:butt;stroke-linejoin:miter;stroke-opacity:1' />\\n<path class='bond-13 atom-13 atom-14' d='M 654.1,162.2 L 660.1,162.2' style='fill:none;fill-rule:evenodd;stroke:#0000FF;stroke-width:2.0px;stroke-linecap:butt;stroke-linejoin:miter;stroke-opacity:1' />\\n<path class='bond-13 atom-13 atom-14' d='M 648.4,160.0 L 654.3,160.1' style='fill:none;fill-rule:evenodd;stroke:#000000;stroke-width:2.0px;stroke-linecap:butt;stroke-linejoin:miter;stroke-opacity:1' />\\n<path class='bond-13 atom-13 atom-14' d='M 654.3,160.1 L 660.2,160.1' style='fill:none;fill-rule:evenodd;stroke:#0000FF;stroke-width:2.0px;stroke-linecap:butt;stroke-linejoin:miter;stroke-opacity:1' />\\n<path class='bond-14 atom-14 atom-15' d='M 664.3,161.3 L 669.8,158.9' style='fill:none;fill-rule:evenodd;stroke:#0000FF;stroke-width:2.0px;stroke-linecap:butt;stroke-linejoin:miter;stroke-opacity:1' />\\n<path class='bond-14 atom-14 atom-15' d='M 669.8,158.9 L 675.3,156.5' style='fill:none;fill-rule:evenodd;stroke:#000000;stroke-width:2.0px;stroke-linecap:butt;stroke-linejoin:miter;stroke-opacity:1' />\\n<path class='bond-15 atom-15 atom-16' d='M 675.3,156.5 L 684.9,145.9' style='fill:none;fill-rule:evenodd;stroke:#000000;stroke-width:2.0px;stroke-linecap:butt;stroke-linejoin:miter;stroke-opacity:1' />\\n<path class='bond-15 atom-15 atom-16' d='M 674.0,154.7 L 683.3,144.5' style='fill:none;fill-rule:evenodd;stroke:#000000;stroke-width:2.0px;stroke-linecap:butt;stroke-linejoin:miter;stroke-opacity:1' />\\n<path class='bond-16 atom-16 atom-17' d='M 684.9,145.9 L 689.3,132.3' style='fill:none;fill-rule:evenodd;stroke:#000000;stroke-width:2.0px;stroke-linecap:butt;stroke-linejoin:miter;stroke-opacity:1' />\\n<path class='bond-17 atom-17 atom-18' d='M 689.3,132.3 L 687.9,118.2' style='fill:none;fill-rule:evenodd;stroke:#000000;stroke-width:2.0px;stroke-linecap:butt;stroke-linejoin:miter;stroke-opacity:1' />\\n<path class='bond-17 atom-17 atom-18' d='M 687.1,132.1 L 685.7,118.4' style='fill:none;fill-rule:evenodd;stroke:#000000;stroke-width:2.0px;stroke-linecap:butt;stroke-linejoin:miter;stroke-opacity:1' />\\n<path class='bond-18 atom-18 atom-19' d='M 687.9,118.2 L 680.8,105.8' style='fill:none;fill-rule:evenodd;stroke:#000000;stroke-width:2.0px;stroke-linecap:butt;stroke-linejoin:miter;stroke-opacity:1' />\\n<path class='bond-19 atom-19 atom-20' d='M 680.8,105.8 L 669.2,97.4' style='fill:none;fill-rule:evenodd;stroke:#000000;stroke-width:2.0px;stroke-linecap:butt;stroke-linejoin:miter;stroke-opacity:1' />\\n<path class='bond-19 atom-19 atom-20' d='M 679.1,107.2 L 668.0,99.1' style='fill:none;fill-rule:evenodd;stroke:#000000;stroke-width:2.0px;stroke-linecap:butt;stroke-linejoin:miter;stroke-opacity:1' />\\n<path class='bond-20 atom-20 atom-21' d='M 669.2,97.4 L 655.3,94.4' style='fill:none;fill-rule:evenodd;stroke:#000000;stroke-width:2.0px;stroke-linecap:butt;stroke-linejoin:miter;stroke-opacity:1' />\\n<path class='bond-21 atom-21 atom-22' d='M 655.3,94.4 L 663.1,82.4' style='fill:none;fill-rule:evenodd;stroke:#000000;stroke-width:2.0px;stroke-linecap:butt;stroke-linejoin:miter;stroke-opacity:1' />\\n<path class='bond-21 atom-21 atom-22' d='M 654.0,92.4 L 660.8,82.0' style='fill:none;fill-rule:evenodd;stroke:#000000;stroke-width:2.0px;stroke-linecap:butt;stroke-linejoin:miter;stroke-opacity:1' />\\n<path class='bond-22 atom-22 atom-23' d='M 663.1,82.4 L 660.2,68.5' style='fill:none;fill-rule:evenodd;stroke:#000000;stroke-width:2.0px;stroke-linecap:butt;stroke-linejoin:miter;stroke-opacity:1' />\\n<path class='bond-23 atom-23 atom-24' d='M 660.2,68.5 L 648.3,60.6' style='fill:none;fill-rule:evenodd;stroke:#000000;stroke-width:2.0px;stroke-linecap:butt;stroke-linejoin:miter;stroke-opacity:1' />\\n<path class='bond-23 atom-23 atom-24' d='M 658.3,69.8 L 647.8,62.9' style='fill:none;fill-rule:evenodd;stroke:#000000;stroke-width:2.0px;stroke-linecap:butt;stroke-linejoin:miter;stroke-opacity:1' />\\n<path class='bond-24 atom-24 atom-25' d='M 648.3,60.6 L 634.3,63.6' style='fill:none;fill-rule:evenodd;stroke:#000000;stroke-width:2.0px;stroke-linecap:butt;stroke-linejoin:miter;stroke-opacity:1' />\\n<path class='bond-25 atom-25 atom-26' d='M 634.3,63.6 L 626.5,75.5' style='fill:none;fill-rule:evenodd;stroke:#000000;stroke-width:2.0px;stroke-linecap:butt;stroke-linejoin:miter;stroke-opacity:1' />\\n<path class='bond-25 atom-25 atom-26' d='M 635.6,65.5 L 628.3,76.7' style='fill:none;fill-rule:evenodd;stroke:#000000;stroke-width:2.0px;stroke-linecap:butt;stroke-linejoin:miter;stroke-opacity:1' />\\n<path class='bond-26 atom-26 atom-27' d='M 626.5,75.5 L 629.4,89.5' style='fill:none;fill-rule:evenodd;stroke:#000000;stroke-width:2.0px;stroke-linecap:butt;stroke-linejoin:miter;stroke-opacity:1' />\\n<path class='bond-27 atom-27 atom-28' d='M 629.4,89.5 L 641.3,97.3' style='fill:none;fill-rule:evenodd;stroke:#000000;stroke-width:2.0px;stroke-linecap:butt;stroke-linejoin:miter;stroke-opacity:1' />\\n<path class='bond-27 atom-27 atom-28' d='M 631.3,88.2 L 641.8,95.0' style='fill:none;fill-rule:evenodd;stroke:#000000;stroke-width:2.0px;stroke-linecap:butt;stroke-linejoin:miter;stroke-opacity:1' />\\n<path class='bond-28 atom-28 atom-1' d='M 641.3,97.3 L 629.8,105.6' style='fill:none;fill-rule:evenodd;stroke:#000000;stroke-width:2.0px;stroke-linecap:butt;stroke-linejoin:miter;stroke-opacity:1' />\\n<path class='bond-29 atom-28 atom-21' d='M 641.3,97.3 L 655.3,94.4' style='fill:none;fill-rule:evenodd;stroke:#000000;stroke-width:2.0px;stroke-linecap:butt;stroke-linejoin:miter;stroke-opacity:1' />\\n<path d='M 598.6,122.8 L 598.4,123.0 L 597.8,122.8' style='fill:none;stroke:#000000;stroke-width:2.0px;stroke-linecap:butt;stroke-linejoin:miter;stroke-opacity:1;' />\\n<path d='M 585.6,118.8 L 584.9,118.6 L 584.3,119.0' style='fill:none;stroke:#000000;stroke-width:2.0px;stroke-linecap:butt;stroke-linejoin:miter;stroke-opacity:1;' />\\n<path d='M 574.8,127.6 L 574.2,128.1 L 573.6,127.9' style='fill:none;stroke:#000000;stroke-width:2.0px;stroke-linecap:butt;stroke-linejoin:miter;stroke-opacity:1;' />\\n<path d='M 621.2,131.4 L 621.1,132.1 L 621.3,132.8' style='fill:none;stroke:#000000;stroke-width:2.0px;stroke-linecap:butt;stroke-linejoin:miter;stroke-opacity:1;' />\\n<path d='M 634.5,155.8 L 635.0,156.3 L 635.6,156.6' style='fill:none;stroke:#000000;stroke-width:2.0px;stroke-linecap:butt;stroke-linejoin:miter;stroke-opacity:1;' />\\n<path d='M 647.3,161.9 L 648.0,162.2 L 648.3,162.2' style='fill:none;stroke:#000000;stroke-width:2.0px;stroke-linecap:butt;stroke-linejoin:miter;stroke-opacity:1;' />\\n<path d='M 675.0,156.6 L 675.3,156.5 L 675.8,155.9' style='fill:none;stroke:#000000;stroke-width:2.0px;stroke-linecap:butt;stroke-linejoin:miter;stroke-opacity:1;' />\\n<path d='M 684.4,146.4 L 684.9,145.9 L 685.1,145.2' style='fill:none;stroke:#000000;stroke-width:2.0px;stroke-linecap:butt;stroke-linejoin:miter;stroke-opacity:1;' />\\n<path d='M 689.1,133.0 L 689.3,132.3 L 689.2,131.6' style='fill:none;stroke:#000000;stroke-width:2.0px;stroke-linecap:butt;stroke-linejoin:miter;stroke-opacity:1;' />\\n<path d='M 687.9,118.9 L 687.9,118.2 L 687.5,117.5' style='fill:none;stroke:#000000;stroke-width:2.0px;stroke-linecap:butt;stroke-linejoin:miter;stroke-opacity:1;' />\\n<path d='M 681.1,106.4 L 680.8,105.8 L 680.2,105.4' style='fill:none;stroke:#000000;stroke-width:2.0px;stroke-linecap:butt;stroke-linejoin:miter;stroke-opacity:1;' />\\n<path d='M 669.8,97.8 L 669.2,97.4 L 668.6,97.2' style='fill:none;stroke:#000000;stroke-width:2.0px;stroke-linecap:butt;stroke-linejoin:miter;stroke-opacity:1;' />\\n<path d='M 662.7,83.0 L 663.1,82.4 L 663.0,81.7' style='fill:none;stroke:#000000;stroke-width:2.0px;stroke-linecap:butt;stroke-linejoin:miter;stroke-opacity:1;' />\\n<path d='M 660.3,69.2 L 660.2,68.5 L 659.6,68.1' style='fill:none;stroke:#000000;stroke-width:2.0px;stroke-linecap:butt;stroke-linejoin:miter;stroke-opacity:1;' />\\n<path d='M 648.8,61.0 L 648.3,60.6 L 647.6,60.8' style='fill:none;stroke:#000000;stroke-width:2.0px;stroke-linecap:butt;stroke-linejoin:miter;stroke-opacity:1;' />\\n<path d='M 635.0,63.4 L 634.3,63.6 L 633.9,64.2' style='fill:none;stroke:#000000;stroke-width:2.0px;stroke-linecap:butt;stroke-linejoin:miter;stroke-opacity:1;' />\\n<path d='M 626.9,74.9 L 626.5,75.5 L 626.6,76.2' style='fill:none;stroke:#000000;stroke-width:2.0px;stroke-linecap:butt;stroke-linejoin:miter;stroke-opacity:1;' />\\n<path d='M 629.3,88.8 L 629.4,89.5 L 630.0,89.9' style='fill:none;stroke:#000000;stroke-width:2.0px;stroke-linecap:butt;stroke-linejoin:miter;stroke-opacity:1;' />\\n<path class='atom-3' d='M 608.1 111.4\\nL 609.5 113.6\\nQ 609.7 113.9, 609.9 114.3\\nQ 610.1 114.7, 610.1 114.7\\nL 610.1 111.4\\nL 610.7 111.4\\nL 610.7 115.6\\nL 610.1 115.6\\nL 608.6 113.2\\nQ 608.4 112.9, 608.2 112.5\\nQ 608.1 112.2, 608.0 112.1\\nL 608.0 115.6\\nL 607.4 115.6\\nL 607.4 111.4\\nL 608.1 111.4\\n' fill='#0000FF'/>\\n<path class='atom-3' d='M 607.4 106.7\\nL 608.0 106.7\\nL 608.0 108.5\\nL 610.1 108.5\\nL 610.1 106.7\\nL 610.7 106.7\\nL 610.7 111.0\\nL 610.1 111.0\\nL 610.1 109.0\\nL 608.0 109.0\\nL 608.0 111.0\\nL 607.4 111.0\\nL 607.4 106.7\\n' fill='#0000FF'/>\\n<path class='atom-6' d='M 580.0 104.6\\nQ 580.0 103.6, 580.5 103.0\\nQ 581.0 102.5, 582.0 102.5\\nQ 582.9 102.5, 583.4 103.0\\nQ 583.9 103.6, 583.9 104.6\\nQ 583.9 105.6, 583.4 106.2\\nQ 582.9 106.8, 582.0 106.8\\nQ 581.0 106.8, 580.5 106.2\\nQ 580.0 105.7, 580.0 104.6\\nM 582.0 106.3\\nQ 582.6 106.3, 583.0 105.9\\nQ 583.3 105.5, 583.3 104.6\\nQ 583.3 103.8, 583.0 103.4\\nQ 582.6 102.9, 582.0 102.9\\nQ 581.3 102.9, 581.0 103.4\\nQ 580.6 103.8, 580.6 104.6\\nQ 580.6 105.5, 581.0 105.9\\nQ 581.3 106.3, 582.0 106.3\\n' fill='#FF0000'/>\\n<path class='atom-14' d='M 661.3 160.1\\nL 662.7 162.4\\nQ 662.8 162.6, 663.0 163.0\\nQ 663.3 163.4, 663.3 163.4\\nL 663.3 160.1\\nL 663.8 160.1\\nL 663.8 164.4\\nL 663.3 164.4\\nL 661.8 161.9\\nQ 661.6 161.6, 661.4 161.3\\nQ 661.2 160.9, 661.2 160.8\\nL 661.2 164.4\\nL 660.6 164.4\\nL 660.6 160.1\\nL 661.3 160.1\\n' fill='#0000FF'/>\\n<path class='legend' d='M 614.1 243.8\\nQ 612.0 243.8, 611.0 242.2\\nQ 609.9 240.7, 609.9 237.9\\nQ 609.9 235.2, 611.0 233.7\\nQ 612.0 232.2, 614.1 232.2\\nQ 616.2 232.2, 617.2 233.7\\nQ 618.2 235.2, 618.2 237.9\\nQ 618.2 240.7, 617.2 242.2\\nQ 616.2 243.8, 614.1 243.8\\nM 614.1 242.5\\nQ 615.3 242.5, 616.0 241.3\\nQ 616.6 240.2, 616.6 237.9\\nQ 616.6 235.7, 616.0 234.6\\nQ 615.3 233.4, 614.1 233.4\\nQ 612.9 233.4, 612.2 234.6\\nQ 611.5 235.7, 611.5 237.9\\nQ 611.5 240.2, 612.2 241.3\\nQ 612.9 242.5, 614.1 242.5\\n' fill='#000000'/>\\n<path class='legend' d='M 619.9 242.0\\nL 621.5 242.0\\nL 621.5 243.6\\nL 619.9 243.6\\nL 619.9 242.0\\n' fill='#000000'/>\\n<path class='legend' d='M 627.6 236.6\\nQ 628.6 236.6, 629.4 237.0\\nQ 630.2 237.4, 630.6 238.2\\nQ 631.0 239.0, 631.0 240.0\\nQ 631.0 241.1, 630.5 241.9\\nQ 630.1 242.8, 629.2 243.3\\nQ 628.3 243.8, 627.2 243.8\\nQ 625.2 243.8, 624.2 242.4\\nQ 623.2 241.0, 623.2 238.3\\nQ 623.2 235.3, 624.4 233.7\\nQ 625.7 232.2, 628.1 232.2\\nQ 628.8 232.2, 629.4 232.3\\nQ 630.0 232.5, 630.6 232.8\\nL 630.0 233.9\\nQ 629.1 233.4, 628.1 233.4\\nQ 626.5 233.4, 625.7 234.5\\nQ 624.9 235.5, 624.8 237.6\\nQ 625.4 237.1, 626.1 236.8\\nQ 626.8 236.6, 627.6 236.6\\nM 627.2 242.4\\nQ 627.8 242.4, 628.3 242.1\\nQ 628.9 241.8, 629.1 241.2\\nQ 629.4 240.7, 629.4 240.0\\nQ 629.4 239.0, 628.9 238.4\\nQ 628.3 237.8, 627.3 237.8\\nQ 626.6 237.8, 625.9 238.1\\nQ 625.3 238.4, 624.8 238.9\\nQ 624.9 240.7, 625.4 241.6\\nQ 626.0 242.4, 627.2 242.4\\n' fill='#000000'/>\\n<path class='legend' d='M 638.5 233.6\\nL 632.5 233.6\\nL 632.5 232.3\\nL 640.1 232.3\\nL 640.1 233.4\\nL 635.5 243.6\\nL 633.9 243.6\\nL 638.5 233.6\\n' fill='#000000'/>\\n<path class='bond-0 atom-0 atom-1' d='M 11.4,366.5 L 24.5,361.0' style='fill:none;fill-rule:evenodd;stroke:#000000;stroke-width:2.0px;stroke-linecap:butt;stroke-linejoin:miter;stroke-opacity:1' />\\n<path class='bond-1 atom-1 atom-2' d='M 24.5,361.0 L 24.0,355.1' style='fill:none;fill-rule:evenodd;stroke:#000000;stroke-width:2.0px;stroke-linecap:butt;stroke-linejoin:miter;stroke-opacity:1' />\\n<path class='bond-1 atom-1 atom-2' d='M 24.0,355.1 L 23.5,349.3' style='fill:none;fill-rule:evenodd;stroke:#0000FF;stroke-width:2.0px;stroke-linecap:butt;stroke-linejoin:miter;stroke-opacity:1' />\\n<path class='bond-1 atom-1 atom-2' d='M 26.6,360.1 L 26.2,354.9' style='fill:none;fill-rule:evenodd;stroke:#000000;stroke-width:2.0px;stroke-linecap:butt;stroke-linejoin:miter;stroke-opacity:1' />\\n<path class='bond-1 atom-1 atom-2' d='M 26.2,354.9 L 25.7,349.7' style='fill:none;fill-rule:evenodd;stroke:#0000FF;stroke-width:2.0px;stroke-linecap:butt;stroke-linejoin:miter;stroke-opacity:1' />\\n<path class='bond-2 atom-2 atom-3' d='M 24.9,344.1 L 27.8,339.3' style='fill:none;fill-rule:evenodd;stroke:#0000FF;stroke-width:2.0px;stroke-linecap:butt;stroke-linejoin:miter;stroke-opacity:1' />\\n<path class='bond-2 atom-2 atom-3' d='M 27.8,339.3 L 30.7,334.5' style='fill:none;fill-rule:evenodd;stroke:#000000;stroke-width:2.0px;stroke-linecap:butt;stroke-linejoin:miter;stroke-opacity:1' />\\n<path class='bond-3 atom-3 atom-4' d='M 30.7,334.5 L 43.9,329.0' style='fill:none;fill-rule:evenodd;stroke:#000000;stroke-width:2.0px;stroke-linecap:butt;stroke-linejoin:miter;stroke-opacity:1' />\\n<path class='bond-3 atom-3 atom-4' d='M 32.2,336.2 L 44.7,331.0' style='fill:none;fill-rule:evenodd;stroke:#000000;stroke-width:2.0px;stroke-linecap:butt;stroke-linejoin:miter;stroke-opacity:1' />\\n<path class='bond-4 atom-4 atom-5' d='M 43.9,329.0 L 57.8,332.3' style='fill:none;fill-rule:evenodd;stroke:#000000;stroke-width:2.0px;stroke-linecap:butt;stroke-linejoin:miter;stroke-opacity:1' />\\n<path class='bond-5 atom-5 atom-6' d='M 57.8,332.3 L 67.1,343.1' style='fill:none;fill-rule:evenodd;stroke:#000000;stroke-width:2.0px;stroke-linecap:butt;stroke-linejoin:miter;stroke-opacity:1' />\\n<path class='bond-5 atom-5 atom-6' d='M 56.6,334.2 L 65.0,344.0' style='fill:none;fill-rule:evenodd;stroke:#000000;stroke-width:2.0px;stroke-linecap:butt;stroke-linejoin:miter;stroke-opacity:1' />\\n<path class='bond-6 atom-6 atom-7' d='M 67.1,343.1 L 80.2,337.6' style='fill:none;fill-rule:evenodd;stroke:#000000;stroke-width:2.0px;stroke-linecap:butt;stroke-linejoin:miter;stroke-opacity:1' />\\n<path class='bond-7 atom-7 atom-8' d='M 80.2,337.6 L 91.6,346.2' style='fill:none;fill-rule:evenodd;stroke:#000000;stroke-width:2.0px;stroke-linecap:butt;stroke-linejoin:miter;stroke-opacity:1' />\\n<path class='bond-8 atom-8 atom-9' d='M 91.6,346.2 L 104.7,340.7' style='fill:none;fill-rule:evenodd;stroke:#000000;stroke-width:2.0px;stroke-linecap:butt;stroke-linejoin:miter;stroke-opacity:1' />\\n<path class='bond-9 atom-9 atom-10' d='M 104.7,340.7 L 116.1,349.3' style='fill:none;fill-rule:evenodd;stroke:#000000;stroke-width:2.0px;stroke-linecap:butt;stroke-linejoin:miter;stroke-opacity:1' />\\n<path class='bond-10 atom-10 atom-11' d='M 116.1,349.3 L 129.2,343.8' style='fill:none;fill-rule:evenodd;stroke:#000000;stroke-width:2.0px;stroke-linecap:butt;stroke-linejoin:miter;stroke-opacity:1' />\\n<path class='bond-11 atom-11 atom-12' d='M 129.2,343.8 L 140.6,352.4' style='fill:none;fill-rule:evenodd;stroke:#000000;stroke-width:2.0px;stroke-linecap:butt;stroke-linejoin:miter;stroke-opacity:1' />\\n<path class='bond-12 atom-12 atom-13' d='M 140.6,352.4 L 153.8,346.9' style='fill:none;fill-rule:evenodd;stroke:#000000;stroke-width:2.0px;stroke-linecap:butt;stroke-linejoin:miter;stroke-opacity:1' />\\n<path class='bond-13 atom-13 atom-14' d='M 153.8,346.9 L 165.1,355.5' style='fill:none;fill-rule:evenodd;stroke:#000000;stroke-width:2.0px;stroke-linecap:butt;stroke-linejoin:miter;stroke-opacity:1' />\\n<path class='bond-14 atom-14 atom-15' d='M 165.1,355.5 L 178.3,350.0' style='fill:none;fill-rule:evenodd;stroke:#000000;stroke-width:2.0px;stroke-linecap:butt;stroke-linejoin:miter;stroke-opacity:1' />\\n<path class='bond-15 atom-15 atom-16' d='M 178.3,350.0 L 189.6,358.6' style='fill:none;fill-rule:evenodd;stroke:#000000;stroke-width:2.0px;stroke-linecap:butt;stroke-linejoin:miter;stroke-opacity:1' />\\n<path class='bond-16 atom-16 atom-17' d='M 189.6,358.6 L 202.8,353.1' style='fill:none;fill-rule:evenodd;stroke:#000000;stroke-width:2.0px;stroke-linecap:butt;stroke-linejoin:miter;stroke-opacity:1' />\\n<path class='bond-17 atom-17 atom-18' d='M 202.8,353.1 L 214.1,361.7' style='fill:none;fill-rule:evenodd;stroke:#000000;stroke-width:2.0px;stroke-linecap:butt;stroke-linejoin:miter;stroke-opacity:1' />\\n<path class='bond-18 atom-18 atom-19' d='M 214.1,361.7 L 227.3,356.2' style='fill:none;fill-rule:evenodd;stroke:#000000;stroke-width:2.0px;stroke-linecap:butt;stroke-linejoin:miter;stroke-opacity:1' />\\n<path class='bond-19 atom-19 atom-20' d='M 227.3,356.2 L 238.6,364.9' style='fill:none;fill-rule:evenodd;stroke:#000000;stroke-width:2.0px;stroke-linecap:butt;stroke-linejoin:miter;stroke-opacity:1' />\\n<path class='bond-20 atom-6 atom-21' d='M 67.1,343.1 L 68.3,357.3' style='fill:none;fill-rule:evenodd;stroke:#000000;stroke-width:2.0px;stroke-linecap:butt;stroke-linejoin:miter;stroke-opacity:1' />\\n<path class='bond-21 atom-21 atom-22' d='M 68.3,357.3 L 60.9,369.5' style='fill:none;fill-rule:evenodd;stroke:#000000;stroke-width:2.0px;stroke-linecap:butt;stroke-linejoin:miter;stroke-opacity:1' />\\n<path class='bond-21 atom-21 atom-22' d='M 66.1,356.8 L 59.4,367.8' style='fill:none;fill-rule:evenodd;stroke:#000000;stroke-width:2.0px;stroke-linecap:butt;stroke-linejoin:miter;stroke-opacity:1' />\\n<path class='bond-22 atom-22 atom-23' d='M 60.9,369.5 L 70.2,380.3' style='fill:none;fill-rule:evenodd;stroke:#000000;stroke-width:2.0px;stroke-linecap:butt;stroke-linejoin:miter;stroke-opacity:1' />\\n<path class='bond-23 atom-23 atom-24' d='M 70.2,380.3 L 68.3,385.7' style='fill:none;fill-rule:evenodd;stroke:#000000;stroke-width:2.0px;stroke-linecap:butt;stroke-linejoin:miter;stroke-opacity:1' />\\n<path class='bond-23 atom-23 atom-24' d='M 68.3,385.7 L 66.4,391.1' style='fill:none;fill-rule:evenodd;stroke:#FF0000;stroke-width:2.0px;stroke-linecap:butt;stroke-linejoin:miter;stroke-opacity:1' />\\n<path class='bond-24 atom-22 atom-25' d='M 60.9,369.5 L 47.7,375.0' style='fill:none;fill-rule:evenodd;stroke:#000000;stroke-width:2.0px;stroke-linecap:butt;stroke-linejoin:miter;stroke-opacity:1' />\\n<path class='bond-25 atom-25 atom-26' d='M 47.7,375.0 L 33.8,371.8' style='fill:none;fill-rule:evenodd;stroke:#000000;stroke-width:2.0px;stroke-linecap:butt;stroke-linejoin:miter;stroke-opacity:1' />\\n<path class='bond-25 atom-25 atom-26' d='M 47.5,372.8 L 34.3,369.7' style='fill:none;fill-rule:evenodd;stroke:#000000;stroke-width:2.0px;stroke-linecap:butt;stroke-linejoin:miter;stroke-opacity:1' />\\n<path class='bond-26 atom-26 atom-1' d='M 33.8,371.8 L 24.5,361.0' style='fill:none;fill-rule:evenodd;stroke:#000000;stroke-width:2.0px;stroke-linecap:butt;stroke-linejoin:miter;stroke-opacity:1' />\\n<path d='M 30.6,334.8 L 30.7,334.5 L 31.4,334.3' style='fill:none;stroke:#000000;stroke-width:2.0px;stroke-linecap:butt;stroke-linejoin:miter;stroke-opacity:1;' />\\n<path d='M 43.2,329.3 L 43.9,329.0 L 44.6,329.2' style='fill:none;stroke:#000000;stroke-width:2.0px;stroke-linecap:butt;stroke-linejoin:miter;stroke-opacity:1;' />\\n<path d='M 57.1,332.1 L 57.8,332.3 L 58.2,332.8' style='fill:none;stroke:#000000;stroke-width:2.0px;stroke-linecap:butt;stroke-linejoin:miter;stroke-opacity:1;' />\\n<path d='M 79.6,337.8 L 80.2,337.6 L 80.8,338.0' style='fill:none;stroke:#000000;stroke-width:2.0px;stroke-linecap:butt;stroke-linejoin:miter;stroke-opacity:1;' />\\n<path d='M 91.0,345.8 L 91.6,346.2 L 92.2,345.9' style='fill:none;stroke:#000000;stroke-width:2.0px;stroke-linecap:butt;stroke-linejoin:miter;stroke-opacity:1;' />\\n<path d='M 104.1,341.0 L 104.7,340.7 L 105.3,341.1' style='fill:none;stroke:#000000;stroke-width:2.0px;stroke-linecap:butt;stroke-linejoin:miter;stroke-opacity:1;' />\\n<path d='M 115.5,348.9 L 116.1,349.3 L 116.8,349.0' style='fill:none;stroke:#000000;stroke-width:2.0px;stroke-linecap:butt;stroke-linejoin:miter;stroke-opacity:1;' />\\n<path d='M 128.6,344.1 L 129.2,343.8 L 129.8,344.2' style='fill:none;stroke:#000000;stroke-width:2.0px;stroke-linecap:butt;stroke-linejoin:miter;stroke-opacity:1;' />\\n<path d='M 140.0,352.0 L 140.6,352.4 L 141.3,352.1' style='fill:none;stroke:#000000;stroke-width:2.0px;stroke-linecap:butt;stroke-linejoin:miter;stroke-opacity:1;' />\\n<path d='M 153.1,347.2 L 153.8,346.9 L 154.3,347.3' style='fill:none;stroke:#000000;stroke-width:2.0px;stroke-linecap:butt;stroke-linejoin:miter;stroke-opacity:1;' />\\n<path d='M 164.5,355.1 L 165.1,355.5 L 165.8,355.2' style='fill:none;stroke:#000000;stroke-width:2.0px;stroke-linecap:butt;stroke-linejoin:miter;stroke-opacity:1;' />\\n<path d='M 177.6,350.3 L 178.3,350.0 L 178.8,350.4' style='fill:none;stroke:#000000;stroke-width:2.0px;stroke-linecap:butt;stroke-linejoin:miter;stroke-opacity:1;' />\\n<path d='M 189.1,358.2 L 189.6,358.6 L 190.3,358.4' style='fill:none;stroke:#000000;stroke-width:2.0px;stroke-linecap:butt;stroke-linejoin:miter;stroke-opacity:1;' />\\n<path d='M 202.1,353.4 L 202.8,353.1 L 203.3,353.5' style='fill:none;stroke:#000000;stroke-width:2.0px;stroke-linecap:butt;stroke-linejoin:miter;stroke-opacity:1;' />\\n<path d='M 213.6,361.3 L 214.1,361.7 L 214.8,361.5' style='fill:none;stroke:#000000;stroke-width:2.0px;stroke-linecap:butt;stroke-linejoin:miter;stroke-opacity:1;' />\\n<path d='M 226.6,356.5 L 227.3,356.2 L 227.8,356.7' style='fill:none;stroke:#000000;stroke-width:2.0px;stroke-linecap:butt;stroke-linejoin:miter;stroke-opacity:1;' />\\n<path d='M 68.2,356.6 L 68.3,357.3 L 67.9,357.9' style='fill:none;stroke:#000000;stroke-width:2.0px;stroke-linecap:butt;stroke-linejoin:miter;stroke-opacity:1;' />\\n<path d='M 69.7,379.8 L 70.2,380.3 L 70.1,380.6' style='fill:none;stroke:#000000;stroke-width:2.0px;stroke-linecap:butt;stroke-linejoin:miter;stroke-opacity:1;' />\\n<path d='M 48.4,374.7 L 47.7,375.0 L 47.0,374.9' style='fill:none;stroke:#000000;stroke-width:2.0px;stroke-linecap:butt;stroke-linejoin:miter;stroke-opacity:1;' />\\n<path d='M 34.5,371.9 L 33.8,371.8 L 33.4,371.2' style='fill:none;stroke:#000000;stroke-width:2.0px;stroke-linecap:butt;stroke-linejoin:miter;stroke-opacity:1;' />\\n<path class='atom-2' d='M 22.4 344.6\\nL 23.8 346.9\\nQ 23.9 347.1, 24.1 347.5\\nQ 24.4 347.9, 24.4 347.9\\nL 24.4 344.6\\nL 24.9 344.6\\nL 24.9 348.9\\nL 24.4 348.9\\nL 22.9 346.4\\nQ 22.7 346.1, 22.5 345.8\\nQ 22.3 345.5, 22.3 345.4\\nL 22.3 348.9\\nL 21.7 348.9\\nL 21.7 344.6\\nL 22.4 344.6\\n' fill='#0000FF'/>\\n<path class='atom-24' d='M 63.5 393.8\\nQ 63.5 392.8, 64.0 392.2\\nQ 64.5 391.6, 65.5 391.6\\nQ 66.4 391.6, 66.9 392.2\\nQ 67.4 392.8, 67.4 393.8\\nQ 67.4 394.8, 66.9 395.4\\nQ 66.4 396.0, 65.5 396.0\\nQ 64.5 396.0, 64.0 395.4\\nQ 63.5 394.8, 63.5 393.8\\nM 65.5 395.5\\nQ 66.1 395.5, 66.5 395.1\\nQ 66.8 394.6, 66.8 393.8\\nQ 66.8 392.9, 66.5 392.5\\nQ 66.1 392.1, 65.5 392.1\\nQ 64.8 392.1, 64.5 392.5\\nQ 64.1 392.9, 64.1 393.8\\nQ 64.1 394.6, 64.5 395.1\\nQ 64.8 395.5, 65.5 395.5\\n' fill='#FF0000'/>\\n<path class='atom-24' d='M 68.1 391.7\\nL 68.7 391.7\\nL 68.7 393.5\\nL 70.8 393.5\\nL 70.8 391.7\\nL 71.4 391.7\\nL 71.4 395.9\\nL 70.8 395.9\\nL 70.8 394.0\\nL 68.7 394.0\\nL 68.7 395.9\\nL 68.1 395.9\\nL 68.1 391.7\\n' fill='#FF0000'/>\\n<path class='legend' d='M 114.1 493.7\\nQ 112.0 493.7, 111.0 492.2\\nQ 110.0 490.6, 110.0 487.9\\nQ 110.0 485.2, 111.0 483.7\\nQ 112.0 482.1, 114.1 482.1\\nQ 116.2 482.1, 117.2 483.7\\nQ 118.2 485.2, 118.2 487.9\\nQ 118.2 490.6, 117.2 492.2\\nQ 116.2 493.7, 114.1 493.7\\nM 114.1 492.4\\nQ 115.3 492.4, 116.0 491.3\\nQ 116.6 490.2, 116.6 487.9\\nQ 116.6 485.7, 116.0 484.6\\nQ 115.3 483.4, 114.1 483.4\\nQ 112.9 483.4, 112.2 484.6\\nQ 111.6 485.7, 111.6 487.9\\nQ 111.6 490.2, 112.2 491.3\\nQ 112.9 492.4, 114.1 492.4\\n' fill='#000000'/>\\n<path class='legend' d='M 119.9 492.0\\nL 121.5 492.0\\nL 121.5 493.6\\nL 119.9 493.6\\nL 119.9 492.0\\n' fill='#000000'/>\\n<path class='legend' d='M 128.6 487.6\\nQ 129.7 487.9, 130.3 488.7\\nQ 130.8 489.4, 130.8 490.5\\nQ 130.8 491.4, 130.3 492.2\\nQ 129.8 492.9, 129.0 493.4\\nQ 128.1 493.8, 126.9 493.8\\nQ 125.7 493.8, 124.8 493.3\\nQ 123.9 492.9, 123.2 492.0\\nL 124.1 491.1\\nQ 124.8 491.9, 125.4 492.2\\nQ 126.0 492.5, 126.9 492.5\\nQ 128.0 492.5, 128.6 491.9\\nQ 129.2 491.4, 129.2 490.5\\nQ 129.2 489.3, 128.5 488.8\\nQ 127.9 488.3, 126.5 488.3\\nL 125.7 488.3\\nL 125.7 487.1\\nL 126.4 487.1\\nQ 127.7 487.1, 128.3 486.6\\nQ 129.0 486.0, 129.0 485.0\\nQ 129.0 484.3, 128.4 483.9\\nQ 127.9 483.4, 126.9 483.4\\nQ 126.0 483.4, 125.4 483.8\\nQ 124.8 484.1, 124.4 484.9\\nL 123.3 484.3\\nQ 123.7 483.4, 124.6 482.8\\nQ 125.6 482.1, 126.9 482.1\\nQ 128.6 482.1, 129.6 482.9\\nQ 130.6 483.7, 130.6 485.0\\nQ 130.6 485.9, 130.1 486.6\\nQ 129.6 487.3, 128.6 487.6\\n' fill='#000000'/>\\n<path class='legend' d='M 136.5 486.5\\nQ 137.5 486.5, 138.3 486.9\\nQ 139.1 487.4, 139.6 488.2\\nQ 140.0 488.9, 140.0 490.0\\nQ 140.0 491.2, 139.5 492.0\\nQ 138.9 492.9, 138.0 493.3\\nQ 137.0 493.7, 136.0 493.7\\nQ 135.0 493.7, 134.0 493.3\\nQ 133.0 493.0, 132.4 492.2\\nL 133.3 491.2\\nQ 133.9 491.8, 134.6 492.1\\nQ 135.3 492.4, 136.0 492.4\\nQ 137.0 492.4, 137.7 491.8\\nQ 138.4 491.2, 138.4 490.0\\nQ 138.4 488.8, 137.7 488.3\\nQ 137.0 487.7, 135.9 487.7\\nQ 135.0 487.7, 133.8 488.1\\nL 133.0 487.7\\nL 133.5 482.3\\nL 139.3 482.3\\nL 139.2 483.5\\nL 134.8 483.5\\nL 134.5 486.9\\nQ 135.5 486.5, 136.5 486.5\\n' fill='#000000'/>\\n</svg>\\n\""
            ],
            "application/vnd.google.colaboratory.intrinsic+json": {
              "type": "string"
            }
          },
          "metadata": {},
          "execution_count": 17
        }
      ],
      "source": [
        "from rdkit.Chem import Draw\n",
        "Draw.MolsToGridImage(\n",
        "    [x[0] for x  in final_mol_list],\n",
        "    molsPerRow = 3, useSVG=True,\n",
        "    subImgSize = (250, 250),\n",
        "    returnPNG=True,\n",
        "    legends=[f\"{x[1]:.2f}\" for x in final_mol_list])\n"
      ]
    },
    {
      "cell_type": "markdown",
      "metadata": {
        "id": "uUzulRHI7RrT"
      },
      "source": [
        "참고:\n",
        "https://www.rdkit.org/docs/GettingStartedInPython.html#drawing-molecules"
      ]
    },
    {
      "cell_type": "code",
      "execution_count": 18,
      "metadata": {
        "id": "j4YAr2dH6rX6",
        "colab": {
          "base_uri": "https://localhost:8080/",
          "height": 201
        },
        "outputId": "182e3178-ec2f-4ae8-bf91-977ef76ced73"
      },
      "outputs": [
        {
          "output_type": "error",
          "ename": "NameError",
          "evalue": "ignored",
          "traceback": [
            "\u001b[0;31m---------------------------------------------------------------------------\u001b[0m",
            "\u001b[0;31mNameError\u001b[0m                                 Traceback (most recent call last)",
            "\u001b[0;32m<ipython-input-18-e287b73adf78>\u001b[0m in \u001b[0;36m<module>\u001b[0;34m\u001b[0m\n\u001b[0;32m----> 1\u001b[0;31m img=Draw.MolsToGridImage(subms,molsPerRow=4,subImgSize=(200,200),\n\u001b[0m\u001b[1;32m      2\u001b[0m                          legends=[x.GetProp(\"_Name\") for x in subms])    \n\u001b[1;32m      3\u001b[0m \u001b[0mimg\u001b[0m\u001b[0;34m.\u001b[0m\u001b[0msave\u001b[0m\u001b[0;34m(\u001b[0m\u001b[0;34m'images/cdk2_molgrid.aligned.o.png'\u001b[0m\u001b[0;34m)\u001b[0m\u001b[0;34m\u001b[0m\u001b[0;34m\u001b[0m\u001b[0m\n",
            "\u001b[0;31mNameError\u001b[0m: name 'subms' is not defined"
          ]
        }
      ],
      "source": [
        "img=Draw.MolsToGridImage(subms,molsPerRow=4,subImgSize=(200,200),\n",
        "                         legends=[x.GetProp(\"_Name\") for x in subms])    \n",
        "img.save('images/cdk2_molgrid.aligned.o.png')"
      ]
    },
    {
      "cell_type": "code",
      "execution_count": null,
      "metadata": {
        "colab": {
          "base_uri": "https://localhost:8080/"
        },
        "id": "JQ8AN-iqLkoK",
        "outputId": "9f662bca-ef0f-4e5c-c6ae-b047cac23dae"
      },
      "outputs": [
        {
          "data": {
            "text/plain": [
              "[]"
            ]
          },
          "execution_count": 14,
          "metadata": {},
          "output_type": "execute_result"
        }
      ],
      "source": [
        "final_mol_list"
      ]
    },
    {
      "cell_type": "code",
      "execution_count": null,
      "metadata": {
        "id": "uFp0ntR4VHW4"
      },
      "outputs": [],
      "source": []
    }
  ],
  "metadata": {
    "accelerator": "GPU",
    "colab": {
      "collapsed_sections": [],
      "provenance": []
    },
    "kernelspec": {
      "display_name": "Python 3",
      "language": "python",
      "name": "python3"
    },
    "language_info": {
      "codemirror_mode": {
        "name": "ipython",
        "version": 3
      },
      "file_extension": ".py",
      "mimetype": "text/x-python",
      "name": "python",
      "nbconvert_exporter": "python",
      "pygments_lexer": "ipython3",
      "version": "3.8.8"
    },
    "toc": {
      "base_numbering": 1,
      "nav_menu": {},
      "number_sections": false,
      "sideBar": true,
      "skip_h1_title": false,
      "title_cell": "Table of Contents",
      "title_sidebar": "Contents",
      "toc_cell": false,
      "toc_position": {},
      "toc_section_display": true,
      "toc_window_display": false
    }
  },
  "nbformat": 4,
  "nbformat_minor": 0
}