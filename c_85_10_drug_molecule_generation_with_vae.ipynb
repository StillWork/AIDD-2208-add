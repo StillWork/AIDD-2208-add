{
 "cells": [
  {
   "cell_type": "markdown",
   "id": "1999da74",
   "metadata": {
    "id": "1999da74",
    "papermill": {
     "duration": 0.031303,
     "end_time": "2022-03-28T10:31:11.437895",
     "exception": false,
     "start_time": "2022-03-28T10:31:11.406592",
     "status": "completed"
    },
    "tags": []
   },
   "source": [
    "# VAE를 이용한 분자 생성 모델\n",
    "\n",
    "- 분자 표현형으로 그래프 구조를 사용\n",
    "- Keras를 사용하여 모델의 기능을 상세하게 직접 구현하였다\n",
    "- 참고 [Keras VAE](https://keras.io/examples/generative/molecule_generation/)"
   ]
  },
  {
   "cell_type": "markdown",
   "id": "a5afb3bf",
   "metadata": {
    "id": "a5afb3bf",
    "papermill": {
     "duration": 0.029629,
     "end_time": "2022-03-28T10:31:11.553765",
     "exception": false,
     "start_time": "2022-03-28T10:31:11.524136",
     "status": "completed"
    },
    "tags": []
   },
   "source": [
    "## 개요\n",
    "- 참고 논문 1: [Automatic chemical design using a data-driven continuous representation of molecules](https://arxiv.org/abs/1610.02415)\n",
    " - 모델은 세 부분으로 구성된다\n",
    " - Encoder, Decoder and Predictor. \n",
    " - 인코더는 분자 표현을 연속 공간의 벡터로 표현한다\n",
    " - 디코더는 연속형 벡터값을 분자 형태로 바꾸어준다\n",
    " - Predictor는 분자의 연속형 벡터로부터 화학적인 특성을 예측해준다. 이를 이용해 원하는 특성의 화합물을 찾는다\n",
    "\n",
    "\n",
    "![intro](https://bit.ly/3CtPMzM)\n",
    "- **Figure (a)** - autoencoder 구조 (joint property prediction model 포함). SMILES과 같은 디지털 신호를 받아 잠재 공간의 벡터로 변환한다. 이 벡터값으로부터 디코더는 새로운 SMILES를 생성한다. MLP를 이용해서 분자의 특정한 속성값을 예측할 수 있다.\n",
    "\n",
    "- **Figure (b)** - Gradient-based optimization in continuous latent space\n",
    " - 새로 생성되는 객체가 원하는 특정한 속성을 갖도록 할 수 있다. 이에 해당하는 잠재 벡터로부터 가장 가까운 SMILES를 얻을 수 있다. 이 후보 물질이 원하는 특성을 갖는지는 실험을 통해서 최종 확인해야 한다.\n",
    "\n",
    "- 참고 논문 2: [MolGAN: An implicit generative model for small molecular graphs](https://arxiv.org/abs/1805.11973)\n",
    "\n",
    " - 케라스로 구현한 MolGAN 예제:\n",
    "[**WGAN-GP with R-GCN for the generation of small molecular graphs**](https://bit.ly/3pU6zXK) "
   ]
  },
  {
   "cell_type": "markdown",
   "id": "aeb36007",
   "metadata": {
    "id": "aeb36007",
    "papermill": {
     "duration": 0.029306,
     "end_time": "2022-03-28T10:31:11.612752",
     "exception": false,
     "start_time": "2022-03-28T10:31:11.583446",
     "status": "completed"
    },
    "tags": []
   },
   "source": [
    "## RDKit\n",
    "\n",
    "- RDKit은 SMILES를 molecule 객체로 변환하는데 사용되며 mol 객체로부터 분자의 다양한 특성들을 추출할 수 있다\n",
    " "
   ]
  },
  {
   "cell_type": "code",
   "execution_count": 1,
   "id": "fab9e1df",
   "metadata": {
    "execution": {
     "iopub.execute_input": "2022-03-28T10:31:11.683292Z",
     "iopub.status.busy": "2022-03-28T10:31:11.681695Z",
     "iopub.status.idle": "2022-03-28T10:31:22.239493Z",
     "shell.execute_reply": "2022-03-28T10:31:22.238499Z",
     "shell.execute_reply.started": "2022-03-27T14:43:34.653157Z"
    },
    "id": "fab9e1df",
    "papermill": {
     "duration": 10.593494,
     "end_time": "2022-03-28T10:31:22.239655",
     "exception": false,
     "start_time": "2022-03-28T10:31:11.646161",
     "status": "completed"
    },
    "tags": []
   },
   "outputs": [],
   "source": [
    "!pip -q install rdkit-pypi # ==2021.9.4"
   ]
  },
  {
   "cell_type": "code",
   "execution_count": 4,
   "id": "79e22fda",
   "metadata": {
    "execution": {
     "iopub.execute_input": "2022-03-28T10:31:22.302728Z",
     "iopub.status.busy": "2022-03-28T10:31:22.301896Z",
     "iopub.status.idle": "2022-03-28T10:31:27.425074Z",
     "shell.execute_reply": "2022-03-28T10:31:27.424611Z",
     "shell.execute_reply.started": "2022-03-27T14:43:46.522579Z"
    },
    "id": "79e22fda",
    "papermill": {
     "duration": 5.158417,
     "end_time": "2022-03-28T10:31:27.425211",
     "exception": false,
     "start_time": "2022-03-28T10:31:22.266794",
     "status": "completed"
    },
    "tags": []
   },
   "outputs": [],
   "source": [
    "import ast\n",
    "\n",
    "import pandas as pd\n",
    "import numpy as np\n",
    "\n",
    "import tensorflow as tf\n",
    "from tensorflow import keras\n",
    "from tensorflow.keras import layers\n",
    "\n",
    "import matplotlib.pyplot as plt\n",
    "from rdkit import Chem, RDLogger\n",
    "from rdkit.Chem.Draw import MolsToGridImage\n",
    "\n",
    "RDLogger.DisableLog(\"rdApp.*\")"
   ]
  },
  {
   "cell_type": "markdown",
   "id": "da75d89a",
   "metadata": {
    "id": "da75d89a",
    "papermill": {
     "duration": 0.026801,
     "end_time": "2022-03-28T10:31:27.479039",
     "exception": false,
     "start_time": "2022-03-28T10:31:27.452238",
     "status": "completed"
    },
    "tags": []
   },
   "source": [
    "## Dataset\n",
    "\n",
    "- 사용할 데이터셋 [**ZINC – A Free Database of Commercially Available Compounds for\n",
    "Virtual Screening**](https://bit.ly/3IVBI4x) \n",
    " - 분자의 SMILE, **logP** (water–octanal partition coefficient), **SAS** (synthetic\n",
    "accessibility score), **QED** (Qualitative Estimate of Drug-likeness)를 제공한다"
   ]
  },
  {
   "cell_type": "code",
   "execution_count": 2,
   "id": "OwN4sp-7fmOz",
   "metadata": {
    "colab": {
     "base_uri": "https://localhost:8080/"
    },
    "id": "OwN4sp-7fmOz",
    "outputId": "bf590c96-56d0-4cc6-99cc-4d8e58b4ab18"
   },
   "outputs": [
    {
     "name": "stdout",
     "output_type": "stream",
     "text": [
      "  % Total    % Received % Xferd  Average Speed   Time    Time     Time  Current\n",
      "                                 Dload  Upload   Total   Spent    Left  Speed\n",
      "100   139    0   139    0     0    507      0 --:--:-- --:--:-- --:--:--   507\n",
      "100   342  100   342    0     0    553      0 --:--:-- --:--:-- --:--:--   553\n",
      "100 21.5M  100 21.5M    0     0  20.3M      0  0:00:01  0:00:01 --:--:-- 93.7M\n"
     ]
    }
   ],
   "source": [
    "!curl -L -o 250k_rndm_zinc_drugs_clean_3.csv \\\n",
    "   https://www.dropbox.com/s/61zerjzicxgk1lz/250k_rndm_zinc_drugs_clean_3.csv?dl=1"
   ]
  },
  {
   "cell_type": "code",
   "execution_count": 7,
   "id": "457774f9",
   "metadata": {
    "colab": {
     "base_uri": "https://localhost:8080/",
     "height": 223
    },
    "execution": {
     "iopub.execute_input": "2022-03-28T10:31:27.536369Z",
     "iopub.status.busy": "2022-03-28T10:31:27.535870Z",
     "iopub.status.idle": "2022-03-28T10:31:28.199465Z",
     "shell.execute_reply": "2022-03-28T10:31:28.199874Z",
     "shell.execute_reply.started": "2022-03-27T14:43:52.303142Z"
    },
    "id": "457774f9",
    "outputId": "31f6f34c-13f3-4e95-b569-0ad9f76db5f1",
    "papermill": {
     "duration": 0.694725,
     "end_time": "2022-03-28T10:31:28.200012",
     "exception": false,
     "start_time": "2022-03-28T10:31:27.505287",
     "status": "completed"
    },
    "tags": []
   },
   "outputs": [
    {
     "name": "stdout",
     "output_type": "stream",
     "text": [
      "(249455, 4)\n"
     ]
    },
    {
     "data": {
      "text/html": [
       "\n",
       "  <div id=\"df-abe26522-d33c-40d7-a1ad-400cc89fbe21\">\n",
       "    <div class=\"colab-df-container\">\n",
       "      <div>\n",
       "<style scoped>\n",
       "    .dataframe tbody tr th:only-of-type {\n",
       "        vertical-align: middle;\n",
       "    }\n",
       "\n",
       "    .dataframe tbody tr th {\n",
       "        vertical-align: top;\n",
       "    }\n",
       "\n",
       "    .dataframe thead th {\n",
       "        text-align: right;\n",
       "    }\n",
       "</style>\n",
       "<table border=\"1\" class=\"dataframe\">\n",
       "  <thead>\n",
       "    <tr style=\"text-align: right;\">\n",
       "      <th></th>\n",
       "      <th>smiles</th>\n",
       "      <th>logP</th>\n",
       "      <th>qed</th>\n",
       "      <th>SAS</th>\n",
       "    </tr>\n",
       "  </thead>\n",
       "  <tbody>\n",
       "    <tr>\n",
       "      <th>0</th>\n",
       "      <td>CC(C)(C)c1ccc2occ(CC(=O)Nc3ccccc3F)c2c1\\n</td>\n",
       "      <td>5.05060</td>\n",
       "      <td>0.702012</td>\n",
       "      <td>2.084095</td>\n",
       "    </tr>\n",
       "    <tr>\n",
       "      <th>1</th>\n",
       "      <td>C[C@@H]1CC(Nc2cncc(-c3nncn3C)c2)C[C@@H](C)C1\\n</td>\n",
       "      <td>3.11370</td>\n",
       "      <td>0.928975</td>\n",
       "      <td>3.432004</td>\n",
       "    </tr>\n",
       "    <tr>\n",
       "      <th>2</th>\n",
       "      <td>N#Cc1ccc(-c2ccc(O[C@@H](C(=O)N3CCCC3)c3ccccc3)...</td>\n",
       "      <td>4.96778</td>\n",
       "      <td>0.599682</td>\n",
       "      <td>2.470633</td>\n",
       "    </tr>\n",
       "    <tr>\n",
       "      <th>3</th>\n",
       "      <td>CCOC(=O)[C@@H]1CCCN(C(=O)c2nc(-c3ccc(C)cc3)n3c...</td>\n",
       "      <td>4.00022</td>\n",
       "      <td>0.690944</td>\n",
       "      <td>2.822753</td>\n",
       "    </tr>\n",
       "    <tr>\n",
       "      <th>4</th>\n",
       "      <td>N#CC1=C(SCC(=O)Nc2cccc(Cl)c2)N=C([O-])[C@H](C#...</td>\n",
       "      <td>3.60956</td>\n",
       "      <td>0.789027</td>\n",
       "      <td>4.035182</td>\n",
       "    </tr>\n",
       "  </tbody>\n",
       "</table>\n",
       "</div>\n",
       "      <button class=\"colab-df-convert\" onclick=\"convertToInteractive('df-abe26522-d33c-40d7-a1ad-400cc89fbe21')\"\n",
       "              title=\"Convert this dataframe to an interactive table.\"\n",
       "              style=\"display:none;\">\n",
       "        \n",
       "  <svg xmlns=\"http://www.w3.org/2000/svg\" height=\"24px\"viewBox=\"0 0 24 24\"\n",
       "       width=\"24px\">\n",
       "    <path d=\"M0 0h24v24H0V0z\" fill=\"none\"/>\n",
       "    <path d=\"M18.56 5.44l.94 2.06.94-2.06 2.06-.94-2.06-.94-.94-2.06-.94 2.06-2.06.94zm-11 1L8.5 8.5l.94-2.06 2.06-.94-2.06-.94L8.5 2.5l-.94 2.06-2.06.94zm10 10l.94 2.06.94-2.06 2.06-.94-2.06-.94-.94-2.06-.94 2.06-2.06.94z\"/><path d=\"M17.41 7.96l-1.37-1.37c-.4-.4-.92-.59-1.43-.59-.52 0-1.04.2-1.43.59L10.3 9.45l-7.72 7.72c-.78.78-.78 2.05 0 2.83L4 21.41c.39.39.9.59 1.41.59.51 0 1.02-.2 1.41-.59l7.78-7.78 2.81-2.81c.8-.78.8-2.07 0-2.86zM5.41 20L4 18.59l7.72-7.72 1.47 1.35L5.41 20z\"/>\n",
       "  </svg>\n",
       "      </button>\n",
       "      \n",
       "  <style>\n",
       "    .colab-df-container {\n",
       "      display:flex;\n",
       "      flex-wrap:wrap;\n",
       "      gap: 12px;\n",
       "    }\n",
       "\n",
       "    .colab-df-convert {\n",
       "      background-color: #E8F0FE;\n",
       "      border: none;\n",
       "      border-radius: 50%;\n",
       "      cursor: pointer;\n",
       "      display: none;\n",
       "      fill: #1967D2;\n",
       "      height: 32px;\n",
       "      padding: 0 0 0 0;\n",
       "      width: 32px;\n",
       "    }\n",
       "\n",
       "    .colab-df-convert:hover {\n",
       "      background-color: #E2EBFA;\n",
       "      box-shadow: 0px 1px 2px rgba(60, 64, 67, 0.3), 0px 1px 3px 1px rgba(60, 64, 67, 0.15);\n",
       "      fill: #174EA6;\n",
       "    }\n",
       "\n",
       "    [theme=dark] .colab-df-convert {\n",
       "      background-color: #3B4455;\n",
       "      fill: #D2E3FC;\n",
       "    }\n",
       "\n",
       "    [theme=dark] .colab-df-convert:hover {\n",
       "      background-color: #434B5C;\n",
       "      box-shadow: 0px 1px 3px 1px rgba(0, 0, 0, 0.15);\n",
       "      filter: drop-shadow(0px 1px 2px rgba(0, 0, 0, 0.3));\n",
       "      fill: #FFFFFF;\n",
       "    }\n",
       "  </style>\n",
       "\n",
       "      <script>\n",
       "        const buttonEl =\n",
       "          document.querySelector('#df-abe26522-d33c-40d7-a1ad-400cc89fbe21 button.colab-df-convert');\n",
       "        buttonEl.style.display =\n",
       "          google.colab.kernel.accessAllowed ? 'block' : 'none';\n",
       "\n",
       "        async function convertToInteractive(key) {\n",
       "          const element = document.querySelector('#df-abe26522-d33c-40d7-a1ad-400cc89fbe21');\n",
       "          const dataTable =\n",
       "            await google.colab.kernel.invokeFunction('convertToInteractive',\n",
       "                                                     [key], {});\n",
       "          if (!dataTable) return;\n",
       "\n",
       "          const docLinkHtml = 'Like what you see? Visit the ' +\n",
       "            '<a target=\"_blank\" href=https://colab.research.google.com/notebooks/data_table.ipynb>data table notebook</a>'\n",
       "            + ' to learn more about interactive tables.';\n",
       "          element.innerHTML = '';\n",
       "          dataTable['output_type'] = 'display_data';\n",
       "          await google.colab.output.renderOutput(dataTable, element);\n",
       "          const docLink = document.createElement('div');\n",
       "          docLink.innerHTML = docLinkHtml;\n",
       "          element.appendChild(docLink);\n",
       "        }\n",
       "      </script>\n",
       "    </div>\n",
       "  </div>\n",
       "  "
      ],
      "text/plain": [
       "                                              smiles     logP       qed  \\\n",
       "0          CC(C)(C)c1ccc2occ(CC(=O)Nc3ccccc3F)c2c1\\n  5.05060  0.702012   \n",
       "1     C[C@@H]1CC(Nc2cncc(-c3nncn3C)c2)C[C@@H](C)C1\\n  3.11370  0.928975   \n",
       "2  N#Cc1ccc(-c2ccc(O[C@@H](C(=O)N3CCCC3)c3ccccc3)...  4.96778  0.599682   \n",
       "3  CCOC(=O)[C@@H]1CCCN(C(=O)c2nc(-c3ccc(C)cc3)n3c...  4.00022  0.690944   \n",
       "4  N#CC1=C(SCC(=O)Nc2cccc(Cl)c2)N=C([O-])[C@H](C#...  3.60956  0.789027   \n",
       "\n",
       "        SAS  \n",
       "0  2.084095  \n",
       "1  3.432004  \n",
       "2  2.470633  \n",
       "3  2.822753  \n",
       "4  4.035182  "
      ]
     },
     "execution_count": 7,
     "metadata": {},
     "output_type": "execute_result"
    }
   ],
   "source": [
    "df = pd.read_csv(\"250k_rndm_zinc_drugs_clean_3.csv\")\n",
    "print(df.shape)\n",
    "df.head()"
   ]
  },
  {
   "cell_type": "code",
   "execution_count": 6,
   "id": "ZFnkCYA0_DMY",
   "metadata": {
    "colab": {
     "base_uri": "https://localhost:8080/",
     "height": 143
    },
    "id": "ZFnkCYA0_DMY",
    "outputId": "e78dc9fb-33a8-44ae-a441-9c3a79c24665"
   },
   "outputs": [
    {
     "data": {
      "text/html": [
       "\n",
       "  <div id=\"df-a5adf9ae-81c9-4b54-beb1-df4814ad15d4\">\n",
       "    <div class=\"colab-df-container\">\n",
       "      <div>\n",
       "<style scoped>\n",
       "    .dataframe tbody tr th:only-of-type {\n",
       "        vertical-align: middle;\n",
       "    }\n",
       "\n",
       "    .dataframe tbody tr th {\n",
       "        vertical-align: top;\n",
       "    }\n",
       "\n",
       "    .dataframe thead th {\n",
       "        text-align: right;\n",
       "    }\n",
       "</style>\n",
       "<table border=\"1\" class=\"dataframe\">\n",
       "  <thead>\n",
       "    <tr style=\"text-align: right;\">\n",
       "      <th></th>\n",
       "      <th>smiles</th>\n",
       "      <th>logP</th>\n",
       "      <th>qed</th>\n",
       "      <th>SAS</th>\n",
       "    </tr>\n",
       "  </thead>\n",
       "  <tbody>\n",
       "    <tr>\n",
       "      <th>0</th>\n",
       "      <td>CC(C)(C)c1ccc2occ(CC(=O)Nc3ccccc3F)c2c1</td>\n",
       "      <td>5.05060</td>\n",
       "      <td>0.702012</td>\n",
       "      <td>2.084095</td>\n",
       "    </tr>\n",
       "    <tr>\n",
       "      <th>1</th>\n",
       "      <td>C[C@@H]1CC(Nc2cncc(-c3nncn3C)c2)C[C@@H](C)C1</td>\n",
       "      <td>3.11370</td>\n",
       "      <td>0.928975</td>\n",
       "      <td>3.432004</td>\n",
       "    </tr>\n",
       "    <tr>\n",
       "      <th>2</th>\n",
       "      <td>N#Cc1ccc(-c2ccc(O[C@@H](C(=O)N3CCCC3)c3ccccc3)...</td>\n",
       "      <td>4.96778</td>\n",
       "      <td>0.599682</td>\n",
       "      <td>2.470633</td>\n",
       "    </tr>\n",
       "  </tbody>\n",
       "</table>\n",
       "</div>\n",
       "      <button class=\"colab-df-convert\" onclick=\"convertToInteractive('df-a5adf9ae-81c9-4b54-beb1-df4814ad15d4')\"\n",
       "              title=\"Convert this dataframe to an interactive table.\"\n",
       "              style=\"display:none;\">\n",
       "        \n",
       "  <svg xmlns=\"http://www.w3.org/2000/svg\" height=\"24px\"viewBox=\"0 0 24 24\"\n",
       "       width=\"24px\">\n",
       "    <path d=\"M0 0h24v24H0V0z\" fill=\"none\"/>\n",
       "    <path d=\"M18.56 5.44l.94 2.06.94-2.06 2.06-.94-2.06-.94-.94-2.06-.94 2.06-2.06.94zm-11 1L8.5 8.5l.94-2.06 2.06-.94-2.06-.94L8.5 2.5l-.94 2.06-2.06.94zm10 10l.94 2.06.94-2.06 2.06-.94-2.06-.94-.94-2.06-.94 2.06-2.06.94z\"/><path d=\"M17.41 7.96l-1.37-1.37c-.4-.4-.92-.59-1.43-.59-.52 0-1.04.2-1.43.59L10.3 9.45l-7.72 7.72c-.78.78-.78 2.05 0 2.83L4 21.41c.39.39.9.59 1.41.59.51 0 1.02-.2 1.41-.59l7.78-7.78 2.81-2.81c.8-.78.8-2.07 0-2.86zM5.41 20L4 18.59l7.72-7.72 1.47 1.35L5.41 20z\"/>\n",
       "  </svg>\n",
       "      </button>\n",
       "      \n",
       "  <style>\n",
       "    .colab-df-container {\n",
       "      display:flex;\n",
       "      flex-wrap:wrap;\n",
       "      gap: 12px;\n",
       "    }\n",
       "\n",
       "    .colab-df-convert {\n",
       "      background-color: #E8F0FE;\n",
       "      border: none;\n",
       "      border-radius: 50%;\n",
       "      cursor: pointer;\n",
       "      display: none;\n",
       "      fill: #1967D2;\n",
       "      height: 32px;\n",
       "      padding: 0 0 0 0;\n",
       "      width: 32px;\n",
       "    }\n",
       "\n",
       "    .colab-df-convert:hover {\n",
       "      background-color: #E2EBFA;\n",
       "      box-shadow: 0px 1px 2px rgba(60, 64, 67, 0.3), 0px 1px 3px 1px rgba(60, 64, 67, 0.15);\n",
       "      fill: #174EA6;\n",
       "    }\n",
       "\n",
       "    [theme=dark] .colab-df-convert {\n",
       "      background-color: #3B4455;\n",
       "      fill: #D2E3FC;\n",
       "    }\n",
       "\n",
       "    [theme=dark] .colab-df-convert:hover {\n",
       "      background-color: #434B5C;\n",
       "      box-shadow: 0px 1px 3px 1px rgba(0, 0, 0, 0.15);\n",
       "      filter: drop-shadow(0px 1px 2px rgba(0, 0, 0, 0.3));\n",
       "      fill: #FFFFFF;\n",
       "    }\n",
       "  </style>\n",
       "\n",
       "      <script>\n",
       "        const buttonEl =\n",
       "          document.querySelector('#df-a5adf9ae-81c9-4b54-beb1-df4814ad15d4 button.colab-df-convert');\n",
       "        buttonEl.style.display =\n",
       "          google.colab.kernel.accessAllowed ? 'block' : 'none';\n",
       "\n",
       "        async function convertToInteractive(key) {\n",
       "          const element = document.querySelector('#df-a5adf9ae-81c9-4b54-beb1-df4814ad15d4');\n",
       "          const dataTable =\n",
       "            await google.colab.kernel.invokeFunction('convertToInteractive',\n",
       "                                                     [key], {});\n",
       "          if (!dataTable) return;\n",
       "\n",
       "          const docLinkHtml = 'Like what you see? Visit the ' +\n",
       "            '<a target=\"_blank\" href=https://colab.research.google.com/notebooks/data_table.ipynb>data table notebook</a>'\n",
       "            + ' to learn more about interactive tables.';\n",
       "          element.innerHTML = '';\n",
       "          dataTable['output_type'] = 'display_data';\n",
       "          await google.colab.output.renderOutput(dataTable, element);\n",
       "          const docLink = document.createElement('div');\n",
       "          docLink.innerHTML = docLinkHtml;\n",
       "          element.appendChild(docLink);\n",
       "        }\n",
       "      </script>\n",
       "    </div>\n",
       "  </div>\n",
       "  "
      ],
      "text/plain": [
       "                                              smiles     logP       qed  \\\n",
       "0            CC(C)(C)c1ccc2occ(CC(=O)Nc3ccccc3F)c2c1  5.05060  0.702012   \n",
       "1       C[C@@H]1CC(Nc2cncc(-c3nncn3C)c2)C[C@@H](C)C1  3.11370  0.928975   \n",
       "2  N#Cc1ccc(-c2ccc(O[C@@H](C(=O)N3CCCC3)c3ccccc3)...  4.96778  0.599682   \n",
       "\n",
       "        SAS  \n",
       "0  2.084095  \n",
       "1  3.432004  \n",
       "2  2.470633  "
      ]
     },
     "execution_count": 6,
     "metadata": {},
     "output_type": "execute_result"
    }
   ],
   "source": [
    "df['smiles'] = df['smiles'].apply(lambda s: s.replace('\\n', ''))\n",
    "df[:3]"
   ]
  },
  {
   "cell_type": "code",
   "execution_count": 8,
   "id": "c78847b1",
   "metadata": {
    "execution": {
     "iopub.execute_input": "2022-03-28T10:31:28.260707Z",
     "iopub.status.busy": "2022-03-28T10:31:28.259186Z",
     "iopub.status.idle": "2022-03-28T10:31:28.261311Z",
     "shell.execute_reply": "2022-03-28T10:31:28.261735Z",
     "shell.execute_reply.started": "2022-03-27T14:43:53.112259Z"
    },
    "id": "c78847b1",
    "papermill": {
     "duration": 0.034601,
     "end_time": "2022-03-28T10:31:28.261863",
     "exception": false,
     "start_time": "2022-03-28T10:31:28.227262",
     "status": "completed"
    },
    "tags": []
   },
   "outputs": [],
   "source": [
    "def molecule_from_smiles(smiles):\n",
    "    # MolFromSmiles(m, sanitize=True) should be equivalent to\n",
    "    # MolFromSmiles(m, sanitize=False) -> SanitizeMol(m) -> AssignStereochemistry(m, ...)\n",
    "    molecule = Chem.MolFromSmiles(smiles, sanitize=False)\n",
    "\n",
    "    # If sanitization is unsuccessful, catch the error, and try again without\n",
    "    # the sanitization step that caused the error\n",
    "    flag = Chem.SanitizeMol(molecule, catchErrors=True)\n",
    "    if flag != Chem.SanitizeFlags.SANITIZE_NONE:\n",
    "        Chem.SanitizeMol(molecule, sanitizeOps=Chem.SanitizeFlags.SANITIZE_ALL ^ flag)\n",
    "\n",
    "    Chem.AssignStereochemistry(molecule, cleanIt=True, force=True)\n",
    "    return molecule"
   ]
  },
  {
   "cell_type": "code",
   "execution_count": 9,
   "id": "761fd3c6",
   "metadata": {
    "colab": {
     "base_uri": "https://localhost:8080/"
    },
    "execution": {
     "iopub.execute_input": "2022-03-28T10:31:28.319789Z",
     "iopub.status.busy": "2022-03-28T10:31:28.318800Z",
     "iopub.status.idle": "2022-03-28T10:31:28.333583Z",
     "shell.execute_reply": "2022-03-28T10:31:28.333985Z",
     "shell.execute_reply.started": "2022-03-27T14:43:53.119172Z"
    },
    "id": "761fd3c6",
    "outputId": "442bf6ac-55ab-4eee-e073-4c3ab35fb636",
    "papermill": {
     "duration": 0.04579,
     "end_time": "2022-03-28T10:31:28.334110",
     "exception": false,
     "start_time": "2022-03-28T10:31:28.288320",
     "status": "completed"
    },
    "tags": []
   },
   "outputs": [
    {
     "name": "stdout",
     "output_type": "stream",
     "text": [
      "SMILES:\tCOc1ccc([C@H]2C[C@@H](C(F)(F)F)n3nc(C(=O)NC4CCCCC4)cc3N2)cc1OC\n",
      "\n",
      "logP:\t4.6231\n",
      "qed:\t0.661591299118\n",
      "Molecule:\n"
     ]
    },
    {
     "data": {
      "text/plain": [
       "<rdkit.Chem.rdchem.Mol at 0x7f70d73e0e40>"
      ]
     },
     "execution_count": 9,
     "metadata": {},
     "output_type": "execute_result"
    }
   ],
   "source": [
    "print(f\"SMILES:\\t{df.smiles[100]}\\nlogP:\\t{df.logP[100]}\\nqed:\\t{df.qed[100]}\")\n",
    "molecule = molecule_from_smiles(df.iloc[29].smiles)\n",
    "print(\"Molecule:\")\n",
    "molecule"
   ]
  },
  {
   "cell_type": "code",
   "execution_count": 10,
   "id": "d2ed95ab",
   "metadata": {
    "colab": {
     "base_uri": "https://localhost:8080/"
    },
    "execution": {
     "iopub.execute_input": "2022-03-28T10:31:28.419682Z",
     "iopub.status.busy": "2022-03-28T10:31:28.418827Z",
     "iopub.status.idle": "2022-03-28T10:31:28.585543Z",
     "shell.execute_reply": "2022-03-28T10:31:28.586089Z",
     "shell.execute_reply.started": "2022-03-27T14:43:53.139804Z"
    },
    "id": "d2ed95ab",
    "outputId": "b9853209-6801-467a-a19a-42bdc3b4c267",
    "papermill": {
     "duration": 0.224506,
     "end_time": "2022-03-28T10:31:28.586286",
     "exception": false,
     "start_time": "2022-03-28T10:31:28.361780",
     "status": "completed"
    },
    "tags": []
   },
   "outputs": [
    {
     "name": "stdout",
     "output_type": "stream",
     "text": [
      "Max molecule size: 110\n",
      "Character set Length: 11\n"
     ]
    }
   ],
   "source": [
    "SMILE_CHARSET = '[\"C\", \"B\", \"F\", \"I\", \"H\", \"O\", \"N\", \"S\", \\\n",
    "                  \"P\", \"Cl\", \"Br\"]'             \n",
    "bond_mapping = {\n",
    "    \"SINGLE\": 0,\n",
    "    0: Chem.BondType.SINGLE,\n",
    "    \"DOUBLE\": 1,\n",
    "    1: Chem.BondType.DOUBLE,\n",
    "    \"TRIPLE\": 2,\n",
    "    2: Chem.BondType.TRIPLE,\n",
    "    \"AROMATIC\": 3,\n",
    "    3: Chem.BondType.AROMATIC,\n",
    "}\n",
    "SMILE_CHARSET = ast.literal_eval(SMILE_CHARSET)\n",
    "\n",
    "MAX_MOLSIZE = max(df['smiles'].str.len())\n",
    "SMILE_to_index = dict((c, i) for i, c in enumerate(SMILE_CHARSET))\n",
    "index_to_SMILE = dict((i, c) for i, c in enumerate(SMILE_CHARSET))\n",
    "atom_mapping = dict(SMILE_to_index)\n",
    "atom_mapping.update(index_to_SMILE)\n",
    "\n",
    "print(\"Max molecule size: {}\".format(MAX_MOLSIZE))\n",
    "print(\"Character set Length: {}\".format(len(SMILE_CHARSET)))"
   ]
  },
  {
   "cell_type": "markdown",
   "id": "99b35d67",
   "metadata": {
    "id": "99b35d67",
    "papermill": {
     "duration": 0.02771,
     "end_time": "2022-03-28T10:31:28.642565",
     "exception": false,
     "start_time": "2022-03-28T10:31:28.614855",
     "status": "completed"
    },
    "tags": []
   },
   "source": [
    "## Hyperparameters"
   ]
  },
  {
   "cell_type": "code",
   "execution_count": 11,
   "id": "8c11019d",
   "metadata": {
    "execution": {
     "iopub.execute_input": "2022-03-28T10:31:28.702524Z",
     "iopub.status.busy": "2022-03-28T10:31:28.701987Z",
     "iopub.status.idle": "2022-03-28T10:31:28.705393Z",
     "shell.execute_reply": "2022-03-28T10:31:28.704998Z",
     "shell.execute_reply.started": "2022-03-27T14:43:53.362681Z"
    },
    "id": "8c11019d",
    "papermill": {
     "duration": 0.035246,
     "end_time": "2022-03-28T10:31:28.705523",
     "exception": false,
     "start_time": "2022-03-28T10:31:28.670277",
     "status": "completed"
    },
    "tags": []
   },
   "outputs": [],
   "source": [
    "BATCH_SIZE = 32\n",
    "EPOCHS =10\n",
    "\n",
    "VAE_LR = 5e-4\n",
    "NUM_ATOMS = 120 # Maximum number of atoms\n",
    "\n",
    "ATOM_DIM = len(SMILE_CHARSET)  # Number of atom types\n",
    "BOND_DIM = 4 + 1  # Number of bond types\n",
    "LATENT_DIM = 435  # Size of the latent space"
   ]
  },
  {
   "cell_type": "code",
   "execution_count": 12,
   "id": "e5675775",
   "metadata": {
    "execution": {
     "iopub.execute_input": "2022-03-28T10:31:28.776568Z",
     "iopub.status.busy": "2022-03-28T10:31:28.768780Z",
     "iopub.status.idle": "2022-03-28T10:31:28.778755Z",
     "shell.execute_reply": "2022-03-28T10:31:28.778327Z",
     "shell.execute_reply.started": "2022-03-27T14:43:53.369108Z"
    },
    "id": "e5675775",
    "papermill": {
     "duration": 0.045361,
     "end_time": "2022-03-28T10:31:28.778864",
     "exception": false,
     "start_time": "2022-03-28T10:31:28.733503",
     "status": "completed"
    },
    "tags": []
   },
   "outputs": [],
   "source": [
    "def smiles_to_graph(smiles):\n",
    "    '''\n",
    "    Reference: https://keras.io/examples/generative/wgan-graphs/\n",
    "    '''\n",
    "    # Converts SMILES to molecule object\n",
    "    molecule = Chem.MolFromSmiles(smiles)\n",
    "\n",
    "    # Initialize adjacency and feature tensor\n",
    "    adjacency = np.zeros((BOND_DIM, NUM_ATOMS, NUM_ATOMS), \"float32\")\n",
    "    features = np.zeros((NUM_ATOMS, ATOM_DIM), \"float32\")\n",
    "\n",
    "    # loop over each atom in molecule\n",
    "    for atom in molecule.GetAtoms():\n",
    "        i = atom.GetIdx()\n",
    "        atom_type = atom_mapping[atom.GetSymbol()]\n",
    "        features[i] = np.eye(ATOM_DIM)[atom_type]\n",
    "        # loop over one-hop neighbors\n",
    "        for neighbor in atom.GetNeighbors():\n",
    "            j = neighbor.GetIdx()\n",
    "            bond = molecule.GetBondBetweenAtoms(i, j)\n",
    "            bond_type_idx = bond_mapping[bond.GetBondType().name]\n",
    "            adjacency[bond_type_idx, [i, j], [j, i]] = 1\n",
    "\n",
    "    # Where no bond, add 1 to last channel (indicating \"non-bond\")\n",
    "    # Notice: channels-first\n",
    "    adjacency[-1, np.sum(adjacency, axis=0) == 0] = 1\n",
    "\n",
    "    # Where no atom, add 1 to last column (indicating \"non-atom\")\n",
    "    features[np.where(np.sum(features, axis=1) == 0)[0], -1] = 1\n",
    "\n",
    "    return adjacency, features\n",
    "\n",
    "def graph_to_molecule(graph):\n",
    "    '''\n",
    "    Reference: https://keras.io/examples/generative/wgan-graphs/\n",
    "    '''\n",
    "    # Unpack graph\n",
    "    adjacency, features = graph\n",
    "\n",
    "    # RWMol is a molecule object intended to be edited\n",
    "    molecule = Chem.RWMol()\n",
    "\n",
    "    # Remove \"no atoms\" & atoms with no bonds\n",
    "    keep_idx = np.where(\n",
    "        (np.argmax(features, axis=1) != ATOM_DIM - 1)\n",
    "        & (np.sum(adjacency[:-1], axis=(0, 1)) != 0)\n",
    "    )[0]\n",
    "    features = features[keep_idx]\n",
    "    adjacency = adjacency[:, keep_idx, :][:, :, keep_idx]\n",
    "\n",
    "    # Add atoms to molecule\n",
    "    for atom_type_idx in np.argmax(features, axis=1):\n",
    "        atom = Chem.Atom(atom_mapping[atom_type_idx])\n",
    "        _ = molecule.AddAtom(atom)\n",
    "\n",
    "    # Add bonds between atoms in molecule; based on the upper triangles\n",
    "    # of the [symmetric] adjacency tensor\n",
    "    (bonds_ij, atoms_i, atoms_j) = np.where(np.triu(adjacency) == 1)\n",
    "    for (bond_ij, atom_i, atom_j) in zip(bonds_ij, atoms_i, atoms_j):\n",
    "        if atom_i == atom_j or bond_ij == BOND_DIM - 1:\n",
    "            continue\n",
    "        bond_type = bond_mapping[bond_ij]\n",
    "        molecule.AddBond(int(atom_i), int(atom_j), bond_type)\n",
    "\n",
    "    # Sanitize the molecule; for more information on sanitization, see\n",
    "    # https://www.rdkit.org/docs/RDKit_Book.html#molecular-sanitization\n",
    "    flag = Chem.SanitizeMol(molecule, catchErrors=True)\n",
    "    # Let's be strict. If sanitization fails, return None\n",
    "    if flag != Chem.SanitizeFlags.SANITIZE_NONE:\n",
    "        return None\n",
    "\n",
    "    return molecule"
   ]
  },
  {
   "cell_type": "markdown",
   "id": "90af2c4a",
   "metadata": {
    "id": "90af2c4a",
    "papermill": {
     "duration": 0.028073,
     "end_time": "2022-03-28T10:31:28.834783",
     "exception": false,
     "start_time": "2022-03-28T10:31:28.806710",
     "status": "completed"
    },
    "tags": []
   },
   "source": [
    "## Build Dataloader"
   ]
  },
  {
   "cell_type": "code",
   "execution_count": 13,
   "id": "3c33b71c",
   "metadata": {
    "execution": {
     "iopub.execute_input": "2022-03-28T10:31:28.904820Z",
     "iopub.status.busy": "2022-03-28T10:31:28.904037Z",
     "iopub.status.idle": "2022-03-28T10:31:28.906113Z",
     "shell.execute_reply": "2022-03-28T10:31:28.906521Z",
     "shell.execute_reply.started": "2022-03-27T14:43:53.388887Z"
    },
    "id": "3c33b71c",
    "papermill": {
     "duration": 0.043718,
     "end_time": "2022-03-28T10:31:28.906648",
     "exception": false,
     "start_time": "2022-03-28T10:31:28.862930",
     "status": "completed"
    },
    "tags": []
   },
   "outputs": [],
   "source": [
    "class DataGenerator(keras.utils.Sequence):\n",
    "    def __init__(self, data, mapping, max_len, batch_size=6, shuffle=True):\n",
    "        \"\"\"\n",
    "        Initialization\n",
    "        \"\"\"\n",
    "        self.data = data\n",
    "        self.indices = self.data.index.tolist()\n",
    "        self.mapping = mapping\n",
    "        self.max_len = max_len\n",
    "        self.batch_size = batch_size\n",
    "        self.shuffle = shuffle\n",
    "        \n",
    "        self.on_epoch_end()\n",
    "\n",
    "    def __len__(self):\n",
    "        return int(np.ceil(len(self.data) / self.batch_size))\n",
    "\n",
    "    def __getitem__(self, index):\n",
    "        if (index + 1) * self.batch_size > len(self.indices):\n",
    "            self.batch_size = len(self.indices) - index * self.batch_size\n",
    "        # Generate one batch of data\n",
    "        # Generate indices of the batch\n",
    "        index = self.indices[index * self.batch_size : (index + 1) * self.batch_size]\n",
    "        # Find list of IDs\n",
    "        batch = [self.indices[k] for k in index]\n",
    "        mol_features, mol_property = self.data_generation(batch)\n",
    "\n",
    "        return mol_features, mol_property\n",
    "\n",
    "    def on_epoch_end(self):\n",
    "\n",
    "        \"\"\"\n",
    "        Updates indexes after each epoch\n",
    "        \"\"\"\n",
    "        self.index = np.arange(len(self.indices))\n",
    "        if self.shuffle == True:\n",
    "            np.random.shuffle(self.index)\n",
    "\n",
    "    def load(self, idx):\n",
    "        \"\"\"\n",
    "        Load molecules adjacency matrix and features matrix from SMILE representation \n",
    "        and their respective SAS value.\n",
    "        \"\"\"\n",
    "        qed = self.data.loc[idx]['qed']\n",
    "\n",
    "        adjacency, features = smiles_to_graph(self.data.loc[idx]['smiles'])\n",
    "\n",
    "        return adjacency, features, qed\n",
    "\n",
    "        \n",
    "    def data_generation(self, batch):\n",
    "\n",
    "        x1 = np.empty((self.batch_size, BOND_DIM, self.max_len, self.max_len))\n",
    "        x2 = np.empty((self.batch_size, self.max_len, len(self.mapping)))\n",
    "        x3 = np.empty((self.batch_size, ))\n",
    "        \n",
    "        for i, batch_id in enumerate(batch):\n",
    "            x1[i,], x2[i,], x3[i,] = self.load(batch_id)\n",
    "\n",
    "        return [x1, x2], x3\n"
   ]
  },
  {
   "cell_type": "markdown",
   "id": "d336fd7e",
   "metadata": {
    "id": "d336fd7e",
    "papermill": {
     "duration": 0.028121,
     "end_time": "2022-03-28T10:31:28.962798",
     "exception": false,
     "start_time": "2022-03-28T10:31:28.934677",
     "status": "completed"
    },
    "tags": []
   },
   "source": [
    "##  Generate training set"
   ]
  },
  {
   "cell_type": "code",
   "execution_count": 14,
   "id": "88bebccc",
   "metadata": {
    "execution": {
     "iopub.execute_input": "2022-03-28T10:31:29.030361Z",
     "iopub.status.busy": "2022-03-28T10:31:29.029559Z",
     "iopub.status.idle": "2022-03-28T10:31:29.112828Z",
     "shell.execute_reply": "2022-03-28T10:31:29.111803Z",
     "shell.execute_reply.started": "2022-03-27T14:43:53.412052Z"
    },
    "id": "88bebccc",
    "papermill": {
     "duration": 0.122144,
     "end_time": "2022-03-28T10:31:29.112961",
     "exception": false,
     "start_time": "2022-03-28T10:31:28.990817",
     "status": "completed"
    },
    "tags": []
   },
   "outputs": [],
   "source": [
    "train_df = df.sample(frac=0.75,random_state=42) #random state is a seed value\n",
    "test_df = df.drop(train_df.index)\n",
    "train_df.reset_index(drop=True, inplace=True)\n",
    "test_df.reset_index(drop=True, inplace=True)"
   ]
  },
  {
   "cell_type": "code",
   "execution_count": 15,
   "id": "fd4437fa",
   "metadata": {
    "execution": {
     "iopub.execute_input": "2022-03-28T10:31:29.183032Z",
     "iopub.status.busy": "2022-03-28T10:31:29.181451Z",
     "iopub.status.idle": "2022-03-28T10:31:29.183644Z",
     "shell.execute_reply": "2022-03-28T10:31:29.184045Z",
     "shell.execute_reply.started": "2022-03-27T14:43:53.516157Z"
    },
    "id": "fd4437fa",
    "papermill": {
     "duration": 0.042545,
     "end_time": "2022-03-28T10:31:29.184181",
     "exception": false,
     "start_time": "2022-03-28T10:31:29.141636",
     "status": "completed"
    },
    "tags": []
   },
   "outputs": [],
   "source": [
    "'''\n",
    "    Reference: https://keras.io/examples/generative/wgan-graphs/\n",
    "'''\n",
    "class RelationalGraphConvLayer(keras.layers.Layer):\n",
    "    def __init__(\n",
    "        self,\n",
    "        units=128,\n",
    "        activation=\"relu\",\n",
    "        use_bias=False,\n",
    "        kernel_initializer=\"glorot_uniform\",\n",
    "        bias_initializer=\"zeros\",\n",
    "        kernel_regularizer=None,\n",
    "        bias_regularizer=None,\n",
    "        **kwargs\n",
    "    ):\n",
    "        super().__init__(**kwargs)\n",
    "\n",
    "        self.units = units\n",
    "        self.activation = keras.activations.get(activation)\n",
    "        self.use_bias = use_bias\n",
    "        self.kernel_initializer = keras.initializers.get(kernel_initializer)\n",
    "        self.bias_initializer = keras.initializers.get(bias_initializer)\n",
    "        self.kernel_regularizer = keras.regularizers.get(kernel_regularizer)\n",
    "        self.bias_regularizer = keras.regularizers.get(bias_regularizer)\n",
    "\n",
    "    def build(self, input_shape):\n",
    "        bond_dim = input_shape[0][1]\n",
    "        atom_dim = input_shape[1][2]\n",
    "\n",
    "        self.kernel = self.add_weight(\n",
    "            shape=(bond_dim, atom_dim, self.units),\n",
    "            initializer=self.kernel_initializer,\n",
    "            regularizer=self.kernel_regularizer,\n",
    "            trainable=True,\n",
    "            name=\"W\",\n",
    "            dtype=tf.float32,\n",
    "        )\n",
    "\n",
    "        if self.use_bias:\n",
    "            self.bias = self.add_weight(\n",
    "                shape=(bond_dim, 1, self.units),\n",
    "                initializer=self.bias_initializer,\n",
    "                regularizer=self.bias_regularizer,\n",
    "                trainable=True,\n",
    "                name=\"b\",\n",
    "                dtype=tf.float32,\n",
    "            )\n",
    "\n",
    "        self.built = True\n",
    "\n",
    "    def call(self, inputs, training=False):\n",
    "        adjacency, features = inputs\n",
    "        # Aggregate information from neighbors\n",
    "        x = tf.matmul(adjacency, features[:, None, :, :])\n",
    "        # Apply linear transformation\n",
    "        x = tf.matmul(x, self.kernel)\n",
    "        if self.use_bias:\n",
    "            x += self.bias\n",
    "        # Reduce bond types dim\n",
    "        x_reduced = tf.reduce_sum(x, axis=1)\n",
    "        # Apply non-linear transformation\n",
    "        return self.activation(x_reduced)"
   ]
  },
  {
   "cell_type": "markdown",
   "id": "5d787107",
   "metadata": {
    "id": "5d787107",
    "papermill": {
     "duration": 0.027975,
     "end_time": "2022-03-28T10:31:29.239986",
     "exception": false,
     "start_time": "2022-03-28T10:31:29.212011",
     "status": "completed"
    },
    "tags": []
   },
   "source": [
    "## Encoder,  Decoder 구현\n",
    "\n",
    "- 인코더는 분자의 graph adjacency matrix와 feature matrix를 입력으로 받는다\n",
    "- 이를 Graph Convolution layer에서 처리하고 flatten 시킨 뒤에 여러 Dense 계층을 통과시켜 `z_mean`과 `log_var`을 구한다 (이것이 분자의 latent-space representation이다) \n",
    " - 참고:[WGAN-GP with R-GCN for the generation of small molecular graphs](https://keras.io/examples/generative/wgan-graphs/))\n",
    "- 디코더는 잠재 벡터를 입력으로 받고 해당하는 분자의 graph adjacency matrix와 feature matrix를 예측한다"
   ]
  },
  {
   "cell_type": "code",
   "execution_count": 16,
   "id": "758d52cc",
   "metadata": {
    "execution": {
     "iopub.execute_input": "2022-03-28T10:31:29.307707Z",
     "iopub.status.busy": "2022-03-28T10:31:29.307016Z",
     "iopub.status.idle": "2022-03-28T10:31:29.309152Z",
     "shell.execute_reply": "2022-03-28T10:31:29.309558Z",
     "shell.execute_reply.started": "2022-03-27T14:43:53.531639Z"
    },
    "id": "758d52cc",
    "papermill": {
     "duration": 0.041761,
     "end_time": "2022-03-28T10:31:29.309687",
     "exception": false,
     "start_time": "2022-03-28T10:31:29.267926",
     "status": "completed"
    },
    "tags": []
   },
   "outputs": [],
   "source": [
    "def get_encoder(gconv_units, latent_dim, adjacency_shape, feature_shape, dense_units,dropout_rate ):\n",
    "    '''\n",
    "    Reference: https://keras.io/examples/generative/wgan-graphs/\n",
    "    '''\n",
    "    adjacency = keras.layers.Input(shape=adjacency_shape)\n",
    "    features = keras.layers.Input(shape=feature_shape)\n",
    "\n",
    "    # Propagate through one or more graph convolutional layers\n",
    "    features_transformed = features\n",
    "    for units in gconv_units:\n",
    "        features_transformed = RelationalGraphConvLayer(units)(\n",
    "            [adjacency, features_transformed]\n",
    "        )\n",
    "    # Reduce 2-D representation of molecule to 1-D\n",
    "    x = keras.layers.GlobalAveragePooling1D()(features_transformed)\n",
    "\n",
    "    # Propagate through one or more densely connected layers\n",
    "    for units in dense_units:\n",
    "        x = layers.Dense(units, activation=\"relu\")(x)\n",
    "        x = layers.Dropout(dropout_rate)(x)\n",
    "    \n",
    "    z_mean = layers.Dense(latent_dim, dtype=\"float32\", name=\"z_mean\")(x)\n",
    "    log_var = layers.Dense(latent_dim, dtype=\"float32\", name=\"log_var\")(x)\n",
    "    \n",
    "    encoder = keras.Model([adjacency, features], [z_mean, log_var], name=\"encoder\")\n",
    "\n",
    "    return encoder\n",
    "\n",
    "def get_decoder(dense_units, dropout_rate, latent_dim, adjacency_shape, feature_shape):\n",
    "    '''\n",
    "    Reference: https://keras.io/examples/generative/wgan-graphs/\n",
    "    '''\n",
    "    latent_inputs = keras.Input(shape=(latent_dim,))\n",
    "\n",
    "    x = latent_inputs\n",
    "    for units in dense_units:\n",
    "        x = keras.layers.Dense(units, activation=\"tanh\")(x)\n",
    "        x = keras.layers.Dropout(dropout_rate)(x)\n",
    "\n",
    "    # Map outputs of previous layer (x) to [continuous] adjacency tensors (x_adjacency)\n",
    "    x_adjacency = keras.layers.Dense(tf.math.reduce_prod(adjacency_shape))(x)\n",
    "    x_adjacency = keras.layers.Reshape(adjacency_shape)(x_adjacency)\n",
    "    # Symmetrify tensors in the last two dimensions\n",
    "    x_adjacency = (x_adjacency + tf.transpose(x_adjacency, (0, 1, 3, 2))) / 2\n",
    "    x_adjacency = keras.layers.Softmax(axis=1)(x_adjacency)\n",
    "\n",
    "    # Map outputs of previous layer (x) to [continuous] feature tensors (x_features)\n",
    "    x_features = keras.layers.Dense(tf.math.reduce_prod(feature_shape))(x)\n",
    "    x_features = keras.layers.Reshape(feature_shape)(x_features)\n",
    "    x_features = keras.layers.Softmax(axis=2)(x_features)\n",
    "\n",
    "\n",
    "    decoder = keras.Model(latent_inputs, outputs=[x_adjacency, x_features], name=\"decoder\")\n",
    "\n",
    "    return decoder"
   ]
  },
  {
   "cell_type": "markdown",
   "id": "a27b3b8b",
   "metadata": {
    "id": "a27b3b8b",
    "papermill": {
     "duration": 0.027726,
     "end_time": "2022-03-28T10:31:29.365452",
     "exception": false,
     "start_time": "2022-03-28T10:31:29.337726",
     "status": "completed"
    },
    "tags": []
   },
   "source": [
    "## Build Sampling layer"
   ]
  },
  {
   "cell_type": "code",
   "execution_count": 17,
   "id": "c51fe08a",
   "metadata": {
    "execution": {
     "iopub.execute_input": "2022-03-28T10:31:29.427721Z",
     "iopub.status.busy": "2022-03-28T10:31:29.427025Z",
     "iopub.status.idle": "2022-03-28T10:31:29.429790Z",
     "shell.execute_reply": "2022-03-28T10:31:29.429356Z",
     "shell.execute_reply.started": "2022-03-27T14:43:53.55022Z"
    },
    "id": "c51fe08a",
    "papermill": {
     "duration": 0.036039,
     "end_time": "2022-03-28T10:31:29.429899",
     "exception": false,
     "start_time": "2022-03-28T10:31:29.393860",
     "status": "completed"
    },
    "tags": []
   },
   "outputs": [],
   "source": [
    "class Sampling(layers.Layer):\n",
    "    \"\"\"Uses (z_mean, z_log_var) to sample z, the vector encoding.\"\"\"\n",
    "\n",
    "    def call(self, inputs):\n",
    "        z_mean, z_log_var = inputs\n",
    "        batch = tf.shape(z_log_var)[0]\n",
    "        dim = tf.shape(z_log_var)[1]\n",
    "        epsilon = tf.keras.backend.random_normal(shape=(batch, dim))\n",
    "        return z_mean + tf.exp(0.5 * z_log_var) * epsilon\n"
   ]
  },
  {
   "cell_type": "markdown",
   "id": "bf196d9d",
   "metadata": {
    "id": "bf196d9d",
    "papermill": {
     "duration": 0.027638,
     "end_time": "2022-03-28T10:31:29.485618",
     "exception": false,
     "start_time": "2022-03-28T10:31:29.457980",
     "status": "completed"
    },
    "tags": []
   },
   "source": [
    "## VAE 모델 구축\n",
    "\n",
    "- 이 모델은 다음과 같이 4가지 손실을 최적화하도록 훈련한다\n",
    " * Categorical crossentropy: 모델의 reconstruction accuracy를 측정\n",
    " * KL divergence loss\n",
    " * Property prediction loss: 속성 예측 모델이 예측한 값과 실제값의 MSE (SAS 등을 예측)\n",
    " * Graph loss (gradient penalty): 신경망의 성능 개선을 위해서 1-Lipschitz continuity 등을 고려 (norm of the gradient가 1 이하가 되도록 제한)"
   ]
  },
  {
   "cell_type": "code",
   "execution_count": 30,
   "id": "47f1ca1f",
   "metadata": {
    "execution": {
     "iopub.execute_input": "2022-03-28T10:31:29.568254Z",
     "iopub.status.busy": "2022-03-28T10:31:29.567482Z",
     "iopub.status.idle": "2022-03-28T10:31:29.570050Z",
     "shell.execute_reply": "2022-03-28T10:31:29.569631Z",
     "shell.execute_reply.started": "2022-03-27T14:43:53.561998Z"
    },
    "id": "47f1ca1f",
    "papermill": {
     "duration": 0.055945,
     "end_time": "2022-03-28T10:31:29.570152",
     "exception": false,
     "start_time": "2022-03-28T10:31:29.514207",
     "status": "completed"
    },
    "tags": []
   },
   "outputs": [],
   "source": [
    "class MoleculeGenerator(keras.Model):\n",
    "    def __init__(self, encoder, decoder, max_len, **kwargs):\n",
    "        super().__init__(**kwargs)\n",
    "        self.encoder = encoder\n",
    "        self.decoder = decoder\n",
    "        self.property_prediction_layer = layers.Dense(1)\n",
    "        self.max_len = max_len\n",
    "\n",
    "        self.train_total_loss_tracker = keras.metrics.Mean(name=\"train_total_loss\")\n",
    "        self.val_total_loss_tracker = keras.metrics.Mean(name=\"val_total_loss\")\n",
    "\n",
    "    def train_step(self, data):\n",
    "        mol_features, mol_property = data\n",
    "        graph_real = mol_features\n",
    "        self.batch_size = tf.shape(mol_property)[0]\n",
    "        with tf.GradientTape() as tape:\n",
    "            z_mean, z_log_var, property_prediction, \\\n",
    "             reconstruction_adjacency, reconstruction_features = self(mol_features,\n",
    "                                                                             training=True)\n",
    "            graph_generated = [reconstruction_adjacency, reconstruction_features]\n",
    "            total_loss = self.calculate_loss(z_log_var,\n",
    "                                             z_mean,\n",
    "                                             mol_property,\n",
    "                                             property_prediction,\n",
    "                                             graph_real,\n",
    "                                             graph_generated,\n",
    "                                             is_train=True)\n",
    "\n",
    "        grads = tape.gradient(total_loss, self.trainable_weights)\n",
    "        self.optimizer.apply_gradients(zip(grads, self.trainable_weights))\n",
    "\n",
    "        self.train_total_loss_tracker.update_state(total_loss)\n",
    "        return {\n",
    "            \"loss\": self.train_total_loss_tracker.result(),\n",
    "        }\n",
    "\n",
    "    def test_step(self, data):\n",
    "        mol_features, mol_property = data\n",
    "        z_mean, z_log_var, property_prediction, \\\n",
    "        reconstruction_adjacency, reconstruction_features = self(mol_features,\n",
    "                                                                training=False)\n",
    "        total_loss = self.calculate_loss(z_log_var,\n",
    "                                        z_mean,\n",
    "                                        mol_property, \n",
    "                                        property_prediction,\n",
    "                                        graph_real=mol_features,\n",
    "                                        graph_generated=[reconstruction_adjacency, \n",
    "                                                         reconstruction_features],\n",
    "                                        is_train=False)\n",
    "\n",
    "        self.val_total_loss_tracker.update_state(total_loss)\n",
    "        return {\n",
    "            \"loss\": self.val_total_loss_tracker.result()\n",
    "        }\n",
    "\n",
    "    def calculate_loss(self,\n",
    "                       z_log_var,\n",
    "                       z_mean,\n",
    "                       mol_property,\n",
    "                       property_prediction,\n",
    "                       graph_real,\n",
    "                       graph_generated,\n",
    "                       is_train):\n",
    "        adjacency_real, features_real = graph_real\n",
    "        adjacency_generated, features_generated = graph_generated\n",
    "        \n",
    "        adjacency_reconstruction_loss = tf.reduce_mean(\n",
    "                tf.reduce_sum(\n",
    "                    keras.losses.categorical_crossentropy(\n",
    "                                                        adjacency_real,\n",
    "                                                        adjacency_generated\n",
    "                                                        ),\n",
    "                                                        axis=(1,2)\n",
    "                    )\n",
    "            )\n",
    "        features_reconstruction_loss = tf.reduce_mean(\n",
    "                tf.reduce_sum(\n",
    "                    keras.losses.categorical_crossentropy(\n",
    "                                                        features_real,\n",
    "                                                        features_generated\n",
    "                                                        ),\n",
    "                                                        axis=(1)\n",
    "                    )\n",
    "            )\n",
    "        kl_loss = -0.5 * tf.reduce_sum(1 + z_log_var - tf.square(z_mean) - tf.exp(z_log_var), 1)\n",
    "        kl_loss = tf.reduce_mean(kl_loss)\n",
    "\n",
    "        property_prediction_loss = tf.reduce_mean(\n",
    "            keras.losses.binary_crossentropy(mol_property, \n",
    "                                                property_prediction)\n",
    "        )\n",
    "\n",
    "        if is_train:\n",
    "            graph_loss = self._gradient_penalty(graph_real, graph_generated)\n",
    "        else:\n",
    "            graph_loss = 0\n",
    "\n",
    "        return kl_loss + property_prediction_loss + graph_loss + adjacency_reconstruction_loss + features_reconstruction_loss\n",
    "\n",
    "    def _gradient_penalty(self, graph_real, graph_generated):\n",
    "        # Unpack graphs\n",
    "        adjacency_real, features_real = graph_real\n",
    "        adjacency_generated, features_generated = graph_generated\n",
    "\n",
    "        # Generate interpolated graphs (adjacency_interp and features_interp)\n",
    "        alpha = tf.random.uniform([self.batch_size])\n",
    "        alpha = tf.reshape(alpha, (self.batch_size, 1, 1, 1))\n",
    "        adjacency_interp = (adjacency_real * alpha) + (1 - alpha) * adjacency_generated\n",
    "        alpha = tf.reshape(alpha, (self.batch_size, 1, 1))\n",
    "        features_interp = (features_real * alpha) + (1 - alpha) * features_generated\n",
    "\n",
    "        # Compute the logits of interpolated graphs\n",
    "        with tf.GradientTape() as tape:\n",
    "            tape.watch(adjacency_interp)\n",
    "            tape.watch(features_interp)\n",
    "            _, _, logits, _,_ = self(\n",
    "                [adjacency_interp, features_interp], training=True\n",
    "            )\n",
    "\n",
    "        # Compute the gradients with respect to the interpolated graphs\n",
    "        grads = tape.gradient(logits, [adjacency_interp, features_interp])\n",
    "        # Compute the gradient penalty\n",
    "        grads_adjacency_penalty = (1 - tf.norm(grads[0], axis=1)) ** 2\n",
    "        grads_features_penalty = (1 - tf.norm(grads[1], axis=2)) ** 2\n",
    "        return tf.reduce_mean(\n",
    "            tf.reduce_mean(grads_adjacency_penalty, axis=(-2, -1))\n",
    "            + tf.reduce_mean(grads_features_penalty, axis=(-1))\n",
    "        )\n",
    "    \n",
    "    def inference(self, batch_size):\n",
    "        z = tf.random.normal((batch_size, LATENT_DIM))\n",
    "        reconstruction_adjacency, reconstruction_features = model.decoder.predict(z)\n",
    "        # obtain one-hot encoded adjacency tensor\n",
    "        adjacency = tf.argmax(reconstruction_adjacency, axis=1)\n",
    "        adjacency = tf.one_hot(adjacency, depth=BOND_DIM, axis=1)\n",
    "        # Remove potential self-loops from adjacency\n",
    "        adjacency = tf.linalg.set_diag(adjacency, tf.zeros(tf.shape(adjacency)[:-1]))\n",
    "        # obtain one-hot encoded feature tensor\n",
    "        features = tf.argmax(reconstruction_features, axis=2)\n",
    "        features = tf.one_hot(features, depth=ATOM_DIM, axis=2)\n",
    "        return [\n",
    "            graph_to_molecule([adjacency[i].numpy(), features[i].numpy()])\n",
    "            for i in range(batch_size)\n",
    "        ]\n",
    "    \n",
    "    def call(self, inputs):\n",
    "        z_mean, log_var = self.encoder(inputs)\n",
    "        z = Sampling()([z_mean, log_var])\n",
    "\n",
    "        reconstruction_adjacency, reconstruction_features = self.decoder(z)\n",
    "\n",
    "        property_prediction = self.property_prediction_layer(z_mean)\n",
    "\n",
    "        return z_mean, log_var, property_prediction, reconstruction_adjacency, reconstruction_features"
   ]
  },
  {
   "cell_type": "markdown",
   "id": "fc80469e",
   "metadata": {
    "id": "fc80469e",
    "papermill": {
     "duration": 0.027567,
     "end_time": "2022-03-28T10:31:29.625813",
     "exception": false,
     "start_time": "2022-03-28T10:31:29.598246",
     "status": "completed"
    },
    "tags": []
   },
   "source": [
    "## Train the model"
   ]
  },
  {
   "cell_type": "code",
   "execution_count": 19,
   "id": "e1abb1e3",
   "metadata": {
    "execution": {
     "iopub.execute_input": "2022-03-28T10:31:29.688047Z",
     "iopub.status.busy": "2022-03-28T10:31:29.687266Z",
     "iopub.status.idle": "2022-03-28T10:31:29.689628Z",
     "shell.execute_reply": "2022-03-28T10:31:29.689174Z",
     "shell.execute_reply.started": "2022-03-27T14:43:53.595292Z"
    },
    "id": "e1abb1e3",
    "papermill": {
     "duration": 0.036225,
     "end_time": "2022-03-28T10:31:29.689736",
     "exception": false,
     "start_time": "2022-03-28T10:31:29.653511",
     "status": "completed"
    },
    "tags": []
   },
   "outputs": [],
   "source": [
    "train_loader = DataGenerator(\n",
    "    data=train_df[:8000],\n",
    "    mapping = SMILE_to_index, \n",
    "    max_len = NUM_ATOMS,\n",
    "    batch_size=BATCH_SIZE\n",
    ")\n",
    "\n",
    "validation_loader = DataGenerator(\n",
    "    data=test_df[:8000],\n",
    "    mapping = SMILE_to_index, \n",
    "    max_len = NUM_ATOMS,\n",
    "    batch_size=BATCH_SIZE\n",
    "    )"
   ]
  },
  {
   "cell_type": "code",
   "execution_count": 20,
   "id": "042c5344",
   "metadata": {
    "colab": {
     "base_uri": "https://localhost:8080/"
    },
    "execution": {
     "iopub.execute_input": "2022-03-28T10:31:29.751478Z",
     "iopub.status.busy": "2022-03-28T10:31:29.750872Z",
     "iopub.status.idle": "2022-03-28T10:37:50.067271Z",
     "shell.execute_reply": "2022-03-28T10:37:50.068000Z",
     "shell.execute_reply.started": "2022-03-27T14:45:51.335657Z"
    },
    "id": "042c5344",
    "outputId": "d9776ea3-d99d-4e84-f37b-3ada501b6991",
    "papermill": {
     "duration": 380.350703,
     "end_time": "2022-03-28T10:37:50.068282",
     "exception": false,
     "start_time": "2022-03-28T10:31:29.717579",
     "status": "completed"
    },
    "tags": []
   },
   "outputs": [
    {
     "name": "stdout",
     "output_type": "stream",
     "text": [
      "Epoch 1/10\n",
      "250/250 [==============================] - 222s 876ms/step - loss: 68937.8037 - val_loss: 68924.9922\n",
      "Epoch 2/10\n",
      "250/250 [==============================] - 217s 867ms/step - loss: 68882.2840 - val_loss: 68837.7344\n",
      "Epoch 3/10\n",
      "250/250 [==============================] - 215s 859ms/step - loss: 68826.0287 - val_loss: 68813.1094\n",
      "Epoch 4/10\n",
      "250/250 [==============================] - 214s 857ms/step - loss: 68812.7076 - val_loss: 68809.1094\n",
      "Epoch 5/10\n",
      "250/250 [==============================] - 216s 864ms/step - loss: 68811.7098 - val_loss: 68805.8672\n",
      "Epoch 6/10\n",
      "250/250 [==============================] - 219s 875ms/step - loss: 68810.3693 - val_loss: 68804.3906\n",
      "Epoch 7/10\n",
      "250/250 [==============================] - 215s 861ms/step - loss: 68816.2316 - val_loss: 68803.4453\n",
      "Epoch 8/10\n",
      "250/250 [==============================] - 214s 856ms/step - loss: 68833.8402 - val_loss: 68805.1094\n",
      "Epoch 9/10\n",
      "250/250 [==============================] - 213s 854ms/step - loss: 68804.1757 - val_loss: 68859.3203\n",
      "Epoch 10/10\n",
      "250/250 [==============================] - 222s 887ms/step - loss: 68821.6366 - val_loss: 68802.6719\n"
     ]
    }
   ],
   "source": [
    "vae_optimizer = tf.keras.optimizers.Adam(\n",
    "    learning_rate=VAE_LR\n",
    ")\n",
    "\n",
    "encoder = get_encoder(\n",
    "    gconv_units=[9],\n",
    "    adjacency_shape=(BOND_DIM, NUM_ATOMS, NUM_ATOMS),\n",
    "    feature_shape=(NUM_ATOMS, ATOM_DIM),\n",
    "    latent_dim=LATENT_DIM,\n",
    "    dense_units=[512],\n",
    "    dropout_rate=0.0,\n",
    ")\n",
    "decoder = get_decoder(\n",
    "    dense_units=[128, 256, 512],\n",
    "    dropout_rate=0.2,\n",
    "    latent_dim=LATENT_DIM,\n",
    "    adjacency_shape=(BOND_DIM, NUM_ATOMS, NUM_ATOMS),\n",
    "    feature_shape=(NUM_ATOMS, ATOM_DIM)\n",
    ")\n",
    "\n",
    "model = MoleculeGenerator(encoder, \n",
    "                          decoder,\n",
    "                          MAX_MOLSIZE)\n",
    "\n",
    "model.compile(vae_optimizer)\n",
    "history = model.fit(train_loader,\n",
    "                    epochs=EPOCHS,\n",
    "                    validation_data=validation_loader)"
   ]
  },
  {
   "cell_type": "code",
   "execution_count": 21,
   "id": "dc9f6319",
   "metadata": {
    "colab": {
     "base_uri": "https://localhost:8080/",
     "height": 295
    },
    "execution": {
     "iopub.execute_input": "2022-03-28T10:37:51.777271Z",
     "iopub.status.busy": "2022-03-28T10:37:51.774098Z",
     "iopub.status.idle": "2022-03-28T10:37:51.971728Z",
     "shell.execute_reply": "2022-03-28T10:37:51.972356Z",
     "shell.execute_reply.started": "2022-03-27T14:57:13.897611Z"
    },
    "id": "dc9f6319",
    "outputId": "dab02e89-3f88-41e7-9ddb-cd50998a447b",
    "papermill": {
     "duration": 1.053027,
     "end_time": "2022-03-28T10:37:51.972530",
     "exception": false,
     "start_time": "2022-03-28T10:37:50.919503",
     "status": "completed"
    },
    "tags": []
   },
   "outputs": [
    {
     "data": {
      "image/png": "[encoded data removed]",
      "text/plain": [
       "<Figure size 432x288 with 1 Axes>"
      ]
     },
     "metadata": {
      "needs_background": "light"
     },
     "output_type": "display_data"
    }
   ],
   "source": [
    "plt.plot(history.history['loss'])\n",
    "plt.plot(history.history['val_loss'])\n",
    "plt.title('VAE Loss')\n",
    "plt.ylabel('Loss')\n",
    "plt.xlabel('epoch')\n",
    "plt.legend(['train', 'val'], loc='upper left')\n",
    "plt.show()"
   ]
  },
  {
   "cell_type": "markdown",
   "id": "fadc626f",
   "metadata": {
    "id": "fadc626f",
    "papermill": {
     "duration": 0.906848,
     "end_time": "2022-03-28T10:37:53.741451",
     "exception": false,
     "start_time": "2022-03-28T10:37:52.834603",
     "status": "completed"
    },
    "tags": []
   },
   "source": [
    "## Model Inferencing\n",
    "\n",
    "- random latent space 입력에 대해서 100개의 새로운 분자를 생성하겠다"
   ]
  },
  {
   "cell_type": "markdown",
   "id": "bee36ff6",
   "metadata": {
    "id": "bee36ff6",
    "papermill": {
     "duration": 0.858124,
     "end_time": "2022-03-28T10:37:55.452351",
     "exception": false,
     "start_time": "2022-03-28T10:37:54.594227",
     "status": "completed"
    },
    "tags": []
   },
   "source": [
    "### Generate unique Molecules with the model"
   ]
  },
  {
   "cell_type": "code",
   "execution_count": null,
   "id": "AH1W1zg9MxDs",
   "metadata": {
    "id": "AH1W1zg9MxDs"
   },
   "outputs": [],
   "source": []
  },
  {
   "cell_type": "code",
   "execution_count": 22,
   "id": "f80f424a",
   "metadata": {
    "colab": {
     "base_uri": "https://localhost:8080/",
     "height": 249
    },
    "execution": {
     "iopub.execute_input": "2022-03-28T10:37:57.165180Z",
     "iopub.status.busy": "2022-03-28T10:37:57.164361Z",
     "iopub.status.idle": "2022-03-28T10:38:03.280232Z",
     "shell.execute_reply": "2022-03-28T10:38:03.280654Z",
     "shell.execute_reply.started": "2022-03-27T14:57:14.121509Z"
    },
    "id": "f80f424a",
    "outputId": "bee889a0-9d45-4ae9-88d3-0a7f343f240d",
    "papermill": {
     "duration": 6.974075,
     "end_time": "2022-03-28T10:38:03.280802",
     "exception": false,
     "start_time": "2022-03-28T10:37:56.306727",
     "status": "completed"
    },
    "tags": []
   },
   "outputs": [
    {
     "name": "stdout",
     "output_type": "stream",
     "text": [
      "32/32 [==============================] - 4s 128ms/step\n"
     ]
    },
    {
     "data": {
      "image/png": "[encoded data removed]",
      "text/plain": [
       "<PIL.PngImagePlugin.PngImageFile image mode=RGB size=1300x320 at 0x7F70D0CC1690>"
      ]
     },
     "execution_count": 22,
     "metadata": {},
     "output_type": "execute_result"
    }
   ],
   "source": [
    "molecules = model.inference(1000)\n",
    "\n",
    "MolsToGridImage(\n",
    "    [m for m in molecules if m is not None][:1000], molsPerRow=5, subImgSize=(260, 160)\n",
    ")"
   ]
  },
  {
   "cell_type": "markdown",
   "id": "dd2ff991",
   "metadata": {
    "id": "dd2ff991",
    "papermill": {
     "duration": 0.845823,
     "end_time": "2022-03-28T10:38:04.976918",
     "exception": false,
     "start_time": "2022-03-28T10:38:04.131095",
     "status": "completed"
    },
    "tags": []
   },
   "source": [
    "### Display latent space clusters with respect to molecular properties (SAS)"
   ]
  },
  {
   "cell_type": "code",
   "execution_count": 23,
   "id": "4e5f6773",
   "metadata": {
    "colab": {
     "base_uri": "https://localhost:8080/",
     "height": 623
    },
    "execution": {
     "iopub.execute_input": "2022-03-28T10:38:06.676710Z",
     "iopub.status.busy": "2022-03-28T10:38:06.675934Z",
     "iopub.status.idle": "2022-03-28T10:38:27.302157Z",
     "shell.execute_reply": "2022-03-28T10:38:27.301713Z",
     "shell.execute_reply.started": "2022-03-27T14:57:16.304136Z"
    },
    "id": "4e5f6773",
    "outputId": "9c64ee30-bfab-4084-8ed6-c9cc16438a76",
    "papermill": {
     "duration": 21.478059,
     "end_time": "2022-03-28T10:38:27.302274",
     "exception": false,
     "start_time": "2022-03-28T10:38:05.824215",
     "status": "completed"
    },
    "tags": []
   },
   "outputs": [
    {
     "name": "stdout",
     "output_type": "stream",
     "text": [
      "250/250 [==============================] - 3s 12ms/step\n"
     ]
    },
    {
     "data": {
      "image/png": "[encoded data removed]",
      "text/plain": [
       "<Figure size 864x720 with 2 Axes>"
      ]
     },
     "metadata": {
      "needs_background": "light"
     },
     "output_type": "display_data"
    }
   ],
   "source": [
    "def plot_label_clusters(vae, data, labels):\n",
    "    # display a 2D plot of the property in the latent space\n",
    "    z_mean, _ = vae.encoder.predict(data)\n",
    "    plt.figure(figsize=(12, 10))\n",
    "    plt.scatter(z_mean[:, 0], z_mean[:, 1], c=labels)\n",
    "    plt.colorbar()\n",
    "    plt.xlabel(\"z[0]\")\n",
    "    plt.ylabel(\"z[1]\")\n",
    "    plt.show()\n",
    "\n",
    "\n",
    "train_data = DataGenerator(\n",
    "                            data=train_df,\n",
    "                            mapping = SMILE_to_index, \n",
    "                            max_len = NUM_ATOMS,\n",
    "                            batch_size=8000\n",
    "                        )\n",
    "x_train, y_train = next(iter(train_data))\n",
    "plot_label_clusters(model, x_train, y_train)"
   ]
  },
  {
   "cell_type": "markdown",
   "id": "0843de08",
   "metadata": {
    "id": "0843de08",
    "papermill": {
     "duration": 0.85701,
     "end_time": "2022-03-28T10:38:29.014490",
     "exception": false,
     "start_time": "2022-03-28T10:38:28.157480",
     "status": "completed"
    },
    "tags": []
   },
   "source": [
    "## Conclusion\n",
    "In this example, we combined model architectures from two papers,\n",
    "\"Automatic chemical design using a data-driven continuous representation of\n",
    "molecules\" from 2016 and the \"MolGAN\" paper from 2018. The former paper\n",
    "treats SMILES inputs as strings and seeks to generate molecule strings in SMILES format,\n",
    "while the later paper considers SMILES inputs as graphs (a combination of adjacency\n",
    "matrices and feature matrices) and seeks to generate molecules as graphs.\n",
    "This hybrid approach enables a new type of directed gradient-based search through chemical space."
   ]
  },
  {
   "cell_type": "code",
   "execution_count": 42,
   "id": "2NFr8qn-OvOB",
   "metadata": {
    "colab": {
     "base_uri": "https://localhost:8080/",
     "height": 463
    },
    "id": "2NFr8qn-OvOB",
    "outputId": "91f96cf2-9287-43d8-d669-0e7020c2bddc"
   },
   "outputs": [
    {
     "name": "stdout",
     "output_type": "stream",
     "text": [
      "32/32 [==============================] - 5s 166ms/step\n"
     ]
    },
    {
     "data": {
      "image/png": "[encoded data removed]",
      "text/plain": [
       "<PIL.PngImagePlugin.PngImageFile image mode=RGB size=1300x640 at 0x7F70CE2887D0>"
      ]
     },
     "execution_count": 42,
     "metadata": {},
     "output_type": "execute_result"
    }
   ],
   "source": [
    "molecules = model.inference(1000)\n",
    "\n",
    "MolsToGridImage(\n",
    "    [m for m in molecules if m is not None][:1000], molsPerRow=5, subImgSize=(260, 160)\n",
    ")"
   ]
  },
  {
   "cell_type": "code",
   "execution_count": 25,
   "id": "0c220d61",
   "metadata": {
    "id": "0c220d61",
    "papermill": {
     "duration": 0.8466,
     "end_time": "2022-03-28T10:38:30.706812",
     "exception": false,
     "start_time": "2022-03-28T10:38:29.860212",
     "status": "completed"
    },
    "tags": []
   },
   "outputs": [],
   "source": [
    "model.save(\"model_pre_2211\")"
   ]
  },
  {
   "cell_type": "code",
   "execution_count": null,
   "id": "dd110543",
   "metadata": {},
   "outputs": [],
   "source": [
    "del MoleculeGenerator"
   ]
  },
  {
   "cell_type": "code",
   "execution_count": 39,
   "id": "-6pqpSe5MZNH",
   "metadata": {
    "id": "-6pqpSe5MZNH"
   },
   "outputs": [],
   "source": [
    "loaded_model = keras.models.load_model(\"model_pre_2211\")"
   ]
  },
  {
   "cell_type": "code",
   "execution_count": 41,
   "id": "GFMEygo9OgPr",
   "metadata": {
    "colab": {
     "base_uri": "https://localhost:8080/"
    },
    "id": "GFMEygo9OgPr",
    "outputId": "46c95940-6ffc-477b-da10-1c6f7b342d30"
   },
   "outputs": [
    {
     "data": {
      "text/plain": [
       "<keras.saving.saved_model.load.MoleculeGenerator at 0x7f70d03be1d0>"
      ]
     },
     "execution_count": 41,
     "metadata": {},
     "output_type": "execute_result"
    }
   ],
   "source": [
    "loaded_model"
   ]
  },
  {
   "cell_type": "code",
   "execution_count": 43,
   "id": "uOyTqlyFMdj7",
   "metadata": {
    "colab": {
     "base_uri": "https://localhost:8080/",
     "height": 236
    },
    "id": "uOyTqlyFMdj7",
    "outputId": "ef3f0a0d-5391-4c65-df9b-dbbf8ac4d66b"
   },
   "outputs": [
    {
     "ename": "AttributeError",
     "evalue": "ignored",
     "output_type": "error",
     "traceback": [
      "\u001b[0;31m---------------------------------------------------------------------------\u001b[0m",
      "\u001b[0;31mAttributeError\u001b[0m                            Traceback (most recent call last)",
      "\u001b[0;32m<ipython-input-43-36c40aa16c27>\u001b[0m in \u001b[0;36m<module>\u001b[0;34m\u001b[0m\n\u001b[0;32m----> 1\u001b[0;31m \u001b[0mmolecules\u001b[0m \u001b[0;34m=\u001b[0m \u001b[0mloaded_model\u001b[0m\u001b[0;34m.\u001b[0m\u001b[0minference\u001b[0m\u001b[0;34m(\u001b[0m\u001b[0;36m1000\u001b[0m\u001b[0;34m)\u001b[0m\u001b[0;34m\u001b[0m\u001b[0;34m\u001b[0m\u001b[0m\n\u001b[0m\u001b[1;32m      2\u001b[0m \u001b[0;34m\u001b[0m\u001b[0m\n\u001b[1;32m      3\u001b[0m MolsToGridImage(\n\u001b[1;32m      4\u001b[0m     \u001b[0;34m[\u001b[0m\u001b[0mm\u001b[0m \u001b[0;32mfor\u001b[0m \u001b[0mm\u001b[0m \u001b[0;32min\u001b[0m \u001b[0mmolecules\u001b[0m \u001b[0;32mif\u001b[0m \u001b[0mm\u001b[0m \u001b[0;32mis\u001b[0m \u001b[0;32mnot\u001b[0m \u001b[0;32mNone\u001b[0m\u001b[0;34m]\u001b[0m\u001b[0;34m[\u001b[0m\u001b[0;34m:\u001b[0m\u001b[0;36m1000\u001b[0m\u001b[0;34m]\u001b[0m\u001b[0;34m,\u001b[0m \u001b[0mmolsPerRow\u001b[0m\u001b[0;34m=\u001b[0m\u001b[0;36m5\u001b[0m\u001b[0;34m,\u001b[0m \u001b[0msubImgSize\u001b[0m\u001b[0;34m=\u001b[0m\u001b[0;34m(\u001b[0m\u001b[0;36m260\u001b[0m\u001b[0;34m,\u001b[0m \u001b[0;36m160\u001b[0m\u001b[0;34m)\u001b[0m\u001b[0;34m\u001b[0m\u001b[0;34m\u001b[0m\u001b[0m\n\u001b[1;32m      5\u001b[0m )\n",
      "\u001b[0;31mAttributeError\u001b[0m: 'MoleculeGenerator' object has no attribute 'inference'"
     ]
    }
   ],
   "source": [
    "molecules = loaded_model.inference(1000)\n",
    "\n",
    "MolsToGridImage(\n",
    "    [m for m in molecules if m is not None][:1000], molsPerRow=5, subImgSize=(260, 160)\n",
    ")"
   ]
  }
 ],
 "metadata": {
  "colab": {
   "collapsed_sections": [],
   "provenance": []
  },
  "kernelspec": {
   "display_name": "Python 3",
   "language": "python",
   "name": "python3"
  },
  "language_info": {
   "codemirror_mode": {
    "name": "ipython",
    "version": 3
   },
   "file_extension": ".py",
   "mimetype": "text/x-python",
   "name": "python",
   "nbconvert_exporter": "python",
   "pygments_lexer": "ipython3",
   "version": "3.8.8"
  },
  "papermill": {
   "default_parameters": {},
   "duration": 451.695384,
   "end_time": "2022-03-28T10:38:34.884667",
   "environment_variables": {},
   "exception": null,
   "input_path": "__notebook__.ipynb",
   "output_path": "__notebook__.ipynb",
   "parameters": {},
   "start_time": "2022-03-28T10:31:03.189283",
   "version": "2.3.3"
  },
  "toc": {
   "base_numbering": 1,
   "nav_menu": {},
   "number_sections": false,
   "sideBar": true,
   "skip_h1_title": false,
   "title_cell": "Table of Contents",
   "title_sidebar": "Contents",
   "toc_cell": false,
   "toc_position": {},
   "toc_section_display": true,
   "toc_window_display": true
  }
 },
 "nbformat": 4,
 "nbformat_minor": 5
}
