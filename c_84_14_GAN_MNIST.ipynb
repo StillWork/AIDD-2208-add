{
  "cells": [
    {
      "cell_type": "markdown",
      "metadata": {
        "id": "view-in-github",
        "colab_type": "text"
      },
      "source": [
        "<a href=\"https://colab.research.google.com/github/StillWork/AIDD-2208-add/blob/main/c_84_14_GAN_MNIST.ipynb\" target=\"_parent\"><img src=\"https://colab.research.google.com/assets/colab-badge.svg\" alt=\"Open In Colab\"/></a>"
      ]
    },
    {
      "cell_type": "markdown",
      "metadata": {
        "id": "_PGI_Rvgr0bo"
      },
      "source": [
        "#  Training a Generative Adversarial Network on MNIST\n",
        "\n",
        "\n",
        "- We will try to train a network to produce new images of handwritten digits."
      ]
    },
    {
      "cell_type": "code",
      "execution_count": 1,
      "metadata": {
        "colab": {
          "base_uri": "https://localhost:8080/",
          "height": 430
        },
        "id": "cyXeZ5zTFkah",
        "outputId": "97c9a5a4-bd80-489d-dd90-4f752320fa04"
      },
      "outputs": [
        {
          "output_type": "stream",
          "name": "stdout",
          "text": [
            "Looking in indexes: https://pypi.org/simple, https://us-python.pkg.dev/colab-wheels/public/simple/\n",
            "Collecting deepchem\n",
            "  Downloading deepchem-2.6.2.dev20221030101451-py3-none-any.whl (693 kB)\n",
            "\u001b[K     |████████████████████████████████| 693 kB 22.3 MB/s \n",
            "\u001b[?25hRequirement already satisfied: numpy>=1.21 in /usr/local/lib/python3.7/dist-packages (from deepchem) (1.21.6)\n",
            "Requirement already satisfied: scipy<1.9 in /usr/local/lib/python3.7/dist-packages (from deepchem) (1.7.3)\n",
            "Requirement already satisfied: pandas in /usr/local/lib/python3.7/dist-packages (from deepchem) (1.3.5)\n",
            "Requirement already satisfied: scikit-learn in /usr/local/lib/python3.7/dist-packages (from deepchem) (1.0.2)\n",
            "Requirement already satisfied: joblib in /usr/local/lib/python3.7/dist-packages (from deepchem) (1.2.0)\n",
            "Collecting rdkit\n",
            "  Downloading rdkit-2022.9.1-cp37-cp37m-manylinux_2_17_x86_64.manylinux2014_x86_64.whl (29.5 MB)\n",
            "\u001b[K     |████████████████████████████████| 29.5 MB 2.1 MB/s \n",
            "\u001b[?25hRequirement already satisfied: pytz>=2017.3 in /usr/local/lib/python3.7/dist-packages (from pandas->deepchem) (2022.5)\n",
            "Requirement already satisfied: python-dateutil>=2.7.3 in /usr/local/lib/python3.7/dist-packages (from pandas->deepchem) (2.8.2)\n",
            "Requirement already satisfied: six>=1.5 in /usr/local/lib/python3.7/dist-packages (from python-dateutil>=2.7.3->pandas->deepchem) (1.15.0)\n",
            "Requirement already satisfied: Pillow in /usr/local/lib/python3.7/dist-packages (from rdkit->deepchem) (7.1.2)\n",
            "Requirement already satisfied: threadpoolctl>=2.0.0 in /usr/local/lib/python3.7/dist-packages (from scikit-learn->deepchem) (3.1.0)\n",
            "Installing collected packages: rdkit, deepchem\n",
            "Successfully installed deepchem-2.6.2.dev20221030101451 rdkit-2022.9.1\n"
          ]
        },
        {
          "output_type": "stream",
          "name": "stderr",
          "text": [
            "WARNING:deepchem.models:Skipped loading some PyTorch models, missing a dependency. No module named 'torch_geometric'\n",
            "WARNING:deepchem.models:Skipped loading some Jax models, missing a dependency. No module named 'haiku'\n"
          ]
        },
        {
          "output_type": "execute_result",
          "data": {
            "text/plain": [
              "'2.6.2.dev'"
            ],
            "application/vnd.google.colaboratory.intrinsic+json": {
              "type": "string"
            }
          },
          "metadata": {},
          "execution_count": 1
        }
      ],
      "source": [
        "!pip install --pre deepchem\n",
        "import deepchem\n",
        "deepchem.__version__"
      ]
    },
    {
      "cell_type": "code",
      "execution_count": 2,
      "metadata": {
        "colab": {
          "base_uri": "https://localhost:8080/"
        },
        "id": "23zZTDoar0b7",
        "outputId": "a1b3ada7-e320-4536-81ee-b91fb0e0d697"
      },
      "outputs": [
        {
          "output_type": "stream",
          "name": "stdout",
          "text": [
            "Downloading data from https://storage.googleapis.com/tensorflow/tf-keras-datasets/mnist.npz\n",
            "11490434/11490434 [==============================] - 0s 0us/step\n"
          ]
        }
      ],
      "source": [
        "import deepchem as dc\n",
        "import tensorflow as tf\n",
        "from deepchem.models.optimizers import ExponentialDecay\n",
        "from tensorflow.keras.layers import Conv2D, Conv2DTranspose, Dense, Reshape\n",
        "import matplotlib.pyplot as plot\n",
        "import matplotlib.gridspec as gridspec\n",
        "%matplotlib inline\n",
        "\n",
        "mnist = tf.keras.datasets.mnist.load_data(path='mnist.npz')\n",
        "images = mnist[0][0].reshape((-1, 28, 28, 1))/255\n",
        "dataset = dc.data.NumpyDataset(images)"
      ]
    },
    {
      "cell_type": "markdown",
      "metadata": {
        "id": "qijPRZXOr0cI"
      },
      "source": [
        "Let's view some of the images to get an idea of what they look like."
      ]
    },
    {
      "cell_type": "code",
      "execution_count": 3,
      "metadata": {
        "colab": {
          "base_uri": "https://localhost:8080/",
          "height": 197
        },
        "id": "mmhulNHor0cK",
        "outputId": "e6281fad-4f05-4380-8ff6-e9ed5b51ae4b"
      },
      "outputs": [
        {
          "output_type": "display_data",
          "data": {
            "text/plain": [
              "<Figure size 216x216 with 16 Axes>"
            ],
            "image/png": "[encoded data removed]"
          },
          "metadata": {}
        }
      ],
      "source": [
        "def plot_digits(im):\n",
        "  plot.figure(figsize=(3, 3))\n",
        "  grid = gridspec.GridSpec(4, 4, wspace=0.05, hspace=0.05)\n",
        "  for i, g in enumerate(grid):\n",
        "    ax = plot.subplot(g)\n",
        "    ax.set_xticks([])\n",
        "    ax.set_yticks([])\n",
        "    ax.imshow(im[i,:,:,0], cmap='gray')\n",
        "\n",
        "plot_digits(images)"
      ]
    },
    {
      "cell_type": "markdown",
      "metadata": {
        "id": "rVeSdnNJr0cV"
      },
      "source": [
        "Now we can create our GAN.  which consists of two parts:\n",
        "\n",
        "1. The generator takes random noise as its input and produces output that will hopefully resemble the training data.\n",
        "2. The discriminator takes a set of samples as input (possibly training data, possibly created by the generator), and tries to determine which are which.\n",
        "\n",
        "- We will use a different style of GAN called a Wasserstein GAN (or WGAN for short).  \n",
        " - Instead of outputting the probability of a sample being real training data, it tries to learn how to measure the distance between the training distribution and generated distribution.  \n",
        " - That measure can then be directly used as a loss function for training the generator.\n",
        "\n",
        "- We use a very simple model.  The generator uses a dense layer to transform the input noise into a 7x7 image with eight channels.  \n",
        " - That is followed by two convolutional layers that upsample it first to 14x14, and finally to 28x28.\n",
        " \n",
        "- The discriminator does roughly the same thing in reverse.  \n",
        " - Two convolutional layers downsample the image first to 14x14, then to 7x7.  \n",
        " - A final dense layer produces a single number as output.  \n",
        " - In WGAN, we instead use a softplus activation.  It produces an unbounded positive number that can be interpreted as a distance."
      ]
    },
    {
      "cell_type": "code",
      "execution_count": 4,
      "metadata": {
        "id": "8zLMNX5Xr0cW",
        "scrolled": true
      },
      "outputs": [],
      "source": [
        "class DigitGAN(dc.models.WGAN):\n",
        "\n",
        "  def get_noise_input_shape(self):\n",
        "    return (10,)\n",
        "\n",
        "  def get_data_input_shapes(self):\n",
        "    return [(28, 28, 1)]\n",
        "\n",
        "  def create_generator(self):\n",
        "    return tf.keras.Sequential([\n",
        "        Dense(7*7*8, activation=tf.nn.relu),\n",
        "        Reshape((7, 7, 8)),\n",
        "        Conv2DTranspose(filters=16, kernel_size=5, strides=2, activation=tf.nn.relu, padding='same'),\n",
        "        Conv2DTranspose(filters=1, kernel_size=5, strides=2, activation=tf.sigmoid, padding='same')\n",
        "    ])\n",
        "\n",
        "  def create_discriminator(self):\n",
        "    return tf.keras.Sequential([\n",
        "        Conv2D(filters=32, kernel_size=5, strides=2, activation=tf.nn.leaky_relu, padding='same'),\n",
        "        Conv2D(filters=64, kernel_size=5, strides=2, activation=tf.nn.leaky_relu, padding='same'),\n",
        "        Dense(1, activation=tf.math.softplus)\n",
        "    ])\n",
        "\n",
        "gan = DigitGAN(learning_rate=ExponentialDecay(0.001, 0.9, 5000))"
      ]
    },
    {
      "cell_type": "markdown",
      "metadata": {
        "id": "69GHTt_2r0cb"
      },
      "source": [
        "- As in the last tutorial, we write a generator to produce data.  This time the data is coming from a dataset, which we loop over 100 times.\n",
        "\n",
        "- In a conventional GAN, it is important to keep the generator and discriminator in balance thoughout training.  If either one gets too far ahead, it becomes very difficult for the other one to learn.\n",
        "\n",
        "- WGANs do not have this problem.  In fact, the better the discriminator gets, the cleaner a signal it provides and the easier it becomes for the generator to learn.  \n",
        "- We therefore specify `generator_steps=0.2` so that it will only take one step of training the generator for every five steps of training the discriminator.  This tends to produce faster training and better results."
      ]
    },
    {
      "cell_type": "code",
      "execution_count": 5,
      "metadata": {
        "colab": {
          "base_uri": "https://localhost:8080/"
        },
        "id": "lP7x5ZT1r0cc",
        "outputId": "31a792c6-35a7-42f3-a464-ec1f095ef9a7"
      },
      "outputs": [
        {
          "output_type": "stream",
          "name": "stdout",
          "text": [
            "Ending global_step 4999: generator average loss 0.384791, discriminator average loss -0.0223226\n",
            "Ending global_step 9999: generator average loss 0.551351, discriminator average loss -0.00680189\n",
            "Ending global_step 14999: generator average loss 0.577895, discriminator average loss -0.00769624\n",
            "Ending global_step 19999: generator average loss 0.560561, discriminator average loss -0.0078209\n",
            "Ending global_step 24999: generator average loss 0.5668, discriminator average loss -0.00756958\n",
            "Ending global_step 29999: generator average loss 0.541152, discriminator average loss -0.00675992\n",
            "Ending global_step 34999: generator average loss 0.510001, discriminator average loss -0.00527643\n",
            "Ending global_step 39999: generator average loss 0.495052, discriminator average loss -0.00558866\n",
            "Ending global_step 44999: generator average loss 0.461401, discriminator average loss -0.00469926\n",
            "Ending global_step 49999: generator average loss 0.455452, discriminator average loss -0.00462207\n",
            "Ending global_step 54999: generator average loss 0.44142, discriminator average loss -0.00475466\n",
            "Ending global_step 59999: generator average loss 0.42706, discriminator average loss -0.00465919\n",
            "TIMING: model fitting took 928.773 s\n"
          ]
        }
      ],
      "source": [
        "def iterbatches(epochs):\n",
        "  for i in range(epochs):\n",
        "    for batch in dataset.iterbatches(batch_size=gan.batch_size):\n",
        "      yield {gan.data_inputs[0]: batch[0]}\n",
        "\n",
        "gan.fit_gan(iterbatches(100), generator_steps=0.2, checkpoint_interval=5000)"
      ]
    },
    {
      "cell_type": "markdown",
      "metadata": {
        "id": "UW60zOZGr0ci"
      },
      "source": [
        "Let's generate some data and see how the results look."
      ]
    },
    {
      "cell_type": "code",
      "execution_count": 6,
      "metadata": {
        "id": "fSQtVhSer0ck",
        "outputId": "cfa6be89-c14f-4a97-fd20-af1fe8a687d1",
        "colab": {
          "base_uri": "https://localhost:8080/",
          "height": 197
        }
      },
      "outputs": [
        {
          "output_type": "display_data",
          "data": {
            "text/plain": [
              "<Figure size 216x216 with 16 Axes>"
            ],
            "image/png": "[encoded data removed]"
          },
          "metadata": {}
        }
      ],
      "source": [
        "plot_digits(gan.predict_gan_generator(batch_size=16))"
      ]
    },
    {
      "cell_type": "markdown",
      "metadata": {
        "id": "etw8X24pr0cr"
      },
      "source": [
        "Not too bad.  Many of the generated images look plausibly like handwritten digits.  A larger model trained for a longer time can do much better, of course."
      ]
    },
    {
      "cell_type": "code",
      "source": [
        "DigitGAN"
      ],
      "metadata": {
        "colab": {
          "base_uri": "https://localhost:8080/"
        },
        "id": "zurHVO3yLKGa",
        "outputId": "6b1f2c8e-d002-4681-a162-ddee7b622665"
      },
      "execution_count": 8,
      "outputs": [
        {
          "output_type": "execute_result",
          "data": {
            "text/plain": [
              "__main__.DigitGAN"
            ]
          },
          "metadata": {},
          "execution_count": 8
        }
      ]
    },
    {
      "cell_type": "code",
      "source": [],
      "metadata": {
        "id": "2tPKuEJ2LLeA"
      },
      "execution_count": null,
      "outputs": []
    }
  ],
  "metadata": {
    "accelerator": "GPU",
    "colab": {
      "provenance": [],
      "collapsed_sections": [],
      "include_colab_link": true
    },
    "kernelspec": {
      "display_name": "Python 3",
      "language": "python",
      "name": "python3"
    },
    "language_info": {
      "codemirror_mode": {
        "name": "ipython",
        "version": 3
      },
      "file_extension": ".py",
      "mimetype": "text/x-python",
      "name": "python",
      "nbconvert_exporter": "python",
      "pygments_lexer": "ipython3",
      "version": "3.8.8"
    },
    "toc": {
      "base_numbering": 1,
      "nav_menu": {},
      "number_sections": false,
      "sideBar": true,
      "skip_h1_title": false,
      "title_cell": "Table of Contents",
      "title_sidebar": "Contents",
      "toc_cell": false,
      "toc_position": {},
      "toc_section_display": true,
      "toc_window_display": false
    }
  },
  "nbformat": 4,
  "nbformat_minor": 0
}