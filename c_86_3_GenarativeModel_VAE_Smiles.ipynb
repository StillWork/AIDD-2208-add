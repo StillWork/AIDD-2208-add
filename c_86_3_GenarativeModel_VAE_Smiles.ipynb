{
  "cells": [
    {
      "cell_type": "markdown",
      "metadata": {
        "id": "view-in-github",
        "colab_type": "text"
      },
      "source": [
        "<a href=\"https://colab.research.google.com/github/StillWork/AIDD-2208-add/blob/main/c_86_3_GenarativeModel_VAE_Smiles.ipynb\" target=\"_parent\"><img src=\"https://colab.research.google.com/assets/colab-badge.svg\" alt=\"Open In Colab\"/></a>"
      ]
    },
    {
      "cell_type": "markdown",
      "metadata": {
        "id": "fgnMjNUfE5wR"
      },
      "source": [
        "# VAE를 이용한 생성 모델\n",
        "- Variational Autoencoder은 오코인코더를 개선하여 평균과 표준편차 두개의 성분을 나타내는 두개의 임베딩 벡터를 생성하게 한다\n",
        "- 이를 이용하면 더 다양한 출력을 생성할 수 있다\n",
        "- 새로운 분자의 구조를 생성하는 모델에 적용할 수 있다\n",
        "- 분자 표현으로 SMILES를 사용하며 **새로운 SMILES**를 얻는다\n",
        " - MolrculeNet이 제공하는 SMILES 데이터셋 MUV 사용 (약 90000개 제공)\n",
        " - Maximum Unbiased Validation(MUV) - 17개의 태스크 포함\n",
        "- [VAE 소개](https://towardsdatascience.com/an-introduction-to-variational-auto-encoders-vaes-803ddfb623df)"
      ]
    },
    {
      "cell_type": "markdown",
      "source": [
        "# import"
      ],
      "metadata": {
        "id": "MZhA5qNTrkWz"
      }
    },
    {
      "cell_type": "code",
      "execution_count": 1,
      "metadata": {
        "colab": {
          "base_uri": "https://localhost:8080/"
        },
        "id": "bsFrs0ChE2Na",
        "outputId": "b6aa3282-9c3d-478f-edf2-f921a30c8b4b"
      },
      "outputs": [
        {
          "output_type": "stream",
          "name": "stdout",
          "text": [
            "Looking in indexes: https://pypi.org/simple, https://us-python.pkg.dev/colab-wheels/public/simple/\n",
            "Collecting DeepChem\n",
            "  Downloading deepchem-2.6.1-py3-none-any.whl (608 kB)\n",
            "\u001b[K     |████████████████████████████████| 608 kB 28.3 MB/s \n",
            "\u001b[?25hRequirement already satisfied: numpy>=1.21 in /usr/local/lib/python3.7/dist-packages (from DeepChem) (1.21.6)\n",
            "Requirement already satisfied: scipy in /usr/local/lib/python3.7/dist-packages (from DeepChem) (1.7.3)\n",
            "Collecting rdkit-pypi\n",
            "  Downloading rdkit_pypi-2022.9.1-cp37-cp37m-manylinux_2_17_x86_64.manylinux2014_x86_64.whl (29.5 MB)\n",
            "\u001b[K     |████████████████████████████████| 29.5 MB 1.4 MB/s \n",
            "\u001b[?25hRequirement already satisfied: pandas in /usr/local/lib/python3.7/dist-packages (from DeepChem) (1.3.5)\n",
            "Requirement already satisfied: scikit-learn in /usr/local/lib/python3.7/dist-packages (from DeepChem) (1.0.2)\n",
            "Requirement already satisfied: joblib in /usr/local/lib/python3.7/dist-packages (from DeepChem) (1.2.0)\n",
            "Requirement already satisfied: python-dateutil>=2.7.3 in /usr/local/lib/python3.7/dist-packages (from pandas->DeepChem) (2.8.2)\n",
            "Requirement already satisfied: pytz>=2017.3 in /usr/local/lib/python3.7/dist-packages (from pandas->DeepChem) (2022.6)\n",
            "Requirement already satisfied: six>=1.5 in /usr/local/lib/python3.7/dist-packages (from python-dateutil>=2.7.3->pandas->DeepChem) (1.15.0)\n",
            "Requirement already satisfied: Pillow in /usr/local/lib/python3.7/dist-packages (from rdkit-pypi->DeepChem) (7.1.2)\n",
            "Requirement already satisfied: threadpoolctl>=2.0.0 in /usr/local/lib/python3.7/dist-packages (from scikit-learn->DeepChem) (3.1.0)\n",
            "Installing collected packages: rdkit-pypi, DeepChem\n",
            "Successfully installed DeepChem-2.6.1 rdkit-pypi-2022.9.1\n"
          ]
        }
      ],
      "source": [
        "!pip install DeepChem"
      ]
    },
    {
      "cell_type": "code",
      "execution_count": 2,
      "metadata": {
        "id": "CLQPMCKMFUnC"
      },
      "outputs": [],
      "source": [
        "import deepchem as dc\n",
        "import tensorflow as tf\n",
        "import tensorflow.keras.layers as layers\n",
        "\n",
        "import pandas as pd\n",
        "import numpy as np\n",
        "%config InlineBackend.figure_format = 'retina'"
      ]
    },
    {
      "cell_type": "markdown",
      "source": [
        "# 데이터 다운로드"
      ],
      "metadata": {
        "id": "D6oRbnyrroRE"
      }
    },
    {
      "cell_type": "code",
      "execution_count": 4,
      "metadata": {
        "collapsed": true,
        "id": "0KPRezLLFvRk",
        "colab": {
          "base_uri": "https://localhost:8080/"
        },
        "outputId": "9f18bed9-cd56-4434-b75a-1d63c3a21b2d"
      },
      "outputs": [
        {
          "output_type": "stream",
          "name": "stdout",
          "text": [
            "['#', '(', ')', '+', '-', '/', '1', '2', '3', '4']\n",
            "82\n"
          ]
        }
      ],
      "source": [
        "tasks, datasets, transformers = dc.molnet.load_muv()\n",
        "train_dataset, valid_dataset, test_dataset = datasets\n",
        "train_smiles = train_dataset.ids\n",
        "\n",
        "# SMILES 문자열의 규칙을 파악: 문자(토큰)의 목록, 문자열의 최대길이 등\n",
        "\n",
        "tokens = set()\n",
        "for s in train_smiles:\n",
        "  tokens = tokens.union(set(s))\n",
        "tokens = sorted(list(tokens))\n",
        "max_length = max(len(s) for s in train_smiles)\n",
        "print(tokens[:10])\n",
        "print(max_length)"
      ]
    },
    {
      "cell_type": "markdown",
      "source": [
        "# 모델 만들기\n",
        "- AspuruGuzikAutoEncoder"
      ],
      "metadata": {
        "id": "s3DoFP-4rrzI"
      }
    },
    {
      "cell_type": "markdown",
      "source": [],
      "metadata": {
        "id": "W0TGWy-1rrus"
      }
    },
    {
      "cell_type": "code",
      "source": [
        "# 모델 만들기\n",
        "# AspuruGuzikAutoEncoder: 인코더는 합성곱신경망을, 디코더는 순환신경망을 사용\n",
        "# 학습속도를 조절하기 위해서 ExponentialDecay를 사용한다\n",
        "# 0.001에서 시작하고 이포크마다 0.95배로 감소시킨다\n",
        "\n",
        "from deepchem.models.optimizers import ExponentialDecay\n",
        "from deepchem.models.seqtoseq import AspuruGuzikAutoEncoder\n",
        "batch_size = 100\n",
        "batches_per_epoch = len(train_smiles)/batch_size\n",
        "learning_rate = ExponentialDecay(0.001, 0.95, batches_per_epoch)\n",
        "model = AspuruGuzikAutoEncoder(tokens, max_length, model_dir='vae', \n",
        "                batch_size=batch_size, learning_rate=learning_rate)\n",
        "\n",
        "# 시퀀스 생성 함수 정의\n",
        "\n",
        "def generate_sequences(epochs):\n",
        "  for i in range(epochs):\n",
        "    for s in train_smiles:\n",
        "      yield (s, s)"
      ],
      "metadata": {
        "id": "kjQQ-phf7Fwa"
      },
      "execution_count": 5,
      "outputs": []
    },
    {
      "cell_type": "markdown",
      "source": [
        "# 모델 학습"
      ],
      "metadata": {
        "id": "1s3YsI3w6lRY"
      }
    },
    {
      "cell_type": "code",
      "source": [
        "# AspuruGuzikAutoEncoder이 제공하는 자체 학습 함수 (이포크수 지정)\n",
        "# 시간이 오래 걸림...\n",
        "\n",
        "# model.fit_sequences(generate_sequences(50)) # 50 이포크 수"
      ],
      "metadata": {
        "id": "J3Eqn49I6kdU"
      },
      "execution_count": null,
      "outputs": []
    },
    {
      "cell_type": "markdown",
      "source": [
        "## 저장한 모델 불러오기"
      ],
      "metadata": {
        "id": "z18VGiON8Kef"
      }
    },
    {
      "cell_type": "code",
      "source": [
        "from google.colab import drive\n",
        "drive.mount('/content/drive')"
      ],
      "metadata": {
        "colab": {
          "base_uri": "https://localhost:8080/"
        },
        "id": "N0KLOwkTQvdl",
        "outputId": "56ba0099-463d-46e6-ada8-942fc010c05d"
      },
      "execution_count": 6,
      "outputs": [
        {
          "output_type": "stream",
          "name": "stdout",
          "text": [
            "Mounted at /content/drive\n"
          ]
        }
      ]
    },
    {
      "cell_type": "code",
      "source": [
        "model = AspuruGuzikAutoEncoder(tokens, max_length, model_dir='/content/drive/MyDrive/vae', \n",
        "                batch_size=batch_size, learning_rate=learning_rate)\n",
        "model.restore()"
      ],
      "metadata": {
        "id": "oYqddCaV8VeZ"
      },
      "execution_count": 7,
      "outputs": []
    },
    {
      "cell_type": "code",
      "execution_count": 20,
      "metadata": {
        "id": "ME5beb7Bp9Ir"
      },
      "outputs": [],
      "source": [
        "# 학습된 모델을 이용하여 새로운 분자를 만든다\n",
        "# 모델에 들어가는 벡터의 크기를 지정한다 (예: 196)\n",
        "# 벡터를 2000개 생성하겠다\n",
        "# 생성된 분자들중 유효한 SMILES를 걸러내기 위해서 RDKit의 MolFromSmiles를 사용한다\n",
        "\n",
        "from rdkit import Chem\n",
        "predictions = model.predict_from_embeddings(np.random.normal(size=(2000,196)))\n",
        "molecules = []\n",
        "for p in predictions:\n",
        "  smiles = ''.join(p)\n",
        "  if Chem.MolFromSmiles(smiles) is not None:\n",
        "    molecules.append(smiles)\n",
        "\n",
        "molecules"
      ]
    },
    {
      "cell_type": "code",
      "execution_count": 21,
      "metadata": {
        "colab": {
          "base_uri": "https://localhost:8080/"
        },
        "id": "x1gPAv-zHvvl",
        "outputId": "313f0a80-da38-43b2-b05a-85d79e354233"
      },
      "outputs": [
        {
          "output_type": "execute_result",
          "data": {
            "text/plain": [
              "['c1ccc(Nc2nnnc(N)nCCC4CCC4cc4nnn4nnnn2)cc1',\n",
              " 'Cn1cnc2n(n2)n2nncnnnnnnnnnc2nnc(C)cc1C']"
            ]
          },
          "metadata": {},
          "execution_count": 21
        }
      ],
      "source": [
        "molecules"
      ]
    },
    {
      "cell_type": "markdown",
      "metadata": {
        "id": "B_dj3l2CH6aH"
      },
      "source": [
        "# 유효성 검사\n",
        "\n",
        "- 생성된 SMILES 들에 대해서 유효하지 않거나 약물로서 가치가 없는 분자를 걸러내야 한다\n",
        "- 제거하고 싶은 분자가 있는지 찾는다\n",
        "- MolFromSmiles()을 사용해 SMILES 문자열들을 분자 객체로 변환한다\n",
        "- 분자의 크기를 확인한다 (10보다 작으면 상호작용에 필요한 에너지가 불충분하고, 50 이상이면 분자의 용해도가 너무 낮아 문제가 된다)\n",
        "- 수소를 제외한 분자의 크기를 GetNumAtoms()로 얻는다\n",
        "- 약물과 얼마나 유사한지를 판단하기 위해서 QED(Quantitave Estimate of Drugness)를 많이 사용한다\n",
        " - QED: 계산된 속성 집합과 판매된 약물의 동일한 특성 분포를 정량화 한 것 (Richard Bickerton 이 제안)\n",
        " - 1에 가까울수록 기존의 약물과 유사하다고 본다\n",
        " - QED > 0.5 인 분자만 고른 후 결과를 시각화 한다"
      ]
    },
    {
      "cell_type": "code",
      "execution_count": 22,
      "metadata": {
        "colab": {
          "base_uri": "https://localhost:8080/"
        },
        "id": "hTAeK7QgRl9u",
        "outputId": "7fa2ce32-711e-4e55-b98e-a83b8ee98a97"
      },
      "outputs": [
        {
          "output_type": "stream",
          "name": "stdout",
          "text": [
            "[28, 29]\n"
          ]
        }
      ],
      "source": [
        "molecules_new = [Chem.MolFromSmiles(x) for x in molecules]\n",
        "print(sorted(x.GetNumAtoms() for x in molecules_new))"
      ]
    },
    {
      "cell_type": "code",
      "execution_count": 23,
      "metadata": {
        "colab": {
          "base_uri": "https://localhost:8080/"
        },
        "id": "RKoLzkWGSPZR",
        "outputId": "bb44f08a-1fa4-426f-e679-86a0daa24762"
      },
      "outputs": [
        {
          "output_type": "stream",
          "name": "stdout",
          "text": [
            "2\n"
          ]
        }
      ],
      "source": [
        "good_mol_list = [x for x in molecules_new if x.GetNumAtoms() > 10 and x.GetNumAtoms() < 50]\n",
        "print(len(good_mol_list))"
      ]
    },
    {
      "cell_type": "code",
      "source": [
        "good_mol_list"
      ],
      "metadata": {
        "colab": {
          "base_uri": "https://localhost:8080/"
        },
        "id": "-Ch_diYxInkE",
        "outputId": "12a9a0fe-45c9-4732-969f-4acc53e34839"
      },
      "execution_count": 24,
      "outputs": [
        {
          "output_type": "execute_result",
          "data": {
            "text/plain": [
              "[<rdkit.Chem.rdchem.Mol at 0x7f93396e6d50>,\n",
              " <rdkit.Chem.rdchem.Mol at 0x7f933c7ba580>]"
            ]
          },
          "metadata": {},
          "execution_count": 24
        }
      ]
    },
    {
      "cell_type": "markdown",
      "source": [
        "## QED 값\n",
        "\n",
        "- 분자가 기존의 Drug들의 특성값과 얼마나 유사한지를 판별하는 값 [참고](https://pubmed.ncbi.nlm.nih.gov/22270643/#&gid=article-figures&pid=figure-2-uid-8)\n",
        "- 아래와 같은 8가지 값들을 얼마나 만족시키는지를 보고 1점이 최고점이 되도록 종합 점수를 계산한 것\n",
        "\n",
        " - Molecular weight (MW)\n",
        " - Lipophilicity (logP)\n",
        " - Number of hydrogen bond donors (HBD)\n",
        " - Number of hydrogen bond acceptors (HBA)\n",
        " - Polar surface area (PSA)\n",
        " - Number of rotatable bonds (ROTB)\n",
        " - Number of aromatic rings (AROM)\n",
        " - Count of alerts for undesirable substructures (ALERTS)"
      ],
      "metadata": {
        "id": "2HGJkBsQtcka"
      }
    },
    {
      "cell_type": "code",
      "execution_count": 25,
      "metadata": {
        "id": "F_6tBZWESl4B"
      },
      "outputs": [],
      "source": [
        "from rdkit.Chem import QED\n",
        "qed_list = [QED.qed(x) for x in good_mol_list]"
      ]
    },
    {
      "cell_type": "code",
      "execution_count": 26,
      "metadata": {
        "colab": {
          "base_uri": "https://localhost:8080/"
        },
        "id": "5sLZAgLLVO0j",
        "outputId": "e552354d-6777-4ffe-a86e-d6acf531cde7"
      },
      "outputs": [
        {
          "output_type": "execute_result",
          "data": {
            "text/plain": [
              "[0.741334113525326, 0.6183753259094891]"
            ]
          },
          "metadata": {},
          "execution_count": 26
        }
      ],
      "source": [
        "qed_list"
      ]
    },
    {
      "cell_type": "code",
      "execution_count": 27,
      "metadata": {
        "colab": {
          "base_uri": "https://localhost:8080/"
        },
        "collapsed": true,
        "id": "bP0R11czVNCf",
        "outputId": "fcf4cd45-31b9-41b0-adfc-3dedced0a244"
      },
      "outputs": [
        {
          "output_type": "execute_result",
          "data": {
            "text/plain": [
              "[(<rdkit.Chem.rdchem.Mol at 0x7f93396e6d50>, 0.741334113525326),\n",
              " (<rdkit.Chem.rdchem.Mol at 0x7f933c7ba580>, 0.6183753259094891)]"
            ]
          },
          "metadata": {},
          "execution_count": 27
        }
      ],
      "source": [
        "final_mol_list = [(a,b) for a,b in zip(good_mol_list, qed_list) if b > 0.5] # \n",
        "final_mol_list"
      ]
    },
    {
      "cell_type": "markdown",
      "source": [
        "## 최종 후보 분자 보기"
      ],
      "metadata": {
        "id": "tDwSXb2LvBr3"
      }
    },
    {
      "cell_type": "markdown",
      "source": [],
      "metadata": {
        "id": "3OeJxJpgvBpX"
      }
    },
    {
      "cell_type": "code",
      "execution_count": 30,
      "metadata": {
        "colab": {
          "base_uri": "https://localhost:8080/",
          "height": 202
        },
        "id": "j4YAr2dH6rX6",
        "outputId": "5599011b-54d3-4731-c03f-03d61176ce06"
      },
      "outputs": [
        {
          "output_type": "execute_result",
          "data": {
            "text/plain": [
              "<PIL.PngImagePlugin.PngImageFile image mode=RGB size=800x200 at 0x7F933C808750>"
            ],
            "image/png": "[encoded data removed]"
          },
          "metadata": {},
          "execution_count": 30
        }
      ],
      "source": [
        "from rdkit.Chem import Draw\n",
        "img=Draw.MolsToGridImage([x[0] for x  in final_mol_list],\n",
        "                         molsPerRow=4,subImgSize=(200,200),\n",
        "                         legends=[f\"{x[1]:.2f}\" for x in final_mol_list])\n",
        "img"
      ]
    }
  ],
  "metadata": {
    "accelerator": "GPU",
    "colab": {
      "provenance": [],
      "toc_visible": true,
      "include_colab_link": true
    },
    "kernelspec": {
      "display_name": "Python 3",
      "language": "python",
      "name": "python3"
    },
    "language_info": {
      "codemirror_mode": {
        "name": "ipython",
        "version": 3
      },
      "file_extension": ".py",
      "mimetype": "text/x-python",
      "name": "python",
      "nbconvert_exporter": "python",
      "pygments_lexer": "ipython3",
      "version": "3.8.8"
    },
    "toc": {
      "base_numbering": 1,
      "nav_menu": {},
      "number_sections": false,
      "sideBar": true,
      "skip_h1_title": false,
      "title_cell": "Table of Contents",
      "title_sidebar": "Contents",
      "toc_cell": false,
      "toc_position": {},
      "toc_section_display": true,
      "toc_window_display": false
    }
  },
  "nbformat": 4,
  "nbformat_minor": 0
}