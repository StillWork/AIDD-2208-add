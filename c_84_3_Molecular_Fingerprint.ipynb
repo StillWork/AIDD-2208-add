{
  "cells": [
    {
      "cell_type": "markdown",
      "metadata": {
        "id": "view-in-github",
        "colab_type": "text"
      },
      "source": [
        "<a href=\"https://colab.research.google.com/github/StillWork/AIDD-2208-add/blob/main/c_84_3_Molecular_Fingerprint.ipynb\" target=\"_parent\"><img src=\"https://colab.research.google.com/assets/colab-badge.svg\" alt=\"Open In Colab\"/></a>"
      ]
    },
    {
      "cell_type": "markdown",
      "metadata": {
        "id": "vPBEqLR3vhGi"
      },
      "source": [
        "# Molecular Fingerprint\n",
        "- 특성 표현법 소개\n",
        "- Fingerprint 설명\n",
        "- MLP 모델을 사용한 12가지 독성 예측 예"
      ]
    },
    {
      "cell_type": "markdown",
      "source": [
        "## Fingerprint\n",
        "\n",
        "- 머신러닝 모델은 규격화된 (약속된 포맷의) 입력을 필요로 한다\n",
        "- 분자는 구성 원자가 모두 달라서 이러한 표현법에 어려움이 있다\n",
        "- Fingerprints는 각 분자의 특성을 일정한 길이의 비트 패턴으로 표현하는 기법이다 \n",
        "- 두 분자의 특성이 유사하다면 Fingerprint의 같은 위치의 비트값이 일치하는 수가 많도록 하였다\n",
        "- Extended Connectivity Fingerprint (ECFP)\n",
        " - 이를 circular fingerprints라고도 부른다\n",
        " - 각 원자의 특성과 결합 등을 기반으로 만들며, 원형으로 주변의 원자들과의 연결 정보를 추가하여 특성을 업데이트 하는 방식이다\n",
        " - 보통 2회 수행한다"
      ],
      "metadata": {
        "id": "33GUzC-DRs3f"
      }
    },
    {
      "cell_type": "markdown",
      "metadata": {
        "id": "3AekahYATKm2"
      },
      "source": [
        "# import"
      ]
    },
    {
      "cell_type": "code",
      "source": [
        "!pip install deepchem"
      ],
      "metadata": {
        "colab": {
          "base_uri": "https://localhost:8080/"
        },
        "id": "t6BXKf09Tw9z",
        "outputId": "6f1a8932-11f9-4a36-c531-bc91c5e120e7"
      },
      "execution_count": 1,
      "outputs": [
        {
          "output_type": "stream",
          "name": "stdout",
          "text": [
            "Looking in indexes: https://pypi.org/simple, https://us-python.pkg.dev/colab-wheels/public/simple/\n",
            "Collecting deepchem\n",
            "  Downloading deepchem-2.6.1-py3-none-any.whl (608 kB)\n",
            "\u001b[K     |████████████████████████████████| 608 kB 28.2 MB/s \n",
            "\u001b[?25hRequirement already satisfied: numpy>=1.21 in /usr/local/lib/python3.7/dist-packages (from deepchem) (1.21.6)\n",
            "Requirement already satisfied: joblib in /usr/local/lib/python3.7/dist-packages (from deepchem) (1.1.0)\n",
            "Requirement already satisfied: pandas in /usr/local/lib/python3.7/dist-packages (from deepchem) (1.3.5)\n",
            "Collecting rdkit-pypi\n",
            "  Downloading rdkit_pypi-2022.3.5-cp37-cp37m-manylinux_2_17_x86_64.manylinux2014_x86_64.whl (36.8 MB)\n",
            "\u001b[K     |████████████████████████████████| 36.8 MB 39 kB/s \n",
            "\u001b[?25hRequirement already satisfied: scipy in /usr/local/lib/python3.7/dist-packages (from deepchem) (1.7.3)\n",
            "Requirement already satisfied: scikit-learn in /usr/local/lib/python3.7/dist-packages (from deepchem) (1.0.2)\n",
            "Requirement already satisfied: pytz>=2017.3 in /usr/local/lib/python3.7/dist-packages (from pandas->deepchem) (2022.2.1)\n",
            "Requirement already satisfied: python-dateutil>=2.7.3 in /usr/local/lib/python3.7/dist-packages (from pandas->deepchem) (2.8.2)\n",
            "Requirement already satisfied: six>=1.5 in /usr/local/lib/python3.7/dist-packages (from python-dateutil>=2.7.3->pandas->deepchem) (1.15.0)\n",
            "Requirement already satisfied: Pillow in /usr/local/lib/python3.7/dist-packages (from rdkit-pypi->deepchem) (7.1.2)\n",
            "Requirement already satisfied: threadpoolctl>=2.0.0 in /usr/local/lib/python3.7/dist-packages (from scikit-learn->deepchem) (3.1.0)\n",
            "Installing collected packages: rdkit-pypi, deepchem\n",
            "Successfully installed deepchem-2.6.1 rdkit-pypi-2022.3.5\n"
          ]
        }
      ]
    },
    {
      "cell_type": "code",
      "source": [
        "import deepchem as dc\n",
        "from rdkit import Chem\n",
        "from rdkit.Chem import Draw\n",
        "from rdkit.Chem.Draw import IPythonConsole\n",
        "from rdkit.Chem import Descriptors\n",
        "from rdkit.Chem import AllChem\n",
        "from rdkit import DataStructs\n",
        "import numpy as np\n",
        "import pandas as pd\n",
        "IPythonConsole.ipython_useSVG=True\n",
        "%config InlineBackend.figure_format = 'retina'"
      ],
      "metadata": {
        "id": "NLGYYvlNT4rD"
      },
      "execution_count": 2,
      "outputs": []
    },
    {
      "cell_type": "markdown",
      "metadata": {
        "id": "kHEuvxanmpbj"
      },
      "source": [
        "# FingerPrint 생성 방법"
      ]
    },
    {
      "cell_type": "markdown",
      "source": [
        "## 샘플 smiles"
      ],
      "metadata": {
        "id": "2WUNRItiNGjH"
      }
    },
    {
      "cell_type": "code",
      "source": [
        "smiles_list = ['C(C(=O)O)N', 'N[C@@H](CC1=CC=CC=C1)C(O)=O', 'O=C([C@H](CC1=CNC=N1)N)O', 'C([C@@H](C(=O)O)N)S']\n",
        "mol_list = []\n",
        "for smiles in smiles_list:\n",
        "  mol = Chem.MolFromSmiles(smiles)\n",
        "  mol_list.append(mol)\n",
        "img = Draw.MolsToGridImage(mol_list, molsPerRow=4)\n",
        "img"
      ],
      "metadata": {
        "colab": {
          "base_uri": "https://localhost:8080/",
          "height": 240
        },
        "id": "Qtvb7PRBM_zw",
        "outputId": "118ea7a2-afc2-46c0-c0c0-f382ad2f1e79"
      },
      "execution_count": 3,
      "outputs": [
        {
          "output_type": "execute_result",
          "data": {
            "text/plain": [
              "<IPython.core.display.SVG object>"
            ],
            "image/svg+xml": "<svg baseProfile=\"full\" height=\"200px\" version=\"1.1\" viewBox=\"0 0 800 200\" width=\"800px\" xml:space=\"preserve\" xmlns=\"http://www.w3.org/2000/svg\" xmlns:rdkit=\"http://www.rdkit.org/xml\" xmlns:xlink=\"http://www.w3.org/1999/xlink\">\n<!-- END OF HEADER -->\n<rect height=\"200.0\" style=\"opacity:1.0;fill:#FFFFFF;stroke:none\" width=\"800.0\" x=\"0.0\" y=\"0.0\"> </rect>\n<path class=\"bond-0 atom-0 atom-1\" d=\"M 88.4,123.7 L 115.9,107.9\" style=\"fill:none;fill-rule:evenodd;stroke:#000000;stroke-width:2.0px;stroke-linecap:butt;stroke-linejoin:miter;stroke-opacity:1\"/>\n<path class=\"bond-1 atom-1 atom-2\" d=\"M 112.7,107.9 L 112.7,94.9\" style=\"fill:none;fill-rule:evenodd;stroke:#000000;stroke-width:2.0px;stroke-linecap:butt;stroke-linejoin:miter;stroke-opacity:1\"/>\n<path class=\"bond-1 atom-1 atom-2\" d=\"M 112.7,94.9 L 112.7,81.8\" style=\"fill:none;fill-rule:evenodd;stroke:#FF0000;stroke-width:2.0px;stroke-linecap:butt;stroke-linejoin:miter;stroke-opacity:1\"/>\n<path class=\"bond-1 atom-1 atom-2\" d=\"M 119.0,107.9 L 119.0,94.9\" style=\"fill:none;fill-rule:evenodd;stroke:#000000;stroke-width:2.0px;stroke-linecap:butt;stroke-linejoin:miter;stroke-opacity:1\"/>\n<path class=\"bond-1 atom-1 atom-2\" d=\"M 119.0,94.9 L 119.0,81.8\" style=\"fill:none;fill-rule:evenodd;stroke:#FF0000;stroke-width:2.0px;stroke-linecap:butt;stroke-linejoin:miter;stroke-opacity:1\"/>\n<path class=\"bond-2 atom-1 atom-3\" d=\"M 115.9,107.9 L 127.0,114.3\" style=\"fill:none;fill-rule:evenodd;stroke:#000000;stroke-width:2.0px;stroke-linecap:butt;stroke-linejoin:miter;stroke-opacity:1\"/>\n<path class=\"bond-2 atom-1 atom-3\" d=\"M 127.0,114.3 L 138.2,120.8\" style=\"fill:none;fill-rule:evenodd;stroke:#FF0000;stroke-width:2.0px;stroke-linecap:butt;stroke-linejoin:miter;stroke-opacity:1\"/>\n<path class=\"bond-3 atom-0 atom-4\" d=\"M 88.4,123.7 L 76.8,117.1\" style=\"fill:none;fill-rule:evenodd;stroke:#000000;stroke-width:2.0px;stroke-linecap:butt;stroke-linejoin:miter;stroke-opacity:1\"/>\n<path class=\"bond-3 atom-0 atom-4\" d=\"M 76.8,117.1 L 65.3,110.4\" style=\"fill:none;fill-rule:evenodd;stroke:#0000FF;stroke-width:2.0px;stroke-linecap:butt;stroke-linejoin:miter;stroke-opacity:1\"/>\n<path class=\"atom-2\" d=\"M 111.7 76.1 Q 111.7 74.0, 112.8 72.8 Q 113.9 71.6, 115.9 71.6 Q 117.9 71.6, 118.9 72.8 Q 120.0 74.0, 120.0 76.1 Q 120.0 78.3, 118.9 79.6 Q 117.8 80.8, 115.9 80.8 Q 113.9 80.8, 112.8 79.6 Q 111.7 78.3, 111.7 76.1 M 115.9 79.8 Q 117.2 79.8, 118.0 78.9 Q 118.7 77.9, 118.7 76.1 Q 118.7 74.4, 118.0 73.5 Q 117.2 72.6, 115.9 72.6 Q 114.5 72.6, 113.7 73.5 Q 113.0 74.4, 113.0 76.1 Q 113.0 78.0, 113.7 78.9 Q 114.5 79.8, 115.9 79.8 \" fill=\"#FF0000\"/>\n<path class=\"atom-3\" d=\"M 139.2 123.8 Q 139.2 121.6, 140.3 120.4 Q 141.4 119.2, 143.4 119.2 Q 145.4 119.2, 146.4 120.4 Q 147.5 121.6, 147.5 123.8 Q 147.5 126.0, 146.4 127.2 Q 145.3 128.4, 143.4 128.4 Q 141.4 128.4, 140.3 127.2 Q 139.2 126.0, 139.2 123.8 M 143.4 127.4 Q 144.7 127.4, 145.5 126.5 Q 146.2 125.6, 146.2 123.8 Q 146.2 122.0, 145.5 121.1 Q 144.7 120.2, 143.4 120.2 Q 142.0 120.2, 141.2 121.1 Q 140.5 122.0, 140.5 123.8 Q 140.5 125.6, 141.2 126.5 Q 142.0 127.4, 143.4 127.4 \" fill=\"#FF0000\"/>\n<path class=\"atom-3\" d=\"M 148.1 119.3 L 149.3 119.3 L 149.3 123.1 L 153.9 123.1 L 153.9 119.3 L 155.2 119.3 L 155.2 128.3 L 153.9 128.3 L 153.9 124.1 L 149.3 124.1 L 149.3 128.3 L 148.1 128.3 L 148.1 119.3 \" fill=\"#FF0000\"/>\n<path class=\"atom-4\" d=\"M 44.8 103.4 L 46.1 103.4 L 46.1 107.2 L 50.7 107.2 L 50.7 103.4 L 51.9 103.4 L 51.9 112.4 L 50.7 112.4 L 50.7 108.2 L 46.1 108.2 L 46.1 112.4 L 44.8 112.4 L 44.8 103.4 \" fill=\"#0000FF\"/>\n<path class=\"atom-4\" d=\"M 53.0 112.1 Q 53.2 111.5, 53.7 111.2 Q 54.2 110.9, 54.9 110.9 Q 55.8 110.9, 56.3 111.3 Q 56.8 111.8, 56.8 112.7 Q 56.8 113.6, 56.2 114.4 Q 55.5 115.2, 54.2 116.2 L 56.9 116.2 L 56.9 116.9 L 52.9 116.9 L 52.9 116.3 Q 54.1 115.5, 54.7 114.9 Q 55.4 114.3, 55.7 113.8 Q 56.0 113.3, 56.0 112.7 Q 56.0 112.2, 55.7 111.8 Q 55.4 111.5, 54.9 111.5 Q 54.5 111.5, 54.1 111.7 Q 53.8 111.9, 53.6 112.3 L 53.0 112.1 \" fill=\"#0000FF\"/>\n<path class=\"atom-4\" d=\"M 58.9 103.4 L 61.8 108.1 Q 62.1 108.6, 62.6 109.5 Q 63.1 110.3, 63.1 110.4 L 63.1 103.4 L 64.3 103.4 L 64.3 112.4 L 63.0 112.4 L 59.9 107.2 Q 59.5 106.5, 59.1 105.8 Q 58.7 105.2, 58.6 104.9 L 58.6 112.4 L 57.5 112.4 L 57.5 103.4 L 58.9 103.4 \" fill=\"#0000FF\"/>\n<path class=\"bond-0 atom-1 atom-0\" d=\"M 275.5,95.7 L 277.1,83.2 L 280.2,84.0 Z\" style=\"fill:#000000;fill-rule:evenodd;fill-opacity:1;stroke:#000000;stroke-width:1.0px;stroke-linecap:butt;stroke-linejoin:miter;stroke-opacity:1;\"/>\n<path class=\"bond-0 atom-1 atom-0\" d=\"M 277.1,83.2 L 284.9,72.4 L 278.7,70.8 Z\" style=\"fill:#0000FF;fill-rule:evenodd;fill-opacity:1;stroke:#0000FF;stroke-width:1.0px;stroke-linecap:butt;stroke-linejoin:miter;stroke-opacity:1;\"/>\n<path class=\"bond-0 atom-1 atom-0\" d=\"M 277.1,83.2 L 280.2,84.0 L 284.9,72.4 Z\" style=\"fill:#0000FF;fill-rule:evenodd;fill-opacity:1;stroke:#0000FF;stroke-width:1.0px;stroke-linecap:butt;stroke-linejoin:miter;stroke-opacity:1;\"/>\n<path class=\"bond-1 atom-1 atom-2\" d=\"M 275.5,95.7 L 298.1,118.0\" style=\"fill:none;fill-rule:evenodd;stroke:#000000;stroke-width:2.0px;stroke-linecap:butt;stroke-linejoin:miter;stroke-opacity:1\"/>\n<path class=\"bond-2 atom-2 atom-3\" d=\"M 298.1,118.0 L 328.7,109.6\" style=\"fill:none;fill-rule:evenodd;stroke:#000000;stroke-width:2.0px;stroke-linecap:butt;stroke-linejoin:miter;stroke-opacity:1\"/>\n<path class=\"bond-3 atom-3 atom-4\" d=\"M 328.7,109.6 L 336.7,78.9\" style=\"fill:none;fill-rule:evenodd;stroke:#000000;stroke-width:2.0px;stroke-linecap:butt;stroke-linejoin:miter;stroke-opacity:1\"/>\n<path class=\"bond-3 atom-3 atom-4\" d=\"M 336.1,106.6 L 341.7,85.1\" style=\"fill:none;fill-rule:evenodd;stroke:#000000;stroke-width:2.0px;stroke-linecap:butt;stroke-linejoin:miter;stroke-opacity:1\"/>\n<path class=\"bond-4 atom-4 atom-5\" d=\"M 336.7,78.9 L 367.4,70.5\" style=\"fill:none;fill-rule:evenodd;stroke:#000000;stroke-width:2.0px;stroke-linecap:butt;stroke-linejoin:miter;stroke-opacity:1\"/>\n<path class=\"bond-5 atom-5 atom-6\" d=\"M 367.4,70.5 L 390.0,92.8\" style=\"fill:none;fill-rule:evenodd;stroke:#000000;stroke-width:2.0px;stroke-linecap:butt;stroke-linejoin:miter;stroke-opacity:1\"/>\n<path class=\"bond-5 atom-5 atom-6\" d=\"M 366.3,78.3 L 382.1,94.0\" style=\"fill:none;fill-rule:evenodd;stroke:#000000;stroke-width:2.0px;stroke-linecap:butt;stroke-linejoin:miter;stroke-opacity:1\"/>\n<path class=\"bond-6 atom-6 atom-7\" d=\"M 390.0,92.8 L 381.9,123.5\" style=\"fill:none;fill-rule:evenodd;stroke:#000000;stroke-width:2.0px;stroke-linecap:butt;stroke-linejoin:miter;stroke-opacity:1\"/>\n<path class=\"bond-7 atom-7 atom-8\" d=\"M 381.9,123.5 L 351.3,131.9\" style=\"fill:none;fill-rule:evenodd;stroke:#000000;stroke-width:2.0px;stroke-linecap:butt;stroke-linejoin:miter;stroke-opacity:1\"/>\n<path class=\"bond-7 atom-7 atom-8\" d=\"M 375.7,118.7 L 354.2,124.5\" style=\"fill:none;fill-rule:evenodd;stroke:#000000;stroke-width:2.0px;stroke-linecap:butt;stroke-linejoin:miter;stroke-opacity:1\"/>\n<path class=\"bond-8 atom-1 atom-9\" d=\"M 275.5,95.7 L 244.9,104.1\" style=\"fill:none;fill-rule:evenodd;stroke:#000000;stroke-width:2.0px;stroke-linecap:butt;stroke-linejoin:miter;stroke-opacity:1\"/>\n<path class=\"bond-9 atom-9 atom-10\" d=\"M 244.9,104.1 L 236.2,95.5\" style=\"fill:none;fill-rule:evenodd;stroke:#000000;stroke-width:2.0px;stroke-linecap:butt;stroke-linejoin:miter;stroke-opacity:1\"/>\n<path class=\"bond-9 atom-9 atom-10\" d=\"M 236.2,95.5 L 227.5,86.9\" style=\"fill:none;fill-rule:evenodd;stroke:#FF0000;stroke-width:2.0px;stroke-linecap:butt;stroke-linejoin:miter;stroke-opacity:1\"/>\n<path class=\"bond-10 atom-9 atom-11\" d=\"M 247.9,104.9 L 244.7,117.5\" style=\"fill:none;fill-rule:evenodd;stroke:#000000;stroke-width:2.0px;stroke-linecap:butt;stroke-linejoin:miter;stroke-opacity:1\"/>\n<path class=\"bond-10 atom-9 atom-11\" d=\"M 244.7,117.5 L 241.4,130.0\" style=\"fill:none;fill-rule:evenodd;stroke:#FF0000;stroke-width:2.0px;stroke-linecap:butt;stroke-linejoin:miter;stroke-opacity:1\"/>\n<path class=\"bond-10 atom-9 atom-11\" d=\"M 241.8,103.3 L 238.5,115.9\" style=\"fill:none;fill-rule:evenodd;stroke:#000000;stroke-width:2.0px;stroke-linecap:butt;stroke-linejoin:miter;stroke-opacity:1\"/>\n<path class=\"bond-10 atom-9 atom-11\" d=\"M 238.5,115.9 L 235.2,128.4\" style=\"fill:none;fill-rule:evenodd;stroke:#FF0000;stroke-width:2.0px;stroke-linecap:butt;stroke-linejoin:miter;stroke-opacity:1\"/>\n<path class=\"bond-11 atom-8 atom-3\" d=\"M 351.3,131.9 L 328.7,109.6\" style=\"fill:none;fill-rule:evenodd;stroke:#000000;stroke-width:2.0px;stroke-linecap:butt;stroke-linejoin:miter;stroke-opacity:1\"/>\n<path class=\"atom-0\" d=\"M 281.5 60.5 L 284.5 65.2 Q 284.8 65.7, 285.3 66.6 Q 285.7 67.4, 285.7 67.5 L 285.7 60.5 L 286.9 60.5 L 286.9 69.5 L 285.7 69.5 L 282.5 64.3 Q 282.2 63.7, 281.8 63.0 Q 281.4 62.3, 281.3 62.0 L 281.3 69.5 L 280.1 69.5 L 280.1 60.5 L 281.5 60.5 \" fill=\"#0000FF\"/>\n<path class=\"atom-0\" d=\"M 288.0 60.5 L 289.2 60.5 L 289.2 64.3 L 293.8 64.3 L 293.8 60.5 L 295.0 60.5 L 295.0 69.5 L 293.8 69.5 L 293.8 65.3 L 289.2 65.3 L 289.2 69.5 L 288.0 69.5 L 288.0 60.5 \" fill=\"#0000FF\"/>\n<path class=\"atom-0\" d=\"M 296.1 69.2 Q 296.3 68.6, 296.9 68.3 Q 297.4 68.0, 298.1 68.0 Q 299.0 68.0, 299.5 68.5 Q 300.0 68.9, 300.0 69.8 Q 300.0 70.7, 299.4 71.5 Q 298.7 72.3, 297.4 73.3 L 300.1 73.3 L 300.1 74.0 L 296.1 74.0 L 296.1 73.4 Q 297.2 72.6, 297.9 72.0 Q 298.5 71.4, 298.9 70.9 Q 299.2 70.4, 299.2 69.8 Q 299.2 69.3, 298.9 69.0 Q 298.6 68.6, 298.1 68.6 Q 297.6 68.6, 297.3 68.8 Q 297.0 69.0, 296.8 69.5 L 296.1 69.2 \" fill=\"#0000FF\"/>\n<path class=\"atom-10\" d=\"M 210.0 77.3 L 211.3 77.3 L 211.3 81.2 L 215.9 81.2 L 215.9 77.3 L 217.1 77.3 L 217.1 86.3 L 215.9 86.3 L 215.9 82.2 L 211.3 82.2 L 211.3 86.3 L 210.0 86.3 L 210.0 77.3 \" fill=\"#FF0000\"/>\n<path class=\"atom-10\" d=\"M 218.2 81.8 Q 218.2 79.7, 219.2 78.5 Q 220.3 77.2, 222.3 77.2 Q 224.3 77.2, 225.3 78.5 Q 226.4 79.7, 226.4 81.8 Q 226.4 84.0, 225.3 85.2 Q 224.3 86.5, 222.3 86.5 Q 220.3 86.5, 219.2 85.2 Q 218.2 84.0, 218.2 81.8 M 222.3 85.5 Q 223.7 85.5, 224.4 84.5 Q 225.1 83.6, 225.1 81.8 Q 225.1 80.1, 224.4 79.2 Q 223.7 78.3, 222.3 78.3 Q 220.9 78.3, 220.2 79.1 Q 219.4 80.0, 219.4 81.8 Q 219.4 83.6, 220.2 84.5 Q 220.9 85.5, 222.3 85.5 \" fill=\"#FF0000\"/>\n<path class=\"atom-11\" d=\"M 232.7 134.9 Q 232.7 132.7, 233.8 131.5 Q 234.9 130.3, 236.8 130.3 Q 238.8 130.3, 239.9 131.5 Q 241.0 132.7, 241.0 134.9 Q 241.0 137.0, 239.9 138.3 Q 238.8 139.5, 236.8 139.5 Q 234.9 139.5, 233.8 138.3 Q 232.7 137.1, 232.7 134.9 M 236.8 138.5 Q 238.2 138.5, 239.0 137.6 Q 239.7 136.7, 239.7 134.9 Q 239.7 133.1, 239.0 132.2 Q 238.2 131.3, 236.8 131.3 Q 235.5 131.3, 234.7 132.2 Q 234.0 133.1, 234.0 134.9 Q 234.0 136.7, 234.7 137.6 Q 235.5 138.5, 236.8 138.5 \" fill=\"#FF0000\"/>\n<path class=\"bond-0 atom-0 atom-1\" d=\"M 434.8,128.7 L 437.9,116.1\" style=\"fill:none;fill-rule:evenodd;stroke:#FF0000;stroke-width:2.0px;stroke-linecap:butt;stroke-linejoin:miter;stroke-opacity:1\"/>\n<path class=\"bond-0 atom-0 atom-1\" d=\"M 437.9,116.1 L 441.1,103.5\" style=\"fill:none;fill-rule:evenodd;stroke:#000000;stroke-width:2.0px;stroke-linecap:butt;stroke-linejoin:miter;stroke-opacity:1\"/>\n<path class=\"bond-0 atom-0 atom-1\" d=\"M 440.9,130.3 L 444.1,117.6\" style=\"fill:none;fill-rule:evenodd;stroke:#FF0000;stroke-width:2.0px;stroke-linecap:butt;stroke-linejoin:miter;stroke-opacity:1\"/>\n<path class=\"bond-0 atom-0 atom-1\" d=\"M 444.1,117.6 L 447.2,105.0\" style=\"fill:none;fill-rule:evenodd;stroke:#000000;stroke-width:2.0px;stroke-linecap:butt;stroke-linejoin:miter;stroke-opacity:1\"/>\n<path class=\"bond-1 atom-1 atom-2\" d=\"M 444.2,104.3 L 474.7,95.5\" style=\"fill:none;fill-rule:evenodd;stroke:#000000;stroke-width:2.0px;stroke-linecap:butt;stroke-linejoin:miter;stroke-opacity:1\"/>\n<path class=\"bond-2 atom-2 atom-3\" d=\"M 474.7,95.5 L 497.5,117.6\" style=\"fill:none;fill-rule:evenodd;stroke:#000000;stroke-width:2.0px;stroke-linecap:butt;stroke-linejoin:miter;stroke-opacity:1\"/>\n<path class=\"bond-3 atom-3 atom-4\" d=\"M 497.5,117.6 L 528.1,108.9\" style=\"fill:none;fill-rule:evenodd;stroke:#000000;stroke-width:2.0px;stroke-linecap:butt;stroke-linejoin:miter;stroke-opacity:1\"/>\n<path class=\"bond-4 atom-4 atom-5\" d=\"M 528.1,108.9 L 553.1,128.5\" style=\"fill:none;fill-rule:evenodd;stroke:#000000;stroke-width:2.0px;stroke-linecap:butt;stroke-linejoin:miter;stroke-opacity:1\"/>\n<path class=\"bond-4 atom-4 atom-5\" d=\"M 535.7,106.8 L 553.2,120.5\" style=\"fill:none;fill-rule:evenodd;stroke:#000000;stroke-width:2.0px;stroke-linecap:butt;stroke-linejoin:miter;stroke-opacity:1\"/>\n<path class=\"bond-5 atom-5 atom-6\" d=\"M 553.1,128.5 L 564.0,121.1\" style=\"fill:none;fill-rule:evenodd;stroke:#000000;stroke-width:2.0px;stroke-linecap:butt;stroke-linejoin:miter;stroke-opacity:1\"/>\n<path class=\"bond-5 atom-5 atom-6\" d=\"M 564.0,121.1 L 574.9,113.7\" style=\"fill:none;fill-rule:evenodd;stroke:#0000FF;stroke-width:2.0px;stroke-linecap:butt;stroke-linejoin:miter;stroke-opacity:1\"/>\n<path class=\"bond-6 atom-6 atom-7\" d=\"M 577.8,105.2 L 574.2,92.7\" style=\"fill:none;fill-rule:evenodd;stroke:#0000FF;stroke-width:2.0px;stroke-linecap:butt;stroke-linejoin:miter;stroke-opacity:1\"/>\n<path class=\"bond-6 atom-6 atom-7\" d=\"M 574.2,92.7 L 570.7,80.2\" style=\"fill:none;fill-rule:evenodd;stroke:#000000;stroke-width:2.0px;stroke-linecap:butt;stroke-linejoin:miter;stroke-opacity:1\"/>\n<path class=\"bond-7 atom-7 atom-8\" d=\"M 570.7,80.2 L 557.0,79.7\" style=\"fill:none;fill-rule:evenodd;stroke:#000000;stroke-width:2.0px;stroke-linecap:butt;stroke-linejoin:miter;stroke-opacity:1\"/>\n<path class=\"bond-7 atom-7 atom-8\" d=\"M 557.0,79.7 L 543.4,79.2\" style=\"fill:none;fill-rule:evenodd;stroke:#0000FF;stroke-width:2.0px;stroke-linecap:butt;stroke-linejoin:miter;stroke-opacity:1\"/>\n<path class=\"bond-7 atom-7 atom-8\" d=\"M 566.4,86.4 L 556.8,86.0\" style=\"fill:none;fill-rule:evenodd;stroke:#000000;stroke-width:2.0px;stroke-linecap:butt;stroke-linejoin:miter;stroke-opacity:1\"/>\n<path class=\"bond-7 atom-7 atom-8\" d=\"M 556.8,86.0 L 547.3,85.7\" style=\"fill:none;fill-rule:evenodd;stroke:#0000FF;stroke-width:2.0px;stroke-linecap:butt;stroke-linejoin:miter;stroke-opacity:1\"/>\n<path class=\"bond-8 atom-2 atom-9\" d=\"M 474.7,95.5 L 476.2,83.0 L 479.3,83.8 Z\" style=\"fill:#000000;fill-rule:evenodd;fill-opacity:1;stroke:#000000;stroke-width:1.0px;stroke-linecap:butt;stroke-linejoin:miter;stroke-opacity:1;\"/>\n<path class=\"bond-8 atom-2 atom-9\" d=\"M 476.2,83.0 L 483.8,72.1 L 477.7,70.6 Z\" style=\"fill:#0000FF;fill-rule:evenodd;fill-opacity:1;stroke:#0000FF;stroke-width:1.0px;stroke-linecap:butt;stroke-linejoin:miter;stroke-opacity:1;\"/>\n<path class=\"bond-8 atom-2 atom-9\" d=\"M 476.2,83.0 L 479.3,83.8 L 483.8,72.1 Z\" style=\"fill:#0000FF;fill-rule:evenodd;fill-opacity:1;stroke:#0000FF;stroke-width:1.0px;stroke-linecap:butt;stroke-linejoin:miter;stroke-opacity:1;\"/>\n<path class=\"bond-9 atom-1 atom-10\" d=\"M 444.2,104.3 L 435.3,95.7\" style=\"fill:none;fill-rule:evenodd;stroke:#000000;stroke-width:2.0px;stroke-linecap:butt;stroke-linejoin:miter;stroke-opacity:1\"/>\n<path class=\"bond-9 atom-1 atom-10\" d=\"M 435.3,95.7 L 426.5,87.2\" style=\"fill:none;fill-rule:evenodd;stroke:#FF0000;stroke-width:2.0px;stroke-linecap:butt;stroke-linejoin:miter;stroke-opacity:1\"/>\n<path class=\"bond-10 atom-8 atom-4\" d=\"M 536.9,84.6 L 532.5,96.7\" style=\"fill:none;fill-rule:evenodd;stroke:#0000FF;stroke-width:2.0px;stroke-linecap:butt;stroke-linejoin:miter;stroke-opacity:1\"/>\n<path class=\"bond-10 atom-8 atom-4\" d=\"M 532.5,96.7 L 528.1,108.9\" style=\"fill:none;fill-rule:evenodd;stroke:#000000;stroke-width:2.0px;stroke-linecap:butt;stroke-linejoin:miter;stroke-opacity:1\"/>\n<path class=\"atom-0\" d=\"M 432.3 135.1 Q 432.3 132.9, 433.4 131.7 Q 434.5 130.5, 436.5 130.5 Q 438.5 130.5, 439.5 131.7 Q 440.6 132.9, 440.6 135.1 Q 440.6 137.3, 439.5 138.5 Q 438.4 139.8, 436.5 139.8 Q 434.5 139.8, 433.4 138.5 Q 432.3 137.3, 432.3 135.1 M 436.5 138.7 Q 437.8 138.7, 438.6 137.8 Q 439.3 136.9, 439.3 135.1 Q 439.3 133.3, 438.6 132.4 Q 437.8 131.5, 436.5 131.5 Q 435.1 131.5, 434.3 132.4 Q 433.6 133.3, 433.6 135.1 Q 433.6 136.9, 434.3 137.8 Q 435.1 138.7, 436.5 138.7 \" fill=\"#FF0000\"/>\n<path class=\"atom-6\" d=\"M 577.4 106.2 L 580.4 111.0 Q 580.7 111.4, 581.1 112.3 Q 581.6 113.2, 581.6 113.2 L 581.6 106.2 L 582.8 106.2 L 582.8 115.2 L 581.6 115.2 L 578.4 110.0 Q 578.1 109.4, 577.7 108.7 Q 577.3 108.0, 577.2 107.8 L 577.2 115.2 L 576.0 115.2 L 576.0 106.2 L 577.4 106.2 \" fill=\"#0000FF\"/>\n<path class=\"atom-6\" d=\"M 583.9 106.2 L 585.1 106.2 L 585.1 110.0 L 589.7 110.0 L 589.7 106.2 L 590.9 106.2 L 590.9 115.2 L 589.7 115.2 L 589.7 111.1 L 585.1 111.1 L 585.1 115.2 L 583.9 115.2 L 583.9 106.2 \" fill=\"#0000FF\"/>\n<path class=\"atom-8\" d=\"M 537.0 74.6 L 539.9 79.3 Q 540.2 79.8, 540.7 80.6 Q 541.1 81.5, 541.2 81.5 L 541.2 74.6 L 542.3 74.6 L 542.3 83.5 L 541.1 83.5 L 538.0 78.3 Q 537.6 77.7, 537.2 77.0 Q 536.8 76.3, 536.7 76.1 L 536.7 83.5 L 535.5 83.5 L 535.5 74.6 L 537.0 74.6 \" fill=\"#0000FF\"/>\n<path class=\"atom-9\" d=\"M 480.4 60.2 L 483.4 65.0 Q 483.7 65.5, 484.1 66.3 Q 484.6 67.2, 484.6 67.2 L 484.6 60.2 L 485.8 60.2 L 485.8 69.2 L 484.6 69.2 L 481.4 64.0 Q 481.0 63.4, 480.7 62.7 Q 480.3 62.0, 480.2 61.8 L 480.2 69.2 L 479.0 69.2 L 479.0 60.2 L 480.4 60.2 \" fill=\"#0000FF\"/>\n<path class=\"atom-9\" d=\"M 486.9 60.2 L 488.1 60.2 L 488.1 64.1 L 492.7 64.1 L 492.7 60.2 L 493.9 60.2 L 493.9 69.2 L 492.7 69.2 L 492.7 65.1 L 488.1 65.1 L 488.1 69.2 L 486.9 69.2 L 486.9 60.2 \" fill=\"#0000FF\"/>\n<path class=\"atom-9\" d=\"M 495.0 68.9 Q 495.2 68.4, 495.7 68.0 Q 496.3 67.7, 497.0 67.7 Q 497.9 67.7, 498.4 68.2 Q 498.9 68.7, 498.9 69.6 Q 498.9 70.4, 498.2 71.3 Q 497.6 72.1, 496.2 73.1 L 499.0 73.1 L 499.0 73.7 L 495.0 73.7 L 495.0 73.2 Q 496.1 72.4, 496.7 71.8 Q 497.4 71.2, 497.7 70.7 Q 498.0 70.1, 498.0 69.6 Q 498.0 69.0, 497.8 68.7 Q 497.5 68.4, 497.0 68.4 Q 496.5 68.4, 496.2 68.6 Q 495.9 68.8, 495.6 69.2 L 495.0 68.9 \" fill=\"#0000FF\"/>\n<path class=\"atom-10\" d=\"M 409.1 77.7 L 410.3 77.7 L 410.3 81.6 L 414.9 81.6 L 414.9 77.7 L 416.1 77.7 L 416.1 86.7 L 414.9 86.7 L 414.9 82.6 L 410.3 82.6 L 410.3 86.7 L 409.1 86.7 L 409.1 77.7 \" fill=\"#FF0000\"/>\n<path class=\"atom-10\" d=\"M 417.2 82.2 Q 417.2 80.1, 418.3 78.9 Q 419.3 77.6, 421.3 77.6 Q 423.3 77.6, 424.4 78.9 Q 425.5 80.1, 425.5 82.2 Q 425.5 84.4, 424.4 85.7 Q 423.3 86.9, 421.3 86.9 Q 419.4 86.9, 418.3 85.7 Q 417.2 84.4, 417.2 82.2 M 421.3 85.9 Q 422.7 85.9, 423.4 85.0 Q 424.2 84.0, 424.2 82.2 Q 424.2 80.5, 423.4 79.6 Q 422.7 78.7, 421.3 78.7 Q 420.0 78.7, 419.2 79.6 Q 418.5 80.4, 418.5 82.2 Q 418.5 84.0, 419.2 85.0 Q 420.0 85.9, 421.3 85.9 \" fill=\"#FF0000\"/>\n<path class=\"bond-0 atom-0 atom-1\" d=\"M 724.2,81.0 L 700.9,102.5\" style=\"fill:none;fill-rule:evenodd;stroke:#000000;stroke-width:2.0px;stroke-linecap:butt;stroke-linejoin:miter;stroke-opacity:1\"/>\n<path class=\"bond-1 atom-1 atom-2\" d=\"M 700.9,102.5 L 670.6,93.0\" style=\"fill:none;fill-rule:evenodd;stroke:#000000;stroke-width:2.0px;stroke-linecap:butt;stroke-linejoin:miter;stroke-opacity:1\"/>\n<path class=\"bond-2 atom-2 atom-3\" d=\"M 667.5,93.7 L 664.6,81.1\" style=\"fill:none;fill-rule:evenodd;stroke:#000000;stroke-width:2.0px;stroke-linecap:butt;stroke-linejoin:miter;stroke-opacity:1\"/>\n<path class=\"bond-2 atom-2 atom-3\" d=\"M 664.6,81.1 L 661.8,68.5\" style=\"fill:none;fill-rule:evenodd;stroke:#FF0000;stroke-width:2.0px;stroke-linecap:butt;stroke-linejoin:miter;stroke-opacity:1\"/>\n<path class=\"bond-2 atom-2 atom-3\" d=\"M 673.7,92.3 L 670.8,79.7\" style=\"fill:none;fill-rule:evenodd;stroke:#000000;stroke-width:2.0px;stroke-linecap:butt;stroke-linejoin:miter;stroke-opacity:1\"/>\n<path class=\"bond-2 atom-2 atom-3\" d=\"M 670.8,79.7 L 668.0,67.1\" style=\"fill:none;fill-rule:evenodd;stroke:#FF0000;stroke-width:2.0px;stroke-linecap:butt;stroke-linejoin:miter;stroke-opacity:1\"/>\n<path class=\"bond-3 atom-2 atom-4\" d=\"M 670.6,93.0 L 661.5,101.4\" style=\"fill:none;fill-rule:evenodd;stroke:#000000;stroke-width:2.0px;stroke-linecap:butt;stroke-linejoin:miter;stroke-opacity:1\"/>\n<path class=\"bond-3 atom-2 atom-4\" d=\"M 661.5,101.4 L 652.4,109.8\" style=\"fill:none;fill-rule:evenodd;stroke:#FF0000;stroke-width:2.0px;stroke-linecap:butt;stroke-linejoin:miter;stroke-opacity:1\"/>\n<path class=\"bond-4 atom-1 atom-5\" d=\"M 701.3,107.5 L 702.6,107.3\" style=\"fill:none;fill-rule:evenodd;stroke:#000000;stroke-width:1.0px;stroke-linecap:butt;stroke-linejoin:miter;stroke-opacity:1\"/>\n<path class=\"bond-4 atom-1 atom-5\" d=\"M 701.8,112.5 L 704.3,112.0\" style=\"fill:none;fill-rule:evenodd;stroke:#000000;stroke-width:1.0px;stroke-linecap:butt;stroke-linejoin:miter;stroke-opacity:1\"/>\n<path class=\"bond-4 atom-1 atom-5\" d=\"M 702.3,117.6 L 706.0,116.7\" style=\"fill:none;fill-rule:evenodd;stroke:#0000FF;stroke-width:1.0px;stroke-linecap:butt;stroke-linejoin:miter;stroke-opacity:1\"/>\n<path class=\"bond-4 atom-1 atom-5\" d=\"M 702.8,122.6 L 707.7,121.5\" style=\"fill:none;fill-rule:evenodd;stroke:#0000FF;stroke-width:1.0px;stroke-linecap:butt;stroke-linejoin:miter;stroke-opacity:1\"/>\n<path class=\"bond-4 atom-1 atom-5\" d=\"M 703.2,127.6 L 709.4,126.2\" style=\"fill:none;fill-rule:evenodd;stroke:#0000FF;stroke-width:1.0px;stroke-linecap:butt;stroke-linejoin:miter;stroke-opacity:1\"/>\n<path class=\"bond-5 atom-0 atom-6\" d=\"M 724.2,81.0 L 737.4,85.1\" style=\"fill:none;fill-rule:evenodd;stroke:#000000;stroke-width:2.0px;stroke-linecap:butt;stroke-linejoin:miter;stroke-opacity:1\"/>\n<path class=\"bond-5 atom-0 atom-6\" d=\"M 737.4,85.1 L 750.6,89.2\" style=\"fill:none;fill-rule:evenodd;stroke:#CCCC00;stroke-width:2.0px;stroke-linecap:butt;stroke-linejoin:miter;stroke-opacity:1\"/>\n<path class=\"atom-3\" d=\"M 659.5 62.1 Q 659.5 59.9, 660.5 58.7 Q 661.6 57.5, 663.6 57.5 Q 665.6 57.5, 666.7 58.7 Q 667.7 59.9, 667.7 62.1 Q 667.7 64.3, 666.7 65.5 Q 665.6 66.7, 663.6 66.7 Q 661.6 66.7, 660.5 65.5 Q 659.5 64.3, 659.5 62.1 M 663.6 65.7 Q 665.0 65.7, 665.7 64.8 Q 666.5 63.9, 666.5 62.1 Q 666.5 60.3, 665.7 59.4 Q 665.0 58.5, 663.6 58.5 Q 662.2 58.5, 661.5 59.4 Q 660.7 60.3, 660.7 62.1 Q 660.7 63.9, 661.5 64.8 Q 662.2 65.7, 663.6 65.7 \" fill=\"#FF0000\"/>\n<path class=\"atom-4\" d=\"M 634.9 110.1 L 636.2 110.1 L 636.2 113.9 L 640.8 113.9 L 640.8 110.1 L 642.0 110.1 L 642.0 119.1 L 640.8 119.1 L 640.8 114.9 L 636.2 114.9 L 636.2 119.1 L 634.9 119.1 L 634.9 110.1 \" fill=\"#FF0000\"/>\n<path class=\"atom-4\" d=\"M 643.1 114.6 Q 643.1 112.4, 644.1 111.2 Q 645.2 110.0, 647.2 110.0 Q 649.2 110.0, 650.3 111.2 Q 651.3 112.4, 651.3 114.6 Q 651.3 116.8, 650.2 118.0 Q 649.2 119.2, 647.2 119.2 Q 645.2 119.2, 644.1 118.0 Q 643.1 116.8, 643.1 114.6 M 647.2 118.2 Q 648.6 118.2, 649.3 117.3 Q 650.1 116.4, 650.1 114.6 Q 650.1 112.8, 649.3 111.9 Q 648.6 111.0, 647.2 111.0 Q 645.8 111.0, 645.1 111.9 Q 644.3 112.8, 644.3 114.6 Q 644.3 116.4, 645.1 117.3 Q 645.8 118.2, 647.2 118.2 \" fill=\"#FF0000\"/>\n<path class=\"atom-5\" d=\"M 705.8 129.0 L 708.8 133.8 Q 709.1 134.2, 709.5 135.1 Q 710.0 135.9, 710.0 136.0 L 710.0 129.0 L 711.2 129.0 L 711.2 138.0 L 710.0 138.0 L 706.8 132.8 Q 706.5 132.2, 706.1 131.5 Q 705.7 130.8, 705.6 130.6 L 705.6 138.0 L 704.4 138.0 L 704.4 129.0 L 705.8 129.0 \" fill=\"#0000FF\"/>\n<path class=\"atom-5\" d=\"M 712.3 129.0 L 713.5 129.0 L 713.5 132.8 L 718.1 132.8 L 718.1 129.0 L 719.3 129.0 L 719.3 138.0 L 718.1 138.0 L 718.1 133.8 L 713.5 133.8 L 713.5 138.0 L 712.3 138.0 L 712.3 129.0 \" fill=\"#0000FF\"/>\n<path class=\"atom-5\" d=\"M 720.4 137.7 Q 720.6 137.1, 721.2 136.8 Q 721.7 136.5, 722.4 136.5 Q 723.3 136.5, 723.8 137.0 Q 724.3 137.5, 724.3 138.3 Q 724.3 139.2, 723.6 140.0 Q 723.0 140.9, 721.7 141.8 L 724.4 141.8 L 724.4 142.5 L 720.4 142.5 L 720.4 141.9 Q 721.5 141.1, 722.2 140.6 Q 722.8 140.0, 723.1 139.4 Q 723.5 138.9, 723.5 138.4 Q 723.5 137.8, 723.2 137.5 Q 722.9 137.2, 722.4 137.2 Q 721.9 137.2, 721.6 137.4 Q 721.3 137.5, 721.0 138.0 L 720.4 137.7 \" fill=\"#0000FF\"/>\n<path class=\"atom-6\" d=\"M 752.0 93.6 Q 752.1 93.6, 752.5 93.8 Q 752.9 94.0, 753.4 94.1 Q 753.9 94.2, 754.3 94.2 Q 755.2 94.2, 755.7 93.8 Q 756.2 93.4, 756.2 92.6 Q 756.2 92.1, 755.9 91.8 Q 755.7 91.5, 755.3 91.4 Q 754.9 91.2, 754.3 91.0 Q 753.5 90.8, 753.0 90.5 Q 752.5 90.3, 752.2 89.8 Q 751.8 89.3, 751.8 88.5 Q 751.8 87.4, 752.6 86.7 Q 753.4 86.0, 754.9 86.0 Q 755.9 86.0, 757.1 86.5 L 756.8 87.5 Q 755.8 87.0, 754.9 87.0 Q 754.1 87.0, 753.6 87.4 Q 753.1 87.8, 753.1 88.4 Q 753.1 88.9, 753.4 89.2 Q 753.6 89.4, 754.0 89.6 Q 754.3 89.8, 754.9 90.0 Q 755.8 90.2, 756.2 90.5 Q 756.7 90.7, 757.1 91.3 Q 757.4 91.8, 757.4 92.6 Q 757.4 93.9, 756.6 94.6 Q 755.8 95.2, 754.4 95.2 Q 753.6 95.2, 753.0 95.0 Q 752.4 94.9, 751.7 94.6 L 752.0 93.6 \" fill=\"#CCCC00\"/>\n<path class=\"atom-6\" d=\"M 758.0 86.0 L 759.2 86.0 L 759.2 89.8 L 763.8 89.8 L 763.8 86.0 L 765.1 86.0 L 765.1 95.0 L 763.8 95.0 L 763.8 90.8 L 759.2 90.8 L 759.2 95.0 L 758.0 95.0 L 758.0 86.0 \" fill=\"#CCCC00\"/>\n</svg>"
          },
          "metadata": {},
          "execution_count": 3
        }
      ]
    },
    {
      "cell_type": "code",
      "execution_count": 4,
      "metadata": {
        "colab": {
          "base_uri": "https://localhost:8080/",
          "height": 170
        },
        "id": "W10VtY-sYldO",
        "outputId": "b0386dfe-96a5-4efc-cfa9-c1da670e45d8"
      },
      "outputs": [
        {
          "output_type": "execute_result",
          "data": {
            "text/plain": [
              "<rdkit.Chem.rdchem.Mol at 0x7f1fa7519440>"
            ],
            "text/html": [
              "<?xml version='1.0' encoding='iso-8859-1'?>\n",
              "<svg version='1.1' baseProfile='full'\n",
              "              xmlns='http://www.w3.org/2000/svg'\n",
              "                      xmlns:rdkit='http://www.rdkit.org/xml'\n",
              "                      xmlns:xlink='http://www.w3.org/1999/xlink'\n",
              "                  xml:space='preserve'\n",
              "width='450px' height='150px' viewBox='0 0 450 150'>\n",
              "<!-- END OF HEADER -->\n",
              "<rect style='opacity:1.0;fill:#FFFFFF;stroke:none' width='450.0' height='150.0' x='0.0' y='0.0'> </rect>\n",
              "<path class='bond-0 atom-0 atom-1' d='M 197.1,131.9 L 263.0,93.9' style='fill:none;fill-rule:evenodd;stroke:#000000;stroke-width:2.0px;stroke-linecap:butt;stroke-linejoin:miter;stroke-opacity:1' />\n",
              "<path class='bond-1 atom-1 atom-2' d='M 255.4,93.9 L 255.4,62.7' style='fill:none;fill-rule:evenodd;stroke:#000000;stroke-width:2.0px;stroke-linecap:butt;stroke-linejoin:miter;stroke-opacity:1' />\n",
              "<path class='bond-1 atom-1 atom-2' d='M 255.4,62.7 L 255.4,31.5' style='fill:none;fill-rule:evenodd;stroke:#FF0000;stroke-width:2.0px;stroke-linecap:butt;stroke-linejoin:miter;stroke-opacity:1' />\n",
              "<path class='bond-1 atom-1 atom-2' d='M 270.7,93.9 L 270.7,62.7' style='fill:none;fill-rule:evenodd;stroke:#000000;stroke-width:2.0px;stroke-linecap:butt;stroke-linejoin:miter;stroke-opacity:1' />\n",
              "<path class='bond-1 atom-1 atom-2' d='M 270.7,62.7 L 270.7,31.5' style='fill:none;fill-rule:evenodd;stroke:#FF0000;stroke-width:2.0px;stroke-linecap:butt;stroke-linejoin:miter;stroke-opacity:1' />\n",
              "<path class='bond-2 atom-1 atom-3' d='M 263.0,93.9 L 289.8,109.3' style='fill:none;fill-rule:evenodd;stroke:#000000;stroke-width:2.0px;stroke-linecap:butt;stroke-linejoin:miter;stroke-opacity:1' />\n",
              "<path class='bond-2 atom-1 atom-3' d='M 289.8,109.3 L 316.6,124.8' style='fill:none;fill-rule:evenodd;stroke:#FF0000;stroke-width:2.0px;stroke-linecap:butt;stroke-linejoin:miter;stroke-opacity:1' />\n",
              "<path class='bond-3 atom-0 atom-4' d='M 197.1,131.9 L 169.5,116.0' style='fill:none;fill-rule:evenodd;stroke:#000000;stroke-width:2.0px;stroke-linecap:butt;stroke-linejoin:miter;stroke-opacity:1' />\n",
              "<path class='bond-3 atom-0 atom-4' d='M 169.5,116.0 L 141.8,100.0' style='fill:none;fill-rule:evenodd;stroke:#0000FF;stroke-width:2.0px;stroke-linecap:butt;stroke-linejoin:miter;stroke-opacity:1' />\n",
              "<path class='atom-2' d='M 253.1 17.8\n",
              "Q 253.1 12.6, 255.7 9.7\n",
              "Q 258.3 6.8, 263.0 6.8\n",
              "Q 267.8 6.8, 270.4 9.7\n",
              "Q 272.9 12.6, 272.9 17.8\n",
              "Q 272.9 23.0, 270.4 26.0\n",
              "Q 267.8 29.0, 263.0 29.0\n",
              "Q 258.3 29.0, 255.7 26.0\n",
              "Q 253.1 23.1, 253.1 17.8\n",
              "M 263.0 26.5\n",
              "Q 266.3 26.5, 268.1 24.3\n",
              "Q 269.9 22.1, 269.9 17.8\n",
              "Q 269.9 13.5, 268.1 11.4\n",
              "Q 266.3 9.3, 263.0 9.3\n",
              "Q 259.8 9.3, 258.0 11.4\n",
              "Q 256.2 13.5, 256.2 17.8\n",
              "Q 256.2 22.1, 258.0 24.3\n",
              "Q 259.8 26.5, 263.0 26.5\n",
              "' fill='#FF0000'/>\n",
              "<path class='atom-3' d='M 319.1 132.0\n",
              "Q 319.1 126.8, 321.6 123.9\n",
              "Q 324.2 121.0, 329.0 121.0\n",
              "Q 333.8 121.0, 336.3 123.9\n",
              "Q 338.9 126.8, 338.9 132.0\n",
              "Q 338.9 137.2, 336.3 140.2\n",
              "Q 333.7 143.2, 329.0 143.2\n",
              "Q 324.2 143.2, 321.6 140.2\n",
              "Q 319.1 137.3, 319.1 132.0\n",
              "M 329.0 140.7\n",
              "Q 332.3 140.7, 334.0 138.6\n",
              "Q 335.8 136.3, 335.8 132.0\n",
              "Q 335.8 127.8, 334.0 125.6\n",
              "Q 332.3 123.5, 329.0 123.5\n",
              "Q 325.7 123.5, 323.9 125.6\n",
              "Q 322.1 127.7, 322.1 132.0\n",
              "Q 322.1 136.4, 323.9 138.6\n",
              "Q 325.7 140.7, 329.0 140.7\n",
              "' fill='#FF0000'/>\n",
              "<path class='atom-3' d='M 340.4 121.3\n",
              "L 343.3 121.3\n",
              "L 343.3 130.5\n",
              "L 354.4 130.5\n",
              "L 354.4 121.3\n",
              "L 357.3 121.3\n",
              "L 357.3 142.8\n",
              "L 354.4 142.8\n",
              "L 354.4 132.9\n",
              "L 343.3 132.9\n",
              "L 343.3 142.8\n",
              "L 340.4 142.8\n",
              "L 340.4 121.3\n",
              "' fill='#FF0000'/>\n",
              "<path class='atom-4' d='M 92.7 83.1\n",
              "L 95.6 83.1\n",
              "L 95.6 92.3\n",
              "L 106.7 92.3\n",
              "L 106.7 83.1\n",
              "L 109.6 83.1\n",
              "L 109.6 104.7\n",
              "L 106.7 104.7\n",
              "L 106.7 94.7\n",
              "L 95.6 94.7\n",
              "L 95.6 104.7\n",
              "L 92.7 104.7\n",
              "L 92.7 83.1\n",
              "' fill='#0000FF'/>\n",
              "<path class='atom-4' d='M 112.2 103.9\n",
              "Q 112.7 102.5, 114.0 101.8\n",
              "Q 115.2 101.0, 117.0 101.0\n",
              "Q 119.1 101.0, 120.3 102.2\n",
              "Q 121.5 103.4, 121.5 105.4\n",
              "Q 121.5 107.6, 120.0 109.5\n",
              "Q 118.4 111.5, 115.2 113.8\n",
              "L 121.8 113.8\n",
              "L 121.8 115.4\n",
              "L 112.2 115.4\n",
              "L 112.2 114.1\n",
              "Q 114.8 112.2, 116.4 110.8\n",
              "Q 118.0 109.4, 118.8 108.1\n",
              "Q 119.5 106.9, 119.5 105.5\n",
              "Q 119.5 104.2, 118.8 103.4\n",
              "Q 118.1 102.6, 117.0 102.6\n",
              "Q 115.8 102.6, 115.1 103.1\n",
              "Q 114.3 103.6, 113.7 104.6\n",
              "L 112.2 103.9\n",
              "' fill='#0000FF'/>\n",
              "<path class='atom-4' d='M 126.4 83.1\n",
              "L 133.5 94.5\n",
              "Q 134.2 95.6, 135.3 97.7\n",
              "Q 136.4 99.7, 136.5 99.8\n",
              "L 136.5 83.1\n",
              "L 139.3 83.1\n",
              "L 139.3 104.7\n",
              "L 136.4 104.7\n",
              "L 128.8 92.2\n",
              "Q 127.9 90.7, 127.0 89.0\n",
              "Q 126.1 87.4, 125.8 86.8\n",
              "L 125.8 104.7\n",
              "L 123.0 104.7\n",
              "L 123.0 83.1\n",
              "L 126.4 83.1\n",
              "' fill='#0000FF'/>\n",
              "</svg>\n"
            ],
            "image/svg+xml": "<?xml version='1.0' encoding='iso-8859-1'?>\n<svg version='1.1' baseProfile='full'\n              xmlns='http://www.w3.org/2000/svg'\n                      xmlns:rdkit='http://www.rdkit.org/xml'\n                      xmlns:xlink='http://www.w3.org/1999/xlink'\n                  xml:space='preserve'\nwidth='450px' height='150px' viewBox='0 0 450 150'>\n<!-- END OF HEADER -->\n<rect style='opacity:1.0;fill:#FFFFFF;stroke:none' width='450.0' height='150.0' x='0.0' y='0.0'> </rect>\n<path class='bond-0 atom-0 atom-1' d='M 197.1,131.9 L 263.0,93.9' style='fill:none;fill-rule:evenodd;stroke:#000000;stroke-width:2.0px;stroke-linecap:butt;stroke-linejoin:miter;stroke-opacity:1' />\n<path class='bond-1 atom-1 atom-2' d='M 255.4,93.9 L 255.4,62.7' style='fill:none;fill-rule:evenodd;stroke:#000000;stroke-width:2.0px;stroke-linecap:butt;stroke-linejoin:miter;stroke-opacity:1' />\n<path class='bond-1 atom-1 atom-2' d='M 255.4,62.7 L 255.4,31.5' style='fill:none;fill-rule:evenodd;stroke:#FF0000;stroke-width:2.0px;stroke-linecap:butt;stroke-linejoin:miter;stroke-opacity:1' />\n<path class='bond-1 atom-1 atom-2' d='M 270.7,93.9 L 270.7,62.7' style='fill:none;fill-rule:evenodd;stroke:#000000;stroke-width:2.0px;stroke-linecap:butt;stroke-linejoin:miter;stroke-opacity:1' />\n<path class='bond-1 atom-1 atom-2' d='M 270.7,62.7 L 270.7,31.5' style='fill:none;fill-rule:evenodd;stroke:#FF0000;stroke-width:2.0px;stroke-linecap:butt;stroke-linejoin:miter;stroke-opacity:1' />\n<path class='bond-2 atom-1 atom-3' d='M 263.0,93.9 L 289.8,109.3' style='fill:none;fill-rule:evenodd;stroke:#000000;stroke-width:2.0px;stroke-linecap:butt;stroke-linejoin:miter;stroke-opacity:1' />\n<path class='bond-2 atom-1 atom-3' d='M 289.8,109.3 L 316.6,124.8' style='fill:none;fill-rule:evenodd;stroke:#FF0000;stroke-width:2.0px;stroke-linecap:butt;stroke-linejoin:miter;stroke-opacity:1' />\n<path class='bond-3 atom-0 atom-4' d='M 197.1,131.9 L 169.5,116.0' style='fill:none;fill-rule:evenodd;stroke:#000000;stroke-width:2.0px;stroke-linecap:butt;stroke-linejoin:miter;stroke-opacity:1' />\n<path class='bond-3 atom-0 atom-4' d='M 169.5,116.0 L 141.8,100.0' style='fill:none;fill-rule:evenodd;stroke:#0000FF;stroke-width:2.0px;stroke-linecap:butt;stroke-linejoin:miter;stroke-opacity:1' />\n<path class='atom-2' d='M 253.1 17.8\nQ 253.1 12.6, 255.7 9.7\nQ 258.3 6.8, 263.0 6.8\nQ 267.8 6.8, 270.4 9.7\nQ 272.9 12.6, 272.9 17.8\nQ 272.9 23.0, 270.4 26.0\nQ 267.8 29.0, 263.0 29.0\nQ 258.3 29.0, 255.7 26.0\nQ 253.1 23.1, 253.1 17.8\nM 263.0 26.5\nQ 266.3 26.5, 268.1 24.3\nQ 269.9 22.1, 269.9 17.8\nQ 269.9 13.5, 268.1 11.4\nQ 266.3 9.3, 263.0 9.3\nQ 259.8 9.3, 258.0 11.4\nQ 256.2 13.5, 256.2 17.8\nQ 256.2 22.1, 258.0 24.3\nQ 259.8 26.5, 263.0 26.5\n' fill='#FF0000'/>\n<path class='atom-3' d='M 319.1 132.0\nQ 319.1 126.8, 321.6 123.9\nQ 324.2 121.0, 329.0 121.0\nQ 333.8 121.0, 336.3 123.9\nQ 338.9 126.8, 338.9 132.0\nQ 338.9 137.2, 336.3 140.2\nQ 333.7 143.2, 329.0 143.2\nQ 324.2 143.2, 321.6 140.2\nQ 319.1 137.3, 319.1 132.0\nM 329.0 140.7\nQ 332.3 140.7, 334.0 138.6\nQ 335.8 136.3, 335.8 132.0\nQ 335.8 127.8, 334.0 125.6\nQ 332.3 123.5, 329.0 123.5\nQ 325.7 123.5, 323.9 125.6\nQ 322.1 127.7, 322.1 132.0\nQ 322.1 136.4, 323.9 138.6\nQ 325.7 140.7, 329.0 140.7\n' fill='#FF0000'/>\n<path class='atom-3' d='M 340.4 121.3\nL 343.3 121.3\nL 343.3 130.5\nL 354.4 130.5\nL 354.4 121.3\nL 357.3 121.3\nL 357.3 142.8\nL 354.4 142.8\nL 354.4 132.9\nL 343.3 132.9\nL 343.3 142.8\nL 340.4 142.8\nL 340.4 121.3\n' fill='#FF0000'/>\n<path class='atom-4' d='M 92.7 83.1\nL 95.6 83.1\nL 95.6 92.3\nL 106.7 92.3\nL 106.7 83.1\nL 109.6 83.1\nL 109.6 104.7\nL 106.7 104.7\nL 106.7 94.7\nL 95.6 94.7\nL 95.6 104.7\nL 92.7 104.7\nL 92.7 83.1\n' fill='#0000FF'/>\n<path class='atom-4' d='M 112.2 103.9\nQ 112.7 102.5, 114.0 101.8\nQ 115.2 101.0, 117.0 101.0\nQ 119.1 101.0, 120.3 102.2\nQ 121.5 103.4, 121.5 105.4\nQ 121.5 107.6, 120.0 109.5\nQ 118.4 111.5, 115.2 113.8\nL 121.8 113.8\nL 121.8 115.4\nL 112.2 115.4\nL 112.2 114.1\nQ 114.8 112.2, 116.4 110.8\nQ 118.0 109.4, 118.8 108.1\nQ 119.5 106.9, 119.5 105.5\nQ 119.5 104.2, 118.8 103.4\nQ 118.1 102.6, 117.0 102.6\nQ 115.8 102.6, 115.1 103.1\nQ 114.3 103.6, 113.7 104.6\nL 112.2 103.9\n' fill='#0000FF'/>\n<path class='atom-4' d='M 126.4 83.1\nL 133.5 94.5\nQ 134.2 95.6, 135.3 97.7\nQ 136.4 99.7, 136.5 99.8\nL 136.5 83.1\nL 139.3 83.1\nL 139.3 104.7\nL 136.4 104.7\nL 128.8 92.2\nQ 127.9 90.7, 127.0 89.0\nQ 126.1 87.4, 125.8 86.8\nL 125.8 104.7\nL 123.0 104.7\nL 123.0 83.1\nL 126.4 83.1\n' fill='#0000FF'/>\n</svg>\n",
            "image/png": "[encoded data removed]"
          },
          "metadata": {},
          "execution_count": 4
        }
      ],
      "source": [
        "glycine = mol_list[0]\n",
        "glycine"
      ]
    },
    {
      "cell_type": "markdown",
      "source": [
        "- MorganFingerprint를 얻고 값이 1인 위치를 찾는다"
      ],
      "metadata": {
        "id": "3IJAEzxVNavg"
      }
    },
    {
      "cell_type": "code",
      "execution_count": 15,
      "metadata": {
        "colab": {
          "base_uri": "https://localhost:8080/"
        },
        "id": "BhOGpfU7Y3tY",
        "outputId": "493ef6bb-8221-472c-da5f-b960efa40785"
      },
      "outputs": [
        {
          "output_type": "stream",
          "name": "stdout",
          "text": [
            "<rdkit.DataStructs.cDataStructs.ExplicitBitVect object at 0x7f1fa56d3030>\n",
            "[0.]\n",
            "[0. 0. 0. 0. 0. 0. 0. 0. 0. 0. 0. 0. 0. 0. 0. 0. 0. 0. 0. 0. 0. 0. 0. 0.\n",
            " 0. 0. 0. 1. 0. 0.]\n",
            "10.0\n",
            "(array([ 27,  80, 147, 389, 650, 713, 807, 893, 966, 981]),)\n"
          ]
        }
      ],
      "source": [
        "bi= {}\n",
        "fp = AllChem.GetMorganFingerprintAsBitVect(glycine, 2, nBits=1024, bitInfo=bi)\n",
        "print(fp)\n",
        "fp_arr = np.zeros((1,)) \n",
        "print(fp_arr)\n",
        "DataStructs.ConvertToNumpyArray(fp,fp_arr)\n",
        "print(fp_arr[:30])\n",
        "print(fp_arr.sum())\n",
        "print(np.nonzero(fp_arr))"
      ]
    },
    {
      "cell_type": "code",
      "source": [
        "print(type(fp))\n",
        "print(type(fp_arr))\n",
        "print(len(fp))"
      ],
      "metadata": {
        "colab": {
          "base_uri": "https://localhost:8080/"
        },
        "id": "SRm1M_kWPBTu",
        "outputId": "d4673377-d73e-4a30-de91-5321d1931553"
      },
      "execution_count": 16,
      "outputs": [
        {
          "output_type": "stream",
          "name": "stdout",
          "text": [
            "<class 'rdkit.DataStructs.cDataStructs.ExplicitBitVect'>\n",
            "<class 'numpy.ndarray'>\n",
            "1024\n"
          ]
        }
      ]
    },
    {
      "cell_type": "markdown",
      "source": [
        "## Fingerprint 비트정보 보기\n",
        "- GetOnBits() 함수 사용"
      ],
      "metadata": {
        "id": "U4Lbus3yPinQ"
      }
    },
    {
      "cell_type": "code",
      "execution_count": 18,
      "metadata": {
        "colab": {
          "base_uri": "https://localhost:8080/",
          "height": 470
        },
        "id": "ui0pgIplZaGA",
        "outputId": "788f72c3-12d9-48bb-8f5e-2e6d85ba37f4"
      },
      "outputs": [
        {
          "output_type": "execute_result",
          "data": {
            "text/plain": [
              "<IPython.core.display.SVG object>"
            ],
            "image/svg+xml": "<svg baseProfile=\"full\" height=\"450px\" version=\"1.1\" viewBox=\"0 0 600 450\" width=\"600px\" xml:space=\"preserve\" xmlns=\"http://www.w3.org/2000/svg\" xmlns:rdkit=\"http://www.rdkit.org/xml\" xmlns:xlink=\"http://www.w3.org/1999/xlink\">\n<!-- END OF HEADER -->\n<rect height=\"450.0\" style=\"opacity:1.0;fill:#FFFFFF;stroke:none\" width=\"600.0\" x=\"0.0\" y=\"0.0\"> </rect>\n<ellipse class=\"atom-0\" cx=\"66.6\" cy=\"91.9\" rx=\"7.8\" ry=\"7.8\" style=\"fill:#9999E5;fill-rule:evenodd;stroke:#9999E5;stroke-width:1.0px;stroke-linecap:butt;stroke-linejoin:miter;stroke-opacity:1\"/>\n<path class=\"bond-0 atom-0 atom-1\" d=\"M 66.6,91.9 L 100.6,72.3\" style=\"fill:none;fill-rule:evenodd;stroke:#000000;stroke-width:2.0px;stroke-linecap:butt;stroke-linejoin:miter;stroke-opacity:1\"/>\n<path class=\"bond-1 atom-1 atom-2\" d=\"M 96.7,72.3 L 96.7,33.8\" style=\"fill:none;fill-rule:evenodd;stroke:#E5E5E5;stroke-width:2.1px;stroke-linecap:butt;stroke-linejoin:miter;stroke-opacity:1\"/>\n<path class=\"bond-1 atom-1 atom-2\" d=\"M 104.5,72.3 L 104.5,33.8\" style=\"fill:none;fill-rule:evenodd;stroke:#E5E5E5;stroke-width:2.1px;stroke-linecap:butt;stroke-linejoin:miter;stroke-opacity:1\"/>\n<path class=\"bond-2 atom-1 atom-3\" d=\"M 100.6,72.3 L 130.7,89.6\" style=\"fill:none;fill-rule:evenodd;stroke:#E5E5E5;stroke-width:2.1px;stroke-linecap:butt;stroke-linejoin:miter;stroke-opacity:1\"/>\n<path class=\"bond-3 atom-0 atom-4\" d=\"M 66.6,91.9 L 52.4,83.7\" style=\"fill:none;fill-rule:evenodd;stroke:#000000;stroke-width:2.0px;stroke-linecap:butt;stroke-linejoin:miter;stroke-opacity:1\"/>\n<path class=\"bond-3 atom-0 atom-4\" d=\"M 52.4,83.7 L 38.1,75.5\" style=\"fill:none;fill-rule:evenodd;stroke:#0000FF;stroke-width:2.0px;stroke-linecap:butt;stroke-linejoin:miter;stroke-opacity:1\"/>\n<path class=\"atom-2\" d=\"M 98.5 31.8 L 100.1 30.1 L 98.0 29.7 L 98.3 28.6 L 100.3 29.6 L 100.0 27.4 L 101.2 27.4 L 100.8 29.6 L 102.9 28.6 L 103.2 29.7 L 101.0 30.1 L 102.6 31.8 L 101.6 32.5 L 100.5 30.4 L 99.4 32.5 L 98.5 31.8 \" fill=\"#191919\"/>\n<path class=\"atom-3\" d=\"M 132.5 90.7 L 134.1 89.0 L 131.9 88.6 L 132.3 87.5 L 134.3 88.5 L 134.0 86.3 L 135.2 86.3 L 134.8 88.4 L 136.9 87.5 L 137.2 88.6 L 135.0 89.0 L 136.6 90.7 L 135.6 91.3 L 134.5 89.3 L 133.4 91.3 L 132.5 90.7 \" fill=\"#191919\"/>\n<path class=\"atom-4\" d=\"M 12.8 66.7 L 14.3 66.7 L 14.3 71.5 L 20.0 71.5 L 20.0 66.7 L 21.5 66.7 L 21.5 77.8 L 20.0 77.8 L 20.0 72.7 L 14.3 72.7 L 14.3 77.8 L 12.8 77.8 L 12.8 66.7 \" fill=\"#0000FF\"/>\n<path class=\"atom-4\" d=\"M 22.8 77.5 Q 23.1 76.8, 23.8 76.4 Q 24.4 76.0, 25.3 76.0 Q 26.4 76.0, 27.0 76.6 Q 27.6 77.2, 27.6 78.3 Q 27.6 79.3, 26.8 80.4 Q 26.0 81.4, 24.4 82.6 L 27.8 82.6 L 27.8 83.4 L 22.8 83.4 L 22.8 82.7 Q 24.2 81.7, 25.0 81.0 Q 25.8 80.3, 26.2 79.6 Q 26.6 79.0, 26.6 78.3 Q 26.6 77.6, 26.3 77.2 Q 25.9 76.8, 25.3 76.8 Q 24.7 76.8, 24.3 77.1 Q 23.9 77.3, 23.6 77.8 L 22.8 77.5 \" fill=\"#0000FF\"/>\n<path class=\"atom-4\" d=\"M 30.1 66.7 L 33.8 72.6 Q 34.2 73.2, 34.7 74.3 Q 35.3 75.3, 35.3 75.4 L 35.3 66.7 L 36.8 66.7 L 36.8 77.8 L 35.3 77.8 L 31.4 71.4 Q 30.9 70.7, 30.4 69.8 Q 30.0 68.9, 29.8 68.7 L 29.8 77.8 L 28.4 77.8 L 28.4 66.7 L 30.1 66.7 \" fill=\"#0000FF\"/>\n<path class=\"legend\" d=\"M 67.1 137.2 Q 67.5 136.2, 68.5 135.6 Q 69.5 135.0, 70.8 135.0 Q 72.5 135.0, 73.5 135.9 Q 74.4 136.8, 74.4 138.4 Q 74.4 140.1, 73.2 141.6 Q 72.0 143.2, 69.4 145.0 L 74.6 145.0 L 74.6 146.2 L 67.1 146.2 L 67.1 145.2 Q 69.2 143.7, 70.4 142.6 Q 71.6 141.5, 72.2 140.5 Q 72.8 139.5, 72.8 138.5 Q 72.8 137.5, 72.3 136.9 Q 71.8 136.3, 70.8 136.3 Q 69.9 136.3, 69.3 136.6 Q 68.7 137.0, 68.3 137.8 L 67.1 137.2 \" fill=\"#000000\"/>\n<path class=\"legend\" d=\"M 81.4 136.4 L 75.5 136.4 L 75.5 135.1 L 82.9 135.1 L 82.9 136.2 L 78.4 146.2 L 76.9 146.2 L 81.4 136.4 \" fill=\"#000000\"/>\n<ellipse class=\"atom-0\" cx=\"225.0\" cy=\"72.3\" rx=\"7.8\" ry=\"7.8\" style=\"fill:#9999E5;fill-rule:evenodd;stroke:#9999E5;stroke-width:1.0px;stroke-linecap:butt;stroke-linejoin:miter;stroke-opacity:1\"/>\n<path class=\"bond-0 atom-0 atom-1\" d=\"M 225.0,72.3 L 257.7,53.4\" style=\"fill:none;fill-rule:evenodd;stroke:#E5E5E5;stroke-width:2.1px;stroke-linecap:butt;stroke-linejoin:miter;stroke-opacity:1\"/>\n<path class=\"bond-1 atom-0 atom-2\" d=\"M 225.0,72.3 L 192.3,53.4\" style=\"fill:none;fill-rule:evenodd;stroke:#E5E5E5;stroke-width:2.1px;stroke-linecap:butt;stroke-linejoin:miter;stroke-opacity:1\"/>\n<path class=\"atom-1\" d=\"M 256.9 51.4 L 258.5 49.8 L 256.4 49.3 L 256.7 48.2 L 258.7 49.2 L 258.4 47.0 L 259.6 47.0 L 259.2 49.2 L 261.3 48.3 L 261.6 49.3 L 259.4 49.7 L 261.0 51.4 L 260.0 52.1 L 259.0 50.0 L 257.9 52.1 L 256.9 51.4 \" fill=\"#191919\"/>\n<path class=\"atom-2\" d=\"M 188.9 51.4 L 190.5 49.8 L 188.4 49.3 L 188.7 48.2 L 190.7 49.2 L 190.4 47.0 L 191.6 47.0 L 191.3 49.2 L 193.3 48.3 L 193.6 49.3 L 191.4 49.7 L 193.0 51.4 L 192.1 52.1 L 191.0 50.0 L 189.9 52.1 L 188.9 51.4 \" fill=\"#191919\"/>\n<path class=\"legend\" d=\"M 222.2 140.3 Q 223.2 140.7, 223.8 141.4 Q 224.4 142.0, 224.4 143.1 Q 224.4 144.0, 223.9 144.7 Q 223.4 145.5, 222.5 145.9 Q 221.7 146.2, 220.6 146.2 Q 218.7 146.2, 217.7 145.4 Q 216.6 144.6, 216.6 143.1 Q 216.6 142.2, 217.1 141.5 Q 217.6 140.8, 218.5 140.3 Q 217.8 139.9, 217.4 139.3 Q 217.0 138.7, 217.0 137.8 Q 217.0 136.5, 218.0 135.8 Q 218.9 135.0, 220.5 135.0 Q 222.1 135.0, 223.0 135.8 Q 224.0 136.5, 224.0 137.8 Q 224.0 138.6, 223.5 139.2 Q 223.1 139.8, 222.2 140.3 M 220.5 136.2 Q 219.6 136.2, 219.1 136.6 Q 218.6 137.0, 218.6 137.8 Q 218.6 138.4, 218.9 138.8 Q 219.3 139.1, 219.7 139.4 Q 220.2 139.6, 221.2 139.9 Q 221.8 139.4, 222.1 138.9 Q 222.4 138.4, 222.4 137.8 Q 222.4 137.0, 221.9 136.6 Q 221.4 136.2, 220.5 136.2 M 220.6 145.1 Q 221.6 145.1, 222.2 144.5 Q 222.8 144.0, 222.8 143.1 Q 222.8 142.5, 222.5 142.1 Q 222.2 141.7, 221.7 141.5 Q 221.2 141.3, 220.3 141.0 L 219.6 140.8 Q 218.9 141.3, 218.5 141.8 Q 218.2 142.4, 218.2 143.1 Q 218.2 144.0, 218.8 144.5 Q 219.5 145.1, 220.6 145.1 \" fill=\"#000000\"/>\n<path class=\"legend\" d=\"M 229.4 146.2 Q 227.3 146.2, 226.3 144.7 Q 225.3 143.2, 225.3 140.6 Q 225.3 137.9, 226.3 136.5 Q 227.3 135.0, 229.4 135.0 Q 231.4 135.0, 232.4 136.5 Q 233.4 137.9, 233.4 140.6 Q 233.4 143.2, 232.4 144.7 Q 231.4 146.2, 229.4 146.2 M 229.4 145.0 Q 230.6 145.0, 231.2 143.9 Q 231.8 142.8, 231.8 140.6 Q 231.8 138.4, 231.2 137.3 Q 230.6 136.2, 229.4 136.2 Q 228.2 136.2, 227.5 137.3 Q 226.9 138.4, 226.9 140.6 Q 226.9 142.8, 227.5 143.9 Q 228.2 145.0, 229.4 145.0 \" fill=\"#000000\"/>\n<ellipse class=\"atom-1\" cx=\"366.6\" cy=\"60.7\" rx=\"7.8\" ry=\"7.8\" style=\"fill:#9999E5;fill-rule:evenodd;stroke:#9999E5;stroke-width:1.0px;stroke-linecap:butt;stroke-linejoin:miter;stroke-opacity:1\"/>\n<path class=\"bond-0 atom-0 atom-1\" d=\"M 396.7,78.1 L 372.1,63.9\" style=\"fill:none;fill-rule:evenodd;stroke:#E5E5E5;stroke-width:2.1px;stroke-linecap:butt;stroke-linejoin:miter;stroke-opacity:1\"/>\n<path class=\"atom-0\" d=\"M 398.5 79.1 L 400.1 77.5 L 398.0 77.0 L 398.3 75.9 L 400.3 76.9 L 400.0 74.7 L 401.2 74.7 L 400.8 76.9 L 402.9 76.0 L 403.2 77.0 L 401.0 77.4 L 402.6 79.1 L 401.6 79.8 L 400.5 77.7 L 399.4 79.8 L 398.5 79.1 \" fill=\"#191919\"/>\n<path class=\"atom-1\" d=\"M 346.8 55.2 L 348.3 55.2 L 348.3 59.9 L 354.0 59.9 L 354.0 55.2 L 355.5 55.2 L 355.5 66.3 L 354.0 66.3 L 354.0 61.2 L 348.3 61.2 L 348.3 66.3 L 346.8 66.3 L 346.8 55.2 \" fill=\"#0000FF\"/>\n<path class=\"atom-1\" d=\"M 356.8 65.9 Q 357.1 65.2, 357.7 64.8 Q 358.4 64.4, 359.3 64.4 Q 360.4 64.4, 361.0 65.0 Q 361.6 65.6, 361.6 66.7 Q 361.6 67.8, 360.8 68.8 Q 360.0 69.8, 358.4 71.0 L 361.8 71.0 L 361.8 71.9 L 356.8 71.9 L 356.8 71.2 Q 358.2 70.2, 359.0 69.5 Q 359.8 68.7, 360.2 68.1 Q 360.6 67.4, 360.6 66.8 Q 360.6 66.1, 360.2 65.7 Q 359.9 65.3, 359.3 65.3 Q 358.7 65.3, 358.3 65.5 Q 357.9 65.8, 357.6 66.3 L 356.8 65.9 \" fill=\"#0000FF\"/>\n<path class=\"atom-1\" d=\"M 364.1 55.2 L 367.8 61.1 Q 368.1 61.7, 368.7 62.7 Q 369.3 63.8, 369.3 63.8 L 369.3 55.2 L 370.8 55.2 L 370.8 66.3 L 369.3 66.3 L 365.4 59.9 Q 364.9 59.1, 364.4 58.3 Q 364.0 57.4, 363.8 57.1 L 363.8 66.3 L 362.4 66.3 L 362.4 55.2 L 364.1 55.2 \" fill=\"#0000FF\"/>\n<path class=\"legend\" d=\"M 363.5 145.0 L 366.0 145.0 L 366.0 136.6 L 363.3 137.5 L 362.9 136.5 L 366.3 135.0 L 367.4 135.2 L 367.4 145.0 L 369.6 145.0 L 369.6 146.2 L 363.5 146.2 L 363.5 145.0 \" fill=\"#000000\"/>\n<path class=\"legend\" d=\"M 377.6 142.4 L 378.9 142.4 L 378.9 143.7 L 377.6 143.7 L 377.6 146.2 L 376.1 146.2 L 376.1 143.7 L 370.3 143.7 L 370.3 142.7 L 375.2 135.1 L 377.6 135.1 L 377.6 142.4 M 372.1 142.4 L 376.1 142.4 L 376.1 136.1 L 372.1 142.4 \" fill=\"#000000\"/>\n<path class=\"legend\" d=\"M 385.5 136.3 L 379.7 136.3 L 379.7 135.1 L 387.1 135.1 L 387.1 136.2 L 382.6 146.2 L 381.1 146.2 L 385.5 136.3 \" fill=\"#000000\"/>\n<ellipse class=\"atom-3\" cx=\"552.5\" cy=\"91.9\" rx=\"7.8\" ry=\"7.8\" style=\"fill:#9999E5;fill-rule:evenodd;stroke:#9999E5;stroke-width:1.0px;stroke-linecap:butt;stroke-linejoin:miter;stroke-opacity:1\"/>\n<path class=\"bond-0 atom-0 atom-1\" d=\"M 488.4,89.6 L 518.5,72.3\" style=\"fill:none;fill-rule:evenodd;stroke:#E5E5E5;stroke-width:2.1px;stroke-linecap:butt;stroke-linejoin:miter;stroke-opacity:1\"/>\n<path class=\"bond-1 atom-1 atom-2\" d=\"M 514.5,72.3 L 514.5,33.8\" style=\"fill:none;fill-rule:evenodd;stroke:#E5E5E5;stroke-width:2.1px;stroke-linecap:butt;stroke-linejoin:miter;stroke-opacity:1\"/>\n<path class=\"bond-1 atom-1 atom-2\" d=\"M 522.4,72.3 L 522.4,33.8\" style=\"fill:none;fill-rule:evenodd;stroke:#E5E5E5;stroke-width:2.1px;stroke-linecap:butt;stroke-linejoin:miter;stroke-opacity:1\"/>\n<path class=\"bond-2 atom-1 atom-3\" d=\"M 518.5,72.3 L 532.3,80.3\" style=\"fill:none;fill-rule:evenodd;stroke:#000000;stroke-width:2.0px;stroke-linecap:butt;stroke-linejoin:miter;stroke-opacity:1\"/>\n<path class=\"bond-2 atom-1 atom-3\" d=\"M 532.3,80.3 L 546.1,88.2\" style=\"fill:none;fill-rule:evenodd;stroke:#FF0000;stroke-width:2.0px;stroke-linecap:butt;stroke-linejoin:miter;stroke-opacity:1\"/>\n<path class=\"atom-0\" d=\"M 482.4 90.7 L 484.0 89.0 L 481.8 88.6 L 482.2 87.5 L 484.2 88.5 L 483.9 86.3 L 485.1 86.3 L 484.7 88.4 L 486.8 87.5 L 487.1 88.6 L 484.9 89.0 L 486.5 90.7 L 485.5 91.3 L 484.4 89.3 L 483.3 91.3 L 482.4 90.7 \" fill=\"#191919\"/>\n<path class=\"atom-2\" d=\"M 516.4 31.8 L 518.0 30.1 L 515.8 29.7 L 516.2 28.6 L 518.2 29.6 L 517.9 27.4 L 519.1 27.4 L 518.7 29.6 L 520.7 28.6 L 521.1 29.7 L 518.9 30.1 L 520.5 31.8 L 519.5 32.5 L 518.4 30.4 L 517.3 32.5 L 516.4 31.8 \" fill=\"#191919\"/>\n<path class=\"atom-3\" d=\"M 547.4 91.9 Q 547.4 89.3, 548.7 87.8 Q 550.0 86.3, 552.5 86.3 Q 554.9 86.3, 556.2 87.8 Q 557.6 89.3, 557.6 91.9 Q 557.6 94.6, 556.2 96.2 Q 554.9 97.7, 552.5 97.7 Q 550.0 97.7, 548.7 96.2 Q 547.4 94.7, 547.4 91.9 M 552.5 96.4 Q 554.2 96.4, 555.1 95.3 Q 556.0 94.2, 556.0 91.9 Q 556.0 89.8, 555.1 88.7 Q 554.2 87.5, 552.5 87.5 Q 550.8 87.5, 549.8 88.6 Q 548.9 89.7, 548.9 91.9 Q 548.9 94.2, 549.8 95.3 Q 550.8 96.4, 552.5 96.4 \" fill=\"#FF0000\"/>\n<path class=\"atom-3\" d=\"M 558.3 86.4 L 559.8 86.4 L 559.8 91.1 L 565.5 91.1 L 565.5 86.4 L 567.0 86.4 L 567.0 97.5 L 565.5 97.5 L 565.5 92.4 L 559.8 92.4 L 559.8 97.5 L 558.3 97.5 L 558.3 86.4 \" fill=\"#FF0000\"/>\n<path class=\"legend\" d=\"M 518.0 140.3 Q 519.0 140.6, 519.5 141.3 Q 520.1 142.0, 520.1 143.1 Q 520.1 144.0, 519.6 144.7 Q 519.1 145.5, 518.3 145.9 Q 517.4 146.2, 516.3 146.2 Q 515.1 146.2, 514.3 145.8 Q 513.4 145.4, 512.7 144.6 L 513.6 143.7 Q 514.3 144.4, 514.8 144.7 Q 515.4 145.0, 516.3 145.0 Q 517.3 145.0, 517.9 144.5 Q 518.5 143.9, 518.5 143.1 Q 518.5 142.0, 517.9 141.5 Q 517.3 141.0, 515.9 141.0 L 515.1 141.0 L 515.1 139.8 L 515.8 139.8 Q 517.0 139.8, 517.6 139.3 Q 518.3 138.8, 518.3 137.8 Q 518.3 137.1, 517.8 136.7 Q 517.2 136.2, 516.3 136.2 Q 515.4 136.2, 514.8 136.6 Q 514.3 136.9, 513.9 137.7 L 512.8 137.1 Q 513.2 136.2, 514.1 135.6 Q 515.0 135.0, 516.3 135.0 Q 517.9 135.0, 518.9 135.8 Q 519.8 136.5, 519.8 137.8 Q 519.8 138.7, 519.4 139.3 Q 518.9 140.0, 518.0 140.3 \" fill=\"#000000\"/>\n<path class=\"legend\" d=\"M 526.6 140.3 Q 527.6 140.7, 528.2 141.4 Q 528.7 142.0, 528.7 143.1 Q 528.7 144.0, 528.2 144.7 Q 527.8 145.5, 526.9 145.9 Q 526.0 146.2, 524.9 146.2 Q 523.1 146.2, 522.0 145.4 Q 521.0 144.6, 521.0 143.1 Q 521.0 142.2, 521.4 141.5 Q 521.9 140.8, 522.9 140.3 Q 522.2 139.9, 521.8 139.3 Q 521.4 138.7, 521.4 137.8 Q 521.4 136.5, 522.3 135.8 Q 523.3 135.0, 524.9 135.0 Q 526.4 135.0, 527.4 135.8 Q 528.3 136.5, 528.3 137.8 Q 528.3 138.6, 527.9 139.2 Q 527.4 139.8, 526.6 140.3 M 524.9 136.2 Q 523.9 136.2, 523.4 136.6 Q 522.9 137.0, 522.9 137.8 Q 522.9 138.4, 523.3 138.8 Q 523.6 139.1, 524.1 139.4 Q 524.6 139.6, 525.5 139.9 Q 526.2 139.4, 526.5 138.9 Q 526.8 138.4, 526.8 137.8 Q 526.8 137.0, 526.3 136.6 Q 525.8 136.2, 524.9 136.2 M 524.9 145.1 Q 525.9 145.1, 526.6 144.5 Q 527.2 144.0, 527.2 143.1 Q 527.2 142.5, 526.9 142.1 Q 526.5 141.7, 526.0 141.5 Q 525.6 141.3, 524.7 141.0 L 524.0 140.8 Q 523.2 141.3, 522.9 141.8 Q 522.5 142.4, 522.5 143.1 Q 522.5 144.0, 523.2 144.5 Q 523.8 145.1, 524.9 145.1 \" fill=\"#000000\"/>\n<path class=\"legend\" d=\"M 533.4 135.0 Q 535.3 135.0, 536.3 136.3 Q 537.3 137.6, 537.3 140.3 Q 537.3 143.2, 536.1 144.7 Q 534.9 146.2, 532.5 146.2 Q 531.9 146.2, 531.3 146.1 Q 530.7 145.9, 530.1 145.6 L 530.7 144.5 Q 531.5 145.0, 532.5 145.0 Q 534.1 145.0, 534.9 144.0 Q 535.7 143.0, 535.7 140.9 Q 535.2 141.4, 534.5 141.7 Q 533.8 142.0, 533.0 142.0 Q 532.1 142.0, 531.3 141.6 Q 530.5 141.1, 530.1 140.4 Q 529.7 139.6, 529.7 138.7 Q 529.7 137.6, 530.2 136.8 Q 530.6 135.9, 531.5 135.5 Q 532.3 135.0, 533.4 135.0 M 531.3 138.6 Q 531.3 139.6, 531.8 140.2 Q 532.3 140.7, 533.3 140.7 Q 534.0 140.7, 534.6 140.5 Q 535.3 140.2, 535.7 139.7 Q 535.7 137.9, 535.1 137.1 Q 534.5 136.3, 533.4 136.3 Q 532.8 136.3, 532.3 136.6 Q 531.8 136.9, 531.5 137.4 Q 531.3 138.0, 531.3 138.6 \" fill=\"#000000\"/>\n<ellipse class=\"atom-1\" cx=\"69.7\" cy=\"201.0\" rx=\"7.8\" ry=\"7.8\" style=\"fill:#9999E5;fill-rule:evenodd;stroke:#9999E5;stroke-width:1.0px;stroke-linecap:butt;stroke-linejoin:miter;stroke-opacity:1\"/>\n<path class=\"bond-0 atom-0 atom-1\" d=\"M 65.8,233.3 L 65.8,208.1\" style=\"fill:none;fill-rule:evenodd;stroke:#E5E5E5;stroke-width:2.1px;stroke-linecap:butt;stroke-linejoin:miter;stroke-opacity:1\"/>\n<path class=\"bond-0 atom-0 atom-1\" d=\"M 73.6,233.3 L 73.6,208.1\" style=\"fill:none;fill-rule:evenodd;stroke:#E5E5E5;stroke-width:2.1px;stroke-linecap:butt;stroke-linejoin:miter;stroke-opacity:1\"/>\n<path class=\"atom-0\" d=\"M 67.6 239.0 L 69.2 237.3 L 67.1 236.9 L 67.4 235.8 L 69.4 236.8 L 69.1 234.6 L 70.3 234.6 L 70.0 236.7 L 72.0 235.8 L 72.3 236.9 L 70.1 237.3 L 71.7 239.0 L 70.7 239.7 L 69.7 237.6 L 68.6 239.7 L 67.6 239.0 \" fill=\"#191919\"/>\n<path class=\"atom-1\" d=\"M 64.6 201.0 Q 64.6 198.3, 65.9 196.8 Q 67.2 195.3, 69.7 195.3 Q 72.2 195.3, 73.5 196.8 Q 74.8 198.3, 74.8 201.0 Q 74.8 203.7, 73.5 205.2 Q 72.1 206.8, 69.7 206.8 Q 67.3 206.8, 65.9 205.2 Q 64.6 203.7, 64.6 201.0 M 69.7 205.5 Q 71.4 205.5, 72.3 204.4 Q 73.2 203.2, 73.2 201.0 Q 73.2 198.8, 72.3 197.7 Q 71.4 196.6, 69.7 196.6 Q 68.0 196.6, 67.1 197.7 Q 66.2 198.8, 66.2 201.0 Q 66.2 203.2, 67.1 204.4 Q 68.0 205.5, 69.7 205.5 \" fill=\"#FF0000\"/>\n<path class=\"legend\" d=\"M 66.9 289.3 Q 67.9 289.3, 68.7 289.7 Q 69.4 290.1, 69.8 290.9 Q 70.3 291.6, 70.3 292.6 Q 70.3 293.7, 69.8 294.5 Q 69.3 295.3, 68.5 295.8 Q 67.6 296.2, 66.6 296.2 Q 64.6 296.2, 63.6 294.9 Q 62.6 293.6, 62.6 291.0 Q 62.6 288.0, 63.9 286.5 Q 65.1 285.0, 67.4 285.0 Q 68.1 285.0, 68.7 285.2 Q 69.3 285.3, 69.8 285.6 L 69.2 286.7 Q 68.4 286.2, 67.4 286.2 Q 65.9 286.2, 65.1 287.3 Q 64.3 288.2, 64.2 290.3 Q 64.8 289.8, 65.5 289.5 Q 66.2 289.3, 66.9 289.3 M 66.6 295.0 Q 67.2 295.0, 67.7 294.7 Q 68.2 294.4, 68.4 293.8 Q 68.7 293.3, 68.7 292.6 Q 68.7 291.6, 68.2 291.1 Q 67.6 290.5, 66.7 290.5 Q 66.0 290.5, 65.3 290.8 Q 64.7 291.0, 64.2 291.5 Q 64.3 293.3, 64.8 294.2 Q 65.4 295.0, 66.6 295.0 \" fill=\"#000000\"/>\n<path class=\"legend\" d=\"M 75.1 289.2 Q 76.1 289.2, 76.9 289.7 Q 77.7 290.1, 78.1 290.8 Q 78.6 291.6, 78.6 292.6 Q 78.6 293.8, 78.0 294.6 Q 77.5 295.4, 76.6 295.8 Q 75.7 296.2, 74.6 296.2 Q 73.6 296.2, 72.7 295.9 Q 71.8 295.5, 71.1 294.8 L 72.1 293.8 Q 72.6 294.4, 73.3 294.7 Q 74.0 295.0, 74.7 295.0 Q 75.7 295.0, 76.3 294.4 Q 77.0 293.8, 77.0 292.7 Q 77.0 291.5, 76.3 291.0 Q 75.7 290.4, 74.6 290.4 Q 73.6 290.4, 72.6 290.8 L 71.7 290.4 L 72.2 285.1 L 77.9 285.1 L 77.7 286.4 L 73.5 286.4 L 73.2 289.6 Q 74.2 289.2, 75.1 289.2 \" fill=\"#000000\"/>\n<path class=\"legend\" d=\"M 83.3 296.2 Q 81.3 296.2, 80.3 294.8 Q 79.3 293.3, 79.3 290.6 Q 79.3 288.0, 80.3 286.5 Q 81.3 285.0, 83.3 285.0 Q 85.4 285.0, 86.4 286.5 Q 87.4 288.0, 87.4 290.6 Q 87.4 293.3, 86.4 294.8 Q 85.4 296.2, 83.3 296.2 M 83.3 295.0 Q 84.5 295.0, 85.2 293.9 Q 85.8 292.8, 85.8 290.6 Q 85.8 288.4, 85.2 287.3 Q 84.5 286.2, 83.3 286.2 Q 82.2 286.2, 81.5 287.3 Q 80.9 288.4, 80.9 290.6 Q 80.9 292.8, 81.5 293.9 Q 82.2 295.0, 83.3 295.0 \" fill=\"#000000\"/>\n<ellipse class=\"atom-1\" cx=\"236.0\" cy=\"227.2\" rx=\"7.8\" ry=\"7.8\" style=\"fill:#9999E5;fill-rule:evenodd;stroke:#9999E5;stroke-width:1.0px;stroke-linecap:butt;stroke-linejoin:miter;stroke-opacity:1\"/>\n<path class=\"bond-0 atom-0 atom-1\" d=\"M 202.0,246.8 L 236.0,227.2\" style=\"fill:none;fill-rule:evenodd;stroke:#000000;stroke-width:2.0px;stroke-linecap:butt;stroke-linejoin:miter;stroke-opacity:1\"/>\n<path class=\"bond-1 atom-1 atom-2\" d=\"M 232.1,227.2 L 232.1,211.1\" style=\"fill:none;fill-rule:evenodd;stroke:#000000;stroke-width:2.0px;stroke-linecap:butt;stroke-linejoin:miter;stroke-opacity:1\"/>\n<path class=\"bond-1 atom-1 atom-2\" d=\"M 232.1,211.1 L 232.1,195.1\" style=\"fill:none;fill-rule:evenodd;stroke:#FF0000;stroke-width:2.0px;stroke-linecap:butt;stroke-linejoin:miter;stroke-opacity:1\"/>\n<path class=\"bond-1 atom-1 atom-2\" d=\"M 239.9,227.2 L 239.9,211.1\" style=\"fill:none;fill-rule:evenodd;stroke:#000000;stroke-width:2.0px;stroke-linecap:butt;stroke-linejoin:miter;stroke-opacity:1\"/>\n<path class=\"bond-1 atom-1 atom-2\" d=\"M 239.9,211.1 L 239.9,195.1\" style=\"fill:none;fill-rule:evenodd;stroke:#FF0000;stroke-width:2.0px;stroke-linecap:butt;stroke-linejoin:miter;stroke-opacity:1\"/>\n<path class=\"bond-2 atom-1 atom-3\" d=\"M 236.0,227.2 L 249.8,235.2\" style=\"fill:none;fill-rule:evenodd;stroke:#000000;stroke-width:2.0px;stroke-linecap:butt;stroke-linejoin:miter;stroke-opacity:1\"/>\n<path class=\"bond-2 atom-1 atom-3\" d=\"M 249.8,235.2 L 263.6,243.2\" style=\"fill:none;fill-rule:evenodd;stroke:#FF0000;stroke-width:2.0px;stroke-linecap:butt;stroke-linejoin:miter;stroke-opacity:1\"/>\n<path class=\"bond-3 atom-0 atom-4\" d=\"M 202.0,246.8 L 169.3,228.0\" style=\"fill:none;fill-rule:evenodd;stroke:#E5E5E5;stroke-width:2.1px;stroke-linecap:butt;stroke-linejoin:miter;stroke-opacity:1\"/>\n<path class=\"atom-2\" d=\"M 230.9 188.0 Q 230.9 185.3, 232.2 183.8 Q 233.6 182.4, 236.0 182.4 Q 238.5 182.4, 239.8 183.8 Q 241.1 185.3, 241.1 188.0 Q 241.1 190.7, 239.8 192.2 Q 238.5 193.8, 236.0 193.8 Q 233.6 193.8, 232.2 192.2 Q 230.9 190.7, 230.9 188.0 M 236.0 192.5 Q 237.7 192.5, 238.6 191.4 Q 239.5 190.2, 239.5 188.0 Q 239.5 185.8, 238.6 184.7 Q 237.7 183.6, 236.0 183.6 Q 234.3 183.6, 233.4 184.7 Q 232.5 185.8, 232.5 188.0 Q 232.5 190.3, 233.4 191.4 Q 234.3 192.5, 236.0 192.5 \" fill=\"#FF0000\"/>\n<path class=\"atom-3\" d=\"M 264.9 246.9 Q 264.9 244.2, 266.2 242.7 Q 267.5 241.2, 270.0 241.2 Q 272.5 241.2, 273.8 242.7 Q 275.1 244.2, 275.1 246.9 Q 275.1 249.6, 273.8 251.1 Q 272.4 252.6, 270.0 252.6 Q 267.6 252.6, 266.2 251.1 Q 264.9 249.6, 264.9 246.9 M 270.0 251.4 Q 271.7 251.4, 272.6 250.3 Q 273.5 249.1, 273.5 246.9 Q 273.5 244.7, 272.6 243.6 Q 271.7 242.5, 270.0 242.5 Q 268.3 242.5, 267.4 243.6 Q 266.5 244.7, 266.5 246.9 Q 266.5 249.1, 267.4 250.3 Q 268.3 251.4, 270.0 251.4 \" fill=\"#FF0000\"/>\n<path class=\"atom-3\" d=\"M 275.9 241.4 L 277.4 241.4 L 277.4 246.1 L 283.1 246.1 L 283.1 241.4 L 284.6 241.4 L 284.6 252.5 L 283.1 252.5 L 283.1 247.3 L 277.4 247.3 L 277.4 252.5 L 275.9 252.5 L 275.9 241.4 \" fill=\"#FF0000\"/>\n<path class=\"atom-4\" d=\"M 165.9 226.0 L 167.6 224.3 L 165.4 223.9 L 165.7 222.8 L 167.7 223.8 L 167.4 221.6 L 168.6 221.6 L 168.3 223.8 L 170.3 222.8 L 170.7 223.9 L 168.5 224.3 L 170.0 226.0 L 169.1 226.7 L 168.0 224.6 L 166.9 226.7 L 165.9 226.0 \" fill=\"#191919\"/>\n<path class=\"legend\" d=\"M 219.6 286.4 L 213.8 286.4 L 213.8 285.1 L 221.1 285.1 L 221.1 286.2 L 216.7 296.1 L 215.2 296.1 L 219.6 286.4 \" fill=\"#000000\"/>\n<path class=\"legend\" d=\"M 222.1 294.9 L 224.6 294.9 L 224.6 286.7 L 221.9 287.5 L 221.5 286.6 L 224.9 285.1 L 226.0 285.2 L 226.0 294.9 L 228.2 294.9 L 228.2 296.1 L 222.1 296.1 L 222.1 294.9 \" fill=\"#000000\"/>\n<path class=\"legend\" d=\"M 234.1 290.3 Q 235.1 290.6, 235.7 291.3 Q 236.2 292.0, 236.2 293.1 Q 236.2 294.0, 235.7 294.7 Q 235.3 295.5, 234.4 295.9 Q 233.6 296.2, 232.4 296.2 Q 231.3 296.2, 230.4 295.8 Q 229.5 295.4, 228.8 294.6 L 229.7 293.7 Q 230.4 294.4, 231.0 294.7 Q 231.5 295.0, 232.4 295.0 Q 233.4 295.0, 234.0 294.5 Q 234.6 293.9, 234.6 293.1 Q 234.6 292.0, 234.0 291.5 Q 233.4 291.0, 232.0 291.0 L 231.2 291.0 L 231.2 289.8 L 231.9 289.8 Q 233.1 289.8, 233.8 289.3 Q 234.4 288.8, 234.4 287.8 Q 234.4 287.1, 233.9 286.7 Q 233.4 286.2, 232.5 286.2 Q 231.5 286.2, 231.0 286.6 Q 230.4 286.9, 230.0 287.7 L 228.9 287.1 Q 229.3 286.2, 230.2 285.6 Q 231.2 285.0, 232.5 285.0 Q 234.1 285.0, 235.0 285.8 Q 236.0 286.5, 236.0 287.8 Q 236.0 288.7, 235.5 289.3 Q 235.0 290.0, 234.1 290.3 \" fill=\"#000000\"/>\n<ellipse class=\"atom-1\" cx=\"375.0\" cy=\"230.4\" rx=\"7.8\" ry=\"7.8\" style=\"fill:#9999E5;fill-rule:evenodd;stroke:#9999E5;stroke-width:1.0px;stroke-linecap:butt;stroke-linejoin:miter;stroke-opacity:1\"/>\n<path class=\"bond-0 atom-0 atom-1\" d=\"M 344.9,247.8 L 375.0,230.4\" style=\"fill:none;fill-rule:evenodd;stroke:#E5E5E5;stroke-width:2.1px;stroke-linecap:butt;stroke-linejoin:miter;stroke-opacity:1\"/>\n<path class=\"bond-1 atom-1 atom-2\" d=\"M 371.1,230.4 L 371.1,191.9\" style=\"fill:none;fill-rule:evenodd;stroke:#E5E5E5;stroke-width:2.1px;stroke-linecap:butt;stroke-linejoin:miter;stroke-opacity:1\"/>\n<path class=\"bond-1 atom-1 atom-2\" d=\"M 378.9,230.4 L 378.9,191.9\" style=\"fill:none;fill-rule:evenodd;stroke:#E5E5E5;stroke-width:2.1px;stroke-linecap:butt;stroke-linejoin:miter;stroke-opacity:1\"/>\n<path class=\"bond-2 atom-1 atom-3\" d=\"M 375.0,230.4 L 405.1,247.8\" style=\"fill:none;fill-rule:evenodd;stroke:#E5E5E5;stroke-width:2.1px;stroke-linecap:butt;stroke-linejoin:miter;stroke-opacity:1\"/>\n<path class=\"atom-0\" d=\"M 338.9 248.8 L 340.5 247.1 L 338.4 246.7 L 338.7 245.6 L 340.7 246.6 L 340.4 244.4 L 341.6 244.4 L 341.3 246.6 L 343.3 245.6 L 343.6 246.7 L 341.4 247.1 L 343.0 248.8 L 342.1 249.5 L 341.0 247.4 L 339.9 249.5 L 338.9 248.8 \" fill=\"#191919\"/>\n<path class=\"atom-2\" d=\"M 372.9 189.9 L 374.5 188.3 L 372.4 187.8 L 372.7 186.7 L 374.7 187.7 L 374.4 185.5 L 375.6 185.5 L 375.3 187.7 L 377.3 186.8 L 377.6 187.8 L 375.4 188.2 L 377.0 189.9 L 376.0 190.6 L 375.0 188.5 L 373.9 190.6 L 372.9 189.9 \" fill=\"#191919\"/>\n<path class=\"atom-3\" d=\"M 406.9 248.8 L 408.5 247.1 L 406.4 246.7 L 406.7 245.6 L 408.7 246.6 L 408.4 244.4 L 409.6 244.4 L 409.2 246.6 L 411.3 245.6 L 411.6 246.7 L 409.4 247.1 L 411.0 248.8 L 410.0 249.5 L 409.0 247.4 L 407.9 249.5 L 406.9 248.8 \" fill=\"#191919\"/>\n<path class=\"legend\" d=\"M 368.1 290.3 Q 369.1 290.7, 369.7 291.4 Q 370.2 292.0, 370.2 293.1 Q 370.2 294.0, 369.7 294.7 Q 369.3 295.5, 368.4 295.9 Q 367.5 296.2, 366.4 296.2 Q 364.6 296.2, 363.5 295.4 Q 362.5 294.6, 362.5 293.1 Q 362.5 292.2, 362.9 291.5 Q 363.4 290.8, 364.4 290.3 Q 363.7 289.9, 363.3 289.3 Q 362.9 288.7, 362.9 287.8 Q 362.9 286.5, 363.8 285.8 Q 364.8 285.0, 366.4 285.0 Q 367.9 285.0, 368.9 285.8 Q 369.8 286.5, 369.8 287.8 Q 369.8 288.6, 369.4 289.2 Q 368.9 289.8, 368.1 290.3 M 366.4 286.2 Q 365.4 286.2, 364.9 286.6 Q 364.4 287.0, 364.4 287.8 Q 364.4 288.4, 364.8 288.8 Q 365.1 289.1, 365.6 289.4 Q 366.1 289.6, 367.0 289.9 Q 367.7 289.4, 368.0 288.9 Q 368.3 288.4, 368.3 287.8 Q 368.3 287.0, 367.8 286.6 Q 367.3 286.2, 366.4 286.2 M 366.4 295.1 Q 367.4 295.1, 368.1 294.5 Q 368.7 294.0, 368.7 293.1 Q 368.7 292.5, 368.4 292.1 Q 368.0 291.7, 367.5 291.5 Q 367.1 291.3, 366.2 291.0 L 365.5 290.8 Q 364.7 291.3, 364.4 291.8 Q 364.0 292.4, 364.0 293.1 Q 364.0 294.0, 364.7 294.5 Q 365.3 295.1, 366.4 295.1 \" fill=\"#000000\"/>\n<path class=\"legend\" d=\"M 375.2 296.2 Q 373.2 296.2, 372.2 294.7 Q 371.2 293.2, 371.2 290.6 Q 371.2 287.9, 372.2 286.5 Q 373.2 285.0, 375.2 285.0 Q 377.2 285.0, 378.2 286.5 Q 379.2 287.9, 379.2 290.6 Q 379.2 293.2, 378.2 294.7 Q 377.2 296.2, 375.2 296.2 M 375.2 295.0 Q 376.4 295.0, 377.0 293.9 Q 377.7 292.8, 377.7 290.6 Q 377.7 288.4, 377.0 287.3 Q 376.4 286.2, 375.2 286.2 Q 374.0 286.2, 373.4 287.3 Q 372.8 288.4, 372.8 290.6 Q 372.8 292.8, 373.4 293.9 Q 374.0 295.0, 375.2 295.0 \" fill=\"#000000\"/>\n<path class=\"legend\" d=\"M 386.0 286.4 L 380.2 286.4 L 380.2 285.1 L 387.5 285.1 L 387.5 286.2 L 383.1 296.1 L 381.6 296.1 L 386.0 286.4 \" fill=\"#000000\"/>\n<ellipse class=\"atom-2\" cx=\"525.0\" cy=\"191.2\" rx=\"7.8\" ry=\"7.8\" style=\"fill:#9999E5;fill-rule:evenodd;stroke:#9999E5;stroke-width:1.0px;stroke-linecap:butt;stroke-linejoin:miter;stroke-opacity:1\"/>\n<path class=\"bond-0 atom-0 atom-1\" d=\"M 494.9,247.8 L 525.0,230.4\" style=\"fill:none;fill-rule:evenodd;stroke:#E5E5E5;stroke-width:2.1px;stroke-linecap:butt;stroke-linejoin:miter;stroke-opacity:1\"/>\n<path class=\"bond-1 atom-1 atom-2\" d=\"M 521.1,230.4 L 521.1,214.3\" style=\"fill:none;fill-rule:evenodd;stroke:#000000;stroke-width:2.0px;stroke-linecap:butt;stroke-linejoin:miter;stroke-opacity:1\"/>\n<path class=\"bond-1 atom-1 atom-2\" d=\"M 521.1,214.3 L 521.1,198.2\" style=\"fill:none;fill-rule:evenodd;stroke:#FF0000;stroke-width:2.0px;stroke-linecap:butt;stroke-linejoin:miter;stroke-opacity:1\"/>\n<path class=\"bond-1 atom-1 atom-2\" d=\"M 528.9,230.4 L 528.9,214.3\" style=\"fill:none;fill-rule:evenodd;stroke:#000000;stroke-width:2.0px;stroke-linecap:butt;stroke-linejoin:miter;stroke-opacity:1\"/>\n<path class=\"bond-1 atom-1 atom-2\" d=\"M 528.9,214.3 L 528.9,198.2\" style=\"fill:none;fill-rule:evenodd;stroke:#FF0000;stroke-width:2.0px;stroke-linecap:butt;stroke-linejoin:miter;stroke-opacity:1\"/>\n<path class=\"bond-2 atom-1 atom-3\" d=\"M 525.0,230.4 L 555.1,247.8\" style=\"fill:none;fill-rule:evenodd;stroke:#E5E5E5;stroke-width:2.1px;stroke-linecap:butt;stroke-linejoin:miter;stroke-opacity:1\"/>\n<path class=\"atom-0\" d=\"M 488.9 248.8 L 490.5 247.1 L 488.4 246.7 L 488.7 245.6 L 490.7 246.6 L 490.4 244.4 L 491.6 244.4 L 491.3 246.6 L 493.3 245.6 L 493.6 246.7 L 491.4 247.1 L 493.0 248.8 L 492.1 249.5 L 491.0 247.4 L 489.9 249.5 L 488.9 248.8 \" fill=\"#191919\"/>\n<path class=\"atom-2\" d=\"M 519.9 191.2 Q 519.9 188.5, 521.2 187.0 Q 522.5 185.5, 525.0 185.5 Q 527.5 185.5, 528.8 187.0 Q 530.1 188.5, 530.1 191.2 Q 530.1 193.9, 528.8 195.4 Q 527.4 196.9, 525.0 196.9 Q 522.6 196.9, 521.2 195.4 Q 519.9 193.9, 519.9 191.2 M 525.0 195.7 Q 526.7 195.7, 527.6 194.6 Q 528.5 193.4, 528.5 191.2 Q 528.5 189.0, 527.6 187.9 Q 526.7 186.8, 525.0 186.8 Q 523.3 186.8, 522.4 187.9 Q 521.5 189.0, 521.5 191.2 Q 521.5 193.4, 522.4 194.6 Q 523.3 195.7, 525.0 195.7 \" fill=\"#FF0000\"/>\n<path class=\"atom-3\" d=\"M 556.9 248.8 L 558.5 247.1 L 556.4 246.7 L 556.7 245.6 L 558.7 246.6 L 558.4 244.4 L 559.6 244.4 L 559.2 246.6 L 561.3 245.6 L 561.6 246.7 L 559.4 247.1 L 561.0 248.8 L 560.0 249.5 L 559.0 247.4 L 557.9 249.5 L 556.9 248.8 \" fill=\"#191919\"/>\n<path class=\"legend\" d=\"M 518.2 290.3 Q 519.2 290.7, 519.8 291.4 Q 520.4 292.0, 520.4 293.1 Q 520.4 294.0, 519.9 294.7 Q 519.4 295.5, 518.5 295.9 Q 517.7 296.2, 516.6 296.2 Q 514.7 296.2, 513.7 295.4 Q 512.6 294.6, 512.6 293.1 Q 512.6 292.2, 513.1 291.5 Q 513.5 290.8, 514.5 290.3 Q 513.8 289.9, 513.4 289.3 Q 513.0 288.7, 513.0 287.8 Q 513.0 286.5, 514.0 285.8 Q 514.9 285.0, 516.5 285.0 Q 518.1 285.0, 519.0 285.8 Q 520.0 286.5, 520.0 287.8 Q 520.0 288.6, 519.5 289.2 Q 519.1 289.8, 518.2 290.3 M 516.5 286.2 Q 515.6 286.2, 515.1 286.6 Q 514.6 287.0, 514.6 287.8 Q 514.6 288.4, 514.9 288.8 Q 515.3 289.1, 515.7 289.4 Q 516.2 289.6, 517.2 289.9 Q 517.8 289.4, 518.1 288.9 Q 518.4 288.4, 518.4 287.8 Q 518.4 287.0, 517.9 286.6 Q 517.4 286.2, 516.5 286.2 M 516.6 295.1 Q 517.6 295.1, 518.2 294.5 Q 518.8 294.0, 518.8 293.1 Q 518.8 292.5, 518.5 292.1 Q 518.2 291.7, 517.7 291.5 Q 517.2 291.3, 516.3 291.0 L 515.6 290.8 Q 514.9 291.3, 514.5 291.8 Q 514.2 292.4, 514.2 293.1 Q 514.2 294.0, 514.8 294.5 Q 515.5 295.1, 516.6 295.1 \" fill=\"#000000\"/>\n<path class=\"legend\" d=\"M 525.0 285.0 Q 527.0 285.0, 528.0 286.3 Q 529.0 287.6, 529.0 290.3 Q 529.0 293.2, 527.7 294.7 Q 526.5 296.2, 524.2 296.2 Q 523.5 296.2, 522.9 296.1 Q 522.3 295.9, 521.8 295.6 L 522.4 294.5 Q 523.2 295.0, 524.2 295.0 Q 525.7 295.0, 526.5 294.0 Q 527.3 293.0, 527.4 290.9 Q 526.8 291.4, 526.1 291.7 Q 525.4 292.0, 524.7 292.0 Q 523.7 292.0, 522.9 291.6 Q 522.2 291.1, 521.8 290.4 Q 521.3 289.6, 521.3 288.7 Q 521.3 287.6, 521.8 286.8 Q 522.3 285.9, 523.1 285.5 Q 524.0 285.0, 525.0 285.0 M 522.9 288.6 Q 522.9 289.6, 523.4 290.2 Q 524.0 290.7, 524.9 290.7 Q 525.6 290.7, 526.3 290.5 Q 526.9 290.2, 527.4 289.7 Q 527.3 287.9, 526.8 287.1 Q 526.2 286.3, 525.0 286.3 Q 524.4 286.3, 523.9 286.6 Q 523.5 286.9, 523.2 287.4 Q 522.9 288.0, 522.9 288.6 \" fill=\"#000000\"/>\n<path class=\"legend\" d=\"M 535.3 290.3 Q 536.3 290.6, 536.9 291.3 Q 537.4 292.0, 537.4 293.1 Q 537.4 294.0, 536.9 294.7 Q 536.5 295.5, 535.6 295.9 Q 534.7 296.2, 533.6 296.2 Q 532.5 296.2, 531.6 295.8 Q 530.7 295.4, 530.0 294.6 L 530.9 293.7 Q 531.6 294.4, 532.1 294.7 Q 532.7 295.0, 533.6 295.0 Q 534.6 295.0, 535.2 294.5 Q 535.8 293.9, 535.8 293.1 Q 535.8 292.0, 535.2 291.5 Q 534.6 291.0, 533.2 291.0 L 532.4 291.0 L 532.4 289.8 L 533.1 289.8 Q 534.3 289.8, 535.0 289.3 Q 535.6 288.8, 535.6 287.8 Q 535.6 287.1, 535.1 286.7 Q 534.5 286.2, 533.6 286.2 Q 532.7 286.2, 532.2 286.6 Q 531.6 286.9, 531.2 287.7 L 530.1 287.1 Q 530.5 286.2, 531.4 285.6 Q 532.3 285.0, 533.6 285.0 Q 535.3 285.0, 536.2 285.8 Q 537.1 286.5, 537.1 287.8 Q 537.1 288.7, 536.7 289.3 Q 536.2 290.0, 535.3 290.3 \" fill=\"#000000\"/>\n<ellipse class=\"atom-0\" cx=\"60.6\" cy=\"391.9\" rx=\"7.8\" ry=\"7.8\" style=\"fill:#9999E5;fill-rule:evenodd;stroke:#9999E5;stroke-width:1.0px;stroke-linecap:butt;stroke-linejoin:miter;stroke-opacity:1\"/>\n<path class=\"bond-0 atom-0 atom-1\" d=\"M 60.6,391.9 L 94.6,372.3\" style=\"fill:none;fill-rule:evenodd;stroke:#000000;stroke-width:2.0px;stroke-linecap:butt;stroke-linejoin:miter;stroke-opacity:1\"/>\n<path class=\"bond-1 atom-1 atom-2\" d=\"M 90.7,372.3 L 90.7,356.2\" style=\"fill:none;fill-rule:evenodd;stroke:#000000;stroke-width:2.0px;stroke-linecap:butt;stroke-linejoin:miter;stroke-opacity:1\"/>\n<path class=\"bond-1 atom-1 atom-2\" d=\"M 90.7,356.2 L 90.7,340.1\" style=\"fill:none;fill-rule:evenodd;stroke:#FF0000;stroke-width:2.0px;stroke-linecap:butt;stroke-linejoin:miter;stroke-opacity:1\"/>\n<path class=\"bond-1 atom-1 atom-2\" d=\"M 98.5,372.3 L 98.5,356.2\" style=\"fill:none;fill-rule:evenodd;stroke:#000000;stroke-width:2.0px;stroke-linecap:butt;stroke-linejoin:miter;stroke-opacity:1\"/>\n<path class=\"bond-1 atom-1 atom-2\" d=\"M 98.5,356.2 L 98.5,340.1\" style=\"fill:none;fill-rule:evenodd;stroke:#FF0000;stroke-width:2.0px;stroke-linecap:butt;stroke-linejoin:miter;stroke-opacity:1\"/>\n<path class=\"bond-2 atom-1 atom-3\" d=\"M 94.6,372.3 L 108.4,380.2\" style=\"fill:none;fill-rule:evenodd;stroke:#000000;stroke-width:2.0px;stroke-linecap:butt;stroke-linejoin:miter;stroke-opacity:1\"/>\n<path class=\"bond-2 atom-1 atom-3\" d=\"M 108.4,380.2 L 122.2,388.2\" style=\"fill:none;fill-rule:evenodd;stroke:#FF0000;stroke-width:2.0px;stroke-linecap:butt;stroke-linejoin:miter;stroke-opacity:1\"/>\n<path class=\"bond-3 atom-0 atom-4\" d=\"M 60.6,391.9 L 46.4,383.7\" style=\"fill:none;fill-rule:evenodd;stroke:#000000;stroke-width:2.0px;stroke-linecap:butt;stroke-linejoin:miter;stroke-opacity:1\"/>\n<path class=\"bond-3 atom-0 atom-4\" d=\"M 46.4,383.7 L 32.1,375.5\" style=\"fill:none;fill-rule:evenodd;stroke:#0000FF;stroke-width:2.0px;stroke-linecap:butt;stroke-linejoin:miter;stroke-opacity:1\"/>\n<path class=\"atom-2\" d=\"M 89.5 333.1 Q 89.5 330.4, 90.8 328.9 Q 92.1 327.4, 94.6 327.4 Q 97.1 327.4, 98.4 328.9 Q 99.7 330.4, 99.7 333.1 Q 99.7 335.8, 98.4 337.3 Q 97.0 338.8, 94.6 338.8 Q 92.2 338.8, 90.8 337.3 Q 89.5 335.8, 89.5 333.1 M 94.6 337.6 Q 96.3 337.6, 97.2 336.4 Q 98.1 335.3, 98.1 333.1 Q 98.1 330.9, 97.2 329.8 Q 96.3 328.7, 94.6 328.7 Q 92.9 328.7, 92.0 329.8 Q 91.1 330.9, 91.1 333.1 Q 91.1 335.3, 92.0 336.4 Q 92.9 337.6, 94.6 337.6 \" fill=\"#FF0000\"/>\n<path class=\"atom-3\" d=\"M 123.5 391.9 Q 123.5 389.3, 124.8 387.8 Q 126.1 386.3, 128.6 386.3 Q 131.1 386.3, 132.4 387.8 Q 133.7 389.3, 133.7 391.9 Q 133.7 394.6, 132.4 396.2 Q 131.0 397.7, 128.6 397.7 Q 126.1 397.7, 124.8 396.2 Q 123.5 394.6, 123.5 391.9 M 128.6 396.4 Q 130.3 396.4, 131.2 395.3 Q 132.1 394.2, 132.1 391.9 Q 132.1 389.7, 131.2 388.6 Q 130.3 387.5, 128.6 387.5 Q 126.9 387.5, 126.0 388.6 Q 125.1 389.7, 125.1 391.9 Q 125.1 394.2, 126.0 395.3 Q 126.9 396.4, 128.6 396.4 \" fill=\"#FF0000\"/>\n<path class=\"atom-3\" d=\"M 134.5 386.4 L 136.0 386.4 L 136.0 391.1 L 141.7 391.1 L 141.7 386.4 L 143.2 386.4 L 143.2 397.5 L 141.7 397.5 L 141.7 392.4 L 136.0 392.4 L 136.0 397.5 L 134.5 397.5 L 134.5 386.4 \" fill=\"#FF0000\"/>\n<path class=\"atom-4\" d=\"M 6.8 366.7 L 8.3 366.7 L 8.3 371.4 L 14.0 371.4 L 14.0 366.7 L 15.5 366.7 L 15.5 377.8 L 14.0 377.8 L 14.0 372.7 L 8.3 372.7 L 8.3 377.8 L 6.8 377.8 L 6.8 366.7 \" fill=\"#0000FF\"/>\n<path class=\"atom-4\" d=\"M 16.9 377.4 Q 17.1 376.7, 17.8 376.4 Q 18.4 376.0, 19.3 376.0 Q 20.4 376.0, 21.0 376.6 Q 21.7 377.2, 21.7 378.2 Q 21.7 379.3, 20.9 380.3 Q 20.1 381.4, 18.4 382.6 L 21.8 382.6 L 21.8 383.4 L 16.8 383.4 L 16.8 382.7 Q 18.2 381.7, 19.0 381.0 Q 19.8 380.3, 20.2 379.6 Q 20.6 379.0, 20.6 378.3 Q 20.6 377.6, 20.3 377.2 Q 19.9 376.8, 19.3 376.8 Q 18.7 376.8, 18.3 377.0 Q 17.9 377.3, 17.7 377.8 L 16.9 377.4 \" fill=\"#0000FF\"/>\n<path class=\"atom-4\" d=\"M 24.2 366.7 L 27.8 372.6 Q 28.2 373.2, 28.8 374.2 Q 29.3 375.3, 29.4 375.3 L 29.4 366.7 L 30.8 366.7 L 30.8 377.8 L 29.3 377.8 L 25.4 371.4 Q 25.0 370.6, 24.5 369.8 Q 24.0 368.9, 23.9 368.6 L 23.9 377.8 L 22.4 377.8 L 22.4 366.7 L 24.2 366.7 \" fill=\"#0000FF\"/>\n<path class=\"legend\" d=\"M 66.3 435.0 Q 68.3 435.0, 69.2 436.3 Q 70.2 437.7, 70.2 440.3 Q 70.2 443.2, 69.0 444.7 Q 67.8 446.2, 65.4 446.2 Q 64.8 446.2, 64.2 446.1 Q 63.6 445.9, 63.0 445.6 L 63.6 444.6 Q 64.4 445.0, 65.4 445.0 Q 67.0 445.0, 67.8 444.0 Q 68.6 443.0, 68.7 440.9 Q 68.1 441.4, 67.4 441.7 Q 66.7 442.0, 65.9 442.0 Q 65.0 442.0, 64.2 441.6 Q 63.4 441.2, 63.0 440.4 Q 62.6 439.6, 62.6 438.7 Q 62.6 437.6, 63.1 436.8 Q 63.5 435.9, 64.4 435.5 Q 65.2 435.0, 66.3 435.0 M 64.2 438.7 Q 64.2 439.6, 64.7 440.2 Q 65.2 440.7, 66.2 440.7 Q 66.9 440.7, 67.5 440.5 Q 68.2 440.2, 68.7 439.7 Q 68.6 437.9, 68.0 437.1 Q 67.4 436.3, 66.3 436.3 Q 65.7 436.3, 65.2 436.6 Q 64.7 436.9, 64.4 437.4 Q 64.2 438.0, 64.2 438.7 \" fill=\"#000000\"/>\n<path class=\"legend\" d=\"M 75.6 439.3 Q 76.6 439.3, 77.3 439.7 Q 78.1 440.1, 78.5 440.9 Q 78.9 441.6, 78.9 442.6 Q 78.9 443.7, 78.4 444.5 Q 78.0 445.3, 77.1 445.8 Q 76.3 446.2, 75.2 446.2 Q 73.3 446.2, 72.3 444.9 Q 71.3 443.6, 71.3 441.0 Q 71.3 438.0, 72.5 436.5 Q 73.7 435.0, 76.1 435.0 Q 76.8 435.0, 77.3 435.2 Q 77.9 435.3, 78.5 435.6 L 77.9 436.7 Q 77.1 436.2, 76.1 436.2 Q 74.5 436.2, 73.7 437.3 Q 72.9 438.2, 72.9 440.3 Q 73.4 439.8, 74.1 439.5 Q 74.8 439.3, 75.6 439.3 M 75.2 445.0 Q 75.8 445.0, 76.3 444.7 Q 76.8 444.4, 77.1 443.8 Q 77.4 443.3, 77.4 442.6 Q 77.4 441.6, 76.8 441.1 Q 76.3 440.5, 75.3 440.5 Q 74.6 440.5, 74.0 440.8 Q 73.3 441.0, 72.9 441.5 Q 72.9 443.3, 73.5 444.2 Q 74.1 445.0, 75.2 445.0 \" fill=\"#000000\"/>\n<path class=\"legend\" d=\"M 84.1 439.3 Q 85.0 439.3, 85.8 439.7 Q 86.6 440.1, 87.0 440.9 Q 87.4 441.6, 87.4 442.6 Q 87.4 443.7, 86.9 444.5 Q 86.5 445.3, 85.6 445.8 Q 84.8 446.2, 83.7 446.2 Q 81.7 446.2, 80.7 444.9 Q 79.8 443.6, 79.8 441.0 Q 79.8 438.0, 81.0 436.5 Q 82.2 435.0, 84.6 435.0 Q 85.2 435.0, 85.8 435.2 Q 86.4 435.3, 87.0 435.6 L 86.4 436.7 Q 85.6 436.2, 84.6 436.2 Q 83.0 436.2, 82.2 437.3 Q 81.4 438.2, 81.3 440.3 Q 81.9 439.8, 82.6 439.5 Q 83.3 439.3, 84.1 439.3 M 83.7 445.0 Q 84.3 445.0, 84.8 444.7 Q 85.3 444.4, 85.6 443.8 Q 85.8 443.3, 85.8 442.6 Q 85.8 441.6, 85.3 441.1 Q 84.8 440.5, 83.8 440.5 Q 83.1 440.5, 82.5 440.8 Q 81.8 441.0, 81.3 441.5 Q 81.4 443.3, 82.0 444.2 Q 82.6 445.0, 83.7 445.0 \" fill=\"#000000\"/>\n<ellipse class=\"atom-2\" cx=\"199.6\" cy=\"360.5\" rx=\"7.8\" ry=\"7.8\" style=\"fill:#9999E5;fill-rule:evenodd;stroke:#9999E5;stroke-width:1.0px;stroke-linecap:butt;stroke-linejoin:miter;stroke-opacity:1\"/>\n<path class=\"bond-0 atom-0 atom-1\" d=\"M 233.6,380.1 L 266.3,361.2\" style=\"fill:none;fill-rule:evenodd;stroke:#E5E5E5;stroke-width:2.1px;stroke-linecap:butt;stroke-linejoin:miter;stroke-opacity:1\"/>\n<path class=\"bond-1 atom-0 atom-2\" d=\"M 233.6,380.1 L 219.4,371.9\" style=\"fill:none;fill-rule:evenodd;stroke:#000000;stroke-width:2.0px;stroke-linecap:butt;stroke-linejoin:miter;stroke-opacity:1\"/>\n<path class=\"bond-1 atom-0 atom-2\" d=\"M 219.4,371.9 L 205.1,363.7\" style=\"fill:none;fill-rule:evenodd;stroke:#0000FF;stroke-width:2.0px;stroke-linecap:butt;stroke-linejoin:miter;stroke-opacity:1\"/>\n<path class=\"atom-1\" d=\"M 265.5 359.3 L 267.1 357.6 L 265.0 357.2 L 265.3 356.1 L 267.3 357.1 L 267.0 354.9 L 268.2 354.9 L 267.8 357.0 L 269.9 356.1 L 270.2 357.2 L 268.0 357.6 L 269.6 359.3 L 268.6 359.9 L 267.5 357.9 L 266.4 359.9 L 265.5 359.3 \" fill=\"#191919\"/>\n<path class=\"atom-2\" d=\"M 179.8 355.0 L 181.3 355.0 L 181.3 359.7 L 187.0 359.7 L 187.0 355.0 L 188.5 355.0 L 188.5 366.1 L 187.0 366.1 L 187.0 360.9 L 181.3 360.9 L 181.3 366.1 L 179.8 366.1 L 179.8 355.0 \" fill=\"#0000FF\"/>\n<path class=\"atom-2\" d=\"M 189.8 365.7 Q 190.1 365.0, 190.8 364.6 Q 191.4 364.2, 192.3 364.2 Q 193.4 364.2, 194.0 364.8 Q 194.6 365.4, 194.6 366.5 Q 194.6 367.6, 193.8 368.6 Q 193.0 369.6, 191.4 370.8 L 194.8 370.8 L 194.8 371.6 L 189.8 371.6 L 189.8 370.9 Q 191.2 370.0, 192.0 369.2 Q 192.8 368.5, 193.2 367.9 Q 193.6 367.2, 193.6 366.5 Q 193.6 365.8, 193.3 365.4 Q 192.9 365.0, 192.3 365.0 Q 191.7 365.0, 191.3 365.3 Q 190.9 365.5, 190.6 366.0 L 189.8 365.7 \" fill=\"#0000FF\"/>\n<path class=\"atom-2\" d=\"M 197.1 355.0 L 200.8 360.8 Q 201.1 361.4, 201.7 362.5 Q 202.3 363.5, 202.3 363.6 L 202.3 355.0 L 203.8 355.0 L 203.8 366.1 L 202.3 366.1 L 198.4 359.6 Q 197.9 358.9, 197.4 358.0 Q 197.0 357.2, 196.8 356.9 L 196.8 366.1 L 195.4 366.1 L 195.4 355.0 L 197.1 355.0 \" fill=\"#0000FF\"/>\n<path class=\"legend\" d=\"M 216.7 435.0 Q 218.6 435.0, 219.6 436.3 Q 220.6 437.6, 220.6 440.3 Q 220.6 443.2, 219.4 444.7 Q 218.2 446.2, 215.8 446.2 Q 215.2 446.2, 214.6 446.1 Q 214.0 445.9, 213.4 445.6 L 214.0 444.5 Q 214.8 445.0, 215.8 445.0 Q 217.4 445.0, 218.2 444.0 Q 218.9 443.0, 219.0 440.9 Q 218.5 441.4, 217.8 441.7 Q 217.1 442.0, 216.3 442.0 Q 215.4 442.0, 214.6 441.6 Q 213.8 441.1, 213.4 440.4 Q 213.0 439.6, 213.0 438.7 Q 213.0 437.6, 213.5 436.8 Q 213.9 435.9, 214.8 435.5 Q 215.6 435.0, 216.7 435.0 M 214.5 438.6 Q 214.5 439.6, 215.1 440.2 Q 215.6 440.7, 216.6 440.7 Q 217.3 440.7, 217.9 440.5 Q 218.6 440.2, 219.0 439.7 Q 219.0 437.9, 218.4 437.1 Q 217.8 436.3, 216.7 436.3 Q 216.1 436.3, 215.6 436.6 Q 215.1 436.9, 214.8 437.4 Q 214.5 438.0, 214.5 438.6 \" fill=\"#000000\"/>\n<path class=\"legend\" d=\"M 227.3 440.3 Q 228.3 440.7, 228.8 441.4 Q 229.4 442.0, 229.4 443.1 Q 229.4 444.0, 228.9 444.7 Q 228.4 445.5, 227.6 445.9 Q 226.7 446.2, 225.6 446.2 Q 223.8 446.2, 222.7 445.4 Q 221.7 444.6, 221.7 443.1 Q 221.7 442.2, 222.1 441.5 Q 222.6 440.8, 223.6 440.3 Q 222.8 439.9, 222.5 439.3 Q 222.1 438.7, 222.1 437.8 Q 222.1 436.5, 223.0 435.8 Q 223.9 435.0, 225.5 435.0 Q 227.1 435.0, 228.1 435.8 Q 229.0 436.5, 229.0 437.8 Q 229.0 438.6, 228.6 439.2 Q 228.1 439.8, 227.3 440.3 M 225.5 436.2 Q 224.6 436.2, 224.1 436.6 Q 223.6 437.0, 223.6 437.8 Q 223.6 438.4, 224.0 438.8 Q 224.3 439.1, 224.8 439.4 Q 225.3 439.6, 226.2 439.9 Q 226.9 439.4, 227.2 438.9 Q 227.5 438.4, 227.5 437.8 Q 227.5 437.0, 226.9 436.6 Q 226.4 436.2, 225.5 436.2 M 225.6 445.1 Q 226.6 445.1, 227.2 444.5 Q 227.9 444.0, 227.9 443.1 Q 227.9 442.5, 227.5 442.1 Q 227.2 441.7, 226.7 441.5 Q 226.2 441.3, 225.4 441.0 L 224.7 440.8 Q 223.9 441.3, 223.6 441.8 Q 223.2 442.4, 223.2 443.1 Q 223.2 444.0, 223.9 444.5 Q 224.5 445.1, 225.6 445.1 \" fill=\"#000000\"/>\n<path class=\"legend\" d=\"M 231.0 444.9 L 233.4 444.9 L 233.4 436.7 L 230.7 437.5 L 230.4 436.6 L 233.7 435.1 L 234.8 435.2 L 234.8 444.9 L 237.0 444.9 L 237.0 446.1 L 231.0 446.1 L 231.0 444.9 \" fill=\"#000000\"/>\n</svg>"
          },
          "metadata": {},
          "execution_count": 18
        }
      ],
      "source": [
        "points = [(glycine, x, bi) for x in fp.GetOnBits()]\n",
        "Draw.DrawMorganBits(points, molsPerRow=4, legends = [str(x) for x in fp.GetOnBits()])"
      ]
    },
    {
      "cell_type": "code",
      "source": [
        "points"
      ],
      "metadata": {
        "colab": {
          "base_uri": "https://localhost:8080/"
        },
        "id": "cMtFo0XiQheu",
        "outputId": "82d3aba9-946c-447c-a5fa-81964b0c5be8"
      },
      "execution_count": 19,
      "outputs": [
        {
          "output_type": "execute_result",
          "data": {
            "text/plain": [
              "[(<rdkit.Chem.rdchem.Mol at 0x7f1fa7519440>,\n",
              "  27,\n",
              "  {27: ((0, 1),),\n",
              "   80: ((0, 0),),\n",
              "   147: ((4, 0),),\n",
              "   389: ((3, 1),),\n",
              "   650: ((2, 0),),\n",
              "   713: ((1, 1),),\n",
              "   807: ((1, 0), (3, 0)),\n",
              "   893: ((2, 1),),\n",
              "   966: ((0, 2),),\n",
              "   981: ((4, 1),)}),\n",
              " (<rdkit.Chem.rdchem.Mol at 0x7f1fa7519440>,\n",
              "  80,\n",
              "  {27: ((0, 1),),\n",
              "   80: ((0, 0),),\n",
              "   147: ((4, 0),),\n",
              "   389: ((3, 1),),\n",
              "   650: ((2, 0),),\n",
              "   713: ((1, 1),),\n",
              "   807: ((1, 0), (3, 0)),\n",
              "   893: ((2, 1),),\n",
              "   966: ((0, 2),),\n",
              "   981: ((4, 1),)}),\n",
              " (<rdkit.Chem.rdchem.Mol at 0x7f1fa7519440>,\n",
              "  147,\n",
              "  {27: ((0, 1),),\n",
              "   80: ((0, 0),),\n",
              "   147: ((4, 0),),\n",
              "   389: ((3, 1),),\n",
              "   650: ((2, 0),),\n",
              "   713: ((1, 1),),\n",
              "   807: ((1, 0), (3, 0)),\n",
              "   893: ((2, 1),),\n",
              "   966: ((0, 2),),\n",
              "   981: ((4, 1),)}),\n",
              " (<rdkit.Chem.rdchem.Mol at 0x7f1fa7519440>,\n",
              "  389,\n",
              "  {27: ((0, 1),),\n",
              "   80: ((0, 0),),\n",
              "   147: ((4, 0),),\n",
              "   389: ((3, 1),),\n",
              "   650: ((2, 0),),\n",
              "   713: ((1, 1),),\n",
              "   807: ((1, 0), (3, 0)),\n",
              "   893: ((2, 1),),\n",
              "   966: ((0, 2),),\n",
              "   981: ((4, 1),)}),\n",
              " (<rdkit.Chem.rdchem.Mol at 0x7f1fa7519440>,\n",
              "  650,\n",
              "  {27: ((0, 1),),\n",
              "   80: ((0, 0),),\n",
              "   147: ((4, 0),),\n",
              "   389: ((3, 1),),\n",
              "   650: ((2, 0),),\n",
              "   713: ((1, 1),),\n",
              "   807: ((1, 0), (3, 0)),\n",
              "   893: ((2, 1),),\n",
              "   966: ((0, 2),),\n",
              "   981: ((4, 1),)}),\n",
              " (<rdkit.Chem.rdchem.Mol at 0x7f1fa7519440>,\n",
              "  713,\n",
              "  {27: ((0, 1),),\n",
              "   80: ((0, 0),),\n",
              "   147: ((4, 0),),\n",
              "   389: ((3, 1),),\n",
              "   650: ((2, 0),),\n",
              "   713: ((1, 1),),\n",
              "   807: ((1, 0), (3, 0)),\n",
              "   893: ((2, 1),),\n",
              "   966: ((0, 2),),\n",
              "   981: ((4, 1),)}),\n",
              " (<rdkit.Chem.rdchem.Mol at 0x7f1fa7519440>,\n",
              "  807,\n",
              "  {27: ((0, 1),),\n",
              "   80: ((0, 0),),\n",
              "   147: ((4, 0),),\n",
              "   389: ((3, 1),),\n",
              "   650: ((2, 0),),\n",
              "   713: ((1, 1),),\n",
              "   807: ((1, 0), (3, 0)),\n",
              "   893: ((2, 1),),\n",
              "   966: ((0, 2),),\n",
              "   981: ((4, 1),)}),\n",
              " (<rdkit.Chem.rdchem.Mol at 0x7f1fa7519440>,\n",
              "  893,\n",
              "  {27: ((0, 1),),\n",
              "   80: ((0, 0),),\n",
              "   147: ((4, 0),),\n",
              "   389: ((3, 1),),\n",
              "   650: ((2, 0),),\n",
              "   713: ((1, 1),),\n",
              "   807: ((1, 0), (3, 0)),\n",
              "   893: ((2, 1),),\n",
              "   966: ((0, 2),),\n",
              "   981: ((4, 1),)}),\n",
              " (<rdkit.Chem.rdchem.Mol at 0x7f1fa7519440>,\n",
              "  966,\n",
              "  {27: ((0, 1),),\n",
              "   80: ((0, 0),),\n",
              "   147: ((4, 0),),\n",
              "   389: ((3, 1),),\n",
              "   650: ((2, 0),),\n",
              "   713: ((1, 1),),\n",
              "   807: ((1, 0), (3, 0)),\n",
              "   893: ((2, 1),),\n",
              "   966: ((0, 2),),\n",
              "   981: ((4, 1),)}),\n",
              " (<rdkit.Chem.rdchem.Mol at 0x7f1fa7519440>,\n",
              "  981,\n",
              "  {27: ((0, 1),),\n",
              "   80: ((0, 0),),\n",
              "   147: ((4, 0),),\n",
              "   389: ((3, 1),),\n",
              "   650: ((2, 0),),\n",
              "   713: ((1, 1),),\n",
              "   807: ((1, 0), (3, 0)),\n",
              "   893: ((2, 1),),\n",
              "   966: ((0, 2),),\n",
              "   981: ((4, 1),)})]"
            ]
          },
          "metadata": {},
          "execution_count": 19
        }
      ]
    },
    {
      "cell_type": "markdown",
      "metadata": {
        "id": "Wza1DtYWmwOG"
      },
      "source": [
        "## 두 분자 사이의 유사도 비교\n",
        "\n",
        "- Tanimoto Similarity\n",
        " - 전체 원소 대비 공통부분의 비율\n",
        "\n",
        "- glycine, cysteine 비교"
      ]
    },
    {
      "cell_type": "code",
      "execution_count": 20,
      "metadata": {
        "colab": {
          "base_uri": "https://localhost:8080/",
          "height": 240
        },
        "id": "mXfk0G9CZljt",
        "outputId": "b6b499e8-cb3a-42f3-80d3-ec75df236c5d"
      },
      "outputs": [
        {
          "output_type": "execute_result",
          "data": {
            "text/plain": [
              "<IPython.core.display.SVG object>"
            ],
            "image/svg+xml": "<svg baseProfile=\"full\" height=\"200px\" version=\"1.1\" viewBox=\"0 0 800 200\" width=\"800px\" xml:space=\"preserve\" xmlns=\"http://www.w3.org/2000/svg\" xmlns:rdkit=\"http://www.rdkit.org/xml\" xmlns:xlink=\"http://www.w3.org/1999/xlink\">\n<!-- END OF HEADER -->\n<rect height=\"200.0\" style=\"opacity:1.0;fill:#FFFFFF;stroke:none\" width=\"800.0\" x=\"0.0\" y=\"0.0\"> </rect>\n<path class=\"bond-0 atom-0 atom-1\" d=\"M 83.7,133.2 L 122.2,111.0\" style=\"fill:none;fill-rule:evenodd;stroke:#000000;stroke-width:2.0px;stroke-linecap:butt;stroke-linejoin:miter;stroke-opacity:1\"/>\n<path class=\"bond-1 atom-1 atom-2\" d=\"M 117.7,111.0 L 117.7,92.8\" style=\"fill:none;fill-rule:evenodd;stroke:#000000;stroke-width:2.0px;stroke-linecap:butt;stroke-linejoin:miter;stroke-opacity:1\"/>\n<path class=\"bond-1 atom-1 atom-2\" d=\"M 117.7,92.8 L 117.7,74.6\" style=\"fill:none;fill-rule:evenodd;stroke:#FF0000;stroke-width:2.0px;stroke-linecap:butt;stroke-linejoin:miter;stroke-opacity:1\"/>\n<path class=\"bond-1 atom-1 atom-2\" d=\"M 126.6,111.0 L 126.6,92.8\" style=\"fill:none;fill-rule:evenodd;stroke:#000000;stroke-width:2.0px;stroke-linecap:butt;stroke-linejoin:miter;stroke-opacity:1\"/>\n<path class=\"bond-1 atom-1 atom-2\" d=\"M 126.6,92.8 L 126.6,74.6\" style=\"fill:none;fill-rule:evenodd;stroke:#FF0000;stroke-width:2.0px;stroke-linecap:butt;stroke-linejoin:miter;stroke-opacity:1\"/>\n<path class=\"bond-2 atom-1 atom-3\" d=\"M 122.2,111.0 L 137.8,120.0\" style=\"fill:none;fill-rule:evenodd;stroke:#000000;stroke-width:2.0px;stroke-linecap:butt;stroke-linejoin:miter;stroke-opacity:1\"/>\n<path class=\"bond-2 atom-1 atom-3\" d=\"M 137.8,120.0 L 153.4,129.0\" style=\"fill:none;fill-rule:evenodd;stroke:#FF0000;stroke-width:2.0px;stroke-linecap:butt;stroke-linejoin:miter;stroke-opacity:1\"/>\n<path class=\"bond-3 atom-0 atom-4\" d=\"M 83.7,133.2 L 67.6,123.9\" style=\"fill:none;fill-rule:evenodd;stroke:#000000;stroke-width:2.0px;stroke-linecap:butt;stroke-linejoin:miter;stroke-opacity:1\"/>\n<path class=\"bond-3 atom-0 atom-4\" d=\"M 67.6,123.9 L 51.5,114.6\" style=\"fill:none;fill-rule:evenodd;stroke:#0000FF;stroke-width:2.0px;stroke-linecap:butt;stroke-linejoin:miter;stroke-opacity:1\"/>\n<path class=\"atom-2\" d=\"M 116.4 66.7 Q 116.4 63.6, 117.9 61.9 Q 119.4 60.3, 122.2 60.3 Q 125.0 60.3, 126.4 61.9 Q 127.9 63.6, 127.9 66.7 Q 127.9 69.7, 126.4 71.4 Q 124.9 73.2, 122.2 73.2 Q 119.4 73.2, 117.9 71.4 Q 116.4 69.7, 116.4 66.7 M 122.2 71.7 Q 124.1 71.7, 125.1 70.5 Q 126.2 69.2, 126.2 66.7 Q 126.2 64.2, 125.1 62.9 Q 124.1 61.7, 122.2 61.7 Q 120.3 61.7, 119.2 62.9 Q 118.2 64.2, 118.2 66.7 Q 118.2 69.2, 119.2 70.5 Q 120.3 71.7, 122.2 71.7 \" fill=\"#FF0000\"/>\n<path class=\"atom-3\" d=\"M 154.8 133.2 Q 154.8 130.2, 156.3 128.5 Q 157.8 126.8, 160.6 126.8 Q 163.4 126.8, 164.9 128.5 Q 166.4 130.2, 166.4 133.2 Q 166.4 136.3, 164.9 138.0 Q 163.4 139.7, 160.6 139.7 Q 157.8 139.7, 156.3 138.0 Q 154.8 136.3, 154.8 133.2 M 160.6 138.3 Q 162.5 138.3, 163.6 137.0 Q 164.6 135.7, 164.6 133.2 Q 164.6 130.8, 163.6 129.5 Q 162.5 128.3, 160.6 128.3 Q 158.7 128.3, 157.6 129.5 Q 156.6 130.7, 156.6 133.2 Q 156.6 135.8, 157.6 137.0 Q 158.7 138.3, 160.6 138.3 \" fill=\"#FF0000\"/>\n<path class=\"atom-3\" d=\"M 167.3 127.0 L 169.0 127.0 L 169.0 132.3 L 175.4 132.3 L 175.4 127.0 L 177.1 127.0 L 177.1 139.5 L 175.4 139.5 L 175.4 133.7 L 169.0 133.7 L 169.0 139.5 L 167.3 139.5 L 167.3 127.0 \" fill=\"#FF0000\"/>\n<path class=\"atom-4\" d=\"M 22.9 104.7 L 24.6 104.7 L 24.6 110.1 L 31.0 110.1 L 31.0 104.7 L 32.7 104.7 L 32.7 117.3 L 31.0 117.3 L 31.0 111.5 L 24.6 111.5 L 24.6 117.3 L 22.9 117.3 L 22.9 104.7 \" fill=\"#0000FF\"/>\n<path class=\"atom-4\" d=\"M 34.3 116.8 Q 34.6 116.1, 35.3 115.6 Q 36.0 115.2, 37.0 115.2 Q 38.3 115.2, 39.0 115.9 Q 39.7 116.5, 39.7 117.7 Q 39.7 119.0, 38.8 120.1 Q 37.9 121.3, 36.0 122.6 L 39.8 122.6 L 39.8 123.6 L 34.2 123.6 L 34.2 122.8 Q 35.8 121.7, 36.7 120.9 Q 37.6 120.0, 38.1 119.3 Q 38.5 118.6, 38.5 117.8 Q 38.5 117.0, 38.1 116.6 Q 37.7 116.1, 37.0 116.1 Q 36.4 116.1, 35.9 116.4 Q 35.5 116.7, 35.2 117.3 L 34.3 116.8 \" fill=\"#0000FF\"/>\n<path class=\"atom-4\" d=\"M 42.5 104.7 L 46.6 111.4 Q 47.1 112.0, 47.7 113.2 Q 48.4 114.4, 48.4 114.5 L 48.4 104.7 L 50.1 104.7 L 50.1 117.3 L 48.3 117.3 L 43.9 110.0 Q 43.4 109.2, 42.9 108.2 Q 42.3 107.2, 42.2 106.9 L 42.2 117.3 L 40.5 117.3 L 40.5 104.7 L 42.5 104.7 \" fill=\"#0000FF\"/>\n<path class=\"bond-0 atom-0 atom-1\" d=\"M 333.9,73.4 L 301.2,103.5\" style=\"fill:none;fill-rule:evenodd;stroke:#000000;stroke-width:2.0px;stroke-linecap:butt;stroke-linejoin:miter;stroke-opacity:1\"/>\n<path class=\"bond-1 atom-1 atom-2\" d=\"M 301.2,103.5 L 258.8,90.3\" style=\"fill:none;fill-rule:evenodd;stroke:#000000;stroke-width:2.0px;stroke-linecap:butt;stroke-linejoin:miter;stroke-opacity:1\"/>\n<path class=\"bond-2 atom-2 atom-3\" d=\"M 254.5,91.2 L 250.6,73.6\" style=\"fill:none;fill-rule:evenodd;stroke:#000000;stroke-width:2.0px;stroke-linecap:butt;stroke-linejoin:miter;stroke-opacity:1\"/>\n<path class=\"bond-2 atom-2 atom-3\" d=\"M 250.6,73.6 L 246.6,56.0\" style=\"fill:none;fill-rule:evenodd;stroke:#FF0000;stroke-width:2.0px;stroke-linecap:butt;stroke-linejoin:miter;stroke-opacity:1\"/>\n<path class=\"bond-2 atom-2 atom-3\" d=\"M 263.2,89.3 L 259.2,71.7\" style=\"fill:none;fill-rule:evenodd;stroke:#000000;stroke-width:2.0px;stroke-linecap:butt;stroke-linejoin:miter;stroke-opacity:1\"/>\n<path class=\"bond-2 atom-2 atom-3\" d=\"M 259.2,71.7 L 255.3,54.0\" style=\"fill:none;fill-rule:evenodd;stroke:#FF0000;stroke-width:2.0px;stroke-linecap:butt;stroke-linejoin:miter;stroke-opacity:1\"/>\n<path class=\"bond-3 atom-2 atom-4\" d=\"M 258.8,90.3 L 246.1,102.0\" style=\"fill:none;fill-rule:evenodd;stroke:#000000;stroke-width:2.0px;stroke-linecap:butt;stroke-linejoin:miter;stroke-opacity:1\"/>\n<path class=\"bond-3 atom-2 atom-4\" d=\"M 246.1,102.0 L 233.4,113.7\" style=\"fill:none;fill-rule:evenodd;stroke:#FF0000;stroke-width:2.0px;stroke-linecap:butt;stroke-linejoin:miter;stroke-opacity:1\"/>\n<path class=\"bond-4 atom-1 atom-5\" d=\"M 301.8,109.4 L 303.2,109.0\" style=\"fill:none;fill-rule:evenodd;stroke:#000000;stroke-width:1.0px;stroke-linecap:butt;stroke-linejoin:miter;stroke-opacity:1\"/>\n<path class=\"bond-4 atom-1 atom-5\" d=\"M 302.3,115.2 L 305.2,114.6\" style=\"fill:none;fill-rule:evenodd;stroke:#000000;stroke-width:1.0px;stroke-linecap:butt;stroke-linejoin:miter;stroke-opacity:1\"/>\n<path class=\"bond-4 atom-1 atom-5\" d=\"M 302.9,121.0 L 307.2,120.1\" style=\"fill:none;fill-rule:evenodd;stroke:#000000;stroke-width:1.0px;stroke-linecap:butt;stroke-linejoin:miter;stroke-opacity:1\"/>\n<path class=\"bond-4 atom-1 atom-5\" d=\"M 303.4,126.9 L 309.2,125.6\" style=\"fill:none;fill-rule:evenodd;stroke:#0000FF;stroke-width:1.0px;stroke-linecap:butt;stroke-linejoin:miter;stroke-opacity:1\"/>\n<path class=\"bond-4 atom-1 atom-5\" d=\"M 304.0,132.7 L 311.2,131.1\" style=\"fill:none;fill-rule:evenodd;stroke:#0000FF;stroke-width:1.0px;stroke-linecap:butt;stroke-linejoin:miter;stroke-opacity:1\"/>\n<path class=\"bond-4 atom-1 atom-5\" d=\"M 304.5,138.6 L 313.2,136.6\" style=\"fill:none;fill-rule:evenodd;stroke:#0000FF;stroke-width:1.0px;stroke-linecap:butt;stroke-linejoin:miter;stroke-opacity:1\"/>\n<path class=\"bond-5 atom-0 atom-6\" d=\"M 333.9,73.4 L 352.3,79.2\" style=\"fill:none;fill-rule:evenodd;stroke:#000000;stroke-width:2.0px;stroke-linecap:butt;stroke-linejoin:miter;stroke-opacity:1\"/>\n<path class=\"bond-5 atom-0 atom-6\" d=\"M 352.3,79.2 L 370.7,85.0\" style=\"fill:none;fill-rule:evenodd;stroke:#CCCC00;stroke-width:2.0px;stroke-linecap:butt;stroke-linejoin:miter;stroke-opacity:1\"/>\n<path class=\"atom-3\" d=\"M 243.4 47.0 Q 243.4 44.0, 244.9 42.3 Q 246.3 40.6, 249.1 40.6 Q 251.9 40.6, 253.4 42.3 Q 254.9 44.0, 254.9 47.0 Q 254.9 50.1, 253.4 51.8 Q 251.9 53.5, 249.1 53.5 Q 246.4 53.5, 244.9 51.8 Q 243.4 50.1, 243.4 47.0 M 249.1 52.1 Q 251.1 52.1, 252.1 50.8 Q 253.1 49.5, 253.1 47.0 Q 253.1 44.5, 252.1 43.3 Q 251.1 42.0, 249.1 42.0 Q 247.2 42.0, 246.2 43.3 Q 245.1 44.5, 245.1 47.0 Q 245.1 49.5, 246.2 50.8 Q 247.2 52.1, 249.1 52.1 \" fill=\"#FF0000\"/>\n<path class=\"atom-4\" d=\"M 209.1 114.1 L 210.8 114.1 L 210.8 119.5 L 217.2 119.5 L 217.2 114.1 L 218.9 114.1 L 218.9 126.7 L 217.2 126.7 L 217.2 120.9 L 210.8 120.9 L 210.8 126.7 L 209.1 126.7 L 209.1 114.1 \" fill=\"#FF0000\"/>\n<path class=\"atom-4\" d=\"M 220.4 120.4 Q 220.4 117.4, 221.9 115.7 Q 223.4 114.0, 226.2 114.0 Q 229.0 114.0, 230.5 115.7 Q 232.0 117.4, 232.0 120.4 Q 232.0 123.4, 230.5 125.2 Q 229.0 126.9, 226.2 126.9 Q 223.4 126.9, 221.9 125.2 Q 220.4 123.4, 220.4 120.4 M 226.2 125.5 Q 228.1 125.5, 229.2 124.2 Q 230.2 122.9, 230.2 120.4 Q 230.2 117.9, 229.2 116.7 Q 228.1 115.4, 226.2 115.4 Q 224.3 115.4, 223.2 116.6 Q 222.2 117.9, 222.2 120.4 Q 222.2 122.9, 223.2 124.2 Q 224.3 125.5, 226.2 125.5 \" fill=\"#FF0000\"/>\n<path class=\"atom-5\" d=\"M 308.1 140.5 L 312.3 147.2 Q 312.7 147.8, 313.3 149.0 Q 314.0 150.2, 314.0 150.3 L 314.0 140.5 L 315.7 140.5 L 315.7 153.1 L 314.0 153.1 L 309.5 145.8 Q 309.0 145.0, 308.5 144.0 Q 307.9 143.0, 307.8 142.7 L 307.8 153.1 L 306.2 153.1 L 306.2 140.5 L 308.1 140.5 \" fill=\"#0000FF\"/>\n<path class=\"atom-5\" d=\"M 317.2 140.5 L 318.9 140.5 L 318.9 145.9 L 325.3 145.9 L 325.3 140.5 L 327.0 140.5 L 327.0 153.1 L 325.3 153.1 L 325.3 147.3 L 318.9 147.3 L 318.9 153.1 L 317.2 153.1 L 317.2 140.5 \" fill=\"#0000FF\"/>\n<path class=\"atom-5\" d=\"M 328.5 152.7 Q 328.8 151.9, 329.6 151.4 Q 330.3 151.0, 331.3 151.0 Q 332.5 151.0, 333.2 151.7 Q 334.0 152.4, 334.0 153.6 Q 334.0 154.8, 333.0 155.9 Q 332.1 157.1, 330.3 158.4 L 334.1 158.4 L 334.1 159.4 L 328.5 159.4 L 328.5 158.6 Q 330.0 157.5, 331.0 156.7 Q 331.9 155.9, 332.3 155.1 Q 332.8 154.4, 332.8 153.6 Q 332.8 152.8, 332.4 152.4 Q 332.0 151.9, 331.3 151.9 Q 330.6 151.9, 330.2 152.2 Q 329.7 152.5, 329.4 153.1 L 328.5 152.7 \" fill=\"#0000FF\"/>\n<path class=\"atom-6\" d=\"M 372.7 91.0 Q 372.8 91.1, 373.4 91.3 Q 374.0 91.6, 374.6 91.7 Q 375.3 91.9, 375.9 91.9 Q 377.1 91.9, 377.8 91.3 Q 378.5 90.7, 378.5 89.7 Q 378.5 89.0, 378.1 88.6 Q 377.8 88.2, 377.3 87.9 Q 376.7 87.7, 375.8 87.4 Q 374.7 87.1, 374.0 86.8 Q 373.4 86.5, 372.9 85.8 Q 372.4 85.1, 372.4 84.0 Q 372.4 82.4, 373.5 81.4 Q 374.6 80.4, 376.7 80.4 Q 378.2 80.4, 379.8 81.1 L 379.4 82.5 Q 377.9 81.9, 376.8 81.9 Q 375.6 81.9, 374.9 82.4 Q 374.2 82.9, 374.2 83.8 Q 374.2 84.4, 374.6 84.8 Q 374.9 85.3, 375.4 85.5 Q 375.9 85.7, 376.8 86.0 Q 377.9 86.3, 378.6 86.7 Q 379.3 87.0, 379.7 87.8 Q 380.2 88.5, 380.2 89.7 Q 380.2 91.4, 379.1 92.4 Q 377.9 93.3, 376.0 93.3 Q 374.9 93.3, 374.0 93.1 Q 373.2 92.8, 372.2 92.4 L 372.7 91.0 \" fill=\"#CCCC00\"/>\n<path class=\"atom-6\" d=\"M 381.1 80.4 L 382.8 80.4 L 382.8 85.7 L 389.2 85.7 L 389.2 80.4 L 390.9 80.4 L 390.9 93.0 L 389.2 93.0 L 389.2 87.2 L 382.8 87.2 L 382.8 93.0 L 381.1 93.0 L 381.1 80.4 \" fill=\"#CCCC00\"/>\n</svg>"
          },
          "metadata": {},
          "execution_count": 20
        }
      ],
      "source": [
        "cysteine = mol_list[3]\n",
        "img = Draw.MolsToGridImage([glycine, cysteine], molsPerRow=4)\n",
        "img"
      ]
    },
    {
      "cell_type": "code",
      "execution_count": 21,
      "metadata": {
        "colab": {
          "base_uri": "https://localhost:8080/"
        },
        "id": "mHcFdGABafHJ",
        "outputId": "7e63cf96-8675-473a-960a-21a90a08723b"
      },
      "outputs": [
        {
          "output_type": "stream",
          "name": "stdout",
          "text": [
            "cysteine [1, 48, 80, 147, 229, 321, 389, 403, 435, 650, 786, 807, 820, 825, 893, 902]\n",
            "glycine [27, 80, 147, 389, 650, 713, 807, 893, 966, 981]\n"
          ]
        }
      ],
      "source": [
        "fp2 = AllChem.GetMorganFingerprintAsBitVect(cysteine, 2, nBits=1024, bitInfo=bi)\n",
        "print('cysteine',list(fp2.GetOnBits()))\n",
        "print('glycine',list(fp.GetOnBits()))"
      ]
    },
    {
      "cell_type": "code",
      "execution_count": 24,
      "metadata": {
        "colab": {
          "base_uri": "https://localhost:8080/"
        },
        "id": "yOOGczX6awue",
        "outputId": "b032949f-0a93-4f33-f87c-8e7d55113f72"
      },
      "outputs": [
        {
          "output_type": "stream",
          "name": "stdout",
          "text": [
            "{389, 807, 650, 80, 147, 893}\n",
            "{1, 321, 389, 902, 966, 713, 650, 80, 786, 147, 403, 981, 27, 229, 807, 48, 435, 820, 825, 893}\n",
            "0.3\n",
            "0.3\n"
          ]
        }
      ],
      "source": [
        "common = set(fp2.GetOnBits()) & set(fp.GetOnBits())\n",
        "combined = set(fp2.GetOnBits()) | set(fp.GetOnBits())\n",
        "print(common)\n",
        "print(combined)\n",
        "\n",
        "# 직접 계산\n",
        "print(len(common)/len(combined))\n",
        "\n",
        "# TanimotoSimilarity()를 사용하는 방법\n",
        "print(DataStructs.TanimotoSimilarity(fp, fp2))"
      ]
    },
    {
      "cell_type": "markdown",
      "source": [],
      "metadata": {
        "id": "ty-zZxftRZSU"
      }
    },
    {
      "cell_type": "markdown",
      "source": [
        "# Dataset을 로드하면서 특성 선택하기\n",
        "- load_tox21() 사용 예\n",
        " - Tox21는 분자의 독성정보 데이터\n",
        "\n"
      ],
      "metadata": {
        "id": "1MV78TuVYXve"
      }
    },
    {
      "cell_type": "code",
      "source": [
        "tasks, datasets, transformers = dc.molnet.load_tox21(featurizer='ECFP')\n",
        "train_dataset, valid_dataset, test_dataset = datasets\n",
        "print(train_dataset)"
      ],
      "metadata": {
        "colab": {
          "base_uri": "https://localhost:8080/"
        },
        "id": "C9Ik94rNYW6r",
        "outputId": "655d4bc3-d89d-4039-dace-0b90137c4006"
      },
      "execution_count": 25,
      "outputs": [
        {
          "output_type": "stream",
          "name": "stdout",
          "text": [
            "<DiskDataset X.shape: (6264, 1024), y.shape: (6264, 12), w.shape: (6264, 12), task_names: ['NR-AR' 'NR-AR-LBD' 'NR-AhR' ... 'SR-HSE' 'SR-MMP' 'SR-p53']>\n"
          ]
        }
      ]
    },
    {
      "cell_type": "code",
      "source": [
        "transformers"
      ],
      "metadata": {
        "colab": {
          "base_uri": "https://localhost:8080/"
        },
        "id": "Nq-ZeVqScuGG",
        "outputId": "01d9eb4a-de16-46ba-8c72-46ae96eda2b3"
      },
      "execution_count": 26,
      "outputs": [
        {
          "output_type": "execute_result",
          "data": {
            "text/plain": [
              "[<deepchem.trans.transformers.BalancingTransformer at 0x7f1fb27f0650>]"
            ]
          },
          "metadata": {},
          "execution_count": 26
        }
      ]
    },
    {
      "cell_type": "code",
      "source": [
        "train_dataset.w"
      ],
      "metadata": {
        "colab": {
          "base_uri": "https://localhost:8080/"
        },
        "id": "M7X7-AgoZP3a",
        "outputId": "d7cdfb17-dd77-4719-b6eb-b11ab41cc754"
      },
      "execution_count": 27,
      "outputs": [
        {
          "output_type": "execute_result",
          "data": {
            "text/plain": [
              "array([[1.04502242, 1.03632599, 1.12502653, ..., 1.05576503, 1.17464996,\n",
              "        1.05288369],\n",
              "       [1.04502242, 1.03632599, 1.12502653, ..., 1.05576503, 1.17464996,\n",
              "        1.05288369],\n",
              "       [1.04502242, 1.03632599, 1.12502653, ..., 1.05576503, 0.        ,\n",
              "        1.05288369],\n",
              "       ...,\n",
              "       [1.04502242, 0.        , 1.12502653, ..., 1.05576503, 6.7257384 ,\n",
              "        1.05288369],\n",
              "       [1.04502242, 1.03632599, 1.12502653, ..., 1.05576503, 6.7257384 ,\n",
              "        1.05288369],\n",
              "       [1.04502242, 1.03632599, 1.12502653, ..., 0.        , 1.17464996,\n",
              "        1.05288369]])"
            ]
          },
          "metadata": {},
          "execution_count": 27
        }
      ]
    },
    {
      "cell_type": "markdown",
      "source": [
        "- `y`의 모양이 (6264, 12)이며 이는 12가지의 멀티태스크가 있음을 나타낸다\n",
        "- w (가중치)의 의미\n",
        " - 이 값이 0이면 결측치를 나타낸다. 해당 샘플에 대해서는 손실함수나 성능평가 시에 무시하도록 한다\n",
        " - 이 값은 대부분의 경우 1 또는 1 근처의 값을 갖는다\n",
        " - 이 값은 각 태스크별로 레이블 분포의 불균형을 보완하기 위해서 사용된다\n",
        " - 12개 태스크가 균등하게 성능에 기여하도록 조정하는데 사용된다.\n"
      ],
      "metadata": {
        "id": "qw8uIFgjYz5C"
      }
    },
    {
      "cell_type": "markdown",
      "source": [
        "## Fringerprint를 사용한 독성 예측\n",
        "\n",
        "- MLP 모델을 사용 (한개의 히든 계층 사용)\n",
        "- 12개의 이진 분류 태스크를 수행\n",
        "- auc와 accuracy를 측정"
      ],
      "metadata": {
        "id": "0gARJPr-azq8"
      }
    },
    {
      "cell_type": "code",
      "source": [
        "model = dc.models.MultitaskClassifier(n_tasks=12, n_features=1024, layer_sizes=[1000])\n",
        "model.fit(train_dataset, nb_epoch=20)\n",
        "metric1 = dc.metrics.Metric(dc.metrics.roc_auc_score)\n",
        "metric2 = dc.metrics.Metric(dc.metrics.accuracy_score)\n",
        "print('training set score:', model.evaluate(train_dataset, [metric1, metric2], transformers))\n",
        "print('test set score:', model.evaluate(test_dataset, [metric1, metric2], transformers))"
      ],
      "metadata": {
        "colab": {
          "base_uri": "https://localhost:8080/"
        },
        "id": "_eZnfRblRJsK",
        "outputId": "5743f02d-d17f-4a00-d528-d5d4ed456a67"
      },
      "execution_count": 35,
      "outputs": [
        {
          "output_type": "stream",
          "name": "stdout",
          "text": [
            "training set score: {'roc_auc_score': 0.9749084249087031, 'accuracy_score': 0.917398361004683}\n",
            "test set score: {'roc_auc_score': 0.6744832540859882, 'accuracy_score': 0.8358843537414966}\n"
          ]
        }
      ]
    }
  ],
  "metadata": {
    "colab": {
      "collapsed_sections": [],
      "provenance": [],
      "toc_visible": true,
      "include_colab_link": true
    },
    "kernelspec": {
      "display_name": "Python 3",
      "language": "python",
      "name": "python3"
    },
    "language_info": {
      "codemirror_mode": {
        "name": "ipython",
        "version": 3
      },
      "file_extension": ".py",
      "mimetype": "text/x-python",
      "name": "python",
      "nbconvert_exporter": "python",
      "pygments_lexer": "ipython3",
      "version": "3.8.8"
    },
    "toc": {
      "base_numbering": 1,
      "nav_menu": {},
      "number_sections": false,
      "sideBar": true,
      "skip_h1_title": false,
      "title_cell": "Table of Contents",
      "title_sidebar": "Contents",
      "toc_cell": false,
      "toc_position": {},
      "toc_section_display": true,
      "toc_window_display": false
    },
    "accelerator": "GPU",
    "gpuClass": "standard"
  },
  "nbformat": 4,
  "nbformat_minor": 0
}