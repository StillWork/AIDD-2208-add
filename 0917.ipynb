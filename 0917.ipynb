{
  "nbformat": 4,
  "nbformat_minor": 0,
  "metadata": {
    "colab": {
      "provenance": [],
      "toc_visible": true,
      "authorship_tag": "ABX9TyMNA17byccFAfpws/WJ/pNt",
      "include_colab_link": true
    },
    "kernelspec": {
      "name": "python3",
      "display_name": "Python 3"
    },
    "language_info": {
      "name": "python"
    }
  },
  "cells": [
    {
      "cell_type": "markdown",
      "metadata": {
        "id": "view-in-github",
        "colab_type": "text"
      },
      "source": [
        "<a href=\"https://colab.research.google.com/github/StillWork/AIDD-2208-add/blob/main/0917.ipynb\" target=\"_parent\"><img src=\"https://colab.research.google.com/assets/colab-badge.svg\" alt=\"Open In Colab\"/></a>"
      ]
    },
    {
      "cell_type": "markdown",
      "source": [
        "# 쥬피터 노트북은 문서 작성도 쉽게 지원한다\n",
        "## 작은 제목\n",
        "### 더 작은 제목 (마크업 언어)\n",
        "- 들여쓰기\n",
        "- 여러 항목\n",
        " - 더 안으로\n",
        " - 내용 추가\n",
        "> 더 들여쓰기입니다.\n",
        "> 새로운 블록"
      ],
      "metadata": {
        "id": "hxLmafEl3HRf"
      }
    },
    {
      "cell_type": "code",
      "execution_count": 1,
      "metadata": {
        "colab": {
          "base_uri": "https://localhost:8080/"
        },
        "id": "EgqIC-cD2o_U",
        "outputId": "f773d9f6-8645-48e6-c5dd-742d03f331bb"
      },
      "outputs": [
        {
          "output_type": "execute_result",
          "data": {
            "text/plain": [
              "103"
            ]
          },
          "metadata": {},
          "execution_count": 1
        }
      ],
      "source": [
        "x = 3 # 값을 배정한다\n",
        "x+100"
      ]
    },
    {
      "cell_type": "code",
      "source": [
        "y = 5\n",
        "x * y"
      ],
      "metadata": {
        "colab": {
          "base_uri": "https://localhost:8080/"
        },
        "id": "VpKb3wFk23fg",
        "outputId": "5eb32fc6-e243-493f-c76f-fee138730396"
      },
      "execution_count": 2,
      "outputs": [
        {
          "output_type": "execute_result",
          "data": {
            "text/plain": [
              "15"
            ]
          },
          "metadata": {},
          "execution_count": 2
        }
      ]
    },
    {
      "cell_type": "markdown",
      "source": [
        "# 종료"
      ],
      "metadata": {
        "id": "YOmm1yZl3VaX"
      }
    },
    {
      "cell_type": "code",
      "source": [],
      "metadata": {
        "id": "2tN3jumM259Z"
      },
      "execution_count": null,
      "outputs": []
    }
  ]
}