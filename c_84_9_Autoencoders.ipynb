{
  "cells": [
    {
      "cell_type": "markdown",
      "metadata": {
        "id": "view-in-github",
        "colab_type": "text"
      },
      "source": [
        "<a href=\"https://colab.research.google.com/github/StillWork/AIDD-2208-add/blob/main/c_84_9_Autoencoders.ipynb\" target=\"_parent\"><img src=\"https://colab.research.google.com/assets/colab-badge.svg\" alt=\"Open In Colab\"/></a>"
      ]
    },
    {
      "cell_type": "markdown",
      "metadata": {
        "id": "3OExwW_DfRmy"
      },
      "source": [
        "# 오토인코더\n",
        "- 이미지를 재구성하는 비지도 학습\n",
        " - 이미지를 작은 크기의 벡터로 임베딩\n",
        "- MNIST 이미지 사용\n"
      ]
    },
    {
      "cell_type": "markdown",
      "metadata": {
        "id": "lMcKEsE7fRmz"
      },
      "source": [
        "- [참고 블로그](https://towardsdatascience.com/deep-inside-autoencoders-7e41f319999f)"
      ]
    },
    {
      "cell_type": "markdown",
      "source": [
        "# import"
      ],
      "metadata": {
        "id": "UrhT_Nu9O91y"
      }
    },
    {
      "cell_type": "code",
      "execution_count": 68,
      "metadata": {
        "id": "pvYYDY5MfRm2"
      },
      "outputs": [],
      "source": [
        "import keras\n",
        "import numpy as np\n",
        "import matplotlib.pyplot as plt\n",
        "%matplotlib inline\n",
        "%config InlineBackend.figure_format = 'retina'\n",
        "\n",
        "from keras.datasets import mnist\n",
        "from keras.models import Model\n",
        "from keras.layers import Input, add\n",
        "from keras.layers.core import Dense, Dropout, Activation, Flatten, Reshape\n",
        "from keras import regularizers\n",
        "from keras.regularizers import l2\n",
        "from keras.layers.convolutional import Conv2D, MaxPooling2D, UpSampling2D, ZeroPadding2D\n",
        "from keras.utils import np_utils"
      ]
    },
    {
      "cell_type": "markdown",
      "metadata": {
        "id": "YKf1HBACfRm8"
      },
      "source": [
        "# 데이터\n",
        "- 비지도 학습이므로 레이블이 필요없다"
      ]
    },
    {
      "cell_type": "code",
      "execution_count": 69,
      "metadata": {
        "id": "X9xtZnDHfRm9"
      },
      "outputs": [],
      "source": [
        "(X_train, _), (X_test, _) = mnist.load_data()"
      ]
    },
    {
      "cell_type": "code",
      "execution_count": 70,
      "metadata": {
        "id": "GobsF2csiP-7",
        "outputId": "a77565cb-cdb0-4b4d-fd06-98ce1919a43a",
        "colab": {
          "base_uri": "https://localhost:8080/"
        }
      },
      "outputs": [
        {
          "output_type": "execute_result",
          "data": {
            "text/plain": [
              "((60000, 28, 28), (10000, 28, 28))"
            ]
          },
          "metadata": {},
          "execution_count": 70
        }
      ],
      "source": [
        "X_train.shape, X_test.shape"
      ]
    },
    {
      "cell_type": "markdown",
      "metadata": {
        "id": "yL1F4n8MfRnA"
      },
      "source": [
        "## 전처리\n",
        "- 스케일링과 flat화"
      ]
    },
    {
      "cell_type": "code",
      "execution_count": 71,
      "metadata": {
        "id": "lGC8B-RrfRnB"
      },
      "outputs": [],
      "source": [
        "X_train = X_train.astype(\"float32\")/255.\n",
        "X_test = X_test.astype(\"float32\")/255."
      ]
    },
    {
      "cell_type": "code",
      "execution_count": 72,
      "metadata": {
        "id": "T_Am_SgqfRnF"
      },
      "outputs": [],
      "source": [
        "X_train_flat = X_train.reshape(-1, 28*28)\n",
        "X_test_flat = X_test.reshape(-1, 28*28)"
      ]
    },
    {
      "cell_type": "markdown",
      "metadata": {
        "id": "a5Ylf8-MfRnK"
      },
      "source": [
        "# 오코인코더 모델\n",
        "- 1개의 히든 계층만 있는 단순한 모델"
      ]
    },
    {
      "cell_type": "code",
      "execution_count": 73,
      "metadata": {
        "id": "06aJTsDyfRnL"
      },
      "outputs": [],
      "source": [
        "input_size = 784\n",
        "hidden_size = 64\n",
        "output_size = 784"
      ]
    },
    {
      "cell_type": "code",
      "execution_count": 74,
      "metadata": {
        "id": "RTSADHJtfRnO"
      },
      "outputs": [],
      "source": [
        "x = Input(shape=(input_size,))\n",
        "h = Dense(hidden_size, activation='relu')(x)\n",
        "r = Dense(output_size, activation='sigmoid')(h)\n",
        "\n",
        "autoencoder = Model(inputs=x, outputs=r)\n",
        "autoencoder.compile(optimizer='adam', loss='mse')"
      ]
    },
    {
      "cell_type": "code",
      "execution_count": 75,
      "metadata": {
        "colab": {
          "base_uri": "https://localhost:8080/"
        },
        "id": "aJcZ4HF4hamI",
        "outputId": "88d7b91e-0c34-46ef-a79c-66cbf452c35c"
      },
      "outputs": [
        {
          "output_type": "stream",
          "name": "stdout",
          "text": [
            "Model: \"model_15\"\n",
            "_________________________________________________________________\n",
            " Layer (type)                Output Shape              Param #   \n",
            "=================================================================\n",
            " input_8 (InputLayer)        [(None, 784)]             0         \n",
            "                                                                 \n",
            " dense_14 (Dense)            (None, 64)                50240     \n",
            "                                                                 \n",
            " dense_15 (Dense)            (None, 784)               50960     \n",
            "                                                                 \n",
            "=================================================================\n",
            "Total params: 101,200\n",
            "Trainable params: 101,200\n",
            "Non-trainable params: 0\n",
            "_________________________________________________________________\n"
          ]
        }
      ],
      "source": [
        "autoencoder.summary()"
      ]
    },
    {
      "cell_type": "markdown",
      "metadata": {
        "id": "AbFqzKnGfRnU"
      },
      "source": [
        "# 인코더 학습"
      ]
    },
    {
      "cell_type": "code",
      "execution_count": 76,
      "metadata": {
        "colab": {
          "base_uri": "https://localhost:8080/"
        },
        "id": "8Cw3-c5kfRnV",
        "outputId": "47ebb6df-e89b-4cd3-b968-beb10551b8fd"
      },
      "outputs": [
        {
          "output_type": "stream",
          "name": "stdout",
          "text": [
            "Epoch 1/5\n",
            "469/469 [==============================] - 4s 7ms/step - loss: 0.0445 - val_loss: 0.0229\n",
            "Epoch 2/5\n",
            "469/469 [==============================] - 2s 5ms/step - loss: 0.0174 - val_loss: 0.0128\n",
            "Epoch 3/5\n",
            "469/469 [==============================] - 2s 5ms/step - loss: 0.0107 - val_loss: 0.0085\n",
            "Epoch 4/5\n",
            "469/469 [==============================] - 2s 5ms/step - loss: 0.0077 - val_loss: 0.0065\n",
            "Epoch 5/5\n",
            "469/469 [==============================] - 2s 5ms/step - loss: 0.0062 - val_loss: 0.0055\n"
          ]
        }
      ],
      "source": [
        "epochs = 5\n",
        "batch_size = 128\n",
        "\n",
        "history = autoencoder.fit(X_train_flat, X_train_flat, batch_size=batch_size, \n",
        "        epochs=epochs, verbose=1, validation_data=(X_test_flat, X_test_flat))"
      ]
    },
    {
      "cell_type": "markdown",
      "source": [
        "## 벡터값 보기"
      ],
      "metadata": {
        "id": "WteBCwEsPUet"
      }
    },
    {
      "cell_type": "code",
      "execution_count": 77,
      "metadata": {
        "id": "_uTwPAMLfRnX",
        "colab": {
          "base_uri": "https://localhost:8080/"
        },
        "outputId": "d79e6a9a-0157-43b7-b766-c0ec40e11e5a"
      },
      "outputs": [
        {
          "output_type": "stream",
          "name": "stdout",
          "text": [
            "313/313 [==============================] - 0s 1ms/step\n"
          ]
        },
        {
          "output_type": "execute_result",
          "data": {
            "text/plain": [
              "array([[4.4034743e+00, 5.1661849e-01, 9.4482641e+00, 2.9814022e+00,\n",
              "        2.7471242e+00, 2.0978072e+00, 6.5651240e+00, 5.9349213e+00,\n",
              "        3.5219724e+00, 4.5670013e+00, 2.5821936e+00, 3.5627036e+00,\n",
              "        1.0857835e+01, 1.8828496e+00, 4.4545569e+00, 1.4596702e+00,\n",
              "        2.8632677e-01, 3.0085375e+00, 3.8232045e+00, 2.1871452e+00,\n",
              "        4.7106924e+00, 5.2960243e+00, 2.7455349e+00, 3.0972805e+00,\n",
              "        3.5658200e+00, 4.5579386e+00, 3.8610497e+00, 4.9349370e+00,\n",
              "        3.3070278e+00, 0.0000000e+00, 1.6423696e+00, 5.4663334e+00,\n",
              "        9.3759871e+00, 4.3700500e+00, 3.0935431e+00, 1.7626460e+00,\n",
              "        4.1609182e+00, 5.7198157e+00, 8.5870085e+00, 4.5834017e+00,\n",
              "        4.7022362e+00, 3.9133492e+00, 1.9879519e+00, 6.3251700e+00,\n",
              "        3.5309229e+00, 5.0166473e+00, 6.2989950e+00, 1.1257669e+00,\n",
              "        4.1806521e+00, 5.5088143e+00, 5.4971123e+00, 6.3649759e+00,\n",
              "        1.5880809e+00, 2.7516141e+00, 2.6555288e-01, 1.9472355e-01,\n",
              "        9.4513159e+00, 2.7919853e+00, 2.6327260e+00, 3.1248741e+00,\n",
              "        3.4001594e+00, 4.8279462e+00, 6.2204633e+00, 8.5121956e+00],\n",
              "       [5.1394973e+00, 9.0217657e+00, 3.5234518e+00, 3.8755853e+00,\n",
              "        5.7098727e+00, 2.4871812e+00, 6.3033032e+00, 4.8184323e+00,\n",
              "        2.1729133e+00, 1.6024788e+01, 3.1630328e+00, 9.1248608e-01,\n",
              "        6.6246448e+00, 2.5651038e+00, 5.9104362e+00, 1.2298461e+00,\n",
              "        5.2448096e+00, 4.0524569e+00, 6.5178223e+00, 2.6770439e+00,\n",
              "        8.8724489e+00, 5.0308933e+00, 4.5274940e+00, 1.4979290e+00,\n",
              "        1.1060901e+01, 4.1332550e+00, 3.4418144e+00, 7.0244966e+00,\n",
              "        2.2921190e+00, 1.2406541e+01, 4.2386575e+00, 6.7442942e+00,\n",
              "        2.5861659e+00, 8.2475510e+00, 6.9513278e+00, 2.5320828e+00,\n",
              "        7.6617208e+00, 2.0974796e+00, 2.9457073e+00, 0.0000000e+00,\n",
              "        5.9131184e+00, 7.3987713e+00, 7.4697328e+00, 0.0000000e+00,\n",
              "        4.0608683e+00, 2.7801950e+00, 6.2504244e+00, 4.4932303e+00,\n",
              "        1.8705888e+00, 6.6286807e+00, 4.2640314e+00, 6.7673645e+00,\n",
              "        4.2451472e+00, 5.4739919e+00, 1.1592415e+01, 1.2067324e+00,\n",
              "        1.1491277e+01, 2.7364619e+00, 8.7974901e+00, 5.1845245e+00,\n",
              "        9.2648392e+00, 1.2368154e+01, 4.0431724e+00, 2.5168548e+00],\n",
              "       [6.7331254e-01, 3.9131567e-01, 0.0000000e+00, 5.2560353e-01,\n",
              "        2.5107782e+00, 1.4140878e+00, 6.2357396e-01, 1.3271103e+00,\n",
              "        2.6719826e-01, 5.5120153e+00, 2.1575696e+00, 1.5085804e+00,\n",
              "        2.8701713e+00, 1.6699048e+00, 2.4818106e+00, 1.9721574e+00,\n",
              "        1.0239806e+00, 3.4773717e+00, 2.9853287e-01, 4.8717055e+00,\n",
              "        1.5529037e+00, 3.2284553e+00, 9.0485030e-01, 4.4289799e+00,\n",
              "        1.9379376e+00, 4.3256936e+00, 1.9072034e+00, 2.3477812e+00,\n",
              "        1.7641985e-01, 2.6494076e+00, 2.0914006e+00, 6.1228595e+00,\n",
              "        9.0351015e-01, 2.1213439e+00, 4.4730468e+00, 1.3888119e+00,\n",
              "        4.6494279e+00, 1.9547982e+00, 3.5317378e+00, 2.6279581e+00,\n",
              "        4.5942926e+00, 3.7632194e+00, 8.8950515e-01, 3.3181973e+00,\n",
              "        5.6971231e+00, 2.3675728e+00, 3.1894155e+00, 7.3044622e-01,\n",
              "        3.1233330e+00, 2.4468198e+00, 1.2523767e+00, 3.0215836e+00,\n",
              "        2.5074883e+00, 1.5593559e-01, 5.7560058e+00, 4.1185942e+00,\n",
              "        1.7435161e+00, 8.6796284e-03, 2.7116375e+00, 2.6036634e+00,\n",
              "        1.6286539e+00, 1.2439715e+00, 2.0640550e+00, 4.9478860e+00]],\n",
              "      dtype=float32)"
            ]
          },
          "metadata": {},
          "execution_count": 77
        }
      ],
      "source": [
        "img_encoder = Model(x, h)\n",
        "encoded_imgs = img_encoder.predict(X_test_flat)\n",
        "encoded_imgs[:3]\n",
        "# n = 10\n",
        "# plt.figure(figsize=(20, 8))\n",
        "# for i in range(n):\n",
        "#     ax = plt.subplot(1, n, i+1)\n",
        "#     plt.imshow(encoded_imgs[i].reshape(4, 16).T)\n",
        "#     plt.gray()\n",
        "#     ax.get_xaxis().set_visible(False)\n",
        "#     ax.get_yaxis().set_visible(False)\n",
        "# plt.show()"
      ]
    },
    {
      "cell_type": "markdown",
      "metadata": {
        "id": "52Pw8IkufRnd"
      },
      "source": [
        "## 원본과 재구성된 이미지 비교"
      ]
    },
    {
      "cell_type": "code",
      "execution_count": 78,
      "metadata": {
        "id": "iwgnHtm2fRna",
        "colab": {
          "base_uri": "https://localhost:8080/"
        },
        "outputId": "f295f16a-3df0-4f4c-cfe0-cb0b17d7e2ab"
      },
      "outputs": [
        {
          "output_type": "stream",
          "name": "stdout",
          "text": [
            "313/313 [==============================] - 1s 2ms/step\n"
          ]
        }
      ],
      "source": [
        "decoded_imgs = autoencoder.predict(X_test_flat)"
      ]
    },
    {
      "cell_type": "code",
      "execution_count": 79,
      "metadata": {
        "colab": {
          "base_uri": "https://localhost:8080/",
          "height": 244
        },
        "id": "ZynQlx9PfRnf",
        "outputId": "fad9cf50-b38a-49fa-96c3-9610f7d403f2"
      },
      "outputs": [
        {
          "output_type": "display_data",
          "data": {
            "text/plain": [
              "<Figure size 1440x432 with 20 Axes>"
            ],
            "image/png": "[encoded data removed]"
          },
          "metadata": {
            "image/png": {
              "width": 1133,
              "height": 227
            },
            "needs_background": "light"
          }
        }
      ],
      "source": [
        "n = 10\n",
        "plt.figure(figsize=(20, 6))\n",
        "for i in range(n):\n",
        "    # display original\n",
        "    ax = plt.subplot(3, n, i+1)\n",
        "    plt.imshow(X_test[i].reshape(28, 28))\n",
        "    plt.gray()\n",
        "    ax.get_xaxis().set_visible(False)\n",
        "    ax.get_yaxis().set_visible(False)\n",
        "\n",
        "    \n",
        "    # display reconstruction\n",
        "    ax = plt.subplot(3, n, i+n+1)\n",
        "    plt.imshow(decoded_imgs[i].reshape(28, 28))\n",
        "    plt.gray()\n",
        "    ax.get_xaxis().set_visible(False)\n",
        "    ax.get_yaxis().set_visible(False)\n",
        "    \n",
        "plt.show()"
      ]
    },
    {
      "cell_type": "code",
      "source": [],
      "metadata": {
        "id": "QuWDCIuaMqUe"
      },
      "execution_count": 79,
      "outputs": []
    }
  ],
  "metadata": {
    "colab": {
      "collapsed_sections": [],
      "provenance": [],
      "include_colab_link": true
    },
    "kernelspec": {
      "display_name": "Python 3",
      "language": "python",
      "name": "python3"
    },
    "language_info": {
      "codemirror_mode": {
        "name": "ipython",
        "version": 3
      },
      "file_extension": ".py",
      "mimetype": "text/x-python",
      "name": "python",
      "nbconvert_exporter": "python",
      "pygments_lexer": "ipython3",
      "version": "3.8.8"
    },
    "toc": {
      "base_numbering": 1,
      "nav_menu": {},
      "number_sections": false,
      "sideBar": true,
      "skip_h1_title": false,
      "title_cell": "Table of Contents",
      "title_sidebar": "Contents",
      "toc_cell": false,
      "toc_position": {},
      "toc_section_display": true,
      "toc_window_display": true
    }
  },
  "nbformat": 4,
  "nbformat_minor": 0
}