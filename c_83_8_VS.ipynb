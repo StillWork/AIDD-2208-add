{
  "cells": [
    {
      "cell_type": "markdown",
      "metadata": {
        "id": "FJpHthE60TBJ"
      },
      "source": [
        "# 가상 스크리닝\n",
        "\n",
        "- ERK2 단백질을 억제하는 분자를 예측하는 모델을 만든다\n",
        " - extracellular signal-regulated kinase (다수의 생화학적 신호에 관여하고 세포의 증식 분화 전사조절에 관여한다)\n",
        " - 비소세포성 폐암 non-small cell lung cancer과 흑색종(피부암)에 대해 임상시험중\n",
        "\n",
        "- 그래프 합성곱 모델 사용\n",
        "- DUD-E 데이터베이스에서 활성 및 비활성 분자 데이터 사용"
      ]
    },
    {
      "cell_type": "markdown",
      "source": [
        "# import"
      ],
      "metadata": {
        "id": "2OpzBVDCDT3t"
      }
    },
    {
      "cell_type": "code",
      "execution_count": 1,
      "metadata": {
        "colab": {
          "base_uri": "https://localhost:8080/"
        },
        "id": "bd95Jgdy2As-",
        "outputId": "9df0f18b-45ca-4031-8daf-76fb60f9247f"
      },
      "outputs": [
        {
          "output_type": "stream",
          "name": "stdout",
          "text": [
            "Looking in indexes: https://pypi.org/simple, https://us-python.pkg.dev/colab-wheels/public/simple/\n",
            "Collecting DeepChem\n",
            "  Downloading deepchem-2.6.1-py3-none-any.whl (608 kB)\n",
            "\u001b[K     |████████████████████████████████| 608 kB 32.4 MB/s \n",
            "\u001b[?25hRequirement already satisfied: numpy>=1.21 in /usr/local/lib/python3.7/dist-packages (from DeepChem) (1.21.6)\n",
            "Collecting rdkit-pypi\n",
            "  Downloading rdkit_pypi-2022.3.5-cp37-cp37m-manylinux_2_17_x86_64.manylinux2014_x86_64.whl (36.8 MB)\n",
            "\u001b[K     |████████████████████████████████| 36.8 MB 36 kB/s \n",
            "\u001b[?25hRequirement already satisfied: scipy in /usr/local/lib/python3.7/dist-packages (from DeepChem) (1.7.3)\n",
            "Requirement already satisfied: joblib in /usr/local/lib/python3.7/dist-packages (from DeepChem) (1.1.0)\n",
            "Requirement already satisfied: scikit-learn in /usr/local/lib/python3.7/dist-packages (from DeepChem) (1.0.2)\n",
            "Requirement already satisfied: pandas in /usr/local/lib/python3.7/dist-packages (from DeepChem) (1.3.5)\n",
            "Requirement already satisfied: pytz>=2017.3 in /usr/local/lib/python3.7/dist-packages (from pandas->DeepChem) (2022.1)\n",
            "Requirement already satisfied: python-dateutil>=2.7.3 in /usr/local/lib/python3.7/dist-packages (from pandas->DeepChem) (2.8.2)\n",
            "Requirement already satisfied: six>=1.5 in /usr/local/lib/python3.7/dist-packages (from python-dateutil>=2.7.3->pandas->DeepChem) (1.15.0)\n",
            "Requirement already satisfied: Pillow in /usr/local/lib/python3.7/dist-packages (from rdkit-pypi->DeepChem) (7.1.2)\n",
            "Requirement already satisfied: threadpoolctl>=2.0.0 in /usr/local/lib/python3.7/dist-packages (from scikit-learn->DeepChem) (3.1.0)\n",
            "Installing collected packages: rdkit-pypi, DeepChem\n",
            "Successfully installed DeepChem-2.6.1 rdkit-pypi-2022.3.5\n"
          ]
        }
      ],
      "source": [
        "!pip install DeepChem"
      ]
    },
    {
      "cell_type": "code",
      "execution_count": 56,
      "metadata": {
        "id": "UGcjm8HGz4yT"
      },
      "outputs": [],
      "source": [
        "import deepchem as dc\n",
        "from rdkit import Chem\n",
        "from rdkit.Chem import AllChem\n",
        "from rdkit.Chem import Draw\n",
        "from rdkit.Chem.Draw import IPythonConsole\n",
        "from rdkit.Chem import PandasTools\n",
        "from rdkit.Chem import Descriptors\n",
        "from rdkit.Chem import rdmolops\n",
        "import seaborn as sns\n",
        "%config InlineBackend.figure_format = 'retina'"
      ]
    },
    {
      "cell_type": "code",
      "source": [
        "from deepchem.models import GraphConvModel\n",
        "import numpy as np\n",
        "import pandas as pd\n",
        "import sys\n",
        "from tqdm.auto import tqdm\n",
        "\n",
        "from rdkit import DataStructs\n",
        "from rdkit.ML.Cluster import Butina\n",
        "from rdkit.Chem import rdMolDescriptors as rdmd"
      ],
      "metadata": {
        "id": "WtF6y49KFIN4"
      },
      "execution_count": 113,
      "outputs": []
    },
    {
      "cell_type": "code",
      "execution_count": 58,
      "metadata": {
        "id": "j8gfrBZaOG6V"
      },
      "outputs": [],
      "source": [
        "# import warnings\n",
        "# warnings.filterwarnings(\"ignore\")"
      ]
    },
    {
      "cell_type": "markdown",
      "source": [
        "# 데이터\n",
        "\n",
        "- 분자 데이터는 SMILES 형식이다. 이를 데이터프레임에 불러온다\n",
        "- AddMoleculeColumnToFrame()를 사용해 SMILES를 데이터프레임이 추가한다"
      ],
      "metadata": {
        "id": "PzA-0qesDcZS"
      }
    },
    {
      "cell_type": "code",
      "execution_count": 4,
      "metadata": {
        "id": "CPqIv1_8z4yU"
      },
      "outputs": [],
      "source": [
        "active_df = pd.read_csv(\"https://raw.githubusercontent.com/deepchem/DeepLearningLifeSciences/master/Chapter11/mk01/actives_final.ism\",\n",
        "                        header=None,sep=\" \")\n",
        "active_rows,active_cols = active_df.shape\n",
        "active_df.columns = [\"SMILES\",\"ID\",\"ChEMBL_ID\"]\n",
        "active_df[\"label\"] = [\"Active\"]*active_rows\n",
        "PandasTools.AddMoleculeColumnToFrame(active_df,\"SMILES\",\"Mol\")\n"
      ]
    },
    {
      "cell_type": "markdown",
      "metadata": {
        "id": "m5xtBXHRz4yU"
      },
      "source": [
        "## 데이터프레임에 계산된 특성값을 추가\n",
        "- 분자량 molecular weight, \n",
        "- 분배 계수 partition coefficeint(LogP) - 유성물질(옥탄올)에서 물로 분리되는 능력\n",
        "- 전하 charge (양인지 음인지)"
      ]
    },
    {
      "cell_type": "code",
      "execution_count": 5,
      "metadata": {
        "id": "IqjKaT8Ez4yU"
      },
      "outputs": [],
      "source": [
        "def add_property_columns_to_df(df_in):\n",
        "    df_in[\"mw\"] = [Descriptors.MolWt(mol) for mol in df_in.Mol]\n",
        "    df_in[\"logP\"] = [Descriptors.MolLogP(mol) for mol in df_in.Mol]\n",
        "    df_in[\"charge\"] = [rdmolops.GetFormalCharge(mol) for mol in df_in.Mol]"
      ]
    },
    {
      "cell_type": "code",
      "execution_count": 59,
      "metadata": {
        "id": "hS4OpyOiz4yV",
        "colab": {
          "base_uri": "https://localhost:8080/",
          "height": 1000
        },
        "outputId": "e04143f0-08fa-4529-f33d-ab6967d166a6"
      },
      "outputs": [
        {
          "output_type": "execute_result",
          "data": {
            "text/plain": [
              "                                              SMILES      ID     ChEMBL_ID  \\\n",
              "0  Cn1ccnc1Sc2ccc(cc2Cl)Nc3c4cc(c(cc4ncc3C#N)OCCC...  168691  CHEMBL318804   \n",
              "1  C[C@@]12[C@@H]([C@@H](CC(O1)n3c4ccccc4c5c3c6n2...   86358     CHEMBL162   \n",
              "2  Cc1cnc(nc1c2cc([nH]c2)C(=O)N[C@H](CO)c3cccc(c3...  575087  CHEMBL576683   \n",
              "3  Cc1cnc(nc1c2cc([nH]c2)C(=O)N[C@H](CO)c3cccc(c3...  575065  CHEMBL571484   \n",
              "4  Cc1cnc(nc1c2cc([nH]c2)C(=O)N[C@H](CO)c3cccc(c3...  575047  CHEMBL568937   \n",
              "\n",
              "    label                                                Mol       mw  \\\n",
              "0  Active  <img data-content=\"rdkit/molecule\" src=\"data:i...  565.099   \n",
              "1  Active  <img data-content=\"rdkit/molecule\" src=\"data:i...  466.541   \n",
              "2  Active  <img data-content=\"rdkit/molecule\" src=\"data:i...  527.915   \n",
              "3  Active  <img data-content=\"rdkit/molecule\" src=\"data:i...  491.935   \n",
              "4  Active  <img data-content=\"rdkit/molecule\" src=\"data:i...  487.991   \n",
              "\n",
              "      logP  charge  is_active  \n",
              "0  5.49788       0          1  \n",
              "1  4.35400       0          1  \n",
              "2  4.96202       0          1  \n",
              "3  4.36922       0          1  \n",
              "4  5.12922       0          1  "
            ],
            "text/html": [
              "\n",
              "  <div id=\"df-963d10d9-b1cf-494b-acae-a3f4669d94ce\">\n",
              "    <div class=\"colab-df-container\">\n",
              "      <div>\n",
              "<style scoped>\n",
              "    .dataframe tbody tr th:only-of-type {\n",
              "        vertical-align: middle;\n",
              "    }\n",
              "\n",
              "    .dataframe tbody tr th {\n",
              "        vertical-align: top;\n",
              "    }\n",
              "\n",
              "    .dataframe thead th {\n",
              "        text-align: right;\n",
              "    }\n",
              "</style>\n",
              "<table border=\"1\" class=\"dataframe\">\n",
              "  <thead>\n",
              "    <tr style=\"text-align: right;\">\n",
              "      <th></th>\n",
              "      <th>SMILES</th>\n",
              "      <th>ID</th>\n",
              "      <th>ChEMBL_ID</th>\n",
              "      <th>label</th>\n",
              "      <th>Mol</th>\n",
              "      <th>mw</th>\n",
              "      <th>logP</th>\n",
              "      <th>charge</th>\n",
              "      <th>is_active</th>\n",
              "    </tr>\n",
              "  </thead>\n",
              "  <tbody>\n",
              "    <tr>\n",
              "      <th>0</th>\n",
              "      <td>Cn1ccnc1Sc2ccc(cc2Cl)Nc3c4cc(c(cc4ncc3C#N)OCCC...</td>\n",
              "      <td>168691</td>\n",
              "      <td>CHEMBL318804</td>\n",
              "      <td>Active</td>\n",
              "      <td style=\"text-align: center;\"><img data-content=\"rdkit/molecule\" src=\"data:image/png;base64,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\" alt=\"Mol\"/></td>\n",
              "      <td>565.099</td>\n",
              "      <td>5.49788</td>\n",
              "      <td>0</td>\n",
              "      <td>1</td>\n",
              "    </tr>\n",
              "    <tr>\n",
              "      <th>1</th>\n",
              "      <td>C[C@@]12[C@@H]([C@@H](CC(O1)n3c4ccccc4c5c3c6n2...</td>\n",
              "      <td>86358</td>\n",
              "      <td>CHEMBL162</td>\n",
              "      <td>Active</td>\n",
              "      <td style=\"text-align: center;\"><img data-content=\"rdkit/molecule\" src=\"data:image/png;base64,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\" alt=\"Mol\"/></td>\n",
              "      <td>466.541</td>\n",
              "      <td>4.35400</td>\n",
              "      <td>0</td>\n",
              "      <td>1</td>\n",
              "    </tr>\n",
              "    <tr>\n",
              "      <th>2</th>\n",
              "      <td>Cc1cnc(nc1c2cc([nH]c2)C(=O)N[C@H](CO)c3cccc(c3...</td>\n",
              "      <td>575087</td>\n",
              "      <td>CHEMBL576683</td>\n",
              "      <td>Active</td>\n",
              "      <td style=\"text-align: center;\"><img data-content=\"rdkit/molecule\" src=\"data:image/png;base64,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\" alt=\"Mol\"/></td>\n",
              "      <td>527.915</td>\n",
              "      <td>4.96202</td>\n",
              "      <td>0</td>\n",
              "      <td>1</td>\n",
              "    </tr>\n",
              "    <tr>\n",
              "      <th>3</th>\n",
              "      <td>Cc1cnc(nc1c2cc([nH]c2)C(=O)N[C@H](CO)c3cccc(c3...</td>\n",
              "      <td>575065</td>\n",
              "      <td>CHEMBL571484</td>\n",
              "      <td>Active</td>\n",
              "      <td style=\"text-align: center;\"><img data-content=\"rdkit/molecule\" src=\"data:image/png;base64,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\" alt=\"Mol\"/></td>\n",
              "      <td>491.935</td>\n",
              "      <td>4.36922</td>\n",
              "      <td>0</td>\n",
              "      <td>1</td>\n",
              "    </tr>\n",
              "    <tr>\n",
              "      <th>4</th>\n",
              "      <td>Cc1cnc(nc1c2cc([nH]c2)C(=O)N[C@H](CO)c3cccc(c3...</td>\n",
              "      <td>575047</td>\n",
              "      <td>CHEMBL568937</td>\n",
              "      <td>Active</td>\n",
              "      <td style=\"text-align: center;\"><img data-content=\"rdkit/molecule\" src=\"data:image/png;base64,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\" alt=\"Mol\"/></td>\n",
              "      <td>487.991</td>\n",
              "      <td>5.12922</td>\n",
              "      <td>0</td>\n",
              "      <td>1</td>\n",
              "    </tr>\n",
              "  </tbody>\n",
              "</table>\n",
              "</div>\n",
              "      <button class=\"colab-df-convert\" onclick=\"convertToInteractive('df-963d10d9-b1cf-494b-acae-a3f4669d94ce')\"\n",
              "              title=\"Convert this dataframe to an interactive table.\"\n",
              "              style=\"display:none;\">\n",
              "        \n",
              "  <svg xmlns=\"http://www.w3.org/2000/svg\" height=\"24px\"viewBox=\"0 0 24 24\"\n",
              "       width=\"24px\">\n",
              "    <path d=\"M0 0h24v24H0V0z\" fill=\"none\"/>\n",
              "    <path d=\"M18.56 5.44l.94 2.06.94-2.06 2.06-.94-2.06-.94-.94-2.06-.94 2.06-2.06.94zm-11 1L8.5 8.5l.94-2.06 2.06-.94-2.06-.94L8.5 2.5l-.94 2.06-2.06.94zm10 10l.94 2.06.94-2.06 2.06-.94-2.06-.94-.94-2.06-.94 2.06-2.06.94z\"/><path d=\"M17.41 7.96l-1.37-1.37c-.4-.4-.92-.59-1.43-.59-.52 0-1.04.2-1.43.59L10.3 9.45l-7.72 7.72c-.78.78-.78 2.05 0 2.83L4 21.41c.39.39.9.59 1.41.59.51 0 1.02-.2 1.41-.59l7.78-7.78 2.81-2.81c.8-.78.8-2.07 0-2.86zM5.41 20L4 18.59l7.72-7.72 1.47 1.35L5.41 20z\"/>\n",
              "  </svg>\n",
              "      </button>\n",
              "      \n",
              "  <style>\n",
              "    .colab-df-container {\n",
              "      display:flex;\n",
              "      flex-wrap:wrap;\n",
              "      gap: 12px;\n",
              "    }\n",
              "\n",
              "    .colab-df-convert {\n",
              "      background-color: #E8F0FE;\n",
              "      border: none;\n",
              "      border-radius: 50%;\n",
              "      cursor: pointer;\n",
              "      display: none;\n",
              "      fill: #1967D2;\n",
              "      height: 32px;\n",
              "      padding: 0 0 0 0;\n",
              "      width: 32px;\n",
              "    }\n",
              "\n",
              "    .colab-df-convert:hover {\n",
              "      background-color: #E2EBFA;\n",
              "      box-shadow: 0px 1px 2px rgba(60, 64, 67, 0.3), 0px 1px 3px 1px rgba(60, 64, 67, 0.15);\n",
              "      fill: #174EA6;\n",
              "    }\n",
              "\n",
              "    [theme=dark] .colab-df-convert {\n",
              "      background-color: #3B4455;\n",
              "      fill: #D2E3FC;\n",
              "    }\n",
              "\n",
              "    [theme=dark] .colab-df-convert:hover {\n",
              "      background-color: #434B5C;\n",
              "      box-shadow: 0px 1px 3px 1px rgba(0, 0, 0, 0.15);\n",
              "      filter: drop-shadow(0px 1px 2px rgba(0, 0, 0, 0.3));\n",
              "      fill: #FFFFFF;\n",
              "    }\n",
              "  </style>\n",
              "\n",
              "      <script>\n",
              "        const buttonEl =\n",
              "          document.querySelector('#df-963d10d9-b1cf-494b-acae-a3f4669d94ce button.colab-df-convert');\n",
              "        buttonEl.style.display =\n",
              "          google.colab.kernel.accessAllowed ? 'block' : 'none';\n",
              "\n",
              "        async function convertToInteractive(key) {\n",
              "          const element = document.querySelector('#df-963d10d9-b1cf-494b-acae-a3f4669d94ce');\n",
              "          const dataTable =\n",
              "            await google.colab.kernel.invokeFunction('convertToInteractive',\n",
              "                                                     [key], {});\n",
              "          if (!dataTable) return;\n",
              "\n",
              "          const docLinkHtml = 'Like what you see? Visit the ' +\n",
              "            '<a target=\"_blank\" href=https://colab.research.google.com/notebooks/data_table.ipynb>data table notebook</a>'\n",
              "            + ' to learn more about interactive tables.';\n",
              "          element.innerHTML = '';\n",
              "          dataTable['output_type'] = 'display_data';\n",
              "          await google.colab.output.renderOutput(dataTable, element);\n",
              "          const docLink = document.createElement('div');\n",
              "          docLink.innerHTML = docLinkHtml;\n",
              "          element.appendChild(docLink);\n",
              "        }\n",
              "      </script>\n",
              "    </div>\n",
              "  </div>\n",
              "  "
            ]
          },
          "metadata": {},
          "execution_count": 59
        }
      ],
      "source": [
        "add_property_columns_to_df(active_df)\n",
        "active_df.head()"
      ]
    },
    {
      "cell_type": "markdown",
      "metadata": {
        "id": "zjnUULUtz4yW"
      },
      "source": [
        "## 같은 작업을 decoy molecules에 대해서도 수행"
      ]
    },
    {
      "cell_type": "code",
      "execution_count": 60,
      "metadata": {
        "id": "YI5vDzKfz4yX"
      },
      "outputs": [],
      "source": [
        "decoy_df = pd.read_csv(\"https://raw.githubusercontent.com/deepchem/DeepLearningLifeSciences/master/Chapter11/mk01/decoys_final.ism\",\n",
        "                       header=None,sep=\" \")\n",
        "decoy_df.columns = [\"SMILES\",\"ID\"]\n",
        "decoy_rows, decoy_cols = decoy_df.shape\n",
        "decoy_df[\"label\"] = [\"Decoy\"]*decoy_rows\n",
        "PandasTools.AddMoleculeColumnToFrame(decoy_df,\"SMILES\",\"Mol\")\n",
        "add_property_columns_to_df(decoy_df)"
      ]
    },
    {
      "cell_type": "markdown",
      "source": [
        "- 데이터를 합친다"
      ],
      "metadata": {
        "id": "3r8nfyuPEfAX"
      }
    },
    {
      "cell_type": "code",
      "execution_count": 62,
      "metadata": {
        "id": "0OrArJbcz4yX"
      },
      "outputs": [],
      "source": [
        "tmp_df = active_df.append(decoy_df)"
      ]
    },
    {
      "cell_type": "markdown",
      "metadata": {
        "id": "KxfG36Osz4yX"
      },
      "source": [
        "- violin plot"
      ]
    },
    {
      "cell_type": "code",
      "execution_count": 63,
      "metadata": {
        "colab": {
          "base_uri": "https://localhost:8080/",
          "height": 278
        },
        "id": "B0NyoEDmz4yX",
        "outputId": "736dfc80-7d80-48a7-cab4-f3b4d9d95390"
      },
      "outputs": [
        {
          "output_type": "display_data",
          "data": {
            "text/plain": [
              "<Figure size 432x288 with 1 Axes>"
            ],
            "image/png": "[encoded data removed]"
          },
          "metadata": {
            "image/png": {
              "width": 388,
              "height": 261
            },
            "needs_background": "light"
          }
        }
      ],
      "source": [
        "sns.violinplot(x=tmp_df[\"label\"],y=tmp_df[\"mw\"]);"
      ]
    },
    {
      "cell_type": "markdown",
      "metadata": {
        "id": "FzLVdAN5z4yX"
      },
      "source": [
        "- 위 그래프를 보면 분자량 분포는 비슷하다\n",
        "- 400mw 이하의 분자들이 비활성 분자 데이터셋에 좀 더 많이 들어 있다"
      ]
    },
    {
      "cell_type": "code",
      "execution_count": 64,
      "metadata": {
        "colab": {
          "base_uri": "https://localhost:8080/",
          "height": 278
        },
        "id": "MCGBGDW8z4yY",
        "outputId": "b8c0b61c-1df0-4f59-982c-b95afce135ef"
      },
      "outputs": [
        {
          "output_type": "display_data",
          "data": {
            "text/plain": [
              "<Figure size 432x288 with 1 Axes>"
            ],
            "image/png": "[encoded data removed]"
          },
          "metadata": {
            "image/png": {
              "width": 384,
              "height": 261
            },
            "needs_background": "light"
          }
        }
      ],
      "source": [
        "sns.violinplot(x=tmp_df[\"label\"],y=tmp_df[\"logP\"]);"
      ]
    },
    {
      "cell_type": "code",
      "execution_count": 65,
      "metadata": {
        "colab": {
          "base_uri": "https://localhost:8080/",
          "height": 278
        },
        "id": "M2cvDR9mz4yY",
        "outputId": "2e264a25-7e1e-4a04-c45d-d85357c2e5be"
      },
      "outputs": [
        {
          "output_type": "display_data",
          "data": {
            "text/plain": [
              "<Figure size 432x288 with 1 Axes>"
            ],
            "image/png": "[encoded data removed]"
          },
          "metadata": {
            "image/png": {
              "width": 394,
              "height": 261
            },
            "needs_background": "light"
          }
        }
      ],
      "source": [
        "sns.violinplot(x=tmp_df[\"label\"],y=tmp_df[\"charge\"]);"
      ]
    },
    {
      "cell_type": "markdown",
      "metadata": {
        "id": "EnY2ge1Ez4yY"
      },
      "source": [
        "- 활성 분자는 모두 중성이다\n",
        "- 비활성 분자는 일부 +1과 -1이 있다"
      ]
    },
    {
      "cell_type": "code",
      "execution_count": 66,
      "metadata": {
        "id": "nsxlupqbz4yY"
      },
      "outputs": [],
      "source": [
        "charged = decoy_df[decoy_df[\"charge\"] != 0]"
      ]
    },
    {
      "cell_type": "code",
      "execution_count": 67,
      "metadata": {
        "colab": {
          "base_uri": "https://localhost:8080/"
        },
        "id": "m4ae1YHqz4yZ",
        "outputId": "727971e9-a6de-488f-afea-3d51f7ae06d1"
      },
      "outputs": [
        {
          "output_type": "execute_result",
          "data": {
            "text/plain": [
              "0.16175824175824177"
            ]
          },
          "metadata": {},
          "execution_count": 67
        }
      ],
      "source": [
        "charged.shape[0]/decoy_df.shape[0]"
      ]
    },
    {
      "cell_type": "markdown",
      "metadata": {
        "id": "fNEBUWSuz4yZ"
      },
      "source": [
        "- 비활성 분자의 16%가 전하를 띠고 있다\n",
        "- 전하 차이에 의해 머신러닝 모델이 바이어스가 생기게 되므로, 비활성 분자의 화학 구조를 수정하여 전하를 제거하겠다\n",
        "- 아래는 이를 위한 함수 정의이다"
      ]
    },
    {
      "cell_type": "code",
      "execution_count": 68,
      "metadata": {
        "id": "YebLfFHFDkdk"
      },
      "outputs": [],
      "source": [
        "def _InitialiseNeutralisationReactions():\n",
        "    patts= (\n",
        "        # Imidazoles\n",
        "        ('[n+;H]','n'),\n",
        "        # Amines\n",
        "        ('[N+;!H0]','N'),\n",
        "        # Carboxylic acids and alcohols\n",
        "        ('[$([O-]);!$([O-][#7])]','O'),\n",
        "        # Thiols\n",
        "        ('[S-;X1]','S'),\n",
        "        # Sulfonamides\n",
        "        ('[$([N-;X2]S(=O)=O)]','N'),\n",
        "        # Enamines\n",
        "        ('[$([N-;X2][C,N]=C)]','N'),\n",
        "        # Tetrazoles\n",
        "        ('[n-]','[nH]'),\n",
        "        # Sulfoxides\n",
        "        ('[$([S-]=O)]','S'),\n",
        "        # Amides\n",
        "        ('[$([N-]C=O)]','N'),\n",
        "        )\n",
        "    return [(Chem.MolFromSmarts(x),Chem.MolFromSmiles(y,False)) for x,y in patts]\n",
        "\n",
        "_reactions=None\n",
        "\n",
        "def NeutraliseCharges(smiles, reactions=None):\n",
        "    global _reactions\n",
        "    if reactions is None:\n",
        "        if _reactions is None:\n",
        "            _reactions=_InitialiseNeutralisationReactions()\n",
        "        reactions=_reactions\n",
        "    mol = Chem.MolFromSmiles(smiles)\n",
        "    replaced = False\n",
        "    for i,(reactant, product) in enumerate(reactions):\n",
        "        while mol.HasSubstructMatch(reactant):\n",
        "            replaced = True\n",
        "            rms = AllChem.ReplaceSubstructs(mol, reactant, product)\n",
        "            mol = rms[0]\n",
        "    if replaced:\n",
        "        return (Chem.MolToSmiles(mol,True), True)\n",
        "    else:\n",
        "        return (smiles, False)"
      ]
    },
    {
      "cell_type": "code",
      "execution_count": 69,
      "metadata": {
        "id": "v9zT1W4lz4yZ"
      },
      "outputs": [],
      "source": [
        "revised_decoy_df = decoy_df[[\"SMILES\",\"ID\",\"label\"]].copy()"
      ]
    },
    {
      "cell_type": "markdown",
      "metadata": {
        "id": "HjqjW_sSz4yZ"
      },
      "source": [
        "- 중성화된 SMILES만 사용하면 되므로 첫 번째 컬럼만 사용한다 (두번째 컬럼에는 전하여부를 나타내는 불리언 변수가 들어 있다)"
      ]
    },
    {
      "cell_type": "code",
      "execution_count": 70,
      "metadata": {
        "id": "kmCa_bK0z4yZ"
      },
      "outputs": [],
      "source": [
        "revised_decoy_df[\"SMILES\"] = [NeutraliseCharges(x)[0] for x in revised_decoy_df[\"SMILES\"]]\n"
      ]
    },
    {
      "cell_type": "markdown",
      "metadata": {
        "id": "RJAuMomNz4yZ"
      },
      "source": [
        "- 특성을 다시 계산한다\n",
        "- 전하를 띤 샘플의 수가 감소했다"
      ]
    },
    {
      "cell_type": "code",
      "execution_count": 71,
      "metadata": {
        "id": "HO9X1SmLz4yZ"
      },
      "outputs": [],
      "source": [
        "PandasTools.AddMoleculeColumnToFrame(revised_decoy_df,\"SMILES\",\"Mol\")\n",
        "add_property_columns_to_df(revised_decoy_df)"
      ]
    },
    {
      "cell_type": "code",
      "execution_count": 72,
      "metadata": {
        "id": "7pcGOamBz4yZ"
      },
      "outputs": [],
      "source": [
        "new_tmp_df = active_df.append(revised_decoy_df)"
      ]
    },
    {
      "cell_type": "code",
      "execution_count": 73,
      "metadata": {
        "colab": {
          "base_uri": "https://localhost:8080/",
          "height": 296
        },
        "id": "i1HO5iHNz4yZ",
        "outputId": "e43c8e45-247d-408e-e3f4-ba284a0bb8b6"
      },
      "outputs": [
        {
          "output_type": "execute_result",
          "data": {
            "text/plain": [
              "<matplotlib.axes._subplots.AxesSubplot at 0x7fbed4895410>"
            ]
          },
          "metadata": {},
          "execution_count": 73
        },
        {
          "output_type": "display_data",
          "data": {
            "text/plain": [
              "<Figure size 432x288 with 1 Axes>"
            ],
            "image/png": "[encoded data removed]"
          },
          "metadata": {
            "image/png": {
              "width": 400,
              "height": 261
            },
            "needs_background": "light"
          }
        }
      ],
      "source": [
        "sns.violinplot(x=new_tmp_df[\"label\"],y=new_tmp_df[\"charge\"])"
      ]
    },
    {
      "cell_type": "code",
      "execution_count": 74,
      "metadata": {
        "colab": {
          "base_uri": "https://localhost:8080/"
        },
        "id": "2F5f08LRz4yZ",
        "outputId": "f2b606d9-5270-4c7d-ae1f-d19fa081d024"
      },
      "outputs": [
        {
          "output_type": "execute_result",
          "data": {
            "text/plain": [
              "0.0026373626373626374"
            ]
          },
          "metadata": {},
          "execution_count": 74
        }
      ],
      "source": [
        "charged = revised_decoy_df[revised_decoy_df[\"charge\"] != 0]\n",
        "charged.shape[0]/revised_decoy_df.shape[0]"
      ]
    },
    {
      "cell_type": "markdown",
      "metadata": {
        "id": "kmoGr0jtz4ya"
      },
      "source": [
        "- 활성을 1로 비활성을 0으로 인코딩한다"
      ]
    },
    {
      "cell_type": "code",
      "execution_count": 75,
      "metadata": {
        "colab": {
          "base_uri": "https://localhost:8080/",
          "height": 206
        },
        "id": "VVc_Gm_Uz4ya",
        "outputId": "1adc5a7d-b9ae-4775-dc56-a25c80e494f8"
      },
      "outputs": [
        {
          "output_type": "execute_result",
          "data": {
            "text/plain": [
              "                                              SMILES      ID  is_active\n",
              "0  Cn1ccnc1Sc2ccc(cc2Cl)Nc3c4cc(c(cc4ncc3C#N)OCCC...  168691          1\n",
              "1  C[C@@]12[C@@H]([C@@H](CC(O1)n3c4ccccc4c5c3c6n2...   86358          1\n",
              "2  Cc1cnc(nc1c2cc([nH]c2)C(=O)N[C@H](CO)c3cccc(c3...  575087          1\n",
              "3  Cc1cnc(nc1c2cc([nH]c2)C(=O)N[C@H](CO)c3cccc(c3...  575065          1\n",
              "4  Cc1cnc(nc1c2cc([nH]c2)C(=O)N[C@H](CO)c3cccc(c3...  575047          1"
            ],
            "text/html": [
              "\n",
              "  <div id=\"df-aadcc683-5e79-4eb2-9a7a-24524cc02536\">\n",
              "    <div class=\"colab-df-container\">\n",
              "      <div>\n",
              "<style scoped>\n",
              "    .dataframe tbody tr th:only-of-type {\n",
              "        vertical-align: middle;\n",
              "    }\n",
              "\n",
              "    .dataframe tbody tr th {\n",
              "        vertical-align: top;\n",
              "    }\n",
              "\n",
              "    .dataframe thead th {\n",
              "        text-align: right;\n",
              "    }\n",
              "</style>\n",
              "<table border=\"1\" class=\"dataframe\">\n",
              "  <thead>\n",
              "    <tr style=\"text-align: right;\">\n",
              "      <th></th>\n",
              "      <th>SMILES</th>\n",
              "      <th>ID</th>\n",
              "      <th>is_active</th>\n",
              "    </tr>\n",
              "  </thead>\n",
              "  <tbody>\n",
              "    <tr>\n",
              "      <th>0</th>\n",
              "      <td>Cn1ccnc1Sc2ccc(cc2Cl)Nc3c4cc(c(cc4ncc3C#N)OCCC...</td>\n",
              "      <td>168691</td>\n",
              "      <td>1</td>\n",
              "    </tr>\n",
              "    <tr>\n",
              "      <th>1</th>\n",
              "      <td>C[C@@]12[C@@H]([C@@H](CC(O1)n3c4ccccc4c5c3c6n2...</td>\n",
              "      <td>86358</td>\n",
              "      <td>1</td>\n",
              "    </tr>\n",
              "    <tr>\n",
              "      <th>2</th>\n",
              "      <td>Cc1cnc(nc1c2cc([nH]c2)C(=O)N[C@H](CO)c3cccc(c3...</td>\n",
              "      <td>575087</td>\n",
              "      <td>1</td>\n",
              "    </tr>\n",
              "    <tr>\n",
              "      <th>3</th>\n",
              "      <td>Cc1cnc(nc1c2cc([nH]c2)C(=O)N[C@H](CO)c3cccc(c3...</td>\n",
              "      <td>575065</td>\n",
              "      <td>1</td>\n",
              "    </tr>\n",
              "    <tr>\n",
              "      <th>4</th>\n",
              "      <td>Cc1cnc(nc1c2cc([nH]c2)C(=O)N[C@H](CO)c3cccc(c3...</td>\n",
              "      <td>575047</td>\n",
              "      <td>1</td>\n",
              "    </tr>\n",
              "  </tbody>\n",
              "</table>\n",
              "</div>\n",
              "      <button class=\"colab-df-convert\" onclick=\"convertToInteractive('df-aadcc683-5e79-4eb2-9a7a-24524cc02536')\"\n",
              "              title=\"Convert this dataframe to an interactive table.\"\n",
              "              style=\"display:none;\">\n",
              "        \n",
              "  <svg xmlns=\"http://www.w3.org/2000/svg\" height=\"24px\"viewBox=\"0 0 24 24\"\n",
              "       width=\"24px\">\n",
              "    <path d=\"M0 0h24v24H0V0z\" fill=\"none\"/>\n",
              "    <path d=\"M18.56 5.44l.94 2.06.94-2.06 2.06-.94-2.06-.94-.94-2.06-.94 2.06-2.06.94zm-11 1L8.5 8.5l.94-2.06 2.06-.94-2.06-.94L8.5 2.5l-.94 2.06-2.06.94zm10 10l.94 2.06.94-2.06 2.06-.94-2.06-.94-.94-2.06-.94 2.06-2.06.94z\"/><path d=\"M17.41 7.96l-1.37-1.37c-.4-.4-.92-.59-1.43-.59-.52 0-1.04.2-1.43.59L10.3 9.45l-7.72 7.72c-.78.78-.78 2.05 0 2.83L4 21.41c.39.39.9.59 1.41.59.51 0 1.02-.2 1.41-.59l7.78-7.78 2.81-2.81c.8-.78.8-2.07 0-2.86zM5.41 20L4 18.59l7.72-7.72 1.47 1.35L5.41 20z\"/>\n",
              "  </svg>\n",
              "      </button>\n",
              "      \n",
              "  <style>\n",
              "    .colab-df-container {\n",
              "      display:flex;\n",
              "      flex-wrap:wrap;\n",
              "      gap: 12px;\n",
              "    }\n",
              "\n",
              "    .colab-df-convert {\n",
              "      background-color: #E8F0FE;\n",
              "      border: none;\n",
              "      border-radius: 50%;\n",
              "      cursor: pointer;\n",
              "      display: none;\n",
              "      fill: #1967D2;\n",
              "      height: 32px;\n",
              "      padding: 0 0 0 0;\n",
              "      width: 32px;\n",
              "    }\n",
              "\n",
              "    .colab-df-convert:hover {\n",
              "      background-color: #E2EBFA;\n",
              "      box-shadow: 0px 1px 2px rgba(60, 64, 67, 0.3), 0px 1px 3px 1px rgba(60, 64, 67, 0.15);\n",
              "      fill: #174EA6;\n",
              "    }\n",
              "\n",
              "    [theme=dark] .colab-df-convert {\n",
              "      background-color: #3B4455;\n",
              "      fill: #D2E3FC;\n",
              "    }\n",
              "\n",
              "    [theme=dark] .colab-df-convert:hover {\n",
              "      background-color: #434B5C;\n",
              "      box-shadow: 0px 1px 3px 1px rgba(0, 0, 0, 0.15);\n",
              "      filter: drop-shadow(0px 1px 2px rgba(0, 0, 0, 0.3));\n",
              "      fill: #FFFFFF;\n",
              "    }\n",
              "  </style>\n",
              "\n",
              "      <script>\n",
              "        const buttonEl =\n",
              "          document.querySelector('#df-aadcc683-5e79-4eb2-9a7a-24524cc02536 button.colab-df-convert');\n",
              "        buttonEl.style.display =\n",
              "          google.colab.kernel.accessAllowed ? 'block' : 'none';\n",
              "\n",
              "        async function convertToInteractive(key) {\n",
              "          const element = document.querySelector('#df-aadcc683-5e79-4eb2-9a7a-24524cc02536');\n",
              "          const dataTable =\n",
              "            await google.colab.kernel.invokeFunction('convertToInteractive',\n",
              "                                                     [key], {});\n",
              "          if (!dataTable) return;\n",
              "\n",
              "          const docLinkHtml = 'Like what you see? Visit the ' +\n",
              "            '<a target=\"_blank\" href=https://colab.research.google.com/notebooks/data_table.ipynb>data table notebook</a>'\n",
              "            + ' to learn more about interactive tables.';\n",
              "          element.innerHTML = '';\n",
              "          dataTable['output_type'] = 'display_data';\n",
              "          await google.colab.output.renderOutput(dataTable, element);\n",
              "          const docLink = document.createElement('div');\n",
              "          docLink.innerHTML = docLinkHtml;\n",
              "          element.appendChild(docLink);\n",
              "        }\n",
              "      </script>\n",
              "    </div>\n",
              "  </div>\n",
              "  "
            ]
          },
          "metadata": {},
          "execution_count": 75
        }
      ],
      "source": [
        "active_df[\"is_active\"] = [1] * active_df.shape[0]\n",
        "revised_decoy_df[\"is_active\"] = [0] * revised_decoy_df.shape[0]\n",
        "combined_df = active_df.append(revised_decoy_df)[[\"SMILES\",\"ID\",\"is_active\"]]\n",
        "combined_df.head()"
      ]
    },
    {
      "cell_type": "code",
      "execution_count": 76,
      "metadata": {
        "id": "1NDR_A5oz4ya"
      },
      "outputs": [],
      "source": [
        "# 파일로 저장해둔다\n",
        "combined_df.to_csv(\"dude_erk1_mk01.csv\")"
      ]
    },
    {
      "cell_type": "markdown",
      "metadata": {
        "id": "1V7obXblHUP6"
      },
      "source": [
        "# 이진 분류 모델\n",
        "\n",
        "- GCN 모델을 사용"
      ]
    },
    {
      "cell_type": "markdown",
      "metadata": {
        "id": "ee8fkz1pIStN"
      },
      "source": [
        "- 그래프 합성곱 모델을 만드는 함수"
      ]
    },
    {
      "cell_type": "code",
      "execution_count": 77,
      "metadata": {
        "id": "_ZB9-hFQHhph"
      },
      "outputs": [],
      "source": [
        "def generate_graph_conv_model():\n",
        "    batch_size = 128\n",
        "    model = GraphConvModel(1, batch_size=batch_size, \n",
        "             mode='classification', model_dir=\"./model_dir\")\n",
        "    return model"
      ]
    },
    {
      "cell_type": "code",
      "execution_count": 78,
      "metadata": {
        "id": "cxvt5XBkHsiK"
      },
      "outputs": [],
      "source": [
        "dataset_file = \"dude_erk1_mk01.csv\"\n",
        "tasks = [\"is_active\"]\n",
        "featurizer = dc.feat.ConvMolFeaturizer()\n",
        "loader = dc.data.CSVLoader(tasks=tasks, feature_field=\"SMILES\", featurizer=featurizer)\n",
        "dataset = loader.create_dataset(dataset_file, shard_size=8192)"
      ]
    },
    {
      "cell_type": "markdown",
      "metadata": {
        "id": "jC8aDynkIz89"
      },
      "source": [
        "- RandomSplitter() 사용\n",
        "- 화학 구조를 기반으로 데이터셋을 나누는 ScaffoleSplit(), 데이터를 군집화 한 후에 데이터셋을 분리하는 ButinaSplitter()도 있다\n",
        "- 불균형 데이터에 대한 성능 평가시에는 매튜 상관계수 Matthews Correlarions Coefficients(MCC)를 사용한다\n",
        " - +1이면 완벽한 예측, 0이면 랜덤 예측, -1이면 완전히 반대되는 예측을 의미한다"
      ]
    },
    {
      "cell_type": "code",
      "execution_count": 79,
      "metadata": {
        "id": "bIgIxmECICLd"
      },
      "outputs": [],
      "source": [
        "splitter = dc.splits.RandomSplitter()\n",
        "metrics = [dc.metrics.Metric(dc.metrics.matthews_corrcoef, np.mean)]"
      ]
    },
    {
      "cell_type": "code",
      "execution_count": 80,
      "metadata": {
        "colab": {
          "base_uri": "https://localhost:8080/",
          "height": 1000,
          "referenced_widgets": [
            "c228b81b76864576bbb900483a138125",
            "27e6aab781f544ffa22b225f1f0f4921",
            "92aac98d4d594775a5f232abd148ce19",
            "3b85b35290654c5dab2aeb8984df1a35",
            "3e1af5c0dbeb4c9093d9f41bfba5bcab",
            "4563114656184134bd7ccc1cec22df65",
            "ed961ed34623469fb4eb0a0264f9897b",
            "05bfec8d1d4c4e4e88e528b13b80a9aa",
            "c7b8277ca259461994bc022765ff166c",
            "43b4751d27b543408f9f9bbb4dcffd9b",
            "ba7d6abe6450496b8df6b0ac3b3111b2"
          ]
        },
        "collapsed": true,
        "id": "TfsZNqMbKlGv",
        "outputId": "743beeb6-80ff-41c4-acaa-32db970a7402"
      },
      "outputs": [
        {
          "output_type": "display_data",
          "data": {
            "text/plain": [
              "  0%|          | 0/5 [00:00<?, ?it/s]"
            ],
            "application/vnd.jupyter.widget-view+json": {
              "version_major": 2,
              "version_minor": 0,
              "model_id": "c228b81b76864576bbb900483a138125"
            }
          },
          "metadata": {}
        },
        {
          "output_type": "stream",
          "name": "stderr",
          "text": [
            "/usr/local/lib/python3.7/dist-packages/tensorflow/python/framework/indexed_slices.py:446: UserWarning: Converting sparse IndexedSlices(IndexedSlices(indices=Tensor(\"gradient_tape/private__graph_conv_keras_model_5/graph_pool_11/Reshape_14:0\", shape=(692,), dtype=int32), values=Tensor(\"gradient_tape/private__graph_conv_keras_model_5/graph_pool_11/Reshape_13:0\", shape=(692, 64), dtype=float32), dense_shape=Tensor(\"gradient_tape/private__graph_conv_keras_model_5/graph_pool_11/Cast_4:0\", shape=(2,), dtype=int32))) to a dense Tensor of unknown shape. This may consume a large amount of memory.\n",
            "  \"shape. This may consume a large amount of memory.\" % value)\n",
            "/usr/local/lib/python3.7/dist-packages/tensorflow/python/framework/indexed_slices.py:446: UserWarning: Converting sparse IndexedSlices(IndexedSlices(indices=Tensor(\"gradient_tape/private__graph_conv_keras_model_5/graph_pool_11/Reshape_17:0\", shape=(3308,), dtype=int32), values=Tensor(\"gradient_tape/private__graph_conv_keras_model_5/graph_pool_11/Reshape_16:0\", shape=(3308, 64), dtype=float32), dense_shape=Tensor(\"gradient_tape/private__graph_conv_keras_model_5/graph_pool_11/Cast_5:0\", shape=(2,), dtype=int32))) to a dense Tensor of unknown shape. This may consume a large amount of memory.\n",
            "  \"shape. This may consume a large amount of memory.\" % value)\n",
            "/usr/local/lib/python3.7/dist-packages/tensorflow/python/framework/indexed_slices.py:446: UserWarning: Converting sparse IndexedSlices(IndexedSlices(indices=Tensor(\"gradient_tape/private__graph_conv_keras_model_5/graph_pool_11/Reshape_20:0\", shape=(3354,), dtype=int32), values=Tensor(\"gradient_tape/private__graph_conv_keras_model_5/graph_pool_11/Reshape_19:0\", shape=(3354, 64), dtype=float32), dense_shape=Tensor(\"gradient_tape/private__graph_conv_keras_model_5/graph_pool_11/Cast_6:0\", shape=(2,), dtype=int32))) to a dense Tensor of unknown shape. This may consume a large amount of memory.\n",
            "  \"shape. This may consume a large amount of memory.\" % value)\n",
            "/usr/local/lib/python3.7/dist-packages/tensorflow/python/framework/indexed_slices.py:446: UserWarning: Converting sparse IndexedSlices(IndexedSlices(indices=Tensor(\"gradient_tape/private__graph_conv_keras_model_5/graph_pool_11/Reshape_23:0\", shape=(300,), dtype=int32), values=Tensor(\"gradient_tape/private__graph_conv_keras_model_5/graph_pool_11/Reshape_22:0\", shape=(300, 64), dtype=float32), dense_shape=Tensor(\"gradient_tape/private__graph_conv_keras_model_5/graph_pool_11/Cast_7:0\", shape=(2,), dtype=int32))) to a dense Tensor of unknown shape. This may consume a large amount of memory.\n",
            "  \"shape. This may consume a large amount of memory.\" % value)\n",
            "/usr/local/lib/python3.7/dist-packages/tensorflow/python/framework/indexed_slices.py:446: UserWarning: Converting sparse IndexedSlices(IndexedSlices(indices=Tensor(\"gradient_tape/private__graph_conv_keras_model_5/graph_conv_11/Reshape_11:0\", shape=(692,), dtype=int32), values=Tensor(\"gradient_tape/private__graph_conv_keras_model_5/graph_conv_11/Reshape_10:0\", shape=(692, 64), dtype=float32), dense_shape=Tensor(\"gradient_tape/private__graph_conv_keras_model_5/graph_conv_11/Cast:0\", shape=(2,), dtype=int32))) to a dense Tensor of unknown shape. This may consume a large amount of memory.\n",
            "  \"shape. This may consume a large amount of memory.\" % value)\n",
            "/usr/local/lib/python3.7/dist-packages/tensorflow/python/framework/indexed_slices.py:446: UserWarning: Converting sparse IndexedSlices(IndexedSlices(indices=Tensor(\"gradient_tape/private__graph_conv_keras_model_5/graph_conv_11/Reshape_13:0\", shape=(3308,), dtype=int32), values=Tensor(\"gradient_tape/private__graph_conv_keras_model_5/graph_conv_11/Reshape_12:0\", shape=(3308, 64), dtype=float32), dense_shape=Tensor(\"gradient_tape/private__graph_conv_keras_model_5/graph_conv_11/Cast_1:0\", shape=(2,), dtype=int32))) to a dense Tensor of unknown shape. This may consume a large amount of memory.\n",
            "  \"shape. This may consume a large amount of memory.\" % value)\n",
            "/usr/local/lib/python3.7/dist-packages/tensorflow/python/framework/indexed_slices.py:446: UserWarning: Converting sparse IndexedSlices(IndexedSlices(indices=Tensor(\"gradient_tape/private__graph_conv_keras_model_5/graph_conv_11/Reshape_15:0\", shape=(3354,), dtype=int32), values=Tensor(\"gradient_tape/private__graph_conv_keras_model_5/graph_conv_11/Reshape_14:0\", shape=(3354, 64), dtype=float32), dense_shape=Tensor(\"gradient_tape/private__graph_conv_keras_model_5/graph_conv_11/Cast_2:0\", shape=(2,), dtype=int32))) to a dense Tensor of unknown shape. This may consume a large amount of memory.\n",
            "  \"shape. This may consume a large amount of memory.\" % value)\n",
            "/usr/local/lib/python3.7/dist-packages/tensorflow/python/framework/indexed_slices.py:446: UserWarning: Converting sparse IndexedSlices(IndexedSlices(indices=Tensor(\"gradient_tape/private__graph_conv_keras_model_5/graph_conv_11/Reshape_17:0\", shape=(300,), dtype=int32), values=Tensor(\"gradient_tape/private__graph_conv_keras_model_5/graph_conv_11/Reshape_16:0\", shape=(300, 64), dtype=float32), dense_shape=Tensor(\"gradient_tape/private__graph_conv_keras_model_5/graph_conv_11/Cast_3:0\", shape=(2,), dtype=int32))) to a dense Tensor of unknown shape. This may consume a large amount of memory.\n",
            "  \"shape. This may consume a large amount of memory.\" % value)\n",
            "/usr/local/lib/python3.7/dist-packages/tensorflow/python/framework/indexed_slices.py:446: UserWarning: Converting sparse IndexedSlices(IndexedSlices(indices=Tensor(\"gradient_tape/private__graph_conv_keras_model_5/graph_conv_11/Reshape_19:0\", shape=(0,), dtype=int32), values=Tensor(\"gradient_tape/private__graph_conv_keras_model_5/graph_conv_11/Reshape_18:0\", shape=(0, 64), dtype=float32), dense_shape=Tensor(\"gradient_tape/private__graph_conv_keras_model_5/graph_conv_11/Cast_4:0\", shape=(2,), dtype=int32))) to a dense Tensor of unknown shape. This may consume a large amount of memory.\n",
            "  \"shape. This may consume a large amount of memory.\" % value)\n",
            "/usr/local/lib/python3.7/dist-packages/tensorflow/python/framework/indexed_slices.py:446: UserWarning: Converting sparse IndexedSlices(IndexedSlices(indices=Tensor(\"gradient_tape/private__graph_conv_keras_model_5/graph_conv_11/Reshape_21:0\", shape=(0,), dtype=int32), values=Tensor(\"gradient_tape/private__graph_conv_keras_model_5/graph_conv_11/Reshape_20:0\", shape=(0, 64), dtype=float32), dense_shape=Tensor(\"gradient_tape/private__graph_conv_keras_model_5/graph_conv_11/Cast_5:0\", shape=(2,), dtype=int32))) to a dense Tensor of unknown shape. This may consume a large amount of memory.\n",
            "  \"shape. This may consume a large amount of memory.\" % value)\n",
            "/usr/local/lib/python3.7/dist-packages/tensorflow/python/framework/indexed_slices.py:446: UserWarning: Converting sparse IndexedSlices(IndexedSlices(indices=Tensor(\"gradient_tape/private__graph_conv_keras_model_5/graph_conv_11/Reshape_23:0\", shape=(0,), dtype=int32), values=Tensor(\"gradient_tape/private__graph_conv_keras_model_5/graph_conv_11/Reshape_22:0\", shape=(0, 64), dtype=float32), dense_shape=Tensor(\"gradient_tape/private__graph_conv_keras_model_5/graph_conv_11/Cast_6:0\", shape=(2,), dtype=int32))) to a dense Tensor of unknown shape. This may consume a large amount of memory.\n",
            "  \"shape. This may consume a large amount of memory.\" % value)\n",
            "/usr/local/lib/python3.7/dist-packages/tensorflow/python/framework/indexed_slices.py:446: UserWarning: Converting sparse IndexedSlices(IndexedSlices(indices=Tensor(\"gradient_tape/private__graph_conv_keras_model_5/graph_conv_11/Reshape_25:0\", shape=(0,), dtype=int32), values=Tensor(\"gradient_tape/private__graph_conv_keras_model_5/graph_conv_11/Reshape_24:0\", shape=(0, 64), dtype=float32), dense_shape=Tensor(\"gradient_tape/private__graph_conv_keras_model_5/graph_conv_11/Cast_7:0\", shape=(2,), dtype=int32))) to a dense Tensor of unknown shape. This may consume a large amount of memory.\n",
            "  \"shape. This may consume a large amount of memory.\" % value)\n",
            "/usr/local/lib/python3.7/dist-packages/tensorflow/python/framework/indexed_slices.py:446: UserWarning: Converting sparse IndexedSlices(IndexedSlices(indices=Tensor(\"gradient_tape/private__graph_conv_keras_model_5/graph_conv_11/Reshape_27:0\", shape=(0,), dtype=int32), values=Tensor(\"gradient_tape/private__graph_conv_keras_model_5/graph_conv_11/Reshape_26:0\", shape=(0, 64), dtype=float32), dense_shape=Tensor(\"gradient_tape/private__graph_conv_keras_model_5/graph_conv_11/Cast_8:0\", shape=(2,), dtype=int32))) to a dense Tensor of unknown shape. This may consume a large amount of memory.\n",
            "  \"shape. This may consume a large amount of memory.\" % value)\n",
            "/usr/local/lib/python3.7/dist-packages/tensorflow/python/framework/indexed_slices.py:446: UserWarning: Converting sparse IndexedSlices(IndexedSlices(indices=Tensor(\"gradient_tape/private__graph_conv_keras_model_5/graph_conv_11/Reshape_29:0\", shape=(0,), dtype=int32), values=Tensor(\"gradient_tape/private__graph_conv_keras_model_5/graph_conv_11/Reshape_28:0\", shape=(0, 64), dtype=float32), dense_shape=Tensor(\"gradient_tape/private__graph_conv_keras_model_5/graph_conv_11/Cast_9:0\", shape=(2,), dtype=int32))) to a dense Tensor of unknown shape. This may consume a large amount of memory.\n",
            "  \"shape. This may consume a large amount of memory.\" % value)\n",
            "/usr/local/lib/python3.7/dist-packages/tensorflow/python/framework/indexed_slices.py:446: UserWarning: Converting sparse IndexedSlices(IndexedSlices(indices=Tensor(\"gradient_tape/private__graph_conv_keras_model_5/graph_pool_10/Reshape_14:0\", shape=(692,), dtype=int32), values=Tensor(\"gradient_tape/private__graph_conv_keras_model_5/graph_pool_10/Reshape_13:0\", shape=(692, 64), dtype=float32), dense_shape=Tensor(\"gradient_tape/private__graph_conv_keras_model_5/graph_pool_10/Cast_4:0\", shape=(2,), dtype=int32))) to a dense Tensor of unknown shape. This may consume a large amount of memory.\n",
            "  \"shape. This may consume a large amount of memory.\" % value)\n",
            "/usr/local/lib/python3.7/dist-packages/tensorflow/python/framework/indexed_slices.py:446: UserWarning: Converting sparse IndexedSlices(IndexedSlices(indices=Tensor(\"gradient_tape/private__graph_conv_keras_model_5/graph_pool_10/Reshape_17:0\", shape=(3308,), dtype=int32), values=Tensor(\"gradient_tape/private__graph_conv_keras_model_5/graph_pool_10/Reshape_16:0\", shape=(3308, 64), dtype=float32), dense_shape=Tensor(\"gradient_tape/private__graph_conv_keras_model_5/graph_pool_10/Cast_5:0\", shape=(2,), dtype=int32))) to a dense Tensor of unknown shape. This may consume a large amount of memory.\n",
            "  \"shape. This may consume a large amount of memory.\" % value)\n",
            "/usr/local/lib/python3.7/dist-packages/tensorflow/python/framework/indexed_slices.py:446: UserWarning: Converting sparse IndexedSlices(IndexedSlices(indices=Tensor(\"gradient_tape/private__graph_conv_keras_model_5/graph_pool_10/Reshape_20:0\", shape=(3354,), dtype=int32), values=Tensor(\"gradient_tape/private__graph_conv_keras_model_5/graph_pool_10/Reshape_19:0\", shape=(3354, 64), dtype=float32), dense_shape=Tensor(\"gradient_tape/private__graph_conv_keras_model_5/graph_pool_10/Cast_6:0\", shape=(2,), dtype=int32))) to a dense Tensor of unknown shape. This may consume a large amount of memory.\n",
            "  \"shape. This may consume a large amount of memory.\" % value)\n",
            "/usr/local/lib/python3.7/dist-packages/tensorflow/python/framework/indexed_slices.py:446: UserWarning: Converting sparse IndexedSlices(IndexedSlices(indices=Tensor(\"gradient_tape/private__graph_conv_keras_model_5/graph_pool_10/Reshape_23:0\", shape=(300,), dtype=int32), values=Tensor(\"gradient_tape/private__graph_conv_keras_model_5/graph_pool_10/Reshape_22:0\", shape=(300, 64), dtype=float32), dense_shape=Tensor(\"gradient_tape/private__graph_conv_keras_model_5/graph_pool_10/Cast_7:0\", shape=(2,), dtype=int32))) to a dense Tensor of unknown shape. This may consume a large amount of memory.\n",
            "  \"shape. This may consume a large amount of memory.\" % value)\n",
            "/usr/local/lib/python3.7/dist-packages/tensorflow/python/framework/indexed_slices.py:446: UserWarning: Converting sparse IndexedSlices(IndexedSlices(indices=Tensor(\"gradient_tape/private__graph_conv_keras_model_5/graph_pool_11/Reshape_14:0\", shape=(719,), dtype=int32), values=Tensor(\"gradient_tape/private__graph_conv_keras_model_5/graph_pool_11/Reshape_13:0\", shape=(719, 64), dtype=float32), dense_shape=Tensor(\"gradient_tape/private__graph_conv_keras_model_5/graph_pool_11/Cast_4:0\", shape=(2,), dtype=int32))) to a dense Tensor of unknown shape. This may consume a large amount of memory.\n",
            "  \"shape. This may consume a large amount of memory.\" % value)\n",
            "/usr/local/lib/python3.7/dist-packages/tensorflow/python/framework/indexed_slices.py:446: UserWarning: Converting sparse IndexedSlices(IndexedSlices(indices=Tensor(\"gradient_tape/private__graph_conv_keras_model_5/graph_pool_11/Reshape_17:0\", shape=(3112,), dtype=int32), values=Tensor(\"gradient_tape/private__graph_conv_keras_model_5/graph_pool_11/Reshape_16:0\", shape=(3112, 64), dtype=float32), dense_shape=Tensor(\"gradient_tape/private__graph_conv_keras_model_5/graph_pool_11/Cast_5:0\", shape=(2,), dtype=int32))) to a dense Tensor of unknown shape. This may consume a large amount of memory.\n",
            "  \"shape. This may consume a large amount of memory.\" % value)\n",
            "/usr/local/lib/python3.7/dist-packages/tensorflow/python/framework/indexed_slices.py:446: UserWarning: Converting sparse IndexedSlices(IndexedSlices(indices=Tensor(\"gradient_tape/private__graph_conv_keras_model_5/graph_pool_11/Reshape_20:0\", shape=(3399,), dtype=int32), values=Tensor(\"gradient_tape/private__graph_conv_keras_model_5/graph_pool_11/Reshape_19:0\", shape=(3399, 64), dtype=float32), dense_shape=Tensor(\"gradient_tape/private__graph_conv_keras_model_5/graph_pool_11/Cast_6:0\", shape=(2,), dtype=int32))) to a dense Tensor of unknown shape. This may consume a large amount of memory.\n",
            "  \"shape. This may consume a large amount of memory.\" % value)\n",
            "/usr/local/lib/python3.7/dist-packages/tensorflow/python/framework/indexed_slices.py:446: UserWarning: Converting sparse IndexedSlices(IndexedSlices(indices=Tensor(\"gradient_tape/private__graph_conv_keras_model_5/graph_pool_11/Reshape_23:0\", shape=(284,), dtype=int32), values=Tensor(\"gradient_tape/private__graph_conv_keras_model_5/graph_pool_11/Reshape_22:0\", shape=(284, 64), dtype=float32), dense_shape=Tensor(\"gradient_tape/private__graph_conv_keras_model_5/graph_pool_11/Cast_7:0\", shape=(2,), dtype=int32))) to a dense Tensor of unknown shape. This may consume a large amount of memory.\n",
            "  \"shape. This may consume a large amount of memory.\" % value)\n",
            "/usr/local/lib/python3.7/dist-packages/tensorflow/python/framework/indexed_slices.py:446: UserWarning: Converting sparse IndexedSlices(IndexedSlices(indices=Tensor(\"gradient_tape/private__graph_conv_keras_model_5/graph_conv_11/Reshape_11:0\", shape=(719,), dtype=int32), values=Tensor(\"gradient_tape/private__graph_conv_keras_model_5/graph_conv_11/Reshape_10:0\", shape=(719, 64), dtype=float32), dense_shape=Tensor(\"gradient_tape/private__graph_conv_keras_model_5/graph_conv_11/Cast:0\", shape=(2,), dtype=int32))) to a dense Tensor of unknown shape. This may consume a large amount of memory.\n",
            "  \"shape. This may consume a large amount of memory.\" % value)\n",
            "/usr/local/lib/python3.7/dist-packages/tensorflow/python/framework/indexed_slices.py:446: UserWarning: Converting sparse IndexedSlices(IndexedSlices(indices=Tensor(\"gradient_tape/private__graph_conv_keras_model_5/graph_conv_11/Reshape_13:0\", shape=(3112,), dtype=int32), values=Tensor(\"gradient_tape/private__graph_conv_keras_model_5/graph_conv_11/Reshape_12:0\", shape=(3112, 64), dtype=float32), dense_shape=Tensor(\"gradient_tape/private__graph_conv_keras_model_5/graph_conv_11/Cast_1:0\", shape=(2,), dtype=int32))) to a dense Tensor of unknown shape. This may consume a large amount of memory.\n",
            "  \"shape. This may consume a large amount of memory.\" % value)\n",
            "/usr/local/lib/python3.7/dist-packages/tensorflow/python/framework/indexed_slices.py:446: UserWarning: Converting sparse IndexedSlices(IndexedSlices(indices=Tensor(\"gradient_tape/private__graph_conv_keras_model_5/graph_conv_11/Reshape_15:0\", shape=(3399,), dtype=int32), values=Tensor(\"gradient_tape/private__graph_conv_keras_model_5/graph_conv_11/Reshape_14:0\", shape=(3399, 64), dtype=float32), dense_shape=Tensor(\"gradient_tape/private__graph_conv_keras_model_5/graph_conv_11/Cast_2:0\", shape=(2,), dtype=int32))) to a dense Tensor of unknown shape. This may consume a large amount of memory.\n",
            "  \"shape. This may consume a large amount of memory.\" % value)\n",
            "/usr/local/lib/python3.7/dist-packages/tensorflow/python/framework/indexed_slices.py:446: UserWarning: Converting sparse IndexedSlices(IndexedSlices(indices=Tensor(\"gradient_tape/private__graph_conv_keras_model_5/graph_conv_11/Reshape_17:0\", shape=(284,), dtype=int32), values=Tensor(\"gradient_tape/private__graph_conv_keras_model_5/graph_conv_11/Reshape_16:0\", shape=(284, 64), dtype=float32), dense_shape=Tensor(\"gradient_tape/private__graph_conv_keras_model_5/graph_conv_11/Cast_3:0\", shape=(2,), dtype=int32))) to a dense Tensor of unknown shape. This may consume a large amount of memory.\n",
            "  \"shape. This may consume a large amount of memory.\" % value)\n",
            "/usr/local/lib/python3.7/dist-packages/tensorflow/python/framework/indexed_slices.py:446: UserWarning: Converting sparse IndexedSlices(IndexedSlices(indices=Tensor(\"gradient_tape/private__graph_conv_keras_model_5/graph_pool_10/Reshape_14:0\", shape=(719,), dtype=int32), values=Tensor(\"gradient_tape/private__graph_conv_keras_model_5/graph_pool_10/Reshape_13:0\", shape=(719, 64), dtype=float32), dense_shape=Tensor(\"gradient_tape/private__graph_conv_keras_model_5/graph_pool_10/Cast_4:0\", shape=(2,), dtype=int32))) to a dense Tensor of unknown shape. This may consume a large amount of memory.\n",
            "  \"shape. This may consume a large amount of memory.\" % value)\n",
            "/usr/local/lib/python3.7/dist-packages/tensorflow/python/framework/indexed_slices.py:446: UserWarning: Converting sparse IndexedSlices(IndexedSlices(indices=Tensor(\"gradient_tape/private__graph_conv_keras_model_5/graph_pool_10/Reshape_17:0\", shape=(3112,), dtype=int32), values=Tensor(\"gradient_tape/private__graph_conv_keras_model_5/graph_pool_10/Reshape_16:0\", shape=(3112, 64), dtype=float32), dense_shape=Tensor(\"gradient_tape/private__graph_conv_keras_model_5/graph_pool_10/Cast_5:0\", shape=(2,), dtype=int32))) to a dense Tensor of unknown shape. This may consume a large amount of memory.\n",
            "  \"shape. This may consume a large amount of memory.\" % value)\n",
            "/usr/local/lib/python3.7/dist-packages/tensorflow/python/framework/indexed_slices.py:446: UserWarning: Converting sparse IndexedSlices(IndexedSlices(indices=Tensor(\"gradient_tape/private__graph_conv_keras_model_5/graph_pool_10/Reshape_20:0\", shape=(3399,), dtype=int32), values=Tensor(\"gradient_tape/private__graph_conv_keras_model_5/graph_pool_10/Reshape_19:0\", shape=(3399, 64), dtype=float32), dense_shape=Tensor(\"gradient_tape/private__graph_conv_keras_model_5/graph_pool_10/Cast_6:0\", shape=(2,), dtype=int32))) to a dense Tensor of unknown shape. This may consume a large amount of memory.\n",
            "  \"shape. This may consume a large amount of memory.\" % value)\n",
            "/usr/local/lib/python3.7/dist-packages/tensorflow/python/framework/indexed_slices.py:446: UserWarning: Converting sparse IndexedSlices(IndexedSlices(indices=Tensor(\"gradient_tape/private__graph_conv_keras_model_5/graph_pool_10/Reshape_23:0\", shape=(284,), dtype=int32), values=Tensor(\"gradient_tape/private__graph_conv_keras_model_5/graph_pool_10/Reshape_22:0\", shape=(284, 64), dtype=float32), dense_shape=Tensor(\"gradient_tape/private__graph_conv_keras_model_5/graph_pool_10/Cast_7:0\", shape=(2,), dtype=int32))) to a dense Tensor of unknown shape. This may consume a large amount of memory.\n",
            "  \"shape. This may consume a large amount of memory.\" % value)\n",
            "/usr/local/lib/python3.7/dist-packages/tensorflow/python/framework/indexed_slices.py:446: UserWarning: Converting sparse IndexedSlices(IndexedSlices(indices=Tensor(\"gradient_tape/private__graph_conv_keras_model_5/graph_pool_11/Reshape_14:0\", shape=(None,), dtype=int32), values=Tensor(\"gradient_tape/private__graph_conv_keras_model_5/graph_pool_11/Reshape_13:0\", shape=(None, 64), dtype=float32), dense_shape=Tensor(\"gradient_tape/private__graph_conv_keras_model_5/graph_pool_11/Cast_4:0\", shape=(2,), dtype=int32))) to a dense Tensor of unknown shape. This may consume a large amount of memory.\n",
            "  \"shape. This may consume a large amount of memory.\" % value)\n",
            "/usr/local/lib/python3.7/dist-packages/tensorflow/python/framework/indexed_slices.py:446: UserWarning: Converting sparse IndexedSlices(IndexedSlices(indices=Tensor(\"gradient_tape/private__graph_conv_keras_model_5/graph_pool_11/Reshape_17:0\", shape=(None,), dtype=int32), values=Tensor(\"gradient_tape/private__graph_conv_keras_model_5/graph_pool_11/Reshape_16:0\", shape=(None, 64), dtype=float32), dense_shape=Tensor(\"gradient_tape/private__graph_conv_keras_model_5/graph_pool_11/Cast_5:0\", shape=(2,), dtype=int32))) to a dense Tensor of unknown shape. This may consume a large amount of memory.\n",
            "  \"shape. This may consume a large amount of memory.\" % value)\n",
            "/usr/local/lib/python3.7/dist-packages/tensorflow/python/framework/indexed_slices.py:446: UserWarning: Converting sparse IndexedSlices(IndexedSlices(indices=Tensor(\"gradient_tape/private__graph_conv_keras_model_5/graph_pool_11/Reshape_20:0\", shape=(None,), dtype=int32), values=Tensor(\"gradient_tape/private__graph_conv_keras_model_5/graph_pool_11/Reshape_19:0\", shape=(None, 64), dtype=float32), dense_shape=Tensor(\"gradient_tape/private__graph_conv_keras_model_5/graph_pool_11/Cast_6:0\", shape=(2,), dtype=int32))) to a dense Tensor of unknown shape. This may consume a large amount of memory.\n",
            "  \"shape. This may consume a large amount of memory.\" % value)\n",
            "/usr/local/lib/python3.7/dist-packages/tensorflow/python/framework/indexed_slices.py:446: UserWarning: Converting sparse IndexedSlices(IndexedSlices(indices=Tensor(\"gradient_tape/private__graph_conv_keras_model_5/graph_pool_11/Reshape_23:0\", shape=(None,), dtype=int32), values=Tensor(\"gradient_tape/private__graph_conv_keras_model_5/graph_pool_11/Reshape_22:0\", shape=(None, 64), dtype=float32), dense_shape=Tensor(\"gradient_tape/private__graph_conv_keras_model_5/graph_pool_11/Cast_7:0\", shape=(2,), dtype=int32))) to a dense Tensor of unknown shape. This may consume a large amount of memory.\n",
            "  \"shape. This may consume a large amount of memory.\" % value)\n",
            "/usr/local/lib/python3.7/dist-packages/tensorflow/python/framework/indexed_slices.py:446: UserWarning: Converting sparse IndexedSlices(IndexedSlices(indices=Tensor(\"gradient_tape/private__graph_conv_keras_model_5/graph_conv_11/Reshape_11:0\", shape=(None,), dtype=int32), values=Tensor(\"gradient_tape/private__graph_conv_keras_model_5/graph_conv_11/Reshape_10:0\", shape=(None, 64), dtype=float32), dense_shape=Tensor(\"gradient_tape/private__graph_conv_keras_model_5/graph_conv_11/Cast:0\", shape=(2,), dtype=int32))) to a dense Tensor of unknown shape. This may consume a large amount of memory.\n",
            "  \"shape. This may consume a large amount of memory.\" % value)\n",
            "/usr/local/lib/python3.7/dist-packages/tensorflow/python/framework/indexed_slices.py:446: UserWarning: Converting sparse IndexedSlices(IndexedSlices(indices=Tensor(\"gradient_tape/private__graph_conv_keras_model_5/graph_conv_11/Reshape_13:0\", shape=(None,), dtype=int32), values=Tensor(\"gradient_tape/private__graph_conv_keras_model_5/graph_conv_11/Reshape_12:0\", shape=(None, 64), dtype=float32), dense_shape=Tensor(\"gradient_tape/private__graph_conv_keras_model_5/graph_conv_11/Cast_1:0\", shape=(2,), dtype=int32))) to a dense Tensor of unknown shape. This may consume a large amount of memory.\n",
            "  \"shape. This may consume a large amount of memory.\" % value)\n",
            "/usr/local/lib/python3.7/dist-packages/tensorflow/python/framework/indexed_slices.py:446: UserWarning: Converting sparse IndexedSlices(IndexedSlices(indices=Tensor(\"gradient_tape/private__graph_conv_keras_model_5/graph_conv_11/Reshape_15:0\", shape=(None,), dtype=int32), values=Tensor(\"gradient_tape/private__graph_conv_keras_model_5/graph_conv_11/Reshape_14:0\", shape=(None, 64), dtype=float32), dense_shape=Tensor(\"gradient_tape/private__graph_conv_keras_model_5/graph_conv_11/Cast_2:0\", shape=(2,), dtype=int32))) to a dense Tensor of unknown shape. This may consume a large amount of memory.\n",
            "  \"shape. This may consume a large amount of memory.\" % value)\n",
            "/usr/local/lib/python3.7/dist-packages/tensorflow/python/framework/indexed_slices.py:446: UserWarning: Converting sparse IndexedSlices(IndexedSlices(indices=Tensor(\"gradient_tape/private__graph_conv_keras_model_5/graph_conv_11/Reshape_17:0\", shape=(None,), dtype=int32), values=Tensor(\"gradient_tape/private__graph_conv_keras_model_5/graph_conv_11/Reshape_16:0\", shape=(None, 64), dtype=float32), dense_shape=Tensor(\"gradient_tape/private__graph_conv_keras_model_5/graph_conv_11/Cast_3:0\", shape=(2,), dtype=int32))) to a dense Tensor of unknown shape. This may consume a large amount of memory.\n",
            "  \"shape. This may consume a large amount of memory.\" % value)\n",
            "/usr/local/lib/python3.7/dist-packages/tensorflow/python/framework/indexed_slices.py:446: UserWarning: Converting sparse IndexedSlices(IndexedSlices(indices=Tensor(\"gradient_tape/private__graph_conv_keras_model_5/graph_pool_10/Reshape_14:0\", shape=(None,), dtype=int32), values=Tensor(\"gradient_tape/private__graph_conv_keras_model_5/graph_pool_10/Reshape_13:0\", shape=(None, 64), dtype=float32), dense_shape=Tensor(\"gradient_tape/private__graph_conv_keras_model_5/graph_pool_10/Cast_4:0\", shape=(2,), dtype=int32))) to a dense Tensor of unknown shape. This may consume a large amount of memory.\n",
            "  \"shape. This may consume a large amount of memory.\" % value)\n",
            "/usr/local/lib/python3.7/dist-packages/tensorflow/python/framework/indexed_slices.py:446: UserWarning: Converting sparse IndexedSlices(IndexedSlices(indices=Tensor(\"gradient_tape/private__graph_conv_keras_model_5/graph_pool_10/Reshape_17:0\", shape=(None,), dtype=int32), values=Tensor(\"gradient_tape/private__graph_conv_keras_model_5/graph_pool_10/Reshape_16:0\", shape=(None, 64), dtype=float32), dense_shape=Tensor(\"gradient_tape/private__graph_conv_keras_model_5/graph_pool_10/Cast_5:0\", shape=(2,), dtype=int32))) to a dense Tensor of unknown shape. This may consume a large amount of memory.\n",
            "  \"shape. This may consume a large amount of memory.\" % value)\n",
            "/usr/local/lib/python3.7/dist-packages/tensorflow/python/framework/indexed_slices.py:446: UserWarning: Converting sparse IndexedSlices(IndexedSlices(indices=Tensor(\"gradient_tape/private__graph_conv_keras_model_5/graph_pool_10/Reshape_20:0\", shape=(None,), dtype=int32), values=Tensor(\"gradient_tape/private__graph_conv_keras_model_5/graph_pool_10/Reshape_19:0\", shape=(None, 64), dtype=float32), dense_shape=Tensor(\"gradient_tape/private__graph_conv_keras_model_5/graph_pool_10/Cast_6:0\", shape=(2,), dtype=int32))) to a dense Tensor of unknown shape. This may consume a large amount of memory.\n",
            "  \"shape. This may consume a large amount of memory.\" % value)\n",
            "/usr/local/lib/python3.7/dist-packages/tensorflow/python/framework/indexed_slices.py:446: UserWarning: Converting sparse IndexedSlices(IndexedSlices(indices=Tensor(\"gradient_tape/private__graph_conv_keras_model_5/graph_pool_10/Reshape_23:0\", shape=(None,), dtype=int32), values=Tensor(\"gradient_tape/private__graph_conv_keras_model_5/graph_pool_10/Reshape_22:0\", shape=(None, 64), dtype=float32), dense_shape=Tensor(\"gradient_tape/private__graph_conv_keras_model_5/graph_pool_10/Cast_7:0\", shape=(2,), dtype=int32))) to a dense Tensor of unknown shape. This may consume a large amount of memory.\n",
            "  \"shape. This may consume a large amount of memory.\" % value)\n",
            "/usr/local/lib/python3.7/dist-packages/tensorflow/python/framework/indexed_slices.py:446: UserWarning: Converting sparse IndexedSlices(IndexedSlices(indices=Tensor(\"gradient_tape/private__graph_conv_keras_model_6/graph_pool_13/Reshape_14:0\", shape=(702,), dtype=int32), values=Tensor(\"gradient_tape/private__graph_conv_keras_model_6/graph_pool_13/Reshape_13:0\", shape=(702, 64), dtype=float32), dense_shape=Tensor(\"gradient_tape/private__graph_conv_keras_model_6/graph_pool_13/Cast_4:0\", shape=(2,), dtype=int32))) to a dense Tensor of unknown shape. This may consume a large amount of memory.\n",
            "  \"shape. This may consume a large amount of memory.\" % value)\n",
            "/usr/local/lib/python3.7/dist-packages/tensorflow/python/framework/indexed_slices.py:446: UserWarning: Converting sparse IndexedSlices(IndexedSlices(indices=Tensor(\"gradient_tape/private__graph_conv_keras_model_6/graph_pool_13/Reshape_17:0\", shape=(3226,), dtype=int32), values=Tensor(\"gradient_tape/private__graph_conv_keras_model_6/graph_pool_13/Reshape_16:0\", shape=(3226, 64), dtype=float32), dense_shape=Tensor(\"gradient_tape/private__graph_conv_keras_model_6/graph_pool_13/Cast_5:0\", shape=(2,), dtype=int32))) to a dense Tensor of unknown shape. This may consume a large amount of memory.\n",
            "  \"shape. This may consume a large amount of memory.\" % value)\n",
            "/usr/local/lib/python3.7/dist-packages/tensorflow/python/framework/indexed_slices.py:446: UserWarning: Converting sparse IndexedSlices(IndexedSlices(indices=Tensor(\"gradient_tape/private__graph_conv_keras_model_6/graph_pool_13/Reshape_20:0\", shape=(3372,), dtype=int32), values=Tensor(\"gradient_tape/private__graph_conv_keras_model_6/graph_pool_13/Reshape_19:0\", shape=(3372, 64), dtype=float32), dense_shape=Tensor(\"gradient_tape/private__graph_conv_keras_model_6/graph_pool_13/Cast_6:0\", shape=(2,), dtype=int32))) to a dense Tensor of unknown shape. This may consume a large amount of memory.\n",
            "  \"shape. This may consume a large amount of memory.\" % value)\n",
            "/usr/local/lib/python3.7/dist-packages/tensorflow/python/framework/indexed_slices.py:446: UserWarning: Converting sparse IndexedSlices(IndexedSlices(indices=Tensor(\"gradient_tape/private__graph_conv_keras_model_6/graph_pool_13/Reshape_23:0\", shape=(308,), dtype=int32), values=Tensor(\"gradient_tape/private__graph_conv_keras_model_6/graph_pool_13/Reshape_22:0\", shape=(308, 64), dtype=float32), dense_shape=Tensor(\"gradient_tape/private__graph_conv_keras_model_6/graph_pool_13/Cast_7:0\", shape=(2,), dtype=int32))) to a dense Tensor of unknown shape. This may consume a large amount of memory.\n",
            "  \"shape. This may consume a large amount of memory.\" % value)\n",
            "/usr/local/lib/python3.7/dist-packages/tensorflow/python/framework/indexed_slices.py:446: UserWarning: Converting sparse IndexedSlices(IndexedSlices(indices=Tensor(\"gradient_tape/private__graph_conv_keras_model_6/graph_conv_13/Reshape_11:0\", shape=(702,), dtype=int32), values=Tensor(\"gradient_tape/private__graph_conv_keras_model_6/graph_conv_13/Reshape_10:0\", shape=(702, 64), dtype=float32), dense_shape=Tensor(\"gradient_tape/private__graph_conv_keras_model_6/graph_conv_13/Cast:0\", shape=(2,), dtype=int32))) to a dense Tensor of unknown shape. This may consume a large amount of memory.\n",
            "  \"shape. This may consume a large amount of memory.\" % value)\n",
            "/usr/local/lib/python3.7/dist-packages/tensorflow/python/framework/indexed_slices.py:446: UserWarning: Converting sparse IndexedSlices(IndexedSlices(indices=Tensor(\"gradient_tape/private__graph_conv_keras_model_6/graph_conv_13/Reshape_13:0\", shape=(3226,), dtype=int32), values=Tensor(\"gradient_tape/private__graph_conv_keras_model_6/graph_conv_13/Reshape_12:0\", shape=(3226, 64), dtype=float32), dense_shape=Tensor(\"gradient_tape/private__graph_conv_keras_model_6/graph_conv_13/Cast_1:0\", shape=(2,), dtype=int32))) to a dense Tensor of unknown shape. This may consume a large amount of memory.\n",
            "  \"shape. This may consume a large amount of memory.\" % value)\n",
            "/usr/local/lib/python3.7/dist-packages/tensorflow/python/framework/indexed_slices.py:446: UserWarning: Converting sparse IndexedSlices(IndexedSlices(indices=Tensor(\"gradient_tape/private__graph_conv_keras_model_6/graph_conv_13/Reshape_15:0\", shape=(3372,), dtype=int32), values=Tensor(\"gradient_tape/private__graph_conv_keras_model_6/graph_conv_13/Reshape_14:0\", shape=(3372, 64), dtype=float32), dense_shape=Tensor(\"gradient_tape/private__graph_conv_keras_model_6/graph_conv_13/Cast_2:0\", shape=(2,), dtype=int32))) to a dense Tensor of unknown shape. This may consume a large amount of memory.\n",
            "  \"shape. This may consume a large amount of memory.\" % value)\n",
            "/usr/local/lib/python3.7/dist-packages/tensorflow/python/framework/indexed_slices.py:446: UserWarning: Converting sparse IndexedSlices(IndexedSlices(indices=Tensor(\"gradient_tape/private__graph_conv_keras_model_6/graph_conv_13/Reshape_17:0\", shape=(308,), dtype=int32), values=Tensor(\"gradient_tape/private__graph_conv_keras_model_6/graph_conv_13/Reshape_16:0\", shape=(308, 64), dtype=float32), dense_shape=Tensor(\"gradient_tape/private__graph_conv_keras_model_6/graph_conv_13/Cast_3:0\", shape=(2,), dtype=int32))) to a dense Tensor of unknown shape. This may consume a large amount of memory.\n",
            "  \"shape. This may consume a large amount of memory.\" % value)\n",
            "/usr/local/lib/python3.7/dist-packages/tensorflow/python/framework/indexed_slices.py:446: UserWarning: Converting sparse IndexedSlices(IndexedSlices(indices=Tensor(\"gradient_tape/private__graph_conv_keras_model_6/graph_conv_13/Reshape_19:0\", shape=(0,), dtype=int32), values=Tensor(\"gradient_tape/private__graph_conv_keras_model_6/graph_conv_13/Reshape_18:0\", shape=(0, 64), dtype=float32), dense_shape=Tensor(\"gradient_tape/private__graph_conv_keras_model_6/graph_conv_13/Cast_4:0\", shape=(2,), dtype=int32))) to a dense Tensor of unknown shape. This may consume a large amount of memory.\n",
            "  \"shape. This may consume a large amount of memory.\" % value)\n",
            "/usr/local/lib/python3.7/dist-packages/tensorflow/python/framework/indexed_slices.py:446: UserWarning: Converting sparse IndexedSlices(IndexedSlices(indices=Tensor(\"gradient_tape/private__graph_conv_keras_model_6/graph_conv_13/Reshape_21:0\", shape=(0,), dtype=int32), values=Tensor(\"gradient_tape/private__graph_conv_keras_model_6/graph_conv_13/Reshape_20:0\", shape=(0, 64), dtype=float32), dense_shape=Tensor(\"gradient_tape/private__graph_conv_keras_model_6/graph_conv_13/Cast_5:0\", shape=(2,), dtype=int32))) to a dense Tensor of unknown shape. This may consume a large amount of memory.\n",
            "  \"shape. This may consume a large amount of memory.\" % value)\n",
            "/usr/local/lib/python3.7/dist-packages/tensorflow/python/framework/indexed_slices.py:446: UserWarning: Converting sparse IndexedSlices(IndexedSlices(indices=Tensor(\"gradient_tape/private__graph_conv_keras_model_6/graph_conv_13/Reshape_23:0\", shape=(0,), dtype=int32), values=Tensor(\"gradient_tape/private__graph_conv_keras_model_6/graph_conv_13/Reshape_22:0\", shape=(0, 64), dtype=float32), dense_shape=Tensor(\"gradient_tape/private__graph_conv_keras_model_6/graph_conv_13/Cast_6:0\", shape=(2,), dtype=int32))) to a dense Tensor of unknown shape. This may consume a large amount of memory.\n",
            "  \"shape. This may consume a large amount of memory.\" % value)\n",
            "/usr/local/lib/python3.7/dist-packages/tensorflow/python/framework/indexed_slices.py:446: UserWarning: Converting sparse IndexedSlices(IndexedSlices(indices=Tensor(\"gradient_tape/private__graph_conv_keras_model_6/graph_conv_13/Reshape_25:0\", shape=(0,), dtype=int32), values=Tensor(\"gradient_tape/private__graph_conv_keras_model_6/graph_conv_13/Reshape_24:0\", shape=(0, 64), dtype=float32), dense_shape=Tensor(\"gradient_tape/private__graph_conv_keras_model_6/graph_conv_13/Cast_7:0\", shape=(2,), dtype=int32))) to a dense Tensor of unknown shape. This may consume a large amount of memory.\n",
            "  \"shape. This may consume a large amount of memory.\" % value)\n",
            "/usr/local/lib/python3.7/dist-packages/tensorflow/python/framework/indexed_slices.py:446: UserWarning: Converting sparse IndexedSlices(IndexedSlices(indices=Tensor(\"gradient_tape/private__graph_conv_keras_model_6/graph_conv_13/Reshape_27:0\", shape=(0,), dtype=int32), values=Tensor(\"gradient_tape/private__graph_conv_keras_model_6/graph_conv_13/Reshape_26:0\", shape=(0, 64), dtype=float32), dense_shape=Tensor(\"gradient_tape/private__graph_conv_keras_model_6/graph_conv_13/Cast_8:0\", shape=(2,), dtype=int32))) to a dense Tensor of unknown shape. This may consume a large amount of memory.\n",
            "  \"shape. This may consume a large amount of memory.\" % value)\n",
            "/usr/local/lib/python3.7/dist-packages/tensorflow/python/framework/indexed_slices.py:446: UserWarning: Converting sparse IndexedSlices(IndexedSlices(indices=Tensor(\"gradient_tape/private__graph_conv_keras_model_6/graph_conv_13/Reshape_29:0\", shape=(0,), dtype=int32), values=Tensor(\"gradient_tape/private__graph_conv_keras_model_6/graph_conv_13/Reshape_28:0\", shape=(0, 64), dtype=float32), dense_shape=Tensor(\"gradient_tape/private__graph_conv_keras_model_6/graph_conv_13/Cast_9:0\", shape=(2,), dtype=int32))) to a dense Tensor of unknown shape. This may consume a large amount of memory.\n",
            "  \"shape. This may consume a large amount of memory.\" % value)\n",
            "/usr/local/lib/python3.7/dist-packages/tensorflow/python/framework/indexed_slices.py:446: UserWarning: Converting sparse IndexedSlices(IndexedSlices(indices=Tensor(\"gradient_tape/private__graph_conv_keras_model_6/graph_pool_12/Reshape_14:0\", shape=(702,), dtype=int32), values=Tensor(\"gradient_tape/private__graph_conv_keras_model_6/graph_pool_12/Reshape_13:0\", shape=(702, 64), dtype=float32), dense_shape=Tensor(\"gradient_tape/private__graph_conv_keras_model_6/graph_pool_12/Cast_4:0\", shape=(2,), dtype=int32))) to a dense Tensor of unknown shape. This may consume a large amount of memory.\n",
            "  \"shape. This may consume a large amount of memory.\" % value)\n",
            "/usr/local/lib/python3.7/dist-packages/tensorflow/python/framework/indexed_slices.py:446: UserWarning: Converting sparse IndexedSlices(IndexedSlices(indices=Tensor(\"gradient_tape/private__graph_conv_keras_model_6/graph_pool_12/Reshape_17:0\", shape=(3226,), dtype=int32), values=Tensor(\"gradient_tape/private__graph_conv_keras_model_6/graph_pool_12/Reshape_16:0\", shape=(3226, 64), dtype=float32), dense_shape=Tensor(\"gradient_tape/private__graph_conv_keras_model_6/graph_pool_12/Cast_5:0\", shape=(2,), dtype=int32))) to a dense Tensor of unknown shape. This may consume a large amount of memory.\n",
            "  \"shape. This may consume a large amount of memory.\" % value)\n",
            "/usr/local/lib/python3.7/dist-packages/tensorflow/python/framework/indexed_slices.py:446: UserWarning: Converting sparse IndexedSlices(IndexedSlices(indices=Tensor(\"gradient_tape/private__graph_conv_keras_model_6/graph_pool_12/Reshape_20:0\", shape=(3372,), dtype=int32), values=Tensor(\"gradient_tape/private__graph_conv_keras_model_6/graph_pool_12/Reshape_19:0\", shape=(3372, 64), dtype=float32), dense_shape=Tensor(\"gradient_tape/private__graph_conv_keras_model_6/graph_pool_12/Cast_6:0\", shape=(2,), dtype=int32))) to a dense Tensor of unknown shape. This may consume a large amount of memory.\n",
            "  \"shape. This may consume a large amount of memory.\" % value)\n",
            "/usr/local/lib/python3.7/dist-packages/tensorflow/python/framework/indexed_slices.py:446: UserWarning: Converting sparse IndexedSlices(IndexedSlices(indices=Tensor(\"gradient_tape/private__graph_conv_keras_model_6/graph_pool_12/Reshape_23:0\", shape=(308,), dtype=int32), values=Tensor(\"gradient_tape/private__graph_conv_keras_model_6/graph_pool_12/Reshape_22:0\", shape=(308, 64), dtype=float32), dense_shape=Tensor(\"gradient_tape/private__graph_conv_keras_model_6/graph_pool_12/Cast_7:0\", shape=(2,), dtype=int32))) to a dense Tensor of unknown shape. This may consume a large amount of memory.\n",
            "  \"shape. This may consume a large amount of memory.\" % value)\n",
            "/usr/local/lib/python3.7/dist-packages/tensorflow/python/framework/indexed_slices.py:446: UserWarning: Converting sparse IndexedSlices(IndexedSlices(indices=Tensor(\"gradient_tape/private__graph_conv_keras_model_6/graph_pool_13/Reshape_14:0\", shape=(699,), dtype=int32), values=Tensor(\"gradient_tape/private__graph_conv_keras_model_6/graph_pool_13/Reshape_13:0\", shape=(699, 64), dtype=float32), dense_shape=Tensor(\"gradient_tape/private__graph_conv_keras_model_6/graph_pool_13/Cast_4:0\", shape=(2,), dtype=int32))) to a dense Tensor of unknown shape. This may consume a large amount of memory.\n",
            "  \"shape. This may consume a large amount of memory.\" % value)\n",
            "/usr/local/lib/python3.7/dist-packages/tensorflow/python/framework/indexed_slices.py:446: UserWarning: Converting sparse IndexedSlices(IndexedSlices(indices=Tensor(\"gradient_tape/private__graph_conv_keras_model_6/graph_pool_13/Reshape_17:0\", shape=(3098,), dtype=int32), values=Tensor(\"gradient_tape/private__graph_conv_keras_model_6/graph_pool_13/Reshape_16:0\", shape=(3098, 64), dtype=float32), dense_shape=Tensor(\"gradient_tape/private__graph_conv_keras_model_6/graph_pool_13/Cast_5:0\", shape=(2,), dtype=int32))) to a dense Tensor of unknown shape. This may consume a large amount of memory.\n",
            "  \"shape. This may consume a large amount of memory.\" % value)\n",
            "/usr/local/lib/python3.7/dist-packages/tensorflow/python/framework/indexed_slices.py:446: UserWarning: Converting sparse IndexedSlices(IndexedSlices(indices=Tensor(\"gradient_tape/private__graph_conv_keras_model_6/graph_pool_13/Reshape_20:0\", shape=(3315,), dtype=int32), values=Tensor(\"gradient_tape/private__graph_conv_keras_model_6/graph_pool_13/Reshape_19:0\", shape=(3315, 64), dtype=float32), dense_shape=Tensor(\"gradient_tape/private__graph_conv_keras_model_6/graph_pool_13/Cast_6:0\", shape=(2,), dtype=int32))) to a dense Tensor of unknown shape. This may consume a large amount of memory.\n",
            "  \"shape. This may consume a large amount of memory.\" % value)\n",
            "/usr/local/lib/python3.7/dist-packages/tensorflow/python/framework/indexed_slices.py:446: UserWarning: Converting sparse IndexedSlices(IndexedSlices(indices=Tensor(\"gradient_tape/private__graph_conv_keras_model_6/graph_pool_13/Reshape_23:0\", shape=(260,), dtype=int32), values=Tensor(\"gradient_tape/private__graph_conv_keras_model_6/graph_pool_13/Reshape_22:0\", shape=(260, 64), dtype=float32), dense_shape=Tensor(\"gradient_tape/private__graph_conv_keras_model_6/graph_pool_13/Cast_7:0\", shape=(2,), dtype=int32))) to a dense Tensor of unknown shape. This may consume a large amount of memory.\n",
            "  \"shape. This may consume a large amount of memory.\" % value)\n",
            "/usr/local/lib/python3.7/dist-packages/tensorflow/python/framework/indexed_slices.py:446: UserWarning: Converting sparse IndexedSlices(IndexedSlices(indices=Tensor(\"gradient_tape/private__graph_conv_keras_model_6/graph_conv_13/Reshape_11:0\", shape=(699,), dtype=int32), values=Tensor(\"gradient_tape/private__graph_conv_keras_model_6/graph_conv_13/Reshape_10:0\", shape=(699, 64), dtype=float32), dense_shape=Tensor(\"gradient_tape/private__graph_conv_keras_model_6/graph_conv_13/Cast:0\", shape=(2,), dtype=int32))) to a dense Tensor of unknown shape. This may consume a large amount of memory.\n",
            "  \"shape. This may consume a large amount of memory.\" % value)\n",
            "/usr/local/lib/python3.7/dist-packages/tensorflow/python/framework/indexed_slices.py:446: UserWarning: Converting sparse IndexedSlices(IndexedSlices(indices=Tensor(\"gradient_tape/private__graph_conv_keras_model_6/graph_conv_13/Reshape_13:0\", shape=(3098,), dtype=int32), values=Tensor(\"gradient_tape/private__graph_conv_keras_model_6/graph_conv_13/Reshape_12:0\", shape=(3098, 64), dtype=float32), dense_shape=Tensor(\"gradient_tape/private__graph_conv_keras_model_6/graph_conv_13/Cast_1:0\", shape=(2,), dtype=int32))) to a dense Tensor of unknown shape. This may consume a large amount of memory.\n",
            "  \"shape. This may consume a large amount of memory.\" % value)\n",
            "/usr/local/lib/python3.7/dist-packages/tensorflow/python/framework/indexed_slices.py:446: UserWarning: Converting sparse IndexedSlices(IndexedSlices(indices=Tensor(\"gradient_tape/private__graph_conv_keras_model_6/graph_conv_13/Reshape_15:0\", shape=(3315,), dtype=int32), values=Tensor(\"gradient_tape/private__graph_conv_keras_model_6/graph_conv_13/Reshape_14:0\", shape=(3315, 64), dtype=float32), dense_shape=Tensor(\"gradient_tape/private__graph_conv_keras_model_6/graph_conv_13/Cast_2:0\", shape=(2,), dtype=int32))) to a dense Tensor of unknown shape. This may consume a large amount of memory.\n",
            "  \"shape. This may consume a large amount of memory.\" % value)\n",
            "/usr/local/lib/python3.7/dist-packages/tensorflow/python/framework/indexed_slices.py:446: UserWarning: Converting sparse IndexedSlices(IndexedSlices(indices=Tensor(\"gradient_tape/private__graph_conv_keras_model_6/graph_conv_13/Reshape_17:0\", shape=(260,), dtype=int32), values=Tensor(\"gradient_tape/private__graph_conv_keras_model_6/graph_conv_13/Reshape_16:0\", shape=(260, 64), dtype=float32), dense_shape=Tensor(\"gradient_tape/private__graph_conv_keras_model_6/graph_conv_13/Cast_3:0\", shape=(2,), dtype=int32))) to a dense Tensor of unknown shape. This may consume a large amount of memory.\n",
            "  \"shape. This may consume a large amount of memory.\" % value)\n",
            "/usr/local/lib/python3.7/dist-packages/tensorflow/python/framework/indexed_slices.py:446: UserWarning: Converting sparse IndexedSlices(IndexedSlices(indices=Tensor(\"gradient_tape/private__graph_conv_keras_model_6/graph_pool_12/Reshape_14:0\", shape=(699,), dtype=int32), values=Tensor(\"gradient_tape/private__graph_conv_keras_model_6/graph_pool_12/Reshape_13:0\", shape=(699, 64), dtype=float32), dense_shape=Tensor(\"gradient_tape/private__graph_conv_keras_model_6/graph_pool_12/Cast_4:0\", shape=(2,), dtype=int32))) to a dense Tensor of unknown shape. This may consume a large amount of memory.\n",
            "  \"shape. This may consume a large amount of memory.\" % value)\n",
            "/usr/local/lib/python3.7/dist-packages/tensorflow/python/framework/indexed_slices.py:446: UserWarning: Converting sparse IndexedSlices(IndexedSlices(indices=Tensor(\"gradient_tape/private__graph_conv_keras_model_6/graph_pool_12/Reshape_17:0\", shape=(3098,), dtype=int32), values=Tensor(\"gradient_tape/private__graph_conv_keras_model_6/graph_pool_12/Reshape_16:0\", shape=(3098, 64), dtype=float32), dense_shape=Tensor(\"gradient_tape/private__graph_conv_keras_model_6/graph_pool_12/Cast_5:0\", shape=(2,), dtype=int32))) to a dense Tensor of unknown shape. This may consume a large amount of memory.\n",
            "  \"shape. This may consume a large amount of memory.\" % value)\n",
            "/usr/local/lib/python3.7/dist-packages/tensorflow/python/framework/indexed_slices.py:446: UserWarning: Converting sparse IndexedSlices(IndexedSlices(indices=Tensor(\"gradient_tape/private__graph_conv_keras_model_6/graph_pool_12/Reshape_20:0\", shape=(3315,), dtype=int32), values=Tensor(\"gradient_tape/private__graph_conv_keras_model_6/graph_pool_12/Reshape_19:0\", shape=(3315, 64), dtype=float32), dense_shape=Tensor(\"gradient_tape/private__graph_conv_keras_model_6/graph_pool_12/Cast_6:0\", shape=(2,), dtype=int32))) to a dense Tensor of unknown shape. This may consume a large amount of memory.\n",
            "  \"shape. This may consume a large amount of memory.\" % value)\n",
            "/usr/local/lib/python3.7/dist-packages/tensorflow/python/framework/indexed_slices.py:446: UserWarning: Converting sparse IndexedSlices(IndexedSlices(indices=Tensor(\"gradient_tape/private__graph_conv_keras_model_6/graph_pool_12/Reshape_23:0\", shape=(260,), dtype=int32), values=Tensor(\"gradient_tape/private__graph_conv_keras_model_6/graph_pool_12/Reshape_22:0\", shape=(260, 64), dtype=float32), dense_shape=Tensor(\"gradient_tape/private__graph_conv_keras_model_6/graph_pool_12/Cast_7:0\", shape=(2,), dtype=int32))) to a dense Tensor of unknown shape. This may consume a large amount of memory.\n",
            "  \"shape. This may consume a large amount of memory.\" % value)\n",
            "/usr/local/lib/python3.7/dist-packages/tensorflow/python/framework/indexed_slices.py:446: UserWarning: Converting sparse IndexedSlices(IndexedSlices(indices=Tensor(\"gradient_tape/private__graph_conv_keras_model_6/graph_pool_13/Reshape_14:0\", shape=(None,), dtype=int32), values=Tensor(\"gradient_tape/private__graph_conv_keras_model_6/graph_pool_13/Reshape_13:0\", shape=(None, 64), dtype=float32), dense_shape=Tensor(\"gradient_tape/private__graph_conv_keras_model_6/graph_pool_13/Cast_4:0\", shape=(2,), dtype=int32))) to a dense Tensor of unknown shape. This may consume a large amount of memory.\n",
            "  \"shape. This may consume a large amount of memory.\" % value)\n",
            "/usr/local/lib/python3.7/dist-packages/tensorflow/python/framework/indexed_slices.py:446: UserWarning: Converting sparse IndexedSlices(IndexedSlices(indices=Tensor(\"gradient_tape/private__graph_conv_keras_model_6/graph_pool_13/Reshape_17:0\", shape=(None,), dtype=int32), values=Tensor(\"gradient_tape/private__graph_conv_keras_model_6/graph_pool_13/Reshape_16:0\", shape=(None, 64), dtype=float32), dense_shape=Tensor(\"gradient_tape/private__graph_conv_keras_model_6/graph_pool_13/Cast_5:0\", shape=(2,), dtype=int32))) to a dense Tensor of unknown shape. This may consume a large amount of memory.\n",
            "  \"shape. This may consume a large amount of memory.\" % value)\n",
            "/usr/local/lib/python3.7/dist-packages/tensorflow/python/framework/indexed_slices.py:446: UserWarning: Converting sparse IndexedSlices(IndexedSlices(indices=Tensor(\"gradient_tape/private__graph_conv_keras_model_6/graph_pool_13/Reshape_20:0\", shape=(None,), dtype=int32), values=Tensor(\"gradient_tape/private__graph_conv_keras_model_6/graph_pool_13/Reshape_19:0\", shape=(None, 64), dtype=float32), dense_shape=Tensor(\"gradient_tape/private__graph_conv_keras_model_6/graph_pool_13/Cast_6:0\", shape=(2,), dtype=int32))) to a dense Tensor of unknown shape. This may consume a large amount of memory.\n",
            "  \"shape. This may consume a large amount of memory.\" % value)\n",
            "/usr/local/lib/python3.7/dist-packages/tensorflow/python/framework/indexed_slices.py:446: UserWarning: Converting sparse IndexedSlices(IndexedSlices(indices=Tensor(\"gradient_tape/private__graph_conv_keras_model_6/graph_pool_13/Reshape_23:0\", shape=(None,), dtype=int32), values=Tensor(\"gradient_tape/private__graph_conv_keras_model_6/graph_pool_13/Reshape_22:0\", shape=(None, 64), dtype=float32), dense_shape=Tensor(\"gradient_tape/private__graph_conv_keras_model_6/graph_pool_13/Cast_7:0\", shape=(2,), dtype=int32))) to a dense Tensor of unknown shape. This may consume a large amount of memory.\n",
            "  \"shape. This may consume a large amount of memory.\" % value)\n",
            "/usr/local/lib/python3.7/dist-packages/tensorflow/python/framework/indexed_slices.py:446: UserWarning: Converting sparse IndexedSlices(IndexedSlices(indices=Tensor(\"gradient_tape/private__graph_conv_keras_model_6/graph_conv_13/Reshape_11:0\", shape=(None,), dtype=int32), values=Tensor(\"gradient_tape/private__graph_conv_keras_model_6/graph_conv_13/Reshape_10:0\", shape=(None, 64), dtype=float32), dense_shape=Tensor(\"gradient_tape/private__graph_conv_keras_model_6/graph_conv_13/Cast:0\", shape=(2,), dtype=int32))) to a dense Tensor of unknown shape. This may consume a large amount of memory.\n",
            "  \"shape. This may consume a large amount of memory.\" % value)\n",
            "/usr/local/lib/python3.7/dist-packages/tensorflow/python/framework/indexed_slices.py:446: UserWarning: Converting sparse IndexedSlices(IndexedSlices(indices=Tensor(\"gradient_tape/private__graph_conv_keras_model_6/graph_conv_13/Reshape_13:0\", shape=(None,), dtype=int32), values=Tensor(\"gradient_tape/private__graph_conv_keras_model_6/graph_conv_13/Reshape_12:0\", shape=(None, 64), dtype=float32), dense_shape=Tensor(\"gradient_tape/private__graph_conv_keras_model_6/graph_conv_13/Cast_1:0\", shape=(2,), dtype=int32))) to a dense Tensor of unknown shape. This may consume a large amount of memory.\n",
            "  \"shape. This may consume a large amount of memory.\" % value)\n",
            "/usr/local/lib/python3.7/dist-packages/tensorflow/python/framework/indexed_slices.py:446: UserWarning: Converting sparse IndexedSlices(IndexedSlices(indices=Tensor(\"gradient_tape/private__graph_conv_keras_model_6/graph_conv_13/Reshape_15:0\", shape=(None,), dtype=int32), values=Tensor(\"gradient_tape/private__graph_conv_keras_model_6/graph_conv_13/Reshape_14:0\", shape=(None, 64), dtype=float32), dense_shape=Tensor(\"gradient_tape/private__graph_conv_keras_model_6/graph_conv_13/Cast_2:0\", shape=(2,), dtype=int32))) to a dense Tensor of unknown shape. This may consume a large amount of memory.\n",
            "  \"shape. This may consume a large amount of memory.\" % value)\n",
            "/usr/local/lib/python3.7/dist-packages/tensorflow/python/framework/indexed_slices.py:446: UserWarning: Converting sparse IndexedSlices(IndexedSlices(indices=Tensor(\"gradient_tape/private__graph_conv_keras_model_6/graph_conv_13/Reshape_17:0\", shape=(None,), dtype=int32), values=Tensor(\"gradient_tape/private__graph_conv_keras_model_6/graph_conv_13/Reshape_16:0\", shape=(None, 64), dtype=float32), dense_shape=Tensor(\"gradient_tape/private__graph_conv_keras_model_6/graph_conv_13/Cast_3:0\", shape=(2,), dtype=int32))) to a dense Tensor of unknown shape. This may consume a large amount of memory.\n",
            "  \"shape. This may consume a large amount of memory.\" % value)\n",
            "/usr/local/lib/python3.7/dist-packages/tensorflow/python/framework/indexed_slices.py:446: UserWarning: Converting sparse IndexedSlices(IndexedSlices(indices=Tensor(\"gradient_tape/private__graph_conv_keras_model_6/graph_pool_12/Reshape_14:0\", shape=(None,), dtype=int32), values=Tensor(\"gradient_tape/private__graph_conv_keras_model_6/graph_pool_12/Reshape_13:0\", shape=(None, 64), dtype=float32), dense_shape=Tensor(\"gradient_tape/private__graph_conv_keras_model_6/graph_pool_12/Cast_4:0\", shape=(2,), dtype=int32))) to a dense Tensor of unknown shape. This may consume a large amount of memory.\n",
            "  \"shape. This may consume a large amount of memory.\" % value)\n",
            "/usr/local/lib/python3.7/dist-packages/tensorflow/python/framework/indexed_slices.py:446: UserWarning: Converting sparse IndexedSlices(IndexedSlices(indices=Tensor(\"gradient_tape/private__graph_conv_keras_model_6/graph_pool_12/Reshape_17:0\", shape=(None,), dtype=int32), values=Tensor(\"gradient_tape/private__graph_conv_keras_model_6/graph_pool_12/Reshape_16:0\", shape=(None, 64), dtype=float32), dense_shape=Tensor(\"gradient_tape/private__graph_conv_keras_model_6/graph_pool_12/Cast_5:0\", shape=(2,), dtype=int32))) to a dense Tensor of unknown shape. This may consume a large amount of memory.\n",
            "  \"shape. This may consume a large amount of memory.\" % value)\n",
            "/usr/local/lib/python3.7/dist-packages/tensorflow/python/framework/indexed_slices.py:446: UserWarning: Converting sparse IndexedSlices(IndexedSlices(indices=Tensor(\"gradient_tape/private__graph_conv_keras_model_6/graph_pool_12/Reshape_20:0\", shape=(None,), dtype=int32), values=Tensor(\"gradient_tape/private__graph_conv_keras_model_6/graph_pool_12/Reshape_19:0\", shape=(None, 64), dtype=float32), dense_shape=Tensor(\"gradient_tape/private__graph_conv_keras_model_6/graph_pool_12/Cast_6:0\", shape=(2,), dtype=int32))) to a dense Tensor of unknown shape. This may consume a large amount of memory.\n",
            "  \"shape. This may consume a large amount of memory.\" % value)\n",
            "/usr/local/lib/python3.7/dist-packages/tensorflow/python/framework/indexed_slices.py:446: UserWarning: Converting sparse IndexedSlices(IndexedSlices(indices=Tensor(\"gradient_tape/private__graph_conv_keras_model_6/graph_pool_12/Reshape_23:0\", shape=(None,), dtype=int32), values=Tensor(\"gradient_tape/private__graph_conv_keras_model_6/graph_pool_12/Reshape_22:0\", shape=(None, 64), dtype=float32), dense_shape=Tensor(\"gradient_tape/private__graph_conv_keras_model_6/graph_pool_12/Cast_7:0\", shape=(2,), dtype=int32))) to a dense Tensor of unknown shape. This may consume a large amount of memory.\n",
            "  \"shape. This may consume a large amount of memory.\" % value)\n",
            "/usr/local/lib/python3.7/dist-packages/tensorflow/python/framework/indexed_slices.py:446: UserWarning: Converting sparse IndexedSlices(IndexedSlices(indices=Tensor(\"gradient_tape/private__graph_conv_keras_model_7/graph_pool_15/Reshape_14:0\", shape=(684,), dtype=int32), values=Tensor(\"gradient_tape/private__graph_conv_keras_model_7/graph_pool_15/Reshape_13:0\", shape=(684, 64), dtype=float32), dense_shape=Tensor(\"gradient_tape/private__graph_conv_keras_model_7/graph_pool_15/Cast_4:0\", shape=(2,), dtype=int32))) to a dense Tensor of unknown shape. This may consume a large amount of memory.\n",
            "  \"shape. This may consume a large amount of memory.\" % value)\n",
            "/usr/local/lib/python3.7/dist-packages/tensorflow/python/framework/indexed_slices.py:446: UserWarning: Converting sparse IndexedSlices(IndexedSlices(indices=Tensor(\"gradient_tape/private__graph_conv_keras_model_7/graph_pool_15/Reshape_17:0\", shape=(3254,), dtype=int32), values=Tensor(\"gradient_tape/private__graph_conv_keras_model_7/graph_pool_15/Reshape_16:0\", shape=(3254, 64), dtype=float32), dense_shape=Tensor(\"gradient_tape/private__graph_conv_keras_model_7/graph_pool_15/Cast_5:0\", shape=(2,), dtype=int32))) to a dense Tensor of unknown shape. This may consume a large amount of memory.\n",
            "  \"shape. This may consume a large amount of memory.\" % value)\n",
            "/usr/local/lib/python3.7/dist-packages/tensorflow/python/framework/indexed_slices.py:446: UserWarning: Converting sparse IndexedSlices(IndexedSlices(indices=Tensor(\"gradient_tape/private__graph_conv_keras_model_7/graph_pool_15/Reshape_20:0\", shape=(3342,), dtype=int32), values=Tensor(\"gradient_tape/private__graph_conv_keras_model_7/graph_pool_15/Reshape_19:0\", shape=(3342, 64), dtype=float32), dense_shape=Tensor(\"gradient_tape/private__graph_conv_keras_model_7/graph_pool_15/Cast_6:0\", shape=(2,), dtype=int32))) to a dense Tensor of unknown shape. This may consume a large amount of memory.\n",
            "  \"shape. This may consume a large amount of memory.\" % value)\n",
            "/usr/local/lib/python3.7/dist-packages/tensorflow/python/framework/indexed_slices.py:446: UserWarning: Converting sparse IndexedSlices(IndexedSlices(indices=Tensor(\"gradient_tape/private__graph_conv_keras_model_7/graph_pool_15/Reshape_23:0\", shape=(260,), dtype=int32), values=Tensor(\"gradient_tape/private__graph_conv_keras_model_7/graph_pool_15/Reshape_22:0\", shape=(260, 64), dtype=float32), dense_shape=Tensor(\"gradient_tape/private__graph_conv_keras_model_7/graph_pool_15/Cast_7:0\", shape=(2,), dtype=int32))) to a dense Tensor of unknown shape. This may consume a large amount of memory.\n",
            "  \"shape. This may consume a large amount of memory.\" % value)\n",
            "/usr/local/lib/python3.7/dist-packages/tensorflow/python/framework/indexed_slices.py:446: UserWarning: Converting sparse IndexedSlices(IndexedSlices(indices=Tensor(\"gradient_tape/private__graph_conv_keras_model_7/graph_conv_15/Reshape_11:0\", shape=(684,), dtype=int32), values=Tensor(\"gradient_tape/private__graph_conv_keras_model_7/graph_conv_15/Reshape_10:0\", shape=(684, 64), dtype=float32), dense_shape=Tensor(\"gradient_tape/private__graph_conv_keras_model_7/graph_conv_15/Cast:0\", shape=(2,), dtype=int32))) to a dense Tensor of unknown shape. This may consume a large amount of memory.\n",
            "  \"shape. This may consume a large amount of memory.\" % value)\n",
            "/usr/local/lib/python3.7/dist-packages/tensorflow/python/framework/indexed_slices.py:446: UserWarning: Converting sparse IndexedSlices(IndexedSlices(indices=Tensor(\"gradient_tape/private__graph_conv_keras_model_7/graph_conv_15/Reshape_13:0\", shape=(3254,), dtype=int32), values=Tensor(\"gradient_tape/private__graph_conv_keras_model_7/graph_conv_15/Reshape_12:0\", shape=(3254, 64), dtype=float32), dense_shape=Tensor(\"gradient_tape/private__graph_conv_keras_model_7/graph_conv_15/Cast_1:0\", shape=(2,), dtype=int32))) to a dense Tensor of unknown shape. This may consume a large amount of memory.\n",
            "  \"shape. This may consume a large amount of memory.\" % value)\n",
            "/usr/local/lib/python3.7/dist-packages/tensorflow/python/framework/indexed_slices.py:446: UserWarning: Converting sparse IndexedSlices(IndexedSlices(indices=Tensor(\"gradient_tape/private__graph_conv_keras_model_7/graph_conv_15/Reshape_15:0\", shape=(3342,), dtype=int32), values=Tensor(\"gradient_tape/private__graph_conv_keras_model_7/graph_conv_15/Reshape_14:0\", shape=(3342, 64), dtype=float32), dense_shape=Tensor(\"gradient_tape/private__graph_conv_keras_model_7/graph_conv_15/Cast_2:0\", shape=(2,), dtype=int32))) to a dense Tensor of unknown shape. This may consume a large amount of memory.\n",
            "  \"shape. This may consume a large amount of memory.\" % value)\n",
            "/usr/local/lib/python3.7/dist-packages/tensorflow/python/framework/indexed_slices.py:446: UserWarning: Converting sparse IndexedSlices(IndexedSlices(indices=Tensor(\"gradient_tape/private__graph_conv_keras_model_7/graph_conv_15/Reshape_17:0\", shape=(260,), dtype=int32), values=Tensor(\"gradient_tape/private__graph_conv_keras_model_7/graph_conv_15/Reshape_16:0\", shape=(260, 64), dtype=float32), dense_shape=Tensor(\"gradient_tape/private__graph_conv_keras_model_7/graph_conv_15/Cast_3:0\", shape=(2,), dtype=int32))) to a dense Tensor of unknown shape. This may consume a large amount of memory.\n",
            "  \"shape. This may consume a large amount of memory.\" % value)\n",
            "/usr/local/lib/python3.7/dist-packages/tensorflow/python/framework/indexed_slices.py:446: UserWarning: Converting sparse IndexedSlices(IndexedSlices(indices=Tensor(\"gradient_tape/private__graph_conv_keras_model_7/graph_conv_15/Reshape_19:0\", shape=(0,), dtype=int32), values=Tensor(\"gradient_tape/private__graph_conv_keras_model_7/graph_conv_15/Reshape_18:0\", shape=(0, 64), dtype=float32), dense_shape=Tensor(\"gradient_tape/private__graph_conv_keras_model_7/graph_conv_15/Cast_4:0\", shape=(2,), dtype=int32))) to a dense Tensor of unknown shape. This may consume a large amount of memory.\n",
            "  \"shape. This may consume a large amount of memory.\" % value)\n",
            "/usr/local/lib/python3.7/dist-packages/tensorflow/python/framework/indexed_slices.py:446: UserWarning: Converting sparse IndexedSlices(IndexedSlices(indices=Tensor(\"gradient_tape/private__graph_conv_keras_model_7/graph_conv_15/Reshape_21:0\", shape=(0,), dtype=int32), values=Tensor(\"gradient_tape/private__graph_conv_keras_model_7/graph_conv_15/Reshape_20:0\", shape=(0, 64), dtype=float32), dense_shape=Tensor(\"gradient_tape/private__graph_conv_keras_model_7/graph_conv_15/Cast_5:0\", shape=(2,), dtype=int32))) to a dense Tensor of unknown shape. This may consume a large amount of memory.\n",
            "  \"shape. This may consume a large amount of memory.\" % value)\n",
            "/usr/local/lib/python3.7/dist-packages/tensorflow/python/framework/indexed_slices.py:446: UserWarning: Converting sparse IndexedSlices(IndexedSlices(indices=Tensor(\"gradient_tape/private__graph_conv_keras_model_7/graph_conv_15/Reshape_23:0\", shape=(0,), dtype=int32), values=Tensor(\"gradient_tape/private__graph_conv_keras_model_7/graph_conv_15/Reshape_22:0\", shape=(0, 64), dtype=float32), dense_shape=Tensor(\"gradient_tape/private__graph_conv_keras_model_7/graph_conv_15/Cast_6:0\", shape=(2,), dtype=int32))) to a dense Tensor of unknown shape. This may consume a large amount of memory.\n",
            "  \"shape. This may consume a large amount of memory.\" % value)\n",
            "/usr/local/lib/python3.7/dist-packages/tensorflow/python/framework/indexed_slices.py:446: UserWarning: Converting sparse IndexedSlices(IndexedSlices(indices=Tensor(\"gradient_tape/private__graph_conv_keras_model_7/graph_conv_15/Reshape_25:0\", shape=(0,), dtype=int32), values=Tensor(\"gradient_tape/private__graph_conv_keras_model_7/graph_conv_15/Reshape_24:0\", shape=(0, 64), dtype=float32), dense_shape=Tensor(\"gradient_tape/private__graph_conv_keras_model_7/graph_conv_15/Cast_7:0\", shape=(2,), dtype=int32))) to a dense Tensor of unknown shape. This may consume a large amount of memory.\n",
            "  \"shape. This may consume a large amount of memory.\" % value)\n",
            "/usr/local/lib/python3.7/dist-packages/tensorflow/python/framework/indexed_slices.py:446: UserWarning: Converting sparse IndexedSlices(IndexedSlices(indices=Tensor(\"gradient_tape/private__graph_conv_keras_model_7/graph_conv_15/Reshape_27:0\", shape=(0,), dtype=int32), values=Tensor(\"gradient_tape/private__graph_conv_keras_model_7/graph_conv_15/Reshape_26:0\", shape=(0, 64), dtype=float32), dense_shape=Tensor(\"gradient_tape/private__graph_conv_keras_model_7/graph_conv_15/Cast_8:0\", shape=(2,), dtype=int32))) to a dense Tensor of unknown shape. This may consume a large amount of memory.\n",
            "  \"shape. This may consume a large amount of memory.\" % value)\n",
            "/usr/local/lib/python3.7/dist-packages/tensorflow/python/framework/indexed_slices.py:446: UserWarning: Converting sparse IndexedSlices(IndexedSlices(indices=Tensor(\"gradient_tape/private__graph_conv_keras_model_7/graph_conv_15/Reshape_29:0\", shape=(0,), dtype=int32), values=Tensor(\"gradient_tape/private__graph_conv_keras_model_7/graph_conv_15/Reshape_28:0\", shape=(0, 64), dtype=float32), dense_shape=Tensor(\"gradient_tape/private__graph_conv_keras_model_7/graph_conv_15/Cast_9:0\", shape=(2,), dtype=int32))) to a dense Tensor of unknown shape. This may consume a large amount of memory.\n",
            "  \"shape. This may consume a large amount of memory.\" % value)\n",
            "/usr/local/lib/python3.7/dist-packages/tensorflow/python/framework/indexed_slices.py:446: UserWarning: Converting sparse IndexedSlices(IndexedSlices(indices=Tensor(\"gradient_tape/private__graph_conv_keras_model_7/graph_pool_14/Reshape_14:0\", shape=(684,), dtype=int32), values=Tensor(\"gradient_tape/private__graph_conv_keras_model_7/graph_pool_14/Reshape_13:0\", shape=(684, 64), dtype=float32), dense_shape=Tensor(\"gradient_tape/private__graph_conv_keras_model_7/graph_pool_14/Cast_4:0\", shape=(2,), dtype=int32))) to a dense Tensor of unknown shape. This may consume a large amount of memory.\n",
            "  \"shape. This may consume a large amount of memory.\" % value)\n",
            "/usr/local/lib/python3.7/dist-packages/tensorflow/python/framework/indexed_slices.py:446: UserWarning: Converting sparse IndexedSlices(IndexedSlices(indices=Tensor(\"gradient_tape/private__graph_conv_keras_model_7/graph_pool_14/Reshape_17:0\", shape=(3254,), dtype=int32), values=Tensor(\"gradient_tape/private__graph_conv_keras_model_7/graph_pool_14/Reshape_16:0\", shape=(3254, 64), dtype=float32), dense_shape=Tensor(\"gradient_tape/private__graph_conv_keras_model_7/graph_pool_14/Cast_5:0\", shape=(2,), dtype=int32))) to a dense Tensor of unknown shape. This may consume a large amount of memory.\n",
            "  \"shape. This may consume a large amount of memory.\" % value)\n",
            "/usr/local/lib/python3.7/dist-packages/tensorflow/python/framework/indexed_slices.py:446: UserWarning: Converting sparse IndexedSlices(IndexedSlices(indices=Tensor(\"gradient_tape/private__graph_conv_keras_model_7/graph_pool_14/Reshape_20:0\", shape=(3342,), dtype=int32), values=Tensor(\"gradient_tape/private__graph_conv_keras_model_7/graph_pool_14/Reshape_19:0\", shape=(3342, 64), dtype=float32), dense_shape=Tensor(\"gradient_tape/private__graph_conv_keras_model_7/graph_pool_14/Cast_6:0\", shape=(2,), dtype=int32))) to a dense Tensor of unknown shape. This may consume a large amount of memory.\n",
            "  \"shape. This may consume a large amount of memory.\" % value)\n",
            "/usr/local/lib/python3.7/dist-packages/tensorflow/python/framework/indexed_slices.py:446: UserWarning: Converting sparse IndexedSlices(IndexedSlices(indices=Tensor(\"gradient_tape/private__graph_conv_keras_model_7/graph_pool_14/Reshape_23:0\", shape=(260,), dtype=int32), values=Tensor(\"gradient_tape/private__graph_conv_keras_model_7/graph_pool_14/Reshape_22:0\", shape=(260, 64), dtype=float32), dense_shape=Tensor(\"gradient_tape/private__graph_conv_keras_model_7/graph_pool_14/Cast_7:0\", shape=(2,), dtype=int32))) to a dense Tensor of unknown shape. This may consume a large amount of memory.\n",
            "  \"shape. This may consume a large amount of memory.\" % value)\n",
            "/usr/local/lib/python3.7/dist-packages/tensorflow/python/framework/indexed_slices.py:446: UserWarning: Converting sparse IndexedSlices(IndexedSlices(indices=Tensor(\"gradient_tape/private__graph_conv_keras_model_7/graph_pool_15/Reshape_14:0\", shape=(692,), dtype=int32), values=Tensor(\"gradient_tape/private__graph_conv_keras_model_7/graph_pool_15/Reshape_13:0\", shape=(692, 64), dtype=float32), dense_shape=Tensor(\"gradient_tape/private__graph_conv_keras_model_7/graph_pool_15/Cast_4:0\", shape=(2,), dtype=int32))) to a dense Tensor of unknown shape. This may consume a large amount of memory.\n",
            "  \"shape. This may consume a large amount of memory.\" % value)\n",
            "/usr/local/lib/python3.7/dist-packages/tensorflow/python/framework/indexed_slices.py:446: UserWarning: Converting sparse IndexedSlices(IndexedSlices(indices=Tensor(\"gradient_tape/private__graph_conv_keras_model_7/graph_pool_15/Reshape_17:0\", shape=(3346,), dtype=int32), values=Tensor(\"gradient_tape/private__graph_conv_keras_model_7/graph_pool_15/Reshape_16:0\", shape=(3346, 64), dtype=float32), dense_shape=Tensor(\"gradient_tape/private__graph_conv_keras_model_7/graph_pool_15/Cast_5:0\", shape=(2,), dtype=int32))) to a dense Tensor of unknown shape. This may consume a large amount of memory.\n",
            "  \"shape. This may consume a large amount of memory.\" % value)\n",
            "/usr/local/lib/python3.7/dist-packages/tensorflow/python/framework/indexed_slices.py:446: UserWarning: Converting sparse IndexedSlices(IndexedSlices(indices=Tensor(\"gradient_tape/private__graph_conv_keras_model_7/graph_pool_15/Reshape_20:0\", shape=(3498,), dtype=int32), values=Tensor(\"gradient_tape/private__graph_conv_keras_model_7/graph_pool_15/Reshape_19:0\", shape=(3498, 64), dtype=float32), dense_shape=Tensor(\"gradient_tape/private__graph_conv_keras_model_7/graph_pool_15/Cast_6:0\", shape=(2,), dtype=int32))) to a dense Tensor of unknown shape. This may consume a large amount of memory.\n",
            "  \"shape. This may consume a large amount of memory.\" % value)\n",
            "/usr/local/lib/python3.7/dist-packages/tensorflow/python/framework/indexed_slices.py:446: UserWarning: Converting sparse IndexedSlices(IndexedSlices(indices=Tensor(\"gradient_tape/private__graph_conv_keras_model_7/graph_pool_15/Reshape_23:0\", shape=(280,), dtype=int32), values=Tensor(\"gradient_tape/private__graph_conv_keras_model_7/graph_pool_15/Reshape_22:0\", shape=(280, 64), dtype=float32), dense_shape=Tensor(\"gradient_tape/private__graph_conv_keras_model_7/graph_pool_15/Cast_7:0\", shape=(2,), dtype=int32))) to a dense Tensor of unknown shape. This may consume a large amount of memory.\n",
            "  \"shape. This may consume a large amount of memory.\" % value)\n",
            "/usr/local/lib/python3.7/dist-packages/tensorflow/python/framework/indexed_slices.py:446: UserWarning: Converting sparse IndexedSlices(IndexedSlices(indices=Tensor(\"gradient_tape/private__graph_conv_keras_model_7/graph_conv_15/Reshape_11:0\", shape=(692,), dtype=int32), values=Tensor(\"gradient_tape/private__graph_conv_keras_model_7/graph_conv_15/Reshape_10:0\", shape=(692, 64), dtype=float32), dense_shape=Tensor(\"gradient_tape/private__graph_conv_keras_model_7/graph_conv_15/Cast:0\", shape=(2,), dtype=int32))) to a dense Tensor of unknown shape. This may consume a large amount of memory.\n",
            "  \"shape. This may consume a large amount of memory.\" % value)\n",
            "/usr/local/lib/python3.7/dist-packages/tensorflow/python/framework/indexed_slices.py:446: UserWarning: Converting sparse IndexedSlices(IndexedSlices(indices=Tensor(\"gradient_tape/private__graph_conv_keras_model_7/graph_conv_15/Reshape_13:0\", shape=(3346,), dtype=int32), values=Tensor(\"gradient_tape/private__graph_conv_keras_model_7/graph_conv_15/Reshape_12:0\", shape=(3346, 64), dtype=float32), dense_shape=Tensor(\"gradient_tape/private__graph_conv_keras_model_7/graph_conv_15/Cast_1:0\", shape=(2,), dtype=int32))) to a dense Tensor of unknown shape. This may consume a large amount of memory.\n",
            "  \"shape. This may consume a large amount of memory.\" % value)\n",
            "/usr/local/lib/python3.7/dist-packages/tensorflow/python/framework/indexed_slices.py:446: UserWarning: Converting sparse IndexedSlices(IndexedSlices(indices=Tensor(\"gradient_tape/private__graph_conv_keras_model_7/graph_conv_15/Reshape_15:0\", shape=(3498,), dtype=int32), values=Tensor(\"gradient_tape/private__graph_conv_keras_model_7/graph_conv_15/Reshape_14:0\", shape=(3498, 64), dtype=float32), dense_shape=Tensor(\"gradient_tape/private__graph_conv_keras_model_7/graph_conv_15/Cast_2:0\", shape=(2,), dtype=int32))) to a dense Tensor of unknown shape. This may consume a large amount of memory.\n",
            "  \"shape. This may consume a large amount of memory.\" % value)\n",
            "/usr/local/lib/python3.7/dist-packages/tensorflow/python/framework/indexed_slices.py:446: UserWarning: Converting sparse IndexedSlices(IndexedSlices(indices=Tensor(\"gradient_tape/private__graph_conv_keras_model_7/graph_conv_15/Reshape_17:0\", shape=(280,), dtype=int32), values=Tensor(\"gradient_tape/private__graph_conv_keras_model_7/graph_conv_15/Reshape_16:0\", shape=(280, 64), dtype=float32), dense_shape=Tensor(\"gradient_tape/private__graph_conv_keras_model_7/graph_conv_15/Cast_3:0\", shape=(2,), dtype=int32))) to a dense Tensor of unknown shape. This may consume a large amount of memory.\n",
            "  \"shape. This may consume a large amount of memory.\" % value)\n",
            "/usr/local/lib/python3.7/dist-packages/tensorflow/python/framework/indexed_slices.py:446: UserWarning: Converting sparse IndexedSlices(IndexedSlices(indices=Tensor(\"gradient_tape/private__graph_conv_keras_model_7/graph_pool_14/Reshape_14:0\", shape=(692,), dtype=int32), values=Tensor(\"gradient_tape/private__graph_conv_keras_model_7/graph_pool_14/Reshape_13:0\", shape=(692, 64), dtype=float32), dense_shape=Tensor(\"gradient_tape/private__graph_conv_keras_model_7/graph_pool_14/Cast_4:0\", shape=(2,), dtype=int32))) to a dense Tensor of unknown shape. This may consume a large amount of memory.\n",
            "  \"shape. This may consume a large amount of memory.\" % value)\n",
            "/usr/local/lib/python3.7/dist-packages/tensorflow/python/framework/indexed_slices.py:446: UserWarning: Converting sparse IndexedSlices(IndexedSlices(indices=Tensor(\"gradient_tape/private__graph_conv_keras_model_7/graph_pool_14/Reshape_17:0\", shape=(3346,), dtype=int32), values=Tensor(\"gradient_tape/private__graph_conv_keras_model_7/graph_pool_14/Reshape_16:0\", shape=(3346, 64), dtype=float32), dense_shape=Tensor(\"gradient_tape/private__graph_conv_keras_model_7/graph_pool_14/Cast_5:0\", shape=(2,), dtype=int32))) to a dense Tensor of unknown shape. This may consume a large amount of memory.\n",
            "  \"shape. This may consume a large amount of memory.\" % value)\n",
            "/usr/local/lib/python3.7/dist-packages/tensorflow/python/framework/indexed_slices.py:446: UserWarning: Converting sparse IndexedSlices(IndexedSlices(indices=Tensor(\"gradient_tape/private__graph_conv_keras_model_7/graph_pool_14/Reshape_20:0\", shape=(3498,), dtype=int32), values=Tensor(\"gradient_tape/private__graph_conv_keras_model_7/graph_pool_14/Reshape_19:0\", shape=(3498, 64), dtype=float32), dense_shape=Tensor(\"gradient_tape/private__graph_conv_keras_model_7/graph_pool_14/Cast_6:0\", shape=(2,), dtype=int32))) to a dense Tensor of unknown shape. This may consume a large amount of memory.\n",
            "  \"shape. This may consume a large amount of memory.\" % value)\n",
            "/usr/local/lib/python3.7/dist-packages/tensorflow/python/framework/indexed_slices.py:446: UserWarning: Converting sparse IndexedSlices(IndexedSlices(indices=Tensor(\"gradient_tape/private__graph_conv_keras_model_7/graph_pool_14/Reshape_23:0\", shape=(280,), dtype=int32), values=Tensor(\"gradient_tape/private__graph_conv_keras_model_7/graph_pool_14/Reshape_22:0\", shape=(280, 64), dtype=float32), dense_shape=Tensor(\"gradient_tape/private__graph_conv_keras_model_7/graph_pool_14/Cast_7:0\", shape=(2,), dtype=int32))) to a dense Tensor of unknown shape. This may consume a large amount of memory.\n",
            "  \"shape. This may consume a large amount of memory.\" % value)\n",
            "/usr/local/lib/python3.7/dist-packages/tensorflow/python/framework/indexed_slices.py:446: UserWarning: Converting sparse IndexedSlices(IndexedSlices(indices=Tensor(\"gradient_tape/private__graph_conv_keras_model_7/graph_pool_15/Reshape_14:0\", shape=(None,), dtype=int32), values=Tensor(\"gradient_tape/private__graph_conv_keras_model_7/graph_pool_15/Reshape_13:0\", shape=(None, 64), dtype=float32), dense_shape=Tensor(\"gradient_tape/private__graph_conv_keras_model_7/graph_pool_15/Cast_4:0\", shape=(2,), dtype=int32))) to a dense Tensor of unknown shape. This may consume a large amount of memory.\n",
            "  \"shape. This may consume a large amount of memory.\" % value)\n",
            "/usr/local/lib/python3.7/dist-packages/tensorflow/python/framework/indexed_slices.py:446: UserWarning: Converting sparse IndexedSlices(IndexedSlices(indices=Tensor(\"gradient_tape/private__graph_conv_keras_model_7/graph_pool_15/Reshape_17:0\", shape=(None,), dtype=int32), values=Tensor(\"gradient_tape/private__graph_conv_keras_model_7/graph_pool_15/Reshape_16:0\", shape=(None, 64), dtype=float32), dense_shape=Tensor(\"gradient_tape/private__graph_conv_keras_model_7/graph_pool_15/Cast_5:0\", shape=(2,), dtype=int32))) to a dense Tensor of unknown shape. This may consume a large amount of memory.\n",
            "  \"shape. This may consume a large amount of memory.\" % value)\n",
            "/usr/local/lib/python3.7/dist-packages/tensorflow/python/framework/indexed_slices.py:446: UserWarning: Converting sparse IndexedSlices(IndexedSlices(indices=Tensor(\"gradient_tape/private__graph_conv_keras_model_7/graph_pool_15/Reshape_20:0\", shape=(None,), dtype=int32), values=Tensor(\"gradient_tape/private__graph_conv_keras_model_7/graph_pool_15/Reshape_19:0\", shape=(None, 64), dtype=float32), dense_shape=Tensor(\"gradient_tape/private__graph_conv_keras_model_7/graph_pool_15/Cast_6:0\", shape=(2,), dtype=int32))) to a dense Tensor of unknown shape. This may consume a large amount of memory.\n",
            "  \"shape. This may consume a large amount of memory.\" % value)\n",
            "/usr/local/lib/python3.7/dist-packages/tensorflow/python/framework/indexed_slices.py:446: UserWarning: Converting sparse IndexedSlices(IndexedSlices(indices=Tensor(\"gradient_tape/private__graph_conv_keras_model_7/graph_conv_15/Reshape_11:0\", shape=(None,), dtype=int32), values=Tensor(\"gradient_tape/private__graph_conv_keras_model_7/graph_conv_15/Reshape_10:0\", shape=(None, 64), dtype=float32), dense_shape=Tensor(\"gradient_tape/private__graph_conv_keras_model_7/graph_conv_15/Cast:0\", shape=(2,), dtype=int32))) to a dense Tensor of unknown shape. This may consume a large amount of memory.\n",
            "  \"shape. This may consume a large amount of memory.\" % value)\n",
            "/usr/local/lib/python3.7/dist-packages/tensorflow/python/framework/indexed_slices.py:446: UserWarning: Converting sparse IndexedSlices(IndexedSlices(indices=Tensor(\"gradient_tape/private__graph_conv_keras_model_7/graph_conv_15/Reshape_13:0\", shape=(None,), dtype=int32), values=Tensor(\"gradient_tape/private__graph_conv_keras_model_7/graph_conv_15/Reshape_12:0\", shape=(None, 64), dtype=float32), dense_shape=Tensor(\"gradient_tape/private__graph_conv_keras_model_7/graph_conv_15/Cast_1:0\", shape=(2,), dtype=int32))) to a dense Tensor of unknown shape. This may consume a large amount of memory.\n",
            "  \"shape. This may consume a large amount of memory.\" % value)\n",
            "/usr/local/lib/python3.7/dist-packages/tensorflow/python/framework/indexed_slices.py:446: UserWarning: Converting sparse IndexedSlices(IndexedSlices(indices=Tensor(\"gradient_tape/private__graph_conv_keras_model_7/graph_conv_15/Reshape_15:0\", shape=(None,), dtype=int32), values=Tensor(\"gradient_tape/private__graph_conv_keras_model_7/graph_conv_15/Reshape_14:0\", shape=(None, 64), dtype=float32), dense_shape=Tensor(\"gradient_tape/private__graph_conv_keras_model_7/graph_conv_15/Cast_2:0\", shape=(2,), dtype=int32))) to a dense Tensor of unknown shape. This may consume a large amount of memory.\n",
            "  \"shape. This may consume a large amount of memory.\" % value)\n",
            "/usr/local/lib/python3.7/dist-packages/tensorflow/python/framework/indexed_slices.py:446: UserWarning: Converting sparse IndexedSlices(IndexedSlices(indices=Tensor(\"gradient_tape/private__graph_conv_keras_model_7/graph_pool_14/Reshape_14:0\", shape=(None,), dtype=int32), values=Tensor(\"gradient_tape/private__graph_conv_keras_model_7/graph_pool_14/Reshape_13:0\", shape=(None, 64), dtype=float32), dense_shape=Tensor(\"gradient_tape/private__graph_conv_keras_model_7/graph_pool_14/Cast_4:0\", shape=(2,), dtype=int32))) to a dense Tensor of unknown shape. This may consume a large amount of memory.\n",
            "  \"shape. This may consume a large amount of memory.\" % value)\n",
            "/usr/local/lib/python3.7/dist-packages/tensorflow/python/framework/indexed_slices.py:446: UserWarning: Converting sparse IndexedSlices(IndexedSlices(indices=Tensor(\"gradient_tape/private__graph_conv_keras_model_7/graph_pool_14/Reshape_17:0\", shape=(None,), dtype=int32), values=Tensor(\"gradient_tape/private__graph_conv_keras_model_7/graph_pool_14/Reshape_16:0\", shape=(None, 64), dtype=float32), dense_shape=Tensor(\"gradient_tape/private__graph_conv_keras_model_7/graph_pool_14/Cast_5:0\", shape=(2,), dtype=int32))) to a dense Tensor of unknown shape. This may consume a large amount of memory.\n",
            "  \"shape. This may consume a large amount of memory.\" % value)\n",
            "/usr/local/lib/python3.7/dist-packages/tensorflow/python/framework/indexed_slices.py:446: UserWarning: Converting sparse IndexedSlices(IndexedSlices(indices=Tensor(\"gradient_tape/private__graph_conv_keras_model_7/graph_pool_14/Reshape_20:0\", shape=(None,), dtype=int32), values=Tensor(\"gradient_tape/private__graph_conv_keras_model_7/graph_pool_14/Reshape_19:0\", shape=(None, 64), dtype=float32), dense_shape=Tensor(\"gradient_tape/private__graph_conv_keras_model_7/graph_pool_14/Cast_6:0\", shape=(2,), dtype=int32))) to a dense Tensor of unknown shape. This may consume a large amount of memory.\n",
            "  \"shape. This may consume a large amount of memory.\" % value)\n",
            "/usr/local/lib/python3.7/dist-packages/tensorflow/python/framework/indexed_slices.py:446: UserWarning: Converting sparse IndexedSlices(IndexedSlices(indices=Tensor(\"gradient_tape/private__graph_conv_keras_model_7/graph_pool_15/Reshape_23:0\", shape=(None,), dtype=int32), values=Tensor(\"gradient_tape/private__graph_conv_keras_model_7/graph_pool_15/Reshape_22:0\", shape=(None, 64), dtype=float32), dense_shape=Tensor(\"gradient_tape/private__graph_conv_keras_model_7/graph_pool_15/Cast_7:0\", shape=(2,), dtype=int32))) to a dense Tensor of unknown shape. This may consume a large amount of memory.\n",
            "  \"shape. This may consume a large amount of memory.\" % value)\n",
            "/usr/local/lib/python3.7/dist-packages/tensorflow/python/framework/indexed_slices.py:446: UserWarning: Converting sparse IndexedSlices(IndexedSlices(indices=Tensor(\"gradient_tape/private__graph_conv_keras_model_7/graph_conv_15/Reshape_17:0\", shape=(None,), dtype=int32), values=Tensor(\"gradient_tape/private__graph_conv_keras_model_7/graph_conv_15/Reshape_16:0\", shape=(None, 64), dtype=float32), dense_shape=Tensor(\"gradient_tape/private__graph_conv_keras_model_7/graph_conv_15/Cast_3:0\", shape=(2,), dtype=int32))) to a dense Tensor of unknown shape. This may consume a large amount of memory.\n",
            "  \"shape. This may consume a large amount of memory.\" % value)\n",
            "/usr/local/lib/python3.7/dist-packages/tensorflow/python/framework/indexed_slices.py:446: UserWarning: Converting sparse IndexedSlices(IndexedSlices(indices=Tensor(\"gradient_tape/private__graph_conv_keras_model_7/graph_pool_14/Reshape_23:0\", shape=(None,), dtype=int32), values=Tensor(\"gradient_tape/private__graph_conv_keras_model_7/graph_pool_14/Reshape_22:0\", shape=(None, 64), dtype=float32), dense_shape=Tensor(\"gradient_tape/private__graph_conv_keras_model_7/graph_pool_14/Cast_7:0\", shape=(2,), dtype=int32))) to a dense Tensor of unknown shape. This may consume a large amount of memory.\n",
            "  \"shape. This may consume a large amount of memory.\" % value)\n",
            "WARNING:tensorflow:5 out of the last 292 calls to <function KerasModel._create_gradient_fn.<locals>.apply_gradient_for_batch at 0x7fbed201e0e0> triggered tf.function retracing. Tracing is expensive and the excessive number of tracings could be due to (1) creating @tf.function repeatedly in a loop, (2) passing tensors with different shapes, (3) passing Python objects instead of tensors. For (1), please define your @tf.function outside of the loop. For (2), @tf.function has experimental_relax_shapes=True option that relaxes argument shapes that can avoid unnecessary retracing. For (3), please refer to https://www.tensorflow.org/guide/function#controlling_retracing and https://www.tensorflow.org/api_docs/python/tf/function for  more details.\n",
            "/usr/local/lib/python3.7/dist-packages/tensorflow/python/framework/indexed_slices.py:446: UserWarning: Converting sparse IndexedSlices(IndexedSlices(indices=Tensor(\"gradient_tape/private__graph_conv_keras_model_8/graph_pool_17/Reshape_14:0\", shape=(748,), dtype=int32), values=Tensor(\"gradient_tape/private__graph_conv_keras_model_8/graph_pool_17/Reshape_13:0\", shape=(748, 64), dtype=float32), dense_shape=Tensor(\"gradient_tape/private__graph_conv_keras_model_8/graph_pool_17/Cast_4:0\", shape=(2,), dtype=int32))) to a dense Tensor of unknown shape. This may consume a large amount of memory.\n",
            "  \"shape. This may consume a large amount of memory.\" % value)\n",
            "/usr/local/lib/python3.7/dist-packages/tensorflow/python/framework/indexed_slices.py:446: UserWarning: Converting sparse IndexedSlices(IndexedSlices(indices=Tensor(\"gradient_tape/private__graph_conv_keras_model_8/graph_pool_17/Reshape_17:0\", shape=(3138,), dtype=int32), values=Tensor(\"gradient_tape/private__graph_conv_keras_model_8/graph_pool_17/Reshape_16:0\", shape=(3138, 64), dtype=float32), dense_shape=Tensor(\"gradient_tape/private__graph_conv_keras_model_8/graph_pool_17/Cast_5:0\", shape=(2,), dtype=int32))) to a dense Tensor of unknown shape. This may consume a large amount of memory.\n",
            "  \"shape. This may consume a large amount of memory.\" % value)\n",
            "/usr/local/lib/python3.7/dist-packages/tensorflow/python/framework/indexed_slices.py:446: UserWarning: Converting sparse IndexedSlices(IndexedSlices(indices=Tensor(\"gradient_tape/private__graph_conv_keras_model_8/graph_pool_17/Reshape_20:0\", shape=(3306,), dtype=int32), values=Tensor(\"gradient_tape/private__graph_conv_keras_model_8/graph_pool_17/Reshape_19:0\", shape=(3306, 64), dtype=float32), dense_shape=Tensor(\"gradient_tape/private__graph_conv_keras_model_8/graph_pool_17/Cast_6:0\", shape=(2,), dtype=int32))) to a dense Tensor of unknown shape. This may consume a large amount of memory.\n",
            "  \"shape. This may consume a large amount of memory.\" % value)\n",
            "/usr/local/lib/python3.7/dist-packages/tensorflow/python/framework/indexed_slices.py:446: UserWarning: Converting sparse IndexedSlices(IndexedSlices(indices=Tensor(\"gradient_tape/private__graph_conv_keras_model_8/graph_pool_17/Reshape_23:0\", shape=(356,), dtype=int32), values=Tensor(\"gradient_tape/private__graph_conv_keras_model_8/graph_pool_17/Reshape_22:0\", shape=(356, 64), dtype=float32), dense_shape=Tensor(\"gradient_tape/private__graph_conv_keras_model_8/graph_pool_17/Cast_7:0\", shape=(2,), dtype=int32))) to a dense Tensor of unknown shape. This may consume a large amount of memory.\n",
            "  \"shape. This may consume a large amount of memory.\" % value)\n",
            "/usr/local/lib/python3.7/dist-packages/tensorflow/python/framework/indexed_slices.py:446: UserWarning: Converting sparse IndexedSlices(IndexedSlices(indices=Tensor(\"gradient_tape/private__graph_conv_keras_model_8/graph_conv_17/Reshape_11:0\", shape=(748,), dtype=int32), values=Tensor(\"gradient_tape/private__graph_conv_keras_model_8/graph_conv_17/Reshape_10:0\", shape=(748, 64), dtype=float32), dense_shape=Tensor(\"gradient_tape/private__graph_conv_keras_model_8/graph_conv_17/Cast:0\", shape=(2,), dtype=int32))) to a dense Tensor of unknown shape. This may consume a large amount of memory.\n",
            "  \"shape. This may consume a large amount of memory.\" % value)\n",
            "/usr/local/lib/python3.7/dist-packages/tensorflow/python/framework/indexed_slices.py:446: UserWarning: Converting sparse IndexedSlices(IndexedSlices(indices=Tensor(\"gradient_tape/private__graph_conv_keras_model_8/graph_conv_17/Reshape_13:0\", shape=(3138,), dtype=int32), values=Tensor(\"gradient_tape/private__graph_conv_keras_model_8/graph_conv_17/Reshape_12:0\", shape=(3138, 64), dtype=float32), dense_shape=Tensor(\"gradient_tape/private__graph_conv_keras_model_8/graph_conv_17/Cast_1:0\", shape=(2,), dtype=int32))) to a dense Tensor of unknown shape. This may consume a large amount of memory.\n",
            "  \"shape. This may consume a large amount of memory.\" % value)\n",
            "/usr/local/lib/python3.7/dist-packages/tensorflow/python/framework/indexed_slices.py:446: UserWarning: Converting sparse IndexedSlices(IndexedSlices(indices=Tensor(\"gradient_tape/private__graph_conv_keras_model_8/graph_conv_17/Reshape_15:0\", shape=(3306,), dtype=int32), values=Tensor(\"gradient_tape/private__graph_conv_keras_model_8/graph_conv_17/Reshape_14:0\", shape=(3306, 64), dtype=float32), dense_shape=Tensor(\"gradient_tape/private__graph_conv_keras_model_8/graph_conv_17/Cast_2:0\", shape=(2,), dtype=int32))) to a dense Tensor of unknown shape. This may consume a large amount of memory.\n",
            "  \"shape. This may consume a large amount of memory.\" % value)\n",
            "/usr/local/lib/python3.7/dist-packages/tensorflow/python/framework/indexed_slices.py:446: UserWarning: Converting sparse IndexedSlices(IndexedSlices(indices=Tensor(\"gradient_tape/private__graph_conv_keras_model_8/graph_conv_17/Reshape_17:0\", shape=(356,), dtype=int32), values=Tensor(\"gradient_tape/private__graph_conv_keras_model_8/graph_conv_17/Reshape_16:0\", shape=(356, 64), dtype=float32), dense_shape=Tensor(\"gradient_tape/private__graph_conv_keras_model_8/graph_conv_17/Cast_3:0\", shape=(2,), dtype=int32))) to a dense Tensor of unknown shape. This may consume a large amount of memory.\n",
            "  \"shape. This may consume a large amount of memory.\" % value)\n",
            "/usr/local/lib/python3.7/dist-packages/tensorflow/python/framework/indexed_slices.py:446: UserWarning: Converting sparse IndexedSlices(IndexedSlices(indices=Tensor(\"gradient_tape/private__graph_conv_keras_model_8/graph_conv_17/Reshape_19:0\", shape=(0,), dtype=int32), values=Tensor(\"gradient_tape/private__graph_conv_keras_model_8/graph_conv_17/Reshape_18:0\", shape=(0, 64), dtype=float32), dense_shape=Tensor(\"gradient_tape/private__graph_conv_keras_model_8/graph_conv_17/Cast_4:0\", shape=(2,), dtype=int32))) to a dense Tensor of unknown shape. This may consume a large amount of memory.\n",
            "  \"shape. This may consume a large amount of memory.\" % value)\n",
            "/usr/local/lib/python3.7/dist-packages/tensorflow/python/framework/indexed_slices.py:446: UserWarning: Converting sparse IndexedSlices(IndexedSlices(indices=Tensor(\"gradient_tape/private__graph_conv_keras_model_8/graph_conv_17/Reshape_21:0\", shape=(0,), dtype=int32), values=Tensor(\"gradient_tape/private__graph_conv_keras_model_8/graph_conv_17/Reshape_20:0\", shape=(0, 64), dtype=float32), dense_shape=Tensor(\"gradient_tape/private__graph_conv_keras_model_8/graph_conv_17/Cast_5:0\", shape=(2,), dtype=int32))) to a dense Tensor of unknown shape. This may consume a large amount of memory.\n",
            "  \"shape. This may consume a large amount of memory.\" % value)\n",
            "/usr/local/lib/python3.7/dist-packages/tensorflow/python/framework/indexed_slices.py:446: UserWarning: Converting sparse IndexedSlices(IndexedSlices(indices=Tensor(\"gradient_tape/private__graph_conv_keras_model_8/graph_conv_17/Reshape_23:0\", shape=(0,), dtype=int32), values=Tensor(\"gradient_tape/private__graph_conv_keras_model_8/graph_conv_17/Reshape_22:0\", shape=(0, 64), dtype=float32), dense_shape=Tensor(\"gradient_tape/private__graph_conv_keras_model_8/graph_conv_17/Cast_6:0\", shape=(2,), dtype=int32))) to a dense Tensor of unknown shape. This may consume a large amount of memory.\n",
            "  \"shape. This may consume a large amount of memory.\" % value)\n",
            "/usr/local/lib/python3.7/dist-packages/tensorflow/python/framework/indexed_slices.py:446: UserWarning: Converting sparse IndexedSlices(IndexedSlices(indices=Tensor(\"gradient_tape/private__graph_conv_keras_model_8/graph_conv_17/Reshape_25:0\", shape=(0,), dtype=int32), values=Tensor(\"gradient_tape/private__graph_conv_keras_model_8/graph_conv_17/Reshape_24:0\", shape=(0, 64), dtype=float32), dense_shape=Tensor(\"gradient_tape/private__graph_conv_keras_model_8/graph_conv_17/Cast_7:0\", shape=(2,), dtype=int32))) to a dense Tensor of unknown shape. This may consume a large amount of memory.\n",
            "  \"shape. This may consume a large amount of memory.\" % value)\n",
            "/usr/local/lib/python3.7/dist-packages/tensorflow/python/framework/indexed_slices.py:446: UserWarning: Converting sparse IndexedSlices(IndexedSlices(indices=Tensor(\"gradient_tape/private__graph_conv_keras_model_8/graph_conv_17/Reshape_27:0\", shape=(0,), dtype=int32), values=Tensor(\"gradient_tape/private__graph_conv_keras_model_8/graph_conv_17/Reshape_26:0\", shape=(0, 64), dtype=float32), dense_shape=Tensor(\"gradient_tape/private__graph_conv_keras_model_8/graph_conv_17/Cast_8:0\", shape=(2,), dtype=int32))) to a dense Tensor of unknown shape. This may consume a large amount of memory.\n",
            "  \"shape. This may consume a large amount of memory.\" % value)\n",
            "/usr/local/lib/python3.7/dist-packages/tensorflow/python/framework/indexed_slices.py:446: UserWarning: Converting sparse IndexedSlices(IndexedSlices(indices=Tensor(\"gradient_tape/private__graph_conv_keras_model_8/graph_conv_17/Reshape_29:0\", shape=(0,), dtype=int32), values=Tensor(\"gradient_tape/private__graph_conv_keras_model_8/graph_conv_17/Reshape_28:0\", shape=(0, 64), dtype=float32), dense_shape=Tensor(\"gradient_tape/private__graph_conv_keras_model_8/graph_conv_17/Cast_9:0\", shape=(2,), dtype=int32))) to a dense Tensor of unknown shape. This may consume a large amount of memory.\n",
            "  \"shape. This may consume a large amount of memory.\" % value)\n",
            "/usr/local/lib/python3.7/dist-packages/tensorflow/python/framework/indexed_slices.py:446: UserWarning: Converting sparse IndexedSlices(IndexedSlices(indices=Tensor(\"gradient_tape/private__graph_conv_keras_model_8/graph_pool_16/Reshape_14:0\", shape=(748,), dtype=int32), values=Tensor(\"gradient_tape/private__graph_conv_keras_model_8/graph_pool_16/Reshape_13:0\", shape=(748, 64), dtype=float32), dense_shape=Tensor(\"gradient_tape/private__graph_conv_keras_model_8/graph_pool_16/Cast_4:0\", shape=(2,), dtype=int32))) to a dense Tensor of unknown shape. This may consume a large amount of memory.\n",
            "  \"shape. This may consume a large amount of memory.\" % value)\n",
            "/usr/local/lib/python3.7/dist-packages/tensorflow/python/framework/indexed_slices.py:446: UserWarning: Converting sparse IndexedSlices(IndexedSlices(indices=Tensor(\"gradient_tape/private__graph_conv_keras_model_8/graph_pool_16/Reshape_17:0\", shape=(3138,), dtype=int32), values=Tensor(\"gradient_tape/private__graph_conv_keras_model_8/graph_pool_16/Reshape_16:0\", shape=(3138, 64), dtype=float32), dense_shape=Tensor(\"gradient_tape/private__graph_conv_keras_model_8/graph_pool_16/Cast_5:0\", shape=(2,), dtype=int32))) to a dense Tensor of unknown shape. This may consume a large amount of memory.\n",
            "  \"shape. This may consume a large amount of memory.\" % value)\n",
            "/usr/local/lib/python3.7/dist-packages/tensorflow/python/framework/indexed_slices.py:446: UserWarning: Converting sparse IndexedSlices(IndexedSlices(indices=Tensor(\"gradient_tape/private__graph_conv_keras_model_8/graph_pool_16/Reshape_20:0\", shape=(3306,), dtype=int32), values=Tensor(\"gradient_tape/private__graph_conv_keras_model_8/graph_pool_16/Reshape_19:0\", shape=(3306, 64), dtype=float32), dense_shape=Tensor(\"gradient_tape/private__graph_conv_keras_model_8/graph_pool_16/Cast_6:0\", shape=(2,), dtype=int32))) to a dense Tensor of unknown shape. This may consume a large amount of memory.\n",
            "  \"shape. This may consume a large amount of memory.\" % value)\n",
            "/usr/local/lib/python3.7/dist-packages/tensorflow/python/framework/indexed_slices.py:446: UserWarning: Converting sparse IndexedSlices(IndexedSlices(indices=Tensor(\"gradient_tape/private__graph_conv_keras_model_8/graph_pool_16/Reshape_23:0\", shape=(356,), dtype=int32), values=Tensor(\"gradient_tape/private__graph_conv_keras_model_8/graph_pool_16/Reshape_22:0\", shape=(356, 64), dtype=float32), dense_shape=Tensor(\"gradient_tape/private__graph_conv_keras_model_8/graph_pool_16/Cast_7:0\", shape=(2,), dtype=int32))) to a dense Tensor of unknown shape. This may consume a large amount of memory.\n",
            "  \"shape. This may consume a large amount of memory.\" % value)\n",
            "/usr/local/lib/python3.7/dist-packages/tensorflow/python/framework/indexed_slices.py:446: UserWarning: Converting sparse IndexedSlices(IndexedSlices(indices=Tensor(\"gradient_tape/private__graph_conv_keras_model_8/graph_pool_17/Reshape_14:0\", shape=(686,), dtype=int32), values=Tensor(\"gradient_tape/private__graph_conv_keras_model_8/graph_pool_17/Reshape_13:0\", shape=(686, 64), dtype=float32), dense_shape=Tensor(\"gradient_tape/private__graph_conv_keras_model_8/graph_pool_17/Cast_4:0\", shape=(2,), dtype=int32))) to a dense Tensor of unknown shape. This may consume a large amount of memory.\n",
            "  \"shape. This may consume a large amount of memory.\" % value)\n",
            "/usr/local/lib/python3.7/dist-packages/tensorflow/python/framework/indexed_slices.py:446: UserWarning: Converting sparse IndexedSlices(IndexedSlices(indices=Tensor(\"gradient_tape/private__graph_conv_keras_model_8/graph_pool_17/Reshape_17:0\", shape=(3220,), dtype=int32), values=Tensor(\"gradient_tape/private__graph_conv_keras_model_8/graph_pool_17/Reshape_16:0\", shape=(3220, 64), dtype=float32), dense_shape=Tensor(\"gradient_tape/private__graph_conv_keras_model_8/graph_pool_17/Cast_5:0\", shape=(2,), dtype=int32))) to a dense Tensor of unknown shape. This may consume a large amount of memory.\n",
            "  \"shape. This may consume a large amount of memory.\" % value)\n",
            "/usr/local/lib/python3.7/dist-packages/tensorflow/python/framework/indexed_slices.py:446: UserWarning: Converting sparse IndexedSlices(IndexedSlices(indices=Tensor(\"gradient_tape/private__graph_conv_keras_model_8/graph_pool_17/Reshape_20:0\", shape=(3240,), dtype=int32), values=Tensor(\"gradient_tape/private__graph_conv_keras_model_8/graph_pool_17/Reshape_19:0\", shape=(3240, 64), dtype=float32), dense_shape=Tensor(\"gradient_tape/private__graph_conv_keras_model_8/graph_pool_17/Cast_6:0\", shape=(2,), dtype=int32))) to a dense Tensor of unknown shape. This may consume a large amount of memory.\n",
            "  \"shape. This may consume a large amount of memory.\" % value)\n",
            "/usr/local/lib/python3.7/dist-packages/tensorflow/python/framework/indexed_slices.py:446: UserWarning: Converting sparse IndexedSlices(IndexedSlices(indices=Tensor(\"gradient_tape/private__graph_conv_keras_model_8/graph_pool_17/Reshape_23:0\", shape=(280,), dtype=int32), values=Tensor(\"gradient_tape/private__graph_conv_keras_model_8/graph_pool_17/Reshape_22:0\", shape=(280, 64), dtype=float32), dense_shape=Tensor(\"gradient_tape/private__graph_conv_keras_model_8/graph_pool_17/Cast_7:0\", shape=(2,), dtype=int32))) to a dense Tensor of unknown shape. This may consume a large amount of memory.\n",
            "  \"shape. This may consume a large amount of memory.\" % value)\n",
            "/usr/local/lib/python3.7/dist-packages/tensorflow/python/framework/indexed_slices.py:446: UserWarning: Converting sparse IndexedSlices(IndexedSlices(indices=Tensor(\"gradient_tape/private__graph_conv_keras_model_8/graph_conv_17/Reshape_11:0\", shape=(686,), dtype=int32), values=Tensor(\"gradient_tape/private__graph_conv_keras_model_8/graph_conv_17/Reshape_10:0\", shape=(686, 64), dtype=float32), dense_shape=Tensor(\"gradient_tape/private__graph_conv_keras_model_8/graph_conv_17/Cast:0\", shape=(2,), dtype=int32))) to a dense Tensor of unknown shape. This may consume a large amount of memory.\n",
            "  \"shape. This may consume a large amount of memory.\" % value)\n",
            "/usr/local/lib/python3.7/dist-packages/tensorflow/python/framework/indexed_slices.py:446: UserWarning: Converting sparse IndexedSlices(IndexedSlices(indices=Tensor(\"gradient_tape/private__graph_conv_keras_model_8/graph_conv_17/Reshape_13:0\", shape=(3220,), dtype=int32), values=Tensor(\"gradient_tape/private__graph_conv_keras_model_8/graph_conv_17/Reshape_12:0\", shape=(3220, 64), dtype=float32), dense_shape=Tensor(\"gradient_tape/private__graph_conv_keras_model_8/graph_conv_17/Cast_1:0\", shape=(2,), dtype=int32))) to a dense Tensor of unknown shape. This may consume a large amount of memory.\n",
            "  \"shape. This may consume a large amount of memory.\" % value)\n",
            "/usr/local/lib/python3.7/dist-packages/tensorflow/python/framework/indexed_slices.py:446: UserWarning: Converting sparse IndexedSlices(IndexedSlices(indices=Tensor(\"gradient_tape/private__graph_conv_keras_model_8/graph_conv_17/Reshape_15:0\", shape=(3240,), dtype=int32), values=Tensor(\"gradient_tape/private__graph_conv_keras_model_8/graph_conv_17/Reshape_14:0\", shape=(3240, 64), dtype=float32), dense_shape=Tensor(\"gradient_tape/private__graph_conv_keras_model_8/graph_conv_17/Cast_2:0\", shape=(2,), dtype=int32))) to a dense Tensor of unknown shape. This may consume a large amount of memory.\n",
            "  \"shape. This may consume a large amount of memory.\" % value)\n",
            "/usr/local/lib/python3.7/dist-packages/tensorflow/python/framework/indexed_slices.py:446: UserWarning: Converting sparse IndexedSlices(IndexedSlices(indices=Tensor(\"gradient_tape/private__graph_conv_keras_model_8/graph_conv_17/Reshape_17:0\", shape=(280,), dtype=int32), values=Tensor(\"gradient_tape/private__graph_conv_keras_model_8/graph_conv_17/Reshape_16:0\", shape=(280, 64), dtype=float32), dense_shape=Tensor(\"gradient_tape/private__graph_conv_keras_model_8/graph_conv_17/Cast_3:0\", shape=(2,), dtype=int32))) to a dense Tensor of unknown shape. This may consume a large amount of memory.\n",
            "  \"shape. This may consume a large amount of memory.\" % value)\n",
            "/usr/local/lib/python3.7/dist-packages/tensorflow/python/framework/indexed_slices.py:446: UserWarning: Converting sparse IndexedSlices(IndexedSlices(indices=Tensor(\"gradient_tape/private__graph_conv_keras_model_8/graph_pool_16/Reshape_14:0\", shape=(686,), dtype=int32), values=Tensor(\"gradient_tape/private__graph_conv_keras_model_8/graph_pool_16/Reshape_13:0\", shape=(686, 64), dtype=float32), dense_shape=Tensor(\"gradient_tape/private__graph_conv_keras_model_8/graph_pool_16/Cast_4:0\", shape=(2,), dtype=int32))) to a dense Tensor of unknown shape. This may consume a large amount of memory.\n",
            "  \"shape. This may consume a large amount of memory.\" % value)\n",
            "/usr/local/lib/python3.7/dist-packages/tensorflow/python/framework/indexed_slices.py:446: UserWarning: Converting sparse IndexedSlices(IndexedSlices(indices=Tensor(\"gradient_tape/private__graph_conv_keras_model_8/graph_pool_16/Reshape_17:0\", shape=(3220,), dtype=int32), values=Tensor(\"gradient_tape/private__graph_conv_keras_model_8/graph_pool_16/Reshape_16:0\", shape=(3220, 64), dtype=float32), dense_shape=Tensor(\"gradient_tape/private__graph_conv_keras_model_8/graph_pool_16/Cast_5:0\", shape=(2,), dtype=int32))) to a dense Tensor of unknown shape. This may consume a large amount of memory.\n",
            "  \"shape. This may consume a large amount of memory.\" % value)\n",
            "/usr/local/lib/python3.7/dist-packages/tensorflow/python/framework/indexed_slices.py:446: UserWarning: Converting sparse IndexedSlices(IndexedSlices(indices=Tensor(\"gradient_tape/private__graph_conv_keras_model_8/graph_pool_16/Reshape_20:0\", shape=(3240,), dtype=int32), values=Tensor(\"gradient_tape/private__graph_conv_keras_model_8/graph_pool_16/Reshape_19:0\", shape=(3240, 64), dtype=float32), dense_shape=Tensor(\"gradient_tape/private__graph_conv_keras_model_8/graph_pool_16/Cast_6:0\", shape=(2,), dtype=int32))) to a dense Tensor of unknown shape. This may consume a large amount of memory.\n",
            "  \"shape. This may consume a large amount of memory.\" % value)\n",
            "/usr/local/lib/python3.7/dist-packages/tensorflow/python/framework/indexed_slices.py:446: UserWarning: Converting sparse IndexedSlices(IndexedSlices(indices=Tensor(\"gradient_tape/private__graph_conv_keras_model_8/graph_pool_16/Reshape_23:0\", shape=(280,), dtype=int32), values=Tensor(\"gradient_tape/private__graph_conv_keras_model_8/graph_pool_16/Reshape_22:0\", shape=(280, 64), dtype=float32), dense_shape=Tensor(\"gradient_tape/private__graph_conv_keras_model_8/graph_pool_16/Cast_7:0\", shape=(2,), dtype=int32))) to a dense Tensor of unknown shape. This may consume a large amount of memory.\n",
            "  \"shape. This may consume a large amount of memory.\" % value)\n",
            "/usr/local/lib/python3.7/dist-packages/tensorflow/python/framework/indexed_slices.py:446: UserWarning: Converting sparse IndexedSlices(IndexedSlices(indices=Tensor(\"gradient_tape/private__graph_conv_keras_model_8/graph_pool_17/Reshape_14:0\", shape=(None,), dtype=int32), values=Tensor(\"gradient_tape/private__graph_conv_keras_model_8/graph_pool_17/Reshape_13:0\", shape=(None, 64), dtype=float32), dense_shape=Tensor(\"gradient_tape/private__graph_conv_keras_model_8/graph_pool_17/Cast_4:0\", shape=(2,), dtype=int32))) to a dense Tensor of unknown shape. This may consume a large amount of memory.\n",
            "  \"shape. This may consume a large amount of memory.\" % value)\n",
            "/usr/local/lib/python3.7/dist-packages/tensorflow/python/framework/indexed_slices.py:446: UserWarning: Converting sparse IndexedSlices(IndexedSlices(indices=Tensor(\"gradient_tape/private__graph_conv_keras_model_8/graph_pool_17/Reshape_17:0\", shape=(None,), dtype=int32), values=Tensor(\"gradient_tape/private__graph_conv_keras_model_8/graph_pool_17/Reshape_16:0\", shape=(None, 64), dtype=float32), dense_shape=Tensor(\"gradient_tape/private__graph_conv_keras_model_8/graph_pool_17/Cast_5:0\", shape=(2,), dtype=int32))) to a dense Tensor of unknown shape. This may consume a large amount of memory.\n",
            "  \"shape. This may consume a large amount of memory.\" % value)\n",
            "/usr/local/lib/python3.7/dist-packages/tensorflow/python/framework/indexed_slices.py:446: UserWarning: Converting sparse IndexedSlices(IndexedSlices(indices=Tensor(\"gradient_tape/private__graph_conv_keras_model_8/graph_pool_17/Reshape_20:0\", shape=(None,), dtype=int32), values=Tensor(\"gradient_tape/private__graph_conv_keras_model_8/graph_pool_17/Reshape_19:0\", shape=(None, 64), dtype=float32), dense_shape=Tensor(\"gradient_tape/private__graph_conv_keras_model_8/graph_pool_17/Cast_6:0\", shape=(2,), dtype=int32))) to a dense Tensor of unknown shape. This may consume a large amount of memory.\n",
            "  \"shape. This may consume a large amount of memory.\" % value)\n",
            "/usr/local/lib/python3.7/dist-packages/tensorflow/python/framework/indexed_slices.py:446: UserWarning: Converting sparse IndexedSlices(IndexedSlices(indices=Tensor(\"gradient_tape/private__graph_conv_keras_model_8/graph_pool_17/Reshape_23:0\", shape=(None,), dtype=int32), values=Tensor(\"gradient_tape/private__graph_conv_keras_model_8/graph_pool_17/Reshape_22:0\", shape=(None, 64), dtype=float32), dense_shape=Tensor(\"gradient_tape/private__graph_conv_keras_model_8/graph_pool_17/Cast_7:0\", shape=(2,), dtype=int32))) to a dense Tensor of unknown shape. This may consume a large amount of memory.\n",
            "  \"shape. This may consume a large amount of memory.\" % value)\n",
            "/usr/local/lib/python3.7/dist-packages/tensorflow/python/framework/indexed_slices.py:446: UserWarning: Converting sparse IndexedSlices(IndexedSlices(indices=Tensor(\"gradient_tape/private__graph_conv_keras_model_8/graph_conv_17/Reshape_11:0\", shape=(None,), dtype=int32), values=Tensor(\"gradient_tape/private__graph_conv_keras_model_8/graph_conv_17/Reshape_10:0\", shape=(None, 64), dtype=float32), dense_shape=Tensor(\"gradient_tape/private__graph_conv_keras_model_8/graph_conv_17/Cast:0\", shape=(2,), dtype=int32))) to a dense Tensor of unknown shape. This may consume a large amount of memory.\n",
            "  \"shape. This may consume a large amount of memory.\" % value)\n",
            "/usr/local/lib/python3.7/dist-packages/tensorflow/python/framework/indexed_slices.py:446: UserWarning: Converting sparse IndexedSlices(IndexedSlices(indices=Tensor(\"gradient_tape/private__graph_conv_keras_model_8/graph_conv_17/Reshape_13:0\", shape=(None,), dtype=int32), values=Tensor(\"gradient_tape/private__graph_conv_keras_model_8/graph_conv_17/Reshape_12:0\", shape=(None, 64), dtype=float32), dense_shape=Tensor(\"gradient_tape/private__graph_conv_keras_model_8/graph_conv_17/Cast_1:0\", shape=(2,), dtype=int32))) to a dense Tensor of unknown shape. This may consume a large amount of memory.\n",
            "  \"shape. This may consume a large amount of memory.\" % value)\n",
            "/usr/local/lib/python3.7/dist-packages/tensorflow/python/framework/indexed_slices.py:446: UserWarning: Converting sparse IndexedSlices(IndexedSlices(indices=Tensor(\"gradient_tape/private__graph_conv_keras_model_8/graph_conv_17/Reshape_15:0\", shape=(None,), dtype=int32), values=Tensor(\"gradient_tape/private__graph_conv_keras_model_8/graph_conv_17/Reshape_14:0\", shape=(None, 64), dtype=float32), dense_shape=Tensor(\"gradient_tape/private__graph_conv_keras_model_8/graph_conv_17/Cast_2:0\", shape=(2,), dtype=int32))) to a dense Tensor of unknown shape. This may consume a large amount of memory.\n",
            "  \"shape. This may consume a large amount of memory.\" % value)\n",
            "/usr/local/lib/python3.7/dist-packages/tensorflow/python/framework/indexed_slices.py:446: UserWarning: Converting sparse IndexedSlices(IndexedSlices(indices=Tensor(\"gradient_tape/private__graph_conv_keras_model_8/graph_conv_17/Reshape_17:0\", shape=(None,), dtype=int32), values=Tensor(\"gradient_tape/private__graph_conv_keras_model_8/graph_conv_17/Reshape_16:0\", shape=(None, 64), dtype=float32), dense_shape=Tensor(\"gradient_tape/private__graph_conv_keras_model_8/graph_conv_17/Cast_3:0\", shape=(2,), dtype=int32))) to a dense Tensor of unknown shape. This may consume a large amount of memory.\n",
            "  \"shape. This may consume a large amount of memory.\" % value)\n",
            "/usr/local/lib/python3.7/dist-packages/tensorflow/python/framework/indexed_slices.py:446: UserWarning: Converting sparse IndexedSlices(IndexedSlices(indices=Tensor(\"gradient_tape/private__graph_conv_keras_model_8/graph_pool_16/Reshape_14:0\", shape=(None,), dtype=int32), values=Tensor(\"gradient_tape/private__graph_conv_keras_model_8/graph_pool_16/Reshape_13:0\", shape=(None, 64), dtype=float32), dense_shape=Tensor(\"gradient_tape/private__graph_conv_keras_model_8/graph_pool_16/Cast_4:0\", shape=(2,), dtype=int32))) to a dense Tensor of unknown shape. This may consume a large amount of memory.\n",
            "  \"shape. This may consume a large amount of memory.\" % value)\n",
            "/usr/local/lib/python3.7/dist-packages/tensorflow/python/framework/indexed_slices.py:446: UserWarning: Converting sparse IndexedSlices(IndexedSlices(indices=Tensor(\"gradient_tape/private__graph_conv_keras_model_8/graph_pool_16/Reshape_17:0\", shape=(None,), dtype=int32), values=Tensor(\"gradient_tape/private__graph_conv_keras_model_8/graph_pool_16/Reshape_16:0\", shape=(None, 64), dtype=float32), dense_shape=Tensor(\"gradient_tape/private__graph_conv_keras_model_8/graph_pool_16/Cast_5:0\", shape=(2,), dtype=int32))) to a dense Tensor of unknown shape. This may consume a large amount of memory.\n",
            "  \"shape. This may consume a large amount of memory.\" % value)\n",
            "/usr/local/lib/python3.7/dist-packages/tensorflow/python/framework/indexed_slices.py:446: UserWarning: Converting sparse IndexedSlices(IndexedSlices(indices=Tensor(\"gradient_tape/private__graph_conv_keras_model_8/graph_pool_16/Reshape_20:0\", shape=(None,), dtype=int32), values=Tensor(\"gradient_tape/private__graph_conv_keras_model_8/graph_pool_16/Reshape_19:0\", shape=(None, 64), dtype=float32), dense_shape=Tensor(\"gradient_tape/private__graph_conv_keras_model_8/graph_pool_16/Cast_6:0\", shape=(2,), dtype=int32))) to a dense Tensor of unknown shape. This may consume a large amount of memory.\n",
            "  \"shape. This may consume a large amount of memory.\" % value)\n",
            "/usr/local/lib/python3.7/dist-packages/tensorflow/python/framework/indexed_slices.py:446: UserWarning: Converting sparse IndexedSlices(IndexedSlices(indices=Tensor(\"gradient_tape/private__graph_conv_keras_model_8/graph_pool_16/Reshape_23:0\", shape=(None,), dtype=int32), values=Tensor(\"gradient_tape/private__graph_conv_keras_model_8/graph_pool_16/Reshape_22:0\", shape=(None, 64), dtype=float32), dense_shape=Tensor(\"gradient_tape/private__graph_conv_keras_model_8/graph_pool_16/Cast_7:0\", shape=(2,), dtype=int32))) to a dense Tensor of unknown shape. This may consume a large amount of memory.\n",
            "  \"shape. This may consume a large amount of memory.\" % value)\n",
            "/usr/local/lib/python3.7/dist-packages/tensorflow/python/framework/indexed_slices.py:446: UserWarning: Converting sparse IndexedSlices(IndexedSlices(indices=Tensor(\"gradient_tape/private__graph_conv_keras_model_9/graph_pool_19/Reshape_14:0\", shape=(673,), dtype=int32), values=Tensor(\"gradient_tape/private__graph_conv_keras_model_9/graph_pool_19/Reshape_13:0\", shape=(673, 64), dtype=float32), dense_shape=Tensor(\"gradient_tape/private__graph_conv_keras_model_9/graph_pool_19/Cast_4:0\", shape=(2,), dtype=int32))) to a dense Tensor of unknown shape. This may consume a large amount of memory.\n",
            "  \"shape. This may consume a large amount of memory.\" % value)\n",
            "/usr/local/lib/python3.7/dist-packages/tensorflow/python/framework/indexed_slices.py:446: UserWarning: Converting sparse IndexedSlices(IndexedSlices(indices=Tensor(\"gradient_tape/private__graph_conv_keras_model_9/graph_pool_19/Reshape_17:0\", shape=(3372,), dtype=int32), values=Tensor(\"gradient_tape/private__graph_conv_keras_model_9/graph_pool_19/Reshape_16:0\", shape=(3372, 64), dtype=float32), dense_shape=Tensor(\"gradient_tape/private__graph_conv_keras_model_9/graph_pool_19/Cast_5:0\", shape=(2,), dtype=int32))) to a dense Tensor of unknown shape. This may consume a large amount of memory.\n",
            "  \"shape. This may consume a large amount of memory.\" % value)\n",
            "/usr/local/lib/python3.7/dist-packages/tensorflow/python/framework/indexed_slices.py:446: UserWarning: Converting sparse IndexedSlices(IndexedSlices(indices=Tensor(\"gradient_tape/private__graph_conv_keras_model_9/graph_pool_19/Reshape_20:0\", shape=(3429,), dtype=int32), values=Tensor(\"gradient_tape/private__graph_conv_keras_model_9/graph_pool_19/Reshape_19:0\", shape=(3429, 64), dtype=float32), dense_shape=Tensor(\"gradient_tape/private__graph_conv_keras_model_9/graph_pool_19/Cast_6:0\", shape=(2,), dtype=int32))) to a dense Tensor of unknown shape. This may consume a large amount of memory.\n",
            "  \"shape. This may consume a large amount of memory.\" % value)\n",
            "/usr/local/lib/python3.7/dist-packages/tensorflow/python/framework/indexed_slices.py:446: UserWarning: Converting sparse IndexedSlices(IndexedSlices(indices=Tensor(\"gradient_tape/private__graph_conv_keras_model_9/graph_pool_19/Reshape_23:0\", shape=(252,), dtype=int32), values=Tensor(\"gradient_tape/private__graph_conv_keras_model_9/graph_pool_19/Reshape_22:0\", shape=(252, 64), dtype=float32), dense_shape=Tensor(\"gradient_tape/private__graph_conv_keras_model_9/graph_pool_19/Cast_7:0\", shape=(2,), dtype=int32))) to a dense Tensor of unknown shape. This may consume a large amount of memory.\n",
            "  \"shape. This may consume a large amount of memory.\" % value)\n",
            "/usr/local/lib/python3.7/dist-packages/tensorflow/python/framework/indexed_slices.py:446: UserWarning: Converting sparse IndexedSlices(IndexedSlices(indices=Tensor(\"gradient_tape/private__graph_conv_keras_model_9/graph_conv_19/Reshape_11:0\", shape=(673,), dtype=int32), values=Tensor(\"gradient_tape/private__graph_conv_keras_model_9/graph_conv_19/Reshape_10:0\", shape=(673, 64), dtype=float32), dense_shape=Tensor(\"gradient_tape/private__graph_conv_keras_model_9/graph_conv_19/Cast:0\", shape=(2,), dtype=int32))) to a dense Tensor of unknown shape. This may consume a large amount of memory.\n",
            "  \"shape. This may consume a large amount of memory.\" % value)\n",
            "/usr/local/lib/python3.7/dist-packages/tensorflow/python/framework/indexed_slices.py:446: UserWarning: Converting sparse IndexedSlices(IndexedSlices(indices=Tensor(\"gradient_tape/private__graph_conv_keras_model_9/graph_conv_19/Reshape_13:0\", shape=(3372,), dtype=int32), values=Tensor(\"gradient_tape/private__graph_conv_keras_model_9/graph_conv_19/Reshape_12:0\", shape=(3372, 64), dtype=float32), dense_shape=Tensor(\"gradient_tape/private__graph_conv_keras_model_9/graph_conv_19/Cast_1:0\", shape=(2,), dtype=int32))) to a dense Tensor of unknown shape. This may consume a large amount of memory.\n",
            "  \"shape. This may consume a large amount of memory.\" % value)\n",
            "/usr/local/lib/python3.7/dist-packages/tensorflow/python/framework/indexed_slices.py:446: UserWarning: Converting sparse IndexedSlices(IndexedSlices(indices=Tensor(\"gradient_tape/private__graph_conv_keras_model_9/graph_conv_19/Reshape_15:0\", shape=(3429,), dtype=int32), values=Tensor(\"gradient_tape/private__graph_conv_keras_model_9/graph_conv_19/Reshape_14:0\", shape=(3429, 64), dtype=float32), dense_shape=Tensor(\"gradient_tape/private__graph_conv_keras_model_9/graph_conv_19/Cast_2:0\", shape=(2,), dtype=int32))) to a dense Tensor of unknown shape. This may consume a large amount of memory.\n",
            "  \"shape. This may consume a large amount of memory.\" % value)\n",
            "/usr/local/lib/python3.7/dist-packages/tensorflow/python/framework/indexed_slices.py:446: UserWarning: Converting sparse IndexedSlices(IndexedSlices(indices=Tensor(\"gradient_tape/private__graph_conv_keras_model_9/graph_conv_19/Reshape_17:0\", shape=(252,), dtype=int32), values=Tensor(\"gradient_tape/private__graph_conv_keras_model_9/graph_conv_19/Reshape_16:0\", shape=(252, 64), dtype=float32), dense_shape=Tensor(\"gradient_tape/private__graph_conv_keras_model_9/graph_conv_19/Cast_3:0\", shape=(2,), dtype=int32))) to a dense Tensor of unknown shape. This may consume a large amount of memory.\n",
            "  \"shape. This may consume a large amount of memory.\" % value)\n",
            "/usr/local/lib/python3.7/dist-packages/tensorflow/python/framework/indexed_slices.py:446: UserWarning: Converting sparse IndexedSlices(IndexedSlices(indices=Tensor(\"gradient_tape/private__graph_conv_keras_model_9/graph_conv_19/Reshape_19:0\", shape=(0,), dtype=int32), values=Tensor(\"gradient_tape/private__graph_conv_keras_model_9/graph_conv_19/Reshape_18:0\", shape=(0, 64), dtype=float32), dense_shape=Tensor(\"gradient_tape/private__graph_conv_keras_model_9/graph_conv_19/Cast_4:0\", shape=(2,), dtype=int32))) to a dense Tensor of unknown shape. This may consume a large amount of memory.\n",
            "  \"shape. This may consume a large amount of memory.\" % value)\n",
            "/usr/local/lib/python3.7/dist-packages/tensorflow/python/framework/indexed_slices.py:446: UserWarning: Converting sparse IndexedSlices(IndexedSlices(indices=Tensor(\"gradient_tape/private__graph_conv_keras_model_9/graph_conv_19/Reshape_21:0\", shape=(0,), dtype=int32), values=Tensor(\"gradient_tape/private__graph_conv_keras_model_9/graph_conv_19/Reshape_20:0\", shape=(0, 64), dtype=float32), dense_shape=Tensor(\"gradient_tape/private__graph_conv_keras_model_9/graph_conv_19/Cast_5:0\", shape=(2,), dtype=int32))) to a dense Tensor of unknown shape. This may consume a large amount of memory.\n",
            "  \"shape. This may consume a large amount of memory.\" % value)\n",
            "/usr/local/lib/python3.7/dist-packages/tensorflow/python/framework/indexed_slices.py:446: UserWarning: Converting sparse IndexedSlices(IndexedSlices(indices=Tensor(\"gradient_tape/private__graph_conv_keras_model_9/graph_conv_19/Reshape_23:0\", shape=(0,), dtype=int32), values=Tensor(\"gradient_tape/private__graph_conv_keras_model_9/graph_conv_19/Reshape_22:0\", shape=(0, 64), dtype=float32), dense_shape=Tensor(\"gradient_tape/private__graph_conv_keras_model_9/graph_conv_19/Cast_6:0\", shape=(2,), dtype=int32))) to a dense Tensor of unknown shape. This may consume a large amount of memory.\n",
            "  \"shape. This may consume a large amount of memory.\" % value)\n",
            "/usr/local/lib/python3.7/dist-packages/tensorflow/python/framework/indexed_slices.py:446: UserWarning: Converting sparse IndexedSlices(IndexedSlices(indices=Tensor(\"gradient_tape/private__graph_conv_keras_model_9/graph_conv_19/Reshape_25:0\", shape=(0,), dtype=int32), values=Tensor(\"gradient_tape/private__graph_conv_keras_model_9/graph_conv_19/Reshape_24:0\", shape=(0, 64), dtype=float32), dense_shape=Tensor(\"gradient_tape/private__graph_conv_keras_model_9/graph_conv_19/Cast_7:0\", shape=(2,), dtype=int32))) to a dense Tensor of unknown shape. This may consume a large amount of memory.\n",
            "  \"shape. This may consume a large amount of memory.\" % value)\n",
            "/usr/local/lib/python3.7/dist-packages/tensorflow/python/framework/indexed_slices.py:446: UserWarning: Converting sparse IndexedSlices(IndexedSlices(indices=Tensor(\"gradient_tape/private__graph_conv_keras_model_9/graph_conv_19/Reshape_27:0\", shape=(0,), dtype=int32), values=Tensor(\"gradient_tape/private__graph_conv_keras_model_9/graph_conv_19/Reshape_26:0\", shape=(0, 64), dtype=float32), dense_shape=Tensor(\"gradient_tape/private__graph_conv_keras_model_9/graph_conv_19/Cast_8:0\", shape=(2,), dtype=int32))) to a dense Tensor of unknown shape. This may consume a large amount of memory.\n",
            "  \"shape. This may consume a large amount of memory.\" % value)\n",
            "/usr/local/lib/python3.7/dist-packages/tensorflow/python/framework/indexed_slices.py:446: UserWarning: Converting sparse IndexedSlices(IndexedSlices(indices=Tensor(\"gradient_tape/private__graph_conv_keras_model_9/graph_conv_19/Reshape_29:0\", shape=(0,), dtype=int32), values=Tensor(\"gradient_tape/private__graph_conv_keras_model_9/graph_conv_19/Reshape_28:0\", shape=(0, 64), dtype=float32), dense_shape=Tensor(\"gradient_tape/private__graph_conv_keras_model_9/graph_conv_19/Cast_9:0\", shape=(2,), dtype=int32))) to a dense Tensor of unknown shape. This may consume a large amount of memory.\n",
            "  \"shape. This may consume a large amount of memory.\" % value)\n",
            "/usr/local/lib/python3.7/dist-packages/tensorflow/python/framework/indexed_slices.py:446: UserWarning: Converting sparse IndexedSlices(IndexedSlices(indices=Tensor(\"gradient_tape/private__graph_conv_keras_model_9/graph_pool_18/Reshape_14:0\", shape=(673,), dtype=int32), values=Tensor(\"gradient_tape/private__graph_conv_keras_model_9/graph_pool_18/Reshape_13:0\", shape=(673, 64), dtype=float32), dense_shape=Tensor(\"gradient_tape/private__graph_conv_keras_model_9/graph_pool_18/Cast_4:0\", shape=(2,), dtype=int32))) to a dense Tensor of unknown shape. This may consume a large amount of memory.\n",
            "  \"shape. This may consume a large amount of memory.\" % value)\n",
            "/usr/local/lib/python3.7/dist-packages/tensorflow/python/framework/indexed_slices.py:446: UserWarning: Converting sparse IndexedSlices(IndexedSlices(indices=Tensor(\"gradient_tape/private__graph_conv_keras_model_9/graph_pool_18/Reshape_17:0\", shape=(3372,), dtype=int32), values=Tensor(\"gradient_tape/private__graph_conv_keras_model_9/graph_pool_18/Reshape_16:0\", shape=(3372, 64), dtype=float32), dense_shape=Tensor(\"gradient_tape/private__graph_conv_keras_model_9/graph_pool_18/Cast_5:0\", shape=(2,), dtype=int32))) to a dense Tensor of unknown shape. This may consume a large amount of memory.\n",
            "  \"shape. This may consume a large amount of memory.\" % value)\n",
            "/usr/local/lib/python3.7/dist-packages/tensorflow/python/framework/indexed_slices.py:446: UserWarning: Converting sparse IndexedSlices(IndexedSlices(indices=Tensor(\"gradient_tape/private__graph_conv_keras_model_9/graph_pool_18/Reshape_20:0\", shape=(3429,), dtype=int32), values=Tensor(\"gradient_tape/private__graph_conv_keras_model_9/graph_pool_18/Reshape_19:0\", shape=(3429, 64), dtype=float32), dense_shape=Tensor(\"gradient_tape/private__graph_conv_keras_model_9/graph_pool_18/Cast_6:0\", shape=(2,), dtype=int32))) to a dense Tensor of unknown shape. This may consume a large amount of memory.\n",
            "  \"shape. This may consume a large amount of memory.\" % value)\n",
            "/usr/local/lib/python3.7/dist-packages/tensorflow/python/framework/indexed_slices.py:446: UserWarning: Converting sparse IndexedSlices(IndexedSlices(indices=Tensor(\"gradient_tape/private__graph_conv_keras_model_9/graph_pool_18/Reshape_23:0\", shape=(252,), dtype=int32), values=Tensor(\"gradient_tape/private__graph_conv_keras_model_9/graph_pool_18/Reshape_22:0\", shape=(252, 64), dtype=float32), dense_shape=Tensor(\"gradient_tape/private__graph_conv_keras_model_9/graph_pool_18/Cast_7:0\", shape=(2,), dtype=int32))) to a dense Tensor of unknown shape. This may consume a large amount of memory.\n",
            "  \"shape. This may consume a large amount of memory.\" % value)\n",
            "/usr/local/lib/python3.7/dist-packages/tensorflow/python/framework/indexed_slices.py:446: UserWarning: Converting sparse IndexedSlices(IndexedSlices(indices=Tensor(\"gradient_tape/private__graph_conv_keras_model_9/graph_pool_19/Reshape_14:0\", shape=(659,), dtype=int32), values=Tensor(\"gradient_tape/private__graph_conv_keras_model_9/graph_pool_19/Reshape_13:0\", shape=(659, 64), dtype=float32), dense_shape=Tensor(\"gradient_tape/private__graph_conv_keras_model_9/graph_pool_19/Cast_4:0\", shape=(2,), dtype=int32))) to a dense Tensor of unknown shape. This may consume a large amount of memory.\n",
            "  \"shape. This may consume a large amount of memory.\" % value)\n",
            "/usr/local/lib/python3.7/dist-packages/tensorflow/python/framework/indexed_slices.py:446: UserWarning: Converting sparse IndexedSlices(IndexedSlices(indices=Tensor(\"gradient_tape/private__graph_conv_keras_model_9/graph_pool_19/Reshape_17:0\", shape=(3288,), dtype=int32), values=Tensor(\"gradient_tape/private__graph_conv_keras_model_9/graph_pool_19/Reshape_16:0\", shape=(3288, 64), dtype=float32), dense_shape=Tensor(\"gradient_tape/private__graph_conv_keras_model_9/graph_pool_19/Cast_5:0\", shape=(2,), dtype=int32))) to a dense Tensor of unknown shape. This may consume a large amount of memory.\n",
            "  \"shape. This may consume a large amount of memory.\" % value)\n",
            "/usr/local/lib/python3.7/dist-packages/tensorflow/python/framework/indexed_slices.py:446: UserWarning: Converting sparse IndexedSlices(IndexedSlices(indices=Tensor(\"gradient_tape/private__graph_conv_keras_model_9/graph_pool_19/Reshape_20:0\", shape=(3399,), dtype=int32), values=Tensor(\"gradient_tape/private__graph_conv_keras_model_9/graph_pool_19/Reshape_19:0\", shape=(3399, 64), dtype=float32), dense_shape=Tensor(\"gradient_tape/private__graph_conv_keras_model_9/graph_pool_19/Cast_6:0\", shape=(2,), dtype=int32))) to a dense Tensor of unknown shape. This may consume a large amount of memory.\n",
            "  \"shape. This may consume a large amount of memory.\" % value)\n",
            "/usr/local/lib/python3.7/dist-packages/tensorflow/python/framework/indexed_slices.py:446: UserWarning: Converting sparse IndexedSlices(IndexedSlices(indices=Tensor(\"gradient_tape/private__graph_conv_keras_model_9/graph_pool_19/Reshape_23:0\", shape=(264,), dtype=int32), values=Tensor(\"gradient_tape/private__graph_conv_keras_model_9/graph_pool_19/Reshape_22:0\", shape=(264, 64), dtype=float32), dense_shape=Tensor(\"gradient_tape/private__graph_conv_keras_model_9/graph_pool_19/Cast_7:0\", shape=(2,), dtype=int32))) to a dense Tensor of unknown shape. This may consume a large amount of memory.\n",
            "  \"shape. This may consume a large amount of memory.\" % value)\n",
            "/usr/local/lib/python3.7/dist-packages/tensorflow/python/framework/indexed_slices.py:446: UserWarning: Converting sparse IndexedSlices(IndexedSlices(indices=Tensor(\"gradient_tape/private__graph_conv_keras_model_9/graph_conv_19/Reshape_11:0\", shape=(659,), dtype=int32), values=Tensor(\"gradient_tape/private__graph_conv_keras_model_9/graph_conv_19/Reshape_10:0\", shape=(659, 64), dtype=float32), dense_shape=Tensor(\"gradient_tape/private__graph_conv_keras_model_9/graph_conv_19/Cast:0\", shape=(2,), dtype=int32))) to a dense Tensor of unknown shape. This may consume a large amount of memory.\n",
            "  \"shape. This may consume a large amount of memory.\" % value)\n",
            "/usr/local/lib/python3.7/dist-packages/tensorflow/python/framework/indexed_slices.py:446: UserWarning: Converting sparse IndexedSlices(IndexedSlices(indices=Tensor(\"gradient_tape/private__graph_conv_keras_model_9/graph_conv_19/Reshape_13:0\", shape=(3288,), dtype=int32), values=Tensor(\"gradient_tape/private__graph_conv_keras_model_9/graph_conv_19/Reshape_12:0\", shape=(3288, 64), dtype=float32), dense_shape=Tensor(\"gradient_tape/private__graph_conv_keras_model_9/graph_conv_19/Cast_1:0\", shape=(2,), dtype=int32))) to a dense Tensor of unknown shape. This may consume a large amount of memory.\n",
            "  \"shape. This may consume a large amount of memory.\" % value)\n",
            "/usr/local/lib/python3.7/dist-packages/tensorflow/python/framework/indexed_slices.py:446: UserWarning: Converting sparse IndexedSlices(IndexedSlices(indices=Tensor(\"gradient_tape/private__graph_conv_keras_model_9/graph_conv_19/Reshape_15:0\", shape=(3399,), dtype=int32), values=Tensor(\"gradient_tape/private__graph_conv_keras_model_9/graph_conv_19/Reshape_14:0\", shape=(3399, 64), dtype=float32), dense_shape=Tensor(\"gradient_tape/private__graph_conv_keras_model_9/graph_conv_19/Cast_2:0\", shape=(2,), dtype=int32))) to a dense Tensor of unknown shape. This may consume a large amount of memory.\n",
            "  \"shape. This may consume a large amount of memory.\" % value)\n",
            "/usr/local/lib/python3.7/dist-packages/tensorflow/python/framework/indexed_slices.py:446: UserWarning: Converting sparse IndexedSlices(IndexedSlices(indices=Tensor(\"gradient_tape/private__graph_conv_keras_model_9/graph_conv_19/Reshape_17:0\", shape=(264,), dtype=int32), values=Tensor(\"gradient_tape/private__graph_conv_keras_model_9/graph_conv_19/Reshape_16:0\", shape=(264, 64), dtype=float32), dense_shape=Tensor(\"gradient_tape/private__graph_conv_keras_model_9/graph_conv_19/Cast_3:0\", shape=(2,), dtype=int32))) to a dense Tensor of unknown shape. This may consume a large amount of memory.\n",
            "  \"shape. This may consume a large amount of memory.\" % value)\n",
            "/usr/local/lib/python3.7/dist-packages/tensorflow/python/framework/indexed_slices.py:446: UserWarning: Converting sparse IndexedSlices(IndexedSlices(indices=Tensor(\"gradient_tape/private__graph_conv_keras_model_9/graph_pool_18/Reshape_14:0\", shape=(659,), dtype=int32), values=Tensor(\"gradient_tape/private__graph_conv_keras_model_9/graph_pool_18/Reshape_13:0\", shape=(659, 64), dtype=float32), dense_shape=Tensor(\"gradient_tape/private__graph_conv_keras_model_9/graph_pool_18/Cast_4:0\", shape=(2,), dtype=int32))) to a dense Tensor of unknown shape. This may consume a large amount of memory.\n",
            "  \"shape. This may consume a large amount of memory.\" % value)\n",
            "/usr/local/lib/python3.7/dist-packages/tensorflow/python/framework/indexed_slices.py:446: UserWarning: Converting sparse IndexedSlices(IndexedSlices(indices=Tensor(\"gradient_tape/private__graph_conv_keras_model_9/graph_pool_18/Reshape_17:0\", shape=(3288,), dtype=int32), values=Tensor(\"gradient_tape/private__graph_conv_keras_model_9/graph_pool_18/Reshape_16:0\", shape=(3288, 64), dtype=float32), dense_shape=Tensor(\"gradient_tape/private__graph_conv_keras_model_9/graph_pool_18/Cast_5:0\", shape=(2,), dtype=int32))) to a dense Tensor of unknown shape. This may consume a large amount of memory.\n",
            "  \"shape. This may consume a large amount of memory.\" % value)\n",
            "/usr/local/lib/python3.7/dist-packages/tensorflow/python/framework/indexed_slices.py:446: UserWarning: Converting sparse IndexedSlices(IndexedSlices(indices=Tensor(\"gradient_tape/private__graph_conv_keras_model_9/graph_pool_18/Reshape_20:0\", shape=(3399,), dtype=int32), values=Tensor(\"gradient_tape/private__graph_conv_keras_model_9/graph_pool_18/Reshape_19:0\", shape=(3399, 64), dtype=float32), dense_shape=Tensor(\"gradient_tape/private__graph_conv_keras_model_9/graph_pool_18/Cast_6:0\", shape=(2,), dtype=int32))) to a dense Tensor of unknown shape. This may consume a large amount of memory.\n",
            "  \"shape. This may consume a large amount of memory.\" % value)\n",
            "/usr/local/lib/python3.7/dist-packages/tensorflow/python/framework/indexed_slices.py:446: UserWarning: Converting sparse IndexedSlices(IndexedSlices(indices=Tensor(\"gradient_tape/private__graph_conv_keras_model_9/graph_pool_18/Reshape_23:0\", shape=(264,), dtype=int32), values=Tensor(\"gradient_tape/private__graph_conv_keras_model_9/graph_pool_18/Reshape_22:0\", shape=(264, 64), dtype=float32), dense_shape=Tensor(\"gradient_tape/private__graph_conv_keras_model_9/graph_pool_18/Cast_7:0\", shape=(2,), dtype=int32))) to a dense Tensor of unknown shape. This may consume a large amount of memory.\n",
            "  \"shape. This may consume a large amount of memory.\" % value)\n",
            "/usr/local/lib/python3.7/dist-packages/tensorflow/python/framework/indexed_slices.py:446: UserWarning: Converting sparse IndexedSlices(IndexedSlices(indices=Tensor(\"gradient_tape/private__graph_conv_keras_model_9/graph_pool_19/Reshape_14:0\", shape=(None,), dtype=int32), values=Tensor(\"gradient_tape/private__graph_conv_keras_model_9/graph_pool_19/Reshape_13:0\", shape=(None, 64), dtype=float32), dense_shape=Tensor(\"gradient_tape/private__graph_conv_keras_model_9/graph_pool_19/Cast_4:0\", shape=(2,), dtype=int32))) to a dense Tensor of unknown shape. This may consume a large amount of memory.\n",
            "  \"shape. This may consume a large amount of memory.\" % value)\n",
            "/usr/local/lib/python3.7/dist-packages/tensorflow/python/framework/indexed_slices.py:446: UserWarning: Converting sparse IndexedSlices(IndexedSlices(indices=Tensor(\"gradient_tape/private__graph_conv_keras_model_9/graph_pool_19/Reshape_17:0\", shape=(None,), dtype=int32), values=Tensor(\"gradient_tape/private__graph_conv_keras_model_9/graph_pool_19/Reshape_16:0\", shape=(None, 64), dtype=float32), dense_shape=Tensor(\"gradient_tape/private__graph_conv_keras_model_9/graph_pool_19/Cast_5:0\", shape=(2,), dtype=int32))) to a dense Tensor of unknown shape. This may consume a large amount of memory.\n",
            "  \"shape. This may consume a large amount of memory.\" % value)\n",
            "/usr/local/lib/python3.7/dist-packages/tensorflow/python/framework/indexed_slices.py:446: UserWarning: Converting sparse IndexedSlices(IndexedSlices(indices=Tensor(\"gradient_tape/private__graph_conv_keras_model_9/graph_pool_19/Reshape_20:0\", shape=(None,), dtype=int32), values=Tensor(\"gradient_tape/private__graph_conv_keras_model_9/graph_pool_19/Reshape_19:0\", shape=(None, 64), dtype=float32), dense_shape=Tensor(\"gradient_tape/private__graph_conv_keras_model_9/graph_pool_19/Cast_6:0\", shape=(2,), dtype=int32))) to a dense Tensor of unknown shape. This may consume a large amount of memory.\n",
            "  \"shape. This may consume a large amount of memory.\" % value)\n",
            "/usr/local/lib/python3.7/dist-packages/tensorflow/python/framework/indexed_slices.py:446: UserWarning: Converting sparse IndexedSlices(IndexedSlices(indices=Tensor(\"gradient_tape/private__graph_conv_keras_model_9/graph_pool_19/Reshape_23:0\", shape=(None,), dtype=int32), values=Tensor(\"gradient_tape/private__graph_conv_keras_model_9/graph_pool_19/Reshape_22:0\", shape=(None, 64), dtype=float32), dense_shape=Tensor(\"gradient_tape/private__graph_conv_keras_model_9/graph_pool_19/Cast_7:0\", shape=(2,), dtype=int32))) to a dense Tensor of unknown shape. This may consume a large amount of memory.\n",
            "  \"shape. This may consume a large amount of memory.\" % value)\n",
            "/usr/local/lib/python3.7/dist-packages/tensorflow/python/framework/indexed_slices.py:446: UserWarning: Converting sparse IndexedSlices(IndexedSlices(indices=Tensor(\"gradient_tape/private__graph_conv_keras_model_9/graph_conv_19/Reshape_11:0\", shape=(None,), dtype=int32), values=Tensor(\"gradient_tape/private__graph_conv_keras_model_9/graph_conv_19/Reshape_10:0\", shape=(None, 64), dtype=float32), dense_shape=Tensor(\"gradient_tape/private__graph_conv_keras_model_9/graph_conv_19/Cast:0\", shape=(2,), dtype=int32))) to a dense Tensor of unknown shape. This may consume a large amount of memory.\n",
            "  \"shape. This may consume a large amount of memory.\" % value)\n",
            "/usr/local/lib/python3.7/dist-packages/tensorflow/python/framework/indexed_slices.py:446: UserWarning: Converting sparse IndexedSlices(IndexedSlices(indices=Tensor(\"gradient_tape/private__graph_conv_keras_model_9/graph_conv_19/Reshape_13:0\", shape=(None,), dtype=int32), values=Tensor(\"gradient_tape/private__graph_conv_keras_model_9/graph_conv_19/Reshape_12:0\", shape=(None, 64), dtype=float32), dense_shape=Tensor(\"gradient_tape/private__graph_conv_keras_model_9/graph_conv_19/Cast_1:0\", shape=(2,), dtype=int32))) to a dense Tensor of unknown shape. This may consume a large amount of memory.\n",
            "  \"shape. This may consume a large amount of memory.\" % value)\n",
            "/usr/local/lib/python3.7/dist-packages/tensorflow/python/framework/indexed_slices.py:446: UserWarning: Converting sparse IndexedSlices(IndexedSlices(indices=Tensor(\"gradient_tape/private__graph_conv_keras_model_9/graph_conv_19/Reshape_15:0\", shape=(None,), dtype=int32), values=Tensor(\"gradient_tape/private__graph_conv_keras_model_9/graph_conv_19/Reshape_14:0\", shape=(None, 64), dtype=float32), dense_shape=Tensor(\"gradient_tape/private__graph_conv_keras_model_9/graph_conv_19/Cast_2:0\", shape=(2,), dtype=int32))) to a dense Tensor of unknown shape. This may consume a large amount of memory.\n",
            "  \"shape. This may consume a large amount of memory.\" % value)\n",
            "/usr/local/lib/python3.7/dist-packages/tensorflow/python/framework/indexed_slices.py:446: UserWarning: Converting sparse IndexedSlices(IndexedSlices(indices=Tensor(\"gradient_tape/private__graph_conv_keras_model_9/graph_conv_19/Reshape_17:0\", shape=(None,), dtype=int32), values=Tensor(\"gradient_tape/private__graph_conv_keras_model_9/graph_conv_19/Reshape_16:0\", shape=(None, 64), dtype=float32), dense_shape=Tensor(\"gradient_tape/private__graph_conv_keras_model_9/graph_conv_19/Cast_3:0\", shape=(2,), dtype=int32))) to a dense Tensor of unknown shape. This may consume a large amount of memory.\n",
            "  \"shape. This may consume a large amount of memory.\" % value)\n",
            "/usr/local/lib/python3.7/dist-packages/tensorflow/python/framework/indexed_slices.py:446: UserWarning: Converting sparse IndexedSlices(IndexedSlices(indices=Tensor(\"gradient_tape/private__graph_conv_keras_model_9/graph_pool_18/Reshape_14:0\", shape=(None,), dtype=int32), values=Tensor(\"gradient_tape/private__graph_conv_keras_model_9/graph_pool_18/Reshape_13:0\", shape=(None, 64), dtype=float32), dense_shape=Tensor(\"gradient_tape/private__graph_conv_keras_model_9/graph_pool_18/Cast_4:0\", shape=(2,), dtype=int32))) to a dense Tensor of unknown shape. This may consume a large amount of memory.\n",
            "  \"shape. This may consume a large amount of memory.\" % value)\n",
            "/usr/local/lib/python3.7/dist-packages/tensorflow/python/framework/indexed_slices.py:446: UserWarning: Converting sparse IndexedSlices(IndexedSlices(indices=Tensor(\"gradient_tape/private__graph_conv_keras_model_9/graph_pool_18/Reshape_17:0\", shape=(None,), dtype=int32), values=Tensor(\"gradient_tape/private__graph_conv_keras_model_9/graph_pool_18/Reshape_16:0\", shape=(None, 64), dtype=float32), dense_shape=Tensor(\"gradient_tape/private__graph_conv_keras_model_9/graph_pool_18/Cast_5:0\", shape=(2,), dtype=int32))) to a dense Tensor of unknown shape. This may consume a large amount of memory.\n",
            "  \"shape. This may consume a large amount of memory.\" % value)\n",
            "/usr/local/lib/python3.7/dist-packages/tensorflow/python/framework/indexed_slices.py:446: UserWarning: Converting sparse IndexedSlices(IndexedSlices(indices=Tensor(\"gradient_tape/private__graph_conv_keras_model_9/graph_pool_18/Reshape_20:0\", shape=(None,), dtype=int32), values=Tensor(\"gradient_tape/private__graph_conv_keras_model_9/graph_pool_18/Reshape_19:0\", shape=(None, 64), dtype=float32), dense_shape=Tensor(\"gradient_tape/private__graph_conv_keras_model_9/graph_pool_18/Cast_6:0\", shape=(2,), dtype=int32))) to a dense Tensor of unknown shape. This may consume a large amount of memory.\n",
            "  \"shape. This may consume a large amount of memory.\" % value)\n",
            "/usr/local/lib/python3.7/dist-packages/tensorflow/python/framework/indexed_slices.py:446: UserWarning: Converting sparse IndexedSlices(IndexedSlices(indices=Tensor(\"gradient_tape/private__graph_conv_keras_model_9/graph_pool_18/Reshape_23:0\", shape=(None,), dtype=int32), values=Tensor(\"gradient_tape/private__graph_conv_keras_model_9/graph_pool_18/Reshape_22:0\", shape=(None, 64), dtype=float32), dense_shape=Tensor(\"gradient_tape/private__graph_conv_keras_model_9/graph_pool_18/Cast_7:0\", shape=(2,), dtype=int32))) to a dense Tensor of unknown shape. This may consume a large amount of memory.\n",
            "  \"shape. This may consume a large amount of memory.\" % value)\n"
          ]
        },
        {
          "output_type": "stream",
          "name": "stdout",
          "text": [
            "[0.4372532327105604, 0.6925715669297021, 0.5861498295858886, 0.663484468704159, 0.8518377128992045]\n",
            "[0.0, 0.628308237913578, 0.4983739794337415, 0.4967355472528167, 0.7032364358565029]\n"
          ]
        }
      ],
      "source": [
        "training_score_list = []\n",
        "validation_score_list = []\n",
        "transformers = []\n",
        "cv_folds = 5\n",
        "for i in tqdm(range(0,cv_folds)):\n",
        "    model = generate_graph_conv_model()\n",
        "    train_dataset, valid_dataset, test_dataset = splitter.train_valid_test_split(dataset)\n",
        "    model.fit(train_dataset)\n",
        "    train_scores = model.evaluate(train_dataset, metrics, transformers)\n",
        "    training_score_list.append(train_scores[\"mean-matthews_corrcoef\"])\n",
        "    validation_scores = model.evaluate(valid_dataset, metrics, transformers)\n",
        "    validation_score_list.append(validation_scores[\"mean-matthews_corrcoef\"])\n",
        "print(training_score_list)\n",
        "print(validation_score_list)"
      ]
    },
    {
      "cell_type": "code",
      "execution_count": 81,
      "metadata": {
        "colab": {
          "base_uri": "https://localhost:8080/"
        },
        "id": "x8WbOOLY3Njt",
        "outputId": "be87ec03-029b-4f4f-90e9-d14a0e33559e"
      },
      "outputs": [
        {
          "output_type": "execute_result",
          "data": {
            "text/plain": [
              "(0.646259362165903, 0.46533084009132786)"
            ]
          },
          "metadata": {},
          "execution_count": 81
        }
      ],
      "source": [
        "np.array(training_score_list).mean(), np.array(validation_score_list).mean()"
      ]
    },
    {
      "cell_type": "code",
      "execution_count": 82,
      "metadata": {
        "colab": {
          "base_uri": "https://localhost:8080/",
          "height": 265
        },
        "id": "q-Y7amrZNMzi",
        "outputId": "19060457-e7f3-4b70-9c5c-12a830fbeea7"
      },
      "outputs": [
        {
          "output_type": "display_data",
          "data": {
            "text/plain": [
              "<Figure size 432x288 with 1 Axes>"
            ],
            "image/png": "[encoded data removed]"
          },
          "metadata": {
            "image/png": {
              "width": 372,
              "height": 248
            },
            "needs_background": "light"
          }
        }
      ],
      "source": [
        "sns.boxplot(x=[\"training\"]*cv_folds+[\"validation\"]*cv_folds,y=training_score_list+validation_score_list);"
      ]
    },
    {
      "cell_type": "markdown",
      "metadata": {
        "id": "TIH_hSwPN-jt"
      },
      "source": [
        "## 검증 데이터 예측값 시각화"
      ]
    },
    {
      "cell_type": "code",
      "execution_count": 83,
      "metadata": {
        "id": "n6h8HG-fNSCZ"
      },
      "outputs": [],
      "source": [
        "pred = [x.flatten() for x in model.predict(valid_dataset)]"
      ]
    },
    {
      "cell_type": "code",
      "execution_count": 84,
      "metadata": {
        "colab": {
          "base_uri": "https://localhost:8080/",
          "height": 206
        },
        "id": "sfNkHHqfNkSe",
        "outputId": "af9a95b4-7e87-4f4b-cf9e-048cf0dc6ad4"
      },
      "outputs": [
        {
          "output_type": "execute_result",
          "data": {
            "text/plain": [
              "        neg       pos  active  \\\n",
              "0  0.987298  0.012702       0   \n",
              "1  0.996803  0.003197       0   \n",
              "2  0.988963  0.011037       0   \n",
              "3  0.999633  0.000367       0   \n",
              "4  0.996554  0.003446       0   \n",
              "\n",
              "                                              SMILES  \n",
              "0  CCOC(=O)c1c2cc3c(c(c2oc1N)c4ccc(cc4)Cl)c(c(o3)...  \n",
              "1  CC(C)C[C@H](c1cccs1)NC(=O)Nc2cc(c[nH]c2=O)C(F)...  \n",
              "2  O=C(CNC(=O)NC[C@@H]1CCCN(Cc2ccccc2)C1)Nc1ccc(F...  \n",
              "3             C[C@@H]1[C@@H](C(=O)O)CC[C@]1(N)C(=O)O  \n",
              "4  CCOCCCNC(=O)[C@@]1(c2cc(ccc2NC(=O)N1c3ccc(cc3)...  "
            ],
            "text/html": [
              "\n",
              "  <div id=\"df-fc3d65f6-6c5b-452e-89c5-01b1a8e07e1f\">\n",
              "    <div class=\"colab-df-container\">\n",
              "      <div>\n",
              "<style scoped>\n",
              "    .dataframe tbody tr th:only-of-type {\n",
              "        vertical-align: middle;\n",
              "    }\n",
              "\n",
              "    .dataframe tbody tr th {\n",
              "        vertical-align: top;\n",
              "    }\n",
              "\n",
              "    .dataframe thead th {\n",
              "        text-align: right;\n",
              "    }\n",
              "</style>\n",
              "<table border=\"1\" class=\"dataframe\">\n",
              "  <thead>\n",
              "    <tr style=\"text-align: right;\">\n",
              "      <th></th>\n",
              "      <th>neg</th>\n",
              "      <th>pos</th>\n",
              "      <th>active</th>\n",
              "      <th>SMILES</th>\n",
              "    </tr>\n",
              "  </thead>\n",
              "  <tbody>\n",
              "    <tr>\n",
              "      <th>0</th>\n",
              "      <td>0.987298</td>\n",
              "      <td>0.012702</td>\n",
              "      <td>0</td>\n",
              "      <td>CCOC(=O)c1c2cc3c(c(c2oc1N)c4ccc(cc4)Cl)c(c(o3)...</td>\n",
              "    </tr>\n",
              "    <tr>\n",
              "      <th>1</th>\n",
              "      <td>0.996803</td>\n",
              "      <td>0.003197</td>\n",
              "      <td>0</td>\n",
              "      <td>CC(C)C[C@H](c1cccs1)NC(=O)Nc2cc(c[nH]c2=O)C(F)...</td>\n",
              "    </tr>\n",
              "    <tr>\n",
              "      <th>2</th>\n",
              "      <td>0.988963</td>\n",
              "      <td>0.011037</td>\n",
              "      <td>0</td>\n",
              "      <td>O=C(CNC(=O)NC[C@@H]1CCCN(Cc2ccccc2)C1)Nc1ccc(F...</td>\n",
              "    </tr>\n",
              "    <tr>\n",
              "      <th>3</th>\n",
              "      <td>0.999633</td>\n",
              "      <td>0.000367</td>\n",
              "      <td>0</td>\n",
              "      <td>C[C@@H]1[C@@H](C(=O)O)CC[C@]1(N)C(=O)O</td>\n",
              "    </tr>\n",
              "    <tr>\n",
              "      <th>4</th>\n",
              "      <td>0.996554</td>\n",
              "      <td>0.003446</td>\n",
              "      <td>0</td>\n",
              "      <td>CCOCCCNC(=O)[C@@]1(c2cc(ccc2NC(=O)N1c3ccc(cc3)...</td>\n",
              "    </tr>\n",
              "  </tbody>\n",
              "</table>\n",
              "</div>\n",
              "      <button class=\"colab-df-convert\" onclick=\"convertToInteractive('df-fc3d65f6-6c5b-452e-89c5-01b1a8e07e1f')\"\n",
              "              title=\"Convert this dataframe to an interactive table.\"\n",
              "              style=\"display:none;\">\n",
              "        \n",
              "  <svg xmlns=\"http://www.w3.org/2000/svg\" height=\"24px\"viewBox=\"0 0 24 24\"\n",
              "       width=\"24px\">\n",
              "    <path d=\"M0 0h24v24H0V0z\" fill=\"none\"/>\n",
              "    <path d=\"M18.56 5.44l.94 2.06.94-2.06 2.06-.94-2.06-.94-.94-2.06-.94 2.06-2.06.94zm-11 1L8.5 8.5l.94-2.06 2.06-.94-2.06-.94L8.5 2.5l-.94 2.06-2.06.94zm10 10l.94 2.06.94-2.06 2.06-.94-2.06-.94-.94-2.06-.94 2.06-2.06.94z\"/><path d=\"M17.41 7.96l-1.37-1.37c-.4-.4-.92-.59-1.43-.59-.52 0-1.04.2-1.43.59L10.3 9.45l-7.72 7.72c-.78.78-.78 2.05 0 2.83L4 21.41c.39.39.9.59 1.41.59.51 0 1.02-.2 1.41-.59l7.78-7.78 2.81-2.81c.8-.78.8-2.07 0-2.86zM5.41 20L4 18.59l7.72-7.72 1.47 1.35L5.41 20z\"/>\n",
              "  </svg>\n",
              "      </button>\n",
              "      \n",
              "  <style>\n",
              "    .colab-df-container {\n",
              "      display:flex;\n",
              "      flex-wrap:wrap;\n",
              "      gap: 12px;\n",
              "    }\n",
              "\n",
              "    .colab-df-convert {\n",
              "      background-color: #E8F0FE;\n",
              "      border: none;\n",
              "      border-radius: 50%;\n",
              "      cursor: pointer;\n",
              "      display: none;\n",
              "      fill: #1967D2;\n",
              "      height: 32px;\n",
              "      padding: 0 0 0 0;\n",
              "      width: 32px;\n",
              "    }\n",
              "\n",
              "    .colab-df-convert:hover {\n",
              "      background-color: #E2EBFA;\n",
              "      box-shadow: 0px 1px 2px rgba(60, 64, 67, 0.3), 0px 1px 3px 1px rgba(60, 64, 67, 0.15);\n",
              "      fill: #174EA6;\n",
              "    }\n",
              "\n",
              "    [theme=dark] .colab-df-convert {\n",
              "      background-color: #3B4455;\n",
              "      fill: #D2E3FC;\n",
              "    }\n",
              "\n",
              "    [theme=dark] .colab-df-convert:hover {\n",
              "      background-color: #434B5C;\n",
              "      box-shadow: 0px 1px 3px 1px rgba(0, 0, 0, 0.15);\n",
              "      filter: drop-shadow(0px 1px 2px rgba(0, 0, 0, 0.3));\n",
              "      fill: #FFFFFF;\n",
              "    }\n",
              "  </style>\n",
              "\n",
              "      <script>\n",
              "        const buttonEl =\n",
              "          document.querySelector('#df-fc3d65f6-6c5b-452e-89c5-01b1a8e07e1f button.colab-df-convert');\n",
              "        buttonEl.style.display =\n",
              "          google.colab.kernel.accessAllowed ? 'block' : 'none';\n",
              "\n",
              "        async function convertToInteractive(key) {\n",
              "          const element = document.querySelector('#df-fc3d65f6-6c5b-452e-89c5-01b1a8e07e1f');\n",
              "          const dataTable =\n",
              "            await google.colab.kernel.invokeFunction('convertToInteractive',\n",
              "                                                     [key], {});\n",
              "          if (!dataTable) return;\n",
              "\n",
              "          const docLinkHtml = 'Like what you see? Visit the ' +\n",
              "            '<a target=\"_blank\" href=https://colab.research.google.com/notebooks/data_table.ipynb>data table notebook</a>'\n",
              "            + ' to learn more about interactive tables.';\n",
              "          element.innerHTML = '';\n",
              "          dataTable['output_type'] = 'display_data';\n",
              "          await google.colab.output.renderOutput(dataTable, element);\n",
              "          const docLink = document.createElement('div');\n",
              "          docLink.innerHTML = docLinkHtml;\n",
              "          element.appendChild(docLink);\n",
              "        }\n",
              "      </script>\n",
              "    </div>\n",
              "  </div>\n",
              "  "
            ]
          },
          "metadata": {},
          "execution_count": 84
        }
      ],
      "source": [
        "pred_df = pd.DataFrame(pred,columns=[\"neg\",\"pos\"])\n",
        "pred_df[\"active\"] = [int(x) for x in valid_dataset.y]\n",
        "pred_df[\"SMILES\"] = valid_dataset.ids\n",
        "pred_df.head()"
      ]
    },
    {
      "cell_type": "code",
      "execution_count": 85,
      "metadata": {
        "colab": {
          "base_uri": "https://localhost:8080/",
          "height": 833
        },
        "id": "TQO35DukNoVP",
        "outputId": "92acfbcf-f591-4ac0-c3d5-24610b3242cf"
      },
      "outputs": [
        {
          "output_type": "execute_result",
          "data": {
            "text/plain": [
              "          neg       pos  active  \\\n",
              "182  0.064177  0.935823       1   \n",
              "45   0.163631  0.836369       1   \n",
              "307  0.174785  0.825215       1   \n",
              "83   0.215128  0.784872       1   \n",
              "282  0.217134  0.782866       1   \n",
              "121  0.673555  0.326445       1   \n",
              "127  0.824408  0.175592       1   \n",
              "113  0.901901  0.098099       0   \n",
              "5    0.929523  0.070477       0   \n",
              "311  0.932293  0.067707       0   \n",
              "88   0.936949  0.063051       0   \n",
              "153  0.941100  0.058900       0   \n",
              "17   0.947239  0.052761       1   \n",
              "6    0.948831  0.051169       0   \n",
              "217  0.952464  0.047537       0   \n",
              "457  0.952508  0.047492       0   \n",
              "461  0.953306  0.046694       0   \n",
              "348  0.954374  0.045626       0   \n",
              "443  0.954856  0.045144       1   \n",
              "411  0.955745  0.044255       0   \n",
              "16   0.956060  0.043940       0   \n",
              "409  0.956842  0.043158       0   \n",
              "180  0.957992  0.042008       0   \n",
              "120  0.967222  0.032778       0   \n",
              "200  0.967399  0.032601       0   \n",
              "\n",
              "                                                SMILES  \n",
              "182  C[C@@H](c1ccccc1)NC(=O)c2cc(c[nH]2)c3c(cn[nH]3...  \n",
              "45   CN(Cc1ccccc1)C(=O)c2cc(c[nH]2)c3c(cn[nH]3)c4cc...  \n",
              "307  Cc1cnc(nc1c2cc([nH]c2)C(=O)N[C@H](CO)c3ccccc3)...  \n",
              "83   c1cc(cc(c1)Cl)c2cn[nH]c2c3cc([nH]c3)C(=O)NCc4c...  \n",
              "282  CNC(=O)Nc1ccc(cn1)CNc2c(scn2)C(=O)Nc3ccc4c(c3)...  \n",
              "121      c1c\\2c([nH]c1Br)C(=O)NCC/C2=C/3\\C(=O)N=C(N3)N  \n",
              "127        CC1CNC(=O)c2c1c3cc(ccc3[nH]2)C(=O)Nc4cccnc4  \n",
              "113                Cc1nc2cc(c(cc2s1)N)N[C@H](C)C(=O)NC  \n",
              "5    c1ccc(cc1)n2ccc(cc2=O)CN/C=C\\3/c4cc(ccc4C(=O)N...  \n",
              "311                c1c(cc(cc1Cl)Cl)n2c3c(cn2)c(ncn3)NN  \n",
              "88   CCOc1ccc2cc3c(c(sc3nc2c1)C(=O)N[C@H]4CCCC[C@@H...  \n",
              "153                     Cc1c(sc(n1)N)C(=O)NC2CCC(CC2)O  \n",
              "17        c1ccc(cc1)c2c(c3ccccn3n2)c4cc5c(n[nH]c5nn4)N  \n",
              "6                                   c1cc2nnc(n2cc1N)Br  \n",
              "217                              c1c(oc(c(c1=O)O)Br)CO  \n",
              "457  CCc1ccc(cc1)Nc2c(c3c(s2)c(c(c(n3)N)C#N)c4ccc(c...  \n",
              "461     Cc1cc(c(o1)C)C(=O)NNC(=O)c2cc(cn2C)S(=O)(=O)NC  \n",
              "348  O=c1[nH]c(O)c([C@H]2NCCc3c2[nH]c2ccc(Cl)cc32)c...  \n",
              "443     c1ccc2c(c1)C3=C(CCNC(=O)C3=N2)c4c([nH]c(n4)N)O  \n",
              "411             COc1ccc(cc1)c2c3c(c(ncn3)N4CCCCCC4)sn2  \n",
              "16   NC(=O)C1(N2CCCCC2)CCN(c2ccc(NC(=O)c3ccccc3)c(C...  \n",
              "409  c1ccc(cc1)CCCn2c(=O)c3ccc(cc3[nH]c2=O)[C@H]4N[...  \n",
              "180                          Nc1cc(C(=O)O)nc(C(=O)O)c1  \n",
              "120  CCCN([C@H](c1c(cc(cc1O)O)O)C(=O)NC(C)(C)C)C(=O...  \n",
              "200    c1ccc2c(c1)C(=O)[C@@]3([C@@]2(c4ccc(cc4N3)O)O)O  "
            ],
            "text/html": [
              "\n",
              "  <div id=\"df-bdf48013-8b64-47c7-8cff-a89614bb1d3c\">\n",
              "    <div class=\"colab-df-container\">\n",
              "      <div>\n",
              "<style scoped>\n",
              "    .dataframe tbody tr th:only-of-type {\n",
              "        vertical-align: middle;\n",
              "    }\n",
              "\n",
              "    .dataframe tbody tr th {\n",
              "        vertical-align: top;\n",
              "    }\n",
              "\n",
              "    .dataframe thead th {\n",
              "        text-align: right;\n",
              "    }\n",
              "</style>\n",
              "<table border=\"1\" class=\"dataframe\">\n",
              "  <thead>\n",
              "    <tr style=\"text-align: right;\">\n",
              "      <th></th>\n",
              "      <th>neg</th>\n",
              "      <th>pos</th>\n",
              "      <th>active</th>\n",
              "      <th>SMILES</th>\n",
              "    </tr>\n",
              "  </thead>\n",
              "  <tbody>\n",
              "    <tr>\n",
              "      <th>182</th>\n",
              "      <td>0.064177</td>\n",
              "      <td>0.935823</td>\n",
              "      <td>1</td>\n",
              "      <td>C[C@@H](c1ccccc1)NC(=O)c2cc(c[nH]2)c3c(cn[nH]3...</td>\n",
              "    </tr>\n",
              "    <tr>\n",
              "      <th>45</th>\n",
              "      <td>0.163631</td>\n",
              "      <td>0.836369</td>\n",
              "      <td>1</td>\n",
              "      <td>CN(Cc1ccccc1)C(=O)c2cc(c[nH]2)c3c(cn[nH]3)c4cc...</td>\n",
              "    </tr>\n",
              "    <tr>\n",
              "      <th>307</th>\n",
              "      <td>0.174785</td>\n",
              "      <td>0.825215</td>\n",
              "      <td>1</td>\n",
              "      <td>Cc1cnc(nc1c2cc([nH]c2)C(=O)N[C@H](CO)c3ccccc3)...</td>\n",
              "    </tr>\n",
              "    <tr>\n",
              "      <th>83</th>\n",
              "      <td>0.215128</td>\n",
              "      <td>0.784872</td>\n",
              "      <td>1</td>\n",
              "      <td>c1cc(cc(c1)Cl)c2cn[nH]c2c3cc([nH]c3)C(=O)NCc4c...</td>\n",
              "    </tr>\n",
              "    <tr>\n",
              "      <th>282</th>\n",
              "      <td>0.217134</td>\n",
              "      <td>0.782866</td>\n",
              "      <td>1</td>\n",
              "      <td>CNC(=O)Nc1ccc(cn1)CNc2c(scn2)C(=O)Nc3ccc4c(c3)...</td>\n",
              "    </tr>\n",
              "    <tr>\n",
              "      <th>121</th>\n",
              "      <td>0.673555</td>\n",
              "      <td>0.326445</td>\n",
              "      <td>1</td>\n",
              "      <td>c1c\\2c([nH]c1Br)C(=O)NCC/C2=C/3\\C(=O)N=C(N3)N</td>\n",
              "    </tr>\n",
              "    <tr>\n",
              "      <th>127</th>\n",
              "      <td>0.824408</td>\n",
              "      <td>0.175592</td>\n",
              "      <td>1</td>\n",
              "      <td>CC1CNC(=O)c2c1c3cc(ccc3[nH]2)C(=O)Nc4cccnc4</td>\n",
              "    </tr>\n",
              "    <tr>\n",
              "      <th>113</th>\n",
              "      <td>0.901901</td>\n",
              "      <td>0.098099</td>\n",
              "      <td>0</td>\n",
              "      <td>Cc1nc2cc(c(cc2s1)N)N[C@H](C)C(=O)NC</td>\n",
              "    </tr>\n",
              "    <tr>\n",
              "      <th>5</th>\n",
              "      <td>0.929523</td>\n",
              "      <td>0.070477</td>\n",
              "      <td>0</td>\n",
              "      <td>c1ccc(cc1)n2ccc(cc2=O)CN/C=C\\3/c4cc(ccc4C(=O)N...</td>\n",
              "    </tr>\n",
              "    <tr>\n",
              "      <th>311</th>\n",
              "      <td>0.932293</td>\n",
              "      <td>0.067707</td>\n",
              "      <td>0</td>\n",
              "      <td>c1c(cc(cc1Cl)Cl)n2c3c(cn2)c(ncn3)NN</td>\n",
              "    </tr>\n",
              "    <tr>\n",
              "      <th>88</th>\n",
              "      <td>0.936949</td>\n",
              "      <td>0.063051</td>\n",
              "      <td>0</td>\n",
              "      <td>CCOc1ccc2cc3c(c(sc3nc2c1)C(=O)N[C@H]4CCCC[C@@H...</td>\n",
              "    </tr>\n",
              "    <tr>\n",
              "      <th>153</th>\n",
              "      <td>0.941100</td>\n",
              "      <td>0.058900</td>\n",
              "      <td>0</td>\n",
              "      <td>Cc1c(sc(n1)N)C(=O)NC2CCC(CC2)O</td>\n",
              "    </tr>\n",
              "    <tr>\n",
              "      <th>17</th>\n",
              "      <td>0.947239</td>\n",
              "      <td>0.052761</td>\n",
              "      <td>1</td>\n",
              "      <td>c1ccc(cc1)c2c(c3ccccn3n2)c4cc5c(n[nH]c5nn4)N</td>\n",
              "    </tr>\n",
              "    <tr>\n",
              "      <th>6</th>\n",
              "      <td>0.948831</td>\n",
              "      <td>0.051169</td>\n",
              "      <td>0</td>\n",
              "      <td>c1cc2nnc(n2cc1N)Br</td>\n",
              "    </tr>\n",
              "    <tr>\n",
              "      <th>217</th>\n",
              "      <td>0.952464</td>\n",
              "      <td>0.047537</td>\n",
              "      <td>0</td>\n",
              "      <td>c1c(oc(c(c1=O)O)Br)CO</td>\n",
              "    </tr>\n",
              "    <tr>\n",
              "      <th>457</th>\n",
              "      <td>0.952508</td>\n",
              "      <td>0.047492</td>\n",
              "      <td>0</td>\n",
              "      <td>CCc1ccc(cc1)Nc2c(c3c(s2)c(c(c(n3)N)C#N)c4ccc(c...</td>\n",
              "    </tr>\n",
              "    <tr>\n",
              "      <th>461</th>\n",
              "      <td>0.953306</td>\n",
              "      <td>0.046694</td>\n",
              "      <td>0</td>\n",
              "      <td>Cc1cc(c(o1)C)C(=O)NNC(=O)c2cc(cn2C)S(=O)(=O)NC</td>\n",
              "    </tr>\n",
              "    <tr>\n",
              "      <th>348</th>\n",
              "      <td>0.954374</td>\n",
              "      <td>0.045626</td>\n",
              "      <td>0</td>\n",
              "      <td>O=c1[nH]c(O)c([C@H]2NCCc3c2[nH]c2ccc(Cl)cc32)c...</td>\n",
              "    </tr>\n",
              "    <tr>\n",
              "      <th>443</th>\n",
              "      <td>0.954856</td>\n",
              "      <td>0.045144</td>\n",
              "      <td>1</td>\n",
              "      <td>c1ccc2c(c1)C3=C(CCNC(=O)C3=N2)c4c([nH]c(n4)N)O</td>\n",
              "    </tr>\n",
              "    <tr>\n",
              "      <th>411</th>\n",
              "      <td>0.955745</td>\n",
              "      <td>0.044255</td>\n",
              "      <td>0</td>\n",
              "      <td>COc1ccc(cc1)c2c3c(c(ncn3)N4CCCCCC4)sn2</td>\n",
              "    </tr>\n",
              "    <tr>\n",
              "      <th>16</th>\n",
              "      <td>0.956060</td>\n",
              "      <td>0.043940</td>\n",
              "      <td>0</td>\n",
              "      <td>NC(=O)C1(N2CCCCC2)CCN(c2ccc(NC(=O)c3ccccc3)c(C...</td>\n",
              "    </tr>\n",
              "    <tr>\n",
              "      <th>409</th>\n",
              "      <td>0.956842</td>\n",
              "      <td>0.043158</td>\n",
              "      <td>0</td>\n",
              "      <td>c1ccc(cc1)CCCn2c(=O)c3ccc(cc3[nH]c2=O)[C@H]4N[...</td>\n",
              "    </tr>\n",
              "    <tr>\n",
              "      <th>180</th>\n",
              "      <td>0.957992</td>\n",
              "      <td>0.042008</td>\n",
              "      <td>0</td>\n",
              "      <td>Nc1cc(C(=O)O)nc(C(=O)O)c1</td>\n",
              "    </tr>\n",
              "    <tr>\n",
              "      <th>120</th>\n",
              "      <td>0.967222</td>\n",
              "      <td>0.032778</td>\n",
              "      <td>0</td>\n",
              "      <td>CCCN([C@H](c1c(cc(cc1O)O)O)C(=O)NC(C)(C)C)C(=O...</td>\n",
              "    </tr>\n",
              "    <tr>\n",
              "      <th>200</th>\n",
              "      <td>0.967399</td>\n",
              "      <td>0.032601</td>\n",
              "      <td>0</td>\n",
              "      <td>c1ccc2c(c1)C(=O)[C@@]3([C@@]2(c4ccc(cc4N3)O)O)O</td>\n",
              "    </tr>\n",
              "  </tbody>\n",
              "</table>\n",
              "</div>\n",
              "      <button class=\"colab-df-convert\" onclick=\"convertToInteractive('df-bdf48013-8b64-47c7-8cff-a89614bb1d3c')\"\n",
              "              title=\"Convert this dataframe to an interactive table.\"\n",
              "              style=\"display:none;\">\n",
              "        \n",
              "  <svg xmlns=\"http://www.w3.org/2000/svg\" height=\"24px\"viewBox=\"0 0 24 24\"\n",
              "       width=\"24px\">\n",
              "    <path d=\"M0 0h24v24H0V0z\" fill=\"none\"/>\n",
              "    <path d=\"M18.56 5.44l.94 2.06.94-2.06 2.06-.94-2.06-.94-.94-2.06-.94 2.06-2.06.94zm-11 1L8.5 8.5l.94-2.06 2.06-.94-2.06-.94L8.5 2.5l-.94 2.06-2.06.94zm10 10l.94 2.06.94-2.06 2.06-.94-2.06-.94-.94-2.06-.94 2.06-2.06.94z\"/><path d=\"M17.41 7.96l-1.37-1.37c-.4-.4-.92-.59-1.43-.59-.52 0-1.04.2-1.43.59L10.3 9.45l-7.72 7.72c-.78.78-.78 2.05 0 2.83L4 21.41c.39.39.9.59 1.41.59.51 0 1.02-.2 1.41-.59l7.78-7.78 2.81-2.81c.8-.78.8-2.07 0-2.86zM5.41 20L4 18.59l7.72-7.72 1.47 1.35L5.41 20z\"/>\n",
              "  </svg>\n",
              "      </button>\n",
              "      \n",
              "  <style>\n",
              "    .colab-df-container {\n",
              "      display:flex;\n",
              "      flex-wrap:wrap;\n",
              "      gap: 12px;\n",
              "    }\n",
              "\n",
              "    .colab-df-convert {\n",
              "      background-color: #E8F0FE;\n",
              "      border: none;\n",
              "      border-radius: 50%;\n",
              "      cursor: pointer;\n",
              "      display: none;\n",
              "      fill: #1967D2;\n",
              "      height: 32px;\n",
              "      padding: 0 0 0 0;\n",
              "      width: 32px;\n",
              "    }\n",
              "\n",
              "    .colab-df-convert:hover {\n",
              "      background-color: #E2EBFA;\n",
              "      box-shadow: 0px 1px 2px rgba(60, 64, 67, 0.3), 0px 1px 3px 1px rgba(60, 64, 67, 0.15);\n",
              "      fill: #174EA6;\n",
              "    }\n",
              "\n",
              "    [theme=dark] .colab-df-convert {\n",
              "      background-color: #3B4455;\n",
              "      fill: #D2E3FC;\n",
              "    }\n",
              "\n",
              "    [theme=dark] .colab-df-convert:hover {\n",
              "      background-color: #434B5C;\n",
              "      box-shadow: 0px 1px 3px 1px rgba(0, 0, 0, 0.15);\n",
              "      filter: drop-shadow(0px 1px 2px rgba(0, 0, 0, 0.3));\n",
              "      fill: #FFFFFF;\n",
              "    }\n",
              "  </style>\n",
              "\n",
              "      <script>\n",
              "        const buttonEl =\n",
              "          document.querySelector('#df-bdf48013-8b64-47c7-8cff-a89614bb1d3c button.colab-df-convert');\n",
              "        buttonEl.style.display =\n",
              "          google.colab.kernel.accessAllowed ? 'block' : 'none';\n",
              "\n",
              "        async function convertToInteractive(key) {\n",
              "          const element = document.querySelector('#df-bdf48013-8b64-47c7-8cff-a89614bb1d3c');\n",
              "          const dataTable =\n",
              "            await google.colab.kernel.invokeFunction('convertToInteractive',\n",
              "                                                     [key], {});\n",
              "          if (!dataTable) return;\n",
              "\n",
              "          const docLinkHtml = 'Like what you see? Visit the ' +\n",
              "            '<a target=\"_blank\" href=https://colab.research.google.com/notebooks/data_table.ipynb>data table notebook</a>'\n",
              "            + ' to learn more about interactive tables.';\n",
              "          element.innerHTML = '';\n",
              "          dataTable['output_type'] = 'display_data';\n",
              "          await google.colab.output.renderOutput(dataTable, element);\n",
              "          const docLink = document.createElement('div');\n",
              "          docLink.innerHTML = docLinkHtml;\n",
              "          element.appendChild(docLink);\n",
              "        }\n",
              "      </script>\n",
              "    </div>\n",
              "  </div>\n",
              "  "
            ]
          },
          "metadata": {},
          "execution_count": 85
        }
      ],
      "source": [
        "pred_df.sort_values(\"pos\",ascending=False).head(25)"
      ]
    },
    {
      "cell_type": "code",
      "execution_count": 86,
      "metadata": {
        "colab": {
          "base_uri": "https://localhost:8080/",
          "height": 296
        },
        "id": "PKH1XjfD1X3c",
        "outputId": "23131c14-e579-42cf-87e2-14153af7421b"
      },
      "outputs": [
        {
          "output_type": "execute_result",
          "data": {
            "text/plain": [
              "<matplotlib.axes._subplots.AxesSubplot at 0x7fbe3cef4d10>"
            ]
          },
          "metadata": {},
          "execution_count": 86
        },
        {
          "output_type": "display_data",
          "data": {
            "text/plain": [
              "<Figure size 432x288 with 1 Axes>"
            ],
            "image/png": "[encoded data removed]"
          },
          "metadata": {
            "image/png": {
              "width": 385,
              "height": 261
            },
            "needs_background": "light"
          }
        }
      ],
      "source": [
        "sns.boxplot(x=pred_df.active,y=pred_df.pos)"
      ]
    },
    {
      "cell_type": "markdown",
      "metadata": {
        "id": "-XhDRA1o2q0E"
      },
      "source": [
        "- 위 그래프를 보면 활성 분자와 비활성 분자를 잘 구분하고 있는 것을 알 수 있다\n",
        "- False Negative 샘플 찾기"
      ]
    },
    {
      "cell_type": "code",
      "execution_count": 87,
      "metadata": {
        "id": "ac4wexF92kbu"
      },
      "outputs": [],
      "source": [
        "false_negative_df = pred_df.query(\"active == 1 & pos < 0.5\").copy()"
      ]
    },
    {
      "cell_type": "code",
      "execution_count": 88,
      "metadata": {
        "colab": {
          "base_uri": "https://localhost:8080/",
          "height": 1000
        },
        "id": "CG6W5TXT4Gwq",
        "outputId": "174f5273-e3f9-4823-d4fa-d22286cf06fa"
      },
      "outputs": [
        {
          "output_type": "execute_result",
          "data": {
            "text/plain": [
              "          neg       pos  active  \\\n",
              "17   0.947239  0.052761       1   \n",
              "70   0.996307  0.003693       1   \n",
              "121  0.673555  0.326445       1   \n",
              "127  0.824408  0.175592       1   \n",
              "443  0.954856  0.045144       1   \n",
              "\n",
              "                                                SMILES  \\\n",
              "17        c1ccc(cc1)c2c(c3ccccn3n2)c4cc5c(n[nH]c5nn4)N   \n",
              "70   C[C@@]12[C@@H]([C@@H](CC(O1)n3c4ccccc4c5c3c6n2...   \n",
              "121      c1c\\2c([nH]c1Br)C(=O)NCC/C2=C/3\\C(=O)N=C(N3)N   \n",
              "127        CC1CNC(=O)c2c1c3cc(ccc3[nH]2)C(=O)Nc4cccnc4   \n",
              "443     c1ccc2c(c1)C3=C(CCNC(=O)C3=N2)c4c([nH]c(n4)N)O   \n",
              "\n",
              "                                                   Mol  \n",
              "17   <img data-content=\"rdkit/molecule\" src=\"data:i...  \n",
              "70   <img data-content=\"rdkit/molecule\" src=\"data:i...  \n",
              "121  <img data-content=\"rdkit/molecule\" src=\"data:i...  \n",
              "127  <img data-content=\"rdkit/molecule\" src=\"data:i...  \n",
              "443  <img data-content=\"rdkit/molecule\" src=\"data:i...  "
            ],
            "text/html": [
              "\n",
              "  <div id=\"df-c44008e0-c66f-439b-9ddb-07635500003b\">\n",
              "    <div class=\"colab-df-container\">\n",
              "      <div>\n",
              "<style scoped>\n",
              "    .dataframe tbody tr th:only-of-type {\n",
              "        vertical-align: middle;\n",
              "    }\n",
              "\n",
              "    .dataframe tbody tr th {\n",
              "        vertical-align: top;\n",
              "    }\n",
              "\n",
              "    .dataframe thead th {\n",
              "        text-align: right;\n",
              "    }\n",
              "</style>\n",
              "<table border=\"1\" class=\"dataframe\">\n",
              "  <thead>\n",
              "    <tr style=\"text-align: right;\">\n",
              "      <th></th>\n",
              "      <th>neg</th>\n",
              "      <th>pos</th>\n",
              "      <th>active</th>\n",
              "      <th>SMILES</th>\n",
              "      <th>Mol</th>\n",
              "    </tr>\n",
              "  </thead>\n",
              "  <tbody>\n",
              "    <tr>\n",
              "      <th>17</th>\n",
              "      <td>0.947239</td>\n",
              "      <td>0.052761</td>\n",
              "      <td>1</td>\n",
              "      <td>c1ccc(cc1)c2c(c3ccccn3n2)c4cc5c(n[nH]c5nn4)N</td>\n",
              "      <td style=\"text-align: center;\"><img data-content=\"rdkit/molecule\" src=\"data:image/png;base64,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\" alt=\"Mol\"/></td>\n",
              "    </tr>\n",
              "    <tr>\n",
              "      <th>70</th>\n",
              "      <td>0.996307</td>\n",
              "      <td>0.003693</td>\n",
              "      <td>1</td>\n",
              "      <td>C[C@@]12[C@@H]([C@@H](CC(O1)n3c4ccccc4c5c3c6n2...</td>\n",
              "      <td style=\"text-align: center;\"><img data-content=\"rdkit/molecule\" src=\"data:image/png;base64,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\" alt=\"Mol\"/></td>\n",
              "    </tr>\n",
              "    <tr>\n",
              "      <th>121</th>\n",
              "      <td>0.673555</td>\n",
              "      <td>0.326445</td>\n",
              "      <td>1</td>\n",
              "      <td>c1c\\2c([nH]c1Br)C(=O)NCC/C2=C/3\\C(=O)N=C(N3)N</td>\n",
              "      <td style=\"text-align: center;\"><img data-content=\"rdkit/molecule\" src=\"data:image/png;base64,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\" alt=\"Mol\"/></td>\n",
              "    </tr>\n",
              "    <tr>\n",
              "      <th>127</th>\n",
              "      <td>0.824408</td>\n",
              "      <td>0.175592</td>\n",
              "      <td>1</td>\n",
              "      <td>CC1CNC(=O)c2c1c3cc(ccc3[nH]2)C(=O)Nc4cccnc4</td>\n",
              "      <td style=\"text-align: center;\"><img data-content=\"rdkit/molecule\" src=\"data:image/png;base64,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\" alt=\"Mol\"/></td>\n",
              "    </tr>\n",
              "    <tr>\n",
              "      <th>443</th>\n",
              "      <td>0.954856</td>\n",
              "      <td>0.045144</td>\n",
              "      <td>1</td>\n",
              "      <td>c1ccc2c(c1)C3=C(CCNC(=O)C3=N2)c4c([nH]c(n4)N)O</td>\n",
              "      <td style=\"text-align: center;\"><img data-content=\"rdkit/molecule\" src=\"data:image/png;base64,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\" alt=\"Mol\"/></td>\n",
              "    </tr>\n",
              "  </tbody>\n",
              "</table>\n",
              "</div>\n",
              "      <button class=\"colab-df-convert\" onclick=\"convertToInteractive('df-c44008e0-c66f-439b-9ddb-07635500003b')\"\n",
              "              title=\"Convert this dataframe to an interactive table.\"\n",
              "              style=\"display:none;\">\n",
              "        \n",
              "  <svg xmlns=\"http://www.w3.org/2000/svg\" height=\"24px\"viewBox=\"0 0 24 24\"\n",
              "       width=\"24px\">\n",
              "    <path d=\"M0 0h24v24H0V0z\" fill=\"none\"/>\n",
              "    <path d=\"M18.56 5.44l.94 2.06.94-2.06 2.06-.94-2.06-.94-.94-2.06-.94 2.06-2.06.94zm-11 1L8.5 8.5l.94-2.06 2.06-.94-2.06-.94L8.5 2.5l-.94 2.06-2.06.94zm10 10l.94 2.06.94-2.06 2.06-.94-2.06-.94-.94-2.06-.94 2.06-2.06.94z\"/><path d=\"M17.41 7.96l-1.37-1.37c-.4-.4-.92-.59-1.43-.59-.52 0-1.04.2-1.43.59L10.3 9.45l-7.72 7.72c-.78.78-.78 2.05 0 2.83L4 21.41c.39.39.9.59 1.41.59.51 0 1.02-.2 1.41-.59l7.78-7.78 2.81-2.81c.8-.78.8-2.07 0-2.86zM5.41 20L4 18.59l7.72-7.72 1.47 1.35L5.41 20z\"/>\n",
              "  </svg>\n",
              "      </button>\n",
              "      \n",
              "  <style>\n",
              "    .colab-df-container {\n",
              "      display:flex;\n",
              "      flex-wrap:wrap;\n",
              "      gap: 12px;\n",
              "    }\n",
              "\n",
              "    .colab-df-convert {\n",
              "      background-color: #E8F0FE;\n",
              "      border: none;\n",
              "      border-radius: 50%;\n",
              "      cursor: pointer;\n",
              "      display: none;\n",
              "      fill: #1967D2;\n",
              "      height: 32px;\n",
              "      padding: 0 0 0 0;\n",
              "      width: 32px;\n",
              "    }\n",
              "\n",
              "    .colab-df-convert:hover {\n",
              "      background-color: #E2EBFA;\n",
              "      box-shadow: 0px 1px 2px rgba(60, 64, 67, 0.3), 0px 1px 3px 1px rgba(60, 64, 67, 0.15);\n",
              "      fill: #174EA6;\n",
              "    }\n",
              "\n",
              "    [theme=dark] .colab-df-convert {\n",
              "      background-color: #3B4455;\n",
              "      fill: #D2E3FC;\n",
              "    }\n",
              "\n",
              "    [theme=dark] .colab-df-convert:hover {\n",
              "      background-color: #434B5C;\n",
              "      box-shadow: 0px 1px 3px 1px rgba(0, 0, 0, 0.15);\n",
              "      filter: drop-shadow(0px 1px 2px rgba(0, 0, 0, 0.3));\n",
              "      fill: #FFFFFF;\n",
              "    }\n",
              "  </style>\n",
              "\n",
              "      <script>\n",
              "        const buttonEl =\n",
              "          document.querySelector('#df-c44008e0-c66f-439b-9ddb-07635500003b button.colab-df-convert');\n",
              "        buttonEl.style.display =\n",
              "          google.colab.kernel.accessAllowed ? 'block' : 'none';\n",
              "\n",
              "        async function convertToInteractive(key) {\n",
              "          const element = document.querySelector('#df-c44008e0-c66f-439b-9ddb-07635500003b');\n",
              "          const dataTable =\n",
              "            await google.colab.kernel.invokeFunction('convertToInteractive',\n",
              "                                                     [key], {});\n",
              "          if (!dataTable) return;\n",
              "\n",
              "          const docLinkHtml = 'Like what you see? Visit the ' +\n",
              "            '<a target=\"_blank\" href=https://colab.research.google.com/notebooks/data_table.ipynb>data table notebook</a>'\n",
              "            + ' to learn more about interactive tables.';\n",
              "          element.innerHTML = '';\n",
              "          dataTable['output_type'] = 'display_data';\n",
              "          await google.colab.output.renderOutput(dataTable, element);\n",
              "          const docLink = document.createElement('div');\n",
              "          docLink.innerHTML = docLinkHtml;\n",
              "          element.appendChild(docLink);\n",
              "        }\n",
              "      </script>\n",
              "    </div>\n",
              "  </div>\n",
              "  "
            ]
          },
          "metadata": {},
          "execution_count": 88
        }
      ],
      "source": [
        "PandasTools.AddMoleculeColumnToFrame(false_negative_df,\"SMILES\",\"Mol\")\n",
        "false_negative_df"
      ]
    },
    {
      "cell_type": "markdown",
      "metadata": {
        "id": "MoBBTdBA7dfL"
      },
      "source": [
        "- False Positive 샘플 찾기"
      ]
    },
    {
      "cell_type": "code",
      "execution_count": 89,
      "metadata": {
        "colab": {
          "base_uri": "https://localhost:8080/",
          "height": 49
        },
        "id": "hqgI9dbe4N51",
        "outputId": "a30bd744-ab17-44d8-df94-664745182b86"
      },
      "outputs": [
        {
          "output_type": "execute_result",
          "data": {
            "text/plain": [
              "Empty DataFrame\n",
              "Columns: [neg, pos, active, SMILES, Mol]\n",
              "Index: []"
            ],
            "text/html": [
              "\n",
              "  <div id=\"df-5b4b419c-e1e6-44a9-97c2-14471b29c67e\">\n",
              "    <div class=\"colab-df-container\">\n",
              "      <div>\n",
              "<style scoped>\n",
              "    .dataframe tbody tr th:only-of-type {\n",
              "        vertical-align: middle;\n",
              "    }\n",
              "\n",
              "    .dataframe tbody tr th {\n",
              "        vertical-align: top;\n",
              "    }\n",
              "\n",
              "    .dataframe thead th {\n",
              "        text-align: right;\n",
              "    }\n",
              "</style>\n",
              "<table border=\"1\" class=\"dataframe\">\n",
              "  <thead>\n",
              "    <tr style=\"text-align: right;\">\n",
              "      <th></th>\n",
              "      <th>neg</th>\n",
              "      <th>pos</th>\n",
              "      <th>active</th>\n",
              "      <th>SMILES</th>\n",
              "      <th>Mol</th>\n",
              "    </tr>\n",
              "  </thead>\n",
              "  <tbody>\n",
              "  </tbody>\n",
              "</table>\n",
              "</div>\n",
              "      <button class=\"colab-df-convert\" onclick=\"convertToInteractive('df-5b4b419c-e1e6-44a9-97c2-14471b29c67e')\"\n",
              "              title=\"Convert this dataframe to an interactive table.\"\n",
              "              style=\"display:none;\">\n",
              "        \n",
              "  <svg xmlns=\"http://www.w3.org/2000/svg\" height=\"24px\"viewBox=\"0 0 24 24\"\n",
              "       width=\"24px\">\n",
              "    <path d=\"M0 0h24v24H0V0z\" fill=\"none\"/>\n",
              "    <path d=\"M18.56 5.44l.94 2.06.94-2.06 2.06-.94-2.06-.94-.94-2.06-.94 2.06-2.06.94zm-11 1L8.5 8.5l.94-2.06 2.06-.94-2.06-.94L8.5 2.5l-.94 2.06-2.06.94zm10 10l.94 2.06.94-2.06 2.06-.94-2.06-.94-.94-2.06-.94 2.06-2.06.94z\"/><path d=\"M17.41 7.96l-1.37-1.37c-.4-.4-.92-.59-1.43-.59-.52 0-1.04.2-1.43.59L10.3 9.45l-7.72 7.72c-.78.78-.78 2.05 0 2.83L4 21.41c.39.39.9.59 1.41.59.51 0 1.02-.2 1.41-.59l7.78-7.78 2.81-2.81c.8-.78.8-2.07 0-2.86zM5.41 20L4 18.59l7.72-7.72 1.47 1.35L5.41 20z\"/>\n",
              "  </svg>\n",
              "      </button>\n",
              "      \n",
              "  <style>\n",
              "    .colab-df-container {\n",
              "      display:flex;\n",
              "      flex-wrap:wrap;\n",
              "      gap: 12px;\n",
              "    }\n",
              "\n",
              "    .colab-df-convert {\n",
              "      background-color: #E8F0FE;\n",
              "      border: none;\n",
              "      border-radius: 50%;\n",
              "      cursor: pointer;\n",
              "      display: none;\n",
              "      fill: #1967D2;\n",
              "      height: 32px;\n",
              "      padding: 0 0 0 0;\n",
              "      width: 32px;\n",
              "    }\n",
              "\n",
              "    .colab-df-convert:hover {\n",
              "      background-color: #E2EBFA;\n",
              "      box-shadow: 0px 1px 2px rgba(60, 64, 67, 0.3), 0px 1px 3px 1px rgba(60, 64, 67, 0.15);\n",
              "      fill: #174EA6;\n",
              "    }\n",
              "\n",
              "    [theme=dark] .colab-df-convert {\n",
              "      background-color: #3B4455;\n",
              "      fill: #D2E3FC;\n",
              "    }\n",
              "\n",
              "    [theme=dark] .colab-df-convert:hover {\n",
              "      background-color: #434B5C;\n",
              "      box-shadow: 0px 1px 3px 1px rgba(0, 0, 0, 0.15);\n",
              "      filter: drop-shadow(0px 1px 2px rgba(0, 0, 0, 0.3));\n",
              "      fill: #FFFFFF;\n",
              "    }\n",
              "  </style>\n",
              "\n",
              "      <script>\n",
              "        const buttonEl =\n",
              "          document.querySelector('#df-5b4b419c-e1e6-44a9-97c2-14471b29c67e button.colab-df-convert');\n",
              "        buttonEl.style.display =\n",
              "          google.colab.kernel.accessAllowed ? 'block' : 'none';\n",
              "\n",
              "        async function convertToInteractive(key) {\n",
              "          const element = document.querySelector('#df-5b4b419c-e1e6-44a9-97c2-14471b29c67e');\n",
              "          const dataTable =\n",
              "            await google.colab.kernel.invokeFunction('convertToInteractive',\n",
              "                                                     [key], {});\n",
              "          if (!dataTable) return;\n",
              "\n",
              "          const docLinkHtml = 'Like what you see? Visit the ' +\n",
              "            '<a target=\"_blank\" href=https://colab.research.google.com/notebooks/data_table.ipynb>data table notebook</a>'\n",
              "            + ' to learn more about interactive tables.';\n",
              "          element.innerHTML = '';\n",
              "          dataTable['output_type'] = 'display_data';\n",
              "          await google.colab.output.renderOutput(dataTable, element);\n",
              "          const docLink = document.createElement('div');\n",
              "          docLink.innerHTML = docLinkHtml;\n",
              "          element.appendChild(docLink);\n",
              "        }\n",
              "      </script>\n",
              "    </div>\n",
              "  </div>\n",
              "  "
            ]
          },
          "metadata": {},
          "execution_count": 89
        }
      ],
      "source": [
        "false_positive_df = pred_df.query(\"active == 0 & pos > 0.5\").copy()\n",
        "PandasTools.AddMoleculeColumnToFrame(false_positive_df,\"SMILES\",\"Mol\")\n",
        "false_positive_df"
      ]
    },
    {
      "cell_type": "markdown",
      "metadata": {
        "id": "A0LlQnRs7yyb"
      },
      "source": [
        "## 모든 데이터로 학습을 시킨다"
      ]
    },
    {
      "cell_type": "code",
      "execution_count": 90,
      "metadata": {
        "colab": {
          "base_uri": "https://localhost:8080/"
        },
        "id": "HNwLHqXI4Zqc",
        "outputId": "3929b8b1-d9cb-45f8-cb97-9257a6adce5e"
      },
      "outputs": [
        {
          "output_type": "execute_result",
          "data": {
            "text/plain": [
              "0.000855337642133236"
            ]
          },
          "metadata": {},
          "execution_count": 90
        }
      ],
      "source": [
        "model.fit(dataset)"
      ]
    },
    {
      "cell_type": "markdown",
      "metadata": {
        "id": "RyY-78pg9Tki"
      },
      "source": [
        "- 기존의 알고 있는 데이터셋으로 모델을 만들고 새로운 분자의 활성을 예측하게 된다.\n",
        "- 위에서는 ERK2 단백질의 활성을 억제하는 분자를 예측하는 모델을 만들었다. 여기에 새로운 데이터셋을 사용하여 분자의 활성을 예측해보겠다\n",
        " - ZINC 데이터베이스의 일부를 사용하겠다\n",
        " - 생물학적 분석이 어려운 분자들을 제거하고 사용해야 한다 (ChEMBL 데이터베이스를 사용하겠다)\n",
        " - rd_filters.py 사용"
      ]
    },
    {
      "cell_type": "code",
      "execution_count": 91,
      "metadata": {
        "id": "zv3RnS38F_UA"
      },
      "outputs": [],
      "source": [
        "# !pwd"
      ]
    },
    {
      "cell_type": "code",
      "execution_count": 92,
      "metadata": {
        "id": "wamL4t7fGKO8"
      },
      "outputs": [],
      "source": [
        "# !git clone https://github.com/PatWalters/rd_filters"
      ]
    },
    {
      "cell_type": "code",
      "execution_count": 93,
      "metadata": {
        "id": "b1NViqSRGZMM"
      },
      "outputs": [],
      "source": [
        "# %cd rd_filters\n",
        "# !pip install ."
      ]
    },
    {
      "cell_type": "code",
      "execution_count": 94,
      "metadata": {
        "id": "nXXMgXJUGmDn"
      },
      "outputs": [],
      "source": [
        "# !pwd"
      ]
    },
    {
      "cell_type": "code",
      "execution_count": 95,
      "metadata": {
        "id": "4FJtgKhpGyL6"
      },
      "outputs": [],
      "source": [
        "# %cd rd_filters"
      ]
    },
    {
      "cell_type": "code",
      "execution_count": 96,
      "metadata": {
        "id": "QWPMCDVBG3u1"
      },
      "outputs": [],
      "source": [
        "# !ls"
      ]
    },
    {
      "cell_type": "code",
      "execution_count": 97,
      "metadata": {
        "id": "6Ug_sVkwBofD"
      },
      "outputs": [],
      "source": [
        "# !python rd_filters.py -h"
      ]
    },
    {
      "cell_type": "code",
      "execution_count": 98,
      "metadata": {
        "id": "hBSaoBRfBtft"
      },
      "outputs": [],
      "source": [
        "# !pwd"
      ]
    },
    {
      "cell_type": "code",
      "execution_count": 99,
      "metadata": {
        "id": "YJxwXzFVHnk1"
      },
      "outputs": [],
      "source": [
        "# !curl -o zinc_100k.smi https://raw.githubusercontent.com/deepchem/DeepLearningLifeSciences/master/Chapter11/zinc_100k.smi"
      ]
    },
    {
      "cell_type": "code",
      "execution_count": 100,
      "metadata": {
        "id": "_hGYJy4rJCin"
      },
      "outputs": [],
      "source": [
        "# !ls"
      ]
    },
    {
      "cell_type": "code",
      "execution_count": 101,
      "metadata": {
        "id": "5ZrMRyXmIvMG"
      },
      "outputs": [],
      "source": [
        "# !python rd_filters.py filter --in zinc_100k.smi --prefix zinc"
      ]
    },
    {
      "cell_type": "markdown",
      "metadata": {
        "id": "mHoAN8f1JghD"
      },
      "source": [
        "- Inpharmatica 규칙을 사용했으며 이는 생물학적 분석이 어려운 화합물을 제거하기 위해 사용한다\n",
        "- SMILE 문자열 필터를 통과한 데이터는 zinc.smi 파일에 저장되며, 특정 구조를 형성한 화합물에 대한 정보는 zinc.csv에 저장된다\n",
        "- 전체 분자중 68%가 통과하였다"
      ]
    },
    {
      "cell_type": "markdown",
      "metadata": {
        "id": "1Erm6SkqLhtF"
      },
      "source": [
        "## 다른 실행 방법"
      ]
    },
    {
      "cell_type": "code",
      "execution_count": 103,
      "metadata": {
        "colab": {
          "base_uri": "https://localhost:8080/"
        },
        "id": "-oko11boJcvz",
        "outputId": "dea4fab8-06ed-4b14-9869-75430586d820"
      },
      "outputs": [
        {
          "output_type": "stream",
          "name": "stdout",
          "text": [
            "/content\n"
          ]
        }
      ],
      "source": [
        "%cd /content"
      ]
    },
    {
      "cell_type": "code",
      "execution_count": 104,
      "metadata": {
        "colab": {
          "base_uri": "https://localhost:8080/"
        },
        "id": "jjCJzOdsKxgN",
        "outputId": "2d331dd9-95e2-443e-c0dd-e5016c692a57"
      },
      "outputs": [
        {
          "output_type": "stream",
          "name": "stdout",
          "text": [
            "/content\n"
          ]
        }
      ],
      "source": [
        "!pwd"
      ]
    },
    {
      "cell_type": "code",
      "execution_count": 105,
      "metadata": {
        "colab": {
          "base_uri": "https://localhost:8080/"
        },
        "id": "AmEvCrJ6KyOn",
        "outputId": "71848dd8-3199-4315-876f-2332406b8256"
      },
      "outputs": [
        {
          "output_type": "stream",
          "name": "stdout",
          "text": [
            "Looking in indexes: https://pypi.org/simple, https://us-python.pkg.dev/colab-wheels/public/simple/\n",
            "Collecting git+https://github.com/PatWalters/rd_filters.git\n",
            "  Cloning https://github.com/PatWalters/rd_filters.git to /tmp/pip-req-build-nzh8bgx0\n",
            "  Running command git clone -q https://github.com/PatWalters/rd_filters.git /tmp/pip-req-build-nzh8bgx0\n",
            "Requirement already satisfied: pandas in /usr/local/lib/python3.7/dist-packages (from rd-filters==0.1) (1.3.5)\n",
            "Collecting docopt\n",
            "  Downloading docopt-0.6.2.tar.gz (25 kB)\n",
            "Requirement already satisfied: numpy>=1.17.3 in /usr/local/lib/python3.7/dist-packages (from pandas->rd-filters==0.1) (1.21.6)\n",
            "Requirement already satisfied: python-dateutil>=2.7.3 in /usr/local/lib/python3.7/dist-packages (from pandas->rd-filters==0.1) (2.8.2)\n",
            "Requirement already satisfied: pytz>=2017.3 in /usr/local/lib/python3.7/dist-packages (from pandas->rd-filters==0.1) (2022.1)\n",
            "Requirement already satisfied: six>=1.5 in /usr/local/lib/python3.7/dist-packages (from python-dateutil>=2.7.3->pandas->rd-filters==0.1) (1.15.0)\n",
            "Building wheels for collected packages: rd-filters, docopt\n",
            "  Building wheel for rd-filters (setup.py) ... \u001b[?25l\u001b[?25hdone\n",
            "  Created wheel for rd-filters: filename=rd_filters-0.1-py3-none-any.whl size=33802 sha256=5a9f16fc4c6bbc29d41a807846b8380c69d69ce7154f8e7a6de2f1c70fbc79f6\n",
            "  Stored in directory: /tmp/pip-ephem-wheel-cache-502wou95/wheels/18/23/0c/f8d3c66d34f5ee86ae3992e1fdd45c94223ee21fcde6f01192\n",
            "  Building wheel for docopt (setup.py) ... \u001b[?25l\u001b[?25hdone\n",
            "  Created wheel for docopt: filename=docopt-0.6.2-py2.py3-none-any.whl size=13723 sha256=c2d0cd2991a3cefee29e9749285d36948d3addce9f68c5da7bc3590281cb0464\n",
            "  Stored in directory: /root/.cache/pip/wheels/72/b0/3f/1d95f96ff986c7dfffe46ce2be4062f38ebd04b506c77c81b9\n",
            "Successfully built rd-filters docopt\n",
            "Installing collected packages: docopt, rd-filters\n",
            "Successfully installed docopt-0.6.2 rd-filters-0.1\n"
          ]
        }
      ],
      "source": [
        "!pip install git+https://github.com/PatWalters/rd_filters.git\n"
      ]
    },
    {
      "cell_type": "code",
      "execution_count": 106,
      "metadata": {
        "colab": {
          "base_uri": "https://localhost:8080/"
        },
        "id": "dmDMMg-QLMnq",
        "outputId": "c050e382-20b1-4db0-9fe8-2d4cf841eea9"
      },
      "outputs": [
        {
          "output_type": "stream",
          "name": "stdout",
          "text": [
            "Usage:\n",
            "rd_filters filter --in INPUT_FILE --prefix PREFIX [--rules RULES_FILE_NAME] [--alerts ALERT_FILE_NAME][--np NUM_CORES]\n",
            "rd_filters template --out TEMPLATE_FILE [--rules RULES_FILE_NAME]\n",
            "\n",
            "Options:\n",
            "--in INPUT_FILE input file name\n",
            "--prefix PREFIX prefix for output file names\n",
            "--rules RULES_FILE_NAME name of the rules JSON file\n",
            "--alerts ALERTS_FILE_NAME name of the structural alerts file\n",
            "--np NUM_CORES the number of cpu cores to use (default is all)\n",
            "--out TEMPLATE_FILE parameter template file name\n"
          ]
        }
      ],
      "source": [
        "!rd_filters -h\n"
      ]
    },
    {
      "cell_type": "code",
      "execution_count": 107,
      "metadata": {
        "colab": {
          "base_uri": "https://localhost:8080/"
        },
        "id": "5tyWlKSfLq3T",
        "outputId": "ecfbb4a9-6196-4f3c-d8f4-40cd5e09e3e3"
      },
      "outputs": [
        {
          "output_type": "stream",
          "name": "stdout",
          "text": [
            "  % Total    % Received % Xferd  Average Speed   Time    Time     Time  Current\n",
            "                                 Dload  Upload   Total   Spent    Left  Speed\n",
            "100 6159k  100 6159k    0     0  3016k      0  0:00:02  0:00:02 --:--:-- 3016k\n"
          ]
        }
      ],
      "source": [
        "!curl -o zinc_100k.smi https://raw.githubusercontent.com/deepchem/DeepLearningLifeSciences/master/Chapter11/zinc_100k.smi"
      ]
    },
    {
      "cell_type": "code",
      "execution_count": 108,
      "metadata": {
        "colab": {
          "base_uri": "https://localhost:8080/"
        },
        "id": "uLWjkw-SLRRe",
        "outputId": "13747f95-ef82-4592-f7f3-0e5b7dda6478"
      },
      "outputs": [
        {
          "output_type": "stream",
          "name": "stdout",
          "text": [
            "using 2 cores\n",
            "Using alerts from Inpharmatica\n",
            "Wrote SMILES for molecules passing filters to zinc.smi\n",
            "Wrote detailed data to zinc.csv\n",
            "68410 of 100000 passed filters 68.4%\n",
            "Elapsed time 74.07 seconds\n"
          ]
        }
      ],
      "source": [
        "!rd_filters filter --in zinc_100k.smi --prefix zinc\n"
      ]
    },
    {
      "cell_type": "markdown",
      "metadata": {
        "id": "9vXJTqI11XR7"
      },
      "source": [
        "## zinc.csv의 내용\n",
        "- SMILES 문자역, \n",
        "- 분자의 이름(NAME), \n",
        "- 필터를 통과하지 못한 이유(FILTER), \n",
        "- 분자량(MW, 500보다 크면 통과하지 못한다), - 옥탄올/물 분배계수(LogP, 5보다 크면 통과하지 못한다)\n",
        "- 수소결합의 공여체수 (HBD)"
      ]
    },
    {
      "cell_type": "code",
      "execution_count": 109,
      "metadata": {
        "colab": {
          "base_uri": "https://localhost:8080/",
          "height": 357
        },
        "id": "5rXNaXVzLoet",
        "outputId": "d2c58989-0121-4832-e808-a1230453df5d"
      },
      "outputs": [
        {
          "output_type": "execute_result",
          "data": {
            "text/plain": [
              "                                              SMILES              NAME  \\\n",
              "0        CN(CCO)C[C@@H](O)Cn1cnc2c1c(=O)n(C)c(=O)n2C  ZINC000000000843   \n",
              "1  O=c1[nH]c(=O)n([C@@H]2C[C@@H](O)[C@H](CO)O2)cc1Br  ZINC000000001063   \n",
              "2            Cn1c2ncn(CC(=O)N3CCOCC3)c2c(=O)n(C)c1=O  ZINC000000003942   \n",
              "3        CN1C(=O)C[C@H](N2CCN(C(=O)CN3CCCC3)CC2)C1=O  ZINC000000036436   \n",
              "4  CC(=O)NC[C@H](O)[C@H]1O[C@H]2OC(C)(C)O[C@H]2[C...  ZINC000000041101   \n",
              "\n",
              "                    FILTER       MW    LogP  HBD  HBA    TPSA  Rot  \n",
              "0  Filter82_pyridinium > 0  311.342 -2.2813    2    9  105.52    6  \n",
              "1        Filter9_metal > 0  307.100 -1.0602    3    6  104.55    2  \n",
              "2  Filter82_pyridinium > 0  307.310 -1.7075    0    8   91.36    2  \n",
              "3                       OK  308.382 -1.0163    0    5   64.17    3  \n",
              "4                       OK  302.327 -1.1355    3    6  106.12    4  "
            ],
            "text/html": [
              "\n",
              "  <div id=\"df-4cee4c1d-025b-4261-b04a-eb40e740732b\">\n",
              "    <div class=\"colab-df-container\">\n",
              "      <div>\n",
              "<style scoped>\n",
              "    .dataframe tbody tr th:only-of-type {\n",
              "        vertical-align: middle;\n",
              "    }\n",
              "\n",
              "    .dataframe tbody tr th {\n",
              "        vertical-align: top;\n",
              "    }\n",
              "\n",
              "    .dataframe thead th {\n",
              "        text-align: right;\n",
              "    }\n",
              "</style>\n",
              "<table border=\"1\" class=\"dataframe\">\n",
              "  <thead>\n",
              "    <tr style=\"text-align: right;\">\n",
              "      <th></th>\n",
              "      <th>SMILES</th>\n",
              "      <th>NAME</th>\n",
              "      <th>FILTER</th>\n",
              "      <th>MW</th>\n",
              "      <th>LogP</th>\n",
              "      <th>HBD</th>\n",
              "      <th>HBA</th>\n",
              "      <th>TPSA</th>\n",
              "      <th>Rot</th>\n",
              "    </tr>\n",
              "  </thead>\n",
              "  <tbody>\n",
              "    <tr>\n",
              "      <th>0</th>\n",
              "      <td>CN(CCO)C[C@@H](O)Cn1cnc2c1c(=O)n(C)c(=O)n2C</td>\n",
              "      <td>ZINC000000000843</td>\n",
              "      <td>Filter82_pyridinium &gt; 0</td>\n",
              "      <td>311.342</td>\n",
              "      <td>-2.2813</td>\n",
              "      <td>2</td>\n",
              "      <td>9</td>\n",
              "      <td>105.52</td>\n",
              "      <td>6</td>\n",
              "    </tr>\n",
              "    <tr>\n",
              "      <th>1</th>\n",
              "      <td>O=c1[nH]c(=O)n([C@@H]2C[C@@H](O)[C@H](CO)O2)cc1Br</td>\n",
              "      <td>ZINC000000001063</td>\n",
              "      <td>Filter9_metal &gt; 0</td>\n",
              "      <td>307.100</td>\n",
              "      <td>-1.0602</td>\n",
              "      <td>3</td>\n",
              "      <td>6</td>\n",
              "      <td>104.55</td>\n",
              "      <td>2</td>\n",
              "    </tr>\n",
              "    <tr>\n",
              "      <th>2</th>\n",
              "      <td>Cn1c2ncn(CC(=O)N3CCOCC3)c2c(=O)n(C)c1=O</td>\n",
              "      <td>ZINC000000003942</td>\n",
              "      <td>Filter82_pyridinium &gt; 0</td>\n",
              "      <td>307.310</td>\n",
              "      <td>-1.7075</td>\n",
              "      <td>0</td>\n",
              "      <td>8</td>\n",
              "      <td>91.36</td>\n",
              "      <td>2</td>\n",
              "    </tr>\n",
              "    <tr>\n",
              "      <th>3</th>\n",
              "      <td>CN1C(=O)C[C@H](N2CCN(C(=O)CN3CCCC3)CC2)C1=O</td>\n",
              "      <td>ZINC000000036436</td>\n",
              "      <td>OK</td>\n",
              "      <td>308.382</td>\n",
              "      <td>-1.0163</td>\n",
              "      <td>0</td>\n",
              "      <td>5</td>\n",
              "      <td>64.17</td>\n",
              "      <td>3</td>\n",
              "    </tr>\n",
              "    <tr>\n",
              "      <th>4</th>\n",
              "      <td>CC(=O)NC[C@H](O)[C@H]1O[C@H]2OC(C)(C)O[C@H]2[C...</td>\n",
              "      <td>ZINC000000041101</td>\n",
              "      <td>OK</td>\n",
              "      <td>302.327</td>\n",
              "      <td>-1.1355</td>\n",
              "      <td>3</td>\n",
              "      <td>6</td>\n",
              "      <td>106.12</td>\n",
              "      <td>4</td>\n",
              "    </tr>\n",
              "  </tbody>\n",
              "</table>\n",
              "</div>\n",
              "      <button class=\"colab-df-convert\" onclick=\"convertToInteractive('df-4cee4c1d-025b-4261-b04a-eb40e740732b')\"\n",
              "              title=\"Convert this dataframe to an interactive table.\"\n",
              "              style=\"display:none;\">\n",
              "        \n",
              "  <svg xmlns=\"http://www.w3.org/2000/svg\" height=\"24px\"viewBox=\"0 0 24 24\"\n",
              "       width=\"24px\">\n",
              "    <path d=\"M0 0h24v24H0V0z\" fill=\"none\"/>\n",
              "    <path d=\"M18.56 5.44l.94 2.06.94-2.06 2.06-.94-2.06-.94-.94-2.06-.94 2.06-2.06.94zm-11 1L8.5 8.5l.94-2.06 2.06-.94-2.06-.94L8.5 2.5l-.94 2.06-2.06.94zm10 10l.94 2.06.94-2.06 2.06-.94-2.06-.94-.94-2.06-.94 2.06-2.06.94z\"/><path d=\"M17.41 7.96l-1.37-1.37c-.4-.4-.92-.59-1.43-.59-.52 0-1.04.2-1.43.59L10.3 9.45l-7.72 7.72c-.78.78-.78 2.05 0 2.83L4 21.41c.39.39.9.59 1.41.59.51 0 1.02-.2 1.41-.59l7.78-7.78 2.81-2.81c.8-.78.8-2.07 0-2.86zM5.41 20L4 18.59l7.72-7.72 1.47 1.35L5.41 20z\"/>\n",
              "  </svg>\n",
              "      </button>\n",
              "      \n",
              "  <style>\n",
              "    .colab-df-container {\n",
              "      display:flex;\n",
              "      flex-wrap:wrap;\n",
              "      gap: 12px;\n",
              "    }\n",
              "\n",
              "    .colab-df-convert {\n",
              "      background-color: #E8F0FE;\n",
              "      border: none;\n",
              "      border-radius: 50%;\n",
              "      cursor: pointer;\n",
              "      display: none;\n",
              "      fill: #1967D2;\n",
              "      height: 32px;\n",
              "      padding: 0 0 0 0;\n",
              "      width: 32px;\n",
              "    }\n",
              "\n",
              "    .colab-df-convert:hover {\n",
              "      background-color: #E2EBFA;\n",
              "      box-shadow: 0px 1px 2px rgba(60, 64, 67, 0.3), 0px 1px 3px 1px rgba(60, 64, 67, 0.15);\n",
              "      fill: #174EA6;\n",
              "    }\n",
              "\n",
              "    [theme=dark] .colab-df-convert {\n",
              "      background-color: #3B4455;\n",
              "      fill: #D2E3FC;\n",
              "    }\n",
              "\n",
              "    [theme=dark] .colab-df-convert:hover {\n",
              "      background-color: #434B5C;\n",
              "      box-shadow: 0px 1px 3px 1px rgba(0, 0, 0, 0.15);\n",
              "      filter: drop-shadow(0px 1px 2px rgba(0, 0, 0, 0.3));\n",
              "      fill: #FFFFFF;\n",
              "    }\n",
              "  </style>\n",
              "\n",
              "      <script>\n",
              "        const buttonEl =\n",
              "          document.querySelector('#df-4cee4c1d-025b-4261-b04a-eb40e740732b button.colab-df-convert');\n",
              "        buttonEl.style.display =\n",
              "          google.colab.kernel.accessAllowed ? 'block' : 'none';\n",
              "\n",
              "        async function convertToInteractive(key) {\n",
              "          const element = document.querySelector('#df-4cee4c1d-025b-4261-b04a-eb40e740732b');\n",
              "          const dataTable =\n",
              "            await google.colab.kernel.invokeFunction('convertToInteractive',\n",
              "                                                     [key], {});\n",
              "          if (!dataTable) return;\n",
              "\n",
              "          const docLinkHtml = 'Like what you see? Visit the ' +\n",
              "            '<a target=\"_blank\" href=https://colab.research.google.com/notebooks/data_table.ipynb>data table notebook</a>'\n",
              "            + ' to learn more about interactive tables.';\n",
              "          element.innerHTML = '';\n",
              "          dataTable['output_type'] = 'display_data';\n",
              "          await google.colab.output.renderOutput(dataTable, element);\n",
              "          const docLink = document.createElement('div');\n",
              "          docLink.innerHTML = docLinkHtml;\n",
              "          element.appendChild(docLink);\n",
              "        }\n",
              "      </script>\n",
              "    </div>\n",
              "  </div>\n",
              "  "
            ]
          },
          "metadata": {},
          "execution_count": 109
        }
      ],
      "source": [
        "df = pd.read_csv(\"zinc.csv\")\n",
        "df.head()"
      ]
    },
    {
      "cell_type": "markdown",
      "metadata": {
        "id": "qQEK-Wo22kv7"
      },
      "source": [
        "- 어떤 필터에 의해서 가장 많이 걸러졌는지를 파악한다\n",
        " - collection의 Counter를 사용한다\n",
        " - 1,2디카르보닐 구조를 포함한 경우(아미노산 셀린 또는 시스테인과 공유결합을 형성하는 것으로 알려져 있다)\n",
        " - filter)collection.CSV 파일을 보면 1,2디카르보닐 구조를 의미하는 SMARTS 문자열'*C(=O)C(=O)*'를 확인할 수 있다."
      ]
    },
    {
      "cell_type": "code",
      "execution_count": 110,
      "metadata": {
        "colab": {
          "base_uri": "https://localhost:8080/",
          "height": 206
        },
        "id": "uw1dquNdMBTB",
        "outputId": "273915d5-2502-4134-95e7-09299572d13e"
      },
      "outputs": [
        {
          "output_type": "execute_result",
          "data": {
            "text/plain": [
              "                           Rule  Count\n",
              "2                            OK  69148\n",
              "7    Filter41_12_dicarbonyl > 0  19330\n",
              "0       Filter82_pyridinium > 0   7713\n",
              "11     Filter93_acetyl_urea > 0   1541\n",
              "12  Filter78_bicyclic_Imide > 0    825"
            ],
            "text/html": [
              "\n",
              "  <div id=\"df-104894b3-ced6-4893-a35f-b785b26a6925\">\n",
              "    <div class=\"colab-df-container\">\n",
              "      <div>\n",
              "<style scoped>\n",
              "    .dataframe tbody tr th:only-of-type {\n",
              "        vertical-align: middle;\n",
              "    }\n",
              "\n",
              "    .dataframe tbody tr th {\n",
              "        vertical-align: top;\n",
              "    }\n",
              "\n",
              "    .dataframe thead th {\n",
              "        text-align: right;\n",
              "    }\n",
              "</style>\n",
              "<table border=\"1\" class=\"dataframe\">\n",
              "  <thead>\n",
              "    <tr style=\"text-align: right;\">\n",
              "      <th></th>\n",
              "      <th>Rule</th>\n",
              "      <th>Count</th>\n",
              "    </tr>\n",
              "  </thead>\n",
              "  <tbody>\n",
              "    <tr>\n",
              "      <th>2</th>\n",
              "      <td>OK</td>\n",
              "      <td>69148</td>\n",
              "    </tr>\n",
              "    <tr>\n",
              "      <th>7</th>\n",
              "      <td>Filter41_12_dicarbonyl &gt; 0</td>\n",
              "      <td>19330</td>\n",
              "    </tr>\n",
              "    <tr>\n",
              "      <th>0</th>\n",
              "      <td>Filter82_pyridinium &gt; 0</td>\n",
              "      <td>7713</td>\n",
              "    </tr>\n",
              "    <tr>\n",
              "      <th>11</th>\n",
              "      <td>Filter93_acetyl_urea &gt; 0</td>\n",
              "      <td>1541</td>\n",
              "    </tr>\n",
              "    <tr>\n",
              "      <th>12</th>\n",
              "      <td>Filter78_bicyclic_Imide &gt; 0</td>\n",
              "      <td>825</td>\n",
              "    </tr>\n",
              "  </tbody>\n",
              "</table>\n",
              "</div>\n",
              "      <button class=\"colab-df-convert\" onclick=\"convertToInteractive('df-104894b3-ced6-4893-a35f-b785b26a6925')\"\n",
              "              title=\"Convert this dataframe to an interactive table.\"\n",
              "              style=\"display:none;\">\n",
              "        \n",
              "  <svg xmlns=\"http://www.w3.org/2000/svg\" height=\"24px\"viewBox=\"0 0 24 24\"\n",
              "       width=\"24px\">\n",
              "    <path d=\"M0 0h24v24H0V0z\" fill=\"none\"/>\n",
              "    <path d=\"M18.56 5.44l.94 2.06.94-2.06 2.06-.94-2.06-.94-.94-2.06-.94 2.06-2.06.94zm-11 1L8.5 8.5l.94-2.06 2.06-.94-2.06-.94L8.5 2.5l-.94 2.06-2.06.94zm10 10l.94 2.06.94-2.06 2.06-.94-2.06-.94-.94-2.06-.94 2.06-2.06.94z\"/><path d=\"M17.41 7.96l-1.37-1.37c-.4-.4-.92-.59-1.43-.59-.52 0-1.04.2-1.43.59L10.3 9.45l-7.72 7.72c-.78.78-.78 2.05 0 2.83L4 21.41c.39.39.9.59 1.41.59.51 0 1.02-.2 1.41-.59l7.78-7.78 2.81-2.81c.8-.78.8-2.07 0-2.86zM5.41 20L4 18.59l7.72-7.72 1.47 1.35L5.41 20z\"/>\n",
              "  </svg>\n",
              "      </button>\n",
              "      \n",
              "  <style>\n",
              "    .colab-df-container {\n",
              "      display:flex;\n",
              "      flex-wrap:wrap;\n",
              "      gap: 12px;\n",
              "    }\n",
              "\n",
              "    .colab-df-convert {\n",
              "      background-color: #E8F0FE;\n",
              "      border: none;\n",
              "      border-radius: 50%;\n",
              "      cursor: pointer;\n",
              "      display: none;\n",
              "      fill: #1967D2;\n",
              "      height: 32px;\n",
              "      padding: 0 0 0 0;\n",
              "      width: 32px;\n",
              "    }\n",
              "\n",
              "    .colab-df-convert:hover {\n",
              "      background-color: #E2EBFA;\n",
              "      box-shadow: 0px 1px 2px rgba(60, 64, 67, 0.3), 0px 1px 3px 1px rgba(60, 64, 67, 0.15);\n",
              "      fill: #174EA6;\n",
              "    }\n",
              "\n",
              "    [theme=dark] .colab-df-convert {\n",
              "      background-color: #3B4455;\n",
              "      fill: #D2E3FC;\n",
              "    }\n",
              "\n",
              "    [theme=dark] .colab-df-convert:hover {\n",
              "      background-color: #434B5C;\n",
              "      box-shadow: 0px 1px 3px 1px rgba(0, 0, 0, 0.15);\n",
              "      filter: drop-shadow(0px 1px 2px rgba(0, 0, 0, 0.3));\n",
              "      fill: #FFFFFF;\n",
              "    }\n",
              "  </style>\n",
              "\n",
              "      <script>\n",
              "        const buttonEl =\n",
              "          document.querySelector('#df-104894b3-ced6-4893-a35f-b785b26a6925 button.colab-df-convert');\n",
              "        buttonEl.style.display =\n",
              "          google.colab.kernel.accessAllowed ? 'block' : 'none';\n",
              "\n",
              "        async function convertToInteractive(key) {\n",
              "          const element = document.querySelector('#df-104894b3-ced6-4893-a35f-b785b26a6925');\n",
              "          const dataTable =\n",
              "            await google.colab.kernel.invokeFunction('convertToInteractive',\n",
              "                                                     [key], {});\n",
              "          if (!dataTable) return;\n",
              "\n",
              "          const docLinkHtml = 'Like what you see? Visit the ' +\n",
              "            '<a target=\"_blank\" href=https://colab.research.google.com/notebooks/data_table.ipynb>data table notebook</a>'\n",
              "            + ' to learn more about interactive tables.';\n",
              "          element.innerHTML = '';\n",
              "          dataTable['output_type'] = 'display_data';\n",
              "          await google.colab.output.renderOutput(dataTable, element);\n",
              "          const docLink = document.createElement('div');\n",
              "          docLink.innerHTML = docLinkHtml;\n",
              "          element.appendChild(docLink);\n",
              "        }\n",
              "      </script>\n",
              "    </div>\n",
              "  </div>\n",
              "  "
            ]
          },
          "metadata": {},
          "execution_count": 110
        }
      ],
      "source": [
        "from collections import Counter\n",
        "count_list = list(Counter(df.FILTER).items())\n",
        "count_df = pd.DataFrame(count_list,columns=[\"Rule\",\"Count\"])\n",
        "count_df.sort_values(\"Count\",inplace=True,ascending=False)\n",
        "count_df.head()"
      ]
    },
    {
      "cell_type": "code",
      "execution_count": 111,
      "metadata": {
        "id": "q9RZPmtnMFGw"
      },
      "outputs": [],
      "source": [
        "smiles_list = df[df.FILTER == \"Filter41_12_dicarbonyl > 0\"].SMILES[:10]\n"
      ]
    },
    {
      "cell_type": "code",
      "execution_count": 112,
      "metadata": {
        "colab": {
          "base_uri": "https://localhost:8080/",
          "height": 360
        },
        "id": "HLqVhkPIMIs_",
        "outputId": "39b41916-7bf0-4959-c05a-5a84188c93a8"
      },
      "outputs": [
        {
          "output_type": "execute_result",
          "data": {
            "image/png": "[encoded data removed]",
            "text/plain": [
              "<IPython.core.display.Image object>"
            ]
          },
          "metadata": {},
          "execution_count": 112
        }
      ],
      "source": [
        "mol_list = [Chem.MolFromSmiles(x) for x in smiles_list]\n",
        "dicarbonyl = Chem.MolFromSmarts('*C(=O)C(=O)*')\n",
        "match_list = [mol.GetSubstructMatch(dicarbonyl) for mol in mol_list]\n",
        "Draw.MolsToGridImage(mol_list,highlightAtomLists=match_list,molsPerRow=5)\n"
      ]
    },
    {
      "cell_type": "markdown",
      "metadata": {
        "id": "AIp-NTayFEqJ"
      },
      "source": [
        "# 모델 사용하기\n",
        "- 모델을 불러오고, 피처화기를 만든후, 분자 데이터를 피처화 한다\n",
        "- 예측값을 확인하고 가장 높은 점수를 얻은 화학구조를 확인한다\n",
        "- 분자 데이터를 CSV로 저장한다"
      ]
    },
    {
      "cell_type": "markdown",
      "metadata": {
        "id": "eDXZmCm7G_WN"
      },
      "source": [
        "- 피처함수를 사용한다\n",
        "- SMILES 파일을 CSV로 변환해야 한다 (컬럼 추가)"
      ]
    },
    {
      "cell_type": "code",
      "execution_count": 114,
      "metadata": {
        "id": "JaVT22MaFhTM"
      },
      "outputs": [],
      "source": [
        "model = dc.models.GraphConvModel(1, batch_size=128, \n",
        "          mode='classification',model_dir=\"model_dir\")\n",
        "model.restore()"
      ]
    },
    {
      "cell_type": "code",
      "execution_count": 115,
      "metadata": {
        "colab": {
          "base_uri": "https://localhost:8080/",
          "height": 206
        },
        "id": "iSsUjS2_Ft45",
        "outputId": "9e241caa-0841-41ba-92c1-ba01e54f5944"
      },
      "outputs": [
        {
          "output_type": "execute_result",
          "data": {
            "text/plain": [
              "                                              SMILES              Name  Val\n",
              "0        CN(CCO)C[C@@H](O)Cn1cnc2c1c(=O)n(C)c(=O)n2C  ZINC000000000843    0\n",
              "1  O=c1[nH]c(=O)n([C@@H]2C[C@@H](O)[C@H](CO)O2)cc1Br  ZINC000000001063    0\n",
              "2            Cn1c2ncn(CC(=O)N3CCOCC3)c2c(=O)n(C)c1=O  ZINC000000003942    0\n",
              "3        CN1C(=O)C[C@H](N2CCN(C(=O)CN3CCCC3)CC2)C1=O  ZINC000000036436    0\n",
              "4  CC(=O)NC[C@H](O)[C@H]1O[C@H]2OC(C)(C)O[C@H]2[C...  ZINC000000041101    0"
            ],
            "text/html": [
              "\n",
              "  <div id=\"df-cd331528-d8e5-45d2-8e1b-7355364cd54a\">\n",
              "    <div class=\"colab-df-container\">\n",
              "      <div>\n",
              "<style scoped>\n",
              "    .dataframe tbody tr th:only-of-type {\n",
              "        vertical-align: middle;\n",
              "    }\n",
              "\n",
              "    .dataframe tbody tr th {\n",
              "        vertical-align: top;\n",
              "    }\n",
              "\n",
              "    .dataframe thead th {\n",
              "        text-align: right;\n",
              "    }\n",
              "</style>\n",
              "<table border=\"1\" class=\"dataframe\">\n",
              "  <thead>\n",
              "    <tr style=\"text-align: right;\">\n",
              "      <th></th>\n",
              "      <th>SMILES</th>\n",
              "      <th>Name</th>\n",
              "      <th>Val</th>\n",
              "    </tr>\n",
              "  </thead>\n",
              "  <tbody>\n",
              "    <tr>\n",
              "      <th>0</th>\n",
              "      <td>CN(CCO)C[C@@H](O)Cn1cnc2c1c(=O)n(C)c(=O)n2C</td>\n",
              "      <td>ZINC000000000843</td>\n",
              "      <td>0</td>\n",
              "    </tr>\n",
              "    <tr>\n",
              "      <th>1</th>\n",
              "      <td>O=c1[nH]c(=O)n([C@@H]2C[C@@H](O)[C@H](CO)O2)cc1Br</td>\n",
              "      <td>ZINC000000001063</td>\n",
              "      <td>0</td>\n",
              "    </tr>\n",
              "    <tr>\n",
              "      <th>2</th>\n",
              "      <td>Cn1c2ncn(CC(=O)N3CCOCC3)c2c(=O)n(C)c1=O</td>\n",
              "      <td>ZINC000000003942</td>\n",
              "      <td>0</td>\n",
              "    </tr>\n",
              "    <tr>\n",
              "      <th>3</th>\n",
              "      <td>CN1C(=O)C[C@H](N2CCN(C(=O)CN3CCCC3)CC2)C1=O</td>\n",
              "      <td>ZINC000000036436</td>\n",
              "      <td>0</td>\n",
              "    </tr>\n",
              "    <tr>\n",
              "      <th>4</th>\n",
              "      <td>CC(=O)NC[C@H](O)[C@H]1O[C@H]2OC(C)(C)O[C@H]2[C...</td>\n",
              "      <td>ZINC000000041101</td>\n",
              "      <td>0</td>\n",
              "    </tr>\n",
              "  </tbody>\n",
              "</table>\n",
              "</div>\n",
              "      <button class=\"colab-df-convert\" onclick=\"convertToInteractive('df-cd331528-d8e5-45d2-8e1b-7355364cd54a')\"\n",
              "              title=\"Convert this dataframe to an interactive table.\"\n",
              "              style=\"display:none;\">\n",
              "        \n",
              "  <svg xmlns=\"http://www.w3.org/2000/svg\" height=\"24px\"viewBox=\"0 0 24 24\"\n",
              "       width=\"24px\">\n",
              "    <path d=\"M0 0h24v24H0V0z\" fill=\"none\"/>\n",
              "    <path d=\"M18.56 5.44l.94 2.06.94-2.06 2.06-.94-2.06-.94-.94-2.06-.94 2.06-2.06.94zm-11 1L8.5 8.5l.94-2.06 2.06-.94-2.06-.94L8.5 2.5l-.94 2.06-2.06.94zm10 10l.94 2.06.94-2.06 2.06-.94-2.06-.94-.94-2.06-.94 2.06-2.06.94z\"/><path d=\"M17.41 7.96l-1.37-1.37c-.4-.4-.92-.59-1.43-.59-.52 0-1.04.2-1.43.59L10.3 9.45l-7.72 7.72c-.78.78-.78 2.05 0 2.83L4 21.41c.39.39.9.59 1.41.59.51 0 1.02-.2 1.41-.59l7.78-7.78 2.81-2.81c.8-.78.8-2.07 0-2.86zM5.41 20L4 18.59l7.72-7.72 1.47 1.35L5.41 20z\"/>\n",
              "  </svg>\n",
              "      </button>\n",
              "      \n",
              "  <style>\n",
              "    .colab-df-container {\n",
              "      display:flex;\n",
              "      flex-wrap:wrap;\n",
              "      gap: 12px;\n",
              "    }\n",
              "\n",
              "    .colab-df-convert {\n",
              "      background-color: #E8F0FE;\n",
              "      border: none;\n",
              "      border-radius: 50%;\n",
              "      cursor: pointer;\n",
              "      display: none;\n",
              "      fill: #1967D2;\n",
              "      height: 32px;\n",
              "      padding: 0 0 0 0;\n",
              "      width: 32px;\n",
              "    }\n",
              "\n",
              "    .colab-df-convert:hover {\n",
              "      background-color: #E2EBFA;\n",
              "      box-shadow: 0px 1px 2px rgba(60, 64, 67, 0.3), 0px 1px 3px 1px rgba(60, 64, 67, 0.15);\n",
              "      fill: #174EA6;\n",
              "    }\n",
              "\n",
              "    [theme=dark] .colab-df-convert {\n",
              "      background-color: #3B4455;\n",
              "      fill: #D2E3FC;\n",
              "    }\n",
              "\n",
              "    [theme=dark] .colab-df-convert:hover {\n",
              "      background-color: #434B5C;\n",
              "      box-shadow: 0px 1px 3px 1px rgba(0, 0, 0, 0.15);\n",
              "      filter: drop-shadow(0px 1px 2px rgba(0, 0, 0, 0.3));\n",
              "      fill: #FFFFFF;\n",
              "    }\n",
              "  </style>\n",
              "\n",
              "      <script>\n",
              "        const buttonEl =\n",
              "          document.querySelector('#df-cd331528-d8e5-45d2-8e1b-7355364cd54a button.colab-df-convert');\n",
              "        buttonEl.style.display =\n",
              "          google.colab.kernel.accessAllowed ? 'block' : 'none';\n",
              "\n",
              "        async function convertToInteractive(key) {\n",
              "          const element = document.querySelector('#df-cd331528-d8e5-45d2-8e1b-7355364cd54a');\n",
              "          const dataTable =\n",
              "            await google.colab.kernel.invokeFunction('convertToInteractive',\n",
              "                                                     [key], {});\n",
              "          if (!dataTable) return;\n",
              "\n",
              "          const docLinkHtml = 'Like what you see? Visit the ' +\n",
              "            '<a target=\"_blank\" href=https://colab.research.google.com/notebooks/data_table.ipynb>data table notebook</a>'\n",
              "            + ' to learn more about interactive tables.';\n",
              "          element.innerHTML = '';\n",
              "          dataTable['output_type'] = 'display_data';\n",
              "          await google.colab.output.renderOutput(dataTable, element);\n",
              "          const docLink = document.createElement('div');\n",
              "          docLink.innerHTML = docLinkHtml;\n",
              "          element.appendChild(docLink);\n",
              "        }\n",
              "      </script>\n",
              "    </div>\n",
              "  </div>\n",
              "  "
            ]
          },
          "metadata": {},
          "execution_count": 115
        }
      ],
      "source": [
        "df = pd.read_csv(\"zinc_100k.smi\",sep=\" \",header=None)\n",
        "df.columns=[\"SMILES\",\"Name\"]\n",
        "rows,cols = df.shape\n",
        "df[\"Val\"] = [0] * rows # 피처화를 위한 빈 자리\n",
        "df.head()"
      ]
    },
    {
      "cell_type": "code",
      "execution_count": 116,
      "metadata": {
        "id": "J_VKtsqoF3ax"
      },
      "outputs": [],
      "source": [
        "infile_name = \"zinc_filtered.csv\"\n",
        "df.to_csv(infile_name,index=False)"
      ]
    },
    {
      "cell_type": "markdown",
      "metadata": {
        "id": "oDXtw2sBHohF"
      },
      "source": [
        "- CSV 파일을 읽어온다\n",
        "- 모델을 사용하기 위해서 피처화된 데이터를 사용한다"
      ]
    },
    {
      "cell_type": "code",
      "execution_count": 117,
      "metadata": {
        "id": "i32zwV_DF9Sy"
      },
      "outputs": [],
      "source": [
        "loader = dc.data.CSVLoader(tasks=['Val'], feature_field=\"SMILES\", featurizer=featurizer)\n",
        "dataset = loader.create_dataset(infile_name, shard_size=8192)\n",
        "pred = model.predict(dataset)\n"
      ]
    },
    {
      "cell_type": "markdown",
      "metadata": {
        "id": "HGGxDSX6H6J9"
      },
      "source": [
        "- 활성화와 비활성화를 구분하기 위해서 점수를 시각화 한다\n",
        "- SMILES와 예측값이 있는 데이터프레임을 합친다\n",
        "- 예측값이 높은 분자를 살펴본다"
      ]
    },
    {
      "cell_type": "code",
      "execution_count": 118,
      "metadata": {
        "colab": {
          "base_uri": "https://localhost:8080/",
          "height": 386
        },
        "id": "lMnBaFNPGEFH",
        "outputId": "3f45540b-6d14-4fc4-f916-442cff51b259"
      },
      "outputs": [
        {
          "output_type": "execute_result",
          "data": {
            "text/plain": [
              "<seaborn.axisgrid.FacetGrid at 0x7fbed4fe8f50>"
            ]
          },
          "metadata": {},
          "execution_count": 118
        },
        {
          "output_type": "display_data",
          "data": {
            "text/plain": [
              "<Figure size 360x360 with 1 Axes>"
            ],
            "image/png": "[encoded data removed]"
          },
          "metadata": {
            "image/png": {
              "width": 352,
              "height": 351
            },
            "needs_background": "light"
          }
        }
      ],
      "source": [
        "pred_df = pd.DataFrame([x.flatten() for x in pred],columns=[\"Neg\",\"Pos\"])\n",
        "sns.displot(x=pred_df.Pos,kind=\"kde\",rug=True)\n"
      ]
    },
    {
      "cell_type": "code",
      "execution_count": 119,
      "metadata": {
        "id": "aRE_GxpTGJxf"
      },
      "outputs": [],
      "source": [
        "combo_df = df.join(pred_df,how=\"outer\")\n",
        "combo_df.sort_values(\"Pos\",inplace=True,ascending=False)\n"
      ]
    },
    {
      "cell_type": "code",
      "execution_count": 120,
      "metadata": {
        "collapsed": true,
        "id": "33dg10-TGO_l"
      },
      "outputs": [],
      "source": [
        "PandasTools.AddMoleculeColumnToFrame(combo_df,\"SMILES\",\"Mol\")\n",
        "# combo_df.head()\n"
      ]
    },
    {
      "cell_type": "code",
      "execution_count": 121,
      "metadata": {
        "colab": {
          "base_uri": "https://localhost:8080/",
          "height": 1000
        },
        "id": "Y9ebJS80Kz_1",
        "outputId": "1f25f6ca-ff6a-4b04-f09f-540556451db3"
      },
      "outputs": [
        {
          "output_type": "execute_result",
          "data": {
            "text/plain": [
              "<IPython.core.display.HTML object>"
            ],
            "text/html": [
              "<table border=\"1\" class=\"dataframe\">\n",
              "  <thead>\n",
              "    <tr style=\"text-align: right;\">\n",
              "      <th></th>\n",
              "      <th>SMILES</th>\n",
              "      <th>Name</th>\n",
              "      <th>Val</th>\n",
              "      <th>Neg</th>\n",
              "      <th>Pos</th>\n",
              "      <th>Mol</th>\n",
              "    </tr>\n",
              "  </thead>\n",
              "  <tbody>\n",
              "    <tr>\n",
              "      <th>69350</th>\n",
              "      <td>O=C(N[C@H](CO)CN1CCOCC1)c1cnc2[nH]nnc2c1</td>\n",
              "      <td>ZINC000614410252</td>\n",
              "      <td>0</td>\n",
              "      <td>0.102973</td>\n",
              "      <td>0.897027</td>\n",
              "      <td style=\"text-align: center;\"><img data-content=\"rdkit/molecule\" src=\"data:image/png;base64,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\" alt=\"Mol\"/></td>\n",
              "    </tr>\n",
              "    <tr>\n",
              "      <th>69351</th>\n",
              "      <td>O=C(N[C@@H](CO)CN1CCOCC1)c1cnc2[nH]nnc2c1</td>\n",
              "      <td>ZINC000614410253</td>\n",
              "      <td>0</td>\n",
              "      <td>0.102973</td>\n",
              "      <td>0.897027</td>\n",
              "      <td style=\"text-align: center;\"><img data-content=\"rdkit/molecule\" src=\"data:image/png;base64,iVBORw0KGgoAAAANSUhEUgAAAMgAAADICAIAAAAiOjnJAAAABmJLR0QA/wD/AP+gvaeTAAAWuUlEQVR4nO3daVQUV9oH8H/T7AiCC42KSsygiBHXMURcg/t0G40SE01PohNxGUMcDcNMNOLxmDOEaIJLJlGjR0ZzNCZuEBckESNqcMUjKJIoKomyuSGg3TTdz/uh2hYRoemuK5r3+X1qsfqpS/On6tatewsFEYExuTk0dgPYHxMHiwnBwWJCcLCYEBwsJgQHiwnBwWJCcLCYEBwsJgQHiwnBwWJCcLCYEBwsJgQHiwnBwWJCcLCYEBwsJgQHiwnBwWJCcLCYEBwsJgQHiwnBwWJCcLCYEBwsJgQHiwnBwWJCcLCYEBwsJgQHiwnBwWJCcLCYEBwsJgQHiwnBwWJCcLCYEBwsJgQHiwnBwWJCcLCYEBwsJgQHiwnBwWJCcLCYEBwsJgQHiwnBwWJCcLCYEBwsJgQHiwnBwWJCcLCYEBwsJgQHiwnBwWJCcLCYEBwsJgQHiwnBwWJCcLCYEBwsJgQHiwnBwWJCcLCYEBwsJgQHiwnBwWJCcLCYEBwsJgQHiwnBwWJCcLCYEBysx7hxA2fOQKdr7HY8qzhYtVm/HtHRSE9HRARycxu7Nc8kBRE1dhuePgMH4sABKBTIzcWSJVizprEbBABITcWZM+jWDUOGYOdOvPIKAOTloaICXbs2duNqcmzsBjx97t2DlxcUCgB4/nnk5zd2gwAAy5ahrAwREdi0CTk52L3bHKysLBQUcLCeBW5uKCuDyQQHB5w7hz/9qbEbBABITkZqKhQKLFiAYcPg5IRTpwAgLw9ubo3duFpwsGozaxYmTkT37jh8GCtWNFozSkuxdy927MDUqVAozAdRh/vd4hMnAODChafwcAUOVk1paVi+HK+/jnXrUFSE6GgolU+6Dfn52LsXycnYtw+VlQDg7Y1WrZCbi06dcO4c/P1RVITISADYuRMFBU+6hVaQJ1jff4/hw+HkhJMn0aULXF1lqdoYfvgBO3YgKAgTJiA6GoWFWLkS3bs/gT1nZmYeS0mZtmULMjPNX3J0xKBBGD0aY8bA1RULFkCphNGIjz/GwoXmbby8oNc/geY1GMmhUyeKiyMimjqVCgpkKdlIBg4kgJKSyGSiZs0IoCtXxO2tqqoqPT09JiYmMDBQ+nFUBgSQuzup1bRqFRUWitu1aPIcsYKDceYMLl+WpVjjMRhw/DgUCoSGIicHN2+iTRu0ayfvTsrLy/Pz8+/cubNs2bI9e/aUlpZKX2/durVGoykcP75t//5wcZF3p0+ebH2sjz5CTAyaNpWrXmPIzMTduwgKQsuW2LEDAPr1k30nkZGRW7duVSgUer0eQIcOHdRqdURERFhYmELqnv8h2Busigp4eABAQABCQpCYiKtXMXIk4uIwfLgM7XuijhwBgL59a76WVU5OTqXUJQe8vLwuXrwo+y4aqqqq6qeffiouLu7Tp8/zzz8vT1F7zqN5eRQUREuX0ptvEhHpdNSjB739NgEE0IQJ9Pvv8pywn5Dx4wmgr74iIgoMJIBOnJB9J82bN5c+eaVSOXXqVNnrW6+ioiIpKSkyMtLX1xeAt7e3i4tLTEyMLMVtD9bRo+TrSwD17El6/YOvV1ZSQgI1aUIAubtTbCzpdDI0VKfT7dmz57vvvrtw4YIM5WrztVqdGxBA585RSQkpFOThQQaDvLswGAzK++MXXl5eBw8elLe+NfLz8z///PNhw4Y5Oztbji/BwcF/+ctfpLZFRUWZTCY792JjsLZvJ3d3AmjoUCotrWWD338nrdZ86AoMpD17bGzfzZs3t2zZotVqmzZtCsDPz8/JyWnJkiU2lnu8S5cuAWjevLnJZMrYtSt+4MAzkybJvpe8vLwmTZpIP0tvb2+j0Sj7Lh4nOzs7Li6uek9OqVT26tUrNjb23Llz0jY7d+50dXUFMGnSpMrKSnt2Z0uwEhJIqSSApkyhykoqK6PHtWH/fgoOJoAGDlymVqsvX75s5S4uXrz42WefDR482NHxQS+wR48eI0eOlD6XBQsW2NDyOmzcuBGARqMhoujoaADz58+XdxdEtH//fm9vb+mHOmPGDNnr12AZzujYsaPlY3Rzc1Or1atWrSqobWQoLS3Ny8sLgFqtvnv3rs27bliwTCaKjSWAFAqKjSUiunaNevWiKVMe+xa9nj7+uLJVqzYAPDw84uLi9NVPnA/Lzs6OjY3t1atX9d+qsLCwuLi4X375Rdpm48aNTk5OAGbOnCnjb/zMmTMB/Oc//yGivn37Athj82H28dauXSsdsTw9PQ8fPix7fYlOp9u8efMbb7whhVjSqlWryMjIXbt23bt3r+63Hz16VOoITnv9dbpzx7Y2NCBYOh1NmEAAOTvThg1ERFlZ1K4dAdSxI924Udd7r169qtVqpe8wMDBw9+7dlv+6d+9eampqVFSUv7+/5VPw8PBQq9WJiYm3bt2SNiusNlqYnJzs5uYGYOLEiXYesS26desG4ODBgzqdztXVVaFQ3Lx5U5bK1c2bN8/BwQFAs2bN7O/HPE5ycrLlhNuhQ4eoqKj09PQG/RJmZ2f36937qkpFvXpRcbENbbA2WNevU79+BJCPD6WlERH9+CN5exNAoaHW7jo1NTUoKEj6hseOHZuQkDB+/HjLRwCgXbt2s2bN2rdvnyUuFy9eTEhICAsLc3BwyM7OtpQ6cOCALEdsSWlpqVKpdHJyqqioOHz4MIAXXnjBzpq1Gjt2rHQYnjVrloj6RFRSUqJQKKSeqF0XOpcvU8eOBFBQEOXnN/TddQXLcjOjuJhGjCCAnnuOpH7e+vXk7EwAjRtHDfqxVlZWJiQkeHl5KRQKS/8pODg4JiYmPT1d+iWuqqo6cODAnDlz/lRtyoqbm9s333xTvdSJEydatmwJYMCAAbdv327Y9/2wlJQUAKGhoUQUHx8PYNq0afYUfJyuXbtK58GMjAwR9Ylo586dAAYNGiRDrcJC6t6dAGrfnnJzG/TWuoLVpg1t3UpENGUKHTtGo0aZb17FxZFCQQBFRZFtnRzpqODu7r5y5cor9/N79+5daVjFz8/PkqfmzZtrtdotW7bcqe1kn5OT07ZtWwA9e/YstumILVm8eDGAcePG6XS6MWPGAEhMTLS5Wh18fHws154i6hNRTEwMgHnz5slT7tYt86lKpaLMTOvfV1ewRo8mjYbu3KEpUx6c7CoqqEcPUirpiy9sb21iYiKAMWPGSP88evToqFGjXKtNiujYsWN0dHR6enpVVVXdpa5cuSJd8gQFBV1p+A1jy3CGp6cngLCwMCnWv/76qy3fWJ30er1SqXR0dJw9e7bsxS369esHYNeuXbJVrKh4cMKyukdbV7DGjqVDh2jOnIeCRURXr9o+LiWJjIwE8Mknn0j/zMjIAODg4CANq5xo4Hh3UVFRjx49pC7a+fPnrXlLXl5eQkLCyy+/XH04IzAwUAr32LFj67h0tdmvv/7apEkTT0/P48ePy15cotfr3dzcFArFjbovphpelyZPpiNHyGCglStpxgz673+pzt/5eoJFRJGR1LevbVcGj9WlSxcAlutto9G4fv36oqIimwvevn27f//+0tVWHd2XOoYzcnNziSgjI6NZs2YAwsPDy8rKbG5PrVJTU52cnHx9fcWdB48cOQKgS5cugupTdDRt3kwmEyUm0gcf1LFh/cG6fp1atJAzWLdu3XJwcHBxcal3QKVBLN2jJk2apKamWr5uMBjS09NrDGe4u7vXGM6wyMrKat26NYA+ffpcv35dxhauXr0awNy5c2WsWcOSJUsACLwFGR7+4PXLL9exYV3BkrrqJhNt2kTffSdPw4ho9+7dUm9Gtor3GQyGt99+G4CLi8v//ve/6veCJL6+vlqtNikpSVfn/cvc3Nz27dsD6N69e2Gh7cfRGqRu9alTp+Qq+KhJk/S9e5ds3pwjagfVg1X99SPqH8dKTSWAAgLqPqU2wLx58wD885//lKfcw4xGozSGLnXGJT169IiNjT158qT1da5du9a1a9eOHSNCQqrkuuut0WhUKpU8tR7Dz48Aun+TQoCZM+nAASKi1FR67706Nqw/WCYTdepEAG3fLk/bBg8eDGDHjh3ylKtNUFCQs7Nzz549V6xYYf0NyhpKSkpeflkPUJs2dPasvU3S6/XBwcGCfp0kFy4QQC1akLAuHFF5Oc2fT9Om0YIFVFFRx4ZWjbwnJBBQ9ynVWgaDoUmTJgqFwp6ueq1OnjxZXl5ORCaTSRou+u233+ysWVZGQ4ea7zccOWJLheqzM/z9/QcMGFDrgJwsEhMJoPtjOGLs2kWvvkrbttW7oVXBunOHvLwIoDNn7G3Y8ePHpWEqews9TLrMdnJyKi0tzcrKkoYeZKms09GrrxJAHh6UkmLtuy5durRs2bLw8PDqwxnSPagXX3xR5rGA+6ZNI4Di40XUvu+99wigRYvq3dDae4UzZxJA06fb1yyihIQEAJMnT7a30MOkkbDOnTsT0ZdffgngjTfekKt4VRVNmWK++/7tt4/dzGSiEyfoww9p5MgcS5gcHR3Dw8OXLVt26dKlvLw86SZV586d7T+aPuqFFwggYXMmiIiod28C6Mcf693Q2mCdO0cKBbm71zOLoV6vvfYagDVr1thV5RFLly4F8M477xCRNI1ixYoVMtY3mSgqigBauPBBX3PvXiIig4HS0ykqitq2NU9sBCgwsIs056nGGb+goCAkJARAQEDAL7L2sUtLycGBXFxI1jGch5WXk5MTOTqSFSN8DZg2M2QIAfTpp3a0jEgaTLJMWZTLuHHjAKxbt46IpOUAIq7qU1MpM5NatDD3tzQamjOHPD0f5Mnfn2bMoJQUqmPc/ubNm9J8L5VKdfr0abnalp9PEyfS+PFy1avN/v0EUK9e1mzbgGDt3GnvuMPly5cB+Pj4yD4lt1WrVgByc3MLCwulMVKD3NPVJZmZFB1NI0eSwWAOFkDBwRQTQ+np1l6OlZeXDxs2DIC3t/ehQ4fsbJJOR1qt+RJNWjYsyuLFBNC771qzbQOCZTRShw4E0Pff29iwr7/+GoBarbbx/Y8hraBq0aKFyWTaunUrgCFDhsi7C4vMTFq4kDZvpqVLSaOh334j20Yz9Hp9RESEdA/AzqmqFRXUuTP9+99ERBqNPZXqM3IkAbR5szXbNuCJfg4OmDEDAFautP5ND5HuZPWVe7GeNAlHWiYgaBc1TJiAn39GeTn8/dG+vS0VnJ2dN23a9M4779y9e/eVV17ZsmWLbS25fRsGA3r2REkJzp61rYZVTCZTrtFoaN8eL71kzfb1B6uqCkaj+fWbb2L2bCxfDgCVlbi/7tJahw4dAhAWFgbAaDRqtdpt27Y1rERtqofJEjL7y9bKxQU+PgDw0Ufw8rKrlFKpXL16dXR0dGVl5cSJE6U7iVa6cgWrV0OjgUqFgwcBYPFizJ8PcY9nzMnJCdq377mqKiufOVD/Suivv4aLC15/HQAmT0arVlizBvHxSE5GeTneeuvBluXlKCxEcTFu3Lh39WpiUVFRSUlJQUFBcXGx9EKn0ymVyoCAAADffPPNxo0bN2/evG7dOst0eNtYwqTX6zMzMx0cHF588UV7CtZBoTA/ia1jR/Tvb381RXx8fPPmzf/1r39Nnz792rVrCy2PkXkEETIzsXMnkpJw+rT5i46OOH8eAFQqDB2KRYtAhCtXEBBgb9tqkD7k/tZ/z/WeLNevp02bzK9HjKDJk0mrpdOn6bvv6MsvafRoCg0l6REploujZs1Mte7L3d0dQKdOnfLz84koLi4OgEKhWLp0qc3nfWm6ujRX4uDBgwBCQkJsrlavtDT6+GPz6xEjZCv7xRdfSIssHl0sqtfrU1JSZs6cOXr0dssn7OlJERG0cSPdvEl6vXnxdlUVffABzZ1LTZtSerpsbZO89dZbAJYvX27l9lY9u+Grr5CWBgAGAwDExmL2bLz1FpydsWvXgxOluztUKvj5wddXoVJNU6l8W7Zs6efnp1KpfH19VSqVwWAYMWJEZmZmaGhoSkpKTEyMi4vLnDlz5s6dq1D4/+Mfr1n721DNzz//bDQa+/Tp4+rqKp0TxZ0HJceOmZ92e/85MTKYPn26t7f3X//61+XLl9++fXvt2rVlZWU//PBDcnJyUlKS9EQalSrD33+MWo0xYzBo0EMPpPnb3wBAqcSiRZg0CaWlGD4c336LUaNka2GD+xj1Ru/RI9atW7RmDY0eTevX065ddPgwXbhA5eVWBbmsrCw8PBzVZuRt2LChd+9hrq73/v53W2bQf/jhhwDef/99ItJoNAA2SGvTxEhLo6goOnGCTpygwYNlLr57927poN62bdvq94K6des2f/7848ePWzND0GQy33dxdKT16+VpWFFREQAPDw/rB3FsDJbRSC+9ZGO7dTqdtArKMiNv+3aTiwsBpNU2+GkJycnJWq123759JpNJWrSTl5dnS7OsI+hUaJGRkdGhQ4eQkBDL1FYrJ1vXEBdnXlf82WcytEq6xgqvcwJWDfUHq6SELPMoc3Lo0iXzAGlxMdk8v1K6DgLQpUuv5GQTEaWlme9zq9UNW09mcf78eQB+fn42tsk6OTlkWaYg4AkSRESVlZVnz561f7lsfLx5MdUnn9i+Nu727dubNm0KDg5GA585IM+jIm1gNBqjo2P9/H53cqKNG4mIjh6l5s3J09PGORRr164FMF7sTY1nTGIiqVTFzz3X6d13323Q3Y4rV66sWrVKrVZbnkjz/vvvN2gRVKMFS2I5Yku3IM+eNS+zbpDr168nJiZ26NABgD0XmH9I27btcXFxATBlypR619KdPHkyNjZWWvIkcXR0HDRo0KefftrQ+ZKNHCwiWrGCHBwIoIY+8UtawjVkyBDpGSEAFi5ceO3aNTHNfIbt379fmqg9evToRxewPPqAXdxfbLJq1apCWx+w2/jBIqING8jRkQCq98LQaKSMDIqPPyCd9SXOzs7Dhg37/PPPr169+qSa/Iw5duxYixYtAAwePFiawlpeXp6UlKTVaqs/kaZly5bWLDaxxlMRLCLato2kC8NNm8xzTqqqHvTi792j1FSKiqI2bQigP/+5CICPj09ERERiYqKdD274fyIrK0uaAxIYGDho0CDLYR5ASEjIvHnzjh07JuOCx6for3/9+CP27oWnJ7Ky8O23OHUK27YhMBBJSUhJQUWFebOAALz6atWoUT8NGDCg+qfD6nX58uWhQ4e6urpmZ2crlcrQ0FCNRjNmzJhOnTrJvq+nKFiSRYuQk4M330SrVti+3fxHrwAEB0OjgVqNsDD8gZ5a/aQVFxeXlZVlZGSMGjVKWnIiyNMYrOHDERuLDz9EaiqcneHjA40G1ZYxs2fA0/hHmpydMXcuPvkE3bvjgw8auzXMJk/pn+4dOvRZ/ktP7Ck8FRYUoGlTuLujtBQVFWjdurEbxGzy1AWL/TE8padC9qzjYDEhOFhMCA4WE4KDxYTgYDEhOFhMCA4WE4KDxYTgYDEhOFhMCA4WE4KDxYTgYDEhOFhMCA4WE4KDxYTgYDEhOFhMCA4WE4KDxYTgYDEhOFhMCA4WE4KDxYTgYDEhOFhMCA4WE4KDxYTgYDEhOFhMCA4WE4KDxYTgYDEhOFhMCA4WE4KDxYTgYDEhOFhMCA4WE4KDxYTgYDEhOFhMCA4WE4KDxYTgYDEhOFhMCA4WE4KDxYTgYDEhOFhMCA4WE4KDxYTgYDEhOFhMCA4WE4KDxYTgYDEhOFhMCA4WE4KDxYTgYDEhOFhMCA4WE4KDxYTgYDEhOFhMCA4WE4KDxYTgYDEhOFhMCA4WE+L/AEVt63wtio4VAAABwHpUWHRyZGtpdFBLTCByZGtpdCAyMDIyLjAzLjUAAHice79v7T0GIOBlgABGIBYDYgkgbmDkYNAA0sxMbBCahZ0hA8xnZFMwASlmZGFjSAAymJg4wDQjI4zPzqAAUgnjIpSBhJnQhdkcIOazOYDNZ2ZkhwgwwyTYHSxANCMzTAJdAVwnNwOjBhMjkwITM1CUhZGFFeQINnYGdg4GDk4GTi4GLm4Gbh4GRl4FXr4MJj7+BH6BDCYBwQRBoQQh4QwmYZEEEdEMJh52BlHeBBGBBBFmNg5OLm4edjY+fgERUV5WQQERYSFxIUZIUIGBWNJajv0+fz7bgzj/q+P2z415bAdii7Jn21UfE94PYgs/v2L/+jD3PhA78dx/+xVrVoLVe66KdsgQfwRm/z5k4PDIaApYPadzm4PLBHMw+1DWSof2pntgtp/PdYfj4svAbCW2Rw4fsjTAdmXe2+dw+Ph0sDl3/0xwYNtlB2ZLJAkfaD0XYQ1i77+qcWDfjl1gvTk+TQfqlD+D2SolSw8YXUoAs3c6Xz0gUdAIZieIvTigu2cP2PxHLw4f6IhbCzYzcNesAxIVomB258bIA2fUmsFsMQCBgG6134u9vQAAAi16VFh0TU9MIHJka2l0IDIwMjIuMDMuNQAAeJx9VMtuGzEMvPsr9AMr8CWKPPQQ20lQFLGB1u0/9N7/R0kZ9iqAkLVJ7MqjWVIz9KHk9fP84++/8rzofDiUAl983b38YQA4fJS8KcfX9++Xcrq9HB8rp+vvy+1XISoksSc+n7Evt+vHYwXLtWxQG7O5FqwOitwLVBjXvpXKKYGmDhbLVURAdQHkcolVIm/og7p3khWjBCNWVWagBCKrOCyAbQDdTSxLZGrNcIHT6IWrMJFa4HpS+wLXg4/iZ3TAsmHF1g14AbRoRSp6U+OssGMHaQugB2Or5EJGydjZuNkCiKFO0drJQFsiybvCqhlMZXoFZZJkQhXpq9NBGi93FW3xVNGiHVkBOYASUoNp6tGlAa0UxFRmoxq6mNIAhEbLdtodqWwgmv1Is66rs0SNw9ykQkcjT6i5N1q2ngJtreZpUx+u60aw8hCmRJuGi6TFtmAFROJlAZ7QXqlR53wta3S3QhLcSZEIezqJW7h9ORSYlUoNtUmSqhmbrg6fxvyEOwFFMTiBRJfdv17Onyb0PrPH6+W8zyxl7JOZC7zPH0bIPmUYETq9vX/DfaIwQvfBSUzf5wMjbJ8CjPDd65gxWxpHwsm6OBJNHsWReDLjaEMm00kmbJO58jGcM3lIMmGfrCKZ0CZHSCb0SXjJRLPAkolwElIyEU2CYVb5JA6ryFh9lkxy37SXk9rNSuXz45857g//ARY9GqOOwcpyAAABKHpUWHRTTUlMRVMgcmRraXQgMjAyMi4wMy41AAB4nC2QO4oDQQxEr7KhDT1Cf6kZFgydOLIPYBxN7hP48CsNG7V4qq6S9Pxdl8dr3W7392U9r+tBaz3XoutBx+fg1+f+/tR70M/3siGYSE4fBBOddOyF0ifmQFBVdB87AvM0mqPlEawxdgJ3kSYkrrPBnFkFgbBZjl1AhTkKREnLmatoEwKyKIECTfNsj6BAtbEb8FTO1oSkVLZDcKI34RkFAtArocYj157EYLq6VQ7lv68JZpQi1JDrz8YgyOmFEKWaTCd0SbS2Vsv23hQwKKVRzmlcyKBnOzfNSMZK3LyW1+qWDIlYCgWwcUgliKefyIGYKfsipr1d2acYa4ksJb2vXVdC0r4/sjqP6/cPORhcolEcRmoAAAAASUVORK5CYII=\" alt=\"Mol\"/></td>\n",
              "    </tr>\n",
              "    <tr>\n",
              "      <th>2111</th>\n",
              "      <td>Cn1nc(N)c2cn([C@H]3O[C@@H](CO)[C@@H](O)[C@H]3O)c3ncnc1c23</td>\n",
              "      <td>ZINC000005121103</td>\n",
              "      <td>0</td>\n",
              "      <td>0.104003</td>\n",
              "      <td>0.895997</td>\n",
              "      <td style=\"text-align: center;\"><img data-content=\"rdkit/molecule\" src=\"data:image/png;base64,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\" alt=\"Mol\"/></td>\n",
              "    </tr>\n",
              "    <tr>\n",
              "      <th>654</th>\n",
              "      <td>Cn1nc(N)c2cn([C@H]3O[C@H](CO)[C@@H](O)[C@H]3O)c3ncnc1c23</td>\n",
              "      <td>ZINC000028521073</td>\n",
              "      <td>0</td>\n",
              "      <td>0.104003</td>\n",
              "      <td>0.895997</td>\n",
              "      <td style=\"text-align: center;\"><img data-content=\"rdkit/molecule\" src=\"data:image/png;base64,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\" alt=\"Mol\"/></td>\n",
              "    </tr>\n",
              "    <tr>\n",
              "      <th>2452</th>\n",
              "      <td>Cn1nc(N)c2cn([C@@H]3O[C@H](CO)[C@H](O)[C@H]3O)c3ncnc1c23</td>\n",
              "      <td>ZINC000027646810</td>\n",
              "      <td>0</td>\n",
              "      <td>0.104003</td>\n",
              "      <td>0.895997</td>\n",
              "      <td style=\"text-align: center;\"><img data-content=\"rdkit/molecule\" src=\"data:image/png;base64,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\" alt=\"Mol\"/></td>\n",
              "    </tr>\n",
              "  </tbody>\n",
              "</table>"
            ]
          },
          "metadata": {},
          "execution_count": 121
        }
      ],
      "source": [
        "from IPython.display import HTML\n",
        "HTML(combo_df.head().to_html())"
      ]
    },
    {
      "cell_type": "code",
      "execution_count": 122,
      "metadata": {
        "colab": {
          "base_uri": "https://localhost:8080/",
          "height": 360
        },
        "id": "KdPlhNsjGS16",
        "outputId": "dab2d340-55d5-4b01-b46e-0ab0150f9888"
      },
      "outputs": [
        {
          "output_type": "execute_result",
          "data": {
            "image/png": "[encoded data removed]",
            "text/plain": [
              "<IPython.core.display.Image object>"
            ]
          },
          "metadata": {},
          "execution_count": 122
        }
      ],
      "source": [
        "Draw.MolsToGridImage(combo_df.Mol[:10],molsPerRow=5,legends=[\"%.2f\" % x for x in combo_df.Pos[:10]])\n"
      ]
    },
    {
      "cell_type": "markdown",
      "metadata": {
        "id": "yAZVrUJGITTy"
      },
      "source": [
        "- 예측값이 높는 분자들의 모양이 비슷한 것을 알 수 있다\n",
        "- 중복되는 것을 피하기 위해서 군집화를 수행한다\n",
        " - 화학적 유사성을 사용하는 Butina 군집화를 사용하겠다"
      ]
    },
    {
      "cell_type": "code",
      "execution_count": 123,
      "metadata": {
        "id": "ORtV-sBeGZ6A"
      },
      "outputs": [],
      "source": [
        "def butina_cluster(mol_list,cutoff=0.35):\n",
        "    fp_list = [rdmd.GetMorganFingerprintAsBitVect(m, 3, nBits=2048) for m in mol_list]\n",
        "    dists = []\n",
        "    nfps = len(fp_list)\n",
        "    for i in range(1,nfps):\n",
        "        sims = DataStructs.BulkTanimotoSimilarity(fp_list[i],fp_list[:i])\n",
        "        dists.extend([1-x for x in sims])\n",
        "    mol_clusters = Butina.ClusterData(dists,nfps,cutoff,isDistData=True)\n",
        "    cluster_id_list = [0]*nfps\n",
        "    for idx,cluster in enumerate(mol_clusters,1):\n",
        "        for member in cluster:\n",
        "            cluster_id_list[member] = idx\n",
        "    return cluster_id_list"
      ]
    },
    {
      "cell_type": "code",
      "execution_count": 124,
      "metadata": {
        "colab": {
          "base_uri": "https://localhost:8080/",
          "height": 1000
        },
        "id": "fHc2FoN-GchK",
        "outputId": "057fcc57-1156-4c18-96c2-3569cba58252"
      },
      "outputs": [
        {
          "output_type": "execute_result",
          "data": {
            "text/plain": [
              "<IPython.core.display.HTML object>"
            ],
            "text/html": [
              "<table border=\"1\" class=\"dataframe\">\n",
              "  <thead>\n",
              "    <tr style=\"text-align: right;\">\n",
              "      <th></th>\n",
              "      <th>SMILES</th>\n",
              "      <th>Name</th>\n",
              "      <th>Val</th>\n",
              "      <th>Neg</th>\n",
              "      <th>Pos</th>\n",
              "      <th>Mol</th>\n",
              "      <th>Cluster</th>\n",
              "    </tr>\n",
              "  </thead>\n",
              "  <tbody>\n",
              "    <tr>\n",
              "      <th>69350</th>\n",
              "      <td>O=C(N[C@H](CO)CN1CCOCC1)c1cnc2[nH]nnc2c1</td>\n",
              "      <td>ZINC000614410252</td>\n",
              "      <td>0</td>\n",
              "      <td>0.102973</td>\n",
              "      <td>0.897027</td>\n",
              "      <td style=\"text-align: center;\"><img data-content=\"rdkit/molecule\" src=\"data:image/png;base64,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\" alt=\"Mol\"/></td>\n",
              "      <td>20</td>\n",
              "    </tr>\n",
              "    <tr>\n",
              "      <th>69351</th>\n",
              "      <td>O=C(N[C@@H](CO)CN1CCOCC1)c1cnc2[nH]nnc2c1</td>\n",
              "      <td>ZINC000614410253</td>\n",
              "      <td>0</td>\n",
              "      <td>0.102973</td>\n",
              "      <td>0.897027</td>\n",
              "      <td style=\"text-align: center;\"><img data-content=\"rdkit/molecule\" src=\"data:image/png;base64,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\" alt=\"Mol\"/></td>\n",
              "      <td>20</td>\n",
              "    </tr>\n",
              "    <tr>\n",
              "      <th>2111</th>\n",
              "      <td>Cn1nc(N)c2cn([C@H]3O[C@@H](CO)[C@@H](O)[C@H]3O)c3ncnc1c23</td>\n",
              "      <td>ZINC000005121103</td>\n",
              "      <td>0</td>\n",
              "      <td>0.104003</td>\n",
              "      <td>0.895997</td>\n",
              "      <td style=\"text-align: center;\"><img data-content=\"rdkit/molecule\" src=\"data:image/png;base64,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\" alt=\"Mol\"/></td>\n",
              "      <td>4</td>\n",
              "    </tr>\n",
              "    <tr>\n",
              "      <th>654</th>\n",
              "      <td>Cn1nc(N)c2cn([C@H]3O[C@H](CO)[C@@H](O)[C@H]3O)c3ncnc1c23</td>\n",
              "      <td>ZINC000028521073</td>\n",
              "      <td>0</td>\n",
              "      <td>0.104003</td>\n",
              "      <td>0.895997</td>\n",
              "      <td style=\"text-align: center;\"><img data-content=\"rdkit/molecule\" src=\"data:image/png;base64,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\" alt=\"Mol\"/></td>\n",
              "      <td>4</td>\n",
              "    </tr>\n",
              "    <tr>\n",
              "      <th>2452</th>\n",
              "      <td>Cn1nc(N)c2cn([C@@H]3O[C@H](CO)[C@H](O)[C@H]3O)c3ncnc1c23</td>\n",
              "      <td>ZINC000027646810</td>\n",
              "      <td>0</td>\n",
              "      <td>0.104003</td>\n",
              "      <td>0.895997</td>\n",
              "      <td style=\"text-align: center;\"><img data-content=\"rdkit/molecule\" src=\"data:image/png;base64,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\" alt=\"Mol\"/></td>\n",
              "      <td>4</td>\n",
              "    </tr>\n",
              "  </tbody>\n",
              "</table>"
            ]
          },
          "metadata": {},
          "execution_count": 124
        }
      ],
      "source": [
        "best_100_df = combo_df.head(100).copy()\n",
        "best_100_df[\"Cluster\"] = butina_cluster(best_100_df.Mol)\n",
        "# best_100_df.head()\n",
        "HTML(best_100_df.head().to_html())\n"
      ]
    },
    {
      "cell_type": "code",
      "execution_count": 125,
      "metadata": {
        "colab": {
          "base_uri": "https://localhost:8080/"
        },
        "id": "M-fIqQtgGh9E",
        "outputId": "07637440-d952-4fd4-da6a-009372cc8fc8"
      },
      "outputs": [
        {
          "output_type": "execute_result",
          "data": {
            "text/plain": [
              "(43, 7)"
            ]
          },
          "metadata": {},
          "execution_count": 125
        }
      ],
      "source": [
        "len(best_100_df.Cluster.unique())\n",
        "best_cluster_rep_df = best_100_df.drop_duplicates(\"Cluster\")\n",
        "best_cluster_rep_df.shape"
      ]
    },
    {
      "cell_type": "code",
      "execution_count": 126,
      "metadata": {
        "id": "EWzpTHO2GnzB"
      },
      "outputs": [],
      "source": [
        "best_cluster_rep_df.to_csv(\"best_cluster_represenatives.csv\")\n"
      ]
    },
    {
      "cell_type": "code",
      "execution_count": 126,
      "metadata": {
        "id": "QrK0r5xzImRm"
      },
      "outputs": [],
      "source": [
        ""
      ]
    }
  ],
  "metadata": {
    "accelerator": "GPU",
    "colab": {
      "collapsed_sections": [],
      "name": "c_83_8_VS.ipynb",
      "provenance": [],
      "toc_visible": true
    },
    "kernelspec": {
      "display_name": "Python 3",
      "language": "python",
      "name": "python3"
    },
    "language_info": {
      "codemirror_mode": {
        "name": "ipython",
        "version": 3
      },
      "file_extension": ".py",
      "mimetype": "text/x-python",
      "name": "python",
      "nbconvert_exporter": "python",
      "pygments_lexer": "ipython3",
      "version": "3.8.8"
    },
    "toc": {
      "base_numbering": 1,
      "nav_menu": {},
      "number_sections": false,
      "sideBar": true,
      "skip_h1_title": false,
      "title_cell": "Table of Contents",
      "title_sidebar": "Contents",
      "toc_cell": false,
      "toc_position": {},
      "toc_section_display": true,
      "toc_window_display": false
    },
    "widgets": {
      "application/vnd.jupyter.widget-state+json": {
        "c228b81b76864576bbb900483a138125": {
          "model_module": "@jupyter-widgets/controls",
          "model_name": "HBoxModel",
          "model_module_version": "1.5.0",
          "state": {
            "_dom_classes": [],
            "_model_module": "@jupyter-widgets/controls",
            "_model_module_version": "1.5.0",
            "_model_name": "HBoxModel",
            "_view_count": null,
            "_view_module": "@jupyter-widgets/controls",
            "_view_module_version": "1.5.0",
            "_view_name": "HBoxView",
            "box_style": "",
            "children": [
              "IPY_MODEL_27e6aab781f544ffa22b225f1f0f4921",
              "IPY_MODEL_92aac98d4d594775a5f232abd148ce19",
              "IPY_MODEL_3b85b35290654c5dab2aeb8984df1a35"
            ],
            "layout": "IPY_MODEL_3e1af5c0dbeb4c9093d9f41bfba5bcab"
          }
        },
        "27e6aab781f544ffa22b225f1f0f4921": {
          "model_module": "@jupyter-widgets/controls",
          "model_name": "HTMLModel",
          "model_module_version": "1.5.0",
          "state": {
            "_dom_classes": [],
            "_model_module": "@jupyter-widgets/controls",
            "_model_module_version": "1.5.0",
            "_model_name": "HTMLModel",
            "_view_count": null,
            "_view_module": "@jupyter-widgets/controls",
            "_view_module_version": "1.5.0",
            "_view_name": "HTMLView",
            "description": "",
            "description_tooltip": null,
            "layout": "IPY_MODEL_4563114656184134bd7ccc1cec22df65",
            "placeholder": "​",
            "style": "IPY_MODEL_ed961ed34623469fb4eb0a0264f9897b",
            "value": "100%"
          }
        },
        "92aac98d4d594775a5f232abd148ce19": {
          "model_module": "@jupyter-widgets/controls",
          "model_name": "FloatProgressModel",
          "model_module_version": "1.5.0",
          "state": {
            "_dom_classes": [],
            "_model_module": "@jupyter-widgets/controls",
            "_model_module_version": "1.5.0",
            "_model_name": "FloatProgressModel",
            "_view_count": null,
            "_view_module": "@jupyter-widgets/controls",
            "_view_module_version": "1.5.0",
            "_view_name": "ProgressView",
            "bar_style": "success",
            "description": "",
            "description_tooltip": null,
            "layout": "IPY_MODEL_05bfec8d1d4c4e4e88e528b13b80a9aa",
            "max": 5,
            "min": 0,
            "orientation": "horizontal",
            "style": "IPY_MODEL_c7b8277ca259461994bc022765ff166c",
            "value": 5
          }
        },
        "3b85b35290654c5dab2aeb8984df1a35": {
          "model_module": "@jupyter-widgets/controls",
          "model_name": "HTMLModel",
          "model_module_version": "1.5.0",
          "state": {
            "_dom_classes": [],
            "_model_module": "@jupyter-widgets/controls",
            "_model_module_version": "1.5.0",
            "_model_name": "HTMLModel",
            "_view_count": null,
            "_view_module": "@jupyter-widgets/controls",
            "_view_module_version": "1.5.0",
            "_view_name": "HTMLView",
            "description": "",
            "description_tooltip": null,
            "layout": "IPY_MODEL_43b4751d27b543408f9f9bbb4dcffd9b",
            "placeholder": "​",
            "style": "IPY_MODEL_ba7d6abe6450496b8df6b0ac3b3111b2",
            "value": " 5/5 [01:39&lt;00:00, 19.62s/it]"
          }
        },
        "3e1af5c0dbeb4c9093d9f41bfba5bcab": {
          "model_module": "@jupyter-widgets/base",
          "model_name": "LayoutModel",
          "model_module_version": "1.2.0",
          "state": {
            "_model_module": "@jupyter-widgets/base",
            "_model_module_version": "1.2.0",
            "_model_name": "LayoutModel",
            "_view_count": null,
            "_view_module": "@jupyter-widgets/base",
            "_view_module_version": "1.2.0",
            "_view_name": "LayoutView",
            "align_content": null,
            "align_items": null,
            "align_self": null,
            "border": null,
            "bottom": null,
            "display": null,
            "flex": null,
            "flex_flow": null,
            "grid_area": null,
            "grid_auto_columns": null,
            "grid_auto_flow": null,
            "grid_auto_rows": null,
            "grid_column": null,
            "grid_gap": null,
            "grid_row": null,
            "grid_template_areas": null,
            "grid_template_columns": null,
            "grid_template_rows": null,
            "height": null,
            "justify_content": null,
            "justify_items": null,
            "left": null,
            "margin": null,
            "max_height": null,
            "max_width": null,
            "min_height": null,
            "min_width": null,
            "object_fit": null,
            "object_position": null,
            "order": null,
            "overflow": null,
            "overflow_x": null,
            "overflow_y": null,
            "padding": null,
            "right": null,
            "top": null,
            "visibility": null,
            "width": null
          }
        },
        "4563114656184134bd7ccc1cec22df65": {
          "model_module": "@jupyter-widgets/base",
          "model_name": "LayoutModel",
          "model_module_version": "1.2.0",
          "state": {
            "_model_module": "@jupyter-widgets/base",
            "_model_module_version": "1.2.0",
            "_model_name": "LayoutModel",
            "_view_count": null,
            "_view_module": "@jupyter-widgets/base",
            "_view_module_version": "1.2.0",
            "_view_name": "LayoutView",
            "align_content": null,
            "align_items": null,
            "align_self": null,
            "border": null,
            "bottom": null,
            "display": null,
            "flex": null,
            "flex_flow": null,
            "grid_area": null,
            "grid_auto_columns": null,
            "grid_auto_flow": null,
            "grid_auto_rows": null,
            "grid_column": null,
            "grid_gap": null,
            "grid_row": null,
            "grid_template_areas": null,
            "grid_template_columns": null,
            "grid_template_rows": null,
            "height": null,
            "justify_content": null,
            "justify_items": null,
            "left": null,
            "margin": null,
            "max_height": null,
            "max_width": null,
            "min_height": null,
            "min_width": null,
            "object_fit": null,
            "object_position": null,
            "order": null,
            "overflow": null,
            "overflow_x": null,
            "overflow_y": null,
            "padding": null,
            "right": null,
            "top": null,
            "visibility": null,
            "width": null
          }
        },
        "ed961ed34623469fb4eb0a0264f9897b": {
          "model_module": "@jupyter-widgets/controls",
          "model_name": "DescriptionStyleModel",
          "model_module_version": "1.5.0",
          "state": {
            "_model_module": "@jupyter-widgets/controls",
            "_model_module_version": "1.5.0",
            "_model_name": "DescriptionStyleModel",
            "_view_count": null,
            "_view_module": "@jupyter-widgets/base",
            "_view_module_version": "1.2.0",
            "_view_name": "StyleView",
            "description_width": ""
          }
        },
        "05bfec8d1d4c4e4e88e528b13b80a9aa": {
          "model_module": "@jupyter-widgets/base",
          "model_name": "LayoutModel",
          "model_module_version": "1.2.0",
          "state": {
            "_model_module": "@jupyter-widgets/base",
            "_model_module_version": "1.2.0",
            "_model_name": "LayoutModel",
            "_view_count": null,
            "_view_module": "@jupyter-widgets/base",
            "_view_module_version": "1.2.0",
            "_view_name": "LayoutView",
            "align_content": null,
            "align_items": null,
            "align_self": null,
            "border": null,
            "bottom": null,
            "display": null,
            "flex": null,
            "flex_flow": null,
            "grid_area": null,
            "grid_auto_columns": null,
            "grid_auto_flow": null,
            "grid_auto_rows": null,
            "grid_column": null,
            "grid_gap": null,
            "grid_row": null,
            "grid_template_areas": null,
            "grid_template_columns": null,
            "grid_template_rows": null,
            "height": null,
            "justify_content": null,
            "justify_items": null,
            "left": null,
            "margin": null,
            "max_height": null,
            "max_width": null,
            "min_height": null,
            "min_width": null,
            "object_fit": null,
            "object_position": null,
            "order": null,
            "overflow": null,
            "overflow_x": null,
            "overflow_y": null,
            "padding": null,
            "right": null,
            "top": null,
            "visibility": null,
            "width": null
          }
        },
        "c7b8277ca259461994bc022765ff166c": {
          "model_module": "@jupyter-widgets/controls",
          "model_name": "ProgressStyleModel",
          "model_module_version": "1.5.0",
          "state": {
            "_model_module": "@jupyter-widgets/controls",
            "_model_module_version": "1.5.0",
            "_model_name": "ProgressStyleModel",
            "_view_count": null,
            "_view_module": "@jupyter-widgets/base",
            "_view_module_version": "1.2.0",
            "_view_name": "StyleView",
            "bar_color": null,
            "description_width": ""
          }
        },
        "43b4751d27b543408f9f9bbb4dcffd9b": {
          "model_module": "@jupyter-widgets/base",
          "model_name": "LayoutModel",
          "model_module_version": "1.2.0",
          "state": {
            "_model_module": "@jupyter-widgets/base",
            "_model_module_version": "1.2.0",
            "_model_name": "LayoutModel",
            "_view_count": null,
            "_view_module": "@jupyter-widgets/base",
            "_view_module_version": "1.2.0",
            "_view_name": "LayoutView",
            "align_content": null,
            "align_items": null,
            "align_self": null,
            "border": null,
            "bottom": null,
            "display": null,
            "flex": null,
            "flex_flow": null,
            "grid_area": null,
            "grid_auto_columns": null,
            "grid_auto_flow": null,
            "grid_auto_rows": null,
            "grid_column": null,
            "grid_gap": null,
            "grid_row": null,
            "grid_template_areas": null,
            "grid_template_columns": null,
            "grid_template_rows": null,
            "height": null,
            "justify_content": null,
            "justify_items": null,
            "left": null,
            "margin": null,
            "max_height": null,
            "max_width": null,
            "min_height": null,
            "min_width": null,
            "object_fit": null,
            "object_position": null,
            "order": null,
            "overflow": null,
            "overflow_x": null,
            "overflow_y": null,
            "padding": null,
            "right": null,
            "top": null,
            "visibility": null,
            "width": null
          }
        },
        "ba7d6abe6450496b8df6b0ac3b3111b2": {
          "model_module": "@jupyter-widgets/controls",
          "model_name": "DescriptionStyleModel",
          "model_module_version": "1.5.0",
          "state": {
            "_model_module": "@jupyter-widgets/controls",
            "_model_module_version": "1.5.0",
            "_model_name": "DescriptionStyleModel",
            "_view_count": null,
            "_view_module": "@jupyter-widgets/base",
            "_view_module_version": "1.2.0",
            "_view_name": "StyleView",
            "description_width": ""
          }
        }
      }
    }
  },
  "nbformat": 4,
  "nbformat_minor": 0
}