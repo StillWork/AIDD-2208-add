{
  "cells": [
    {
      "cell_type": "markdown",
      "metadata": {
        "id": "view-in-github",
        "colab_type": "text"
      },
      "source": [
        "<a href=\"https://colab.research.google.com/github/StillWork/AIDD-2208-add/blob/main/c_85_9_VAE_GenarativeModel.ipynb\" target=\"_parent\"><img src=\"https://colab.research.google.com/assets/colab-badge.svg\" alt=\"Open In Colab\"/></a>"
      ]
    },
    {
      "cell_type": "markdown",
      "metadata": {
        "id": "fgnMjNUfE5wR"
      },
      "source": [
        "# VAE를 이용한 생성 모델\n",
        "- Variational Autoencoder은 오코인코더를 개선하여 평균과 표준편차 두개의 성분을 나타내는 두개의 임베딩 벡터를 생성하게 한다\n",
        "- 이를 이용하면 더 다양한 출력을 생성할 수 있다\n",
        "- 새로운 분자의 구조를 생성하는 모델에 적용할 수 있다\n",
        "- 분자 표현으로 SMILES를 사용하며 새로운 SMILES를 얻는다\n",
        " - MolrculeNet이 제공하는 SMILES 데이터셋 MUV 사용 (약 90000개 제공)\n",
        " - Maximum Unbiased Validation(MUV) - 17개의 태스크 포함\n",
        "- [VAE 소개](https://towardsdatascience.com/an-introduction-to-variational-auto-encoders-vaes-803ddfb623df)"
      ]
    },
    {
      "cell_type": "code",
      "execution_count": 1,
      "metadata": {
        "colab": {
          "base_uri": "https://localhost:8080/"
        },
        "id": "bsFrs0ChE2Na",
        "outputId": "1a6e202e-4a5a-4bb2-9ed5-6962631be6a3"
      },
      "outputs": [
        {
          "output_type": "stream",
          "name": "stdout",
          "text": [
            "Looking in indexes: https://pypi.org/simple, https://us-python.pkg.dev/colab-wheels/public/simple/\n",
            "Collecting DeepChem\n",
            "  Downloading deepchem-2.6.1-py3-none-any.whl (608 kB)\n",
            "\u001b[K     |████████████████████████████████| 608 kB 5.1 MB/s \n",
            "\u001b[?25hRequirement already satisfied: numpy>=1.21 in /usr/local/lib/python3.7/dist-packages (from DeepChem) (1.21.6)\n",
            "Collecting rdkit-pypi\n",
            "  Downloading rdkit_pypi-2022.9.1-cp37-cp37m-manylinux_2_17_x86_64.manylinux2014_x86_64.whl (29.5 MB)\n",
            "\u001b[K     |████████████████████████████████| 29.5 MB 1.3 MB/s \n",
            "\u001b[?25hRequirement already satisfied: scikit-learn in /usr/local/lib/python3.7/dist-packages (from DeepChem) (1.0.2)\n",
            "Requirement already satisfied: scipy in /usr/local/lib/python3.7/dist-packages (from DeepChem) (1.7.3)\n",
            "Requirement already satisfied: pandas in /usr/local/lib/python3.7/dist-packages (from DeepChem) (1.3.5)\n",
            "Requirement already satisfied: joblib in /usr/local/lib/python3.7/dist-packages (from DeepChem) (1.2.0)\n",
            "Requirement already satisfied: python-dateutil>=2.7.3 in /usr/local/lib/python3.7/dist-packages (from pandas->DeepChem) (2.8.2)\n",
            "Requirement already satisfied: pytz>=2017.3 in /usr/local/lib/python3.7/dist-packages (from pandas->DeepChem) (2022.6)\n",
            "Requirement already satisfied: six>=1.5 in /usr/local/lib/python3.7/dist-packages (from python-dateutil>=2.7.3->pandas->DeepChem) (1.15.0)\n",
            "Requirement already satisfied: Pillow in /usr/local/lib/python3.7/dist-packages (from rdkit-pypi->DeepChem) (7.1.2)\n",
            "Requirement already satisfied: threadpoolctl>=2.0.0 in /usr/local/lib/python3.7/dist-packages (from scikit-learn->DeepChem) (3.1.0)\n",
            "Installing collected packages: rdkit-pypi, DeepChem\n",
            "Successfully installed DeepChem-2.6.1 rdkit-pypi-2022.9.1\n"
          ]
        }
      ],
      "source": [
        "!pip install DeepChem"
      ]
    },
    {
      "cell_type": "code",
      "execution_count": 2,
      "metadata": {
        "id": "CLQPMCKMFUnC"
      },
      "outputs": [],
      "source": [
        "import deepchem as dc\n",
        "import tensorflow as tf\n",
        "import tensorflow.keras.layers as layers\n",
        "\n",
        "import pandas as pd\n",
        "import numpy as np\n",
        "%config InlineBackend.figure_format = 'retina'"
      ]
    },
    {
      "cell_type": "code",
      "execution_count": 3,
      "metadata": {
        "collapsed": true,
        "id": "0KPRezLLFvRk"
      },
      "outputs": [],
      "source": [
        "tasks, datasets, transformers = dc.molnet.load_muv()\n",
        "train_dataset, valid_dataset, test_dataset = datasets\n",
        "train_smiles = train_dataset.ids\n",
        "\n",
        "# SMILES 문자열의 규칙을 파악: 문자(토큰)의 목록, 문자열의 최대길이 등\n",
        "\n",
        "tokens = set()\n",
        "for s in train_smiles:\n",
        "  tokens = tokens.union(set(s))\n",
        "tokens = sorted(list(tokens))\n",
        "max_length = max(len(s) for s in train_smiles)\n",
        "\n",
        "# 모델 만들기\n",
        "# AspuruGuzikAutoEncoder: 인코더는 합성곱신경망을, 디코더는 순환신경망을 사용\n",
        "# 학습속도를 조절하기 위해서 ExponentialDecay를 사용한다\n",
        "# 0.001에서 시작하고 이포크마다 0.95배로 감소시킨다\n",
        "\n",
        "from deepchem.models.optimizers import ExponentialDecay\n",
        "from deepchem.models.seqtoseq import AspuruGuzikAutoEncoder\n",
        "batch_size = 100\n",
        "batches_per_epoch = len(train_smiles)/batch_size\n",
        "learning_rate = ExponentialDecay(0.001, 0.95, batches_per_epoch)\n",
        "model = AspuruGuzikAutoEncoder(tokens, max_length, model_dir='vae', \n",
        "                batch_size=batch_size, learning_rate=learning_rate)\n",
        "\n",
        "# 시퀀스 생성 함수 정의\n",
        "\n",
        "def generate_sequences(epochs):\n",
        "  for i in range(epochs):\n",
        "    for s in train_smiles:\n",
        "      yield (s, s)\n",
        "\n",
        "# AspuruGuzikAutoEncoder이 제공하는 자체 학습 함수 (이포크수 지정)\n",
        "\n",
        "model.fit_sequences(generate_sequences(50)) # 50 이포크 수\n"
      ]
    },
    {
      "cell_type": "code",
      "execution_count": 15,
      "metadata": {
        "colab": {
          "base_uri": "https://localhost:8080/"
        },
        "id": "ME5beb7Bp9Ir",
        "outputId": "1023e74e-5885-4413-a4e0-951d0e89a685"
      },
      "outputs": [
        {
          "output_type": "stream",
          "name": "stdout",
          "text": [
            "\n",
            "Generated molecules:\n",
            "CC1nncc1\n",
            "CC(=O)c1nc(C)c2nnc(Cc3nnnn3nc2C)n1\n",
            "Cc1cnnc(C)nnnnnnnc(NNC)ccnnn1\n",
            "CC(CO)c1c(Nc2nc(C)n(Cc2cc(C)c2))c(C)cc2n1\n"
          ]
        }
      ],
      "source": [
        "# 학습된 모델을 이용하여 새로운 분자를 만든다\n",
        "# 모델에 들어가는 벡터의 크기를 지정한다 (예: 196)\n",
        "# 벡터를 2000개 생성하겠다\n",
        "# 생성된 분자들중 유효한 SMILES를 걸러내기 위해서 RDKit의 MolFromSmiles를 사용한다\n",
        "\n",
        "from rdkit import Chem\n",
        "predictions = model.predict_from_embeddings(np.random.normal(size=(2000,196)))\n",
        "molecules = []\n",
        "for p in predictions:\n",
        "  smiles = ''.join(p)\n",
        "  if Chem.MolFromSmiles(smiles) is not None:\n",
        "    molecules.append(smiles)\n",
        "print()\n",
        "print('Generated molecules:')\n",
        "for m in molecules:\n",
        "  print(m)"
      ]
    },
    {
      "cell_type": "code",
      "execution_count": 16,
      "metadata": {
        "colab": {
          "base_uri": "https://localhost:8080/"
        },
        "id": "x1gPAv-zHvvl",
        "outputId": "86e584ad-e562-4ac1-f4c0-cff925c273a3"
      },
      "outputs": [
        {
          "output_type": "execute_result",
          "data": {
            "text/plain": [
              "['CC1nncc1',\n",
              " 'CC(=O)c1nc(C)c2nnc(Cc3nnnn3nc2C)n1',\n",
              " 'Cc1cnnc(C)nnnnnnnc(NNC)ccnnn1',\n",
              " 'CC(CO)c1c(Nc2nc(C)n(Cc2cc(C)c2))c(C)cc2n1']"
            ]
          },
          "metadata": {},
          "execution_count": 16
        }
      ],
      "source": [
        "molecules"
      ]
    },
    {
      "cell_type": "code",
      "source": [
        "len(predictions)"
      ],
      "metadata": {
        "colab": {
          "base_uri": "https://localhost:8080/"
        },
        "id": "MlrmaldEHeJV",
        "outputId": "0a6c6768-5b17-437c-adec-e4fc16672ca0"
      },
      "execution_count": 28,
      "outputs": [
        {
          "output_type": "execute_result",
          "data": {
            "text/plain": [
              "2000"
            ]
          },
          "metadata": {},
          "execution_count": 28
        }
      ]
    },
    {
      "cell_type": "code",
      "source": [
        "predictions[0]"
      ],
      "metadata": {
        "colab": {
          "base_uri": "https://localhost:8080/"
        },
        "id": "wlhdJoxRH1df",
        "outputId": "0323dbd5-61d0-4a85-ada2-40417a143435"
      },
      "execution_count": 29,
      "outputs": [
        {
          "output_type": "execute_result",
          "data": {
            "text/plain": [
              "['C',\n",
              " 'C',\n",
              " '1',\n",
              " 'c',\n",
              " 'c',\n",
              " 'c',\n",
              " '(',\n",
              " 'C',\n",
              " 'C',\n",
              " 'C',\n",
              " 'C',\n",
              " 'C',\n",
              " 'C',\n",
              " 'C',\n",
              " 'C',\n",
              " 'C',\n",
              " 'C',\n",
              " 'C',\n",
              " 'C',\n",
              " 'C',\n",
              " 'C',\n",
              " 'C',\n",
              " 'C',\n",
              " 'C',\n",
              " 'C',\n",
              " 'C',\n",
              " 'C',\n",
              " ')',\n",
              " 'C',\n",
              " ')',\n",
              " ')',\n",
              " ')',\n",
              " 'C',\n",
              " '(',\n",
              " '=',\n",
              " 'O',\n",
              " ')',\n",
              " '[',\n",
              " 'H',\n",
              " 'O',\n",
              " '/',\n",
              " '(',\n",
              " '=',\n",
              " '=',\n",
              " '=',\n",
              " '=']"
            ]
          },
          "metadata": {},
          "execution_count": 29
        }
      ]
    },
    {
      "cell_type": "markdown",
      "metadata": {
        "id": "B_dj3l2CH6aH"
      },
      "source": [
        "## 생성된 SMILES 들에 대해서 유효하지 않거나 약물로서 가치가 없는 분자를 걸러내야 한다\n",
        "- 제거하고 싶은 분자가 있는지 찾는다\n",
        "- MolFromSmiles()을 사용해 SMILES 문자열들을 분자 객체로 변환한다\n",
        "- 분자의 크기를 확인한다 (10보다 작으면 상호작용에 필요한 에너지가 불충분하고, 50 이상이면 분자의 용해도가 너무 낮아 문제가 된다)\n",
        "- 수소를 제외한 분자의 크기를 GetNumAtoms()로 얻는다\n",
        "- 약물과 얼마나 유사한지를 판단하기 위해서 QED(Quantitave Estimate of Drugness)를 많이 사용한다\n",
        " - QED: 계산된 속성 집합과 판매된 약물의 동일한 특성 분포를 정량화 한 것 (Richard Bickerton 이 제안)\n",
        " - 1에 가까울수록 기존의 약물과 유사하다고 본다\n",
        " - QED > 0.5 인 분자만 고른 후 결과를 시각화 한다"
      ]
    },
    {
      "cell_type": "code",
      "execution_count": 17,
      "metadata": {
        "colab": {
          "base_uri": "https://localhost:8080/"
        },
        "id": "hTAeK7QgRl9u",
        "outputId": "2aa87600-2d0a-4896-ea1b-af4a33255602"
      },
      "outputs": [
        {
          "output_type": "stream",
          "name": "stdout",
          "text": [
            "[6, 21, 23, 23]\n"
          ]
        }
      ],
      "source": [
        "from rdkit import Chem\n",
        "molecules_new = [Chem.MolFromSmiles(x) for x in molecules]\n",
        "print(sorted(x.GetNumAtoms() for x in molecules_new))"
      ]
    },
    {
      "cell_type": "code",
      "execution_count": 18,
      "metadata": {
        "colab": {
          "base_uri": "https://localhost:8080/"
        },
        "id": "RKoLzkWGSPZR",
        "outputId": "2275f55d-2dda-43db-c970-e41fc2d52136"
      },
      "outputs": [
        {
          "output_type": "stream",
          "name": "stdout",
          "text": [
            "3\n"
          ]
        }
      ],
      "source": [
        "good_mol_list = [x for x in molecules_new if x.GetNumAtoms() > 10 and x.GetNumAtoms() < 50]\n",
        "print(len(good_mol_list))"
      ]
    },
    {
      "cell_type": "code",
      "source": [
        "good_mol_list"
      ],
      "metadata": {
        "colab": {
          "base_uri": "https://localhost:8080/"
        },
        "id": "-Ch_diYxInkE",
        "outputId": "0f18e5e1-99d8-45f9-ba16-4a567d99e9f0"
      },
      "execution_count": 31,
      "outputs": [
        {
          "output_type": "execute_result",
          "data": {
            "text/plain": [
              "[<rdkit.Chem.rdchem.Mol at 0x7f2ae035bda0>,\n",
              " <rdkit.Chem.rdchem.Mol at 0x7f2ae035be40>,\n",
              " <rdkit.Chem.rdchem.Mol at 0x7f2ae035be90>]"
            ]
          },
          "metadata": {},
          "execution_count": 31
        }
      ]
    },
    {
      "cell_type": "code",
      "execution_count": 19,
      "metadata": {
        "id": "F_6tBZWESl4B"
      },
      "outputs": [],
      "source": [
        "from rdkit.Chem import QED\n",
        "qed_list = [QED.qed(x) for x in good_mol_list]"
      ]
    },
    {
      "cell_type": "code",
      "execution_count": 20,
      "metadata": {
        "colab": {
          "base_uri": "https://localhost:8080/"
        },
        "id": "5sLZAgLLVO0j",
        "outputId": "96b653d7-6b3b-4624-d27c-404f9a8fc51a"
      },
      "outputs": [
        {
          "output_type": "execute_result",
          "data": {
            "text/plain": [
              "[0.7463650360502622, 0.5691145103612111, 0.8816928521462161]"
            ]
          },
          "metadata": {},
          "execution_count": 20
        }
      ],
      "source": [
        "qed_list"
      ]
    },
    {
      "cell_type": "code",
      "execution_count": 21,
      "metadata": {
        "colab": {
          "base_uri": "https://localhost:8080/"
        },
        "collapsed": true,
        "id": "bP0R11czVNCf",
        "outputId": "774a2121-3d74-47c9-9c8d-5fd3e2ba83a2"
      },
      "outputs": [
        {
          "output_type": "execute_result",
          "data": {
            "text/plain": [
              "[(<rdkit.Chem.rdchem.Mol at 0x7f2ae035bda0>, 0.7463650360502622),\n",
              " (<rdkit.Chem.rdchem.Mol at 0x7f2ae035be40>, 0.5691145103612111),\n",
              " (<rdkit.Chem.rdchem.Mol at 0x7f2ae035be90>, 0.8816928521462161)]"
            ]
          },
          "metadata": {},
          "execution_count": 21
        }
      ],
      "source": [
        "final_mol_list = [(a,b) for a,b in zip(good_mol_list, qed_list) if b > 0.5] # \n",
        "final_mol_list"
      ]
    },
    {
      "cell_type": "code",
      "execution_count": 32,
      "metadata": {
        "colab": {
          "base_uri": "https://localhost:8080/",
          "height": 202
        },
        "id": "j4YAr2dH6rX6",
        "outputId": "a23352ce-432a-452f-b197-d6217d5258f6"
      },
      "outputs": [
        {
          "output_type": "execute_result",
          "data": {
            "text/plain": [
              "<PIL.PngImagePlugin.PngImageFile image mode=RGB size=800x200 at 0x7F29DC7BC110>"
            ],
            "image/png": "[encoded data removed]"
          },
          "metadata": {},
          "execution_count": 32
        }
      ],
      "source": [
        "img=Draw.MolsToGridImage([x[0] for x  in final_mol_list],\n",
        "                         molsPerRow=4,subImgSize=(200,200),\n",
        "                         legends=[f\"{x[1]:.2f}\" for x in final_mol_list])\n",
        "img"
      ]
    },
    {
      "cell_type": "markdown",
      "source": [
        "# 모델 restore()"
      ],
      "metadata": {
        "id": "_fsOU9RTP2mQ"
      }
    },
    {
      "cell_type": "code",
      "source": [
        "from google.colab import drive\n",
        "drive.mount('/content/drive')"
      ],
      "metadata": {
        "colab": {
          "base_uri": "https://localhost:8080/"
        },
        "id": "N0KLOwkTQvdl",
        "outputId": "5d8c4cac-0d50-447b-c1e6-e062a0faa589"
      },
      "execution_count": 45,
      "outputs": [
        {
          "output_type": "stream",
          "name": "stdout",
          "text": [
            "Mounted at /content/drive\n"
          ]
        }
      ]
    },
    {
      "cell_type": "code",
      "source": [
        "model_2 = AspuruGuzikAutoEncoder(tokens, max_length, model_dir='/content/drive/MyDrive/vae', \n",
        "                batch_size=batch_size, learning_rate=learning_rate)\n",
        "model_2.restore()"
      ],
      "metadata": {
        "id": "uUtpmgSSN0FG"
      },
      "execution_count": 46,
      "outputs": []
    },
    {
      "cell_type": "code",
      "source": [
        "predictions_2 = model_2.predict_from_embeddings(np.random.normal(size=(10,196)))\n",
        "molecules_2 = []\n",
        "for p in predictions_2:\n",
        "  smiles = ''.join(p)\n",
        "  # if Chem.MolFromSmiles(smiles) is not None:\n",
        "  molecules_2.append(smiles)\n",
        "\n",
        "molecules_2"
      ],
      "metadata": {
        "colab": {
          "base_uri": "https://localhost:8080/"
        },
        "id": "32r7N93hPvNg",
        "outputId": "6151d725-8e26-4d4a-d580-d91bea12ddd1"
      },
      "execution_count": 47,
      "outputs": [
        {
          "output_type": "execute_result",
          "data": {
            "text/plain": [
              "['C1(=O)N11Fcccn((OC(F)nc2nc2c2c(c(())(Fn',\n",
              " 'c1cc((C)(CNc2n(c3cc((c3nncnnnnc22',\n",
              " 'CC11(=C)nnn2(N)nn((C)c2())c2nnc((C)n1',\n",
              " 'Cc1cc2c2cc2cc2ccccccc2)ccccccccccc12',\n",
              " 'cc1cc22nc())c(C)nc(CC)n3nn())c(C)n',\n",
              " 'CC1ccCc22nccccccccc)))ccccCC)c2))CCC))22',\n",
              " 'CcCCc2nc(=O)n(CCc3nnnc()n(C)c3nc(=O)n1',\n",
              " 'O11Cnnnnnnn11)C1C)FFcccccnnncnc2cccc2ccc1',\n",
              " 'c1cc((C22222nC)2)nn))))c2nnc3cccc2())C',\n",
              " 'OC1Cc2ncccccCO)cc1CNNCC))ccC)))']"
            ]
          },
          "metadata": {},
          "execution_count": 47
        }
      ]
    },
    {
      "cell_type": "code",
      "source": [],
      "metadata": {
        "id": "rXt6Gb1fQXPN"
      },
      "execution_count": null,
      "outputs": []
    }
  ],
  "metadata": {
    "accelerator": "GPU",
    "colab": {
      "provenance": [],
      "include_colab_link": true
    },
    "kernelspec": {
      "display_name": "Python 3",
      "language": "python",
      "name": "python3"
    },
    "language_info": {
      "codemirror_mode": {
        "name": "ipython",
        "version": 3
      },
      "file_extension": ".py",
      "mimetype": "text/x-python",
      "name": "python",
      "nbconvert_exporter": "python",
      "pygments_lexer": "ipython3",
      "version": "3.8.8"
    },
    "toc": {
      "base_numbering": 1,
      "nav_menu": {},
      "number_sections": false,
      "sideBar": true,
      "skip_h1_title": false,
      "title_cell": "Table of Contents",
      "title_sidebar": "Contents",
      "toc_cell": false,
      "toc_position": {},
      "toc_section_display": true,
      "toc_window_display": false
    }
  },
  "nbformat": 4,
  "nbformat_minor": 0
}