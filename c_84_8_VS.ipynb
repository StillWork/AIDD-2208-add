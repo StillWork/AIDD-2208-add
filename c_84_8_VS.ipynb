{
  "cells": [
    {
      "cell_type": "markdown",
      "metadata": {
        "id": "FJpHthE60TBJ"
      },
      "source": [
        "# 가상 스크리닝\n",
        "\n",
        "- ERK2 단백질을 억제하는 분자를 예측하는 모델을 만든다\n",
        " - extracellular signal-regulated kinase (다수의 생화학적 신호에 관여하고 세포의 증식 분화 전사조절에 관여한다)\n",
        " - 비소세포성 폐암 non-small cell lung cancer과 흑색종(피부암)에 대해 임상시험중\n",
        "\n",
        "- 그래프 합성곱 모델 사용\n",
        "- DUD-E 데이터베이스에서 활성 및 비활성 분자 데이터 사용\n",
        "- 특성값 추가하기"
      ]
    },
    {
      "cell_type": "markdown",
      "source": [
        "# import"
      ],
      "metadata": {
        "id": "2OpzBVDCDT3t"
      }
    },
    {
      "cell_type": "code",
      "execution_count": 2,
      "metadata": {
        "colab": {
          "base_uri": "https://localhost:8080/"
        },
        "id": "bd95Jgdy2As-",
        "outputId": "6ccee643-795c-45c7-c41f-5e4c25491ae5"
      },
      "outputs": [
        {
          "output_type": "stream",
          "name": "stdout",
          "text": [
            "Looking in indexes: https://pypi.org/simple, https://us-python.pkg.dev/colab-wheels/public/simple/\n",
            "Collecting DeepChem\n",
            "  Downloading deepchem-2.6.1-py3-none-any.whl (608 kB)\n",
            "\u001b[K     |████████████████████████████████| 608 kB 5.0 MB/s \n",
            "\u001b[?25hRequirement already satisfied: scikit-learn in /usr/local/lib/python3.7/dist-packages (from DeepChem) (1.0.2)\n",
            "Requirement already satisfied: scipy in /usr/local/lib/python3.7/dist-packages (from DeepChem) (1.7.3)\n",
            "Requirement already satisfied: pandas in /usr/local/lib/python3.7/dist-packages (from DeepChem) (1.3.5)\n",
            "Requirement already satisfied: numpy>=1.21 in /usr/local/lib/python3.7/dist-packages (from DeepChem) (1.21.6)\n",
            "Requirement already satisfied: joblib in /usr/local/lib/python3.7/dist-packages (from DeepChem) (1.2.0)\n",
            "Collecting rdkit-pypi\n",
            "  Downloading rdkit_pypi-2022.9.1-cp37-cp37m-manylinux_2_17_x86_64.manylinux2014_x86_64.whl (29.5 MB)\n",
            "\u001b[K     |████████████████████████████████| 29.5 MB 1.5 MB/s \n",
            "\u001b[?25hRequirement already satisfied: python-dateutil>=2.7.3 in /usr/local/lib/python3.7/dist-packages (from pandas->DeepChem) (2.8.2)\n",
            "Requirement already satisfied: pytz>=2017.3 in /usr/local/lib/python3.7/dist-packages (from pandas->DeepChem) (2022.5)\n",
            "Requirement already satisfied: six>=1.5 in /usr/local/lib/python3.7/dist-packages (from python-dateutil>=2.7.3->pandas->DeepChem) (1.15.0)\n",
            "Requirement already satisfied: Pillow in /usr/local/lib/python3.7/dist-packages (from rdkit-pypi->DeepChem) (7.1.2)\n",
            "Requirement already satisfied: threadpoolctl>=2.0.0 in /usr/local/lib/python3.7/dist-packages (from scikit-learn->DeepChem) (3.1.0)\n",
            "Installing collected packages: rdkit-pypi, DeepChem\n",
            "Successfully installed DeepChem-2.6.1 rdkit-pypi-2022.9.1\n"
          ]
        }
      ],
      "source": [
        "!pip install DeepChem"
      ]
    },
    {
      "cell_type": "code",
      "execution_count": 4,
      "metadata": {
        "id": "UGcjm8HGz4yT"
      },
      "outputs": [],
      "source": [
        "import deepchem as dc\n",
        "from rdkit import Chem\n",
        "from rdkit.Chem import AllChem\n",
        "from rdkit.Chem import Draw\n",
        "from rdkit.Chem.Draw import IPythonConsole\n",
        "from rdkit.Chem import PandasTools\n",
        "from rdkit.Chem import Descriptors\n",
        "from rdkit.Chem import rdmolops\n",
        "from rdkit import DataStructs\n",
        "from rdkit.ML.Cluster import Butina\n",
        "from rdkit.Chem import rdMolDescriptors as rdmd\n",
        "from deepchem.models import GraphConvModel\n"
      ]
    },
    {
      "cell_type": "code",
      "source": [
        "import numpy as np\n",
        "import pandas as pd\n",
        "import sys\n",
        "import seaborn as sns\n",
        "%config InlineBackend.figure_format = 'retina'\n",
        "from tqdm.auto import tqdm"
      ],
      "metadata": {
        "id": "WtF6y49KFIN4"
      },
      "execution_count": 30,
      "outputs": []
    },
    {
      "cell_type": "code",
      "execution_count": 6,
      "metadata": {
        "id": "j8gfrBZaOG6V"
      },
      "outputs": [],
      "source": [
        "import warnings\n",
        "warnings.filterwarnings(\"ignore\")"
      ]
    },
    {
      "cell_type": "markdown",
      "source": [
        "# 데이터\n",
        "\n",
        "- 분자 데이터는 SMILES 형식이다. 이를 데이터프레임에 불러온다\n",
        "- AddMoleculeColumnToFrame()를 사용해 SMILES를 데이터프레임이 추가한다"
      ],
      "metadata": {
        "id": "PzA-0qesDcZS"
      }
    },
    {
      "cell_type": "code",
      "execution_count": 7,
      "metadata": {
        "id": "CPqIv1_8z4yU"
      },
      "outputs": [],
      "source": [
        "active_df = pd.read_csv(\"https://raw.githubusercontent.com/deepchem/DeepLearningLifeSciences/master/Chapter11/mk01/actives_final.ism\",\n",
        "                        header=None,sep=\" \")\n",
        "active_rows, active_cols = active_df.shape\n",
        "active_df.columns = [\"SMILES\",\"ID\",\"ChEMBL_ID\"]\n",
        "active_df[\"label\"] = [\"Active\"]*active_rows\n",
        "PandasTools.AddMoleculeColumnToFrame(active_df,\"SMILES\",\"Mol\")\n"
      ]
    },
    {
      "cell_type": "markdown",
      "metadata": {
        "id": "m5xtBXHRz4yU"
      },
      "source": [
        "## 데이터프레임에 계산된 특성값을 추가\n",
        "- 분자량 molecular weight, \n",
        "- 분배 계수 partition coefficeint(LogP) - 유성물질(옥탄올)에서 물로 분리되는 능력\n",
        "- 전하 charge (양인지 음인지)"
      ]
    },
    {
      "cell_type": "code",
      "execution_count": 8,
      "metadata": {
        "id": "IqjKaT8Ez4yU"
      },
      "outputs": [],
      "source": [
        "def add_property_columns_to_df(df_in):\n",
        "    df_in[\"mw\"] = [Descriptors.MolWt(mol) for mol in df_in.Mol]\n",
        "    df_in[\"logP\"] = [Descriptors.MolLogP(mol) for mol in df_in.Mol]\n",
        "    df_in[\"charge\"] = [rdmolops.GetFormalCharge(mol) for mol in df_in.Mol]"
      ]
    },
    {
      "cell_type": "code",
      "execution_count": 9,
      "metadata": {
        "id": "hS4OpyOiz4yV",
        "colab": {
          "base_uri": "https://localhost:8080/",
          "height": 337
        },
        "outputId": "0adf143c-7018-414f-e76b-bd4622647559"
      },
      "outputs": [
        {
          "output_type": "execute_result",
          "data": {
            "text/plain": [
              "                                              SMILES      ID     ChEMBL_ID  \\\n",
              "0  Cn1ccnc1Sc2ccc(cc2Cl)Nc3c4cc(c(cc4ncc3C#N)OCCC...  168691  CHEMBL318804   \n",
              "1  C[C@@]12[C@@H]([C@@H](CC(O1)n3c4ccccc4c5c3c6n2...   86358     CHEMBL162   \n",
              "2  Cc1cnc(nc1c2cc([nH]c2)C(=O)N[C@H](CO)c3cccc(c3...  575087  CHEMBL576683   \n",
              "3  Cc1cnc(nc1c2cc([nH]c2)C(=O)N[C@H](CO)c3cccc(c3...  575065  CHEMBL571484   \n",
              "4  Cc1cnc(nc1c2cc([nH]c2)C(=O)N[C@H](CO)c3cccc(c3...  575047  CHEMBL568937   \n",
              "\n",
              "    label                                               Mol       mw     logP  \\\n",
              "0  Active  <rdkit.Chem.rdchem.Mol object at 0x7f37013c8ad0>  565.099  5.49788   \n",
              "1  Active  <rdkit.Chem.rdchem.Mol object at 0x7f37013d86c0>  466.541  4.35400   \n",
              "2  Active  <rdkit.Chem.rdchem.Mol object at 0x7f37013d7170>  527.915  4.96202   \n",
              "3  Active  <rdkit.Chem.rdchem.Mol object at 0x7f37eb62d9e0>  491.935  4.36922   \n",
              "4  Active  <rdkit.Chem.rdchem.Mol object at 0x7f37013c7b70>  487.991  5.12922   \n",
              "\n",
              "   charge  \n",
              "0       0  \n",
              "1       0  \n",
              "2       0  \n",
              "3       0  \n",
              "4       0  "
            ],
            "text/html": [
              "\n",
              "  <div id=\"df-9ca4ddfc-e158-4730-a579-173675d12daa\">\n",
              "    <div class=\"colab-df-container\">\n",
              "      <div>\n",
              "<style scoped>\n",
              "    .dataframe tbody tr th:only-of-type {\n",
              "        vertical-align: middle;\n",
              "    }\n",
              "\n",
              "    .dataframe tbody tr th {\n",
              "        vertical-align: top;\n",
              "    }\n",
              "\n",
              "    .dataframe thead th {\n",
              "        text-align: right;\n",
              "    }\n",
              "</style>\n",
              "<table border=\"1\" class=\"dataframe\">\n",
              "  <thead>\n",
              "    <tr style=\"text-align: right;\">\n",
              "      <th></th>\n",
              "      <th>SMILES</th>\n",
              "      <th>ID</th>\n",
              "      <th>ChEMBL_ID</th>\n",
              "      <th>label</th>\n",
              "      <th>Mol</th>\n",
              "      <th>mw</th>\n",
              "      <th>logP</th>\n",
              "      <th>charge</th>\n",
              "    </tr>\n",
              "  </thead>\n",
              "  <tbody>\n",
              "    <tr>\n",
              "      <th>0</th>\n",
              "      <td>Cn1ccnc1Sc2ccc(cc2Cl)Nc3c4cc(c(cc4ncc3C#N)OCCC...</td>\n",
              "      <td>168691</td>\n",
              "      <td>CHEMBL318804</td>\n",
              "      <td>Active</td>\n",
              "      <td>&lt;rdkit.Chem.rdchem.Mol object at 0x7f37013c8ad0&gt;</td>\n",
              "      <td>565.099</td>\n",
              "      <td>5.49788</td>\n",
              "      <td>0</td>\n",
              "    </tr>\n",
              "    <tr>\n",
              "      <th>1</th>\n",
              "      <td>C[C@@]12[C@@H]([C@@H](CC(O1)n3c4ccccc4c5c3c6n2...</td>\n",
              "      <td>86358</td>\n",
              "      <td>CHEMBL162</td>\n",
              "      <td>Active</td>\n",
              "      <td>&lt;rdkit.Chem.rdchem.Mol object at 0x7f37013d86c0&gt;</td>\n",
              "      <td>466.541</td>\n",
              "      <td>4.35400</td>\n",
              "      <td>0</td>\n",
              "    </tr>\n",
              "    <tr>\n",
              "      <th>2</th>\n",
              "      <td>Cc1cnc(nc1c2cc([nH]c2)C(=O)N[C@H](CO)c3cccc(c3...</td>\n",
              "      <td>575087</td>\n",
              "      <td>CHEMBL576683</td>\n",
              "      <td>Active</td>\n",
              "      <td>&lt;rdkit.Chem.rdchem.Mol object at 0x7f37013d7170&gt;</td>\n",
              "      <td>527.915</td>\n",
              "      <td>4.96202</td>\n",
              "      <td>0</td>\n",
              "    </tr>\n",
              "    <tr>\n",
              "      <th>3</th>\n",
              "      <td>Cc1cnc(nc1c2cc([nH]c2)C(=O)N[C@H](CO)c3cccc(c3...</td>\n",
              "      <td>575065</td>\n",
              "      <td>CHEMBL571484</td>\n",
              "      <td>Active</td>\n",
              "      <td>&lt;rdkit.Chem.rdchem.Mol object at 0x7f37eb62d9e0&gt;</td>\n",
              "      <td>491.935</td>\n",
              "      <td>4.36922</td>\n",
              "      <td>0</td>\n",
              "    </tr>\n",
              "    <tr>\n",
              "      <th>4</th>\n",
              "      <td>Cc1cnc(nc1c2cc([nH]c2)C(=O)N[C@H](CO)c3cccc(c3...</td>\n",
              "      <td>575047</td>\n",
              "      <td>CHEMBL568937</td>\n",
              "      <td>Active</td>\n",
              "      <td>&lt;rdkit.Chem.rdchem.Mol object at 0x7f37013c7b70&gt;</td>\n",
              "      <td>487.991</td>\n",
              "      <td>5.12922</td>\n",
              "      <td>0</td>\n",
              "    </tr>\n",
              "  </tbody>\n",
              "</table>\n",
              "</div>\n",
              "      <button class=\"colab-df-convert\" onclick=\"convertToInteractive('df-9ca4ddfc-e158-4730-a579-173675d12daa')\"\n",
              "              title=\"Convert this dataframe to an interactive table.\"\n",
              "              style=\"display:none;\">\n",
              "        \n",
              "  <svg xmlns=\"http://www.w3.org/2000/svg\" height=\"24px\"viewBox=\"0 0 24 24\"\n",
              "       width=\"24px\">\n",
              "    <path d=\"M0 0h24v24H0V0z\" fill=\"none\"/>\n",
              "    <path d=\"M18.56 5.44l.94 2.06.94-2.06 2.06-.94-2.06-.94-.94-2.06-.94 2.06-2.06.94zm-11 1L8.5 8.5l.94-2.06 2.06-.94-2.06-.94L8.5 2.5l-.94 2.06-2.06.94zm10 10l.94 2.06.94-2.06 2.06-.94-2.06-.94-.94-2.06-.94 2.06-2.06.94z\"/><path d=\"M17.41 7.96l-1.37-1.37c-.4-.4-.92-.59-1.43-.59-.52 0-1.04.2-1.43.59L10.3 9.45l-7.72 7.72c-.78.78-.78 2.05 0 2.83L4 21.41c.39.39.9.59 1.41.59.51 0 1.02-.2 1.41-.59l7.78-7.78 2.81-2.81c.8-.78.8-2.07 0-2.86zM5.41 20L4 18.59l7.72-7.72 1.47 1.35L5.41 20z\"/>\n",
              "  </svg>\n",
              "      </button>\n",
              "      \n",
              "  <style>\n",
              "    .colab-df-container {\n",
              "      display:flex;\n",
              "      flex-wrap:wrap;\n",
              "      gap: 12px;\n",
              "    }\n",
              "\n",
              "    .colab-df-convert {\n",
              "      background-color: #E8F0FE;\n",
              "      border: none;\n",
              "      border-radius: 50%;\n",
              "      cursor: pointer;\n",
              "      display: none;\n",
              "      fill: #1967D2;\n",
              "      height: 32px;\n",
              "      padding: 0 0 0 0;\n",
              "      width: 32px;\n",
              "    }\n",
              "\n",
              "    .colab-df-convert:hover {\n",
              "      background-color: #E2EBFA;\n",
              "      box-shadow: 0px 1px 2px rgba(60, 64, 67, 0.3), 0px 1px 3px 1px rgba(60, 64, 67, 0.15);\n",
              "      fill: #174EA6;\n",
              "    }\n",
              "\n",
              "    [theme=dark] .colab-df-convert {\n",
              "      background-color: #3B4455;\n",
              "      fill: #D2E3FC;\n",
              "    }\n",
              "\n",
              "    [theme=dark] .colab-df-convert:hover {\n",
              "      background-color: #434B5C;\n",
              "      box-shadow: 0px 1px 3px 1px rgba(0, 0, 0, 0.15);\n",
              "      filter: drop-shadow(0px 1px 2px rgba(0, 0, 0, 0.3));\n",
              "      fill: #FFFFFF;\n",
              "    }\n",
              "  </style>\n",
              "\n",
              "      <script>\n",
              "        const buttonEl =\n",
              "          document.querySelector('#df-9ca4ddfc-e158-4730-a579-173675d12daa button.colab-df-convert');\n",
              "        buttonEl.style.display =\n",
              "          google.colab.kernel.accessAllowed ? 'block' : 'none';\n",
              "\n",
              "        async function convertToInteractive(key) {\n",
              "          const element = document.querySelector('#df-9ca4ddfc-e158-4730-a579-173675d12daa');\n",
              "          const dataTable =\n",
              "            await google.colab.kernel.invokeFunction('convertToInteractive',\n",
              "                                                     [key], {});\n",
              "          if (!dataTable) return;\n",
              "\n",
              "          const docLinkHtml = 'Like what you see? Visit the ' +\n",
              "            '<a target=\"_blank\" href=https://colab.research.google.com/notebooks/data_table.ipynb>data table notebook</a>'\n",
              "            + ' to learn more about interactive tables.';\n",
              "          element.innerHTML = '';\n",
              "          dataTable['output_type'] = 'display_data';\n",
              "          await google.colab.output.renderOutput(dataTable, element);\n",
              "          const docLink = document.createElement('div');\n",
              "          docLink.innerHTML = docLinkHtml;\n",
              "          element.appendChild(docLink);\n",
              "        }\n",
              "      </script>\n",
              "    </div>\n",
              "  </div>\n",
              "  "
            ]
          },
          "metadata": {},
          "execution_count": 9
        }
      ],
      "source": [
        "add_property_columns_to_df(active_df)\n",
        "active_df.head()"
      ]
    },
    {
      "cell_type": "markdown",
      "metadata": {
        "id": "zjnUULUtz4yW"
      },
      "source": [
        "## 같은 작업을 decoy molecules에 대해서도 수행"
      ]
    },
    {
      "cell_type": "code",
      "execution_count": 10,
      "metadata": {
        "id": "YI5vDzKfz4yX"
      },
      "outputs": [],
      "source": [
        "decoy_df = pd.read_csv(\"https://raw.githubusercontent.com/deepchem/DeepLearningLifeSciences/master/Chapter11/mk01/decoys_final.ism\",\n",
        "                       header=None,sep=\" \")\n",
        "decoy_df.columns = [\"SMILES\",\"ID\"]\n",
        "decoy_rows, decoy_cols = decoy_df.shape\n",
        "decoy_df[\"label\"] = [\"Decoy\"]*decoy_rows\n",
        "PandasTools.AddMoleculeColumnToFrame(decoy_df,\"SMILES\",\"Mol\")\n",
        "add_property_columns_to_df(decoy_df)"
      ]
    },
    {
      "cell_type": "markdown",
      "source": [
        "- 데이터를 합친다"
      ],
      "metadata": {
        "id": "3r8nfyuPEfAX"
      }
    },
    {
      "cell_type": "code",
      "execution_count": 11,
      "metadata": {
        "id": "0OrArJbcz4yX"
      },
      "outputs": [],
      "source": [
        "tmp_df = active_df.append(decoy_df)"
      ]
    },
    {
      "cell_type": "markdown",
      "metadata": {
        "id": "KxfG36Osz4yX"
      },
      "source": [
        "- violin plot"
      ]
    },
    {
      "cell_type": "code",
      "execution_count": 12,
      "metadata": {
        "colab": {
          "base_uri": "https://localhost:8080/",
          "height": 278
        },
        "id": "B0NyoEDmz4yX",
        "outputId": "7823f807-6a78-4117-8397-ea7b82504ab4"
      },
      "outputs": [
        {
          "output_type": "display_data",
          "data": {
            "text/plain": [
              "<Figure size 432x288 with 1 Axes>"
            ],
            "image/png": "[encoded data removed]"
          },
          "metadata": {
            "image/png": {
              "width": 388,
              "height": 261
            },
            "needs_background": "light"
          }
        }
      ],
      "source": [
        "sns.violinplot(x=tmp_df[\"label\"],y=tmp_df[\"mw\"]);"
      ]
    },
    {
      "cell_type": "markdown",
      "metadata": {
        "id": "FzLVdAN5z4yX"
      },
      "source": [
        "- 위 그래프를 보면 분자량 분포는 비슷하다\n",
        "- 400mw 이하의 분자들이 비활성 분자 데이터셋에 좀 더 많이 들어 있다"
      ]
    },
    {
      "cell_type": "code",
      "execution_count": 13,
      "metadata": {
        "colab": {
          "base_uri": "https://localhost:8080/",
          "height": 278
        },
        "id": "MCGBGDW8z4yY",
        "outputId": "3016a3f4-ab0d-4a7b-a286-8340686ba7be"
      },
      "outputs": [
        {
          "output_type": "display_data",
          "data": {
            "text/plain": [
              "<Figure size 432x288 with 1 Axes>"
            ],
            "image/png": "[encoded data removed]"
          },
          "metadata": {
            "image/png": {
              "width": 384,
              "height": 261
            },
            "needs_background": "light"
          }
        }
      ],
      "source": [
        "sns.violinplot(x=tmp_df[\"label\"],y=tmp_df[\"logP\"]);"
      ]
    },
    {
      "cell_type": "code",
      "execution_count": 14,
      "metadata": {
        "colab": {
          "base_uri": "https://localhost:8080/",
          "height": 278
        },
        "id": "M2cvDR9mz4yY",
        "outputId": "65639499-a4e7-4fa4-8941-385a6699d1a2"
      },
      "outputs": [
        {
          "output_type": "display_data",
          "data": {
            "text/plain": [
              "<Figure size 432x288 with 1 Axes>"
            ],
            "image/png": "[encoded data removed]"
          },
          "metadata": {
            "image/png": {
              "width": 394,
              "height": 261
            },
            "needs_background": "light"
          }
        }
      ],
      "source": [
        "sns.violinplot(x=tmp_df[\"label\"],y=tmp_df[\"charge\"]);"
      ]
    },
    {
      "cell_type": "markdown",
      "metadata": {
        "id": "EnY2ge1Ez4yY"
      },
      "source": [
        "- 활성 분자는 모두 중성이다\n",
        "- 비활성 분자는 일부 +1과 -1이 있다"
      ]
    },
    {
      "cell_type": "code",
      "execution_count": 15,
      "metadata": {
        "id": "nsxlupqbz4yY"
      },
      "outputs": [],
      "source": [
        "charged = decoy_df[decoy_df[\"charge\"] != 0]"
      ]
    },
    {
      "cell_type": "code",
      "execution_count": 16,
      "metadata": {
        "colab": {
          "base_uri": "https://localhost:8080/"
        },
        "id": "m4ae1YHqz4yZ",
        "outputId": "b8d13d27-4627-40c3-ac9f-350e43c80d86"
      },
      "outputs": [
        {
          "output_type": "execute_result",
          "data": {
            "text/plain": [
              "0.16175824175824177"
            ]
          },
          "metadata": {},
          "execution_count": 16
        }
      ],
      "source": [
        "charged.shape[0]/decoy_df.shape[0]"
      ]
    },
    {
      "cell_type": "markdown",
      "metadata": {
        "id": "fNEBUWSuz4yZ"
      },
      "source": [
        "- 비활성 분자의 16%가 전하를 띠고 있다\n",
        "- 전하 차이에 의해 머신러닝 모델이 바이어스가 생기게 되므로, 비활성 분자의 화학 구조를 수정하여 전하를 제거하겠다\n",
        "- 아래는 이를 위한 함수 정의이다"
      ]
    },
    {
      "cell_type": "code",
      "execution_count": 17,
      "metadata": {
        "id": "YebLfFHFDkdk"
      },
      "outputs": [],
      "source": [
        "def _InitialiseNeutralisationReactions():\n",
        "    patts= (\n",
        "        # Imidazoles\n",
        "        ('[n+;H]','n'),\n",
        "        # Amines\n",
        "        ('[N+;!H0]','N'),\n",
        "        # Carboxylic acids and alcohols\n",
        "        ('[$([O-]);!$([O-][#7])]','O'),\n",
        "        # Thiols\n",
        "        ('[S-;X1]','S'),\n",
        "        # Sulfonamides\n",
        "        ('[$([N-;X2]S(=O)=O)]','N'),\n",
        "        # Enamines\n",
        "        ('[$([N-;X2][C,N]=C)]','N'),\n",
        "        # Tetrazoles\n",
        "        ('[n-]','[nH]'),\n",
        "        # Sulfoxides\n",
        "        ('[$([S-]=O)]','S'),\n",
        "        # Amides\n",
        "        ('[$([N-]C=O)]','N'),\n",
        "        )\n",
        "    return [(Chem.MolFromSmarts(x),Chem.MolFromSmiles(y,False)) for x,y in patts]\n",
        "\n",
        "_reactions=None\n",
        "\n",
        "def NeutraliseCharges(smiles, reactions=None):\n",
        "    global _reactions\n",
        "    if reactions is None:\n",
        "        if _reactions is None:\n",
        "            _reactions=_InitialiseNeutralisationReactions()\n",
        "        reactions=_reactions\n",
        "    mol = Chem.MolFromSmiles(smiles)\n",
        "    replaced = False\n",
        "    for i,(reactant, product) in enumerate(reactions):\n",
        "        while mol.HasSubstructMatch(reactant):\n",
        "            replaced = True\n",
        "            rms = AllChem.ReplaceSubstructs(mol, reactant, product)\n",
        "            mol = rms[0]\n",
        "    if replaced:\n",
        "        return (Chem.MolToSmiles(mol,True), True)\n",
        "    else:\n",
        "        return (smiles, False)"
      ]
    },
    {
      "cell_type": "code",
      "execution_count": 18,
      "metadata": {
        "id": "v9zT1W4lz4yZ"
      },
      "outputs": [],
      "source": [
        "revised_decoy_df = decoy_df[[\"SMILES\",\"ID\",\"label\"]].copy()"
      ]
    },
    {
      "cell_type": "markdown",
      "metadata": {
        "id": "HjqjW_sSz4yZ"
      },
      "source": [
        "- 중성화된 SMILES만 사용하면 되므로 첫 번째 컬럼만 사용한다 (두번째 컬럼에는 전하여부를 나타내는 불리언 변수가 들어 있다)"
      ]
    },
    {
      "cell_type": "code",
      "execution_count": 19,
      "metadata": {
        "id": "kmCa_bK0z4yZ"
      },
      "outputs": [],
      "source": [
        "revised_decoy_df[\"SMILES\"] = [NeutraliseCharges(x)[0] for x in revised_decoy_df[\"SMILES\"]]\n"
      ]
    },
    {
      "cell_type": "markdown",
      "metadata": {
        "id": "RJAuMomNz4yZ"
      },
      "source": [
        "- 특성을 다시 계산한다\n",
        "- 전하를 띤 샘플의 수가 감소했다"
      ]
    },
    {
      "cell_type": "code",
      "execution_count": 20,
      "metadata": {
        "id": "HO9X1SmLz4yZ"
      },
      "outputs": [],
      "source": [
        "PandasTools.AddMoleculeColumnToFrame(revised_decoy_df,\"SMILES\",\"Mol\")\n",
        "add_property_columns_to_df(revised_decoy_df)"
      ]
    },
    {
      "cell_type": "code",
      "execution_count": 21,
      "metadata": {
        "id": "7pcGOamBz4yZ"
      },
      "outputs": [],
      "source": [
        "new_tmp_df = active_df.append(revised_decoy_df)"
      ]
    },
    {
      "cell_type": "code",
      "execution_count": 22,
      "metadata": {
        "colab": {
          "base_uri": "https://localhost:8080/",
          "height": 296
        },
        "id": "i1HO5iHNz4yZ",
        "outputId": "696ed1a4-8e91-47ce-b712-48ec1fd95385"
      },
      "outputs": [
        {
          "output_type": "execute_result",
          "data": {
            "text/plain": [
              "<matplotlib.axes._subplots.AxesSubplot at 0x7f3700b4fb10>"
            ]
          },
          "metadata": {},
          "execution_count": 22
        },
        {
          "output_type": "display_data",
          "data": {
            "text/plain": [
              "<Figure size 432x288 with 1 Axes>"
            ],
            "image/png": "[encoded data removed]"
          },
          "metadata": {
            "image/png": {
              "width": 400,
              "height": 261
            },
            "needs_background": "light"
          }
        }
      ],
      "source": [
        "sns.violinplot(x=new_tmp_df[\"label\"],y=new_tmp_df[\"charge\"])"
      ]
    },
    {
      "cell_type": "code",
      "execution_count": 23,
      "metadata": {
        "colab": {
          "base_uri": "https://localhost:8080/"
        },
        "id": "2F5f08LRz4yZ",
        "outputId": "1203e516-fb41-4ce0-a545-e9eaefd26055"
      },
      "outputs": [
        {
          "output_type": "execute_result",
          "data": {
            "text/plain": [
              "0.0026373626373626374"
            ]
          },
          "metadata": {},
          "execution_count": 23
        }
      ],
      "source": [
        "charged = revised_decoy_df[revised_decoy_df[\"charge\"] != 0]\n",
        "charged.shape[0]/revised_decoy_df.shape[0]"
      ]
    },
    {
      "cell_type": "markdown",
      "metadata": {
        "id": "kmoGr0jtz4ya"
      },
      "source": [
        "- 활성을 1로 비활성을 0으로 인코딩한다"
      ]
    },
    {
      "cell_type": "code",
      "execution_count": 24,
      "metadata": {
        "colab": {
          "base_uri": "https://localhost:8080/",
          "height": 206
        },
        "id": "VVc_Gm_Uz4ya",
        "outputId": "bb0da2a7-804f-481e-a620-1eb601b2b14b"
      },
      "outputs": [
        {
          "output_type": "execute_result",
          "data": {
            "text/plain": [
              "                                              SMILES      ID  is_active\n",
              "0  Cn1ccnc1Sc2ccc(cc2Cl)Nc3c4cc(c(cc4ncc3C#N)OCCC...  168691          1\n",
              "1  C[C@@]12[C@@H]([C@@H](CC(O1)n3c4ccccc4c5c3c6n2...   86358          1\n",
              "2  Cc1cnc(nc1c2cc([nH]c2)C(=O)N[C@H](CO)c3cccc(c3...  575087          1\n",
              "3  Cc1cnc(nc1c2cc([nH]c2)C(=O)N[C@H](CO)c3cccc(c3...  575065          1\n",
              "4  Cc1cnc(nc1c2cc([nH]c2)C(=O)N[C@H](CO)c3cccc(c3...  575047          1"
            ],
            "text/html": [
              "\n",
              "  <div id=\"df-23fb28cf-d9e1-4bca-b35e-d0758da81fcf\">\n",
              "    <div class=\"colab-df-container\">\n",
              "      <div>\n",
              "<style scoped>\n",
              "    .dataframe tbody tr th:only-of-type {\n",
              "        vertical-align: middle;\n",
              "    }\n",
              "\n",
              "    .dataframe tbody tr th {\n",
              "        vertical-align: top;\n",
              "    }\n",
              "\n",
              "    .dataframe thead th {\n",
              "        text-align: right;\n",
              "    }\n",
              "</style>\n",
              "<table border=\"1\" class=\"dataframe\">\n",
              "  <thead>\n",
              "    <tr style=\"text-align: right;\">\n",
              "      <th></th>\n",
              "      <th>SMILES</th>\n",
              "      <th>ID</th>\n",
              "      <th>is_active</th>\n",
              "    </tr>\n",
              "  </thead>\n",
              "  <tbody>\n",
              "    <tr>\n",
              "      <th>0</th>\n",
              "      <td>Cn1ccnc1Sc2ccc(cc2Cl)Nc3c4cc(c(cc4ncc3C#N)OCCC...</td>\n",
              "      <td>168691</td>\n",
              "      <td>1</td>\n",
              "    </tr>\n",
              "    <tr>\n",
              "      <th>1</th>\n",
              "      <td>C[C@@]12[C@@H]([C@@H](CC(O1)n3c4ccccc4c5c3c6n2...</td>\n",
              "      <td>86358</td>\n",
              "      <td>1</td>\n",
              "    </tr>\n",
              "    <tr>\n",
              "      <th>2</th>\n",
              "      <td>Cc1cnc(nc1c2cc([nH]c2)C(=O)N[C@H](CO)c3cccc(c3...</td>\n",
              "      <td>575087</td>\n",
              "      <td>1</td>\n",
              "    </tr>\n",
              "    <tr>\n",
              "      <th>3</th>\n",
              "      <td>Cc1cnc(nc1c2cc([nH]c2)C(=O)N[C@H](CO)c3cccc(c3...</td>\n",
              "      <td>575065</td>\n",
              "      <td>1</td>\n",
              "    </tr>\n",
              "    <tr>\n",
              "      <th>4</th>\n",
              "      <td>Cc1cnc(nc1c2cc([nH]c2)C(=O)N[C@H](CO)c3cccc(c3...</td>\n",
              "      <td>575047</td>\n",
              "      <td>1</td>\n",
              "    </tr>\n",
              "  </tbody>\n",
              "</table>\n",
              "</div>\n",
              "      <button class=\"colab-df-convert\" onclick=\"convertToInteractive('df-23fb28cf-d9e1-4bca-b35e-d0758da81fcf')\"\n",
              "              title=\"Convert this dataframe to an interactive table.\"\n",
              "              style=\"display:none;\">\n",
              "        \n",
              "  <svg xmlns=\"http://www.w3.org/2000/svg\" height=\"24px\"viewBox=\"0 0 24 24\"\n",
              "       width=\"24px\">\n",
              "    <path d=\"M0 0h24v24H0V0z\" fill=\"none\"/>\n",
              "    <path d=\"M18.56 5.44l.94 2.06.94-2.06 2.06-.94-2.06-.94-.94-2.06-.94 2.06-2.06.94zm-11 1L8.5 8.5l.94-2.06 2.06-.94-2.06-.94L8.5 2.5l-.94 2.06-2.06.94zm10 10l.94 2.06.94-2.06 2.06-.94-2.06-.94-.94-2.06-.94 2.06-2.06.94z\"/><path d=\"M17.41 7.96l-1.37-1.37c-.4-.4-.92-.59-1.43-.59-.52 0-1.04.2-1.43.59L10.3 9.45l-7.72 7.72c-.78.78-.78 2.05 0 2.83L4 21.41c.39.39.9.59 1.41.59.51 0 1.02-.2 1.41-.59l7.78-7.78 2.81-2.81c.8-.78.8-2.07 0-2.86zM5.41 20L4 18.59l7.72-7.72 1.47 1.35L5.41 20z\"/>\n",
              "  </svg>\n",
              "      </button>\n",
              "      \n",
              "  <style>\n",
              "    .colab-df-container {\n",
              "      display:flex;\n",
              "      flex-wrap:wrap;\n",
              "      gap: 12px;\n",
              "    }\n",
              "\n",
              "    .colab-df-convert {\n",
              "      background-color: #E8F0FE;\n",
              "      border: none;\n",
              "      border-radius: 50%;\n",
              "      cursor: pointer;\n",
              "      display: none;\n",
              "      fill: #1967D2;\n",
              "      height: 32px;\n",
              "      padding: 0 0 0 0;\n",
              "      width: 32px;\n",
              "    }\n",
              "\n",
              "    .colab-df-convert:hover {\n",
              "      background-color: #E2EBFA;\n",
              "      box-shadow: 0px 1px 2px rgba(60, 64, 67, 0.3), 0px 1px 3px 1px rgba(60, 64, 67, 0.15);\n",
              "      fill: #174EA6;\n",
              "    }\n",
              "\n",
              "    [theme=dark] .colab-df-convert {\n",
              "      background-color: #3B4455;\n",
              "      fill: #D2E3FC;\n",
              "    }\n",
              "\n",
              "    [theme=dark] .colab-df-convert:hover {\n",
              "      background-color: #434B5C;\n",
              "      box-shadow: 0px 1px 3px 1px rgba(0, 0, 0, 0.15);\n",
              "      filter: drop-shadow(0px 1px 2px rgba(0, 0, 0, 0.3));\n",
              "      fill: #FFFFFF;\n",
              "    }\n",
              "  </style>\n",
              "\n",
              "      <script>\n",
              "        const buttonEl =\n",
              "          document.querySelector('#df-23fb28cf-d9e1-4bca-b35e-d0758da81fcf button.colab-df-convert');\n",
              "        buttonEl.style.display =\n",
              "          google.colab.kernel.accessAllowed ? 'block' : 'none';\n",
              "\n",
              "        async function convertToInteractive(key) {\n",
              "          const element = document.querySelector('#df-23fb28cf-d9e1-4bca-b35e-d0758da81fcf');\n",
              "          const dataTable =\n",
              "            await google.colab.kernel.invokeFunction('convertToInteractive',\n",
              "                                                     [key], {});\n",
              "          if (!dataTable) return;\n",
              "\n",
              "          const docLinkHtml = 'Like what you see? Visit the ' +\n",
              "            '<a target=\"_blank\" href=https://colab.research.google.com/notebooks/data_table.ipynb>data table notebook</a>'\n",
              "            + ' to learn more about interactive tables.';\n",
              "          element.innerHTML = '';\n",
              "          dataTable['output_type'] = 'display_data';\n",
              "          await google.colab.output.renderOutput(dataTable, element);\n",
              "          const docLink = document.createElement('div');\n",
              "          docLink.innerHTML = docLinkHtml;\n",
              "          element.appendChild(docLink);\n",
              "        }\n",
              "      </script>\n",
              "    </div>\n",
              "  </div>\n",
              "  "
            ]
          },
          "metadata": {},
          "execution_count": 24
        }
      ],
      "source": [
        "active_df[\"is_active\"] = [1] * active_df.shape[0]\n",
        "revised_decoy_df[\"is_active\"] = [0] * revised_decoy_df.shape[0]\n",
        "combined_df = active_df.append(revised_decoy_df)[[\"SMILES\",\"ID\",\"is_active\"]]\n",
        "combined_df.head()"
      ]
    },
    {
      "cell_type": "code",
      "execution_count": 25,
      "metadata": {
        "id": "1NDR_A5oz4ya"
      },
      "outputs": [],
      "source": [
        "# 파일로 저장해둔다\n",
        "combined_df.to_csv(\"dude_erk1_mk01.csv\")"
      ]
    },
    {
      "cell_type": "markdown",
      "metadata": {
        "id": "1V7obXblHUP6"
      },
      "source": [
        "# 이진 분류 모델\n",
        "\n",
        "- GCN 모델을 사용"
      ]
    },
    {
      "cell_type": "markdown",
      "metadata": {
        "id": "ee8fkz1pIStN"
      },
      "source": [
        "- 그래프 합성곱 모델을 만드는 함수"
      ]
    },
    {
      "cell_type": "code",
      "execution_count": 26,
      "metadata": {
        "id": "_ZB9-hFQHhph"
      },
      "outputs": [],
      "source": [
        "def generate_graph_conv_model():\n",
        "    batch_size = 128\n",
        "    model = GraphConvModel(1, batch_size=batch_size, \n",
        "             mode='classification', model_dir=\"./model_dir\")\n",
        "    return model"
      ]
    },
    {
      "cell_type": "code",
      "execution_count": 27,
      "metadata": {
        "id": "cxvt5XBkHsiK"
      },
      "outputs": [],
      "source": [
        "dataset_file = \"dude_erk1_mk01.csv\"\n",
        "tasks = [\"is_active\"]\n",
        "featurizer = dc.feat.ConvMolFeaturizer()\n",
        "loader = dc.data.CSVLoader(tasks=tasks, feature_field=\"SMILES\", featurizer=featurizer)\n",
        "dataset = loader.create_dataset(dataset_file, shard_size=8192)"
      ]
    },
    {
      "cell_type": "markdown",
      "metadata": {
        "id": "jC8aDynkIz89"
      },
      "source": [
        "- RandomSplitter() 사용\n",
        "- 화학 구조를 기반으로 데이터셋을 나누는 ScaffoleSplit(), 데이터를 군집화 한 후에 데이터셋을 분리하는 ButinaSplitter()도 있다\n",
        "- 불균형 데이터에 대한 성능 평가시에는 매튜 상관계수 Matthews Correlarions Coefficients(MCC)를 사용한다\n",
        " - +1이면 완벽한 예측, 0이면 랜덤 예측, -1이면 완전히 반대되는 예측을 의미한다"
      ]
    },
    {
      "cell_type": "code",
      "execution_count": 28,
      "metadata": {
        "id": "bIgIxmECICLd"
      },
      "outputs": [],
      "source": [
        "splitter = dc.splits.RandomSplitter()\n",
        "metrics = [dc.metrics.Metric(dc.metrics.matthews_corrcoef, np.mean)]"
      ]
    },
    {
      "cell_type": "code",
      "execution_count": 31,
      "metadata": {
        "colab": {
          "base_uri": "https://localhost:8080/",
          "height": 85,
          "referenced_widgets": [
            "9b7386bd8fd342529afad27f52802af3",
            "be4ed51b904d401786e2f17a325bd6ab",
            "bb4ac07a83d3442fa2bd1561590abfde",
            "02451f44ca9747498bf64e1e60cca371",
            "1c271c7496314644a94e4118ca0cdfe2",
            "973cd86810a24c7eb12489f921130430",
            "7e7d05be72804625a4305660d90ba22b",
            "3d82f8b65fb54066b2033305df08d0bf",
            "b445e27115ec4e3dbe93f6fc3068c0ce",
            "b9f43307ef524d168b06991b69d9c0c2",
            "72623085da8e4aa9b34bc1edcf4c254d"
          ]
        },
        "collapsed": true,
        "id": "TfsZNqMbKlGv",
        "outputId": "217e140b-3514-4031-8460-54de7801549c"
      },
      "outputs": [
        {
          "output_type": "display_data",
          "data": {
            "text/plain": [
              "  0%|          | 0/5 [00:00<?, ?it/s]"
            ],
            "application/vnd.jupyter.widget-view+json": {
              "version_major": 2,
              "version_minor": 0,
              "model_id": "9b7386bd8fd342529afad27f52802af3"
            }
          },
          "metadata": {}
        },
        {
          "output_type": "stream",
          "name": "stdout",
          "text": [
            "[0.9039933158157277, 0.6984856142107972, 0.8928333917097626, 0.9364075641737641, 0.8892842141870136]\n",
            "[0.9248066127694992, 0.7534545402108427, 0.7040189638958985, 0.9343881101292316, 0.8641283031407085]\n"
          ]
        }
      ],
      "source": [
        "training_score_list = []\n",
        "validation_score_list = []\n",
        "transformers = []\n",
        "cv_folds = 5\n",
        "for i in tqdm(range(0,cv_folds)):\n",
        "    model = generate_graph_conv_model()\n",
        "    train_dataset, valid_dataset, test_dataset = splitter.train_valid_test_split(dataset)\n",
        "    model.fit(train_dataset)\n",
        "    train_scores = model.evaluate(train_dataset, metrics, transformers)\n",
        "    training_score_list.append(train_scores[\"mean-matthews_corrcoef\"])\n",
        "    validation_scores = model.evaluate(valid_dataset, metrics, transformers)\n",
        "    validation_score_list.append(validation_scores[\"mean-matthews_corrcoef\"])\n",
        "print(training_score_list)\n",
        "print(validation_score_list)"
      ]
    },
    {
      "cell_type": "code",
      "execution_count": 32,
      "metadata": {
        "colab": {
          "base_uri": "https://localhost:8080/"
        },
        "id": "x8WbOOLY3Njt",
        "outputId": "8496df15-1d97-4d2e-c2df-f1ce3dffa773"
      },
      "outputs": [
        {
          "output_type": "execute_result",
          "data": {
            "text/plain": [
              "(0.864200820019413, 0.836159306029236)"
            ]
          },
          "metadata": {},
          "execution_count": 32
        }
      ],
      "source": [
        "np.array(training_score_list).mean(), np.array(validation_score_list).mean()"
      ]
    },
    {
      "cell_type": "code",
      "execution_count": 33,
      "metadata": {
        "colab": {
          "base_uri": "https://localhost:8080/",
          "height": 265
        },
        "id": "q-Y7amrZNMzi",
        "outputId": "13dc0410-0b81-4570-9ccb-adc5f5c889dc"
      },
      "outputs": [
        {
          "output_type": "display_data",
          "data": {
            "text/plain": [
              "<Figure size 432x288 with 1 Axes>"
            ],
            "image/png": "[encoded data removed]"
          },
          "metadata": {
            "image/png": {
              "width": 378,
              "height": 248
            },
            "needs_background": "light"
          }
        }
      ],
      "source": [
        "sns.boxplot(x=[\"training\"]*cv_folds+[\"validation\"]*cv_folds,y=training_score_list+validation_score_list);"
      ]
    },
    {
      "cell_type": "markdown",
      "metadata": {
        "id": "TIH_hSwPN-jt"
      },
      "source": [
        "## 검증 데이터 예측값 시각화"
      ]
    },
    {
      "cell_type": "code",
      "execution_count": 34,
      "metadata": {
        "id": "n6h8HG-fNSCZ"
      },
      "outputs": [],
      "source": [
        "pred = [x.flatten() for x in model.predict(valid_dataset)]"
      ]
    },
    {
      "cell_type": "code",
      "execution_count": 35,
      "metadata": {
        "colab": {
          "base_uri": "https://localhost:8080/",
          "height": 206
        },
        "id": "sfNkHHqfNkSe",
        "outputId": "6453b0f6-0772-42a5-a371-e8b63d87421f"
      },
      "outputs": [
        {
          "output_type": "execute_result",
          "data": {
            "text/plain": [
              "        neg       pos  active  \\\n",
              "0  0.999871  0.000128       0   \n",
              "1  0.987707  0.012293       0   \n",
              "2  0.999389  0.000611       0   \n",
              "3  0.999222  0.000778       0   \n",
              "4  0.998878  0.001122       0   \n",
              "\n",
              "                                              SMILES  \n",
              "0  C[C@@H]1CCC[C@@H]([C@H]1C)NC(=S)NNC(=O)CNC(=O)...  \n",
              "1                           Nc1cc(O)nc2n[nH]c(=S)n12  \n",
              "2  c1cc(ccc1S(=O)(=O)N[C@@H]2N/C(=C\\C(=O)NC3=CC4=...  \n",
              "3  C[C@@H](C(=O)Nc1ccc(cc1)C(=O)C)OC(=O)c2cc(cc(c...  \n",
              "4  c1ccc(c(c1)/C=N/Nc2nnc(n2N)SCC(=O)NCc3ccco3)OC...  "
            ],
            "text/html": [
              "\n",
              "  <div id=\"df-d993af86-a1d5-419a-a1f1-26c34ed4662c\">\n",
              "    <div class=\"colab-df-container\">\n",
              "      <div>\n",
              "<style scoped>\n",
              "    .dataframe tbody tr th:only-of-type {\n",
              "        vertical-align: middle;\n",
              "    }\n",
              "\n",
              "    .dataframe tbody tr th {\n",
              "        vertical-align: top;\n",
              "    }\n",
              "\n",
              "    .dataframe thead th {\n",
              "        text-align: right;\n",
              "    }\n",
              "</style>\n",
              "<table border=\"1\" class=\"dataframe\">\n",
              "  <thead>\n",
              "    <tr style=\"text-align: right;\">\n",
              "      <th></th>\n",
              "      <th>neg</th>\n",
              "      <th>pos</th>\n",
              "      <th>active</th>\n",
              "      <th>SMILES</th>\n",
              "    </tr>\n",
              "  </thead>\n",
              "  <tbody>\n",
              "    <tr>\n",
              "      <th>0</th>\n",
              "      <td>0.999871</td>\n",
              "      <td>0.000128</td>\n",
              "      <td>0</td>\n",
              "      <td>C[C@@H]1CCC[C@@H]([C@H]1C)NC(=S)NNC(=O)CNC(=O)...</td>\n",
              "    </tr>\n",
              "    <tr>\n",
              "      <th>1</th>\n",
              "      <td>0.987707</td>\n",
              "      <td>0.012293</td>\n",
              "      <td>0</td>\n",
              "      <td>Nc1cc(O)nc2n[nH]c(=S)n12</td>\n",
              "    </tr>\n",
              "    <tr>\n",
              "      <th>2</th>\n",
              "      <td>0.999389</td>\n",
              "      <td>0.000611</td>\n",
              "      <td>0</td>\n",
              "      <td>c1cc(ccc1S(=O)(=O)N[C@@H]2N/C(=C\\C(=O)NC3=CC4=...</td>\n",
              "    </tr>\n",
              "    <tr>\n",
              "      <th>3</th>\n",
              "      <td>0.999222</td>\n",
              "      <td>0.000778</td>\n",
              "      <td>0</td>\n",
              "      <td>C[C@@H](C(=O)Nc1ccc(cc1)C(=O)C)OC(=O)c2cc(cc(c...</td>\n",
              "    </tr>\n",
              "    <tr>\n",
              "      <th>4</th>\n",
              "      <td>0.998878</td>\n",
              "      <td>0.001122</td>\n",
              "      <td>0</td>\n",
              "      <td>c1ccc(c(c1)/C=N/Nc2nnc(n2N)SCC(=O)NCc3ccco3)OC...</td>\n",
              "    </tr>\n",
              "  </tbody>\n",
              "</table>\n",
              "</div>\n",
              "      <button class=\"colab-df-convert\" onclick=\"convertToInteractive('df-d993af86-a1d5-419a-a1f1-26c34ed4662c')\"\n",
              "              title=\"Convert this dataframe to an interactive table.\"\n",
              "              style=\"display:none;\">\n",
              "        \n",
              "  <svg xmlns=\"http://www.w3.org/2000/svg\" height=\"24px\"viewBox=\"0 0 24 24\"\n",
              "       width=\"24px\">\n",
              "    <path d=\"M0 0h24v24H0V0z\" fill=\"none\"/>\n",
              "    <path d=\"M18.56 5.44l.94 2.06.94-2.06 2.06-.94-2.06-.94-.94-2.06-.94 2.06-2.06.94zm-11 1L8.5 8.5l.94-2.06 2.06-.94-2.06-.94L8.5 2.5l-.94 2.06-2.06.94zm10 10l.94 2.06.94-2.06 2.06-.94-2.06-.94-.94-2.06-.94 2.06-2.06.94z\"/><path d=\"M17.41 7.96l-1.37-1.37c-.4-.4-.92-.59-1.43-.59-.52 0-1.04.2-1.43.59L10.3 9.45l-7.72 7.72c-.78.78-.78 2.05 0 2.83L4 21.41c.39.39.9.59 1.41.59.51 0 1.02-.2 1.41-.59l7.78-7.78 2.81-2.81c.8-.78.8-2.07 0-2.86zM5.41 20L4 18.59l7.72-7.72 1.47 1.35L5.41 20z\"/>\n",
              "  </svg>\n",
              "      </button>\n",
              "      \n",
              "  <style>\n",
              "    .colab-df-container {\n",
              "      display:flex;\n",
              "      flex-wrap:wrap;\n",
              "      gap: 12px;\n",
              "    }\n",
              "\n",
              "    .colab-df-convert {\n",
              "      background-color: #E8F0FE;\n",
              "      border: none;\n",
              "      border-radius: 50%;\n",
              "      cursor: pointer;\n",
              "      display: none;\n",
              "      fill: #1967D2;\n",
              "      height: 32px;\n",
              "      padding: 0 0 0 0;\n",
              "      width: 32px;\n",
              "    }\n",
              "\n",
              "    .colab-df-convert:hover {\n",
              "      background-color: #E2EBFA;\n",
              "      box-shadow: 0px 1px 2px rgba(60, 64, 67, 0.3), 0px 1px 3px 1px rgba(60, 64, 67, 0.15);\n",
              "      fill: #174EA6;\n",
              "    }\n",
              "\n",
              "    [theme=dark] .colab-df-convert {\n",
              "      background-color: #3B4455;\n",
              "      fill: #D2E3FC;\n",
              "    }\n",
              "\n",
              "    [theme=dark] .colab-df-convert:hover {\n",
              "      background-color: #434B5C;\n",
              "      box-shadow: 0px 1px 3px 1px rgba(0, 0, 0, 0.15);\n",
              "      filter: drop-shadow(0px 1px 2px rgba(0, 0, 0, 0.3));\n",
              "      fill: #FFFFFF;\n",
              "    }\n",
              "  </style>\n",
              "\n",
              "      <script>\n",
              "        const buttonEl =\n",
              "          document.querySelector('#df-d993af86-a1d5-419a-a1f1-26c34ed4662c button.colab-df-convert');\n",
              "        buttonEl.style.display =\n",
              "          google.colab.kernel.accessAllowed ? 'block' : 'none';\n",
              "\n",
              "        async function convertToInteractive(key) {\n",
              "          const element = document.querySelector('#df-d993af86-a1d5-419a-a1f1-26c34ed4662c');\n",
              "          const dataTable =\n",
              "            await google.colab.kernel.invokeFunction('convertToInteractive',\n",
              "                                                     [key], {});\n",
              "          if (!dataTable) return;\n",
              "\n",
              "          const docLinkHtml = 'Like what you see? Visit the ' +\n",
              "            '<a target=\"_blank\" href=https://colab.research.google.com/notebooks/data_table.ipynb>data table notebook</a>'\n",
              "            + ' to learn more about interactive tables.';\n",
              "          element.innerHTML = '';\n",
              "          dataTable['output_type'] = 'display_data';\n",
              "          await google.colab.output.renderOutput(dataTable, element);\n",
              "          const docLink = document.createElement('div');\n",
              "          docLink.innerHTML = docLinkHtml;\n",
              "          element.appendChild(docLink);\n",
              "        }\n",
              "      </script>\n",
              "    </div>\n",
              "  </div>\n",
              "  "
            ]
          },
          "metadata": {},
          "execution_count": 35
        }
      ],
      "source": [
        "pred_df = pd.DataFrame(pred,columns=[\"neg\",\"pos\"])\n",
        "pred_df[\"active\"] = [int(x) for x in valid_dataset.y]\n",
        "pred_df[\"SMILES\"] = valid_dataset.ids\n",
        "pred_df.head()"
      ]
    },
    {
      "cell_type": "code",
      "execution_count": 36,
      "metadata": {
        "colab": {
          "base_uri": "https://localhost:8080/",
          "height": 833
        },
        "id": "TQO35DukNoVP",
        "outputId": "2f51b413-b841-488d-9eef-725c3d4c62c6"
      },
      "outputs": [
        {
          "output_type": "execute_result",
          "data": {
            "text/plain": [
              "          neg       pos  active  \\\n",
              "44   0.016507  0.983493       1   \n",
              "117  0.021853  0.978147       1   \n",
              "427  0.116526  0.883474       1   \n",
              "355  0.150656  0.849344       1   \n",
              "67   0.172120  0.827880       1   \n",
              "55   0.219635  0.780365       1   \n",
              "402  0.565775  0.434225       0   \n",
              "228  0.778067  0.221933       1   \n",
              "151  0.872875  0.127125       1   \n",
              "271  0.932649  0.067351       0   \n",
              "426  0.947588  0.052412       0   \n",
              "212  0.950564  0.049436       0   \n",
              "226  0.953427  0.046573       0   \n",
              "76   0.954603  0.045397       0   \n",
              "284  0.957929  0.042071       0   \n",
              "118  0.970555  0.029445       0   \n",
              "458  0.971266  0.028734       0   \n",
              "195  0.974630  0.025370       0   \n",
              "92   0.975363  0.024637       0   \n",
              "190  0.975523  0.024477       0   \n",
              "168  0.978358  0.021642       0   \n",
              "448  0.978416  0.021584       0   \n",
              "54   0.980224  0.019776       0   \n",
              "439  0.980553  0.019447       0   \n",
              "191  0.981165  0.018835       0   \n",
              "\n",
              "                                                SMILES  \n",
              "44   c1cc(cc(c1)Cl)c2cn[nH]c2c3cc([nH]c3)C(=O)NC(CO...  \n",
              "117  c1cc(cc(c1)Cl)c2cn[nH]c2c3cc([nH]c3)C(=O)NC(CO...  \n",
              "427  c1cc(cc(c1)Cl)c2cn[nH]c2c3cc([nH]c3)C(=O)NCc4c...  \n",
              "355  c1ccc(cc1)CONC(=O)c2cc(c[nH]2)c3c(cn[nH]3)c4cc...  \n",
              "67   Cc1cccc(c1C)Nc2ncc(c(n2)c3cc([nH]c3)C(=O)N[C@H...  \n",
              "55   CCc1ccccc1Nc2ncc(c(n2)c3cc([nH]c3)C(=O)N[C@H](...  \n",
              "402       COc1cc(ccc1O)c2cc(cnc2N)c3ccc(cc3)S(=O)(=O)C  \n",
              "228  CC(=O)N1CCC(CC1)Nc2ncc3c(n2)-c4c(c(nn4C)C(=O)N...  \n",
              "151  CNC(=O)Nc1ccc(cn1)CNc2c(cnn2C)C(=O)Nc3ccc(cc3)...  \n",
              "271                       c1cc(ccc1Nc2ccc3c(c2N)ncs3)I  \n",
              "426                    N[P@@](=O)(O)NS(=O)(=O)c1ccccc1  \n",
              "212  c1ccc2c(c1)nc3c(c(n(c3n2)c4ccc(cc4)S(=O)(=O)N)...  \n",
              "226  C[C@]1(C(=O)N(C(=O)N1)CC(=O)NNC(=O)c2cc(cn2C)B...  \n",
              "76   C=CCc1cccc(C=NNC(=O)C(=O)Nc2ccccc2C(=O)Nc2cccc...  \n",
              "284  Cc1c(c2cc(ccc2[nH]1)F)CC(=O)Nc3cc4c(cc3OC)c5cc...  \n",
              "118  COc1cc2c3ccccc3oc2cc1NC(=O)NCCc4ccc(cc4)S(=O)(...  \n",
              "458             NC1=NC=N/C1=C1/NC(C(=O)NCC(F)(F)F)=CO1  \n",
              "195  Cc1ccc2nc(N3CCC[C@H](C(=O)NCCc4c[nH]c5ccc(C)cc...  \n",
              "92   CCOc1cccc2cc(C(=O)Nc3cccc([N+](=O)[O-])c3)c(=N...  \n",
              "190               CN(c1ccccc1)c1ncnc(Nc2ccc(Cl)cn2)c1N  \n",
              "168  Cc1ccccc1n2c(nnc2SCCCC(=O)N3CCN([C@H](C3)C)C(=...  \n",
              "448  c1ccc(cc1)c2ccc(cc2)c3ccc(nn3)N4CCN(CC4)C(=O)C...  \n",
              "54   c1ccc(cc1)/C=C(\\CCO)/C(=O)NNCC(=O)Nc2nc3c(s2)C...  \n",
              "439  c1cc(ccc1c2cc(n[nH]2)c3nnc(n3N)SCC(=O)Nc4ccc(c...  \n",
              "191  [H]/N=c\\1/c(=C\\c2ccc(cc2)O)/c(=O)nc-3s/c(=C/C(...  "
            ],
            "text/html": [
              "\n",
              "  <div id=\"df-bd140fcd-072f-40c8-a289-d6fc1ce04c6e\">\n",
              "    <div class=\"colab-df-container\">\n",
              "      <div>\n",
              "<style scoped>\n",
              "    .dataframe tbody tr th:only-of-type {\n",
              "        vertical-align: middle;\n",
              "    }\n",
              "\n",
              "    .dataframe tbody tr th {\n",
              "        vertical-align: top;\n",
              "    }\n",
              "\n",
              "    .dataframe thead th {\n",
              "        text-align: right;\n",
              "    }\n",
              "</style>\n",
              "<table border=\"1\" class=\"dataframe\">\n",
              "  <thead>\n",
              "    <tr style=\"text-align: right;\">\n",
              "      <th></th>\n",
              "      <th>neg</th>\n",
              "      <th>pos</th>\n",
              "      <th>active</th>\n",
              "      <th>SMILES</th>\n",
              "    </tr>\n",
              "  </thead>\n",
              "  <tbody>\n",
              "    <tr>\n",
              "      <th>44</th>\n",
              "      <td>0.016507</td>\n",
              "      <td>0.983493</td>\n",
              "      <td>1</td>\n",
              "      <td>c1cc(cc(c1)Cl)c2cn[nH]c2c3cc([nH]c3)C(=O)NC(CO...</td>\n",
              "    </tr>\n",
              "    <tr>\n",
              "      <th>117</th>\n",
              "      <td>0.021853</td>\n",
              "      <td>0.978147</td>\n",
              "      <td>1</td>\n",
              "      <td>c1cc(cc(c1)Cl)c2cn[nH]c2c3cc([nH]c3)C(=O)NC(CO...</td>\n",
              "    </tr>\n",
              "    <tr>\n",
              "      <th>427</th>\n",
              "      <td>0.116526</td>\n",
              "      <td>0.883474</td>\n",
              "      <td>1</td>\n",
              "      <td>c1cc(cc(c1)Cl)c2cn[nH]c2c3cc([nH]c3)C(=O)NCc4c...</td>\n",
              "    </tr>\n",
              "    <tr>\n",
              "      <th>355</th>\n",
              "      <td>0.150656</td>\n",
              "      <td>0.849344</td>\n",
              "      <td>1</td>\n",
              "      <td>c1ccc(cc1)CONC(=O)c2cc(c[nH]2)c3c(cn[nH]3)c4cc...</td>\n",
              "    </tr>\n",
              "    <tr>\n",
              "      <th>67</th>\n",
              "      <td>0.172120</td>\n",
              "      <td>0.827880</td>\n",
              "      <td>1</td>\n",
              "      <td>Cc1cccc(c1C)Nc2ncc(c(n2)c3cc([nH]c3)C(=O)N[C@H...</td>\n",
              "    </tr>\n",
              "    <tr>\n",
              "      <th>55</th>\n",
              "      <td>0.219635</td>\n",
              "      <td>0.780365</td>\n",
              "      <td>1</td>\n",
              "      <td>CCc1ccccc1Nc2ncc(c(n2)c3cc([nH]c3)C(=O)N[C@H](...</td>\n",
              "    </tr>\n",
              "    <tr>\n",
              "      <th>402</th>\n",
              "      <td>0.565775</td>\n",
              "      <td>0.434225</td>\n",
              "      <td>0</td>\n",
              "      <td>COc1cc(ccc1O)c2cc(cnc2N)c3ccc(cc3)S(=O)(=O)C</td>\n",
              "    </tr>\n",
              "    <tr>\n",
              "      <th>228</th>\n",
              "      <td>0.778067</td>\n",
              "      <td>0.221933</td>\n",
              "      <td>1</td>\n",
              "      <td>CC(=O)N1CCC(CC1)Nc2ncc3c(n2)-c4c(c(nn4C)C(=O)N...</td>\n",
              "    </tr>\n",
              "    <tr>\n",
              "      <th>151</th>\n",
              "      <td>0.872875</td>\n",
              "      <td>0.127125</td>\n",
              "      <td>1</td>\n",
              "      <td>CNC(=O)Nc1ccc(cn1)CNc2c(cnn2C)C(=O)Nc3ccc(cc3)...</td>\n",
              "    </tr>\n",
              "    <tr>\n",
              "      <th>271</th>\n",
              "      <td>0.932649</td>\n",
              "      <td>0.067351</td>\n",
              "      <td>0</td>\n",
              "      <td>c1cc(ccc1Nc2ccc3c(c2N)ncs3)I</td>\n",
              "    </tr>\n",
              "    <tr>\n",
              "      <th>426</th>\n",
              "      <td>0.947588</td>\n",
              "      <td>0.052412</td>\n",
              "      <td>0</td>\n",
              "      <td>N[P@@](=O)(O)NS(=O)(=O)c1ccccc1</td>\n",
              "    </tr>\n",
              "    <tr>\n",
              "      <th>212</th>\n",
              "      <td>0.950564</td>\n",
              "      <td>0.049436</td>\n",
              "      <td>0</td>\n",
              "      <td>c1ccc2c(c1)nc3c(c(n(c3n2)c4ccc(cc4)S(=O)(=O)N)...</td>\n",
              "    </tr>\n",
              "    <tr>\n",
              "      <th>226</th>\n",
              "      <td>0.953427</td>\n",
              "      <td>0.046573</td>\n",
              "      <td>0</td>\n",
              "      <td>C[C@]1(C(=O)N(C(=O)N1)CC(=O)NNC(=O)c2cc(cn2C)B...</td>\n",
              "    </tr>\n",
              "    <tr>\n",
              "      <th>76</th>\n",
              "      <td>0.954603</td>\n",
              "      <td>0.045397</td>\n",
              "      <td>0</td>\n",
              "      <td>C=CCc1cccc(C=NNC(=O)C(=O)Nc2ccccc2C(=O)Nc2cccc...</td>\n",
              "    </tr>\n",
              "    <tr>\n",
              "      <th>284</th>\n",
              "      <td>0.957929</td>\n",
              "      <td>0.042071</td>\n",
              "      <td>0</td>\n",
              "      <td>Cc1c(c2cc(ccc2[nH]1)F)CC(=O)Nc3cc4c(cc3OC)c5cc...</td>\n",
              "    </tr>\n",
              "    <tr>\n",
              "      <th>118</th>\n",
              "      <td>0.970555</td>\n",
              "      <td>0.029445</td>\n",
              "      <td>0</td>\n",
              "      <td>COc1cc2c3ccccc3oc2cc1NC(=O)NCCc4ccc(cc4)S(=O)(...</td>\n",
              "    </tr>\n",
              "    <tr>\n",
              "      <th>458</th>\n",
              "      <td>0.971266</td>\n",
              "      <td>0.028734</td>\n",
              "      <td>0</td>\n",
              "      <td>NC1=NC=N/C1=C1/NC(C(=O)NCC(F)(F)F)=CO1</td>\n",
              "    </tr>\n",
              "    <tr>\n",
              "      <th>195</th>\n",
              "      <td>0.974630</td>\n",
              "      <td>0.025370</td>\n",
              "      <td>0</td>\n",
              "      <td>Cc1ccc2nc(N3CCC[C@H](C(=O)NCCc4c[nH]c5ccc(C)cc...</td>\n",
              "    </tr>\n",
              "    <tr>\n",
              "      <th>92</th>\n",
              "      <td>0.975363</td>\n",
              "      <td>0.024637</td>\n",
              "      <td>0</td>\n",
              "      <td>CCOc1cccc2cc(C(=O)Nc3cccc([N+](=O)[O-])c3)c(=N...</td>\n",
              "    </tr>\n",
              "    <tr>\n",
              "      <th>190</th>\n",
              "      <td>0.975523</td>\n",
              "      <td>0.024477</td>\n",
              "      <td>0</td>\n",
              "      <td>CN(c1ccccc1)c1ncnc(Nc2ccc(Cl)cn2)c1N</td>\n",
              "    </tr>\n",
              "    <tr>\n",
              "      <th>168</th>\n",
              "      <td>0.978358</td>\n",
              "      <td>0.021642</td>\n",
              "      <td>0</td>\n",
              "      <td>Cc1ccccc1n2c(nnc2SCCCC(=O)N3CCN([C@H](C3)C)C(=...</td>\n",
              "    </tr>\n",
              "    <tr>\n",
              "      <th>448</th>\n",
              "      <td>0.978416</td>\n",
              "      <td>0.021584</td>\n",
              "      <td>0</td>\n",
              "      <td>c1ccc(cc1)c2ccc(cc2)c3ccc(nn3)N4CCN(CC4)C(=O)C...</td>\n",
              "    </tr>\n",
              "    <tr>\n",
              "      <th>54</th>\n",
              "      <td>0.980224</td>\n",
              "      <td>0.019776</td>\n",
              "      <td>0</td>\n",
              "      <td>c1ccc(cc1)/C=C(\\CCO)/C(=O)NNCC(=O)Nc2nc3c(s2)C...</td>\n",
              "    </tr>\n",
              "    <tr>\n",
              "      <th>439</th>\n",
              "      <td>0.980553</td>\n",
              "      <td>0.019447</td>\n",
              "      <td>0</td>\n",
              "      <td>c1cc(ccc1c2cc(n[nH]2)c3nnc(n3N)SCC(=O)Nc4ccc(c...</td>\n",
              "    </tr>\n",
              "    <tr>\n",
              "      <th>191</th>\n",
              "      <td>0.981165</td>\n",
              "      <td>0.018835</td>\n",
              "      <td>0</td>\n",
              "      <td>[H]/N=c\\1/c(=C\\c2ccc(cc2)O)/c(=O)nc-3s/c(=C/C(...</td>\n",
              "    </tr>\n",
              "  </tbody>\n",
              "</table>\n",
              "</div>\n",
              "      <button class=\"colab-df-convert\" onclick=\"convertToInteractive('df-bd140fcd-072f-40c8-a289-d6fc1ce04c6e')\"\n",
              "              title=\"Convert this dataframe to an interactive table.\"\n",
              "              style=\"display:none;\">\n",
              "        \n",
              "  <svg xmlns=\"http://www.w3.org/2000/svg\" height=\"24px\"viewBox=\"0 0 24 24\"\n",
              "       width=\"24px\">\n",
              "    <path d=\"M0 0h24v24H0V0z\" fill=\"none\"/>\n",
              "    <path d=\"M18.56 5.44l.94 2.06.94-2.06 2.06-.94-2.06-.94-.94-2.06-.94 2.06-2.06.94zm-11 1L8.5 8.5l.94-2.06 2.06-.94-2.06-.94L8.5 2.5l-.94 2.06-2.06.94zm10 10l.94 2.06.94-2.06 2.06-.94-2.06-.94-.94-2.06-.94 2.06-2.06.94z\"/><path d=\"M17.41 7.96l-1.37-1.37c-.4-.4-.92-.59-1.43-.59-.52 0-1.04.2-1.43.59L10.3 9.45l-7.72 7.72c-.78.78-.78 2.05 0 2.83L4 21.41c.39.39.9.59 1.41.59.51 0 1.02-.2 1.41-.59l7.78-7.78 2.81-2.81c.8-.78.8-2.07 0-2.86zM5.41 20L4 18.59l7.72-7.72 1.47 1.35L5.41 20z\"/>\n",
              "  </svg>\n",
              "      </button>\n",
              "      \n",
              "  <style>\n",
              "    .colab-df-container {\n",
              "      display:flex;\n",
              "      flex-wrap:wrap;\n",
              "      gap: 12px;\n",
              "    }\n",
              "\n",
              "    .colab-df-convert {\n",
              "      background-color: #E8F0FE;\n",
              "      border: none;\n",
              "      border-radius: 50%;\n",
              "      cursor: pointer;\n",
              "      display: none;\n",
              "      fill: #1967D2;\n",
              "      height: 32px;\n",
              "      padding: 0 0 0 0;\n",
              "      width: 32px;\n",
              "    }\n",
              "\n",
              "    .colab-df-convert:hover {\n",
              "      background-color: #E2EBFA;\n",
              "      box-shadow: 0px 1px 2px rgba(60, 64, 67, 0.3), 0px 1px 3px 1px rgba(60, 64, 67, 0.15);\n",
              "      fill: #174EA6;\n",
              "    }\n",
              "\n",
              "    [theme=dark] .colab-df-convert {\n",
              "      background-color: #3B4455;\n",
              "      fill: #D2E3FC;\n",
              "    }\n",
              "\n",
              "    [theme=dark] .colab-df-convert:hover {\n",
              "      background-color: #434B5C;\n",
              "      box-shadow: 0px 1px 3px 1px rgba(0, 0, 0, 0.15);\n",
              "      filter: drop-shadow(0px 1px 2px rgba(0, 0, 0, 0.3));\n",
              "      fill: #FFFFFF;\n",
              "    }\n",
              "  </style>\n",
              "\n",
              "      <script>\n",
              "        const buttonEl =\n",
              "          document.querySelector('#df-bd140fcd-072f-40c8-a289-d6fc1ce04c6e button.colab-df-convert');\n",
              "        buttonEl.style.display =\n",
              "          google.colab.kernel.accessAllowed ? 'block' : 'none';\n",
              "\n",
              "        async function convertToInteractive(key) {\n",
              "          const element = document.querySelector('#df-bd140fcd-072f-40c8-a289-d6fc1ce04c6e');\n",
              "          const dataTable =\n",
              "            await google.colab.kernel.invokeFunction('convertToInteractive',\n",
              "                                                     [key], {});\n",
              "          if (!dataTable) return;\n",
              "\n",
              "          const docLinkHtml = 'Like what you see? Visit the ' +\n",
              "            '<a target=\"_blank\" href=https://colab.research.google.com/notebooks/data_table.ipynb>data table notebook</a>'\n",
              "            + ' to learn more about interactive tables.';\n",
              "          element.innerHTML = '';\n",
              "          dataTable['output_type'] = 'display_data';\n",
              "          await google.colab.output.renderOutput(dataTable, element);\n",
              "          const docLink = document.createElement('div');\n",
              "          docLink.innerHTML = docLinkHtml;\n",
              "          element.appendChild(docLink);\n",
              "        }\n",
              "      </script>\n",
              "    </div>\n",
              "  </div>\n",
              "  "
            ]
          },
          "metadata": {},
          "execution_count": 36
        }
      ],
      "source": [
        "pred_df.sort_values(\"pos\",ascending=False).head(25)"
      ]
    },
    {
      "cell_type": "code",
      "execution_count": 37,
      "metadata": {
        "colab": {
          "base_uri": "https://localhost:8080/",
          "height": 296
        },
        "id": "PKH1XjfD1X3c",
        "outputId": "ea4df974-9b25-4fd3-e84d-d2e2d66ee1a1"
      },
      "outputs": [
        {
          "output_type": "execute_result",
          "data": {
            "text/plain": [
              "<matplotlib.axes._subplots.AxesSubplot at 0x7f36fd477b90>"
            ]
          },
          "metadata": {},
          "execution_count": 37
        },
        {
          "output_type": "display_data",
          "data": {
            "text/plain": [
              "<Figure size 432x288 with 1 Axes>"
            ],
            "image/png": "[encoded data removed]"
          },
          "metadata": {
            "image/png": {
              "width": 385,
              "height": 261
            },
            "needs_background": "light"
          }
        }
      ],
      "source": [
        "sns.boxplot(x=pred_df.active,y=pred_df.pos)"
      ]
    },
    {
      "cell_type": "markdown",
      "metadata": {
        "id": "-XhDRA1o2q0E"
      },
      "source": [
        "- 위 그래프를 보면 활성 분자와 비활성 분자를 잘 구분하고 있는 것을 알 수 있다\n",
        "- False Negative 샘플 찾기"
      ]
    },
    {
      "cell_type": "code",
      "execution_count": 38,
      "metadata": {
        "id": "ac4wexF92kbu"
      },
      "outputs": [],
      "source": [
        "false_negative_df = pred_df.query(\"active == 1 & pos < 0.5\").copy()"
      ]
    },
    {
      "cell_type": "code",
      "execution_count": 39,
      "metadata": {
        "colab": {
          "base_uri": "https://localhost:8080/",
          "height": 477
        },
        "id": "CG6W5TXT4Gwq",
        "outputId": "abf33381-8a80-408b-d001-202b4c1082a8"
      },
      "outputs": [
        {
          "output_type": "execute_result",
          "data": {
            "text/plain": [
              "          neg       pos  active  \\\n",
              "151  0.872875  0.127125       1   \n",
              "228  0.778067  0.221933       1   \n",
              "\n",
              "                                                SMILES  \\\n",
              "151  CNC(=O)Nc1ccc(cn1)CNc2c(cnn2C)C(=O)Nc3ccc(cc3)...   \n",
              "228  CC(=O)N1CCC(CC1)Nc2ncc3c(n2)-c4c(c(nn4C)C(=O)N...   \n",
              "\n",
              "                                                  Mol  \n",
              "151  <rdkit.Chem.rdchem.Mol object at 0x7f36903a1990>  \n",
              "228  <rdkit.Chem.rdchem.Mol object at 0x7f36903a13f0>  "
            ],
            "text/html": [
              "\n",
              "  <div id=\"df-ca158929-3c5e-4792-8f90-a3d699b2a3c9\">\n",
              "    <div class=\"colab-df-container\">\n",
              "      <div>\n",
              "<style scoped>\n",
              "    .dataframe tbody tr th:only-of-type {\n",
              "        vertical-align: middle;\n",
              "    }\n",
              "\n",
              "    .dataframe tbody tr th {\n",
              "        vertical-align: top;\n",
              "    }\n",
              "\n",
              "    .dataframe thead th {\n",
              "        text-align: right;\n",
              "    }\n",
              "</style>\n",
              "<table border=\"1\" class=\"dataframe\">\n",
              "  <thead>\n",
              "    <tr style=\"text-align: right;\">\n",
              "      <th></th>\n",
              "      <th>neg</th>\n",
              "      <th>pos</th>\n",
              "      <th>active</th>\n",
              "      <th>SMILES</th>\n",
              "      <th>Mol</th>\n",
              "    </tr>\n",
              "  </thead>\n",
              "  <tbody>\n",
              "    <tr>\n",
              "      <th>151</th>\n",
              "      <td>0.872875</td>\n",
              "      <td>0.127125</td>\n",
              "      <td>1</td>\n",
              "      <td>CNC(=O)Nc1ccc(cn1)CNc2c(cnn2C)C(=O)Nc3ccc(cc3)...</td>\n",
              "      <td style=\"text-align: center;\"><div style=\"width: 200px; height: 200px\" data-content=\"rdkit/molecule\"><img src=\"data:image/png;base64,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\" alt=\"Mol\"/></div></td>\n",
              "    </tr>\n",
              "    <tr>\n",
              "      <th>228</th>\n",
              "      <td>0.778067</td>\n",
              "      <td>0.221933</td>\n",
              "      <td>1</td>\n",
              "      <td>CC(=O)N1CCC(CC1)Nc2ncc3c(n2)-c4c(c(nn4C)C(=O)N...</td>\n",
              "      <td style=\"text-align: center;\"><div style=\"width: 200px; height: 200px\" data-content=\"rdkit/molecule\"><img src=\"data:image/png;base64,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\" alt=\"Mol\"/></div></td>\n",
              "    </tr>\n",
              "  </tbody>\n",
              "</table>\n",
              "</div>\n",
              "      <button class=\"colab-df-convert\" onclick=\"convertToInteractive('df-ca158929-3c5e-4792-8f90-a3d699b2a3c9')\"\n",
              "              title=\"Convert this dataframe to an interactive table.\"\n",
              "              style=\"display:none;\">\n",
              "        \n",
              "  <svg xmlns=\"http://www.w3.org/2000/svg\" height=\"24px\"viewBox=\"0 0 24 24\"\n",
              "       width=\"24px\">\n",
              "    <path d=\"M0 0h24v24H0V0z\" fill=\"none\"/>\n",
              "    <path d=\"M18.56 5.44l.94 2.06.94-2.06 2.06-.94-2.06-.94-.94-2.06-.94 2.06-2.06.94zm-11 1L8.5 8.5l.94-2.06 2.06-.94-2.06-.94L8.5 2.5l-.94 2.06-2.06.94zm10 10l.94 2.06.94-2.06 2.06-.94-2.06-.94-.94-2.06-.94 2.06-2.06.94z\"/><path d=\"M17.41 7.96l-1.37-1.37c-.4-.4-.92-.59-1.43-.59-.52 0-1.04.2-1.43.59L10.3 9.45l-7.72 7.72c-.78.78-.78 2.05 0 2.83L4 21.41c.39.39.9.59 1.41.59.51 0 1.02-.2 1.41-.59l7.78-7.78 2.81-2.81c.8-.78.8-2.07 0-2.86zM5.41 20L4 18.59l7.72-7.72 1.47 1.35L5.41 20z\"/>\n",
              "  </svg>\n",
              "      </button>\n",
              "      \n",
              "  <style>\n",
              "    .colab-df-container {\n",
              "      display:flex;\n",
              "      flex-wrap:wrap;\n",
              "      gap: 12px;\n",
              "    }\n",
              "\n",
              "    .colab-df-convert {\n",
              "      background-color: #E8F0FE;\n",
              "      border: none;\n",
              "      border-radius: 50%;\n",
              "      cursor: pointer;\n",
              "      display: none;\n",
              "      fill: #1967D2;\n",
              "      height: 32px;\n",
              "      padding: 0 0 0 0;\n",
              "      width: 32px;\n",
              "    }\n",
              "\n",
              "    .colab-df-convert:hover {\n",
              "      background-color: #E2EBFA;\n",
              "      box-shadow: 0px 1px 2px rgba(60, 64, 67, 0.3), 0px 1px 3px 1px rgba(60, 64, 67, 0.15);\n",
              "      fill: #174EA6;\n",
              "    }\n",
              "\n",
              "    [theme=dark] .colab-df-convert {\n",
              "      background-color: #3B4455;\n",
              "      fill: #D2E3FC;\n",
              "    }\n",
              "\n",
              "    [theme=dark] .colab-df-convert:hover {\n",
              "      background-color: #434B5C;\n",
              "      box-shadow: 0px 1px 3px 1px rgba(0, 0, 0, 0.15);\n",
              "      filter: drop-shadow(0px 1px 2px rgba(0, 0, 0, 0.3));\n",
              "      fill: #FFFFFF;\n",
              "    }\n",
              "  </style>\n",
              "\n",
              "      <script>\n",
              "        const buttonEl =\n",
              "          document.querySelector('#df-ca158929-3c5e-4792-8f90-a3d699b2a3c9 button.colab-df-convert');\n",
              "        buttonEl.style.display =\n",
              "          google.colab.kernel.accessAllowed ? 'block' : 'none';\n",
              "\n",
              "        async function convertToInteractive(key) {\n",
              "          const element = document.querySelector('#df-ca158929-3c5e-4792-8f90-a3d699b2a3c9');\n",
              "          const dataTable =\n",
              "            await google.colab.kernel.invokeFunction('convertToInteractive',\n",
              "                                                     [key], {});\n",
              "          if (!dataTable) return;\n",
              "\n",
              "          const docLinkHtml = 'Like what you see? Visit the ' +\n",
              "            '<a target=\"_blank\" href=https://colab.research.google.com/notebooks/data_table.ipynb>data table notebook</a>'\n",
              "            + ' to learn more about interactive tables.';\n",
              "          element.innerHTML = '';\n",
              "          dataTable['output_type'] = 'display_data';\n",
              "          await google.colab.output.renderOutput(dataTable, element);\n",
              "          const docLink = document.createElement('div');\n",
              "          docLink.innerHTML = docLinkHtml;\n",
              "          element.appendChild(docLink);\n",
              "        }\n",
              "      </script>\n",
              "    </div>\n",
              "  </div>\n",
              "  "
            ]
          },
          "metadata": {},
          "execution_count": 39
        }
      ],
      "source": [
        "PandasTools.AddMoleculeColumnToFrame(false_negative_df,\"SMILES\",\"Mol\")\n",
        "false_negative_df"
      ]
    },
    {
      "cell_type": "markdown",
      "metadata": {
        "id": "MoBBTdBA7dfL"
      },
      "source": [
        "- False Positive 샘플 찾기"
      ]
    },
    {
      "cell_type": "code",
      "execution_count": 40,
      "metadata": {
        "colab": {
          "base_uri": "https://localhost:8080/",
          "height": 49
        },
        "id": "hqgI9dbe4N51",
        "outputId": "68af58c4-568e-4f2b-a670-53ea8373e680"
      },
      "outputs": [
        {
          "output_type": "execute_result",
          "data": {
            "text/plain": [
              "Empty DataFrame\n",
              "Columns: [neg, pos, active, SMILES, Mol]\n",
              "Index: []"
            ],
            "text/html": [
              "\n",
              "  <div id=\"df-8294f45f-bf92-400a-8010-39549037bdd4\">\n",
              "    <div class=\"colab-df-container\">\n",
              "      <div>\n",
              "<style scoped>\n",
              "    .dataframe tbody tr th:only-of-type {\n",
              "        vertical-align: middle;\n",
              "    }\n",
              "\n",
              "    .dataframe tbody tr th {\n",
              "        vertical-align: top;\n",
              "    }\n",
              "\n",
              "    .dataframe thead th {\n",
              "        text-align: right;\n",
              "    }\n",
              "</style>\n",
              "<table border=\"1\" class=\"dataframe\">\n",
              "  <thead>\n",
              "    <tr style=\"text-align: right;\">\n",
              "      <th></th>\n",
              "      <th>neg</th>\n",
              "      <th>pos</th>\n",
              "      <th>active</th>\n",
              "      <th>SMILES</th>\n",
              "      <th>Mol</th>\n",
              "    </tr>\n",
              "  </thead>\n",
              "  <tbody>\n",
              "  </tbody>\n",
              "</table>\n",
              "</div>\n",
              "      <button class=\"colab-df-convert\" onclick=\"convertToInteractive('df-8294f45f-bf92-400a-8010-39549037bdd4')\"\n",
              "              title=\"Convert this dataframe to an interactive table.\"\n",
              "              style=\"display:none;\">\n",
              "        \n",
              "  <svg xmlns=\"http://www.w3.org/2000/svg\" height=\"24px\"viewBox=\"0 0 24 24\"\n",
              "       width=\"24px\">\n",
              "    <path d=\"M0 0h24v24H0V0z\" fill=\"none\"/>\n",
              "    <path d=\"M18.56 5.44l.94 2.06.94-2.06 2.06-.94-2.06-.94-.94-2.06-.94 2.06-2.06.94zm-11 1L8.5 8.5l.94-2.06 2.06-.94-2.06-.94L8.5 2.5l-.94 2.06-2.06.94zm10 10l.94 2.06.94-2.06 2.06-.94-2.06-.94-.94-2.06-.94 2.06-2.06.94z\"/><path d=\"M17.41 7.96l-1.37-1.37c-.4-.4-.92-.59-1.43-.59-.52 0-1.04.2-1.43.59L10.3 9.45l-7.72 7.72c-.78.78-.78 2.05 0 2.83L4 21.41c.39.39.9.59 1.41.59.51 0 1.02-.2 1.41-.59l7.78-7.78 2.81-2.81c.8-.78.8-2.07 0-2.86zM5.41 20L4 18.59l7.72-7.72 1.47 1.35L5.41 20z\"/>\n",
              "  </svg>\n",
              "      </button>\n",
              "      \n",
              "  <style>\n",
              "    .colab-df-container {\n",
              "      display:flex;\n",
              "      flex-wrap:wrap;\n",
              "      gap: 12px;\n",
              "    }\n",
              "\n",
              "    .colab-df-convert {\n",
              "      background-color: #E8F0FE;\n",
              "      border: none;\n",
              "      border-radius: 50%;\n",
              "      cursor: pointer;\n",
              "      display: none;\n",
              "      fill: #1967D2;\n",
              "      height: 32px;\n",
              "      padding: 0 0 0 0;\n",
              "      width: 32px;\n",
              "    }\n",
              "\n",
              "    .colab-df-convert:hover {\n",
              "      background-color: #E2EBFA;\n",
              "      box-shadow: 0px 1px 2px rgba(60, 64, 67, 0.3), 0px 1px 3px 1px rgba(60, 64, 67, 0.15);\n",
              "      fill: #174EA6;\n",
              "    }\n",
              "\n",
              "    [theme=dark] .colab-df-convert {\n",
              "      background-color: #3B4455;\n",
              "      fill: #D2E3FC;\n",
              "    }\n",
              "\n",
              "    [theme=dark] .colab-df-convert:hover {\n",
              "      background-color: #434B5C;\n",
              "      box-shadow: 0px 1px 3px 1px rgba(0, 0, 0, 0.15);\n",
              "      filter: drop-shadow(0px 1px 2px rgba(0, 0, 0, 0.3));\n",
              "      fill: #FFFFFF;\n",
              "    }\n",
              "  </style>\n",
              "\n",
              "      <script>\n",
              "        const buttonEl =\n",
              "          document.querySelector('#df-8294f45f-bf92-400a-8010-39549037bdd4 button.colab-df-convert');\n",
              "        buttonEl.style.display =\n",
              "          google.colab.kernel.accessAllowed ? 'block' : 'none';\n",
              "\n",
              "        async function convertToInteractive(key) {\n",
              "          const element = document.querySelector('#df-8294f45f-bf92-400a-8010-39549037bdd4');\n",
              "          const dataTable =\n",
              "            await google.colab.kernel.invokeFunction('convertToInteractive',\n",
              "                                                     [key], {});\n",
              "          if (!dataTable) return;\n",
              "\n",
              "          const docLinkHtml = 'Like what you see? Visit the ' +\n",
              "            '<a target=\"_blank\" href=https://colab.research.google.com/notebooks/data_table.ipynb>data table notebook</a>'\n",
              "            + ' to learn more about interactive tables.';\n",
              "          element.innerHTML = '';\n",
              "          dataTable['output_type'] = 'display_data';\n",
              "          await google.colab.output.renderOutput(dataTable, element);\n",
              "          const docLink = document.createElement('div');\n",
              "          docLink.innerHTML = docLinkHtml;\n",
              "          element.appendChild(docLink);\n",
              "        }\n",
              "      </script>\n",
              "    </div>\n",
              "  </div>\n",
              "  "
            ]
          },
          "metadata": {},
          "execution_count": 40
        }
      ],
      "source": [
        "false_positive_df = pred_df.query(\"active == 0 & pos > 0.5\").copy()\n",
        "PandasTools.AddMoleculeColumnToFrame(false_positive_df,\"SMILES\",\"Mol\")\n",
        "false_positive_df"
      ]
    },
    {
      "cell_type": "markdown",
      "metadata": {
        "id": "A0LlQnRs7yyb"
      },
      "source": [
        "## 모든 데이터로 학습을 시킨다"
      ]
    },
    {
      "cell_type": "code",
      "execution_count": 41,
      "metadata": {
        "colab": {
          "base_uri": "https://localhost:8080/"
        },
        "id": "HNwLHqXI4Zqc",
        "outputId": "82576f8b-a6b4-4be0-cb89-a6670c4090f6"
      },
      "outputs": [
        {
          "output_type": "execute_result",
          "data": {
            "text/plain": [
              "0.0006423467770218849"
            ]
          },
          "metadata": {},
          "execution_count": 41
        }
      ],
      "source": [
        "model.fit(dataset)"
      ]
    },
    {
      "cell_type": "markdown",
      "metadata": {
        "id": "RyY-78pg9Tki"
      },
      "source": [
        "- 기존의 알고 있는 데이터셋으로 모델을 만들고 새로운 분자의 활성을 예측하게 된다.\n",
        "- 위에서는 ERK2 단백질의 활성을 억제하는 분자를 예측하는 모델을 만들었다. 여기에 새로운 데이터셋을 사용하여 분자의 활성을 예측해보겠다\n",
        " - ZINC 데이터베이스의 일부를 사용하겠다\n",
        " - 생물학적 분석이 어려운 분자들을 제거하고 사용해야 한다 (ChEMBL 데이터베이스를 사용하겠다)\n",
        " - rd_filters.py 사용"
      ]
    },
    {
      "cell_type": "code",
      "execution_count": null,
      "metadata": {
        "id": "zv3RnS38F_UA"
      },
      "outputs": [],
      "source": [
        "# !pwd"
      ]
    },
    {
      "cell_type": "code",
      "execution_count": null,
      "metadata": {
        "id": "wamL4t7fGKO8"
      },
      "outputs": [],
      "source": [
        "# !git clone https://github.com/PatWalters/rd_filters"
      ]
    },
    {
      "cell_type": "code",
      "execution_count": null,
      "metadata": {
        "id": "b1NViqSRGZMM"
      },
      "outputs": [],
      "source": [
        "# %cd rd_filters\n",
        "# !pip install ."
      ]
    },
    {
      "cell_type": "code",
      "execution_count": null,
      "metadata": {
        "id": "nXXMgXJUGmDn"
      },
      "outputs": [],
      "source": [
        "# !pwd"
      ]
    },
    {
      "cell_type": "code",
      "execution_count": null,
      "metadata": {
        "id": "4FJtgKhpGyL6"
      },
      "outputs": [],
      "source": [
        "# %cd rd_filters"
      ]
    },
    {
      "cell_type": "code",
      "execution_count": null,
      "metadata": {
        "id": "QWPMCDVBG3u1"
      },
      "outputs": [],
      "source": [
        "# !ls"
      ]
    },
    {
      "cell_type": "code",
      "execution_count": null,
      "metadata": {
        "id": "6Ug_sVkwBofD"
      },
      "outputs": [],
      "source": [
        "# !python rd_filters.py -h"
      ]
    },
    {
      "cell_type": "code",
      "execution_count": null,
      "metadata": {
        "id": "hBSaoBRfBtft"
      },
      "outputs": [],
      "source": [
        "# !pwd"
      ]
    },
    {
      "cell_type": "code",
      "execution_count": null,
      "metadata": {
        "id": "YJxwXzFVHnk1"
      },
      "outputs": [],
      "source": [
        "# !curl -o zinc_100k.smi https://raw.githubusercontent.com/deepchem/DeepLearningLifeSciences/master/Chapter11/zinc_100k.smi"
      ]
    },
    {
      "cell_type": "code",
      "execution_count": null,
      "metadata": {
        "id": "_hGYJy4rJCin"
      },
      "outputs": [],
      "source": [
        "# !ls"
      ]
    },
    {
      "cell_type": "code",
      "execution_count": null,
      "metadata": {
        "id": "5ZrMRyXmIvMG"
      },
      "outputs": [],
      "source": [
        "# !python rd_filters.py filter --in zinc_100k.smi --prefix zinc"
      ]
    },
    {
      "cell_type": "markdown",
      "metadata": {
        "id": "mHoAN8f1JghD"
      },
      "source": [
        "- Inpharmatica 규칙을 사용했으며 이는 생물학적 분석이 어려운 화합물을 제거하기 위해 사용한다\n",
        "- SMILE 문자열 필터를 통과한 데이터는 zinc.smi 파일에 저장되며, 특정 구조를 형성한 화합물에 대한 정보는 zinc.csv에 저장된다\n",
        "- 전체 분자중 68%가 통과하였다"
      ]
    },
    {
      "cell_type": "markdown",
      "metadata": {
        "id": "1Erm6SkqLhtF"
      },
      "source": [
        "## 다른 실행 방법"
      ]
    },
    {
      "cell_type": "code",
      "execution_count": 42,
      "metadata": {
        "colab": {
          "base_uri": "https://localhost:8080/"
        },
        "id": "-oko11boJcvz",
        "outputId": "803ccd65-4ca8-465d-93ef-535f63ea79a6"
      },
      "outputs": [
        {
          "output_type": "stream",
          "name": "stdout",
          "text": [
            "/content\n"
          ]
        }
      ],
      "source": [
        "%cd /content"
      ]
    },
    {
      "cell_type": "code",
      "execution_count": 43,
      "metadata": {
        "colab": {
          "base_uri": "https://localhost:8080/"
        },
        "id": "jjCJzOdsKxgN",
        "outputId": "24b6c01c-23fa-47af-e368-63606eea5f1c"
      },
      "outputs": [
        {
          "output_type": "stream",
          "name": "stdout",
          "text": [
            "/content\n"
          ]
        }
      ],
      "source": [
        "!pwd"
      ]
    },
    {
      "cell_type": "code",
      "execution_count": 44,
      "metadata": {
        "colab": {
          "base_uri": "https://localhost:8080/"
        },
        "id": "AmEvCrJ6KyOn",
        "outputId": "56b02bee-60d6-4aed-8094-af9e5838d38e"
      },
      "outputs": [
        {
          "output_type": "stream",
          "name": "stdout",
          "text": [
            "Looking in indexes: https://pypi.org/simple, https://us-python.pkg.dev/colab-wheels/public/simple/\n",
            "Collecting git+https://github.com/PatWalters/rd_filters.git\n",
            "  Cloning https://github.com/PatWalters/rd_filters.git to /tmp/pip-req-build-594ndvax\n",
            "  Running command git clone -q https://github.com/PatWalters/rd_filters.git /tmp/pip-req-build-594ndvax\n",
            "Requirement already satisfied: pandas in /usr/local/lib/python3.7/dist-packages (from rd-filters==0.1) (1.3.5)\n",
            "Collecting docopt\n",
            "  Downloading docopt-0.6.2.tar.gz (25 kB)\n",
            "Requirement already satisfied: python-dateutil>=2.7.3 in /usr/local/lib/python3.7/dist-packages (from pandas->rd-filters==0.1) (2.8.2)\n",
            "Requirement already satisfied: pytz>=2017.3 in /usr/local/lib/python3.7/dist-packages (from pandas->rd-filters==0.1) (2022.5)\n",
            "Requirement already satisfied: numpy>=1.17.3 in /usr/local/lib/python3.7/dist-packages (from pandas->rd-filters==0.1) (1.21.6)\n",
            "Requirement already satisfied: six>=1.5 in /usr/local/lib/python3.7/dist-packages (from python-dateutil>=2.7.3->pandas->rd-filters==0.1) (1.15.0)\n",
            "Building wheels for collected packages: rd-filters, docopt\n",
            "  Building wheel for rd-filters (setup.py) ... \u001b[?25l\u001b[?25hdone\n",
            "  Created wheel for rd-filters: filename=rd_filters-0.1-py3-none-any.whl size=33802 sha256=11ee39f7ee8d14a885a8a3bb4a146ad63bb019ef2246484cb3e24bd30d126113\n",
            "  Stored in directory: /tmp/pip-ephem-wheel-cache-dz8hvs7m/wheels/18/23/0c/f8d3c66d34f5ee86ae3992e1fdd45c94223ee21fcde6f01192\n",
            "  Building wheel for docopt (setup.py) ... \u001b[?25l\u001b[?25hdone\n",
            "  Created wheel for docopt: filename=docopt-0.6.2-py2.py3-none-any.whl size=13723 sha256=b620ab84f63a7a1fe3d63a875f13e71789daaad0fd5e354f6b7415f400a6d86f\n",
            "  Stored in directory: /root/.cache/pip/wheels/72/b0/3f/1d95f96ff986c7dfffe46ce2be4062f38ebd04b506c77c81b9\n",
            "Successfully built rd-filters docopt\n",
            "Installing collected packages: docopt, rd-filters\n",
            "Successfully installed docopt-0.6.2 rd-filters-0.1\n"
          ]
        }
      ],
      "source": [
        "!pip install git+https://github.com/PatWalters/rd_filters.git\n"
      ]
    },
    {
      "cell_type": "code",
      "execution_count": 45,
      "metadata": {
        "colab": {
          "base_uri": "https://localhost:8080/"
        },
        "id": "dmDMMg-QLMnq",
        "outputId": "eabd456c-a19c-467d-fb44-70b5f6dd345d"
      },
      "outputs": [
        {
          "output_type": "stream",
          "name": "stdout",
          "text": [
            "Usage:\n",
            "rd_filters filter --in INPUT_FILE --prefix PREFIX [--rules RULES_FILE_NAME] [--alerts ALERT_FILE_NAME][--np NUM_CORES]\n",
            "rd_filters template --out TEMPLATE_FILE [--rules RULES_FILE_NAME]\n",
            "\n",
            "Options:\n",
            "--in INPUT_FILE input file name\n",
            "--prefix PREFIX prefix for output file names\n",
            "--rules RULES_FILE_NAME name of the rules JSON file\n",
            "--alerts ALERTS_FILE_NAME name of the structural alerts file\n",
            "--np NUM_CORES the number of cpu cores to use (default is all)\n",
            "--out TEMPLATE_FILE parameter template file name\n"
          ]
        }
      ],
      "source": [
        "!rd_filters -h\n"
      ]
    },
    {
      "cell_type": "code",
      "execution_count": 46,
      "metadata": {
        "colab": {
          "base_uri": "https://localhost:8080/"
        },
        "id": "5tyWlKSfLq3T",
        "outputId": "0a73cf6d-b3ea-483d-f517-230ee20fc878"
      },
      "outputs": [
        {
          "output_type": "stream",
          "name": "stdout",
          "text": [
            "  % Total    % Received % Xferd  Average Speed   Time    Time     Time  Current\n",
            "                                 Dload  Upload   Total   Spent    Left  Speed\n",
            "100 6159k  100 6159k    0     0  12.8M      0 --:--:-- --:--:-- --:--:-- 12.8M\n"
          ]
        }
      ],
      "source": [
        "!curl -o zinc_100k.smi https://raw.githubusercontent.com/deepchem/DeepLearningLifeSciences/master/Chapter11/zinc_100k.smi"
      ]
    },
    {
      "cell_type": "code",
      "execution_count": 47,
      "metadata": {
        "colab": {
          "base_uri": "https://localhost:8080/"
        },
        "id": "uLWjkw-SLRRe",
        "outputId": "00d3421e-d3b4-4b67-c81c-63dccdcec608"
      },
      "outputs": [
        {
          "output_type": "stream",
          "name": "stdout",
          "text": [
            "using 2 cores\n",
            "Using alerts from Inpharmatica\n",
            "Wrote SMILES for molecules passing filters to zinc.smi\n",
            "Wrote detailed data to zinc.csv\n",
            "68410 of 100000 passed filters 68.4%\n",
            "Elapsed time 69.83 seconds\n"
          ]
        }
      ],
      "source": [
        "!rd_filters filter --in zinc_100k.smi --prefix zinc\n"
      ]
    },
    {
      "cell_type": "markdown",
      "metadata": {
        "id": "9vXJTqI11XR7"
      },
      "source": [
        "## zinc.csv의 내용\n",
        "- SMILES 문자역, \n",
        "- 분자의 이름(NAME), \n",
        "- 필터를 통과하지 못한 이유(FILTER), \n",
        "- 분자량(MW, 500보다 크면 통과하지 못한다), - 옥탄올/물 분배계수(LogP, 5보다 크면 통과하지 못한다)\n",
        "- 수소결합의 공여체수 (HBD)"
      ]
    },
    {
      "cell_type": "code",
      "execution_count": 48,
      "metadata": {
        "colab": {
          "base_uri": "https://localhost:8080/",
          "height": 206
        },
        "id": "5rXNaXVzLoet",
        "outputId": "5f661298-2747-4a5b-845f-86d22cc66ab9"
      },
      "outputs": [
        {
          "output_type": "execute_result",
          "data": {
            "text/plain": [
              "                                              SMILES              NAME  \\\n",
              "0        CN(CCO)C[C@@H](O)Cn1cnc2c1c(=O)n(C)c(=O)n2C  ZINC000000000843   \n",
              "1  O=c1[nH]c(=O)n([C@@H]2C[C@@H](O)[C@H](CO)O2)cc1Br  ZINC000000001063   \n",
              "2            Cn1c2ncn(CC(=O)N3CCOCC3)c2c(=O)n(C)c1=O  ZINC000000003942   \n",
              "3        CN1C(=O)C[C@H](N2CCN(C(=O)CN3CCCC3)CC2)C1=O  ZINC000000036436   \n",
              "4  CC(=O)NC[C@H](O)[C@H]1O[C@H]2OC(C)(C)O[C@H]2[C...  ZINC000000041101   \n",
              "\n",
              "                    FILTER       MW    LogP  HBD  HBA    TPSA  Rot  \n",
              "0  Filter82_pyridinium > 0  311.342 -2.2813    2    9  105.52    6  \n",
              "1        Filter9_metal > 0  307.100 -1.0602    3    6  104.55    2  \n",
              "2  Filter82_pyridinium > 0  307.310 -1.7075    0    8   91.36    2  \n",
              "3                       OK  308.382 -1.0163    0    5   64.17    3  \n",
              "4                       OK  302.327 -1.1355    3    6  106.12    4  "
            ],
            "text/html": [
              "\n",
              "  <div id=\"df-614e449e-aee9-4f59-886c-4e00af84de7c\">\n",
              "    <div class=\"colab-df-container\">\n",
              "      <div>\n",
              "<style scoped>\n",
              "    .dataframe tbody tr th:only-of-type {\n",
              "        vertical-align: middle;\n",
              "    }\n",
              "\n",
              "    .dataframe tbody tr th {\n",
              "        vertical-align: top;\n",
              "    }\n",
              "\n",
              "    .dataframe thead th {\n",
              "        text-align: right;\n",
              "    }\n",
              "</style>\n",
              "<table border=\"1\" class=\"dataframe\">\n",
              "  <thead>\n",
              "    <tr style=\"text-align: right;\">\n",
              "      <th></th>\n",
              "      <th>SMILES</th>\n",
              "      <th>NAME</th>\n",
              "      <th>FILTER</th>\n",
              "      <th>MW</th>\n",
              "      <th>LogP</th>\n",
              "      <th>HBD</th>\n",
              "      <th>HBA</th>\n",
              "      <th>TPSA</th>\n",
              "      <th>Rot</th>\n",
              "    </tr>\n",
              "  </thead>\n",
              "  <tbody>\n",
              "    <tr>\n",
              "      <th>0</th>\n",
              "      <td>CN(CCO)C[C@@H](O)Cn1cnc2c1c(=O)n(C)c(=O)n2C</td>\n",
              "      <td>ZINC000000000843</td>\n",
              "      <td>Filter82_pyridinium &gt; 0</td>\n",
              "      <td>311.342</td>\n",
              "      <td>-2.2813</td>\n",
              "      <td>2</td>\n",
              "      <td>9</td>\n",
              "      <td>105.52</td>\n",
              "      <td>6</td>\n",
              "    </tr>\n",
              "    <tr>\n",
              "      <th>1</th>\n",
              "      <td>O=c1[nH]c(=O)n([C@@H]2C[C@@H](O)[C@H](CO)O2)cc1Br</td>\n",
              "      <td>ZINC000000001063</td>\n",
              "      <td>Filter9_metal &gt; 0</td>\n",
              "      <td>307.100</td>\n",
              "      <td>-1.0602</td>\n",
              "      <td>3</td>\n",
              "      <td>6</td>\n",
              "      <td>104.55</td>\n",
              "      <td>2</td>\n",
              "    </tr>\n",
              "    <tr>\n",
              "      <th>2</th>\n",
              "      <td>Cn1c2ncn(CC(=O)N3CCOCC3)c2c(=O)n(C)c1=O</td>\n",
              "      <td>ZINC000000003942</td>\n",
              "      <td>Filter82_pyridinium &gt; 0</td>\n",
              "      <td>307.310</td>\n",
              "      <td>-1.7075</td>\n",
              "      <td>0</td>\n",
              "      <td>8</td>\n",
              "      <td>91.36</td>\n",
              "      <td>2</td>\n",
              "    </tr>\n",
              "    <tr>\n",
              "      <th>3</th>\n",
              "      <td>CN1C(=O)C[C@H](N2CCN(C(=O)CN3CCCC3)CC2)C1=O</td>\n",
              "      <td>ZINC000000036436</td>\n",
              "      <td>OK</td>\n",
              "      <td>308.382</td>\n",
              "      <td>-1.0163</td>\n",
              "      <td>0</td>\n",
              "      <td>5</td>\n",
              "      <td>64.17</td>\n",
              "      <td>3</td>\n",
              "    </tr>\n",
              "    <tr>\n",
              "      <th>4</th>\n",
              "      <td>CC(=O)NC[C@H](O)[C@H]1O[C@H]2OC(C)(C)O[C@H]2[C...</td>\n",
              "      <td>ZINC000000041101</td>\n",
              "      <td>OK</td>\n",
              "      <td>302.327</td>\n",
              "      <td>-1.1355</td>\n",
              "      <td>3</td>\n",
              "      <td>6</td>\n",
              "      <td>106.12</td>\n",
              "      <td>4</td>\n",
              "    </tr>\n",
              "  </tbody>\n",
              "</table>\n",
              "</div>\n",
              "      <button class=\"colab-df-convert\" onclick=\"convertToInteractive('df-614e449e-aee9-4f59-886c-4e00af84de7c')\"\n",
              "              title=\"Convert this dataframe to an interactive table.\"\n",
              "              style=\"display:none;\">\n",
              "        \n",
              "  <svg xmlns=\"http://www.w3.org/2000/svg\" height=\"24px\"viewBox=\"0 0 24 24\"\n",
              "       width=\"24px\">\n",
              "    <path d=\"M0 0h24v24H0V0z\" fill=\"none\"/>\n",
              "    <path d=\"M18.56 5.44l.94 2.06.94-2.06 2.06-.94-2.06-.94-.94-2.06-.94 2.06-2.06.94zm-11 1L8.5 8.5l.94-2.06 2.06-.94-2.06-.94L8.5 2.5l-.94 2.06-2.06.94zm10 10l.94 2.06.94-2.06 2.06-.94-2.06-.94-.94-2.06-.94 2.06-2.06.94z\"/><path d=\"M17.41 7.96l-1.37-1.37c-.4-.4-.92-.59-1.43-.59-.52 0-1.04.2-1.43.59L10.3 9.45l-7.72 7.72c-.78.78-.78 2.05 0 2.83L4 21.41c.39.39.9.59 1.41.59.51 0 1.02-.2 1.41-.59l7.78-7.78 2.81-2.81c.8-.78.8-2.07 0-2.86zM5.41 20L4 18.59l7.72-7.72 1.47 1.35L5.41 20z\"/>\n",
              "  </svg>\n",
              "      </button>\n",
              "      \n",
              "  <style>\n",
              "    .colab-df-container {\n",
              "      display:flex;\n",
              "      flex-wrap:wrap;\n",
              "      gap: 12px;\n",
              "    }\n",
              "\n",
              "    .colab-df-convert {\n",
              "      background-color: #E8F0FE;\n",
              "      border: none;\n",
              "      border-radius: 50%;\n",
              "      cursor: pointer;\n",
              "      display: none;\n",
              "      fill: #1967D2;\n",
              "      height: 32px;\n",
              "      padding: 0 0 0 0;\n",
              "      width: 32px;\n",
              "    }\n",
              "\n",
              "    .colab-df-convert:hover {\n",
              "      background-color: #E2EBFA;\n",
              "      box-shadow: 0px 1px 2px rgba(60, 64, 67, 0.3), 0px 1px 3px 1px rgba(60, 64, 67, 0.15);\n",
              "      fill: #174EA6;\n",
              "    }\n",
              "\n",
              "    [theme=dark] .colab-df-convert {\n",
              "      background-color: #3B4455;\n",
              "      fill: #D2E3FC;\n",
              "    }\n",
              "\n",
              "    [theme=dark] .colab-df-convert:hover {\n",
              "      background-color: #434B5C;\n",
              "      box-shadow: 0px 1px 3px 1px rgba(0, 0, 0, 0.15);\n",
              "      filter: drop-shadow(0px 1px 2px rgba(0, 0, 0, 0.3));\n",
              "      fill: #FFFFFF;\n",
              "    }\n",
              "  </style>\n",
              "\n",
              "      <script>\n",
              "        const buttonEl =\n",
              "          document.querySelector('#df-614e449e-aee9-4f59-886c-4e00af84de7c button.colab-df-convert');\n",
              "        buttonEl.style.display =\n",
              "          google.colab.kernel.accessAllowed ? 'block' : 'none';\n",
              "\n",
              "        async function convertToInteractive(key) {\n",
              "          const element = document.querySelector('#df-614e449e-aee9-4f59-886c-4e00af84de7c');\n",
              "          const dataTable =\n",
              "            await google.colab.kernel.invokeFunction('convertToInteractive',\n",
              "                                                     [key], {});\n",
              "          if (!dataTable) return;\n",
              "\n",
              "          const docLinkHtml = 'Like what you see? Visit the ' +\n",
              "            '<a target=\"_blank\" href=https://colab.research.google.com/notebooks/data_table.ipynb>data table notebook</a>'\n",
              "            + ' to learn more about interactive tables.';\n",
              "          element.innerHTML = '';\n",
              "          dataTable['output_type'] = 'display_data';\n",
              "          await google.colab.output.renderOutput(dataTable, element);\n",
              "          const docLink = document.createElement('div');\n",
              "          docLink.innerHTML = docLinkHtml;\n",
              "          element.appendChild(docLink);\n",
              "        }\n",
              "      </script>\n",
              "    </div>\n",
              "  </div>\n",
              "  "
            ]
          },
          "metadata": {},
          "execution_count": 48
        }
      ],
      "source": [
        "df = pd.read_csv(\"zinc.csv\")\n",
        "df.head()"
      ]
    },
    {
      "cell_type": "markdown",
      "metadata": {
        "id": "qQEK-Wo22kv7"
      },
      "source": [
        "- 어떤 필터에 의해서 가장 많이 걸러졌는지를 파악한다\n",
        " - collection의 Counter를 사용한다\n",
        " - 1,2디카르보닐 구조를 포함한 경우(아미노산 셀린 또는 시스테인과 공유결합을 형성하는 것으로 알려져 있다)\n",
        " - filter)collection.CSV 파일을 보면 1,2디카르보닐 구조를 의미하는 SMARTS 문자열'*C(=O)C(=O)*'를 확인할 수 있다."
      ]
    },
    {
      "cell_type": "code",
      "execution_count": 49,
      "metadata": {
        "colab": {
          "base_uri": "https://localhost:8080/",
          "height": 206
        },
        "id": "uw1dquNdMBTB",
        "outputId": "c87b82bb-7085-497c-e9df-b9994b721a8c"
      },
      "outputs": [
        {
          "output_type": "execute_result",
          "data": {
            "text/plain": [
              "                           Rule  Count\n",
              "2                            OK  69148\n",
              "7    Filter41_12_dicarbonyl > 0  19330\n",
              "0       Filter82_pyridinium > 0   7713\n",
              "11     Filter93_acetyl_urea > 0   1541\n",
              "12  Filter78_bicyclic_Imide > 0    825"
            ],
            "text/html": [
              "\n",
              "  <div id=\"df-b0f97407-a480-4e27-b914-fba383c5db54\">\n",
              "    <div class=\"colab-df-container\">\n",
              "      <div>\n",
              "<style scoped>\n",
              "    .dataframe tbody tr th:only-of-type {\n",
              "        vertical-align: middle;\n",
              "    }\n",
              "\n",
              "    .dataframe tbody tr th {\n",
              "        vertical-align: top;\n",
              "    }\n",
              "\n",
              "    .dataframe thead th {\n",
              "        text-align: right;\n",
              "    }\n",
              "</style>\n",
              "<table border=\"1\" class=\"dataframe\">\n",
              "  <thead>\n",
              "    <tr style=\"text-align: right;\">\n",
              "      <th></th>\n",
              "      <th>Rule</th>\n",
              "      <th>Count</th>\n",
              "    </tr>\n",
              "  </thead>\n",
              "  <tbody>\n",
              "    <tr>\n",
              "      <th>2</th>\n",
              "      <td>OK</td>\n",
              "      <td>69148</td>\n",
              "    </tr>\n",
              "    <tr>\n",
              "      <th>7</th>\n",
              "      <td>Filter41_12_dicarbonyl &gt; 0</td>\n",
              "      <td>19330</td>\n",
              "    </tr>\n",
              "    <tr>\n",
              "      <th>0</th>\n",
              "      <td>Filter82_pyridinium &gt; 0</td>\n",
              "      <td>7713</td>\n",
              "    </tr>\n",
              "    <tr>\n",
              "      <th>11</th>\n",
              "      <td>Filter93_acetyl_urea &gt; 0</td>\n",
              "      <td>1541</td>\n",
              "    </tr>\n",
              "    <tr>\n",
              "      <th>12</th>\n",
              "      <td>Filter78_bicyclic_Imide &gt; 0</td>\n",
              "      <td>825</td>\n",
              "    </tr>\n",
              "  </tbody>\n",
              "</table>\n",
              "</div>\n",
              "      <button class=\"colab-df-convert\" onclick=\"convertToInteractive('df-b0f97407-a480-4e27-b914-fba383c5db54')\"\n",
              "              title=\"Convert this dataframe to an interactive table.\"\n",
              "              style=\"display:none;\">\n",
              "        \n",
              "  <svg xmlns=\"http://www.w3.org/2000/svg\" height=\"24px\"viewBox=\"0 0 24 24\"\n",
              "       width=\"24px\">\n",
              "    <path d=\"M0 0h24v24H0V0z\" fill=\"none\"/>\n",
              "    <path d=\"M18.56 5.44l.94 2.06.94-2.06 2.06-.94-2.06-.94-.94-2.06-.94 2.06-2.06.94zm-11 1L8.5 8.5l.94-2.06 2.06-.94-2.06-.94L8.5 2.5l-.94 2.06-2.06.94zm10 10l.94 2.06.94-2.06 2.06-.94-2.06-.94-.94-2.06-.94 2.06-2.06.94z\"/><path d=\"M17.41 7.96l-1.37-1.37c-.4-.4-.92-.59-1.43-.59-.52 0-1.04.2-1.43.59L10.3 9.45l-7.72 7.72c-.78.78-.78 2.05 0 2.83L4 21.41c.39.39.9.59 1.41.59.51 0 1.02-.2 1.41-.59l7.78-7.78 2.81-2.81c.8-.78.8-2.07 0-2.86zM5.41 20L4 18.59l7.72-7.72 1.47 1.35L5.41 20z\"/>\n",
              "  </svg>\n",
              "      </button>\n",
              "      \n",
              "  <style>\n",
              "    .colab-df-container {\n",
              "      display:flex;\n",
              "      flex-wrap:wrap;\n",
              "      gap: 12px;\n",
              "    }\n",
              "\n",
              "    .colab-df-convert {\n",
              "      background-color: #E8F0FE;\n",
              "      border: none;\n",
              "      border-radius: 50%;\n",
              "      cursor: pointer;\n",
              "      display: none;\n",
              "      fill: #1967D2;\n",
              "      height: 32px;\n",
              "      padding: 0 0 0 0;\n",
              "      width: 32px;\n",
              "    }\n",
              "\n",
              "    .colab-df-convert:hover {\n",
              "      background-color: #E2EBFA;\n",
              "      box-shadow: 0px 1px 2px rgba(60, 64, 67, 0.3), 0px 1px 3px 1px rgba(60, 64, 67, 0.15);\n",
              "      fill: #174EA6;\n",
              "    }\n",
              "\n",
              "    [theme=dark] .colab-df-convert {\n",
              "      background-color: #3B4455;\n",
              "      fill: #D2E3FC;\n",
              "    }\n",
              "\n",
              "    [theme=dark] .colab-df-convert:hover {\n",
              "      background-color: #434B5C;\n",
              "      box-shadow: 0px 1px 3px 1px rgba(0, 0, 0, 0.15);\n",
              "      filter: drop-shadow(0px 1px 2px rgba(0, 0, 0, 0.3));\n",
              "      fill: #FFFFFF;\n",
              "    }\n",
              "  </style>\n",
              "\n",
              "      <script>\n",
              "        const buttonEl =\n",
              "          document.querySelector('#df-b0f97407-a480-4e27-b914-fba383c5db54 button.colab-df-convert');\n",
              "        buttonEl.style.display =\n",
              "          google.colab.kernel.accessAllowed ? 'block' : 'none';\n",
              "\n",
              "        async function convertToInteractive(key) {\n",
              "          const element = document.querySelector('#df-b0f97407-a480-4e27-b914-fba383c5db54');\n",
              "          const dataTable =\n",
              "            await google.colab.kernel.invokeFunction('convertToInteractive',\n",
              "                                                     [key], {});\n",
              "          if (!dataTable) return;\n",
              "\n",
              "          const docLinkHtml = 'Like what you see? Visit the ' +\n",
              "            '<a target=\"_blank\" href=https://colab.research.google.com/notebooks/data_table.ipynb>data table notebook</a>'\n",
              "            + ' to learn more about interactive tables.';\n",
              "          element.innerHTML = '';\n",
              "          dataTable['output_type'] = 'display_data';\n",
              "          await google.colab.output.renderOutput(dataTable, element);\n",
              "          const docLink = document.createElement('div');\n",
              "          docLink.innerHTML = docLinkHtml;\n",
              "          element.appendChild(docLink);\n",
              "        }\n",
              "      </script>\n",
              "    </div>\n",
              "  </div>\n",
              "  "
            ]
          },
          "metadata": {},
          "execution_count": 49
        }
      ],
      "source": [
        "from collections import Counter\n",
        "count_list = list(Counter(df.FILTER).items())\n",
        "count_df = pd.DataFrame(count_list,columns=[\"Rule\",\"Count\"])\n",
        "count_df.sort_values(\"Count\",inplace=True,ascending=False)\n",
        "count_df.head()"
      ]
    },
    {
      "cell_type": "code",
      "execution_count": 50,
      "metadata": {
        "id": "q9RZPmtnMFGw"
      },
      "outputs": [],
      "source": [
        "smiles_list = df[df.FILTER == \"Filter41_12_dicarbonyl > 0\"].SMILES[:10]\n"
      ]
    },
    {
      "cell_type": "code",
      "execution_count": 51,
      "metadata": {
        "colab": {
          "base_uri": "https://localhost:8080/",
          "height": 417
        },
        "id": "HLqVhkPIMIs_",
        "outputId": "9604a84e-71cc-4366-fa31-edf367a63767"
      },
      "outputs": [
        {
          "output_type": "execute_result",
          "data": {
            "image/png": "[encoded data removed]",
            "text/plain": [
              "<IPython.core.display.Image object>"
            ]
          },
          "metadata": {},
          "execution_count": 51
        }
      ],
      "source": [
        "mol_list = [Chem.MolFromSmiles(x) for x in smiles_list]\n",
        "dicarbonyl = Chem.MolFromSmarts('*C(=O)C(=O)*')\n",
        "match_list = [mol.GetSubstructMatch(dicarbonyl) for mol in mol_list]\n",
        "Draw.MolsToGridImage(mol_list,highlightAtomLists=match_list,molsPerRow=5)\n"
      ]
    },
    {
      "cell_type": "markdown",
      "metadata": {
        "id": "AIp-NTayFEqJ"
      },
      "source": [
        "# 모델 사용하기\n",
        "- 모델을 불러오고, 피처화기를 만든후, 분자 데이터를 피처화 한다\n",
        "- 예측값을 확인하고 가장 높은 점수를 얻은 화학구조를 확인한다\n",
        "- 분자 데이터를 CSV로 저장한다"
      ]
    },
    {
      "cell_type": "markdown",
      "metadata": {
        "id": "eDXZmCm7G_WN"
      },
      "source": [
        "- 피처함수를 사용한다\n",
        "- SMILES 파일을 CSV로 변환해야 한다 (컬럼 추가)"
      ]
    },
    {
      "cell_type": "code",
      "execution_count": 52,
      "metadata": {
        "id": "JaVT22MaFhTM"
      },
      "outputs": [],
      "source": [
        "model = dc.models.GraphConvModel(1, batch_size=128, \n",
        "          mode='classification',model_dir=\"model_dir\")\n",
        "model.restore()"
      ]
    },
    {
      "cell_type": "code",
      "execution_count": 53,
      "metadata": {
        "colab": {
          "base_uri": "https://localhost:8080/",
          "height": 206
        },
        "id": "iSsUjS2_Ft45",
        "outputId": "b43e7f91-7ffc-4526-c064-a982dbc9c554"
      },
      "outputs": [
        {
          "output_type": "execute_result",
          "data": {
            "text/plain": [
              "                                              SMILES              Name  Val\n",
              "0        CN(CCO)C[C@@H](O)Cn1cnc2c1c(=O)n(C)c(=O)n2C  ZINC000000000843    0\n",
              "1  O=c1[nH]c(=O)n([C@@H]2C[C@@H](O)[C@H](CO)O2)cc1Br  ZINC000000001063    0\n",
              "2            Cn1c2ncn(CC(=O)N3CCOCC3)c2c(=O)n(C)c1=O  ZINC000000003942    0\n",
              "3        CN1C(=O)C[C@H](N2CCN(C(=O)CN3CCCC3)CC2)C1=O  ZINC000000036436    0\n",
              "4  CC(=O)NC[C@H](O)[C@H]1O[C@H]2OC(C)(C)O[C@H]2[C...  ZINC000000041101    0"
            ],
            "text/html": [
              "\n",
              "  <div id=\"df-e6dc689f-95c6-464f-afab-ba472aed0b44\">\n",
              "    <div class=\"colab-df-container\">\n",
              "      <div>\n",
              "<style scoped>\n",
              "    .dataframe tbody tr th:only-of-type {\n",
              "        vertical-align: middle;\n",
              "    }\n",
              "\n",
              "    .dataframe tbody tr th {\n",
              "        vertical-align: top;\n",
              "    }\n",
              "\n",
              "    .dataframe thead th {\n",
              "        text-align: right;\n",
              "    }\n",
              "</style>\n",
              "<table border=\"1\" class=\"dataframe\">\n",
              "  <thead>\n",
              "    <tr style=\"text-align: right;\">\n",
              "      <th></th>\n",
              "      <th>SMILES</th>\n",
              "      <th>Name</th>\n",
              "      <th>Val</th>\n",
              "    </tr>\n",
              "  </thead>\n",
              "  <tbody>\n",
              "    <tr>\n",
              "      <th>0</th>\n",
              "      <td>CN(CCO)C[C@@H](O)Cn1cnc2c1c(=O)n(C)c(=O)n2C</td>\n",
              "      <td>ZINC000000000843</td>\n",
              "      <td>0</td>\n",
              "    </tr>\n",
              "    <tr>\n",
              "      <th>1</th>\n",
              "      <td>O=c1[nH]c(=O)n([C@@H]2C[C@@H](O)[C@H](CO)O2)cc1Br</td>\n",
              "      <td>ZINC000000001063</td>\n",
              "      <td>0</td>\n",
              "    </tr>\n",
              "    <tr>\n",
              "      <th>2</th>\n",
              "      <td>Cn1c2ncn(CC(=O)N3CCOCC3)c2c(=O)n(C)c1=O</td>\n",
              "      <td>ZINC000000003942</td>\n",
              "      <td>0</td>\n",
              "    </tr>\n",
              "    <tr>\n",
              "      <th>3</th>\n",
              "      <td>CN1C(=O)C[C@H](N2CCN(C(=O)CN3CCCC3)CC2)C1=O</td>\n",
              "      <td>ZINC000000036436</td>\n",
              "      <td>0</td>\n",
              "    </tr>\n",
              "    <tr>\n",
              "      <th>4</th>\n",
              "      <td>CC(=O)NC[C@H](O)[C@H]1O[C@H]2OC(C)(C)O[C@H]2[C...</td>\n",
              "      <td>ZINC000000041101</td>\n",
              "      <td>0</td>\n",
              "    </tr>\n",
              "  </tbody>\n",
              "</table>\n",
              "</div>\n",
              "      <button class=\"colab-df-convert\" onclick=\"convertToInteractive('df-e6dc689f-95c6-464f-afab-ba472aed0b44')\"\n",
              "              title=\"Convert this dataframe to an interactive table.\"\n",
              "              style=\"display:none;\">\n",
              "        \n",
              "  <svg xmlns=\"http://www.w3.org/2000/svg\" height=\"24px\"viewBox=\"0 0 24 24\"\n",
              "       width=\"24px\">\n",
              "    <path d=\"M0 0h24v24H0V0z\" fill=\"none\"/>\n",
              "    <path d=\"M18.56 5.44l.94 2.06.94-2.06 2.06-.94-2.06-.94-.94-2.06-.94 2.06-2.06.94zm-11 1L8.5 8.5l.94-2.06 2.06-.94-2.06-.94L8.5 2.5l-.94 2.06-2.06.94zm10 10l.94 2.06.94-2.06 2.06-.94-2.06-.94-.94-2.06-.94 2.06-2.06.94z\"/><path d=\"M17.41 7.96l-1.37-1.37c-.4-.4-.92-.59-1.43-.59-.52 0-1.04.2-1.43.59L10.3 9.45l-7.72 7.72c-.78.78-.78 2.05 0 2.83L4 21.41c.39.39.9.59 1.41.59.51 0 1.02-.2 1.41-.59l7.78-7.78 2.81-2.81c.8-.78.8-2.07 0-2.86zM5.41 20L4 18.59l7.72-7.72 1.47 1.35L5.41 20z\"/>\n",
              "  </svg>\n",
              "      </button>\n",
              "      \n",
              "  <style>\n",
              "    .colab-df-container {\n",
              "      display:flex;\n",
              "      flex-wrap:wrap;\n",
              "      gap: 12px;\n",
              "    }\n",
              "\n",
              "    .colab-df-convert {\n",
              "      background-color: #E8F0FE;\n",
              "      border: none;\n",
              "      border-radius: 50%;\n",
              "      cursor: pointer;\n",
              "      display: none;\n",
              "      fill: #1967D2;\n",
              "      height: 32px;\n",
              "      padding: 0 0 0 0;\n",
              "      width: 32px;\n",
              "    }\n",
              "\n",
              "    .colab-df-convert:hover {\n",
              "      background-color: #E2EBFA;\n",
              "      box-shadow: 0px 1px 2px rgba(60, 64, 67, 0.3), 0px 1px 3px 1px rgba(60, 64, 67, 0.15);\n",
              "      fill: #174EA6;\n",
              "    }\n",
              "\n",
              "    [theme=dark] .colab-df-convert {\n",
              "      background-color: #3B4455;\n",
              "      fill: #D2E3FC;\n",
              "    }\n",
              "\n",
              "    [theme=dark] .colab-df-convert:hover {\n",
              "      background-color: #434B5C;\n",
              "      box-shadow: 0px 1px 3px 1px rgba(0, 0, 0, 0.15);\n",
              "      filter: drop-shadow(0px 1px 2px rgba(0, 0, 0, 0.3));\n",
              "      fill: #FFFFFF;\n",
              "    }\n",
              "  </style>\n",
              "\n",
              "      <script>\n",
              "        const buttonEl =\n",
              "          document.querySelector('#df-e6dc689f-95c6-464f-afab-ba472aed0b44 button.colab-df-convert');\n",
              "        buttonEl.style.display =\n",
              "          google.colab.kernel.accessAllowed ? 'block' : 'none';\n",
              "\n",
              "        async function convertToInteractive(key) {\n",
              "          const element = document.querySelector('#df-e6dc689f-95c6-464f-afab-ba472aed0b44');\n",
              "          const dataTable =\n",
              "            await google.colab.kernel.invokeFunction('convertToInteractive',\n",
              "                                                     [key], {});\n",
              "          if (!dataTable) return;\n",
              "\n",
              "          const docLinkHtml = 'Like what you see? Visit the ' +\n",
              "            '<a target=\"_blank\" href=https://colab.research.google.com/notebooks/data_table.ipynb>data table notebook</a>'\n",
              "            + ' to learn more about interactive tables.';\n",
              "          element.innerHTML = '';\n",
              "          dataTable['output_type'] = 'display_data';\n",
              "          await google.colab.output.renderOutput(dataTable, element);\n",
              "          const docLink = document.createElement('div');\n",
              "          docLink.innerHTML = docLinkHtml;\n",
              "          element.appendChild(docLink);\n",
              "        }\n",
              "      </script>\n",
              "    </div>\n",
              "  </div>\n",
              "  "
            ]
          },
          "metadata": {},
          "execution_count": 53
        }
      ],
      "source": [
        "df = pd.read_csv(\"zinc_100k.smi\",sep=\" \",header=None)\n",
        "df.columns=[\"SMILES\",\"Name\"]\n",
        "rows,cols = df.shape\n",
        "df[\"Val\"] = [0] * rows # 피처화를 위한 빈 자리\n",
        "df.head()"
      ]
    },
    {
      "cell_type": "code",
      "execution_count": 54,
      "metadata": {
        "id": "J_VKtsqoF3ax"
      },
      "outputs": [],
      "source": [
        "infile_name = \"zinc_filtered.csv\"\n",
        "df.to_csv(infile_name,index=False)"
      ]
    },
    {
      "cell_type": "markdown",
      "metadata": {
        "id": "oDXtw2sBHohF"
      },
      "source": [
        "- CSV 파일을 읽어온다\n",
        "- 모델을 사용하기 위해서 피처화된 데이터를 사용한다"
      ]
    },
    {
      "cell_type": "code",
      "execution_count": 55,
      "metadata": {
        "id": "i32zwV_DF9Sy"
      },
      "outputs": [],
      "source": [
        "loader = dc.data.CSVLoader(tasks=['Val'], feature_field=\"SMILES\", featurizer=featurizer)\n",
        "dataset = loader.create_dataset(infile_name, shard_size=8192)\n",
        "pred = model.predict(dataset)\n"
      ]
    },
    {
      "cell_type": "markdown",
      "metadata": {
        "id": "HGGxDSX6H6J9"
      },
      "source": [
        "- 활성화와 비활성화를 구분하기 위해서 점수를 시각화 한다\n",
        "- SMILES와 예측값이 있는 데이터프레임을 합친다\n",
        "- 예측값이 높은 분자를 살펴본다"
      ]
    },
    {
      "cell_type": "code",
      "execution_count": 56,
      "metadata": {
        "colab": {
          "base_uri": "https://localhost:8080/",
          "height": 386
        },
        "id": "lMnBaFNPGEFH",
        "outputId": "9de806fc-483a-46e5-caa5-65fca022f3ec"
      },
      "outputs": [
        {
          "output_type": "execute_result",
          "data": {
            "text/plain": [
              "<seaborn.axisgrid.FacetGrid at 0x7f36f0649fd0>"
            ]
          },
          "metadata": {},
          "execution_count": 56
        },
        {
          "output_type": "display_data",
          "data": {
            "text/plain": [
              "<Figure size 360x360 with 1 Axes>"
            ],
            "image/png": "[encoded data removed]"
          },
          "metadata": {
            "image/png": {
              "width": 352,
              "height": 351
            },
            "needs_background": "light"
          }
        }
      ],
      "source": [
        "pred_df = pd.DataFrame([x.flatten() for x in pred],columns=[\"Neg\",\"Pos\"])\n",
        "sns.displot(x=pred_df.Pos,kind=\"kde\",rug=True)\n"
      ]
    },
    {
      "cell_type": "code",
      "execution_count": 57,
      "metadata": {
        "id": "aRE_GxpTGJxf"
      },
      "outputs": [],
      "source": [
        "combo_df = df.join(pred_df,how=\"outer\")\n",
        "combo_df.sort_values(\"Pos\",inplace=True,ascending=False)\n"
      ]
    },
    {
      "cell_type": "code",
      "execution_count": 58,
      "metadata": {
        "collapsed": true,
        "id": "33dg10-TGO_l"
      },
      "outputs": [],
      "source": [
        "PandasTools.AddMoleculeColumnToFrame(combo_df,\"SMILES\",\"Mol\")\n",
        "# combo_df.head()\n"
      ]
    },
    {
      "cell_type": "code",
      "execution_count": 59,
      "metadata": {
        "colab": {
          "base_uri": "https://localhost:8080/",
          "height": 293
        },
        "id": "Y9ebJS80Kz_1",
        "outputId": "affd1c91-6015-49d0-e76c-0601a3be2c82"
      },
      "outputs": [
        {
          "output_type": "execute_result",
          "data": {
            "text/plain": [
              "<IPython.core.display.HTML object>"
            ],
            "text/html": [
              "<table border=\"1\" class=\"dataframe\">\n",
              "  <thead>\n",
              "    <tr style=\"text-align: right;\">\n",
              "      <th></th>\n",
              "      <th>SMILES</th>\n",
              "      <th>Name</th>\n",
              "      <th>Val</th>\n",
              "      <th>Neg</th>\n",
              "      <th>Pos</th>\n",
              "      <th>Mol</th>\n",
              "    </tr>\n",
              "  </thead>\n",
              "  <tbody>\n",
              "    <tr>\n",
              "      <th>61521</th>\n",
              "      <td>Cn1cc(-c2cccc(NC(=O)C(=O)NC(CO)CO)c2)nn1</td>\n",
              "      <td>ZINC000579375782</td>\n",
              "      <td>0</td>\n",
              "      <td>0.042611</td>\n",
              "      <td>0.957389</td>\n",
              "      <td>&lt;rdkit.Chem.rdchem.Mol object at 0x7f3679827b70&gt;</td>\n",
              "    </tr>\n",
              "    <tr>\n",
              "      <th>2038</th>\n",
              "      <td>CNC(=O)c1cn([C@H]2O[C@@H](CO)[C@@H](O)[C@@H]2O)c2ncnc(N)c12</td>\n",
              "      <td>ZINC000004824757</td>\n",
              "      <td>0</td>\n",
              "      <td>0.060342</td>\n",
              "      <td>0.939658</td>\n",
              "      <td>&lt;rdkit.Chem.rdchem.Mol object at 0x7f3692fd47b0&gt;</td>\n",
              "    </tr>\n",
              "    <tr>\n",
              "      <th>2039</th>\n",
              "      <td>CNC(=O)c1cn([C@@H]2O[C@@H](CO)[C@@H](O)[C@@H]2O)c2ncnc(N)c12</td>\n",
              "      <td>ZINC000004824758</td>\n",
              "      <td>0</td>\n",
              "      <td>0.060342</td>\n",
              "      <td>0.939658</td>\n",
              "      <td>&lt;rdkit.Chem.rdchem.Mol object at 0x7f3659672440&gt;</td>\n",
              "    </tr>\n",
              "    <tr>\n",
              "      <th>2037</th>\n",
              "      <td>CNC(=O)c1cn([C@@H]2O[C@@H](CO)[C@@H](O)[C@H]2O)c2ncnc(N)c12</td>\n",
              "      <td>ZINC000004824756</td>\n",
              "      <td>0</td>\n",
              "      <td>0.060342</td>\n",
              "      <td>0.939658</td>\n",
              "      <td>&lt;rdkit.Chem.rdchem.Mol object at 0x7f3659672530&gt;</td>\n",
              "    </tr>\n",
              "    <tr>\n",
              "      <th>2036</th>\n",
              "      <td>CNC(=O)c1cn([C@H]2O[C@@H](CO)[C@@H](O)[C@H]2O)c2ncnc(N)c12</td>\n",
              "      <td>ZINC000004824755</td>\n",
              "      <td>0</td>\n",
              "      <td>0.060342</td>\n",
              "      <td>0.939658</td>\n",
              "      <td>&lt;rdkit.Chem.rdchem.Mol object at 0x7f36596723a0&gt;</td>\n",
              "    </tr>\n",
              "  </tbody>\n",
              "</table>"
            ]
          },
          "metadata": {},
          "execution_count": 59
        }
      ],
      "source": [
        "from IPython.display import HTML\n",
        "HTML(combo_df.head().to_html())"
      ]
    },
    {
      "cell_type": "code",
      "execution_count": 60,
      "metadata": {
        "colab": {
          "base_uri": "https://localhost:8080/",
          "height": 417
        },
        "id": "KdPlhNsjGS16",
        "outputId": "35747e11-126f-4a51-cac0-46c038c9577c"
      },
      "outputs": [
        {
          "output_type": "execute_result",
          "data": {
            "image/png": "[encoded data removed]",
            "text/plain": [
              "<IPython.core.display.Image object>"
            ]
          },
          "metadata": {},
          "execution_count": 60
        }
      ],
      "source": [
        "Draw.MolsToGridImage(combo_df.Mol[:10],molsPerRow=5,legends=[\"%.2f\" % x for x in combo_df.Pos[:10]])\n"
      ]
    },
    {
      "cell_type": "markdown",
      "metadata": {
        "id": "yAZVrUJGITTy"
      },
      "source": [
        "- 예측값이 높는 분자들의 모양이 비슷한 것을 알 수 있다\n",
        "- 중복되는 것을 피하기 위해서 군집화를 수행한다\n",
        " - 화학적 유사성을 사용하는 Butina 군집화를 사용하겠다"
      ]
    },
    {
      "cell_type": "code",
      "execution_count": 61,
      "metadata": {
        "id": "ORtV-sBeGZ6A"
      },
      "outputs": [],
      "source": [
        "def butina_cluster(mol_list,cutoff=0.35):\n",
        "    fp_list = [rdmd.GetMorganFingerprintAsBitVect(m, 3, nBits=2048) for m in mol_list]\n",
        "    dists = []\n",
        "    nfps = len(fp_list)\n",
        "    for i in range(1,nfps):\n",
        "        sims = DataStructs.BulkTanimotoSimilarity(fp_list[i],fp_list[:i])\n",
        "        dists.extend([1-x for x in sims])\n",
        "    mol_clusters = Butina.ClusterData(dists,nfps,cutoff,isDistData=True)\n",
        "    cluster_id_list = [0]*nfps\n",
        "    for idx,cluster in enumerate(mol_clusters,1):\n",
        "        for member in cluster:\n",
        "            cluster_id_list[member] = idx\n",
        "    return cluster_id_list"
      ]
    },
    {
      "cell_type": "code",
      "execution_count": 62,
      "metadata": {
        "colab": {
          "base_uri": "https://localhost:8080/",
          "height": 293
        },
        "id": "fHc2FoN-GchK",
        "outputId": "7a02e373-639a-4b29-ec90-bc8d5923ecb3"
      },
      "outputs": [
        {
          "output_type": "execute_result",
          "data": {
            "text/plain": [
              "<IPython.core.display.HTML object>"
            ],
            "text/html": [
              "<table border=\"1\" class=\"dataframe\">\n",
              "  <thead>\n",
              "    <tr style=\"text-align: right;\">\n",
              "      <th></th>\n",
              "      <th>SMILES</th>\n",
              "      <th>Name</th>\n",
              "      <th>Val</th>\n",
              "      <th>Neg</th>\n",
              "      <th>Pos</th>\n",
              "      <th>Mol</th>\n",
              "      <th>Cluster</th>\n",
              "    </tr>\n",
              "  </thead>\n",
              "  <tbody>\n",
              "    <tr>\n",
              "      <th>61521</th>\n",
              "      <td>Cn1cc(-c2cccc(NC(=O)C(=O)NC(CO)CO)c2)nn1</td>\n",
              "      <td>ZINC000579375782</td>\n",
              "      <td>0</td>\n",
              "      <td>0.042611</td>\n",
              "      <td>0.957389</td>\n",
              "      <td>&lt;rdkit.Chem.rdchem.Mol object at 0x7f3679827b70&gt;</td>\n",
              "      <td>9</td>\n",
              "    </tr>\n",
              "    <tr>\n",
              "      <th>2038</th>\n",
              "      <td>CNC(=O)c1cn([C@H]2O[C@@H](CO)[C@@H](O)[C@@H]2O)c2ncnc(N)c12</td>\n",
              "      <td>ZINC000004824757</td>\n",
              "      <td>0</td>\n",
              "      <td>0.060342</td>\n",
              "      <td>0.939658</td>\n",
              "      <td>&lt;rdkit.Chem.rdchem.Mol object at 0x7f3692fd47b0&gt;</td>\n",
              "      <td>1</td>\n",
              "    </tr>\n",
              "    <tr>\n",
              "      <th>2039</th>\n",
              "      <td>CNC(=O)c1cn([C@@H]2O[C@@H](CO)[C@@H](O)[C@@H]2O)c2ncnc(N)c12</td>\n",
              "      <td>ZINC000004824758</td>\n",
              "      <td>0</td>\n",
              "      <td>0.060342</td>\n",
              "      <td>0.939658</td>\n",
              "      <td>&lt;rdkit.Chem.rdchem.Mol object at 0x7f3659672440&gt;</td>\n",
              "      <td>1</td>\n",
              "    </tr>\n",
              "    <tr>\n",
              "      <th>2037</th>\n",
              "      <td>CNC(=O)c1cn([C@@H]2O[C@@H](CO)[C@@H](O)[C@H]2O)c2ncnc(N)c12</td>\n",
              "      <td>ZINC000004824756</td>\n",
              "      <td>0</td>\n",
              "      <td>0.060342</td>\n",
              "      <td>0.939658</td>\n",
              "      <td>&lt;rdkit.Chem.rdchem.Mol object at 0x7f3659672530&gt;</td>\n",
              "      <td>1</td>\n",
              "    </tr>\n",
              "    <tr>\n",
              "      <th>2036</th>\n",
              "      <td>CNC(=O)c1cn([C@H]2O[C@@H](CO)[C@@H](O)[C@H]2O)c2ncnc(N)c12</td>\n",
              "      <td>ZINC000004824755</td>\n",
              "      <td>0</td>\n",
              "      <td>0.060342</td>\n",
              "      <td>0.939658</td>\n",
              "      <td>&lt;rdkit.Chem.rdchem.Mol object at 0x7f36596723a0&gt;</td>\n",
              "      <td>1</td>\n",
              "    </tr>\n",
              "  </tbody>\n",
              "</table>"
            ]
          },
          "metadata": {},
          "execution_count": 62
        }
      ],
      "source": [
        "best_100_df = combo_df.head(100).copy()\n",
        "best_100_df[\"Cluster\"] = butina_cluster(best_100_df.Mol)\n",
        "# best_100_df.head()\n",
        "HTML(best_100_df.head().to_html())\n"
      ]
    },
    {
      "cell_type": "code",
      "execution_count": 63,
      "metadata": {
        "colab": {
          "base_uri": "https://localhost:8080/"
        },
        "id": "M-fIqQtgGh9E",
        "outputId": "f9972864-2121-4b80-89c8-13a909b68f62"
      },
      "outputs": [
        {
          "output_type": "execute_result",
          "data": {
            "text/plain": [
              "(44, 7)"
            ]
          },
          "metadata": {},
          "execution_count": 63
        }
      ],
      "source": [
        "len(best_100_df.Cluster.unique())\n",
        "best_cluster_rep_df = best_100_df.drop_duplicates(\"Cluster\")\n",
        "best_cluster_rep_df.shape"
      ]
    },
    {
      "cell_type": "code",
      "execution_count": 64,
      "metadata": {
        "id": "EWzpTHO2GnzB"
      },
      "outputs": [],
      "source": [
        "# 파일로 저장하기\n",
        "best_cluster_rep_df.to_csv(\"best_cluster_represenatives.csv\")\n"
      ]
    },
    {
      "cell_type": "code",
      "execution_count": 64,
      "metadata": {
        "id": "QrK0r5xzImRm"
      },
      "outputs": [],
      "source": []
    }
  ],
  "metadata": {
    "accelerator": "GPU",
    "colab": {
      "collapsed_sections": [],
      "provenance": []
    },
    "kernelspec": {
      "display_name": "Python 3",
      "language": "python",
      "name": "python3"
    },
    "language_info": {
      "codemirror_mode": {
        "name": "ipython",
        "version": 3
      },
      "file_extension": ".py",
      "mimetype": "text/x-python",
      "name": "python",
      "nbconvert_exporter": "python",
      "pygments_lexer": "ipython3",
      "version": "3.8.8"
    },
    "toc": {
      "base_numbering": 1,
      "nav_menu": {},
      "number_sections": false,
      "sideBar": true,
      "skip_h1_title": false,
      "title_cell": "Table of Contents",
      "title_sidebar": "Contents",
      "toc_cell": false,
      "toc_position": {},
      "toc_section_display": true,
      "toc_window_display": false
    },
    "widgets": {
      "application/vnd.jupyter.widget-state+json": {
        "9b7386bd8fd342529afad27f52802af3": {
          "model_module": "@jupyter-widgets/controls",
          "model_name": "HBoxModel",
          "model_module_version": "1.5.0",
          "state": {
            "_dom_classes": [],
            "_model_module": "@jupyter-widgets/controls",
            "_model_module_version": "1.5.0",
            "_model_name": "HBoxModel",
            "_view_count": null,
            "_view_module": "@jupyter-widgets/controls",
            "_view_module_version": "1.5.0",
            "_view_name": "HBoxView",
            "box_style": "",
            "children": [
              "IPY_MODEL_be4ed51b904d401786e2f17a325bd6ab",
              "IPY_MODEL_bb4ac07a83d3442fa2bd1561590abfde",
              "IPY_MODEL_02451f44ca9747498bf64e1e60cca371"
            ],
            "layout": "IPY_MODEL_1c271c7496314644a94e4118ca0cdfe2"
          }
        },
        "be4ed51b904d401786e2f17a325bd6ab": {
          "model_module": "@jupyter-widgets/controls",
          "model_name": "HTMLModel",
          "model_module_version": "1.5.0",
          "state": {
            "_dom_classes": [],
            "_model_module": "@jupyter-widgets/controls",
            "_model_module_version": "1.5.0",
            "_model_name": "HTMLModel",
            "_view_count": null,
            "_view_module": "@jupyter-widgets/controls",
            "_view_module_version": "1.5.0",
            "_view_name": "HTMLView",
            "description": "",
            "description_tooltip": null,
            "layout": "IPY_MODEL_973cd86810a24c7eb12489f921130430",
            "placeholder": "​",
            "style": "IPY_MODEL_7e7d05be72804625a4305660d90ba22b",
            "value": "100%"
          }
        },
        "bb4ac07a83d3442fa2bd1561590abfde": {
          "model_module": "@jupyter-widgets/controls",
          "model_name": "FloatProgressModel",
          "model_module_version": "1.5.0",
          "state": {
            "_dom_classes": [],
            "_model_module": "@jupyter-widgets/controls",
            "_model_module_version": "1.5.0",
            "_model_name": "FloatProgressModel",
            "_view_count": null,
            "_view_module": "@jupyter-widgets/controls",
            "_view_module_version": "1.5.0",
            "_view_name": "ProgressView",
            "bar_style": "success",
            "description": "",
            "description_tooltip": null,
            "layout": "IPY_MODEL_3d82f8b65fb54066b2033305df08d0bf",
            "max": 5,
            "min": 0,
            "orientation": "horizontal",
            "style": "IPY_MODEL_b445e27115ec4e3dbe93f6fc3068c0ce",
            "value": 5
          }
        },
        "02451f44ca9747498bf64e1e60cca371": {
          "model_module": "@jupyter-widgets/controls",
          "model_name": "HTMLModel",
          "model_module_version": "1.5.0",
          "state": {
            "_dom_classes": [],
            "_model_module": "@jupyter-widgets/controls",
            "_model_module_version": "1.5.0",
            "_model_name": "HTMLModel",
            "_view_count": null,
            "_view_module": "@jupyter-widgets/controls",
            "_view_module_version": "1.5.0",
            "_view_name": "HTMLView",
            "description": "",
            "description_tooltip": null,
            "layout": "IPY_MODEL_b9f43307ef524d168b06991b69d9c0c2",
            "placeholder": "​",
            "style": "IPY_MODEL_72623085da8e4aa9b34bc1edcf4c254d",
            "value": " 5/5 [01:24&lt;00:00, 15.81s/it]"
          }
        },
        "1c271c7496314644a94e4118ca0cdfe2": {
          "model_module": "@jupyter-widgets/base",
          "model_name": "LayoutModel",
          "model_module_version": "1.2.0",
          "state": {
            "_model_module": "@jupyter-widgets/base",
            "_model_module_version": "1.2.0",
            "_model_name": "LayoutModel",
            "_view_count": null,
            "_view_module": "@jupyter-widgets/base",
            "_view_module_version": "1.2.0",
            "_view_name": "LayoutView",
            "align_content": null,
            "align_items": null,
            "align_self": null,
            "border": null,
            "bottom": null,
            "display": null,
            "flex": null,
            "flex_flow": null,
            "grid_area": null,
            "grid_auto_columns": null,
            "grid_auto_flow": null,
            "grid_auto_rows": null,
            "grid_column": null,
            "grid_gap": null,
            "grid_row": null,
            "grid_template_areas": null,
            "grid_template_columns": null,
            "grid_template_rows": null,
            "height": null,
            "justify_content": null,
            "justify_items": null,
            "left": null,
            "margin": null,
            "max_height": null,
            "max_width": null,
            "min_height": null,
            "min_width": null,
            "object_fit": null,
            "object_position": null,
            "order": null,
            "overflow": null,
            "overflow_x": null,
            "overflow_y": null,
            "padding": null,
            "right": null,
            "top": null,
            "visibility": null,
            "width": null
          }
        },
        "973cd86810a24c7eb12489f921130430": {
          "model_module": "@jupyter-widgets/base",
          "model_name": "LayoutModel",
          "model_module_version": "1.2.0",
          "state": {
            "_model_module": "@jupyter-widgets/base",
            "_model_module_version": "1.2.0",
            "_model_name": "LayoutModel",
            "_view_count": null,
            "_view_module": "@jupyter-widgets/base",
            "_view_module_version": "1.2.0",
            "_view_name": "LayoutView",
            "align_content": null,
            "align_items": null,
            "align_self": null,
            "border": null,
            "bottom": null,
            "display": null,
            "flex": null,
            "flex_flow": null,
            "grid_area": null,
            "grid_auto_columns": null,
            "grid_auto_flow": null,
            "grid_auto_rows": null,
            "grid_column": null,
            "grid_gap": null,
            "grid_row": null,
            "grid_template_areas": null,
            "grid_template_columns": null,
            "grid_template_rows": null,
            "height": null,
            "justify_content": null,
            "justify_items": null,
            "left": null,
            "margin": null,
            "max_height": null,
            "max_width": null,
            "min_height": null,
            "min_width": null,
            "object_fit": null,
            "object_position": null,
            "order": null,
            "overflow": null,
            "overflow_x": null,
            "overflow_y": null,
            "padding": null,
            "right": null,
            "top": null,
            "visibility": null,
            "width": null
          }
        },
        "7e7d05be72804625a4305660d90ba22b": {
          "model_module": "@jupyter-widgets/controls",
          "model_name": "DescriptionStyleModel",
          "model_module_version": "1.5.0",
          "state": {
            "_model_module": "@jupyter-widgets/controls",
            "_model_module_version": "1.5.0",
            "_model_name": "DescriptionStyleModel",
            "_view_count": null,
            "_view_module": "@jupyter-widgets/base",
            "_view_module_version": "1.2.0",
            "_view_name": "StyleView",
            "description_width": ""
          }
        },
        "3d82f8b65fb54066b2033305df08d0bf": {
          "model_module": "@jupyter-widgets/base",
          "model_name": "LayoutModel",
          "model_module_version": "1.2.0",
          "state": {
            "_model_module": "@jupyter-widgets/base",
            "_model_module_version": "1.2.0",
            "_model_name": "LayoutModel",
            "_view_count": null,
            "_view_module": "@jupyter-widgets/base",
            "_view_module_version": "1.2.0",
            "_view_name": "LayoutView",
            "align_content": null,
            "align_items": null,
            "align_self": null,
            "border": null,
            "bottom": null,
            "display": null,
            "flex": null,
            "flex_flow": null,
            "grid_area": null,
            "grid_auto_columns": null,
            "grid_auto_flow": null,
            "grid_auto_rows": null,
            "grid_column": null,
            "grid_gap": null,
            "grid_row": null,
            "grid_template_areas": null,
            "grid_template_columns": null,
            "grid_template_rows": null,
            "height": null,
            "justify_content": null,
            "justify_items": null,
            "left": null,
            "margin": null,
            "max_height": null,
            "max_width": null,
            "min_height": null,
            "min_width": null,
            "object_fit": null,
            "object_position": null,
            "order": null,
            "overflow": null,
            "overflow_x": null,
            "overflow_y": null,
            "padding": null,
            "right": null,
            "top": null,
            "visibility": null,
            "width": null
          }
        },
        "b445e27115ec4e3dbe93f6fc3068c0ce": {
          "model_module": "@jupyter-widgets/controls",
          "model_name": "ProgressStyleModel",
          "model_module_version": "1.5.0",
          "state": {
            "_model_module": "@jupyter-widgets/controls",
            "_model_module_version": "1.5.0",
            "_model_name": "ProgressStyleModel",
            "_view_count": null,
            "_view_module": "@jupyter-widgets/base",
            "_view_module_version": "1.2.0",
            "_view_name": "StyleView",
            "bar_color": null,
            "description_width": ""
          }
        },
        "b9f43307ef524d168b06991b69d9c0c2": {
          "model_module": "@jupyter-widgets/base",
          "model_name": "LayoutModel",
          "model_module_version": "1.2.0",
          "state": {
            "_model_module": "@jupyter-widgets/base",
            "_model_module_version": "1.2.0",
            "_model_name": "LayoutModel",
            "_view_count": null,
            "_view_module": "@jupyter-widgets/base",
            "_view_module_version": "1.2.0",
            "_view_name": "LayoutView",
            "align_content": null,
            "align_items": null,
            "align_self": null,
            "border": null,
            "bottom": null,
            "display": null,
            "flex": null,
            "flex_flow": null,
            "grid_area": null,
            "grid_auto_columns": null,
            "grid_auto_flow": null,
            "grid_auto_rows": null,
            "grid_column": null,
            "grid_gap": null,
            "grid_row": null,
            "grid_template_areas": null,
            "grid_template_columns": null,
            "grid_template_rows": null,
            "height": null,
            "justify_content": null,
            "justify_items": null,
            "left": null,
            "margin": null,
            "max_height": null,
            "max_width": null,
            "min_height": null,
            "min_width": null,
            "object_fit": null,
            "object_position": null,
            "order": null,
            "overflow": null,
            "overflow_x": null,
            "overflow_y": null,
            "padding": null,
            "right": null,
            "top": null,
            "visibility": null,
            "width": null
          }
        },
        "72623085da8e4aa9b34bc1edcf4c254d": {
          "model_module": "@jupyter-widgets/controls",
          "model_name": "DescriptionStyleModel",
          "model_module_version": "1.5.0",
          "state": {
            "_model_module": "@jupyter-widgets/controls",
            "_model_module_version": "1.5.0",
            "_model_name": "DescriptionStyleModel",
            "_view_count": null,
            "_view_module": "@jupyter-widgets/base",
            "_view_module_version": "1.2.0",
            "_view_name": "StyleView",
            "description_width": ""
          }
        }
      }
    }
  },
  "nbformat": 4,
  "nbformat_minor": 0
}